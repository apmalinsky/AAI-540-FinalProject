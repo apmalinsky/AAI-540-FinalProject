{
 "cells": [
  {
   "cell_type": "markdown",
   "id": "cb62fd16-751c-4685-b76e-6c1e6bc6a7dd",
   "metadata": {},
   "source": [
    "The dataset was downloaded locally from Hugging Face [here](https://huggingface.co/datasets/openfoodfacts/product-database/blob/main/food.parquet), then uploaded to our public S3 bucket."
   ]
  },
  {
   "cell_type": "code",
   "execution_count": 1,
   "id": "40f694e3-ec70-40a9-9b7d-db77d4dfd69b",
   "metadata": {
    "execution": {
     "iopub.execute_input": "2025-09-21T16:41:21.303461Z",
     "iopub.status.busy": "2025-09-21T16:41:21.303214Z",
     "iopub.status.idle": "2025-09-21T16:41:27.286770Z",
     "shell.execute_reply": "2025-09-21T16:41:27.286080Z",
     "shell.execute_reply.started": "2025-09-21T16:41:21.303437Z"
    }
   },
   "outputs": [
    {
     "name": "stdout",
     "output_type": "stream",
     "text": [
      "Requirement already satisfied: boto3 in /opt/conda/lib/python3.12/site-packages (1.37.1)\n",
      "Collecting boto3\n",
      "  Downloading boto3-1.40.35-py3-none-any.whl.metadata (6.7 kB)\n",
      "Requirement already satisfied: botocore in /opt/conda/lib/python3.12/site-packages (1.37.1)\n",
      "Collecting botocore\n",
      "  Downloading botocore-1.40.35-py3-none-any.whl.metadata (5.7 kB)\n",
      "Collecting awscli\n",
      "  Downloading awscli-1.42.35-py3-none-any.whl.metadata (11 kB)\n",
      "Requirement already satisfied: jmespath<2.0.0,>=0.7.1 in /opt/conda/lib/python3.12/site-packages (from boto3) (1.0.1)\n",
      "Collecting s3transfer<0.15.0,>=0.14.0 (from boto3)\n",
      "  Using cached s3transfer-0.14.0-py3-none-any.whl.metadata (1.7 kB)\n",
      "Requirement already satisfied: python-dateutil<3.0.0,>=2.1 in /opt/conda/lib/python3.12/site-packages (from botocore) (2.9.0.post0)\n",
      "Requirement already satisfied: urllib3!=2.2.0,<3,>=1.25.4 in /opt/conda/lib/python3.12/site-packages (from botocore) (1.26.19)\n",
      "Requirement already satisfied: six>=1.5 in /opt/conda/lib/python3.12/site-packages (from python-dateutil<3.0.0,>=2.1->botocore) (1.17.0)\n",
      "Collecting docutils<=0.19,>=0.18.1 (from awscli)\n",
      "  Using cached docutils-0.19-py3-none-any.whl.metadata (2.7 kB)\n",
      "Requirement already satisfied: PyYAML<6.1,>=3.10 in /opt/conda/lib/python3.12/site-packages (from awscli) (6.0.2)\n",
      "Requirement already satisfied: colorama<0.4.7,>=0.2.5 in /opt/conda/lib/python3.12/site-packages (from awscli) (0.4.6)\n",
      "Collecting rsa<4.8,>=3.1.2 (from awscli)\n",
      "  Using cached rsa-4.7.2-py3-none-any.whl.metadata (3.6 kB)\n",
      "Requirement already satisfied: pyasn1>=0.1.3 in /opt/conda/lib/python3.12/site-packages (from rsa<4.8,>=3.1.2->awscli) (0.6.1)\n",
      "Downloading boto3-1.40.35-py3-none-any.whl (139 kB)\n",
      "Downloading botocore-1.40.35-py3-none-any.whl (14.0 MB)\n",
      "\u001b[2K   \u001b[90m━━━━━━━━━━━━━━━━━━━━━━━━━━━━━━━━━━━━━━━━\u001b[0m \u001b[32m14.0/14.0 MB\u001b[0m \u001b[31m260.9 MB/s\u001b[0m  \u001b[33m0:00:00\u001b[0m\n",
      "\u001b[?25hUsing cached s3transfer-0.14.0-py3-none-any.whl (85 kB)\n",
      "Downloading awscli-1.42.35-py3-none-any.whl (4.7 MB)\n",
      "\u001b[2K   \u001b[90m━━━━━━━━━━━━━━━━━━━━━━━━━━━━━━━━━━━━━━━━\u001b[0m \u001b[32m4.7/4.7 MB\u001b[0m \u001b[31m222.8 MB/s\u001b[0m  \u001b[33m0:00:00\u001b[0m\n",
      "\u001b[?25hUsing cached docutils-0.19-py3-none-any.whl (570 kB)\n",
      "Using cached rsa-4.7.2-py3-none-any.whl (34 kB)\n",
      "Installing collected packages: rsa, docutils, botocore, s3transfer, boto3, awscli\n",
      "\u001b[2K  Attempting uninstall: rsa\n",
      "\u001b[2K    Found existing installation: rsa 4.9.1\n",
      "\u001b[2K    Uninstalling rsa-4.9.1:\n",
      "\u001b[2K      Successfully uninstalled rsa-4.9.1\n",
      "\u001b[2K  Attempting uninstall: botocorem━━━━━━━━━━━━━━━━━━━━━━━━━━━━━━━━━\u001b[0m \u001b[32m1/6\u001b[0m [docutils]\n",
      "\u001b[2K    Found existing installation: botocore 1.37.1━━━━━━━━━━━━━━\u001b[0m \u001b[32m1/6\u001b[0m [docutils]\n",
      "\u001b[2K    Uninstalling botocore-1.37.1:━━━━━━━━━━━━━━━━━━━━━━━━━━━━━\u001b[0m \u001b[32m1/6\u001b[0m [docutils]\n",
      "\u001b[2K      Successfully uninstalled botocore-1.37.1━━━━━━━━━━━━━━━━\u001b[0m \u001b[32m1/6\u001b[0m [docutils]\n",
      "\u001b[2K  Attempting uninstall: s3transferm\u001b[90m━━━━━━━━━━━━━━━━━━━━━━━━━━\u001b[0m \u001b[32m2/6\u001b[0m [botocore]\n",
      "\u001b[2K    Found existing installation: s3transfer 0.11.3━━━━━━━━━━━━\u001b[0m \u001b[32m2/6\u001b[0m [botocore]\n",
      "\u001b[2K    Uninstalling s3transfer-0.11.3:m━━━━━━━━━━━━━━━━━━━━━━━━━━\u001b[0m \u001b[32m2/6\u001b[0m [botocore]\n",
      "\u001b[2K      Successfully uninstalled s3transfer-0.11.3━━━━━━━━━━━━━━\u001b[0m \u001b[32m2/6\u001b[0m [botocore]\n",
      "\u001b[2K  Attempting uninstall: boto3[0m\u001b[90m╺\u001b[0m\u001b[90m━━━━━━━━━━━━━━━━━━━\u001b[0m \u001b[32m3/6\u001b[0m [s3transfer]\n",
      "\u001b[2K    Found existing installation: boto3 1.37.1━━━━━━━━━━━━━━━━━\u001b[0m \u001b[32m3/6\u001b[0m [s3transfer]\n",
      "\u001b[2K    Uninstalling boto3-1.37.1:90m╺\u001b[0m\u001b[90m━━━━━━━━━━━━━━━━━━━\u001b[0m \u001b[32m3/6\u001b[0m [s3transfer]\n",
      "\u001b[2K      Successfully uninstalled boto3-1.37.1━━━━━━━━━━━━━━━━━━━\u001b[0m \u001b[32m3/6\u001b[0m [s3transfer]\n",
      "\u001b[2K   \u001b[90m━━━━━━━━━━━━━━━━━━━━━━━━━━━━━━━━━━━━━━━━\u001b[0m \u001b[32m6/6\u001b[0m [awscli]2m5/6\u001b[0m [awscli]\n",
      "\u001b[1A\u001b[2K\u001b[31mERROR: pip's dependency resolver does not currently take into account all the packages that are installed. This behaviour is the source of the following dependency conflicts.\n",
      "autogluon-multimodal 1.4.0 requires nvidia-ml-py3<8.0,>=7.352.0, which is not installed.\n",
      "aiobotocore 2.21.1 requires botocore<1.37.2,>=1.37.0, but you have botocore 1.40.35 which is incompatible.\n",
      "autogluon-multimodal 1.4.0 requires transformers[sentencepiece]<4.50,>=4.38.0, but you have transformers 4.55.2 which is incompatible.\n",
      "autogluon-timeseries 1.4.0 requires transformers[sentencepiece]<4.50,>=4.38.0, but you have transformers 4.55.2 which is incompatible.\n",
      "sagemaker-studio-analytics-extension 0.2.0 requires sparkmagic==0.22.0, but you have sparkmagic 0.21.0 which is incompatible.\u001b[0m\u001b[31m\n",
      "\u001b[0mSuccessfully installed awscli-1.42.35 boto3-1.40.35 botocore-1.40.35 docutils-0.19 rsa-4.7.2 s3transfer-0.14.0\n"
     ]
    }
   ],
   "source": [
    "# Install dependencies\n",
    "!pip install --upgrade boto3 botocore awscli"
   ]
  },
  {
   "cell_type": "code",
   "execution_count": 2,
   "id": "1965234f-8c8f-4072-955e-72cc07a410f6",
   "metadata": {
    "execution": {
     "iopub.execute_input": "2025-09-21T16:41:27.287876Z",
     "iopub.status.busy": "2025-09-21T16:41:27.287642Z",
     "iopub.status.idle": "2025-09-21T16:41:29.002515Z",
     "shell.execute_reply": "2025-09-21T16:41:29.002017Z",
     "shell.execute_reply.started": "2025-09-21T16:41:27.287847Z"
    }
   },
   "outputs": [
    {
     "name": "stdout",
     "output_type": "stream",
     "text": [
      "sagemaker.config INFO - Not applying SDK defaults from location: /etc/xdg/sagemaker/config.yaml\n",
      "sagemaker.config INFO - Not applying SDK defaults from location: /home/sagemaker-user/.config/sagemaker/config.yaml\n"
     ]
    }
   ],
   "source": [
    "# Import libraries\n",
    "import boto3\n",
    "import sagemaker\n",
    "from pyathena import connect\n",
    "import pandas as pd\n",
    "import time"
   ]
  },
  {
   "cell_type": "markdown",
   "id": "754d8ff4-4584-407b-9ae2-7184a65518c5",
   "metadata": {},
   "source": [
    "# Setup Athena Database and Query Engine"
   ]
  },
  {
   "cell_type": "code",
   "execution_count": 3,
   "id": "28b06fbf-b1b2-4369-80ba-704d7920a156",
   "metadata": {
    "execution": {
     "iopub.execute_input": "2025-09-21T16:41:30.096172Z",
     "iopub.status.busy": "2025-09-21T16:41:30.095909Z",
     "iopub.status.idle": "2025-09-21T16:41:30.673467Z",
     "shell.execute_reply": "2025-09-21T16:41:30.672839Z",
     "shell.execute_reply.started": "2025-09-21T16:41:30.096151Z"
    }
   },
   "outputs": [
    {
     "name": "stdout",
     "output_type": "stream",
     "text": [
      "Boto and Sagemaker Sessions Initialized...\n",
      "Bucket: sagemaker-us-east-1-975049911265\n",
      "Region: us-east-1\n"
     ]
    }
   ],
   "source": [
    "# Setup boto and sagemaker session\n",
    "sess = sagemaker.Session()\n",
    "bucket = sess.default_bucket()\n",
    "role = sagemaker.get_execution_role()\n",
    "region = boto3.Session().region_name\n",
    "print('Boto and Sagemaker Sessions Initialized...\\nBucket: {0}\\nRegion: {1}'.format(bucket, region))"
   ]
  },
  {
   "cell_type": "markdown",
   "id": "f057cd3d-fa48-48df-b8da-5a4a0ef20dbf",
   "metadata": {},
   "source": [
    "## Verify Access to Dataset from Public S3 Bucket"
   ]
  },
  {
   "cell_type": "code",
   "execution_count": 4,
   "id": "f5a16d0d-2a54-49c9-8aec-90cf7f1dd6f8",
   "metadata": {
    "execution": {
     "iopub.execute_input": "2025-09-21T16:41:33.183595Z",
     "iopub.status.busy": "2025-09-21T16:41:33.183333Z",
     "iopub.status.idle": "2025-09-21T16:41:33.932033Z",
     "shell.execute_reply": "2025-09-21T16:41:33.931401Z",
     "shell.execute_reply.started": "2025-09-21T16:41:33.183577Z"
    }
   },
   "outputs": [
    {
     "name": "stdout",
     "output_type": "stream",
     "text": [
      "2025-09-18 04:28:03 4253536290 food.parquet\n"
     ]
    }
   ],
   "source": [
    "# Verify the public S3 bucket contents\n",
    "!aws s3 ls s3://aai-540-openfoodfacts/"
   ]
  },
  {
   "cell_type": "code",
   "execution_count": 5,
   "id": "0009c7df-76b9-4662-a1b7-ee183e2ef395",
   "metadata": {
    "execution": {
     "iopub.execute_input": "2025-09-21T16:41:37.484569Z",
     "iopub.status.busy": "2025-09-21T16:41:37.484261Z",
     "iopub.status.idle": "2025-09-21T16:41:37.489445Z",
     "shell.execute_reply": "2025-09-21T16:41:37.488914Z",
     "shell.execute_reply.started": "2025-09-21T16:41:37.484544Z"
    }
   },
   "outputs": [
    {
     "name": "stdout",
     "output_type": "stream",
     "text": [
      "Stored 's3_public_folder_path' (str)\n",
      "Stored 's3_public_path_parquet' (str)\n"
     ]
    }
   ],
   "source": [
    "# Set S3 source location (public S3 bucket)\n",
    "s3_public_folder_path = \"s3://aai-540-openfoodfacts\"\n",
    "s3_public_path_parquet = \"s3://aai-540-openfoodfacts/food.parquet\"\n",
    "%store s3_public_folder_path\n",
    "%store s3_public_path_parquet"
   ]
  },
  {
   "cell_type": "markdown",
   "id": "9c4af8e8-cb94-4fde-a888-6a4fcacbf4bb",
   "metadata": {},
   "source": [
    "## Create Athena Database"
   ]
  },
  {
   "cell_type": "code",
   "execution_count": 6,
   "id": "6fa8d577-6444-4f92-ae2a-9c76b4782223",
   "metadata": {
    "execution": {
     "iopub.execute_input": "2025-09-21T16:42:15.927585Z",
     "iopub.status.busy": "2025-09-21T16:42:15.927333Z",
     "iopub.status.idle": "2025-09-21T16:42:16.009625Z",
     "shell.execute_reply": "2025-09-21T16:42:16.009089Z",
     "shell.execute_reply.started": "2025-09-21T16:42:15.927564Z"
    }
   },
   "outputs": [],
   "source": [
    "# Initialize our database name\n",
    "database_name = 'foodfacts'\n",
    "\n",
    "# Set S3 staging directory\n",
    "s3_staging_dir = \"s3://{0}/athena/staging\".format(bucket)\n",
    "\n",
    "# Create connection to Athena database\n",
    "conn = connect(region_name=region, s3_staging_dir=s3_staging_dir)"
   ]
  },
  {
   "cell_type": "code",
   "execution_count": 7,
   "id": "75afeff1-9774-4307-87df-1e2f4d5efb15",
   "metadata": {
    "execution": {
     "iopub.execute_input": "2025-09-21T16:42:16.668734Z",
     "iopub.status.busy": "2025-09-21T16:42:16.668485Z",
     "iopub.status.idle": "2025-09-21T16:42:18.348854Z",
     "shell.execute_reply": "2025-09-21T16:42:18.348322Z",
     "shell.execute_reply.started": "2025-09-21T16:42:16.668716Z"
    }
   },
   "outputs": [
    {
     "name": "stdout",
     "output_type": "stream",
     "text": [
      "CREATE DATABASE IF NOT EXISTS foodfacts\n"
     ]
    },
    {
     "name": "stderr",
     "output_type": "stream",
     "text": [
      "/tmp/ipykernel_10950/2456362127.py:4: UserWarning: pandas only supports SQLAlchemy connectable (engine/connection) or database string URI or sqlite3 DBAPI2 connection. Other DBAPI2 objects are not tested. Please consider using SQLAlchemy.\n",
      "  pd.read_sql(statement, conn)\n"
     ]
    },
    {
     "data": {
      "text/html": [
       "<div>\n",
       "<style scoped>\n",
       "    .dataframe tbody tr th:only-of-type {\n",
       "        vertical-align: middle;\n",
       "    }\n",
       "\n",
       "    .dataframe tbody tr th {\n",
       "        vertical-align: top;\n",
       "    }\n",
       "\n",
       "    .dataframe thead th {\n",
       "        text-align: right;\n",
       "    }\n",
       "</style>\n",
       "<table border=\"1\" class=\"dataframe\">\n",
       "  <thead>\n",
       "    <tr style=\"text-align: right;\">\n",
       "      <th></th>\n",
       "    </tr>\n",
       "  </thead>\n",
       "  <tbody>\n",
       "  </tbody>\n",
       "</table>\n",
       "</div>"
      ],
      "text/plain": [
       "Empty DataFrame\n",
       "Columns: []\n",
       "Index: []"
      ]
     },
     "execution_count": 7,
     "metadata": {},
     "output_type": "execute_result"
    }
   ],
   "source": [
    "# Create our database\n",
    "statement = \"CREATE DATABASE IF NOT EXISTS {}\".format(database_name)\n",
    "print(statement)\n",
    "pd.read_sql(statement, conn)"
   ]
  },
  {
   "cell_type": "code",
   "execution_count": 8,
   "id": "6a255540-f04d-40d0-bf3c-2416b68347a4",
   "metadata": {
    "execution": {
     "iopub.execute_input": "2025-09-21T16:42:18.349996Z",
     "iopub.status.busy": "2025-09-21T16:42:18.349702Z",
     "iopub.status.idle": "2025-09-21T16:42:19.590418Z",
     "shell.execute_reply": "2025-09-21T16:42:19.589891Z",
     "shell.execute_reply.started": "2025-09-21T16:42:18.349967Z"
    }
   },
   "outputs": [
    {
     "name": "stderr",
     "output_type": "stream",
     "text": [
      "/tmp/ipykernel_10950/1984110621.py:3: UserWarning: pandas only supports SQLAlchemy connectable (engine/connection) or database string URI or sqlite3 DBAPI2 connection. Other DBAPI2 objects are not tested. Please consider using SQLAlchemy.\n",
      "  df_show = pd.read_sql(statement, conn)\n"
     ]
    },
    {
     "data": {
      "text/html": [
       "<div>\n",
       "<style scoped>\n",
       "    .dataframe tbody tr th:only-of-type {\n",
       "        vertical-align: middle;\n",
       "    }\n",
       "\n",
       "    .dataframe tbody tr th {\n",
       "        vertical-align: top;\n",
       "    }\n",
       "\n",
       "    .dataframe thead th {\n",
       "        text-align: right;\n",
       "    }\n",
       "</style>\n",
       "<table border=\"1\" class=\"dataframe\">\n",
       "  <thead>\n",
       "    <tr style=\"text-align: right;\">\n",
       "      <th></th>\n",
       "      <th>database_name</th>\n",
       "    </tr>\n",
       "  </thead>\n",
       "  <tbody>\n",
       "    <tr>\n",
       "      <th>0</th>\n",
       "      <td>aai540_assignment2_db</td>\n",
       "    </tr>\n",
       "    <tr>\n",
       "      <th>1</th>\n",
       "      <td>aai540_assignment2_db_csv</td>\n",
       "    </tr>\n",
       "    <tr>\n",
       "      <th>2</th>\n",
       "      <td>default</td>\n",
       "    </tr>\n",
       "    <tr>\n",
       "      <th>3</th>\n",
       "      <td>dsoaws</td>\n",
       "    </tr>\n",
       "    <tr>\n",
       "      <th>4</th>\n",
       "      <td>foodfacts</td>\n",
       "    </tr>\n",
       "  </tbody>\n",
       "</table>\n",
       "</div>"
      ],
      "text/plain": [
       "               database_name\n",
       "0      aai540_assignment2_db\n",
       "1  aai540_assignment2_db_csv\n",
       "2                    default\n",
       "3                     dsoaws\n",
       "4                  foodfacts"
      ]
     },
     "execution_count": 8,
     "metadata": {},
     "output_type": "execute_result"
    }
   ],
   "source": [
    "# Verify database was created\n",
    "statement = \"SHOW DATABASES\"\n",
    "df_show = pd.read_sql(statement, conn)\n",
    "df_show.head(5)"
   ]
  },
  {
   "cell_type": "markdown",
   "id": "959eb912-19a0-4e85-86a2-9406fda86b79",
   "metadata": {},
   "source": [
    "## Create and Run a Glue Crawler\n",
    "We created a glue crawler to automatically create a table of the dataset file."
   ]
  },
  {
   "cell_type": "code",
   "execution_count": 9,
   "id": "271334ac-c38f-41f7-8e74-502c8b0a262a",
   "metadata": {
    "execution": {
     "iopub.execute_input": "2025-09-21T16:42:24.748935Z",
     "iopub.status.busy": "2025-09-21T16:42:24.748652Z",
     "iopub.status.idle": "2025-09-21T16:42:25.128735Z",
     "shell.execute_reply": "2025-09-21T16:42:25.128137Z",
     "shell.execute_reply.started": "2025-09-21T16:42:24.748914Z"
    }
   },
   "outputs": [
    {
     "name": "stdout",
     "output_type": "stream",
     "text": [
      "Crawler 'food_products_crawler' created successfully.\n"
     ]
    }
   ],
   "source": [
    "# Initialize the AWS Glue client\n",
    "glue_client = boto3.client('glue', region_name=region)\n",
    "\n",
    "crawler_name = 'food_products_crawler'\n",
    "\n",
    "# Create the Glue Crawler\n",
    "try:\n",
    "    glue_client.create_crawler(\n",
    "        Name=crawler_name,\n",
    "        Role=role,\n",
    "        DatabaseName=database_name,\n",
    "        Targets={'S3Targets': [{'Path': s3_public_folder_path}]},\n",
    "    )\n",
    "    print(f\"Crawler '{crawler_name}' created successfully.\")\n",
    "except glue_client.exceptions.AlreadyExistsException:\n",
    "    print(f\"Crawler '{crawler_name}' already exists.\")"
   ]
  },
  {
   "cell_type": "code",
   "execution_count": 10,
   "id": "68b7b944-0b04-4730-9eb6-93eff4c0cdd4",
   "metadata": {
    "execution": {
     "iopub.execute_input": "2025-09-21T16:42:26.776176Z",
     "iopub.status.busy": "2025-09-21T16:42:26.775914Z",
     "iopub.status.idle": "2025-09-21T16:42:26.848829Z",
     "shell.execute_reply": "2025-09-21T16:42:26.848297Z",
     "shell.execute_reply.started": "2025-09-21T16:42:26.776157Z"
    }
   },
   "outputs": [
    {
     "name": "stdout",
     "output_type": "stream",
     "text": [
      "Crawler Name: aai540_homework2_crawler, State: READY\n",
      "Crawler Name: food_products_crawler, State: READY\n"
     ]
    }
   ],
   "source": [
    "# Verify Creation of Glue Crawler\n",
    "crawlers = glue_client.get_crawlers()\n",
    "for crawler in crawlers['Crawlers']:\n",
    "    print(f\"Crawler Name: {crawler['Name']}, State: {crawler['State']}\")"
   ]
  },
  {
   "cell_type": "code",
   "execution_count": 11,
   "id": "8a6e6641-b7c4-4a05-a135-e3cbaa13785a",
   "metadata": {
    "execution": {
     "iopub.execute_input": "2025-09-21T16:42:27.648028Z",
     "iopub.status.busy": "2025-09-21T16:42:27.647788Z",
     "iopub.status.idle": "2025-09-21T16:45:25.274387Z",
     "shell.execute_reply": "2025-09-21T16:45:25.273758Z",
     "shell.execute_reply.started": "2025-09-21T16:42:27.648009Z"
    }
   },
   "outputs": [
    {
     "name": "stdout",
     "output_type": "stream",
     "text": [
      "Starting crawler 'food_products_crawler'...\n",
      "Crawler is running...\n",
      "Crawler is running...\n",
      "Crawler is running...\n",
      "Crawler is running...\n",
      "Crawler is running...\n",
      "Crawler is stopping...\n",
      "Crawler is stopping...\n",
      "Crawler is stopping...\n",
      "Crawler is stopping...\n",
      "Crawler is stopping...\n",
      "Crawler is stopping...\n",
      "Crawler finished successfully.\n"
     ]
    }
   ],
   "source": [
    "# Start the Glue Crawler - no need to re-run \n",
    "print(f\"Starting crawler '{crawler_name}'...\")\n",
    "glue_client.start_crawler(Name=crawler_name)\n",
    "\n",
    "# Wait for the crawler to finish\n",
    "while True:\n",
    "    response = glue_client.get_crawler(Name=crawler_name)\n",
    "    state = response['Crawler']['State']\n",
    "\n",
    "    if state == 'READY':\n",
    "        print(\"Crawler finished successfully.\")\n",
    "        break\n",
    "    elif state == 'STOPPING':\n",
    "        print(\"Crawler is stopping...\")\n",
    "    elif state == 'RUNNING':\n",
    "        print(\"Crawler is running...\")\n",
    "    elif state == 'FAILED':\n",
    "        print(\"Crawler failed.\")\n",
    "        break\n",
    "    \n",
    "    time.sleep(15) # Wait 15 seconds before checking the status again"
   ]
  },
  {
   "cell_type": "code",
   "execution_count": 12,
   "id": "118e1e21-9222-4658-b4bc-ed2487daf717",
   "metadata": {
    "execution": {
     "iopub.execute_input": "2025-09-21T16:45:25.275663Z",
     "iopub.status.busy": "2025-09-21T16:45:25.275367Z",
     "iopub.status.idle": "2025-09-21T16:45:26.526067Z",
     "shell.execute_reply": "2025-09-21T16:45:26.525563Z",
     "shell.execute_reply.started": "2025-09-21T16:45:25.275630Z"
    }
   },
   "outputs": [
    {
     "name": "stderr",
     "output_type": "stream",
     "text": [
      "/tmp/ipykernel_10950/875215870.py:3: UserWarning: pandas only supports SQLAlchemy connectable (engine/connection) or database string URI or sqlite3 DBAPI2 connection. Other DBAPI2 objects are not tested. Please consider using SQLAlchemy.\n",
      "  df_show = pd.read_sql(statement, conn)\n"
     ]
    },
    {
     "data": {
      "text/html": [
       "<div>\n",
       "<style scoped>\n",
       "    .dataframe tbody tr th:only-of-type {\n",
       "        vertical-align: middle;\n",
       "    }\n",
       "\n",
       "    .dataframe tbody tr th {\n",
       "        vertical-align: top;\n",
       "    }\n",
       "\n",
       "    .dataframe thead th {\n",
       "        text-align: right;\n",
       "    }\n",
       "</style>\n",
       "<table border=\"1\" class=\"dataframe\">\n",
       "  <thead>\n",
       "    <tr style=\"text-align: right;\">\n",
       "      <th></th>\n",
       "      <th>tab_name</th>\n",
       "    </tr>\n",
       "  </thead>\n",
       "  <tbody>\n",
       "    <tr>\n",
       "      <th>0</th>\n",
       "      <td>aai_540_openfoodfacts</td>\n",
       "    </tr>\n",
       "  </tbody>\n",
       "</table>\n",
       "</div>"
      ],
      "text/plain": [
       "                tab_name\n",
       "0  aai_540_openfoodfacts"
      ]
     },
     "execution_count": 12,
     "metadata": {},
     "output_type": "execute_result"
    }
   ],
   "source": [
    "# Verify table was created from crawler\n",
    "statement = \"SHOW TABLES in {}\".format(database_name)\n",
    "df_show = pd.read_sql(statement, conn)\n",
    "df_show.head(5)"
   ]
  },
  {
   "cell_type": "code",
   "execution_count": 13,
   "id": "d76df8df-d569-40c0-93b1-f3259f52ddab",
   "metadata": {
    "execution": {
     "iopub.execute_input": "2025-09-21T16:45:26.526809Z",
     "iopub.status.busy": "2025-09-21T16:45:26.526607Z",
     "iopub.status.idle": "2025-09-21T16:45:26.530200Z",
     "shell.execute_reply": "2025-09-21T16:45:26.529711Z",
     "shell.execute_reply.started": "2025-09-21T16:45:26.526791Z"
    }
   },
   "outputs": [
    {
     "name": "stdout",
     "output_type": "stream",
     "text": [
      "Stored 'raw_table_name' (str)\n"
     ]
    }
   ],
   "source": [
    "# Save table name\n",
    "raw_table_name = \"aai_540_openfoodfacts\"\n",
    "%store raw_table_name"
   ]
  },
  {
   "cell_type": "markdown",
   "id": "e9367a54-60e1-49ae-9aa4-60556ea85162",
   "metadata": {},
   "source": [
    "## Verify Querying the Database"
   ]
  },
  {
   "cell_type": "code",
   "execution_count": 14,
   "id": "870ab0ae-4f72-430b-9ec5-a1cadf23ad35",
   "metadata": {
    "execution": {
     "iopub.execute_input": "2025-09-21T16:45:26.531403Z",
     "iopub.status.busy": "2025-09-21T16:45:26.531142Z",
     "iopub.status.idle": "2025-09-21T16:45:36.035151Z",
     "shell.execute_reply": "2025-09-21T16:45:36.034604Z",
     "shell.execute_reply.started": "2025-09-21T16:45:26.531382Z"
    }
   },
   "outputs": [
    {
     "name": "stdout",
     "output_type": "stream",
     "text": [
      "SELECT * FROM foodfacts.aai_540_openfoodfacts LIMIT 5\n"
     ]
    },
    {
     "name": "stderr",
     "output_type": "stream",
     "text": [
      "/tmp/ipykernel_10950/1746733082.py:6: UserWarning: pandas only supports SQLAlchemy connectable (engine/connection) or database string URI or sqlite3 DBAPI2 connection. Other DBAPI2 objects are not tested. Please consider using SQLAlchemy.\n",
      "  df = pd.read_sql(statement, conn)\n"
     ]
    },
    {
     "data": {
      "text/html": [
       "<div>\n",
       "<style scoped>\n",
       "    .dataframe tbody tr th:only-of-type {\n",
       "        vertical-align: middle;\n",
       "    }\n",
       "\n",
       "    .dataframe tbody tr th {\n",
       "        vertical-align: top;\n",
       "    }\n",
       "\n",
       "    .dataframe thead th {\n",
       "        text-align: right;\n",
       "    }\n",
       "</style>\n",
       "<table border=\"1\" class=\"dataframe\">\n",
       "  <thead>\n",
       "    <tr style=\"text-align: right;\">\n",
       "      <th></th>\n",
       "      <th>additives_n</th>\n",
       "      <th>additives_tags</th>\n",
       "      <th>allergens_tags</th>\n",
       "      <th>brands_tags</th>\n",
       "      <th>brands</th>\n",
       "      <th>categories</th>\n",
       "      <th>categories_tags</th>\n",
       "      <th>categories_properties</th>\n",
       "      <th>checkers_tags</th>\n",
       "      <th>ciqual_food_name_tags</th>\n",
       "      <th>...</th>\n",
       "      <th>states_tags</th>\n",
       "      <th>stores_tags</th>\n",
       "      <th>stores</th>\n",
       "      <th>traces_tags</th>\n",
       "      <th>unique_scans_n</th>\n",
       "      <th>unknown_ingredients_n</th>\n",
       "      <th>unknown_nutrients_tags</th>\n",
       "      <th>vitamins_tags</th>\n",
       "      <th>with_non_nutritive_sweeteners</th>\n",
       "      <th>with_sweeteners</th>\n",
       "    </tr>\n",
       "  </thead>\n",
       "  <tbody>\n",
       "    <tr>\n",
       "      <th>0</th>\n",
       "      <td>NaN</td>\n",
       "      <td>None</td>\n",
       "      <td>[]</td>\n",
       "      <td>[xx:boni]</td>\n",
       "      <td>Boni</td>\n",
       "      <td>Viandes et dérivés, Produits à tartiner, Viand...</td>\n",
       "      <td>[en:meats-and-their-products, en:spreads, en:m...</td>\n",
       "      <td>{'ciqual_food_code': 36016, 'agribalyse_food_c...</td>\n",
       "      <td>[]</td>\n",
       "      <td>[unknown]</td>\n",
       "      <td>...</td>\n",
       "      <td>[en:to-be-completed, en:nutrition-facts-comple...</td>\n",
       "      <td>[colruyt]</td>\n",
       "      <td>Colruyt</td>\n",
       "      <td>[]</td>\n",
       "      <td>1.0</td>\n",
       "      <td>NaN</td>\n",
       "      <td>[]</td>\n",
       "      <td>[]</td>\n",
       "      <td>None</td>\n",
       "      <td>None</td>\n",
       "    </tr>\n",
       "    <tr>\n",
       "      <th>1</th>\n",
       "      <td>0.0</td>\n",
       "      <td>[]</td>\n",
       "      <td>[]</td>\n",
       "      <td>[vegetalia]</td>\n",
       "      <td>Vegetalia</td>\n",
       "      <td>Plant-based foods and beverages, Plant-based f...</td>\n",
       "      <td>[en:plant-based-foods-and-beverages, en:plant-...</td>\n",
       "      <td>{'ciqual_food_code': None, 'agribalyse_food_co...</td>\n",
       "      <td>[]</td>\n",
       "      <td>[unknown]</td>\n",
       "      <td>...</td>\n",
       "      <td>[en:to-be-completed, en:nutrition-facts-comple...</td>\n",
       "      <td>None</td>\n",
       "      <td>None</td>\n",
       "      <td>[]</td>\n",
       "      <td>1.0</td>\n",
       "      <td>1.0</td>\n",
       "      <td>[]</td>\n",
       "      <td>[]</td>\n",
       "      <td>None</td>\n",
       "      <td>None</td>\n",
       "    </tr>\n",
       "    <tr>\n",
       "      <th>2</th>\n",
       "      <td>NaN</td>\n",
       "      <td>None</td>\n",
       "      <td>[]</td>\n",
       "      <td>[xx:colfiorito]</td>\n",
       "      <td>Colfiorito</td>\n",
       "      <td>Cibi e bevande a base vegetale, Cibi a base ve...</td>\n",
       "      <td>[en:plant-based-foods-and-beverages, en:plant-...</td>\n",
       "      <td>{'ciqual_food_code': None, 'agribalyse_food_co...</td>\n",
       "      <td>[]</td>\n",
       "      <td>None</td>\n",
       "      <td>...</td>\n",
       "      <td>[en:to-be-completed, en:nutrition-facts-comple...</td>\n",
       "      <td>None</td>\n",
       "      <td>None</td>\n",
       "      <td>[]</td>\n",
       "      <td>NaN</td>\n",
       "      <td>NaN</td>\n",
       "      <td>[]</td>\n",
       "      <td>None</td>\n",
       "      <td>None</td>\n",
       "      <td>None</td>\n",
       "    </tr>\n",
       "    <tr>\n",
       "      <th>3</th>\n",
       "      <td>2.0</td>\n",
       "      <td>[en:e407, en:e410]</td>\n",
       "      <td>[en:milk]</td>\n",
       "      <td>[umpqua-dairy]</td>\n",
       "      <td>Umpqua Dairy</td>\n",
       "      <td>Dairies, Milks, Semi-skimmed milks</td>\n",
       "      <td>[en:dairies, en:milks, en:semi-skimmed-milks]</td>\n",
       "      <td>{'ciqual_food_code': None, 'agribalyse_food_co...</td>\n",
       "      <td>[]</td>\n",
       "      <td>[unknown]</td>\n",
       "      <td>...</td>\n",
       "      <td>[en:to-be-completed, en:nutrition-facts-comple...</td>\n",
       "      <td>None</td>\n",
       "      <td>None</td>\n",
       "      <td>[]</td>\n",
       "      <td>NaN</td>\n",
       "      <td>1.0</td>\n",
       "      <td>[]</td>\n",
       "      <td>[en:retinyl-palmitate]</td>\n",
       "      <td>None</td>\n",
       "      <td>None</td>\n",
       "    </tr>\n",
       "    <tr>\n",
       "      <th>4</th>\n",
       "      <td>NaN</td>\n",
       "      <td>None</td>\n",
       "      <td>[]</td>\n",
       "      <td>None</td>\n",
       "      <td>None</td>\n",
       "      <td>None</td>\n",
       "      <td>None</td>\n",
       "      <td>{'ciqual_food_code': None, 'agribalyse_food_co...</td>\n",
       "      <td>[]</td>\n",
       "      <td>[unknown]</td>\n",
       "      <td>...</td>\n",
       "      <td>[en:to-be-completed, en:nutrition-facts-comple...</td>\n",
       "      <td>None</td>\n",
       "      <td>None</td>\n",
       "      <td>[]</td>\n",
       "      <td>NaN</td>\n",
       "      <td>NaN</td>\n",
       "      <td>[]</td>\n",
       "      <td>[]</td>\n",
       "      <td>None</td>\n",
       "      <td>None</td>\n",
       "    </tr>\n",
       "  </tbody>\n",
       "</table>\n",
       "<p>5 rows × 110 columns</p>\n",
       "</div>"
      ],
      "text/plain": [
       "   additives_n      additives_tags allergens_tags      brands_tags  \\\n",
       "0          NaN                None             []        [xx:boni]   \n",
       "1          0.0                  []             []      [vegetalia]   \n",
       "2          NaN                None             []  [xx:colfiorito]   \n",
       "3          2.0  [en:e407, en:e410]      [en:milk]   [umpqua-dairy]   \n",
       "4          NaN                None             []             None   \n",
       "\n",
       "         brands                                         categories  \\\n",
       "0          Boni  Viandes et dérivés, Produits à tartiner, Viand...   \n",
       "1     Vegetalia  Plant-based foods and beverages, Plant-based f...   \n",
       "2    Colfiorito  Cibi e bevande a base vegetale, Cibi a base ve...   \n",
       "3  Umpqua Dairy                 Dairies, Milks, Semi-skimmed milks   \n",
       "4          None                                               None   \n",
       "\n",
       "                                     categories_tags  \\\n",
       "0  [en:meats-and-their-products, en:spreads, en:m...   \n",
       "1  [en:plant-based-foods-and-beverages, en:plant-...   \n",
       "2  [en:plant-based-foods-and-beverages, en:plant-...   \n",
       "3      [en:dairies, en:milks, en:semi-skimmed-milks]   \n",
       "4                                               None   \n",
       "\n",
       "                               categories_properties checkers_tags  \\\n",
       "0  {'ciqual_food_code': 36016, 'agribalyse_food_c...            []   \n",
       "1  {'ciqual_food_code': None, 'agribalyse_food_co...            []   \n",
       "2  {'ciqual_food_code': None, 'agribalyse_food_co...            []   \n",
       "3  {'ciqual_food_code': None, 'agribalyse_food_co...            []   \n",
       "4  {'ciqual_food_code': None, 'agribalyse_food_co...            []   \n",
       "\n",
       "  ciqual_food_name_tags  ...  \\\n",
       "0             [unknown]  ...   \n",
       "1             [unknown]  ...   \n",
       "2                  None  ...   \n",
       "3             [unknown]  ...   \n",
       "4             [unknown]  ...   \n",
       "\n",
       "                                         states_tags stores_tags   stores  \\\n",
       "0  [en:to-be-completed, en:nutrition-facts-comple...   [colruyt]  Colruyt   \n",
       "1  [en:to-be-completed, en:nutrition-facts-comple...        None     None   \n",
       "2  [en:to-be-completed, en:nutrition-facts-comple...        None     None   \n",
       "3  [en:to-be-completed, en:nutrition-facts-comple...        None     None   \n",
       "4  [en:to-be-completed, en:nutrition-facts-comple...        None     None   \n",
       "\n",
       "   traces_tags  unique_scans_n unknown_ingredients_n unknown_nutrients_tags  \\\n",
       "0           []             1.0                   NaN                     []   \n",
       "1           []             1.0                   1.0                     []   \n",
       "2           []             NaN                   NaN                     []   \n",
       "3           []             NaN                   1.0                     []   \n",
       "4           []             NaN                   NaN                     []   \n",
       "\n",
       "            vitamins_tags with_non_nutritive_sweeteners with_sweeteners  \n",
       "0                      []                          None            None  \n",
       "1                      []                          None            None  \n",
       "2                    None                          None            None  \n",
       "3  [en:retinyl-palmitate]                          None            None  \n",
       "4                      []                          None            None  \n",
       "\n",
       "[5 rows x 110 columns]"
      ]
     },
     "execution_count": 14,
     "metadata": {},
     "output_type": "execute_result"
    }
   ],
   "source": [
    "# Run sample query\n",
    "statement = \"\"\"SELECT * FROM {}.{} LIMIT 5\"\"\".format(\n",
    "    database_name, raw_table_name\n",
    ")\n",
    "print(statement)\n",
    "df = pd.read_sql(statement, conn)\n",
    "df.head(5)"
   ]
  }
 ],
 "metadata": {
  "kernelspec": {
   "display_name": "Python 3 (ipykernel)",
   "language": "python",
   "name": "python3"
  },
  "language_info": {
   "codemirror_mode": {
    "name": "ipython",
    "version": 3
   },
   "file_extension": ".py",
   "mimetype": "text/x-python",
   "name": "python",
   "nbconvert_exporter": "python",
   "pygments_lexer": "ipython3",
   "version": "3.12.9"
  }
 },
 "nbformat": 4,
 "nbformat_minor": 5
}
