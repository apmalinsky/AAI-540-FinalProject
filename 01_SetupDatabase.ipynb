{
 "cells": [
  {
   "cell_type": "markdown",
   "id": "cb62fd16-751c-4685-b76e-6c1e6bc6a7dd",
   "metadata": {},
   "source": [
    "The dataset was downloaded locally from Hugging Face [here](https://huggingface.co/datasets/openfoodfacts/product-database/blob/main/food.parquet), then uploaded to our public S3 bucket."
   ]
  },
  {
   "cell_type": "code",
   "execution_count": null,
   "id": "40f694e3-ec70-40a9-9b7d-db77d4dfd69b",
   "metadata": {},
   "outputs": [],
   "source": [
    "# Install dependencies\n",
    "!pip install --upgrade boto3 botocore awscli"
   ]
  },
  {
   "cell_type": "code",
   "execution_count": 12,
   "id": "1965234f-8c8f-4072-955e-72cc07a410f6",
   "metadata": {
    "execution": {
     "iopub.execute_input": "2025-09-21T14:14:08.017317Z",
     "iopub.status.busy": "2025-09-21T14:14:08.017016Z",
     "iopub.status.idle": "2025-09-21T14:14:08.020632Z",
     "shell.execute_reply": "2025-09-21T14:14:08.019972Z",
     "shell.execute_reply.started": "2025-09-21T14:14:08.017293Z"
    }
   },
   "outputs": [],
   "source": [
    "# Import libraries\n",
    "import boto3\n",
    "import sagemaker\n",
    "from pyathena import connect\n",
    "import pandas as pd\n",
    "import time"
   ]
  },
  {
   "cell_type": "markdown",
   "id": "754d8ff4-4584-407b-9ae2-7184a65518c5",
   "metadata": {},
   "source": [
    "# Setup Athena Database and Query Engine"
   ]
  },
  {
   "cell_type": "code",
   "execution_count": 2,
   "id": "28b06fbf-b1b2-4369-80ba-704d7920a156",
   "metadata": {
    "execution": {
     "iopub.execute_input": "2025-09-21T13:55:14.609382Z",
     "iopub.status.busy": "2025-09-21T13:55:14.609098Z",
     "iopub.status.idle": "2025-09-21T13:55:15.146614Z",
     "shell.execute_reply": "2025-09-21T13:55:15.145442Z",
     "shell.execute_reply.started": "2025-09-21T13:55:14.609359Z"
    }
   },
   "outputs": [
    {
     "name": "stdout",
     "output_type": "stream",
     "text": [
      "Boto and Sagemaker Sessions Initialized...\n",
      "Bucket: sagemaker-us-east-1-654654380268\n",
      "Region: us-east-1\n"
     ]
    }
   ],
   "source": [
    "# Setup boto and sagemaker session\n",
    "sess = sagemaker.Session()\n",
    "bucket = sess.default_bucket()\n",
    "role = sagemaker.get_execution_role()\n",
    "region = boto3.Session().region_name\n",
    "print('Boto and Sagemaker Sessions Initialized...\\nBucket: {0}\\nRegion: {1}'.format(bucket, region))"
   ]
  },
  {
   "cell_type": "markdown",
   "id": "f057cd3d-fa48-48df-b8da-5a4a0ef20dbf",
   "metadata": {},
   "source": [
    "## Verify Access to Dataset from Public S3 Bucket"
   ]
  },
  {
   "cell_type": "code",
   "execution_count": 3,
   "id": "f5a16d0d-2a54-49c9-8aec-90cf7f1dd6f8",
   "metadata": {
    "execution": {
     "iopub.execute_input": "2025-09-21T13:55:19.156958Z",
     "iopub.status.busy": "2025-09-21T13:55:19.156634Z",
     "iopub.status.idle": "2025-09-21T13:55:20.780968Z",
     "shell.execute_reply": "2025-09-21T13:55:20.780102Z",
     "shell.execute_reply.started": "2025-09-21T13:55:19.156935Z"
    }
   },
   "outputs": [
    {
     "name": "stdout",
     "output_type": "stream",
     "text": [
      "2025-09-18 04:28:03 4253536290 food.parquet\n"
     ]
    }
   ],
   "source": [
    "# Verify the public S3 bucket contents\n",
    "!aws s3 ls s3://aai-540-openfoodfacts/"
   ]
  },
  {
   "cell_type": "code",
   "execution_count": 36,
   "id": "0009c7df-76b9-4662-a1b7-ee183e2ef395",
   "metadata": {
    "execution": {
     "iopub.execute_input": "2025-09-21T14:37:06.006764Z",
     "iopub.status.busy": "2025-09-21T14:37:06.006432Z",
     "iopub.status.idle": "2025-09-21T14:37:06.023827Z",
     "shell.execute_reply": "2025-09-21T14:37:06.018650Z",
     "shell.execute_reply.started": "2025-09-21T14:37:06.006736Z"
    }
   },
   "outputs": [
    {
     "name": "stdout",
     "output_type": "stream",
     "text": [
      "Stored 's3_public_folder_path' (str)\n",
      "Stored 's3_public_path_parquet' (str)\n"
     ]
    }
   ],
   "source": [
    "# Set S3 source location (public S3 bucket)\n",
    "s3_public_folder_path = \"s3://aai-540-openfoodfacts\"\n",
    "s3_public_path_parquet = \"s3://aai-540-openfoodfacts/food.parquet\"\n",
    "%store s3_public_folder_path\n",
    "%store s3_public_path_parquet"
   ]
  },
  {
   "cell_type": "markdown",
   "id": "9c4af8e8-cb94-4fde-a888-6a4fcacbf4bb",
   "metadata": {},
   "source": [
    "## Create Athena Database"
   ]
  },
  {
   "cell_type": "code",
   "execution_count": 5,
   "id": "6fa8d577-6444-4f92-ae2a-9c76b4782223",
   "metadata": {
    "execution": {
     "iopub.execute_input": "2025-09-21T13:55:37.311039Z",
     "iopub.status.busy": "2025-09-21T13:55:37.310771Z",
     "iopub.status.idle": "2025-09-21T13:55:37.415702Z",
     "shell.execute_reply": "2025-09-21T13:55:37.415011Z",
     "shell.execute_reply.started": "2025-09-21T13:55:37.311018Z"
    }
   },
   "outputs": [],
   "source": [
    "# Initialize our database name\n",
    "database_name = 'foodfacts'\n",
    "\n",
    "# Set S3 staging directory\n",
    "s3_staging_dir = \"s3://{0}/athena/staging\".format(bucket)\n",
    "\n",
    "# Create connection to Athena database\n",
    "conn = connect(region_name=region, s3_staging_dir=s3_staging_dir)"
   ]
  },
  {
   "cell_type": "code",
   "execution_count": 23,
   "id": "75afeff1-9774-4307-87df-1e2f4d5efb15",
   "metadata": {
    "execution": {
     "iopub.execute_input": "2025-09-18T02:58:34.174662Z",
     "iopub.status.busy": "2025-09-18T02:58:34.174371Z",
     "iopub.status.idle": "2025-09-18T02:58:35.451025Z",
     "shell.execute_reply": "2025-09-18T02:58:35.450379Z",
     "shell.execute_reply.started": "2025-09-18T02:58:34.174642Z"
    }
   },
   "outputs": [
    {
     "name": "stdout",
     "output_type": "stream",
     "text": [
      "CREATE DATABASE IF NOT EXISTS foodfacts\n"
     ]
    },
    {
     "name": "stderr",
     "output_type": "stream",
     "text": [
      "/tmp/ipykernel_372/2456362127.py:4: UserWarning: pandas only supports SQLAlchemy connectable (engine/connection) or database string URI or sqlite3 DBAPI2 connection. Other DBAPI2 objects are not tested. Please consider using SQLAlchemy.\n",
      "  pd.read_sql(statement, conn)\n"
     ]
    },
    {
     "data": {
      "text/html": [
       "<div>\n",
       "<style scoped>\n",
       "    .dataframe tbody tr th:only-of-type {\n",
       "        vertical-align: middle;\n",
       "    }\n",
       "\n",
       "    .dataframe tbody tr th {\n",
       "        vertical-align: top;\n",
       "    }\n",
       "\n",
       "    .dataframe thead th {\n",
       "        text-align: right;\n",
       "    }\n",
       "</style>\n",
       "<table border=\"1\" class=\"dataframe\">\n",
       "  <thead>\n",
       "    <tr style=\"text-align: right;\">\n",
       "      <th></th>\n",
       "    </tr>\n",
       "  </thead>\n",
       "  <tbody>\n",
       "  </tbody>\n",
       "</table>\n",
       "</div>"
      ],
      "text/plain": [
       "Empty DataFrame\n",
       "Columns: []\n",
       "Index: []"
      ]
     },
     "execution_count": 23,
     "metadata": {},
     "output_type": "execute_result"
    }
   ],
   "source": [
    "# Create our database\n",
    "statement = \"CREATE DATABASE IF NOT EXISTS {}\".format(database_name)\n",
    "print(statement)\n",
    "pd.read_sql(statement, conn)"
   ]
  },
  {
   "cell_type": "code",
   "execution_count": 19,
   "id": "6a255540-f04d-40d0-bf3c-2416b68347a4",
   "metadata": {
    "execution": {
     "iopub.execute_input": "2025-09-21T14:22:04.042184Z",
     "iopub.status.busy": "2025-09-21T14:22:04.041749Z",
     "iopub.status.idle": "2025-09-21T14:22:05.294609Z",
     "shell.execute_reply": "2025-09-21T14:22:05.293805Z",
     "shell.execute_reply.started": "2025-09-21T14:22:04.042159Z"
    }
   },
   "outputs": [
    {
     "name": "stderr",
     "output_type": "stream",
     "text": [
      "/tmp/ipykernel_386/1984110621.py:3: UserWarning: pandas only supports SQLAlchemy connectable (engine/connection) or database string URI or sqlite3 DBAPI2 connection. Other DBAPI2 objects are not tested. Please consider using SQLAlchemy.\n",
      "  df_show = pd.read_sql(statement, conn)\n"
     ]
    },
    {
     "data": {
      "text/html": [
       "<div>\n",
       "<style scoped>\n",
       "    .dataframe tbody tr th:only-of-type {\n",
       "        vertical-align: middle;\n",
       "    }\n",
       "\n",
       "    .dataframe tbody tr th {\n",
       "        vertical-align: top;\n",
       "    }\n",
       "\n",
       "    .dataframe thead th {\n",
       "        text-align: right;\n",
       "    }\n",
       "</style>\n",
       "<table border=\"1\" class=\"dataframe\">\n",
       "  <thead>\n",
       "    <tr style=\"text-align: right;\">\n",
       "      <th></th>\n",
       "      <th>database_name</th>\n",
       "    </tr>\n",
       "  </thead>\n",
       "  <tbody>\n",
       "    <tr>\n",
       "      <th>0</th>\n",
       "      <td>default</td>\n",
       "    </tr>\n",
       "    <tr>\n",
       "      <th>1</th>\n",
       "      <td>dsoaws</td>\n",
       "    </tr>\n",
       "    <tr>\n",
       "      <th>2</th>\n",
       "      <td>foodfacts</td>\n",
       "    </tr>\n",
       "  </tbody>\n",
       "</table>\n",
       "</div>"
      ],
      "text/plain": [
       "  database_name\n",
       "0       default\n",
       "1        dsoaws\n",
       "2     foodfacts"
      ]
     },
     "execution_count": 19,
     "metadata": {},
     "output_type": "execute_result"
    }
   ],
   "source": [
    "# Verify database was created\n",
    "statement = \"SHOW DATABASES\"\n",
    "df_show = pd.read_sql(statement, conn)\n",
    "df_show.head(5)"
   ]
  },
  {
   "cell_type": "markdown",
   "id": "959eb912-19a0-4e85-86a2-9406fda86b79",
   "metadata": {},
   "source": [
    "## Create and Run a Glue Crawler\n",
    "We created a glue crawler to automatically create a table of the dataset file."
   ]
  },
  {
   "cell_type": "code",
   "execution_count": 43,
   "id": "271334ac-c38f-41f7-8e74-502c8b0a262a",
   "metadata": {
    "execution": {
     "iopub.execute_input": "2025-09-21T14:46:06.956880Z",
     "iopub.status.busy": "2025-09-21T14:46:06.956611Z",
     "iopub.status.idle": "2025-09-21T14:46:07.221060Z",
     "shell.execute_reply": "2025-09-21T14:46:07.220257Z",
     "shell.execute_reply.started": "2025-09-21T14:46:06.956853Z"
    }
   },
   "outputs": [
    {
     "name": "stdout",
     "output_type": "stream",
     "text": [
      "Crawler 'food_products_crawler' already exists.\n"
     ]
    }
   ],
   "source": [
    "# Initialize the AWS Glue client\n",
    "glue_client = boto3.client('glue', region_name=region)\n",
    "\n",
    "crawler_name = 'food_products_crawler'\n",
    "\n",
    "# Create the Glue Crawler\n",
    "try:\n",
    "    glue_client.create_crawler(\n",
    "        Name=crawler_name,\n",
    "        Role=role,\n",
    "        DatabaseName=database_name,\n",
    "        Targets={'S3Targets': [{'Path': s3_public_folder_path}]},\n",
    "    )\n",
    "    print(f\"Crawler '{crawler_name}' created successfully.\")\n",
    "except glue_client.exceptions.AlreadyExistsException:\n",
    "    print(f\"Crawler '{crawler_name}' already exists.\")"
   ]
  },
  {
   "cell_type": "code",
   "execution_count": 44,
   "id": "68b7b944-0b04-4730-9eb6-93eff4c0cdd4",
   "metadata": {
    "execution": {
     "iopub.execute_input": "2025-09-21T14:46:14.252930Z",
     "iopub.status.busy": "2025-09-21T14:46:14.252651Z",
     "iopub.status.idle": "2025-09-21T14:46:14.331838Z",
     "shell.execute_reply": "2025-09-21T14:46:14.331182Z",
     "shell.execute_reply.started": "2025-09-21T14:46:14.252910Z"
    }
   },
   "outputs": [
    {
     "name": "stdout",
     "output_type": "stream",
     "text": [
      "Crawler Name: food_products_crawler, State: READY\n"
     ]
    }
   ],
   "source": [
    "# Verify Creation of Glue Crawler\n",
    "crawlers = glue_client.get_crawlers()\n",
    "for crawler in crawlers['Crawlers']:\n",
    "    print(f\"Crawler Name: {crawler['Name']}, State: {crawler['State']}\")"
   ]
  },
  {
   "cell_type": "code",
   "execution_count": 39,
   "id": "8a6e6641-b7c4-4a05-a135-e3cbaa13785a",
   "metadata": {
    "execution": {
     "iopub.execute_input": "2025-09-21T14:38:18.237149Z",
     "iopub.status.busy": "2025-09-21T14:38:18.236804Z",
     "iopub.status.idle": "2025-09-21T14:41:15.454240Z",
     "shell.execute_reply": "2025-09-21T14:41:15.453497Z",
     "shell.execute_reply.started": "2025-09-21T14:38:18.237126Z"
    }
   },
   "outputs": [
    {
     "name": "stdout",
     "output_type": "stream",
     "text": [
      "Starting crawler 'food_products_crawler'...\n",
      "Crawler is running...\n",
      "Crawler is running...\n",
      "Crawler is running...\n",
      "Crawler is running...\n",
      "Crawler is running...\n",
      "Crawler is stopping...\n",
      "Crawler is stopping...\n",
      "Crawler is stopping...\n",
      "Crawler is stopping...\n",
      "Crawler is stopping...\n",
      "Crawler is stopping...\n",
      "Crawler finished successfully.\n"
     ]
    }
   ],
   "source": [
    "# Start the Glue Crawler\n",
    "print(f\"Starting crawler '{crawler_name}'...\")\n",
    "glue_client.start_crawler(Name=crawler_name)\n",
    "\n",
    "# Wait for the crawler to finish\n",
    "while True:\n",
    "    response = glue_client.get_crawler(Name=crawler_name)\n",
    "    state = response['Crawler']['State']\n",
    "\n",
    "    if state == 'READY':\n",
    "        print(\"Crawler finished successfully.\")\n",
    "        break\n",
    "    elif state == 'STOPPING':\n",
    "        print(\"Crawler is stopping...\")\n",
    "    elif state == 'RUNNING':\n",
    "        print(\"Crawler is running...\")\n",
    "    elif state == 'FAILED':\n",
    "        print(\"Crawler failed.\")\n",
    "        break\n",
    "    \n",
    "    time.sleep(15) # Wait 15 seconds before checking the status again"
   ]
  },
  {
   "cell_type": "code",
   "execution_count": 45,
   "id": "118e1e21-9222-4658-b4bc-ed2487daf717",
   "metadata": {
    "execution": {
     "iopub.execute_input": "2025-09-21T14:46:30.865588Z",
     "iopub.status.busy": "2025-09-21T14:46:30.865317Z",
     "iopub.status.idle": "2025-09-21T14:46:32.128586Z",
     "shell.execute_reply": "2025-09-21T14:46:32.127974Z",
     "shell.execute_reply.started": "2025-09-21T14:46:30.865567Z"
    }
   },
   "outputs": [
    {
     "name": "stderr",
     "output_type": "stream",
     "text": [
      "/tmp/ipykernel_386/875215870.py:3: UserWarning: pandas only supports SQLAlchemy connectable (engine/connection) or database string URI or sqlite3 DBAPI2 connection. Other DBAPI2 objects are not tested. Please consider using SQLAlchemy.\n",
      "  df_show = pd.read_sql(statement, conn)\n"
     ]
    },
    {
     "data": {
      "text/html": [
       "<div>\n",
       "<style scoped>\n",
       "    .dataframe tbody tr th:only-of-type {\n",
       "        vertical-align: middle;\n",
       "    }\n",
       "\n",
       "    .dataframe tbody tr th {\n",
       "        vertical-align: top;\n",
       "    }\n",
       "\n",
       "    .dataframe thead th {\n",
       "        text-align: right;\n",
       "    }\n",
       "</style>\n",
       "<table border=\"1\" class=\"dataframe\">\n",
       "  <thead>\n",
       "    <tr style=\"text-align: right;\">\n",
       "      <th></th>\n",
       "      <th>tab_name</th>\n",
       "    </tr>\n",
       "  </thead>\n",
       "  <tbody>\n",
       "    <tr>\n",
       "      <th>0</th>\n",
       "      <td>aai_540_openfoodfacts</td>\n",
       "    </tr>\n",
       "  </tbody>\n",
       "</table>\n",
       "</div>"
      ],
      "text/plain": [
       "                tab_name\n",
       "0  aai_540_openfoodfacts"
      ]
     },
     "execution_count": 45,
     "metadata": {},
     "output_type": "execute_result"
    }
   ],
   "source": [
    "# Verify table was created from crawler\n",
    "statement = \"SHOW TABLES in {}\".format(database_name)\n",
    "df_show = pd.read_sql(statement, conn)\n",
    "df_show.head(5)"
   ]
  },
  {
   "cell_type": "code",
   "execution_count": 41,
   "id": "d76df8df-d569-40c0-93b1-f3259f52ddab",
   "metadata": {
    "execution": {
     "iopub.execute_input": "2025-09-21T14:42:01.315570Z",
     "iopub.status.busy": "2025-09-21T14:42:01.315206Z",
     "iopub.status.idle": "2025-09-21T14:42:01.367210Z",
     "shell.execute_reply": "2025-09-21T14:42:01.334998Z",
     "shell.execute_reply.started": "2025-09-21T14:42:01.315546Z"
    }
   },
   "outputs": [
    {
     "name": "stdout",
     "output_type": "stream",
     "text": [
      "Stored 'raw_table_name' (str)\n"
     ]
    }
   ],
   "source": [
    "# Save table name\n",
    "raw_table_name = \"aai_540_openfoodfacts\"\n",
    "%store raw_table_name"
   ]
  },
  {
   "cell_type": "markdown",
   "id": "e9367a54-60e1-49ae-9aa4-60556ea85162",
   "metadata": {},
   "source": [
    "## Verify Querying the Database"
   ]
  },
  {
   "cell_type": "code",
   "execution_count": 42,
   "id": "870ab0ae-4f72-430b-9ec5-a1cadf23ad35",
   "metadata": {
    "execution": {
     "iopub.execute_input": "2025-09-21T14:42:04.419324Z",
     "iopub.status.busy": "2025-09-21T14:42:04.419056Z",
     "iopub.status.idle": "2025-09-21T14:42:11.851393Z",
     "shell.execute_reply": "2025-09-21T14:42:11.850808Z",
     "shell.execute_reply.started": "2025-09-21T14:42:04.419304Z"
    }
   },
   "outputs": [
    {
     "name": "stdout",
     "output_type": "stream",
     "text": [
      "SELECT * FROM foodfacts.aai_540_openfoodfacts LIMIT 5\n"
     ]
    },
    {
     "name": "stderr",
     "output_type": "stream",
     "text": [
      "/tmp/ipykernel_386/1746733082.py:6: UserWarning: pandas only supports SQLAlchemy connectable (engine/connection) or database string URI or sqlite3 DBAPI2 connection. Other DBAPI2 objects are not tested. Please consider using SQLAlchemy.\n",
      "  df = pd.read_sql(statement, conn)\n"
     ]
    },
    {
     "data": {
      "text/html": [
       "<div>\n",
       "<style scoped>\n",
       "    .dataframe tbody tr th:only-of-type {\n",
       "        vertical-align: middle;\n",
       "    }\n",
       "\n",
       "    .dataframe tbody tr th {\n",
       "        vertical-align: top;\n",
       "    }\n",
       "\n",
       "    .dataframe thead th {\n",
       "        text-align: right;\n",
       "    }\n",
       "</style>\n",
       "<table border=\"1\" class=\"dataframe\">\n",
       "  <thead>\n",
       "    <tr style=\"text-align: right;\">\n",
       "      <th></th>\n",
       "      <th>additives_n</th>\n",
       "      <th>additives_tags</th>\n",
       "      <th>allergens_tags</th>\n",
       "      <th>brands_tags</th>\n",
       "      <th>brands</th>\n",
       "      <th>categories</th>\n",
       "      <th>categories_tags</th>\n",
       "      <th>categories_properties</th>\n",
       "      <th>checkers_tags</th>\n",
       "      <th>ciqual_food_name_tags</th>\n",
       "      <th>...</th>\n",
       "      <th>states_tags</th>\n",
       "      <th>stores_tags</th>\n",
       "      <th>stores</th>\n",
       "      <th>traces_tags</th>\n",
       "      <th>unique_scans_n</th>\n",
       "      <th>unknown_ingredients_n</th>\n",
       "      <th>unknown_nutrients_tags</th>\n",
       "      <th>vitamins_tags</th>\n",
       "      <th>with_non_nutritive_sweeteners</th>\n",
       "      <th>with_sweeteners</th>\n",
       "    </tr>\n",
       "  </thead>\n",
       "  <tbody>\n",
       "    <tr>\n",
       "      <th>0</th>\n",
       "      <td>None</td>\n",
       "      <td>None</td>\n",
       "      <td>[]</td>\n",
       "      <td>[xx:piu-buono]</td>\n",
       "      <td>Più Buono</td>\n",
       "      <td>None</td>\n",
       "      <td>None</td>\n",
       "      <td>{'ciqual_food_code': None, 'agribalyse_food_co...</td>\n",
       "      <td>[]</td>\n",
       "      <td>None</td>\n",
       "      <td>...</td>\n",
       "      <td>[en:to-be-completed, en:nutrition-facts-comple...</td>\n",
       "      <td>None</td>\n",
       "      <td>None</td>\n",
       "      <td>[]</td>\n",
       "      <td>NaN</td>\n",
       "      <td>None</td>\n",
       "      <td>[]</td>\n",
       "      <td>None</td>\n",
       "      <td>None</td>\n",
       "      <td>None</td>\n",
       "    </tr>\n",
       "    <tr>\n",
       "      <th>1</th>\n",
       "      <td>None</td>\n",
       "      <td>None</td>\n",
       "      <td>[]</td>\n",
       "      <td>[xx:aicha]</td>\n",
       "      <td>Aicha</td>\n",
       "      <td>en:strained-tomatoes</td>\n",
       "      <td>[en:plant-based-foods-and-beverages, en:plant-...</td>\n",
       "      <td>{'ciqual_food_code': 20260, 'agribalyse_food_c...</td>\n",
       "      <td>[]</td>\n",
       "      <td>None</td>\n",
       "      <td>...</td>\n",
       "      <td>[en:to-be-completed, en:nutrition-facts-comple...</td>\n",
       "      <td>None</td>\n",
       "      <td>None</td>\n",
       "      <td>[]</td>\n",
       "      <td>37.0</td>\n",
       "      <td>None</td>\n",
       "      <td>[]</td>\n",
       "      <td>None</td>\n",
       "      <td>None</td>\n",
       "      <td>None</td>\n",
       "    </tr>\n",
       "    <tr>\n",
       "      <th>2</th>\n",
       "      <td>None</td>\n",
       "      <td>[]</td>\n",
       "      <td>[]</td>\n",
       "      <td>[piraque]</td>\n",
       "      <td>PIRAQUE</td>\n",
       "      <td></td>\n",
       "      <td>[]</td>\n",
       "      <td>{'ciqual_food_code': None, 'agribalyse_food_co...</td>\n",
       "      <td>[]</td>\n",
       "      <td>None</td>\n",
       "      <td>...</td>\n",
       "      <td>[en:to-be-completed, en:nutrition-facts-comple...</td>\n",
       "      <td>[]</td>\n",
       "      <td></td>\n",
       "      <td>[]</td>\n",
       "      <td>NaN</td>\n",
       "      <td>None</td>\n",
       "      <td>[]</td>\n",
       "      <td>[]</td>\n",
       "      <td>None</td>\n",
       "      <td>None</td>\n",
       "    </tr>\n",
       "    <tr>\n",
       "      <th>3</th>\n",
       "      <td>None</td>\n",
       "      <td>None</td>\n",
       "      <td>[]</td>\n",
       "      <td>[xx:terra-etica]</td>\n",
       "      <td>Terra Etica</td>\n",
       "      <td>Snacks, Snacks sucrés, Cacao et dérivés, Choco...</td>\n",
       "      <td>[en:snacks, en:sweet-snacks, en:cocoa-and-its-...</td>\n",
       "      <td>{'ciqual_food_code': None, 'agribalyse_food_co...</td>\n",
       "      <td>[]</td>\n",
       "      <td>None</td>\n",
       "      <td>...</td>\n",
       "      <td>[en:to-be-completed, en:nutrition-facts-comple...</td>\n",
       "      <td>[]</td>\n",
       "      <td></td>\n",
       "      <td>[]</td>\n",
       "      <td>NaN</td>\n",
       "      <td>None</td>\n",
       "      <td>[]</td>\n",
       "      <td>[]</td>\n",
       "      <td>None</td>\n",
       "      <td>None</td>\n",
       "    </tr>\n",
       "    <tr>\n",
       "      <th>4</th>\n",
       "      <td>None</td>\n",
       "      <td>None</td>\n",
       "      <td>[]</td>\n",
       "      <td>None</td>\n",
       "      <td>None</td>\n",
       "      <td>None</td>\n",
       "      <td>None</td>\n",
       "      <td>{'ciqual_food_code': None, 'agribalyse_food_co...</td>\n",
       "      <td>[]</td>\n",
       "      <td>None</td>\n",
       "      <td>...</td>\n",
       "      <td>[en:to-be-completed, en:nutrition-facts-comple...</td>\n",
       "      <td>None</td>\n",
       "      <td>None</td>\n",
       "      <td>[]</td>\n",
       "      <td>NaN</td>\n",
       "      <td>None</td>\n",
       "      <td>[]</td>\n",
       "      <td>None</td>\n",
       "      <td>None</td>\n",
       "      <td>None</td>\n",
       "    </tr>\n",
       "  </tbody>\n",
       "</table>\n",
       "<p>5 rows × 110 columns</p>\n",
       "</div>"
      ],
      "text/plain": [
       "  additives_n additives_tags allergens_tags       brands_tags       brands  \\\n",
       "0        None           None             []    [xx:piu-buono]    Più Buono   \n",
       "1        None           None             []        [xx:aicha]        Aicha   \n",
       "2        None             []             []         [piraque]      PIRAQUE   \n",
       "3        None           None             []  [xx:terra-etica]  Terra Etica   \n",
       "4        None           None             []              None         None   \n",
       "\n",
       "                                          categories  \\\n",
       "0                                               None   \n",
       "1                               en:strained-tomatoes   \n",
       "2                                                      \n",
       "3  Snacks, Snacks sucrés, Cacao et dérivés, Choco...   \n",
       "4                                               None   \n",
       "\n",
       "                                     categories_tags  \\\n",
       "0                                               None   \n",
       "1  [en:plant-based-foods-and-beverages, en:plant-...   \n",
       "2                                                 []   \n",
       "3  [en:snacks, en:sweet-snacks, en:cocoa-and-its-...   \n",
       "4                                               None   \n",
       "\n",
       "                               categories_properties checkers_tags  \\\n",
       "0  {'ciqual_food_code': None, 'agribalyse_food_co...            []   \n",
       "1  {'ciqual_food_code': 20260, 'agribalyse_food_c...            []   \n",
       "2  {'ciqual_food_code': None, 'agribalyse_food_co...            []   \n",
       "3  {'ciqual_food_code': None, 'agribalyse_food_co...            []   \n",
       "4  {'ciqual_food_code': None, 'agribalyse_food_co...            []   \n",
       "\n",
       "  ciqual_food_name_tags  ...  \\\n",
       "0                  None  ...   \n",
       "1                  None  ...   \n",
       "2                  None  ...   \n",
       "3                  None  ...   \n",
       "4                  None  ...   \n",
       "\n",
       "                                         states_tags stores_tags stores  \\\n",
       "0  [en:to-be-completed, en:nutrition-facts-comple...        None   None   \n",
       "1  [en:to-be-completed, en:nutrition-facts-comple...        None   None   \n",
       "2  [en:to-be-completed, en:nutrition-facts-comple...          []          \n",
       "3  [en:to-be-completed, en:nutrition-facts-comple...          []          \n",
       "4  [en:to-be-completed, en:nutrition-facts-comple...        None   None   \n",
       "\n",
       "   traces_tags  unique_scans_n unknown_ingredients_n unknown_nutrients_tags  \\\n",
       "0           []             NaN                  None                     []   \n",
       "1           []            37.0                  None                     []   \n",
       "2           []             NaN                  None                     []   \n",
       "3           []             NaN                  None                     []   \n",
       "4           []             NaN                  None                     []   \n",
       "\n",
       "   vitamins_tags with_non_nutritive_sweeteners with_sweeteners  \n",
       "0           None                          None            None  \n",
       "1           None                          None            None  \n",
       "2             []                          None            None  \n",
       "3             []                          None            None  \n",
       "4           None                          None            None  \n",
       "\n",
       "[5 rows x 110 columns]"
      ]
     },
     "execution_count": 42,
     "metadata": {},
     "output_type": "execute_result"
    }
   ],
   "source": [
    "# Run sample query\n",
    "statement = \"\"\"SELECT * FROM {}.{} LIMIT 5\"\"\".format(\n",
    "    database_name, raw_table_name\n",
    ")\n",
    "print(statement)\n",
    "df = pd.read_sql(statement, conn)\n",
    "df.head(5)"
   ]
  },
  {
   "cell_type": "code",
   "execution_count": null,
   "id": "2d85ba2c-240d-4039-bcd5-a6301876d7f4",
   "metadata": {},
   "outputs": [],
   "source": []
  },
  {
   "cell_type": "code",
   "execution_count": null,
   "id": "3ba707b3-10bf-4400-800a-776e3c05437f",
   "metadata": {},
   "outputs": [],
   "source": []
  },
  {
   "cell_type": "code",
   "execution_count": null,
   "id": "ddd62d50-e631-4d24-a763-d3c77b167b72",
   "metadata": {},
   "outputs": [],
   "source": []
  }
 ],
 "metadata": {
  "kernelspec": {
   "display_name": "Python 3 (ipykernel)",
   "language": "python",
   "name": "python3"
  },
  "language_info": {
   "codemirror_mode": {
    "name": "ipython",
    "version": 3
   },
   "file_extension": ".py",
   "mimetype": "text/x-python",
   "name": "python",
   "nbconvert_exporter": "python",
   "pygments_lexer": "ipython3",
   "version": "3.12.9"
  }
 },
 "nbformat": 4,
 "nbformat_minor": 5
}
