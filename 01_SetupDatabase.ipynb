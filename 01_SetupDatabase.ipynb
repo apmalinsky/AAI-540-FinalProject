{
 "cells": [
  {
   "cell_type": "markdown",
   "id": "c42a09a3-0931-4ee1-9119-7790346a29db",
   "metadata": {},
   "source": [
    "# Setup Athena Database"
   ]
  },
  {
   "cell_type": "markdown",
   "id": "cb62fd16-751c-4685-b76e-6c1e6bc6a7dd",
   "metadata": {},
   "source": [
    "The dataset was downloaded locally from Hugging Face [here](https://huggingface.co/datasets/openfoodfacts/product-database/blob/main/food.parquet), then uploaded to our public S3 bucket."
   ]
  },
  {
   "cell_type": "code",
   "execution_count": 1,
   "id": "40f694e3-ec70-40a9-9b7d-db77d4dfd69b",
   "metadata": {
    "execution": {
     "iopub.execute_input": "2025-10-11T21:03:26.449712Z",
     "iopub.status.busy": "2025-10-11T21:03:26.449462Z",
     "iopub.status.idle": "2025-10-11T21:03:33.294907Z",
     "shell.execute_reply": "2025-10-11T21:03:33.294122Z",
     "shell.execute_reply.started": "2025-10-11T21:03:26.449692Z"
    }
   },
   "outputs": [
    {
     "name": "stdout",
     "output_type": "stream",
     "text": [
      "Requirement already satisfied: boto3 in /opt/conda/lib/python3.12/site-packages (1.37.1)\n",
      "Collecting boto3\n",
      "  Downloading boto3-1.40.50-py3-none-any.whl.metadata (6.7 kB)\n",
      "Requirement already satisfied: botocore in /opt/conda/lib/python3.12/site-packages (1.37.1)\n",
      "Collecting botocore\n",
      "  Downloading botocore-1.40.50-py3-none-any.whl.metadata (5.7 kB)\n",
      "Collecting awscli\n",
      "  Downloading awscli-1.42.50-py3-none-any.whl.metadata (11 kB)\n",
      "Requirement already satisfied: jmespath<2.0.0,>=0.7.1 in /opt/conda/lib/python3.12/site-packages (from boto3) (1.0.1)\n",
      "Collecting s3transfer<0.15.0,>=0.14.0 (from boto3)\n",
      "  Downloading s3transfer-0.14.0-py3-none-any.whl.metadata (1.7 kB)\n",
      "Requirement already satisfied: python-dateutil<3.0.0,>=2.1 in /opt/conda/lib/python3.12/site-packages (from botocore) (2.9.0.post0)\n",
      "Requirement already satisfied: urllib3!=2.2.0,<3,>=1.25.4 in /opt/conda/lib/python3.12/site-packages (from botocore) (1.26.19)\n",
      "Requirement already satisfied: six>=1.5 in /opt/conda/lib/python3.12/site-packages (from python-dateutil<3.0.0,>=2.1->botocore) (1.17.0)\n",
      "Collecting docutils<=0.19,>=0.18.1 (from awscli)\n",
      "  Downloading docutils-0.19-py3-none-any.whl.metadata (2.7 kB)\n",
      "Requirement already satisfied: PyYAML<6.1,>=3.10 in /opt/conda/lib/python3.12/site-packages (from awscli) (6.0.2)\n",
      "Requirement already satisfied: colorama<0.4.7,>=0.2.5 in /opt/conda/lib/python3.12/site-packages (from awscli) (0.4.6)\n",
      "Collecting rsa<4.8,>=3.1.2 (from awscli)\n",
      "  Downloading rsa-4.7.2-py3-none-any.whl.metadata (3.6 kB)\n",
      "Requirement already satisfied: pyasn1>=0.1.3 in /opt/conda/lib/python3.12/site-packages (from rsa<4.8,>=3.1.2->awscli) (0.6.1)\n",
      "Downloading boto3-1.40.50-py3-none-any.whl (139 kB)\n",
      "Downloading botocore-1.40.50-py3-none-any.whl (14.1 MB)\n",
      "\u001b[2K   \u001b[90m━━━━━━━━━━━━━━━━━━━━━━━━━━━━━━━━━━━━━━━━\u001b[0m \u001b[32m14.1/14.1 MB\u001b[0m \u001b[31m206.7 MB/s\u001b[0m  \u001b[33m0:00:00\u001b[0m\n",
      "\u001b[?25hDownloading s3transfer-0.14.0-py3-none-any.whl (85 kB)\n",
      "Downloading awscli-1.42.50-py3-none-any.whl (4.7 MB)\n",
      "\u001b[2K   \u001b[90m━━━━━━━━━━━━━━━━━━━━━━━━━━━━━━━━━━━━━━━━\u001b[0m \u001b[32m4.7/4.7 MB\u001b[0m \u001b[31m207.7 MB/s\u001b[0m  \u001b[33m0:00:00\u001b[0m\n",
      "\u001b[?25hDownloading docutils-0.19-py3-none-any.whl (570 kB)\n",
      "\u001b[2K   \u001b[90m━━━━━━━━━━━━━━━━━━━━━━━━━━━━━━━━━━━━━━━━\u001b[0m \u001b[32m570.5/570.5 kB\u001b[0m \u001b[31m58.0 MB/s\u001b[0m  \u001b[33m0:00:00\u001b[0m\n",
      "\u001b[?25hDownloading rsa-4.7.2-py3-none-any.whl (34 kB)\n",
      "Installing collected packages: rsa, docutils, botocore, s3transfer, boto3, awscli\n",
      "\u001b[2K  Attempting uninstall: rsa\n",
      "\u001b[2K    Found existing installation: rsa 4.9.1\n",
      "\u001b[2K    Uninstalling rsa-4.9.1:\n",
      "\u001b[2K      Successfully uninstalled rsa-4.9.1\n",
      "\u001b[2K  Attempting uninstall: botocorem━━━━━━━━━━━━━━━━━━━━━━━━━━━━━━━━━\u001b[0m \u001b[32m1/6\u001b[0m [docutils]\n",
      "\u001b[2K    Found existing installation: botocore 1.37.1━━━━━━━━━━━━━━\u001b[0m \u001b[32m1/6\u001b[0m [docutils]\n",
      "\u001b[2K    Uninstalling botocore-1.37.1:━━━━━━━━━━━━━━━━━━━━━━━━━━━━━\u001b[0m \u001b[32m1/6\u001b[0m [docutils]\n",
      "\u001b[2K      Successfully uninstalled botocore-1.37.1━━━━━━━━━━━━━━━━\u001b[0m \u001b[32m1/6\u001b[0m [docutils]\n",
      "\u001b[2K  Attempting uninstall: s3transferm\u001b[90m━━━━━━━━━━━━━━━━━━━━━━━━━━\u001b[0m \u001b[32m2/6\u001b[0m [botocore]\n",
      "\u001b[2K    Found existing installation: s3transfer 0.11.3━━━━━━━━━━━━\u001b[0m \u001b[32m2/6\u001b[0m [botocore]\n",
      "\u001b[2K    Uninstalling s3transfer-0.11.3:m━━━━━━━━━━━━━━━━━━━━━━━━━━\u001b[0m \u001b[32m2/6\u001b[0m [botocore]\n",
      "\u001b[2K      Successfully uninstalled s3transfer-0.11.3━━━━━━━━━━━━━━\u001b[0m \u001b[32m2/6\u001b[0m [botocore]\n",
      "\u001b[2K  Attempting uninstall: boto30m\u001b[90m━━━━━━━━━━━━━━━━━━━━━━━━━━\u001b[0m \u001b[32m2/6\u001b[0m [botocore]\n",
      "\u001b[2K    Found existing installation: boto3 1.37.1━━━━━━━━━━━━━━━━━\u001b[0m \u001b[32m2/6\u001b[0m [botocore]\n",
      "\u001b[2K    Uninstalling boto3-1.37.1:m\u001b[90m━━━━━━━━━━━━━━━━━━━━━━━━━━\u001b[0m \u001b[32m2/6\u001b[0m [botocore]\n",
      "\u001b[2K      Successfully uninstalled boto3-1.37.1━━━━━━━━━━━━━━━━━━━\u001b[0m \u001b[32m2/6\u001b[0m [botocore]\n",
      "\u001b[2K   \u001b[90m━━━━━━━━━━━━━━━━━━━━━━━━━━━━━━━━━━━━━━━━\u001b[0m \u001b[32m6/6\u001b[0m [awscli]2m5/6\u001b[0m [awscli]\n",
      "\u001b[1A\u001b[2K\u001b[31mERROR: pip's dependency resolver does not currently take into account all the packages that are installed. This behaviour is the source of the following dependency conflicts.\n",
      "autogluon-multimodal 1.4.0 requires nvidia-ml-py3<8.0,>=7.352.0, which is not installed.\n",
      "aiobotocore 2.21.1 requires botocore<1.37.2,>=1.37.0, but you have botocore 1.40.50 which is incompatible.\n",
      "autogluon-multimodal 1.4.0 requires transformers[sentencepiece]<4.50,>=4.38.0, but you have transformers 4.55.2 which is incompatible.\n",
      "autogluon-timeseries 1.4.0 requires transformers[sentencepiece]<4.50,>=4.38.0, but you have transformers 4.55.2 which is incompatible.\n",
      "sagemaker-studio-analytics-extension 0.2.0 requires sparkmagic==0.22.0, but you have sparkmagic 0.21.0 which is incompatible.\u001b[0m\u001b[31m\n",
      "\u001b[0mSuccessfully installed awscli-1.42.50 boto3-1.40.50 botocore-1.40.50 docutils-0.19 rsa-4.7.2 s3transfer-0.14.0\n"
     ]
    }
   ],
   "source": [
    "# Install dependencies\n",
    "!pip install --upgrade boto3 botocore awscli"
   ]
  },
  {
   "cell_type": "code",
   "execution_count": 2,
   "id": "1965234f-8c8f-4072-955e-72cc07a410f6",
   "metadata": {
    "execution": {
     "iopub.execute_input": "2025-10-11T21:03:33.296283Z",
     "iopub.status.busy": "2025-10-11T21:03:33.295982Z",
     "iopub.status.idle": "2025-10-11T21:03:35.156397Z",
     "shell.execute_reply": "2025-10-11T21:03:35.155821Z",
     "shell.execute_reply.started": "2025-10-11T21:03:33.296251Z"
    }
   },
   "outputs": [
    {
     "name": "stdout",
     "output_type": "stream",
     "text": [
      "sagemaker.config INFO - Not applying SDK defaults from location: /etc/xdg/sagemaker/config.yaml\n",
      "sagemaker.config INFO - Not applying SDK defaults from location: /home/sagemaker-user/.config/sagemaker/config.yaml\n"
     ]
    }
   ],
   "source": [
    "# Import libraries\n",
    "import boto3\n",
    "import sagemaker\n",
    "from pyathena import connect\n",
    "import pandas as pd\n",
    "import time\n",
    "\n",
    "import warnings\n",
    "warnings.filterwarnings('ignore', category=UserWarning)"
   ]
  },
  {
   "cell_type": "code",
   "execution_count": 3,
   "id": "28b06fbf-b1b2-4369-80ba-704d7920a156",
   "metadata": {
    "execution": {
     "iopub.execute_input": "2025-10-11T21:03:35.157290Z",
     "iopub.status.busy": "2025-10-11T21:03:35.157023Z",
     "iopub.status.idle": "2025-10-11T21:03:35.746104Z",
     "shell.execute_reply": "2025-10-11T21:03:35.745503Z",
     "shell.execute_reply.started": "2025-10-11T21:03:35.157264Z"
    }
   },
   "outputs": [
    {
     "name": "stdout",
     "output_type": "stream",
     "text": [
      "Boto and Sagemaker Sessions Initialized...\n",
      "Bucket: sagemaker-us-east-1-243285667099\n",
      "Region: us-east-1\n"
     ]
    }
   ],
   "source": [
    "# Setup boto and sagemaker session\n",
    "sess = sagemaker.Session()\n",
    "bucket = sess.default_bucket()\n",
    "role = sagemaker.get_execution_role()\n",
    "region = boto3.Session().region_name\n",
    "print('Boto and Sagemaker Sessions Initialized...\\nBucket: {0}\\nRegion: {1}'.format(bucket, region))"
   ]
  },
  {
   "cell_type": "markdown",
   "id": "f057cd3d-fa48-48df-b8da-5a4a0ef20dbf",
   "metadata": {},
   "source": [
    "## Verify Access to Dataset from Public S3 Bucket"
   ]
  },
  {
   "cell_type": "code",
   "execution_count": 17,
   "id": "f5a16d0d-2a54-49c9-8aec-90cf7f1dd6f8",
   "metadata": {
    "execution": {
     "iopub.execute_input": "2025-10-11T21:06:48.289121Z",
     "iopub.status.busy": "2025-10-11T21:06:48.288860Z",
     "iopub.status.idle": "2025-10-11T21:06:49.066765Z",
     "shell.execute_reply": "2025-10-11T21:06:49.066000Z",
     "shell.execute_reply.started": "2025-10-11T21:06:48.289102Z"
    }
   },
   "outputs": [
    {
     "name": "stdout",
     "output_type": "stream",
     "text": [
      "2025-09-18 04:28:03 4253536290 food.parquet\n"
     ]
    }
   ],
   "source": [
    "# Verify the public S3 bucket contents\n",
    "!aws s3 ls s3://aai-540-openfoodfacts/"
   ]
  },
  {
   "cell_type": "code",
   "execution_count": 18,
   "id": "0009c7df-76b9-4662-a1b7-ee183e2ef395",
   "metadata": {
    "execution": {
     "iopub.execute_input": "2025-10-11T21:06:49.486181Z",
     "iopub.status.busy": "2025-10-11T21:06:49.485848Z",
     "iopub.status.idle": "2025-10-11T21:06:49.491508Z",
     "shell.execute_reply": "2025-10-11T21:06:49.490958Z",
     "shell.execute_reply.started": "2025-10-11T21:06:49.486148Z"
    }
   },
   "outputs": [
    {
     "name": "stdout",
     "output_type": "stream",
     "text": [
      "Stored 's3_public_folder_path' (str)\n",
      "Stored 's3_public_path_parquet' (str)\n"
     ]
    }
   ],
   "source": [
    "# Set S3 source location (public S3 bucket)\n",
    "s3_public_folder_path = \"s3://aai-540-openfoodfacts\"\n",
    "s3_public_path_parquet = \"s3://aai-540-openfoodfacts/food.parquet\"\n",
    "%store s3_public_folder_path\n",
    "%store s3_public_path_parquet"
   ]
  },
  {
   "cell_type": "markdown",
   "id": "9c4af8e8-cb94-4fde-a888-6a4fcacbf4bb",
   "metadata": {},
   "source": [
    "## Create Athena Database"
   ]
  },
  {
   "cell_type": "code",
   "execution_count": 19,
   "id": "6fa8d577-6444-4f92-ae2a-9c76b4782223",
   "metadata": {
    "execution": {
     "iopub.execute_input": "2025-10-11T21:06:51.642142Z",
     "iopub.status.busy": "2025-10-11T21:06:51.641883Z",
     "iopub.status.idle": "2025-10-11T21:06:51.719784Z",
     "shell.execute_reply": "2025-10-11T21:06:51.719220Z",
     "shell.execute_reply.started": "2025-10-11T21:06:51.642123Z"
    }
   },
   "outputs": [],
   "source": [
    "# Initialize our database name\n",
    "database_name = 'foodfacts'\n",
    "\n",
    "# Set S3 staging directory\n",
    "s3_staging_dir = \"s3://{0}/athena/staging\".format(bucket)\n",
    "\n",
    "# Create connection to Athena database\n",
    "conn = connect(region_name=region, s3_staging_dir=s3_staging_dir)"
   ]
  },
  {
   "cell_type": "code",
   "execution_count": 20,
   "id": "75afeff1-9774-4307-87df-1e2f4d5efb15",
   "metadata": {
    "execution": {
     "iopub.execute_input": "2025-10-11T21:06:52.703691Z",
     "iopub.status.busy": "2025-10-11T21:06:52.703443Z",
     "iopub.status.idle": "2025-10-11T21:06:53.965597Z",
     "shell.execute_reply": "2025-10-11T21:06:53.965045Z",
     "shell.execute_reply.started": "2025-10-11T21:06:52.703672Z"
    }
   },
   "outputs": [
    {
     "name": "stdout",
     "output_type": "stream",
     "text": [
      "CREATE DATABASE IF NOT EXISTS foodfacts\n"
     ]
    },
    {
     "data": {
      "text/html": [
       "<div>\n",
       "<style scoped>\n",
       "    .dataframe tbody tr th:only-of-type {\n",
       "        vertical-align: middle;\n",
       "    }\n",
       "\n",
       "    .dataframe tbody tr th {\n",
       "        vertical-align: top;\n",
       "    }\n",
       "\n",
       "    .dataframe thead th {\n",
       "        text-align: right;\n",
       "    }\n",
       "</style>\n",
       "<table border=\"1\" class=\"dataframe\">\n",
       "  <thead>\n",
       "    <tr style=\"text-align: right;\">\n",
       "      <th></th>\n",
       "    </tr>\n",
       "  </thead>\n",
       "  <tbody>\n",
       "  </tbody>\n",
       "</table>\n",
       "</div>"
      ],
      "text/plain": [
       "Empty DataFrame\n",
       "Columns: []\n",
       "Index: []"
      ]
     },
     "execution_count": 20,
     "metadata": {},
     "output_type": "execute_result"
    }
   ],
   "source": [
    "# Create our database\n",
    "statement = \"CREATE DATABASE IF NOT EXISTS {}\".format(database_name)\n",
    "print(statement)\n",
    "pd.read_sql(statement, conn)"
   ]
  },
  {
   "cell_type": "code",
   "execution_count": 21,
   "id": "6a255540-f04d-40d0-bf3c-2416b68347a4",
   "metadata": {
    "execution": {
     "iopub.execute_input": "2025-10-11T21:06:53.967322Z",
     "iopub.status.busy": "2025-10-11T21:06:53.967111Z",
     "iopub.status.idle": "2025-10-11T21:06:55.205258Z",
     "shell.execute_reply": "2025-10-11T21:06:55.204595Z",
     "shell.execute_reply.started": "2025-10-11T21:06:53.967304Z"
    }
   },
   "outputs": [
    {
     "data": {
      "text/html": [
       "<div>\n",
       "<style scoped>\n",
       "    .dataframe tbody tr th:only-of-type {\n",
       "        vertical-align: middle;\n",
       "    }\n",
       "\n",
       "    .dataframe tbody tr th {\n",
       "        vertical-align: top;\n",
       "    }\n",
       "\n",
       "    .dataframe thead th {\n",
       "        text-align: right;\n",
       "    }\n",
       "</style>\n",
       "<table border=\"1\" class=\"dataframe\">\n",
       "  <thead>\n",
       "    <tr style=\"text-align: right;\">\n",
       "      <th></th>\n",
       "      <th>database_name</th>\n",
       "    </tr>\n",
       "  </thead>\n",
       "  <tbody>\n",
       "    <tr>\n",
       "      <th>0</th>\n",
       "      <td>default</td>\n",
       "    </tr>\n",
       "    <tr>\n",
       "      <th>1</th>\n",
       "      <td>foodfacts</td>\n",
       "    </tr>\n",
       "  </tbody>\n",
       "</table>\n",
       "</div>"
      ],
      "text/plain": [
       "  database_name\n",
       "0       default\n",
       "1     foodfacts"
      ]
     },
     "execution_count": 21,
     "metadata": {},
     "output_type": "execute_result"
    }
   ],
   "source": [
    "# Verify database was created\n",
    "statement = \"SHOW DATABASES\"\n",
    "df_show = pd.read_sql(statement, conn)\n",
    "df_show.head(5)"
   ]
  },
  {
   "cell_type": "markdown",
   "id": "959eb912-19a0-4e85-86a2-9406fda86b79",
   "metadata": {},
   "source": [
    "## Create and Run a Glue Crawler for Raw Data\n",
    "We created a glue crawler to automatically create a table of the dataset file."
   ]
  },
  {
   "cell_type": "code",
   "execution_count": 24,
   "id": "271334ac-c38f-41f7-8e74-502c8b0a262a",
   "metadata": {
    "execution": {
     "iopub.execute_input": "2025-10-11T21:07:38.266683Z",
     "iopub.status.busy": "2025-10-11T21:07:38.266426Z",
     "iopub.status.idle": "2025-10-11T21:07:38.568115Z",
     "shell.execute_reply": "2025-10-11T21:07:38.567489Z",
     "shell.execute_reply.started": "2025-10-11T21:07:38.266663Z"
    }
   },
   "outputs": [
    {
     "name": "stdout",
     "output_type": "stream",
     "text": [
      "Crawler 'food_products_crawler' already exists.\n"
     ]
    }
   ],
   "source": [
    "# Initialize the AWS Glue client\n",
    "glue_client = boto3.client('glue', region_name=region)\n",
    "\n",
    "crawler_name = 'food_products_crawler'\n",
    "\n",
    "# Create the Glue Crawler\n",
    "try:\n",
    "    glue_client.create_crawler(\n",
    "        Name=crawler_name,\n",
    "        Role=role,\n",
    "        DatabaseName=database_name,\n",
    "        Targets={'S3Targets': [{'Path': s3_public_folder_path}]},\n",
    "    )\n",
    "    print(f\"Crawler '{crawler_name}' created successfully.\")\n",
    "except glue_client.exceptions.AlreadyExistsException:\n",
    "    print(f\"Crawler '{crawler_name}' already exists.\")"
   ]
  },
  {
   "cell_type": "code",
   "execution_count": 25,
   "id": "68b7b944-0b04-4730-9eb6-93eff4c0cdd4",
   "metadata": {
    "execution": {
     "iopub.execute_input": "2025-10-11T21:07:40.357736Z",
     "iopub.status.busy": "2025-10-11T21:07:40.357482Z",
     "iopub.status.idle": "2025-10-11T21:07:41.715448Z",
     "shell.execute_reply": "2025-10-11T21:07:41.714794Z",
     "shell.execute_reply.started": "2025-10-11T21:07:40.357717Z"
    }
   },
   "outputs": [
    {
     "name": "stdout",
     "output_type": "stream",
     "text": [
      "Crawler Name: food_products_crawler, State: READY\n",
      "Table 'aai_540_openfoodfacts' not found.\n"
     ]
    }
   ],
   "source": [
    "# Verify Creation of Glue Crawler\n",
    "crawlers = glue_client.get_crawlers()\n",
    "for crawler in crawlers['Crawlers']:\n",
    "    print(f\"Crawler Name: {crawler['Name']}, State: {crawler['State']}\")\n",
    "\n",
    "# Check if table was created from crawler\n",
    "target_table = 'aai_540_openfoodfacts'\n",
    "statement = \"SHOW TABLES in {}\".format(database_name)\n",
    "df_show = pd.read_sql(statement, conn)\n",
    "target_table_created = False\n",
    "\n",
    "if target_table in df_show.iloc[:, 0].values:\n",
    "    print(f\"Table '{target_table}' exists!\")\n",
    "    target_table_created = True\n",
    "else:\n",
    "    print(f\"Table '{target_table}' not found.\")\n",
    "    target_table_created = False"
   ]
  },
  {
   "cell_type": "code",
   "execution_count": 26,
   "id": "8a6e6641-b7c4-4a05-a135-e3cbaa13785a",
   "metadata": {
    "execution": {
     "iopub.execute_input": "2025-10-11T21:07:43.715866Z",
     "iopub.status.busy": "2025-10-11T21:07:43.715605Z",
     "iopub.status.idle": "2025-10-11T21:07:43.720593Z",
     "shell.execute_reply": "2025-10-11T21:07:43.719744Z",
     "shell.execute_reply.started": "2025-10-11T21:07:43.715846Z"
    }
   },
   "outputs": [
    {
     "name": "stdout",
     "output_type": "stream",
     "text": [
      "Skipping Crawler. Table 'aai_540_openfoodfacts' exists!\n"
     ]
    }
   ],
   "source": [
    "# Start the Glue Crawler if target table not created\n",
    "if not target_table:\n",
    "    print(f\"Starting crawler '{crawler_name}'...\")\n",
    "    glue_client.start_crawler(Name=crawler_name)\n",
    "    \n",
    "    # Wait for the crawler to finish\n",
    "    while True:\n",
    "        response = glue_client.get_crawler(Name=crawler_name)\n",
    "        state = response['Crawler']['State']\n",
    "    \n",
    "        if state == 'READY':\n",
    "            print(\"Crawler finished successfully.\")\n",
    "            break\n",
    "        elif state == 'STOPPING':\n",
    "            print(\"Crawler is stopping...\")\n",
    "        elif state == 'RUNNING':\n",
    "            print(\"Crawler is running...\")\n",
    "        elif state == 'FAILED':\n",
    "            print(\"Crawler failed.\")\n",
    "            break\n",
    "        \n",
    "        time.sleep(15) # Wait 15 seconds before checking the status again\n",
    "else:\n",
    "    print(f\"Skipping Crawler. Table '{target_table}' exists!\")"
   ]
  },
  {
   "cell_type": "markdown",
   "id": "d017ab51-11a9-42ab-8d89-864d200cc598",
   "metadata": {},
   "source": [
    "## Only rerun if your crawler is not created"
   ]
  },
  {
   "cell_type": "code",
   "execution_count": 29,
   "id": "94ede38a-7110-4293-9bfe-21f114e76445",
   "metadata": {
    "execution": {
     "iopub.execute_input": "2025-10-11T21:10:00.181647Z",
     "iopub.status.busy": "2025-10-11T21:10:00.181392Z",
     "iopub.status.idle": "2025-10-11T21:12:57.503326Z",
     "shell.execute_reply": "2025-10-11T21:12:57.502680Z",
     "shell.execute_reply.started": "2025-10-11T21:10:00.181626Z"
    }
   },
   "outputs": [
    {
     "name": "stdout",
     "output_type": "stream",
     "text": [
      "Starting crawler 'food_products_crawler'...\n",
      "Crawler is still running...\n",
      "Crawler is still running...\n",
      "Crawler is still running...\n",
      "Crawler is still running...\n",
      "Crawler is still running...\n",
      "Crawler is still running...\n",
      "Crawler state: STOPPING\n",
      "Crawler state: STOPPING\n",
      "Crawler state: STOPPING\n",
      "Crawler state: STOPPING\n",
      "Crawler state: STOPPING\n",
      "Crawler finished successfully.\n"
     ]
    }
   ],
   "source": [
    "# Force rerun of crawler - amilad\n",
    "print(f\"Starting crawler '{crawler_name}'...\")\n",
    "glue_client.start_crawler(Name=crawler_name)\n",
    "\n",
    "# Wait for crawler to finish\n",
    "import time\n",
    "\n",
    "while True:\n",
    "    response = glue_client.get_crawler(Name=crawler_name)\n",
    "    state = response['Crawler']['State']\n",
    "    if state == 'READY':\n",
    "        print(\"Crawler finished successfully.\")\n",
    "        break\n",
    "    elif state == 'RUNNING':\n",
    "        print(\"Crawler is still running...\")\n",
    "    else:\n",
    "        print(f\"Crawler state: {state}\")\n",
    "    time.sleep(15)\n"
   ]
  },
  {
   "cell_type": "code",
   "execution_count": 30,
   "id": "d76df8df-d569-40c0-93b1-f3259f52ddab",
   "metadata": {
    "execution": {
     "iopub.execute_input": "2025-10-11T21:13:16.228289Z",
     "iopub.status.busy": "2025-10-11T21:13:16.227997Z",
     "iopub.status.idle": "2025-10-11T21:13:16.232241Z",
     "shell.execute_reply": "2025-10-11T21:13:16.231453Z",
     "shell.execute_reply.started": "2025-10-11T21:13:16.228268Z"
    }
   },
   "outputs": [
    {
     "name": "stdout",
     "output_type": "stream",
     "text": [
      "Stored 'raw_table_name' (str)\n"
     ]
    }
   ],
   "source": [
    "# Save table name\n",
    "raw_table_name = \"aai_540_openfoodfacts\"\n",
    "%store raw_table_name"
   ]
  },
  {
   "cell_type": "markdown",
   "id": "e9367a54-60e1-49ae-9aa4-60556ea85162",
   "metadata": {},
   "source": [
    "## Verify Querying the Database"
   ]
  },
  {
   "cell_type": "code",
   "execution_count": 31,
   "id": "43ef1545-e9cd-45a9-a174-45754106cab8",
   "metadata": {
    "execution": {
     "iopub.execute_input": "2025-10-11T21:13:18.555791Z",
     "iopub.status.busy": "2025-10-11T21:13:18.555531Z",
     "iopub.status.idle": "2025-10-11T21:13:26.061282Z",
     "shell.execute_reply": "2025-10-11T21:13:26.060714Z",
     "shell.execute_reply.started": "2025-10-11T21:13:18.555771Z"
    }
   },
   "outputs": [
    {
     "name": "stdout",
     "output_type": "stream",
     "text": [
      "SELECT COUNT(*) as count FROM foodfacts.aai_540_openfoodfacts\n"
     ]
    },
    {
     "data": {
      "text/html": [
       "<div>\n",
       "<style scoped>\n",
       "    .dataframe tbody tr th:only-of-type {\n",
       "        vertical-align: middle;\n",
       "    }\n",
       "\n",
       "    .dataframe tbody tr th {\n",
       "        vertical-align: top;\n",
       "    }\n",
       "\n",
       "    .dataframe thead th {\n",
       "        text-align: right;\n",
       "    }\n",
       "</style>\n",
       "<table border=\"1\" class=\"dataframe\">\n",
       "  <thead>\n",
       "    <tr style=\"text-align: right;\">\n",
       "      <th></th>\n",
       "      <th>count</th>\n",
       "    </tr>\n",
       "  </thead>\n",
       "  <tbody>\n",
       "    <tr>\n",
       "      <th>0</th>\n",
       "      <td>4029225</td>\n",
       "    </tr>\n",
       "  </tbody>\n",
       "</table>\n",
       "</div>"
      ],
      "text/plain": [
       "     count\n",
       "0  4029225"
      ]
     },
     "execution_count": 31,
     "metadata": {},
     "output_type": "execute_result"
    }
   ],
   "source": [
    "# Run Count query\n",
    "statement = \"\"\"SELECT COUNT(*) as count FROM {}.{}\"\"\".format(\n",
    "    database_name, raw_table_name\n",
    ")\n",
    "print(statement)\n",
    "df = pd.read_sql(statement, conn)\n",
    "df"
   ]
  },
  {
   "cell_type": "code",
   "execution_count": 32,
   "id": "870ab0ae-4f72-430b-9ec5-a1cadf23ad35",
   "metadata": {
    "execution": {
     "iopub.execute_input": "2025-10-11T21:15:26.894151Z",
     "iopub.status.busy": "2025-10-11T21:15:26.893875Z",
     "iopub.status.idle": "2025-10-11T21:15:33.389276Z",
     "shell.execute_reply": "2025-10-11T21:15:33.388529Z",
     "shell.execute_reply.started": "2025-10-11T21:15:26.894131Z"
    }
   },
   "outputs": [
    {
     "name": "stdout",
     "output_type": "stream",
     "text": [
      "SELECT * FROM foodfacts.aai_540_openfoodfacts LIMIT 5\n"
     ]
    },
    {
     "data": {
      "text/html": [
       "<div>\n",
       "<style scoped>\n",
       "    .dataframe tbody tr th:only-of-type {\n",
       "        vertical-align: middle;\n",
       "    }\n",
       "\n",
       "    .dataframe tbody tr th {\n",
       "        vertical-align: top;\n",
       "    }\n",
       "\n",
       "    .dataframe thead th {\n",
       "        text-align: right;\n",
       "    }\n",
       "</style>\n",
       "<table border=\"1\" class=\"dataframe\">\n",
       "  <thead>\n",
       "    <tr style=\"text-align: right;\">\n",
       "      <th></th>\n",
       "      <th>additives_n</th>\n",
       "      <th>additives_tags</th>\n",
       "      <th>allergens_tags</th>\n",
       "      <th>brands_tags</th>\n",
       "      <th>brands</th>\n",
       "      <th>categories</th>\n",
       "      <th>categories_tags</th>\n",
       "      <th>categories_properties</th>\n",
       "      <th>checkers_tags</th>\n",
       "      <th>ciqual_food_name_tags</th>\n",
       "      <th>...</th>\n",
       "      <th>states_tags</th>\n",
       "      <th>stores_tags</th>\n",
       "      <th>stores</th>\n",
       "      <th>traces_tags</th>\n",
       "      <th>unique_scans_n</th>\n",
       "      <th>unknown_ingredients_n</th>\n",
       "      <th>unknown_nutrients_tags</th>\n",
       "      <th>vitamins_tags</th>\n",
       "      <th>with_non_nutritive_sweeteners</th>\n",
       "      <th>with_sweeteners</th>\n",
       "    </tr>\n",
       "  </thead>\n",
       "  <tbody>\n",
       "    <tr>\n",
       "      <th>0</th>\n",
       "      <td>NaN</td>\n",
       "      <td>None</td>\n",
       "      <td>[]</td>\n",
       "      <td>None</td>\n",
       "      <td>None</td>\n",
       "      <td>en:peanut-butters</td>\n",
       "      <td>[en:plant-based-foods-and-beverages, en:plant-...</td>\n",
       "      <td>{'ciqual_food_code': 15202, 'agribalyse_food_c...</td>\n",
       "      <td>[]</td>\n",
       "      <td>None</td>\n",
       "      <td>...</td>\n",
       "      <td>[en:to-be-completed, en:nutrition-facts-to-be-...</td>\n",
       "      <td>None</td>\n",
       "      <td>None</td>\n",
       "      <td>[]</td>\n",
       "      <td>None</td>\n",
       "      <td>NaN</td>\n",
       "      <td>[]</td>\n",
       "      <td>None</td>\n",
       "      <td>None</td>\n",
       "      <td>None</td>\n",
       "    </tr>\n",
       "    <tr>\n",
       "      <th>1</th>\n",
       "      <td>1.0</td>\n",
       "      <td>[en:e270]</td>\n",
       "      <td>[]</td>\n",
       "      <td>[xx:4505-meats]</td>\n",
       "      <td>4505 Meats</td>\n",
       "      <td>None</td>\n",
       "      <td>None</td>\n",
       "      <td>{'ciqual_food_code': None, 'agribalyse_food_co...</td>\n",
       "      <td>[]</td>\n",
       "      <td>None</td>\n",
       "      <td>...</td>\n",
       "      <td>[en:to-be-completed, en:nutrition-facts-comple...</td>\n",
       "      <td>None</td>\n",
       "      <td>None</td>\n",
       "      <td>[]</td>\n",
       "      <td>None</td>\n",
       "      <td>1.0</td>\n",
       "      <td>[]</td>\n",
       "      <td>[]</td>\n",
       "      <td>None</td>\n",
       "      <td>None</td>\n",
       "    </tr>\n",
       "    <tr>\n",
       "      <th>2</th>\n",
       "      <td>NaN</td>\n",
       "      <td>None</td>\n",
       "      <td>None</td>\n",
       "      <td>None</td>\n",
       "      <td>None</td>\n",
       "      <td>None</td>\n",
       "      <td>None</td>\n",
       "      <td>None</td>\n",
       "      <td>[]</td>\n",
       "      <td>None</td>\n",
       "      <td>...</td>\n",
       "      <td>[en:to-be-completed, en:nutrition-facts-to-be-...</td>\n",
       "      <td>None</td>\n",
       "      <td>None</td>\n",
       "      <td>None</td>\n",
       "      <td>None</td>\n",
       "      <td>NaN</td>\n",
       "      <td>None</td>\n",
       "      <td>None</td>\n",
       "      <td>None</td>\n",
       "      <td>None</td>\n",
       "    </tr>\n",
       "    <tr>\n",
       "      <th>3</th>\n",
       "      <td>NaN</td>\n",
       "      <td>None</td>\n",
       "      <td>[]</td>\n",
       "      <td>[xx:מולר]</td>\n",
       "      <td>מולר</td>\n",
       "      <td>None</td>\n",
       "      <td>None</td>\n",
       "      <td>{'ciqual_food_code': None, 'agribalyse_food_co...</td>\n",
       "      <td>[]</td>\n",
       "      <td>None</td>\n",
       "      <td>...</td>\n",
       "      <td>[en:to-be-completed, en:nutrition-facts-comple...</td>\n",
       "      <td>None</td>\n",
       "      <td>None</td>\n",
       "      <td>[]</td>\n",
       "      <td>None</td>\n",
       "      <td>NaN</td>\n",
       "      <td>[]</td>\n",
       "      <td>None</td>\n",
       "      <td>None</td>\n",
       "      <td>None</td>\n",
       "    </tr>\n",
       "    <tr>\n",
       "      <th>4</th>\n",
       "      <td>NaN</td>\n",
       "      <td>None</td>\n",
       "      <td>None</td>\n",
       "      <td>None</td>\n",
       "      <td>None</td>\n",
       "      <td>None</td>\n",
       "      <td>None</td>\n",
       "      <td>None</td>\n",
       "      <td>[]</td>\n",
       "      <td>None</td>\n",
       "      <td>...</td>\n",
       "      <td>[en:to-be-completed, en:nutrition-facts-to-be-...</td>\n",
       "      <td>None</td>\n",
       "      <td>None</td>\n",
       "      <td>None</td>\n",
       "      <td>None</td>\n",
       "      <td>NaN</td>\n",
       "      <td>None</td>\n",
       "      <td>None</td>\n",
       "      <td>None</td>\n",
       "      <td>None</td>\n",
       "    </tr>\n",
       "  </tbody>\n",
       "</table>\n",
       "<p>5 rows × 110 columns</p>\n",
       "</div>"
      ],
      "text/plain": [
       "   additives_n additives_tags allergens_tags      brands_tags      brands  \\\n",
       "0          NaN           None             []             None        None   \n",
       "1          1.0      [en:e270]             []  [xx:4505-meats]  4505 Meats   \n",
       "2          NaN           None           None             None        None   \n",
       "3          NaN           None             []        [xx:מולר]        מולר   \n",
       "4          NaN           None           None             None        None   \n",
       "\n",
       "          categories                                    categories_tags  \\\n",
       "0  en:peanut-butters  [en:plant-based-foods-and-beverages, en:plant-...   \n",
       "1               None                                               None   \n",
       "2               None                                               None   \n",
       "3               None                                               None   \n",
       "4               None                                               None   \n",
       "\n",
       "                               categories_properties checkers_tags  \\\n",
       "0  {'ciqual_food_code': 15202, 'agribalyse_food_c...            []   \n",
       "1  {'ciqual_food_code': None, 'agribalyse_food_co...            []   \n",
       "2                                               None            []   \n",
       "3  {'ciqual_food_code': None, 'agribalyse_food_co...            []   \n",
       "4                                               None            []   \n",
       "\n",
       "  ciqual_food_name_tags  ...  \\\n",
       "0                  None  ...   \n",
       "1                  None  ...   \n",
       "2                  None  ...   \n",
       "3                  None  ...   \n",
       "4                  None  ...   \n",
       "\n",
       "                                         states_tags stores_tags stores  \\\n",
       "0  [en:to-be-completed, en:nutrition-facts-to-be-...        None   None   \n",
       "1  [en:to-be-completed, en:nutrition-facts-comple...        None   None   \n",
       "2  [en:to-be-completed, en:nutrition-facts-to-be-...        None   None   \n",
       "3  [en:to-be-completed, en:nutrition-facts-comple...        None   None   \n",
       "4  [en:to-be-completed, en:nutrition-facts-to-be-...        None   None   \n",
       "\n",
       "   traces_tags  unique_scans_n unknown_ingredients_n unknown_nutrients_tags  \\\n",
       "0           []            None                   NaN                     []   \n",
       "1           []            None                   1.0                     []   \n",
       "2         None            None                   NaN                   None   \n",
       "3           []            None                   NaN                     []   \n",
       "4         None            None                   NaN                   None   \n",
       "\n",
       "   vitamins_tags with_non_nutritive_sweeteners with_sweeteners  \n",
       "0           None                          None            None  \n",
       "1             []                          None            None  \n",
       "2           None                          None            None  \n",
       "3           None                          None            None  \n",
       "4           None                          None            None  \n",
       "\n",
       "[5 rows x 110 columns]"
      ]
     },
     "execution_count": 32,
     "metadata": {},
     "output_type": "execute_result"
    }
   ],
   "source": [
    "# Run sample query\n",
    "statement = \"\"\"SELECT * FROM {}.{} LIMIT 5\"\"\".format(\n",
    "    database_name, raw_table_name\n",
    ")\n",
    "print(statement)\n",
    "df = pd.read_sql(statement, conn)\n",
    "df.head(5)"
   ]
  },
  {
   "cell_type": "markdown",
   "id": "b3c615ea-8cb1-4654-8462-b1156660fdb9",
   "metadata": {},
   "source": [
    "## Create a Filtered Subset Table"
   ]
  },
  {
   "cell_type": "code",
   "execution_count": 33,
   "id": "3ba707b3-10bf-4400-800a-776e3c05437f",
   "metadata": {
    "execution": {
     "iopub.execute_input": "2025-10-11T21:15:41.080162Z",
     "iopub.status.busy": "2025-10-11T21:15:41.079902Z",
     "iopub.status.idle": "2025-10-11T21:15:58.693615Z",
     "shell.execute_reply": "2025-10-11T21:15:58.692919Z",
     "shell.execute_reply.started": "2025-10-11T21:15:41.080142Z"
    }
   },
   "outputs": [
    {
     "name": "stdout",
     "output_type": "stream",
     "text": [
      "CREATE TABLE IF NOT EXISTS foodfacts.food_us_100k\n",
      "WITH (\n",
      "  format = 'PARQUET',\n",
      "  parquet_compression = 'SNAPPY',\n",
      "  external_location = 's3://sagemaker-us-east-1-243285667099/food_us_subset_100k/'\n",
      ") AS\n",
      "SELECT\n",
      "  t.code,\n",
      "  t.product_name,\n",
      "  t.nutriments,\n",
      "  t.nova_group,\n",
      "  t.additives_n,\n",
      "  t.ingredients_n,\n",
      "  t.nutriscore_score\n",
      "FROM\n",
      "  foodfacts.aai_540_openfoodfacts AS t\n",
      "JOIN (\n",
      "  SELECT DISTINCT\n",
      "    code,\n",
      "    murmur3(to_utf8(code)) AS code_hash\n",
      "  FROM\n",
      "    foodfacts.aai_540_openfoodfacts\n",
      "  WHERE\n",
      "    contains(countries_tags, 'en:united-states')\n",
      "    AND nutriscore_score IS NOT NULL \n",
      "    AND code IS NOT NULL \n",
      "    AND product_name IS NOT NULL \n",
      "    AND nova_group IS NOT NULL\n",
      "    AND additives_n IS NOT NULL\n",
      "    AND ingredients_n IS NOT NULL\n",
      "  ORDER BY code_hash, code\n",
      "  LIMIT 100000\n",
      ") AS unique_codes\n",
      "ON t.code = unique_codes.code\n"
     ]
    },
    {
     "data": {
      "text/html": [
       "<div>\n",
       "<style scoped>\n",
       "    .dataframe tbody tr th:only-of-type {\n",
       "        vertical-align: middle;\n",
       "    }\n",
       "\n",
       "    .dataframe tbody tr th {\n",
       "        vertical-align: top;\n",
       "    }\n",
       "\n",
       "    .dataframe thead th {\n",
       "        text-align: right;\n",
       "    }\n",
       "</style>\n",
       "<table border=\"1\" class=\"dataframe\">\n",
       "  <thead>\n",
       "    <tr style=\"text-align: right;\">\n",
       "      <th></th>\n",
       "      <th>rows</th>\n",
       "    </tr>\n",
       "  </thead>\n",
       "  <tbody>\n",
       "  </tbody>\n",
       "</table>\n",
       "</div>"
      ],
      "text/plain": [
       "Empty DataFrame\n",
       "Columns: [rows]\n",
       "Index: []"
      ]
     },
     "execution_count": 33,
     "metadata": {},
     "output_type": "execute_result"
    }
   ],
   "source": [
    "# Filter down dataset to food products in United States with selected raw columns\n",
    "us_table_name = 'food_us_100k'\n",
    "subset_path = 'food_us_subset_100k/'\n",
    "full_s3_path = f's3://{bucket}/{subset_path}'\n",
    "\n",
    "# Filter query\n",
    "# Selects columns of interest\n",
    "# Makes sure to select distinct codes\n",
    "# Includes order by code hash and hash for reproducibility\n",
    "statement = \"\"\"CREATE TABLE IF NOT EXISTS {}.{}\n",
    "WITH (\n",
    "  format = 'PARQUET',\n",
    "  parquet_compression = 'SNAPPY',\n",
    "  external_location = '{}'\n",
    ") AS\n",
    "SELECT\n",
    "  t.code,\n",
    "  t.product_name,\n",
    "  t.nutriments,\n",
    "  t.nova_group,\n",
    "  t.additives_n,\n",
    "  t.ingredients_n,\n",
    "  t.nutriscore_score\n",
    "FROM\n",
    "  {}.{} AS t\n",
    "JOIN (\n",
    "  SELECT DISTINCT\n",
    "    code,\n",
    "    murmur3(to_utf8(code)) AS code_hash\n",
    "  FROM\n",
    "    {}.{}\n",
    "  WHERE\n",
    "    contains(countries_tags, 'en:united-states')\n",
    "    AND nutriscore_score IS NOT NULL \n",
    "    AND code IS NOT NULL \n",
    "    AND product_name IS NOT NULL \n",
    "    AND nova_group IS NOT NULL\n",
    "    AND additives_n IS NOT NULL\n",
    "    AND ingredients_n IS NOT NULL\n",
    "  ORDER BY code_hash, code\n",
    "  LIMIT 100000\n",
    ") AS unique_codes\n",
    "ON t.code = unique_codes.code\"\"\".format(\n",
    "    database_name, us_table_name, full_s3_path, database_name, raw_table_name,\n",
    "    database_name, raw_table_name\n",
    ")\n",
    "print(statement)\n",
    "pd.read_sql(statement, conn)"
   ]
  },
  {
   "cell_type": "code",
   "execution_count": 34,
   "id": "5dd79a16-615b-4fe7-8c3f-d3d29b99561a",
   "metadata": {
    "execution": {
     "iopub.execute_input": "2025-10-11T21:15:58.695041Z",
     "iopub.status.busy": "2025-10-11T21:15:58.694704Z",
     "iopub.status.idle": "2025-10-11T21:15:59.916029Z",
     "shell.execute_reply": "2025-10-11T21:15:59.915399Z",
     "shell.execute_reply.started": "2025-10-11T21:15:58.695014Z"
    }
   },
   "outputs": [
    {
     "name": "stdout",
     "output_type": "stream",
     "text": [
      "SELECT COUNT(*) AS COUNT FROM foodfacts.food_us_100k\n"
     ]
    },
    {
     "data": {
      "text/html": [
       "<div>\n",
       "<style scoped>\n",
       "    .dataframe tbody tr th:only-of-type {\n",
       "        vertical-align: middle;\n",
       "    }\n",
       "\n",
       "    .dataframe tbody tr th {\n",
       "        vertical-align: top;\n",
       "    }\n",
       "\n",
       "    .dataframe thead th {\n",
       "        text-align: right;\n",
       "    }\n",
       "</style>\n",
       "<table border=\"1\" class=\"dataframe\">\n",
       "  <thead>\n",
       "    <tr style=\"text-align: right;\">\n",
       "      <th></th>\n",
       "      <th>COUNT</th>\n",
       "    </tr>\n",
       "  </thead>\n",
       "  <tbody>\n",
       "    <tr>\n",
       "      <th>0</th>\n",
       "      <td>100000</td>\n",
       "    </tr>\n",
       "  </tbody>\n",
       "</table>\n",
       "</div>"
      ],
      "text/plain": [
       "    COUNT\n",
       "0  100000"
      ]
     },
     "execution_count": 34,
     "metadata": {},
     "output_type": "execute_result"
    }
   ],
   "source": [
    "# Run Count query on filtered subset\n",
    "statement = \"\"\"SELECT COUNT(*) AS COUNT FROM {}.{}\"\"\".format(\n",
    "    database_name, us_table_name\n",
    ")\n",
    "print(statement)\n",
    "df = pd.read_sql(statement, conn)\n",
    "df"
   ]
  },
  {
   "cell_type": "code",
   "execution_count": 35,
   "id": "8e889b56-2cfb-4146-950f-5df6b91482b4",
   "metadata": {
    "execution": {
     "iopub.execute_input": "2025-10-11T21:15:59.917133Z",
     "iopub.status.busy": "2025-10-11T21:15:59.916846Z",
     "iopub.status.idle": "2025-10-11T21:16:01.187145Z",
     "shell.execute_reply": "2025-10-11T21:16:01.186544Z",
     "shell.execute_reply.started": "2025-10-11T21:15:59.917106Z"
    }
   },
   "outputs": [
    {
     "name": "stdout",
     "output_type": "stream",
     "text": [
      "SELECT * FROM foodfacts.food_us_100k ORDER BY CODE LIMIT 5;\n"
     ]
    },
    {
     "data": {
      "text/html": [
       "<div>\n",
       "<style scoped>\n",
       "    .dataframe tbody tr th:only-of-type {\n",
       "        vertical-align: middle;\n",
       "    }\n",
       "\n",
       "    .dataframe tbody tr th {\n",
       "        vertical-align: top;\n",
       "    }\n",
       "\n",
       "    .dataframe thead th {\n",
       "        text-align: right;\n",
       "    }\n",
       "</style>\n",
       "<table border=\"1\" class=\"dataframe\">\n",
       "  <thead>\n",
       "    <tr style=\"text-align: right;\">\n",
       "      <th></th>\n",
       "      <th>code</th>\n",
       "      <th>product_name</th>\n",
       "      <th>nutriments</th>\n",
       "      <th>nova_group</th>\n",
       "      <th>additives_n</th>\n",
       "      <th>ingredients_n</th>\n",
       "      <th>nutriscore_score</th>\n",
       "    </tr>\n",
       "  </thead>\n",
       "  <tbody>\n",
       "    <tr>\n",
       "      <th>0</th>\n",
       "      <td>00000417</td>\n",
       "      <td>[{'lang': 'main', 'text': 'Owmy'}, {'lang': 'e...</td>\n",
       "      <td>[{'name': 'energy', 'value': 3.6021059, '100g'...</td>\n",
       "      <td>4</td>\n",
       "      <td>2</td>\n",
       "      <td>11</td>\n",
       "      <td>0</td>\n",
       "    </tr>\n",
       "    <tr>\n",
       "      <th>1</th>\n",
       "      <td>00000749</td>\n",
       "      <td>[{'lang': 'main', 'text': 'Cream soup air corn...</td>\n",
       "      <td>[{'name': 'nova-group', 'value': None, '100g':...</td>\n",
       "      <td>3</td>\n",
       "      <td>0</td>\n",
       "      <td>6</td>\n",
       "      <td>23</td>\n",
       "    </tr>\n",
       "    <tr>\n",
       "      <th>2</th>\n",
       "      <td>0000105000417</td>\n",
       "      <td>[{'lang': 'main', 'text': 'Lagg's'}, {'lang': ...</td>\n",
       "      <td>[{'name': 'sodium', 'value': 0.0, '100g': 0.0,...</td>\n",
       "      <td>1</td>\n",
       "      <td>0</td>\n",
       "      <td>6</td>\n",
       "      <td>0</td>\n",
       "    </tr>\n",
       "    <tr>\n",
       "      <th>3</th>\n",
       "      <td>0000111048403</td>\n",
       "      <td>[{'lang': 'main', 'text': '100% Pure Canola Oi...</td>\n",
       "      <td>[{'name': 'fat', 'value': 100.0, '100g': 100.0...</td>\n",
       "      <td>2</td>\n",
       "      <td>0</td>\n",
       "      <td>2</td>\n",
       "      <td>2</td>\n",
       "    </tr>\n",
       "    <tr>\n",
       "      <th>4</th>\n",
       "      <td>0000111301201</td>\n",
       "      <td>[{'lang': 'main', 'text': 'Canola Harvest® Ori...</td>\n",
       "      <td>[{'name': 'trans-fat', 'value': 0.0, '100g': 0...</td>\n",
       "      <td>4</td>\n",
       "      <td>4</td>\n",
       "      <td>17</td>\n",
       "      <td>40</td>\n",
       "    </tr>\n",
       "  </tbody>\n",
       "</table>\n",
       "</div>"
      ],
      "text/plain": [
       "            code                                       product_name  \\\n",
       "0       00000417  [{'lang': 'main', 'text': 'Owmy'}, {'lang': 'e...   \n",
       "1       00000749  [{'lang': 'main', 'text': 'Cream soup air corn...   \n",
       "2  0000105000417  [{'lang': 'main', 'text': 'Lagg's'}, {'lang': ...   \n",
       "3  0000111048403  [{'lang': 'main', 'text': '100% Pure Canola Oi...   \n",
       "4  0000111301201  [{'lang': 'main', 'text': 'Canola Harvest® Ori...   \n",
       "\n",
       "                                          nutriments  nova_group  additives_n  \\\n",
       "0  [{'name': 'energy', 'value': 3.6021059, '100g'...           4            2   \n",
       "1  [{'name': 'nova-group', 'value': None, '100g':...           3            0   \n",
       "2  [{'name': 'sodium', 'value': 0.0, '100g': 0.0,...           1            0   \n",
       "3  [{'name': 'fat', 'value': 100.0, '100g': 100.0...           2            0   \n",
       "4  [{'name': 'trans-fat', 'value': 0.0, '100g': 0...           4            4   \n",
       "\n",
       "   ingredients_n  nutriscore_score  \n",
       "0             11                 0  \n",
       "1              6                23  \n",
       "2              6                 0  \n",
       "3              2                 2  \n",
       "4             17                40  "
      ]
     },
     "execution_count": 35,
     "metadata": {},
     "output_type": "execute_result"
    }
   ],
   "source": [
    "# View rows from subset data\n",
    "statement = \"\"\"SELECT * FROM {}.{} ORDER BY CODE LIMIT 5;\"\"\".format(\n",
    "    database_name, us_table_name\n",
    ")\n",
    "print(statement)\n",
    "df_us = pd.read_sql(statement, conn)\n",
    "df_us"
   ]
  },
  {
   "cell_type": "code",
   "execution_count": null,
   "id": "cfc8a387-0793-4043-9e94-7e33fbdc5775",
   "metadata": {},
   "outputs": [],
   "source": []
  }
 ],
 "metadata": {
  "kernelspec": {
   "display_name": "Python 3 (ipykernel)",
   "language": "python",
   "name": "python3"
  },
  "language_info": {
   "codemirror_mode": {
    "name": "ipython",
    "version": 3
   },
   "file_extension": ".py",
   "mimetype": "text/x-python",
   "name": "python",
   "nbconvert_exporter": "python",
   "pygments_lexer": "ipython3",
   "version": "3.12.9"
  }
 },
 "nbformat": 4,
 "nbformat_minor": 5
}
