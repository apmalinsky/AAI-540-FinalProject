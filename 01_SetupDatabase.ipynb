{
 "cells": [
  {
   "cell_type": "markdown",
   "id": "cb62fd16-751c-4685-b76e-6c1e6bc6a7dd",
   "metadata": {},
   "source": [
    "The dataset was downloaded locally from Hugging Face [here](https://huggingface.co/datasets/openfoodfacts/product-database/blob/main/food.parquet), then uploaded to our public S3 bucket."
   ]
  },
  {
   "cell_type": "code",
   "execution_count": null,
   "id": "40f694e3-ec70-40a9-9b7d-db77d4dfd69b",
   "metadata": {},
   "outputs": [],
   "source": [
    "# Install dependencies\n",
    "!pip install --upgrade boto3 botocore awscli"
   ]
  },
  {
   "cell_type": "code",
   "execution_count": 1,
   "id": "1965234f-8c8f-4072-955e-72cc07a410f6",
   "metadata": {
    "execution": {
     "iopub.execute_input": "2025-09-22T04:20:12.959830Z",
     "iopub.status.busy": "2025-09-22T04:20:12.959528Z",
     "iopub.status.idle": "2025-09-22T04:20:14.863949Z",
     "shell.execute_reply": "2025-09-22T04:20:14.863340Z",
     "shell.execute_reply.started": "2025-09-22T04:20:12.959796Z"
    }
   },
   "outputs": [
    {
     "name": "stdout",
     "output_type": "stream",
     "text": [
      "sagemaker.config INFO - Not applying SDK defaults from location: /etc/xdg/sagemaker/config.yaml\n",
      "sagemaker.config INFO - Not applying SDK defaults from location: /home/sagemaker-user/.config/sagemaker/config.yaml\n"
     ]
    }
   ],
   "source": [
    "# Import libraries\n",
    "import boto3\n",
    "import sagemaker\n",
    "from pyathena import connect\n",
    "import pandas as pd\n",
    "import time"
   ]
  },
  {
   "cell_type": "markdown",
   "id": "754d8ff4-4584-407b-9ae2-7184a65518c5",
   "metadata": {},
   "source": [
    "# Setup Athena Database and Query Engine"
   ]
  },
  {
   "cell_type": "code",
   "execution_count": 2,
   "id": "28b06fbf-b1b2-4369-80ba-704d7920a156",
   "metadata": {
    "execution": {
     "iopub.execute_input": "2025-09-22T04:20:14.867172Z",
     "iopub.status.busy": "2025-09-22T04:20:14.866975Z",
     "iopub.status.idle": "2025-09-22T04:20:15.374539Z",
     "shell.execute_reply": "2025-09-22T04:20:15.374009Z",
     "shell.execute_reply.started": "2025-09-22T04:20:14.867154Z"
    }
   },
   "outputs": [
    {
     "name": "stdout",
     "output_type": "stream",
     "text": [
      "Boto and Sagemaker Sessions Initialized...\n",
      "Bucket: sagemaker-us-east-1-975049911265\n",
      "Region: us-east-1\n"
     ]
    }
   ],
   "source": [
    "# Setup boto and sagemaker session\n",
    "sess = sagemaker.Session()\n",
    "bucket = sess.default_bucket()\n",
    "role = sagemaker.get_execution_role()\n",
    "region = boto3.Session().region_name\n",
    "print('Boto and Sagemaker Sessions Initialized...\\nBucket: {0}\\nRegion: {1}'.format(bucket, region))"
   ]
  },
  {
   "cell_type": "markdown",
   "id": "f057cd3d-fa48-48df-b8da-5a4a0ef20dbf",
   "metadata": {},
   "source": [
    "## Verify Access to Dataset from Public S3 Bucket"
   ]
  },
  {
   "cell_type": "code",
   "execution_count": 3,
   "id": "f5a16d0d-2a54-49c9-8aec-90cf7f1dd6f8",
   "metadata": {
    "execution": {
     "iopub.execute_input": "2025-09-22T04:20:16.235848Z",
     "iopub.status.busy": "2025-09-22T04:20:16.235511Z",
     "iopub.status.idle": "2025-09-22T04:20:17.702463Z",
     "shell.execute_reply": "2025-09-22T04:20:17.701688Z",
     "shell.execute_reply.started": "2025-09-22T04:20:16.235820Z"
    }
   },
   "outputs": [
    {
     "name": "stdout",
     "output_type": "stream",
     "text": [
      "2025-09-18 04:28:03 4253536290 food.parquet\n"
     ]
    }
   ],
   "source": [
    "# Verify the public S3 bucket contents\n",
    "!aws s3 ls s3://aai-540-openfoodfacts/"
   ]
  },
  {
   "cell_type": "code",
   "execution_count": 4,
   "id": "0009c7df-76b9-4662-a1b7-ee183e2ef395",
   "metadata": {
    "execution": {
     "iopub.execute_input": "2025-09-22T04:20:19.250180Z",
     "iopub.status.busy": "2025-09-22T04:20:19.249888Z",
     "iopub.status.idle": "2025-09-22T04:20:19.256627Z",
     "shell.execute_reply": "2025-09-22T04:20:19.255907Z",
     "shell.execute_reply.started": "2025-09-22T04:20:19.250156Z"
    }
   },
   "outputs": [
    {
     "name": "stdout",
     "output_type": "stream",
     "text": [
      "Stored 's3_public_folder_path' (str)\n",
      "Stored 's3_public_path_parquet' (str)\n"
     ]
    }
   ],
   "source": [
    "# Set S3 source location (public S3 bucket)\n",
    "s3_public_folder_path = \"s3://aai-540-openfoodfacts\"\n",
    "s3_public_path_parquet = \"s3://aai-540-openfoodfacts/food.parquet\"\n",
    "%store s3_public_folder_path\n",
    "%store s3_public_path_parquet"
   ]
  },
  {
   "cell_type": "markdown",
   "id": "9c4af8e8-cb94-4fde-a888-6a4fcacbf4bb",
   "metadata": {},
   "source": [
    "## Create Athena Database"
   ]
  },
  {
   "cell_type": "code",
   "execution_count": 5,
   "id": "6fa8d577-6444-4f92-ae2a-9c76b4782223",
   "metadata": {
    "execution": {
     "iopub.execute_input": "2025-09-22T04:20:20.548634Z",
     "iopub.status.busy": "2025-09-22T04:20:20.548340Z",
     "iopub.status.idle": "2025-09-22T04:20:20.643035Z",
     "shell.execute_reply": "2025-09-22T04:20:20.642427Z",
     "shell.execute_reply.started": "2025-09-22T04:20:20.548609Z"
    }
   },
   "outputs": [],
   "source": [
    "# Initialize our database name\n",
    "database_name = 'foodfacts'\n",
    "\n",
    "# Set S3 staging directory\n",
    "s3_staging_dir = \"s3://{0}/athena/staging\".format(bucket)\n",
    "\n",
    "# Create connection to Athena database\n",
    "conn = connect(region_name=region, s3_staging_dir=s3_staging_dir)"
   ]
  },
  {
   "cell_type": "code",
   "execution_count": 6,
   "id": "75afeff1-9774-4307-87df-1e2f4d5efb15",
   "metadata": {
    "execution": {
     "iopub.execute_input": "2025-09-22T04:20:22.945656Z",
     "iopub.status.busy": "2025-09-22T04:20:22.945350Z",
     "iopub.status.idle": "2025-09-22T04:20:24.623602Z",
     "shell.execute_reply": "2025-09-22T04:20:24.622938Z",
     "shell.execute_reply.started": "2025-09-22T04:20:22.945629Z"
    }
   },
   "outputs": [
    {
     "name": "stdout",
     "output_type": "stream",
     "text": [
      "CREATE DATABASE IF NOT EXISTS foodfacts\n"
     ]
    },
    {
     "name": "stderr",
     "output_type": "stream",
     "text": [
      "/tmp/ipykernel_356/2456362127.py:4: UserWarning: pandas only supports SQLAlchemy connectable (engine/connection) or database string URI or sqlite3 DBAPI2 connection. Other DBAPI2 objects are not tested. Please consider using SQLAlchemy.\n",
      "  pd.read_sql(statement, conn)\n"
     ]
    },
    {
     "data": {
      "text/html": [
       "<div>\n",
       "<style scoped>\n",
       "    .dataframe tbody tr th:only-of-type {\n",
       "        vertical-align: middle;\n",
       "    }\n",
       "\n",
       "    .dataframe tbody tr th {\n",
       "        vertical-align: top;\n",
       "    }\n",
       "\n",
       "    .dataframe thead th {\n",
       "        text-align: right;\n",
       "    }\n",
       "</style>\n",
       "<table border=\"1\" class=\"dataframe\">\n",
       "  <thead>\n",
       "    <tr style=\"text-align: right;\">\n",
       "      <th></th>\n",
       "    </tr>\n",
       "  </thead>\n",
       "  <tbody>\n",
       "  </tbody>\n",
       "</table>\n",
       "</div>"
      ],
      "text/plain": [
       "Empty DataFrame\n",
       "Columns: []\n",
       "Index: []"
      ]
     },
     "execution_count": 6,
     "metadata": {},
     "output_type": "execute_result"
    }
   ],
   "source": [
    "# Create our database\n",
    "statement = \"CREATE DATABASE IF NOT EXISTS {}\".format(database_name)\n",
    "print(statement)\n",
    "pd.read_sql(statement, conn)"
   ]
  },
  {
   "cell_type": "code",
   "execution_count": 7,
   "id": "6a255540-f04d-40d0-bf3c-2416b68347a4",
   "metadata": {
    "execution": {
     "iopub.execute_input": "2025-09-22T04:20:28.443728Z",
     "iopub.status.busy": "2025-09-22T04:20:28.443457Z",
     "iopub.status.idle": "2025-09-22T04:20:29.686864Z",
     "shell.execute_reply": "2025-09-22T04:20:29.686191Z",
     "shell.execute_reply.started": "2025-09-22T04:20:28.443707Z"
    }
   },
   "outputs": [
    {
     "name": "stderr",
     "output_type": "stream",
     "text": [
      "/tmp/ipykernel_356/1984110621.py:3: UserWarning: pandas only supports SQLAlchemy connectable (engine/connection) or database string URI or sqlite3 DBAPI2 connection. Other DBAPI2 objects are not tested. Please consider using SQLAlchemy.\n",
      "  df_show = pd.read_sql(statement, conn)\n"
     ]
    },
    {
     "data": {
      "text/html": [
       "<div>\n",
       "<style scoped>\n",
       "    .dataframe tbody tr th:only-of-type {\n",
       "        vertical-align: middle;\n",
       "    }\n",
       "\n",
       "    .dataframe tbody tr th {\n",
       "        vertical-align: top;\n",
       "    }\n",
       "\n",
       "    .dataframe thead th {\n",
       "        text-align: right;\n",
       "    }\n",
       "</style>\n",
       "<table border=\"1\" class=\"dataframe\">\n",
       "  <thead>\n",
       "    <tr style=\"text-align: right;\">\n",
       "      <th></th>\n",
       "      <th>database_name</th>\n",
       "    </tr>\n",
       "  </thead>\n",
       "  <tbody>\n",
       "    <tr>\n",
       "      <th>0</th>\n",
       "      <td>aai540_assignment2_db</td>\n",
       "    </tr>\n",
       "    <tr>\n",
       "      <th>1</th>\n",
       "      <td>aai540_assignment2_db_csv</td>\n",
       "    </tr>\n",
       "    <tr>\n",
       "      <th>2</th>\n",
       "      <td>default</td>\n",
       "    </tr>\n",
       "    <tr>\n",
       "      <th>3</th>\n",
       "      <td>dsoaws</td>\n",
       "    </tr>\n",
       "    <tr>\n",
       "      <th>4</th>\n",
       "      <td>foodfacts</td>\n",
       "    </tr>\n",
       "  </tbody>\n",
       "</table>\n",
       "</div>"
      ],
      "text/plain": [
       "               database_name\n",
       "0      aai540_assignment2_db\n",
       "1  aai540_assignment2_db_csv\n",
       "2                    default\n",
       "3                     dsoaws\n",
       "4                  foodfacts"
      ]
     },
     "execution_count": 7,
     "metadata": {},
     "output_type": "execute_result"
    }
   ],
   "source": [
    "# Verify database was created\n",
    "statement = \"SHOW DATABASES\"\n",
    "df_show = pd.read_sql(statement, conn)\n",
    "df_show.head(5)"
   ]
  },
  {
   "cell_type": "markdown",
   "id": "959eb912-19a0-4e85-86a2-9406fda86b79",
   "metadata": {},
   "source": [
    "## Create and Run a Glue Crawler\n",
    "We created a glue crawler to automatically create a table of the dataset file."
   ]
  },
  {
   "cell_type": "code",
   "execution_count": 8,
   "id": "271334ac-c38f-41f7-8e74-502c8b0a262a",
   "metadata": {
    "execution": {
     "iopub.execute_input": "2025-09-22T04:20:32.769433Z",
     "iopub.status.busy": "2025-09-22T04:20:32.769135Z",
     "iopub.status.idle": "2025-09-22T04:20:33.159308Z",
     "shell.execute_reply": "2025-09-22T04:20:33.158636Z",
     "shell.execute_reply.started": "2025-09-22T04:20:32.769408Z"
    }
   },
   "outputs": [
    {
     "name": "stdout",
     "output_type": "stream",
     "text": [
      "Crawler 'food_products_crawler' already exists.\n"
     ]
    }
   ],
   "source": [
    "# Initialize the AWS Glue client\n",
    "glue_client = boto3.client('glue', region_name=region)\n",
    "\n",
    "crawler_name = 'food_products_crawler'\n",
    "\n",
    "# Create the Glue Crawler\n",
    "try:\n",
    "    glue_client.create_crawler(\n",
    "        Name=crawler_name,\n",
    "        Role=role,\n",
    "        DatabaseName=database_name,\n",
    "        Targets={'S3Targets': [{'Path': s3_public_folder_path}]},\n",
    "    )\n",
    "    print(f\"Crawler '{crawler_name}' created successfully.\")\n",
    "except glue_client.exceptions.AlreadyExistsException:\n",
    "    print(f\"Crawler '{crawler_name}' already exists.\")"
   ]
  },
  {
   "cell_type": "code",
   "execution_count": 9,
   "id": "68b7b944-0b04-4730-9eb6-93eff4c0cdd4",
   "metadata": {
    "execution": {
     "iopub.execute_input": "2025-09-22T04:20:35.041721Z",
     "iopub.status.busy": "2025-09-22T04:20:35.041438Z",
     "iopub.status.idle": "2025-09-22T04:20:35.122704Z",
     "shell.execute_reply": "2025-09-22T04:20:35.122039Z",
     "shell.execute_reply.started": "2025-09-22T04:20:35.041700Z"
    }
   },
   "outputs": [
    {
     "name": "stdout",
     "output_type": "stream",
     "text": [
      "Crawler Name: aai540_homework2_crawler, State: READY\n",
      "Crawler Name: food_products_crawler, State: READY\n"
     ]
    }
   ],
   "source": [
    "# Verify Creation of Glue Crawler\n",
    "crawlers = glue_client.get_crawlers()\n",
    "for crawler in crawlers['Crawlers']:\n",
    "    print(f\"Crawler Name: {crawler['Name']}, State: {crawler['State']}\")"
   ]
  },
  {
   "cell_type": "code",
   "execution_count": 10,
   "id": "8a6e6641-b7c4-4a05-a135-e3cbaa13785a",
   "metadata": {
    "execution": {
     "iopub.execute_input": "2025-09-22T04:20:37.906194Z",
     "iopub.status.busy": "2025-09-22T04:20:37.905928Z",
     "iopub.status.idle": "2025-09-22T04:23:20.041227Z",
     "shell.execute_reply": "2025-09-22T04:23:20.040549Z",
     "shell.execute_reply.started": "2025-09-22T04:20:37.906175Z"
    }
   },
   "outputs": [
    {
     "name": "stdout",
     "output_type": "stream",
     "text": [
      "Starting crawler 'food_products_crawler'...\n",
      "Crawler is running...\n",
      "Crawler is running...\n",
      "Crawler is running...\n",
      "Crawler is running...\n",
      "Crawler is stopping...\n",
      "Crawler is stopping...\n",
      "Crawler is stopping...\n",
      "Crawler is stopping...\n",
      "Crawler is stopping...\n",
      "Crawler is stopping...\n",
      "Crawler finished successfully.\n"
     ]
    }
   ],
   "source": [
    "# Start the Glue Crawler - no need to re-run \n",
    "print(f\"Starting crawler '{crawler_name}'...\")\n",
    "glue_client.start_crawler(Name=crawler_name)\n",
    "\n",
    "# Wait for the crawler to finish\n",
    "while True:\n",
    "    response = glue_client.get_crawler(Name=crawler_name)\n",
    "    state = response['Crawler']['State']\n",
    "\n",
    "    if state == 'READY':\n",
    "        print(\"Crawler finished successfully.\")\n",
    "        break\n",
    "    elif state == 'STOPPING':\n",
    "        print(\"Crawler is stopping...\")\n",
    "    elif state == 'RUNNING':\n",
    "        print(\"Crawler is running...\")\n",
    "    elif state == 'FAILED':\n",
    "        print(\"Crawler failed.\")\n",
    "        break\n",
    "    \n",
    "    time.sleep(15) # Wait 15 seconds before checking the status again"
   ]
  },
  {
   "cell_type": "code",
   "execution_count": 11,
   "id": "118e1e21-9222-4658-b4bc-ed2487daf717",
   "metadata": {
    "execution": {
     "iopub.execute_input": "2025-09-22T04:23:20.042432Z",
     "iopub.status.busy": "2025-09-22T04:23:20.042172Z",
     "iopub.status.idle": "2025-09-22T04:23:21.312548Z",
     "shell.execute_reply": "2025-09-22T04:23:21.311940Z",
     "shell.execute_reply.started": "2025-09-22T04:23:20.042407Z"
    }
   },
   "outputs": [
    {
     "name": "stderr",
     "output_type": "stream",
     "text": [
      "/tmp/ipykernel_356/875215870.py:3: UserWarning: pandas only supports SQLAlchemy connectable (engine/connection) or database string URI or sqlite3 DBAPI2 connection. Other DBAPI2 objects are not tested. Please consider using SQLAlchemy.\n",
      "  df_show = pd.read_sql(statement, conn)\n"
     ]
    },
    {
     "data": {
      "text/html": [
       "<div>\n",
       "<style scoped>\n",
       "    .dataframe tbody tr th:only-of-type {\n",
       "        vertical-align: middle;\n",
       "    }\n",
       "\n",
       "    .dataframe tbody tr th {\n",
       "        vertical-align: top;\n",
       "    }\n",
       "\n",
       "    .dataframe thead th {\n",
       "        text-align: right;\n",
       "    }\n",
       "</style>\n",
       "<table border=\"1\" class=\"dataframe\">\n",
       "  <thead>\n",
       "    <tr style=\"text-align: right;\">\n",
       "      <th></th>\n",
       "      <th>tab_name</th>\n",
       "    </tr>\n",
       "  </thead>\n",
       "  <tbody>\n",
       "    <tr>\n",
       "      <th>0</th>\n",
       "      <td>aai_540_openfoodfacts</td>\n",
       "    </tr>\n",
       "  </tbody>\n",
       "</table>\n",
       "</div>"
      ],
      "text/plain": [
       "                tab_name\n",
       "0  aai_540_openfoodfacts"
      ]
     },
     "execution_count": 11,
     "metadata": {},
     "output_type": "execute_result"
    }
   ],
   "source": [
    "# Verify table was created from crawler\n",
    "statement = \"SHOW TABLES in {}\".format(database_name)\n",
    "df_show = pd.read_sql(statement, conn)\n",
    "df_show.head(5)"
   ]
  },
  {
   "cell_type": "code",
   "execution_count": 12,
   "id": "d76df8df-d569-40c0-93b1-f3259f52ddab",
   "metadata": {
    "execution": {
     "iopub.execute_input": "2025-09-22T04:23:21.313826Z",
     "iopub.status.busy": "2025-09-22T04:23:21.313489Z",
     "iopub.status.idle": "2025-09-22T04:23:21.318230Z",
     "shell.execute_reply": "2025-09-22T04:23:21.317641Z",
     "shell.execute_reply.started": "2025-09-22T04:23:21.313793Z"
    }
   },
   "outputs": [
    {
     "name": "stdout",
     "output_type": "stream",
     "text": [
      "Stored 'raw_table_name' (str)\n"
     ]
    }
   ],
   "source": [
    "# Save table name\n",
    "raw_table_name = \"aai_540_openfoodfacts\"\n",
    "%store raw_table_name"
   ]
  },
  {
   "cell_type": "markdown",
   "id": "e9367a54-60e1-49ae-9aa4-60556ea85162",
   "metadata": {},
   "source": [
    "## Verify Querying the Database"
   ]
  },
  {
   "cell_type": "code",
   "execution_count": 13,
   "id": "870ab0ae-4f72-430b-9ec5-a1cadf23ad35",
   "metadata": {
    "execution": {
     "iopub.execute_input": "2025-09-22T04:24:46.571331Z",
     "iopub.status.busy": "2025-09-22T04:24:46.571029Z",
     "iopub.status.idle": "2025-09-22T04:24:54.011432Z",
     "shell.execute_reply": "2025-09-22T04:24:54.010727Z",
     "shell.execute_reply.started": "2025-09-22T04:24:46.571305Z"
    }
   },
   "outputs": [
    {
     "name": "stdout",
     "output_type": "stream",
     "text": [
      "SELECT * FROM foodfacts.aai_540_openfoodfacts LIMIT 5\n"
     ]
    },
    {
     "name": "stderr",
     "output_type": "stream",
     "text": [
      "/tmp/ipykernel_356/1746733082.py:6: UserWarning: pandas only supports SQLAlchemy connectable (engine/connection) or database string URI or sqlite3 DBAPI2 connection. Other DBAPI2 objects are not tested. Please consider using SQLAlchemy.\n",
      "  df = pd.read_sql(statement, conn)\n"
     ]
    },
    {
     "data": {
      "text/html": [
       "<div>\n",
       "<style scoped>\n",
       "    .dataframe tbody tr th:only-of-type {\n",
       "        vertical-align: middle;\n",
       "    }\n",
       "\n",
       "    .dataframe tbody tr th {\n",
       "        vertical-align: top;\n",
       "    }\n",
       "\n",
       "    .dataframe thead th {\n",
       "        text-align: right;\n",
       "    }\n",
       "</style>\n",
       "<table border=\"1\" class=\"dataframe\">\n",
       "  <thead>\n",
       "    <tr style=\"text-align: right;\">\n",
       "      <th></th>\n",
       "      <th>additives_n</th>\n",
       "      <th>additives_tags</th>\n",
       "      <th>allergens_tags</th>\n",
       "      <th>brands_tags</th>\n",
       "      <th>brands</th>\n",
       "      <th>categories</th>\n",
       "      <th>categories_tags</th>\n",
       "      <th>categories_properties</th>\n",
       "      <th>checkers_tags</th>\n",
       "      <th>ciqual_food_name_tags</th>\n",
       "      <th>...</th>\n",
       "      <th>states_tags</th>\n",
       "      <th>stores_tags</th>\n",
       "      <th>stores</th>\n",
       "      <th>traces_tags</th>\n",
       "      <th>unique_scans_n</th>\n",
       "      <th>unknown_ingredients_n</th>\n",
       "      <th>unknown_nutrients_tags</th>\n",
       "      <th>vitamins_tags</th>\n",
       "      <th>with_non_nutritive_sweeteners</th>\n",
       "      <th>with_sweeteners</th>\n",
       "    </tr>\n",
       "  </thead>\n",
       "  <tbody>\n",
       "    <tr>\n",
       "      <th>0</th>\n",
       "      <td>0.0</td>\n",
       "      <td>[]</td>\n",
       "      <td>[en:milk]</td>\n",
       "      <td>[xx:molkerei-huttenthal]</td>\n",
       "      <td>Molkerei Hüttenthal</td>\n",
       "      <td>Getränke, Milchprodukte, Fermentierte Lebensmi...</td>\n",
       "      <td>[en:beverages-and-beverages-preparations, en:b...</td>\n",
       "      <td>{'ciqual_food_code': None, 'agribalyse_food_co...</td>\n",
       "      <td>[]</td>\n",
       "      <td>None</td>\n",
       "      <td>...</td>\n",
       "      <td>[en:to-be-completed, en:nutrition-facts-comple...</td>\n",
       "      <td>[l-abbate-kasefabrik]</td>\n",
       "      <td>L'Abbate Käsefabrik</td>\n",
       "      <td>[]</td>\n",
       "      <td>1.0</td>\n",
       "      <td>0.0</td>\n",
       "      <td>[]</td>\n",
       "      <td>[]</td>\n",
       "      <td>None</td>\n",
       "      <td>None</td>\n",
       "    </tr>\n",
       "    <tr>\n",
       "      <th>1</th>\n",
       "      <td>NaN</td>\n",
       "      <td>None</td>\n",
       "      <td>[]</td>\n",
       "      <td>None</td>\n",
       "      <td>None</td>\n",
       "      <td>Plant-based foods and beverages, Plant-based f...</td>\n",
       "      <td>[en:plant-based-foods-and-beverages, en:plant-...</td>\n",
       "      <td>{'ciqual_food_code': None, 'agribalyse_food_co...</td>\n",
       "      <td>[]</td>\n",
       "      <td>None</td>\n",
       "      <td>...</td>\n",
       "      <td>[en:to-be-completed, en:nutrition-facts-to-be-...</td>\n",
       "      <td>None</td>\n",
       "      <td>None</td>\n",
       "      <td>[]</td>\n",
       "      <td>NaN</td>\n",
       "      <td>NaN</td>\n",
       "      <td>[]</td>\n",
       "      <td>None</td>\n",
       "      <td>None</td>\n",
       "      <td>None</td>\n",
       "    </tr>\n",
       "    <tr>\n",
       "      <th>2</th>\n",
       "      <td>NaN</td>\n",
       "      <td>None</td>\n",
       "      <td>[]</td>\n",
       "      <td>[coles]</td>\n",
       "      <td>Coles</td>\n",
       "      <td>None</td>\n",
       "      <td>None</td>\n",
       "      <td>{'ciqual_food_code': None, 'agribalyse_food_co...</td>\n",
       "      <td>[]</td>\n",
       "      <td>None</td>\n",
       "      <td>...</td>\n",
       "      <td>[en:to-be-completed, en:nutrition-facts-comple...</td>\n",
       "      <td>[coles]</td>\n",
       "      <td>Coles</td>\n",
       "      <td>[]</td>\n",
       "      <td>NaN</td>\n",
       "      <td>NaN</td>\n",
       "      <td>[]</td>\n",
       "      <td>None</td>\n",
       "      <td>None</td>\n",
       "      <td>None</td>\n",
       "    </tr>\n",
       "    <tr>\n",
       "      <th>3</th>\n",
       "      <td>NaN</td>\n",
       "      <td>None</td>\n",
       "      <td>[]</td>\n",
       "      <td>[xx:conad]</td>\n",
       "      <td>Conad</td>\n",
       "      <td>Cibi e bevande a base vegetale, Cibi a base ve...</td>\n",
       "      <td>[en:plant-based-foods-and-beverages, en:plant-...</td>\n",
       "      <td>{'ciqual_food_code': None, 'agribalyse_food_co...</td>\n",
       "      <td>[]</td>\n",
       "      <td>None</td>\n",
       "      <td>...</td>\n",
       "      <td>[en:to-be-completed, en:nutrition-facts-to-be-...</td>\n",
       "      <td>None</td>\n",
       "      <td>None</td>\n",
       "      <td>[]</td>\n",
       "      <td>NaN</td>\n",
       "      <td>NaN</td>\n",
       "      <td>[]</td>\n",
       "      <td>None</td>\n",
       "      <td>None</td>\n",
       "      <td>None</td>\n",
       "    </tr>\n",
       "    <tr>\n",
       "      <th>4</th>\n",
       "      <td>0.0</td>\n",
       "      <td>[]</td>\n",
       "      <td>[en:eggs, en:gluten, en:milk, en:nuts, en:soyb...</td>\n",
       "      <td>[xx:farmer-s-market]</td>\n",
       "      <td>Farmer's Market</td>\n",
       "      <td>Snacks, Sweet snacks, Biscuits and cakes, Past...</td>\n",
       "      <td>[en:snacks, en:sweet-snacks, en:biscuits-and-c...</td>\n",
       "      <td>{'ciqual_food_code': 23900, 'agribalyse_food_c...</td>\n",
       "      <td>[]</td>\n",
       "      <td>None</td>\n",
       "      <td>...</td>\n",
       "      <td>[en:to-be-completed, en:nutrition-facts-comple...</td>\n",
       "      <td>[real-canadian-superstore]</td>\n",
       "      <td>Real Canadian Superstore</td>\n",
       "      <td>[en:nuts, en:peanuts, en:sesame-seeds]</td>\n",
       "      <td>NaN</td>\n",
       "      <td>4.0</td>\n",
       "      <td>[]</td>\n",
       "      <td>[]</td>\n",
       "      <td>None</td>\n",
       "      <td>None</td>\n",
       "    </tr>\n",
       "  </tbody>\n",
       "</table>\n",
       "<p>5 rows × 110 columns</p>\n",
       "</div>"
      ],
      "text/plain": [
       "   additives_n additives_tags  \\\n",
       "0          0.0             []   \n",
       "1          NaN           None   \n",
       "2          NaN           None   \n",
       "3          NaN           None   \n",
       "4          0.0             []   \n",
       "\n",
       "                                      allergens_tags  \\\n",
       "0                                          [en:milk]   \n",
       "1                                                 []   \n",
       "2                                                 []   \n",
       "3                                                 []   \n",
       "4  [en:eggs, en:gluten, en:milk, en:nuts, en:soyb...   \n",
       "\n",
       "                brands_tags               brands  \\\n",
       "0  [xx:molkerei-huttenthal]  Molkerei Hüttenthal   \n",
       "1                      None                 None   \n",
       "2                   [coles]                Coles   \n",
       "3                [xx:conad]                Conad   \n",
       "4      [xx:farmer-s-market]      Farmer's Market   \n",
       "\n",
       "                                          categories  \\\n",
       "0  Getränke, Milchprodukte, Fermentierte Lebensmi...   \n",
       "1  Plant-based foods and beverages, Plant-based f...   \n",
       "2                                               None   \n",
       "3  Cibi e bevande a base vegetale, Cibi a base ve...   \n",
       "4  Snacks, Sweet snacks, Biscuits and cakes, Past...   \n",
       "\n",
       "                                     categories_tags  \\\n",
       "0  [en:beverages-and-beverages-preparations, en:b...   \n",
       "1  [en:plant-based-foods-and-beverages, en:plant-...   \n",
       "2                                               None   \n",
       "3  [en:plant-based-foods-and-beverages, en:plant-...   \n",
       "4  [en:snacks, en:sweet-snacks, en:biscuits-and-c...   \n",
       "\n",
       "                               categories_properties checkers_tags  \\\n",
       "0  {'ciqual_food_code': None, 'agribalyse_food_co...            []   \n",
       "1  {'ciqual_food_code': None, 'agribalyse_food_co...            []   \n",
       "2  {'ciqual_food_code': None, 'agribalyse_food_co...            []   \n",
       "3  {'ciqual_food_code': None, 'agribalyse_food_co...            []   \n",
       "4  {'ciqual_food_code': 23900, 'agribalyse_food_c...            []   \n",
       "\n",
       "  ciqual_food_name_tags  ...  \\\n",
       "0                  None  ...   \n",
       "1                  None  ...   \n",
       "2                  None  ...   \n",
       "3                  None  ...   \n",
       "4                  None  ...   \n",
       "\n",
       "                                         states_tags  \\\n",
       "0  [en:to-be-completed, en:nutrition-facts-comple...   \n",
       "1  [en:to-be-completed, en:nutrition-facts-to-be-...   \n",
       "2  [en:to-be-completed, en:nutrition-facts-comple...   \n",
       "3  [en:to-be-completed, en:nutrition-facts-to-be-...   \n",
       "4  [en:to-be-completed, en:nutrition-facts-comple...   \n",
       "\n",
       "                  stores_tags                    stores  \\\n",
       "0       [l-abbate-kasefabrik]       L'Abbate Käsefabrik   \n",
       "1                        None                      None   \n",
       "2                     [coles]                     Coles   \n",
       "3                        None                      None   \n",
       "4  [real-canadian-superstore]  Real Canadian Superstore   \n",
       "\n",
       "                              traces_tags  unique_scans_n  \\\n",
       "0                                      []             1.0   \n",
       "1                                      []             NaN   \n",
       "2                                      []             NaN   \n",
       "3                                      []             NaN   \n",
       "4  [en:nuts, en:peanuts, en:sesame-seeds]             NaN   \n",
       "\n",
       "  unknown_ingredients_n unknown_nutrients_tags  vitamins_tags  \\\n",
       "0                   0.0                     []             []   \n",
       "1                   NaN                     []           None   \n",
       "2                   NaN                     []           None   \n",
       "3                   NaN                     []           None   \n",
       "4                   4.0                     []             []   \n",
       "\n",
       "  with_non_nutritive_sweeteners with_sweeteners  \n",
       "0                          None            None  \n",
       "1                          None            None  \n",
       "2                          None            None  \n",
       "3                          None            None  \n",
       "4                          None            None  \n",
       "\n",
       "[5 rows x 110 columns]"
      ]
     },
     "execution_count": 13,
     "metadata": {},
     "output_type": "execute_result"
    }
   ],
   "source": [
    "# Run sample query\n",
    "statement = \"\"\"SELECT * FROM {}.{} LIMIT 5\"\"\".format(\n",
    "    database_name, raw_table_name\n",
    ")\n",
    "print(statement)\n",
    "df = pd.read_sql(statement, conn)\n",
    "df.head(5)"
   ]
  },
  {
   "cell_type": "markdown",
   "id": "5f297d2c-a11e-4455-8118-2323d696151c",
   "metadata": {},
   "source": [
    "## Perform Feature Engineering"
   ]
  },
  {
   "cell_type": "code",
   "execution_count": 15,
   "id": "e09329d8-4746-4767-8f49-25bca2501018",
   "metadata": {
    "execution": {
     "iopub.execute_input": "2025-09-22T04:29:59.485461Z",
     "iopub.status.busy": "2025-09-22T04:29:59.485160Z",
     "iopub.status.idle": "2025-09-22T04:30:05.925334Z",
     "shell.execute_reply": "2025-09-22T04:30:05.924521Z",
     "shell.execute_reply.started": "2025-09-22T04:29:59.485435Z"
    }
   },
   "outputs": [
    {
     "name": "stderr",
     "output_type": "stream",
     "text": [
      "/tmp/ipykernel_356/3736632600.py:23: UserWarning: pandas only supports SQLAlchemy connectable (engine/connection) or database string URI or sqlite3 DBAPI2 connection. Other DBAPI2 objects are not tested. Please consider using SQLAlchemy.\n",
      "  df_features = pd.read_sql(statement, conn)\n"
     ]
    },
    {
     "data": {
      "text/html": [
       "<div>\n",
       "<style scoped>\n",
       "    .dataframe tbody tr th:only-of-type {\n",
       "        vertical-align: middle;\n",
       "    }\n",
       "\n",
       "    .dataframe tbody tr th {\n",
       "        vertical-align: top;\n",
       "    }\n",
       "\n",
       "    .dataframe thead th {\n",
       "        text-align: right;\n",
       "    }\n",
       "</style>\n",
       "<table border=\"1\" class=\"dataframe\">\n",
       "  <thead>\n",
       "    <tr style=\"text-align: right;\">\n",
       "      <th></th>\n",
       "      <th>code</th>\n",
       "      <th>product_name</th>\n",
       "      <th>brands</th>\n",
       "      <th>categories</th>\n",
       "      <th>ecoscore_grade</th>\n",
       "      <th>ecoscore_score</th>\n",
       "      <th>nutriscore_grade</th>\n",
       "      <th>nutriscore_score</th>\n",
       "      <th>nova_group</th>\n",
       "      <th>ingredients_n</th>\n",
       "      <th>known_ingredients_n</th>\n",
       "      <th>unknown_ingredients_n</th>\n",
       "      <th>with_sweeteners</th>\n",
       "      <th>with_non_nutritive_sweeteners</th>\n",
       "      <th>unique_scans_n</th>\n",
       "    </tr>\n",
       "  </thead>\n",
       "  <tbody>\n",
       "    <tr>\n",
       "      <th>0</th>\n",
       "      <td>3256221412017</td>\n",
       "      <td>[{'lang': 'main', 'text': 'Moutarde forte de D...</td>\n",
       "      <td>U</td>\n",
       "      <td>Condiments, Sauces, Moutardes, Moutardes de Di...</td>\n",
       "      <td>None</td>\n",
       "      <td>None</td>\n",
       "      <td>e</td>\n",
       "      <td>21.0</td>\n",
       "      <td>3.0</td>\n",
       "      <td>9.0</td>\n",
       "      <td>8.0</td>\n",
       "      <td>1.0</td>\n",
       "      <td>None</td>\n",
       "      <td>None</td>\n",
       "      <td>17.0</td>\n",
       "    </tr>\n",
       "    <tr>\n",
       "      <th>1</th>\n",
       "      <td>3256221412055</td>\n",
       "      <td>[{'lang': 'main', 'text': 'Moutarde forte de D...</td>\n",
       "      <td>U</td>\n",
       "      <td>Condiments, Sauces, Moutardes, Moutardes de Di...</td>\n",
       "      <td>None</td>\n",
       "      <td>None</td>\n",
       "      <td>e</td>\n",
       "      <td>21.0</td>\n",
       "      <td>3.0</td>\n",
       "      <td>9.0</td>\n",
       "      <td>8.0</td>\n",
       "      <td>1.0</td>\n",
       "      <td>None</td>\n",
       "      <td>None</td>\n",
       "      <td>9.0</td>\n",
       "    </tr>\n",
       "    <tr>\n",
       "      <th>2</th>\n",
       "      <td>3256221412185</td>\n",
       "      <td>[{'lang': 'main', 'text': 'Jus de citron jaune...</td>\n",
       "      <td>U</td>\n",
       "      <td>Aliments et boissons à base de végétaux, Boiss...</td>\n",
       "      <td>None</td>\n",
       "      <td>None</td>\n",
       "      <td>b</td>\n",
       "      <td>-3.0</td>\n",
       "      <td>3.0</td>\n",
       "      <td>4.0</td>\n",
       "      <td>4.0</td>\n",
       "      <td>0.0</td>\n",
       "      <td>None</td>\n",
       "      <td>None</td>\n",
       "      <td>2.0</td>\n",
       "    </tr>\n",
       "    <tr>\n",
       "      <th>3</th>\n",
       "      <td>3256221415766</td>\n",
       "      <td>[{'lang': 'main', 'text': 'Sandwich polaire ga...</td>\n",
       "      <td>U</td>\n",
       "      <td>Sandwichs, Sandwichs à la volaille, Sandwichs ...</td>\n",
       "      <td>None</td>\n",
       "      <td>None</td>\n",
       "      <td>c</td>\n",
       "      <td>6.0</td>\n",
       "      <td>4.0</td>\n",
       "      <td>47.0</td>\n",
       "      <td>44.0</td>\n",
       "      <td>3.0</td>\n",
       "      <td>None</td>\n",
       "      <td>None</td>\n",
       "      <td>2.0</td>\n",
       "    </tr>\n",
       "    <tr>\n",
       "      <th>4</th>\n",
       "      <td>3256221415827</td>\n",
       "      <td>[{'lang': 'main', 'text': 'Crevettes sauce Tha...</td>\n",
       "      <td>U</td>\n",
       "      <td>Plats préparés, Frais, Plats à base de riz, Pl...</td>\n",
       "      <td>None</td>\n",
       "      <td>None</td>\n",
       "      <td>c</td>\n",
       "      <td>4.0</td>\n",
       "      <td>4.0</td>\n",
       "      <td>35.0</td>\n",
       "      <td>30.0</td>\n",
       "      <td>5.0</td>\n",
       "      <td>None</td>\n",
       "      <td>None</td>\n",
       "      <td>NaN</td>\n",
       "    </tr>\n",
       "    <tr>\n",
       "      <th>5</th>\n",
       "      <td>3256221416114</td>\n",
       "      <td>[{'lang': 'main', 'text': 'Spécialité fermenté...</td>\n",
       "      <td>U</td>\n",
       "      <td>Plant-based foods and beverages,Fermented food...</td>\n",
       "      <td>None</td>\n",
       "      <td>None</td>\n",
       "      <td>a</td>\n",
       "      <td>-1.0</td>\n",
       "      <td>4.0</td>\n",
       "      <td>7.0</td>\n",
       "      <td>7.0</td>\n",
       "      <td>0.0</td>\n",
       "      <td>None</td>\n",
       "      <td>None</td>\n",
       "      <td>13.0</td>\n",
       "    </tr>\n",
       "    <tr>\n",
       "      <th>6</th>\n",
       "      <td>3256221416602</td>\n",
       "      <td>[{'lang': 'main', 'text': 'Purée de pomme sans...</td>\n",
       "      <td>U, U Bio</td>\n",
       "      <td>Aliments et boissons à base de végétaux, Alime...</td>\n",
       "      <td>None</td>\n",
       "      <td>None</td>\n",
       "      <td>a</td>\n",
       "      <td>-2.0</td>\n",
       "      <td>1.0</td>\n",
       "      <td>3.0</td>\n",
       "      <td>3.0</td>\n",
       "      <td>0.0</td>\n",
       "      <td>None</td>\n",
       "      <td>None</td>\n",
       "      <td>4.0</td>\n",
       "    </tr>\n",
       "    <tr>\n",
       "      <th>7</th>\n",
       "      <td>3256221419061</td>\n",
       "      <td>[{'lang': 'main', 'text': 'Tablette de chocola...</td>\n",
       "      <td>U</td>\n",
       "      <td>Snacks, Snacks sucrés, Cacao et dérivés, Choco...</td>\n",
       "      <td>None</td>\n",
       "      <td>None</td>\n",
       "      <td>e</td>\n",
       "      <td>24.0</td>\n",
       "      <td>4.0</td>\n",
       "      <td>14.0</td>\n",
       "      <td>14.0</td>\n",
       "      <td>0.0</td>\n",
       "      <td>None</td>\n",
       "      <td>None</td>\n",
       "      <td>1.0</td>\n",
       "    </tr>\n",
       "    <tr>\n",
       "      <th>8</th>\n",
       "      <td>3256221420111</td>\n",
       "      <td>[{'lang': 'main', 'text': 'Court bouillon'}, {...</td>\n",
       "      <td>U</td>\n",
       "      <td>Produits déshydratés, Produits lyophilisés à r...</td>\n",
       "      <td>None</td>\n",
       "      <td>None</td>\n",
       "      <td>unknown</td>\n",
       "      <td>NaN</td>\n",
       "      <td>4.0</td>\n",
       "      <td>27.0</td>\n",
       "      <td>27.0</td>\n",
       "      <td>0.0</td>\n",
       "      <td>None</td>\n",
       "      <td>None</td>\n",
       "      <td>1.0</td>\n",
       "    </tr>\n",
       "    <tr>\n",
       "      <th>9</th>\n",
       "      <td>3256221421996</td>\n",
       "      <td>[{'lang': 'main', 'text': 'Haché de thon à la ...</td>\n",
       "      <td>U</td>\n",
       "      <td>Surgelés, Plats préparés, Frais, Plats préparé...</td>\n",
       "      <td>None</td>\n",
       "      <td>None</td>\n",
       "      <td>a</td>\n",
       "      <td>-2.0</td>\n",
       "      <td>4.0</td>\n",
       "      <td>30.0</td>\n",
       "      <td>26.0</td>\n",
       "      <td>4.0</td>\n",
       "      <td>None</td>\n",
       "      <td>None</td>\n",
       "      <td>6.0</td>\n",
       "    </tr>\n",
       "  </tbody>\n",
       "</table>\n",
       "</div>"
      ],
      "text/plain": [
       "            code                                       product_name    brands  \\\n",
       "0  3256221412017  [{'lang': 'main', 'text': 'Moutarde forte de D...         U   \n",
       "1  3256221412055  [{'lang': 'main', 'text': 'Moutarde forte de D...         U   \n",
       "2  3256221412185  [{'lang': 'main', 'text': 'Jus de citron jaune...         U   \n",
       "3  3256221415766  [{'lang': 'main', 'text': 'Sandwich polaire ga...         U   \n",
       "4  3256221415827  [{'lang': 'main', 'text': 'Crevettes sauce Tha...         U   \n",
       "5  3256221416114  [{'lang': 'main', 'text': 'Spécialité fermenté...         U   \n",
       "6  3256221416602  [{'lang': 'main', 'text': 'Purée de pomme sans...  U, U Bio   \n",
       "7  3256221419061  [{'lang': 'main', 'text': 'Tablette de chocola...         U   \n",
       "8  3256221420111  [{'lang': 'main', 'text': 'Court bouillon'}, {...         U   \n",
       "9  3256221421996  [{'lang': 'main', 'text': 'Haché de thon à la ...         U   \n",
       "\n",
       "                                          categories ecoscore_grade  \\\n",
       "0  Condiments, Sauces, Moutardes, Moutardes de Di...           None   \n",
       "1  Condiments, Sauces, Moutardes, Moutardes de Di...           None   \n",
       "2  Aliments et boissons à base de végétaux, Boiss...           None   \n",
       "3  Sandwichs, Sandwichs à la volaille, Sandwichs ...           None   \n",
       "4  Plats préparés, Frais, Plats à base de riz, Pl...           None   \n",
       "5  Plant-based foods and beverages,Fermented food...           None   \n",
       "6  Aliments et boissons à base de végétaux, Alime...           None   \n",
       "7  Snacks, Snacks sucrés, Cacao et dérivés, Choco...           None   \n",
       "8  Produits déshydratés, Produits lyophilisés à r...           None   \n",
       "9  Surgelés, Plats préparés, Frais, Plats préparé...           None   \n",
       "\n",
       "  ecoscore_score nutriscore_grade  nutriscore_score  nova_group  \\\n",
       "0           None                e              21.0         3.0   \n",
       "1           None                e              21.0         3.0   \n",
       "2           None                b              -3.0         3.0   \n",
       "3           None                c               6.0         4.0   \n",
       "4           None                c               4.0         4.0   \n",
       "5           None                a              -1.0         4.0   \n",
       "6           None                a              -2.0         1.0   \n",
       "7           None                e              24.0         4.0   \n",
       "8           None          unknown               NaN         4.0   \n",
       "9           None                a              -2.0         4.0   \n",
       "\n",
       "   ingredients_n  known_ingredients_n  unknown_ingredients_n with_sweeteners  \\\n",
       "0            9.0                  8.0                    1.0            None   \n",
       "1            9.0                  8.0                    1.0            None   \n",
       "2            4.0                  4.0                    0.0            None   \n",
       "3           47.0                 44.0                    3.0            None   \n",
       "4           35.0                 30.0                    5.0            None   \n",
       "5            7.0                  7.0                    0.0            None   \n",
       "6            3.0                  3.0                    0.0            None   \n",
       "7           14.0                 14.0                    0.0            None   \n",
       "8           27.0                 27.0                    0.0            None   \n",
       "9           30.0                 26.0                    4.0            None   \n",
       "\n",
       "  with_non_nutritive_sweeteners  unique_scans_n  \n",
       "0                          None            17.0  \n",
       "1                          None             9.0  \n",
       "2                          None             2.0  \n",
       "3                          None             2.0  \n",
       "4                          None             NaN  \n",
       "5                          None            13.0  \n",
       "6                          None             4.0  \n",
       "7                          None             1.0  \n",
       "8                          None             1.0  \n",
       "9                          None             6.0  "
      ]
     },
     "execution_count": 15,
     "metadata": {},
     "output_type": "execute_result"
    }
   ],
   "source": [
    "# Subset of columns from the raw table\n",
    "statement = f\"\"\"\n",
    "SELECT \n",
    "    code,\n",
    "    product_name,\n",
    "    brands,\n",
    "    categories,\n",
    "    ecoscore_grade,\n",
    "    ecoscore_score,\n",
    "    nutriscore_grade,\n",
    "    nutriscore_score,\n",
    "    nova_group,\n",
    "    ingredients_n,\n",
    "    known_ingredients_n,\n",
    "    unknown_ingredients_n,\n",
    "    with_sweeteners,\n",
    "    with_non_nutritive_sweeteners,\n",
    "    unique_scans_n\n",
    "FROM {database_name}.{raw_table_name}\n",
    "LIMIT 20\n",
    "\"\"\"\n",
    "\n",
    "df_features = pd.read_sql(statement, conn)\n",
    "df_features.head(10)\n"
   ]
  },
  {
   "cell_type": "code",
   "execution_count": 16,
   "id": "81f7f704-71f3-4ece-95bd-03828de8ebe0",
   "metadata": {
    "execution": {
     "iopub.execute_input": "2025-09-22T04:32:10.629461Z",
     "iopub.status.busy": "2025-09-22T04:32:10.629184Z",
     "iopub.status.idle": "2025-09-22T04:32:10.658689Z",
     "shell.execute_reply": "2025-09-22T04:32:10.658079Z",
     "shell.execute_reply.started": "2025-09-22T04:32:10.629440Z"
    }
   },
   "outputs": [
    {
     "name": "stderr",
     "output_type": "stream",
     "text": [
      "/tmp/ipykernel_356/2858687237.py:18: FutureWarning: Downcasting object dtype arrays on .fillna, .ffill, .bfill is deprecated and will change in a future version. Call result.infer_objects(copy=False) instead. To opt-in to the future behavior, set `pd.set_option('future.no_silent_downcasting', True)`\n",
      "  df_features[numeric_cols] = df_features[numeric_cols].fillna(0)\n"
     ]
    },
    {
     "data": {
      "text/html": [
       "<div>\n",
       "<style scoped>\n",
       "    .dataframe tbody tr th:only-of-type {\n",
       "        vertical-align: middle;\n",
       "    }\n",
       "\n",
       "    .dataframe tbody tr th {\n",
       "        vertical-align: top;\n",
       "    }\n",
       "\n",
       "    .dataframe thead th {\n",
       "        text-align: right;\n",
       "    }\n",
       "</style>\n",
       "<table border=\"1\" class=\"dataframe\">\n",
       "  <thead>\n",
       "    <tr style=\"text-align: right;\">\n",
       "      <th></th>\n",
       "      <th>code</th>\n",
       "      <th>product_name</th>\n",
       "      <th>brands</th>\n",
       "      <th>categories</th>\n",
       "      <th>ecoscore_grade</th>\n",
       "      <th>ecoscore_score</th>\n",
       "      <th>nutriscore_grade</th>\n",
       "      <th>nutriscore_score</th>\n",
       "      <th>nova_group</th>\n",
       "      <th>ingredients_n</th>\n",
       "      <th>known_ingredients_n</th>\n",
       "      <th>unknown_ingredients_n</th>\n",
       "      <th>with_sweeteners</th>\n",
       "      <th>with_non_nutritive_sweeteners</th>\n",
       "      <th>unique_scans_n</th>\n",
       "    </tr>\n",
       "  </thead>\n",
       "  <tbody>\n",
       "    <tr>\n",
       "      <th>0</th>\n",
       "      <td>3256221412017</td>\n",
       "      <td>Moutarde forte de Dijon verre décoré de 195g</td>\n",
       "      <td>U</td>\n",
       "      <td>Condiments, Sauces, Moutardes, Moutardes de Di...</td>\n",
       "      <td>None</td>\n",
       "      <td>0</td>\n",
       "      <td>E</td>\n",
       "      <td>21.0</td>\n",
       "      <td>3.0</td>\n",
       "      <td>9.0</td>\n",
       "      <td>8.0</td>\n",
       "      <td>1.0</td>\n",
       "      <td>0</td>\n",
       "      <td>0</td>\n",
       "      <td>17.0</td>\n",
       "    </tr>\n",
       "    <tr>\n",
       "      <th>1</th>\n",
       "      <td>3256221412055</td>\n",
       "      <td>Moutarde forte de Dijon pot standard de 72 cl</td>\n",
       "      <td>U</td>\n",
       "      <td>Condiments, Sauces, Moutardes, Moutardes de Di...</td>\n",
       "      <td>None</td>\n",
       "      <td>0</td>\n",
       "      <td>E</td>\n",
       "      <td>21.0</td>\n",
       "      <td>3.0</td>\n",
       "      <td>9.0</td>\n",
       "      <td>8.0</td>\n",
       "      <td>1.0</td>\n",
       "      <td>0</td>\n",
       "      <td>0</td>\n",
       "      <td>9.0</td>\n",
       "    </tr>\n",
       "    <tr>\n",
       "      <th>2</th>\n",
       "      <td>3256221412185</td>\n",
       "      <td>Jus de citron jaune 2x12</td>\n",
       "      <td>U</td>\n",
       "      <td>Aliments et boissons à base de végétaux, Boiss...</td>\n",
       "      <td>None</td>\n",
       "      <td>0</td>\n",
       "      <td>B</td>\n",
       "      <td>-3.0</td>\n",
       "      <td>3.0</td>\n",
       "      <td>4.0</td>\n",
       "      <td>4.0</td>\n",
       "      <td>0.0</td>\n",
       "      <td>0</td>\n",
       "      <td>0</td>\n",
       "      <td>2.0</td>\n",
       "    </tr>\n",
       "    <tr>\n",
       "      <th>3</th>\n",
       "      <td>3256221415766</td>\n",
       "      <td>Sandwich polaire garni de poulet roti traité e...</td>\n",
       "      <td>U</td>\n",
       "      <td>Sandwichs, Sandwichs à la volaille, Sandwichs ...</td>\n",
       "      <td>None</td>\n",
       "      <td>0</td>\n",
       "      <td>C</td>\n",
       "      <td>6.0</td>\n",
       "      <td>4.0</td>\n",
       "      <td>47.0</td>\n",
       "      <td>44.0</td>\n",
       "      <td>3.0</td>\n",
       "      <td>0</td>\n",
       "      <td>0</td>\n",
       "      <td>2.0</td>\n",
       "    </tr>\n",
       "    <tr>\n",
       "      <th>4</th>\n",
       "      <td>3256221415827</td>\n",
       "      <td>Crevettes sauce Thaï et riz basmati</td>\n",
       "      <td>U</td>\n",
       "      <td>Plats préparés, Frais, Plats à base de riz, Pl...</td>\n",
       "      <td>None</td>\n",
       "      <td>0</td>\n",
       "      <td>C</td>\n",
       "      <td>4.0</td>\n",
       "      <td>4.0</td>\n",
       "      <td>35.0</td>\n",
       "      <td>30.0</td>\n",
       "      <td>5.0</td>\n",
       "      <td>0</td>\n",
       "      <td>0</td>\n",
       "      <td>0.0</td>\n",
       "    </tr>\n",
       "    <tr>\n",
       "      <th>5</th>\n",
       "      <td>3256221416114</td>\n",
       "      <td>Spécialité fermentée au soja nature 6x100g</td>\n",
       "      <td>U</td>\n",
       "      <td>Plant-based foods and beverages,Fermented food...</td>\n",
       "      <td>None</td>\n",
       "      <td>0</td>\n",
       "      <td>A</td>\n",
       "      <td>-1.0</td>\n",
       "      <td>4.0</td>\n",
       "      <td>7.0</td>\n",
       "      <td>7.0</td>\n",
       "      <td>0.0</td>\n",
       "      <td>0</td>\n",
       "      <td>0</td>\n",
       "      <td>13.0</td>\n",
       "    </tr>\n",
       "    <tr>\n",
       "      <th>6</th>\n",
       "      <td>3256221416602</td>\n",
       "      <td>Purée de pomme sans sucres ajoutés 4X100g</td>\n",
       "      <td>U, U Bio</td>\n",
       "      <td>Aliments et boissons à base de végétaux, Alime...</td>\n",
       "      <td>None</td>\n",
       "      <td>0</td>\n",
       "      <td>A</td>\n",
       "      <td>-2.0</td>\n",
       "      <td>1.0</td>\n",
       "      <td>3.0</td>\n",
       "      <td>3.0</td>\n",
       "      <td>0.0</td>\n",
       "      <td>0</td>\n",
       "      <td>0</td>\n",
       "      <td>4.0</td>\n",
       "    </tr>\n",
       "    <tr>\n",
       "      <th>7</th>\n",
       "      <td>3256221419061</td>\n",
       "      <td>Tablette de chocolat noir fourrage à la mousse...</td>\n",
       "      <td>U</td>\n",
       "      <td>Snacks, Snacks sucrés, Cacao et dérivés, Choco...</td>\n",
       "      <td>None</td>\n",
       "      <td>0</td>\n",
       "      <td>E</td>\n",
       "      <td>24.0</td>\n",
       "      <td>4.0</td>\n",
       "      <td>14.0</td>\n",
       "      <td>14.0</td>\n",
       "      <td>0.0</td>\n",
       "      <td>0</td>\n",
       "      <td>0</td>\n",
       "      <td>1.0</td>\n",
       "    </tr>\n",
       "    <tr>\n",
       "      <th>8</th>\n",
       "      <td>3256221420111</td>\n",
       "      <td>Court bouillon</td>\n",
       "      <td>U</td>\n",
       "      <td>Produits déshydratés, Produits lyophilisés à r...</td>\n",
       "      <td>None</td>\n",
       "      <td>0</td>\n",
       "      <td>UNKNOWN</td>\n",
       "      <td>0.0</td>\n",
       "      <td>4.0</td>\n",
       "      <td>27.0</td>\n",
       "      <td>27.0</td>\n",
       "      <td>0.0</td>\n",
       "      <td>0</td>\n",
       "      <td>0</td>\n",
       "      <td>1.0</td>\n",
       "    </tr>\n",
       "    <tr>\n",
       "      <th>9</th>\n",
       "      <td>3256221421996</td>\n",
       "      <td>Haché de thon à la Provençale</td>\n",
       "      <td>U</td>\n",
       "      <td>Surgelés, Plats préparés, Frais, Plats préparé...</td>\n",
       "      <td>None</td>\n",
       "      <td>0</td>\n",
       "      <td>A</td>\n",
       "      <td>-2.0</td>\n",
       "      <td>4.0</td>\n",
       "      <td>30.0</td>\n",
       "      <td>26.0</td>\n",
       "      <td>4.0</td>\n",
       "      <td>0</td>\n",
       "      <td>0</td>\n",
       "      <td>6.0</td>\n",
       "    </tr>\n",
       "  </tbody>\n",
       "</table>\n",
       "</div>"
      ],
      "text/plain": [
       "            code                                       product_name    brands  \\\n",
       "0  3256221412017       Moutarde forte de Dijon verre décoré de 195g         U   \n",
       "1  3256221412055      Moutarde forte de Dijon pot standard de 72 cl         U   \n",
       "2  3256221412185                           Jus de citron jaune 2x12         U   \n",
       "3  3256221415766  Sandwich polaire garni de poulet roti traité e...         U   \n",
       "4  3256221415827                Crevettes sauce Thaï et riz basmati         U   \n",
       "5  3256221416114         Spécialité fermentée au soja nature 6x100g         U   \n",
       "6  3256221416602          Purée de pomme sans sucres ajoutés 4X100g  U, U Bio   \n",
       "7  3256221419061  Tablette de chocolat noir fourrage à la mousse...         U   \n",
       "8  3256221420111                                     Court bouillon         U   \n",
       "9  3256221421996                      Haché de thon à la Provençale         U   \n",
       "\n",
       "                                          categories ecoscore_grade  \\\n",
       "0  Condiments, Sauces, Moutardes, Moutardes de Di...           None   \n",
       "1  Condiments, Sauces, Moutardes, Moutardes de Di...           None   \n",
       "2  Aliments et boissons à base de végétaux, Boiss...           None   \n",
       "3  Sandwichs, Sandwichs à la volaille, Sandwichs ...           None   \n",
       "4  Plats préparés, Frais, Plats à base de riz, Pl...           None   \n",
       "5  Plant-based foods and beverages,Fermented food...           None   \n",
       "6  Aliments et boissons à base de végétaux, Alime...           None   \n",
       "7  Snacks, Snacks sucrés, Cacao et dérivés, Choco...           None   \n",
       "8  Produits déshydratés, Produits lyophilisés à r...           None   \n",
       "9  Surgelés, Plats préparés, Frais, Plats préparé...           None   \n",
       "\n",
       "   ecoscore_score nutriscore_grade  nutriscore_score  nova_group  \\\n",
       "0               0                E              21.0         3.0   \n",
       "1               0                E              21.0         3.0   \n",
       "2               0                B              -3.0         3.0   \n",
       "3               0                C               6.0         4.0   \n",
       "4               0                C               4.0         4.0   \n",
       "5               0                A              -1.0         4.0   \n",
       "6               0                A              -2.0         1.0   \n",
       "7               0                E              24.0         4.0   \n",
       "8               0          UNKNOWN               0.0         4.0   \n",
       "9               0                A              -2.0         4.0   \n",
       "\n",
       "   ingredients_n  known_ingredients_n  unknown_ingredients_n  with_sweeteners  \\\n",
       "0            9.0                  8.0                    1.0                0   \n",
       "1            9.0                  8.0                    1.0                0   \n",
       "2            4.0                  4.0                    0.0                0   \n",
       "3           47.0                 44.0                    3.0                0   \n",
       "4           35.0                 30.0                    5.0                0   \n",
       "5            7.0                  7.0                    0.0                0   \n",
       "6            3.0                  3.0                    0.0                0   \n",
       "7           14.0                 14.0                    0.0                0   \n",
       "8           27.0                 27.0                    0.0                0   \n",
       "9           30.0                 26.0                    4.0                0   \n",
       "\n",
       "   with_non_nutritive_sweeteners  unique_scans_n  \n",
       "0                              0            17.0  \n",
       "1                              0             9.0  \n",
       "2                              0             2.0  \n",
       "3                              0             2.0  \n",
       "4                              0             0.0  \n",
       "5                              0            13.0  \n",
       "6                              0             4.0  \n",
       "7                              0             1.0  \n",
       "8                              0             1.0  \n",
       "9                              0             6.0  "
      ]
     },
     "execution_count": 16,
     "metadata": {},
     "output_type": "execute_result"
    }
   ],
   "source": [
    "# Clean and normalize feature columns\n",
    "\n",
    "# Extract 'text' value from product_name field if it's a list of dicts.\n",
    "def extract_product_name(name_field):\n",
    "    if isinstance(name_field, list) and len(name_field) > 0:\n",
    "        return name_field[0].get(\"text\", None)\n",
    "    return name_field\n",
    "\n",
    "# Apply cleaning\n",
    "df_features[\"product_name\"] = df_features[\"product_name\"].apply(extract_product_name)\n",
    "\n",
    "# Handle missing numeric fields by filling with 0\n",
    "numeric_cols = [\n",
    "    \"ecoscore_score\", \"nutriscore_score\", \"ingredients_n\", \n",
    "    \"known_ingredients_n\", \"unknown_ingredients_n\", \n",
    "    \"with_sweeteners\", \"with_non_nutritive_sweeteners\", \"unique_scans_n\"\n",
    "]\n",
    "df_features[numeric_cols] = df_features[numeric_cols].fillna(0)\n",
    "\n",
    "# Convert grades to uppercase for consistency\n",
    "df_features[\"ecoscore_grade\"] = df_features[\"ecoscore_grade\"].str.upper()\n",
    "df_features[\"nutriscore_grade\"] = df_features[\"nutriscore_grade\"].str.upper()\n",
    "\n",
    "df_features.head(10)\n"
   ]
  },
  {
   "cell_type": "markdown",
   "id": "9580d823-8730-4f10-bce1-618e2b954a97",
   "metadata": {
    "execution": {
     "iopub.execute_input": "2025-09-22T04:47:28.863114Z",
     "iopub.status.busy": "2025-09-22T04:47:28.862852Z",
     "iopub.status.idle": "2025-09-22T04:47:28.866222Z",
     "shell.execute_reply": "2025-09-22T04:47:28.865603Z",
     "shell.execute_reply.started": "2025-09-22T04:47:28.863094Z"
    }
   },
   "source": [
    "## Initialize the Feature Store Session"
   ]
  },
  {
   "cell_type": "code",
   "execution_count": 17,
   "id": "d678d2a6-894b-40cd-a248-5900ea253055",
   "metadata": {
    "execution": {
     "iopub.execute_input": "2025-09-22T04:33:34.730313Z",
     "iopub.status.busy": "2025-09-22T04:33:34.730054Z",
     "iopub.status.idle": "2025-09-22T04:33:34.768785Z",
     "shell.execute_reply": "2025-09-22T04:33:34.768088Z",
     "shell.execute_reply.started": "2025-09-22T04:33:34.730293Z"
    }
   },
   "outputs": [
    {
     "name": "stdout",
     "output_type": "stream",
     "text": [
      "Feature Group object initialized: Foodlense-products-feature-group\n"
     ]
    }
   ],
   "source": [
    "# Initialize SageMaker Feature Store\n",
    "\n",
    "from sagemaker.feature_store.feature_group import FeatureGroup\n",
    "from sagemaker.feature_store.feature_definition import FeatureDefinition, FeatureTypeEnum\n",
    "from sagemaker.feature_store.inputs import OfflineStoreConfig, OnlineStoreConfig, DataCatalogConfig, S3StorageConfig\n",
    "\n",
    "# Name for the feature group\n",
    "feature_group_name = \"Foodlense-products-feature-group\"\n",
    "\n",
    "# Create the FeatureGroup object\n",
    "food_feature_group = FeatureGroup(\n",
    "    name=feature_group_name,\n",
    "    sagemaker_session=sess\n",
    ")\n",
    "\n",
    "print(f\"Feature Group object initialized: {feature_group_name}\")\n"
   ]
  },
  {
   "cell_type": "code",
   "execution_count": 18,
   "id": "a82c48c4-84fd-4a63-8851-0372a5e4de9a",
   "metadata": {
    "execution": {
     "iopub.execute_input": "2025-09-22T04:34:21.525274Z",
     "iopub.status.busy": "2025-09-22T04:34:21.524516Z",
     "iopub.status.idle": "2025-09-22T04:34:21.534697Z",
     "shell.execute_reply": "2025-09-22T04:34:21.534029Z",
     "shell.execute_reply.started": "2025-09-22T04:34:21.525230Z"
    }
   },
   "outputs": [
    {
     "name": "stdout",
     "output_type": "stream",
     "text": [
      "Feature definitions assigned to Foodlense Feature Group.\n"
     ]
    }
   ],
   "source": [
    "# Define the schema for the Foodlense Feature Group\n",
    "\n",
    "import pandas as pd\n",
    "\n",
    "# Add ingestion timestamp\n",
    "df_features[\"event_time\"] = pd.Timestamp.now().strftime(\"%Y-%m-%dT%H:%M:%SZ\")\n",
    "\n",
    "# Define feature defs from the dataframe\n",
    "feature_definitions = [\n",
    "    FeatureDefinition(feature_name=\"code\", feature_type=FeatureTypeEnum.STRING),\n",
    "    FeatureDefinition(feature_name=\"product_name\", feature_type=FeatureTypeEnum.STRING),\n",
    "    FeatureDefinition(feature_name=\"brands\", feature_type=FeatureTypeEnum.STRING),\n",
    "    FeatureDefinition(feature_name=\"categories\", feature_type=FeatureTypeEnum.STRING),\n",
    "    FeatureDefinition(feature_name=\"ecoscore_grade\", feature_type=FeatureTypeEnum.STRING),\n",
    "    FeatureDefinition(feature_name=\"ecoscore_score\", feature_type=FeatureTypeEnum.INTEGRAL),\n",
    "    FeatureDefinition(feature_name=\"nutriscore_grade\", feature_type=FeatureTypeEnum.STRING),\n",
    "    FeatureDefinition(feature_name=\"nutriscore_score\", feature_type=FeatureTypeEnum.INTEGRAL),\n",
    "    FeatureDefinition(feature_name=\"nova_group\", feature_type=FeatureTypeEnum.INTEGRAL),\n",
    "    FeatureDefinition(feature_name=\"ingredients_n\", feature_type=FeatureTypeEnum.INTEGRAL),\n",
    "    FeatureDefinition(feature_name=\"known_ingredients_n\", feature_type=FeatureTypeEnum.INTEGRAL),\n",
    "    FeatureDefinition(feature_name=\"unknown_ingredients_n\", feature_type=FeatureTypeEnum.INTEGRAL),\n",
    "    FeatureDefinition(feature_name=\"with_sweeteners\", feature_type=FeatureTypeEnum.INTEGRAL),\n",
    "    FeatureDefinition(feature_name=\"with_non_nutritive_sweeteners\", feature_type=FeatureTypeEnum.INTEGRAL),\n",
    "    FeatureDefinition(feature_name=\"unique_scans_n\", feature_type=FeatureTypeEnum.INTEGRAL),\n",
    "    FeatureDefinition(feature_name=\"event_time\", feature_type=FeatureTypeEnum.STRING),\n",
    "]\n",
    "\n",
    "food_feature_group.feature_definitions = feature_definitions\n",
    "\n",
    "print(\"Feature definitions assigned to Foodlense Feature Group.\")\n"
   ]
  },
  {
   "cell_type": "code",
   "execution_count": 24,
   "id": "5a8c4816-72d6-4ca3-a08c-a537b3bf9738",
   "metadata": {
    "execution": {
     "iopub.execute_input": "2025-09-22T04:40:53.925404Z",
     "iopub.status.busy": "2025-09-22T04:40:53.925139Z",
     "iopub.status.idle": "2025-09-22T04:40:54.526073Z",
     "shell.execute_reply": "2025-09-22T04:40:54.525239Z",
     "shell.execute_reply.started": "2025-09-22T04:40:53.925385Z"
    }
   },
   "outputs": [
    {
     "name": "stdout",
     "output_type": "stream",
     "text": [
      "Creating Foodlense Feature Group... this can take a few minutes.\n"
     ]
    }
   ],
   "source": [
    "# Create the feature Group in SageMaker\n",
    "response = food_feature_group.create(\n",
    "    s3_uri=f\"s3://{bucket}/feature-store/Foodlense/\",\n",
    "    record_identifier_name=\"code\",\n",
    "    event_time_feature_name=\"event_time\",\n",
    "    role_arn=role,\n",
    "    enable_online_store=True,\n",
    "    disable_glue_table_creation=False,  # keep Glue auto-create\n",
    "    description=\"Foodlense Feature Group for OpenFoodFacts products\"\n",
    ")\n",
    "\n",
    "print(\"Creating Foodlense Feature Group... this can take a few minutes.\")\n"
   ]
  },
  {
   "cell_type": "code",
   "execution_count": 25,
   "id": "b31083ef-d8d2-4956-a6e6-b7d9fa5d8d5d",
   "metadata": {
    "execution": {
     "iopub.execute_input": "2025-09-22T04:43:01.366463Z",
     "iopub.status.busy": "2025-09-22T04:43:01.366169Z",
     "iopub.status.idle": "2025-09-22T04:43:01.584919Z",
     "shell.execute_reply": "2025-09-22T04:43:01.584244Z",
     "shell.execute_reply.started": "2025-09-22T04:43:01.366438Z"
    }
   },
   "outputs": [
    {
     "name": "stdout",
     "output_type": "stream",
     "text": [
      "Current status: Created\n",
      "Final status: Created\n"
     ]
    }
   ],
   "source": [
    "# Check SageMaker until the Foodlense Feature Group finishes creation.\n",
    "import time\n",
    "\n",
    "status = food_feature_group.describe().get(\"FeatureGroupStatus\")\n",
    "print(\"Current status:\", status)\n",
    "\n",
    "while status in [\"Creating\", \"CreatingFailed\"]:\n",
    "    print(\"Waiting for feature group to be created...\")\n",
    "    time.sleep(30)  # wait 30s between checks\n",
    "    status = food_feature_group.describe().get(\"FeatureGroupStatus\")\n",
    "    print(\"Current status:\", status)\n",
    "\n",
    "print(\"Final status:\", status)\n"
   ]
  },
  {
   "cell_type": "code",
   "execution_count": 27,
   "id": "77fd8984-d582-4887-9881-7300ba2ce448",
   "metadata": {
    "execution": {
     "iopub.execute_input": "2025-09-22T04:48:56.372445Z",
     "iopub.status.busy": "2025-09-22T04:48:56.372155Z",
     "iopub.status.idle": "2025-09-22T04:48:56.375373Z",
     "shell.execute_reply": "2025-09-22T04:48:56.374816Z",
     "shell.execute_reply.started": "2025-09-22T04:48:56.372424Z"
    }
   },
   "outputs": [],
   "source": [
    "# Ingest Data into the Foodlense Feature Group --- TODO - amilad/Olga "
   ]
  },
  {
   "cell_type": "code",
   "execution_count": null,
   "id": "4af5b813-5d4d-461b-ad8a-bdbe2e500b6e",
   "metadata": {},
   "outputs": [],
   "source": []
  }
 ],
 "metadata": {
  "kernelspec": {
   "display_name": "Python 3 (ipykernel)",
   "language": "python",
   "name": "python3"
  },
  "language_info": {
   "codemirror_mode": {
    "name": "ipython",
    "version": 3
   },
   "file_extension": ".py",
   "mimetype": "text/x-python",
   "name": "python",
   "nbconvert_exporter": "python",
   "pygments_lexer": "ipython3",
   "version": "3.12.9"
  }
 },
 "nbformat": 4,
 "nbformat_minor": 5
}
