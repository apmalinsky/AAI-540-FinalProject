{
 "cells": [
  {
   "cell_type": "markdown",
   "id": "281e4800-cd69-44b2-9418-990b4e96b8e0",
   "metadata": {},
   "source": [
    "# Feature Engineering"
   ]
  },
  {
   "cell_type": "code",
   "execution_count": 1,
   "id": "aaecc4d2-2301-4142-ae0d-72478ca8a314",
   "metadata": {
    "execution": {
     "iopub.execute_input": "2025-09-28T21:47:45.829339Z",
     "iopub.status.busy": "2025-09-28T21:47:45.829123Z",
     "iopub.status.idle": "2025-09-28T21:47:49.261519Z",
     "shell.execute_reply": "2025-09-28T21:47:49.260809Z",
     "shell.execute_reply.started": "2025-09-28T21:47:45.829319Z"
    }
   },
   "outputs": [
    {
     "name": "stdout",
     "output_type": "stream",
     "text": [
      "sagemaker.config INFO - Not applying SDK defaults from location: /etc/xdg/sagemaker/config.yaml\n",
      "sagemaker.config INFO - Not applying SDK defaults from location: /home/sagemaker-user/.config/sagemaker/config.yaml\n"
     ]
    }
   ],
   "source": [
    "# Import libraries\n",
    "import boto3\n",
    "import sagemaker\n",
    "import pyathena\n",
    "from pyathena import connect\n",
    "import pandas as pd\n",
    "import time\n",
    "import numpy as numpy\n",
    "import json\n",
    "import os\n",
    "from utils import feature_processing\n",
    "from time import gmtime, strftime, sleep\n",
    "from sagemaker.session import Session\n",
    "from sagemaker.feature_store.feature_group import FeatureGroup\n",
    "from sagemaker.feature_store.feature_store import FeatureStore\n",
    "from sagemaker.feature_store.feature_definition import FeatureDefinition, FeatureTypeEnum\n",
    "from sagemaker.feature_store.inputs import OfflineStoreConfig, OnlineStoreConfig, DataCatalogConfig, S3StorageConfig\n",
    "from datetime import datetime\n",
    "from sagemaker.processing import ScriptProcessor, ProcessingInput, ProcessingOutput\n",
    "\n",
    "import warnings\n",
    "warnings.filterwarnings('ignore', category=UserWarning)"
   ]
  },
  {
   "cell_type": "code",
   "execution_count": 2,
   "id": "a210dd18-325a-4bcb-a965-bea2b3b8cb15",
   "metadata": {
    "execution": {
     "iopub.execute_input": "2025-09-28T21:47:52.508191Z",
     "iopub.status.busy": "2025-09-28T21:47:52.507883Z",
     "iopub.status.idle": "2025-09-28T21:47:53.059673Z",
     "shell.execute_reply": "2025-09-28T21:47:53.058773Z",
     "shell.execute_reply.started": "2025-09-28T21:47:52.508167Z"
    }
   },
   "outputs": [
    {
     "name": "stdout",
     "output_type": "stream",
     "text": [
      "Boto and Sagemaker Sessions Initialized...\n",
      "Bucket: sagemaker-us-east-1-654654380268\n",
      "Region: us-east-1\n"
     ]
    }
   ],
   "source": [
    "# Setup boto and sagemaker session\n",
    "sess = sagemaker.Session()\n",
    "bucket = sess.default_bucket()\n",
    "role = sagemaker.get_execution_role()\n",
    "region = boto3.Session().region_name\n",
    "print('Boto and Sagemaker Sessions Initialized...\\nBucket: {0}\\nRegion: {1}'.format(bucket, region))"
   ]
  },
  {
   "cell_type": "code",
   "execution_count": 3,
   "id": "32e27b09-98fb-4ee1-b054-5860d5c68856",
   "metadata": {
    "execution": {
     "iopub.execute_input": "2025-09-28T21:47:55.754852Z",
     "iopub.status.busy": "2025-09-28T21:47:55.754523Z",
     "iopub.status.idle": "2025-09-28T21:47:55.856041Z",
     "shell.execute_reply": "2025-09-28T21:47:55.855110Z",
     "shell.execute_reply.started": "2025-09-28T21:47:55.754829Z"
    }
   },
   "outputs": [],
   "source": [
    "database_name = 'foodfacts'\n",
    "raw_table_name = \"aai_540_openfoodfacts\"\n",
    "us_table_name = 'food_us_100k'\n",
    "\n",
    "# Initialize our database name\n",
    "database_name = 'foodfacts'\n",
    "\n",
    "# Set S3 staging directory\n",
    "s3_staging_dir = \"s3://{0}/athena/staging\".format(bucket)\n",
    "\n",
    "# Create connection to Athena database\n",
    "conn = connect(region_name=region, s3_staging_dir=s3_staging_dir)"
   ]
  },
  {
   "cell_type": "code",
   "execution_count": 4,
   "id": "a583ab05-a8f4-4a2d-b66c-1523a2862d72",
   "metadata": {
    "execution": {
     "iopub.execute_input": "2025-09-28T21:47:58.205281Z",
     "iopub.status.busy": "2025-09-28T21:47:58.205003Z",
     "iopub.status.idle": "2025-09-28T21:48:00.144732Z",
     "shell.execute_reply": "2025-09-28T21:48:00.143889Z",
     "shell.execute_reply.started": "2025-09-28T21:47:58.205259Z"
    }
   },
   "outputs": [
    {
     "name": "stdout",
     "output_type": "stream",
     "text": [
      "SELECT * FROM foodfacts.food_us_100k LIMIT 5;\n"
     ]
    },
    {
     "data": {
      "text/html": [
       "<div>\n",
       "<style scoped>\n",
       "    .dataframe tbody tr th:only-of-type {\n",
       "        vertical-align: middle;\n",
       "    }\n",
       "\n",
       "    .dataframe tbody tr th {\n",
       "        vertical-align: top;\n",
       "    }\n",
       "\n",
       "    .dataframe thead th {\n",
       "        text-align: right;\n",
       "    }\n",
       "</style>\n",
       "<table border=\"1\" class=\"dataframe\">\n",
       "  <thead>\n",
       "    <tr style=\"text-align: right;\">\n",
       "      <th></th>\n",
       "      <th>code</th>\n",
       "      <th>product_name</th>\n",
       "      <th>nutriments</th>\n",
       "      <th>nova_group</th>\n",
       "      <th>additives_n</th>\n",
       "      <th>ingredients_n</th>\n",
       "      <th>nutriscore_score</th>\n",
       "    </tr>\n",
       "  </thead>\n",
       "  <tbody>\n",
       "    <tr>\n",
       "      <th>0</th>\n",
       "      <td>0722301361177</td>\n",
       "      <td>[{'lang': 'main', 'text': 'Bbq Rub &amp; Spices'},...</td>\n",
       "      <td>[{'name': 'sodium', 'value': 11000.0, '100g': ...</td>\n",
       "      <td>3</td>\n",
       "      <td>0</td>\n",
       "      <td>9</td>\n",
       "      <td>20</td>\n",
       "    </tr>\n",
       "    <tr>\n",
       "      <th>1</th>\n",
       "      <td>0679757138115</td>\n",
       "      <td>[{'lang': 'main', 'text': 'Gummy pineapple fun...</td>\n",
       "      <td>[{'name': 'fat', 'value': 0.0, '100g': 0.0, 's...</td>\n",
       "      <td>4</td>\n",
       "      <td>8</td>\n",
       "      <td>14</td>\n",
       "      <td>18</td>\n",
       "    </tr>\n",
       "    <tr>\n",
       "      <th>2</th>\n",
       "      <td>0807176711682</td>\n",
       "      <td>[{'lang': 'main', 'text': 'Organic Potstickers...</td>\n",
       "      <td>[{'name': 'carbohydrates', 'value': 22.0, '100...</td>\n",
       "      <td>3</td>\n",
       "      <td>0</td>\n",
       "      <td>36</td>\n",
       "      <td>3</td>\n",
       "    </tr>\n",
       "    <tr>\n",
       "      <th>3</th>\n",
       "      <td>0072586701305</td>\n",
       "      <td>[{'lang': 'main', 'text': 'Black Cherry Fruit ...</td>\n",
       "      <td>[{'name': 'fat', 'value': 0.0, '100g': 0.0, 's...</td>\n",
       "      <td>4</td>\n",
       "      <td>3</td>\n",
       "      <td>15</td>\n",
       "      <td>7</td>\n",
       "    </tr>\n",
       "    <tr>\n",
       "      <th>4</th>\n",
       "      <td>0053495080705</td>\n",
       "      <td>[{'lang': 'main', 'text': 'Gardencut'}, {'lang...</td>\n",
       "      <td>[{'name': 'sugars', 'value': 0.0, '100g': 0.0,...</td>\n",
       "      <td>4</td>\n",
       "      <td>1</td>\n",
       "      <td>10</td>\n",
       "      <td>0</td>\n",
       "    </tr>\n",
       "  </tbody>\n",
       "</table>\n",
       "</div>"
      ],
      "text/plain": [
       "            code                                       product_name  \\\n",
       "0  0722301361177  [{'lang': 'main', 'text': 'Bbq Rub & Spices'},...   \n",
       "1  0679757138115  [{'lang': 'main', 'text': 'Gummy pineapple fun...   \n",
       "2  0807176711682  [{'lang': 'main', 'text': 'Organic Potstickers...   \n",
       "3  0072586701305  [{'lang': 'main', 'text': 'Black Cherry Fruit ...   \n",
       "4  0053495080705  [{'lang': 'main', 'text': 'Gardencut'}, {'lang...   \n",
       "\n",
       "                                          nutriments  nova_group  additives_n  \\\n",
       "0  [{'name': 'sodium', 'value': 11000.0, '100g': ...           3            0   \n",
       "1  [{'name': 'fat', 'value': 0.0, '100g': 0.0, 's...           4            8   \n",
       "2  [{'name': 'carbohydrates', 'value': 22.0, '100...           3            0   \n",
       "3  [{'name': 'fat', 'value': 0.0, '100g': 0.0, 's...           4            3   \n",
       "4  [{'name': 'sugars', 'value': 0.0, '100g': 0.0,...           4            1   \n",
       "\n",
       "   ingredients_n  nutriscore_score  \n",
       "0              9                20  \n",
       "1             14                18  \n",
       "2             36                 3  \n",
       "3             15                 7  \n",
       "4             10                 0  "
      ]
     },
     "execution_count": 4,
     "metadata": {},
     "output_type": "execute_result"
    }
   ],
   "source": [
    "# View rows from subset data\n",
    "statement = \"\"\"SELECT * FROM {}.{} LIMIT 5;\"\"\".format(\n",
    "    database_name, us_table_name\n",
    ")\n",
    "print(statement)\n",
    "df_us = pd.read_sql(statement, conn)\n",
    "df_us"
   ]
  },
  {
   "cell_type": "code",
   "execution_count": 5,
   "id": "a11106d3-fea2-4c62-a0a1-6d32afe8079e",
   "metadata": {
    "execution": {
     "iopub.execute_input": "2025-09-28T21:48:02.436861Z",
     "iopub.status.busy": "2025-09-28T21:48:02.436357Z",
     "iopub.status.idle": "2025-09-28T21:48:02.460616Z",
     "shell.execute_reply": "2025-09-28T21:48:02.451646Z",
     "shell.execute_reply.started": "2025-09-28T21:48:02.436752Z"
    }
   },
   "outputs": [
    {
     "name": "stdout",
     "output_type": "stream",
     "text": [
      "[{'lang': 'main', 'text': 'Bbq Rub & Spices'}, {'lang': 'en', 'text': 'Bbq Rub & Spices'}]\n",
      "[{'name': 'sodium', 'value': 11000.0, '100g': 11.0, 'serving': 0.11, 'unit': 'mg', 'prepared_value': None, 'prepared_100g': None, 'prepared_serving': None, 'prepared_unit': None}, {'name': 'proteins', 'value': 0.0, '100g': 0.0, 'serving': 0.0, 'unit': 'g', 'prepared_value': None, 'prepared_100g': None, 'prepared_serving': None, 'prepared_unit': None}, {'name': 'saturated-fat', 'value': 0.0, '100g': 0.0, 'serving': 0.0, 'unit': 'g', 'prepared_value': None, 'prepared_100g': None, 'prepared_serving': None, 'prepared_unit': None}, {'name': 'fat', 'value': 0.0, '100g': 0.0, 'serving': 0.0, 'unit': 'g', 'prepared_value': None, 'prepared_100g': None, 'prepared_serving': None, 'prepared_unit': None}, {'name': 'energy-kcal', 'value': 0.0, '100g': 0.0, 'serving': 0.0, 'unit': 'kcal', 'prepared_value': None, 'prepared_100g': None, 'prepared_serving': None, 'prepared_unit': None}, {'name': 'cholesterol', 'value': 0.0, '100g': 0.0, 'serving': 0.0, 'unit': 'mg', 'prepared_value': None, 'prepared_100g': None, 'prepared_serving': None, 'prepared_unit': None}, {'name': 'sugars', 'value': 0.0, '100g': 0.0, 'serving': 0.0, 'unit': 'g', 'prepared_value': None, 'prepared_100g': None, 'prepared_serving': None, 'prepared_unit': None}, {'name': 'trans-fat', 'value': 0.0, '100g': 0.0, 'serving': 0.0, 'unit': 'g', 'prepared_value': None, 'prepared_100g': None, 'prepared_serving': None, 'prepared_unit': None}, {'name': 'carbohydrates', 'value': 0.0, '100g': 0.0, 'serving': 0.0, 'unit': 'g', 'prepared_value': None, 'prepared_100g': None, 'prepared_serving': None, 'prepared_unit': None}, {'name': 'fruits-vegetables-legumes-estimate-from-ingredients', 'value': None, '100g': 9.001736, 'serving': 9.001736, 'unit': None, 'prepared_value': None, 'prepared_100g': None, 'prepared_serving': None, 'prepared_unit': None}, {'name': 'fiber', 'value': 0.0, '100g': 0.0, 'serving': 0.0, 'unit': 'g', 'prepared_value': None, 'prepared_100g': None, 'prepared_serving': None, 'prepared_unit': None}, {'name': 'fruits-vegetables-nuts-estimate-from-ingredients', 'value': None, '100g': 9.001736, 'serving': 9.001736, 'unit': None, 'prepared_value': None, 'prepared_100g': None, 'prepared_serving': None, 'prepared_unit': None}, {'name': 'nutrition-score-fr', 'value': None, '100g': 20.0, 'serving': None, 'unit': None, 'prepared_value': None, 'prepared_100g': None, 'prepared_serving': None, 'prepared_unit': None}, {'name': 'salt', 'value': 27500.0, '100g': 27.5, 'serving': 0.275, 'unit': 'mg', 'prepared_value': None, 'prepared_100g': None, 'prepared_serving': None, 'prepared_unit': None}, {'name': 'energy', 'value': 0.0, '100g': 0.0, 'serving': 0.0, 'unit': 'kcal', 'prepared_value': None, 'prepared_100g': None, 'prepared_serving': None, 'prepared_unit': None}, {'name': 'nova-group', 'value': None, '100g': 3.0, 'serving': 3.0, 'unit': None, 'prepared_value': None, 'prepared_100g': None, 'prepared_serving': None, 'prepared_unit': None}]\n"
     ]
    }
   ],
   "source": [
    "# View sample product names\n",
    "print(df_us[\"product_name\"].iloc[0])\n",
    "\n",
    "# View sample nutrient info\n",
    "print(df_us[\"nutriments\"].iloc[0])"
   ]
  },
  {
   "cell_type": "code",
   "execution_count": 6,
   "id": "f26814e2-af48-4fef-8967-da2386d20016",
   "metadata": {
    "execution": {
     "iopub.execute_input": "2025-09-28T21:48:05.345877Z",
     "iopub.status.busy": "2025-09-28T21:48:05.345594Z",
     "iopub.status.idle": "2025-09-28T21:50:41.677606Z",
     "shell.execute_reply": "2025-09-28T21:50:41.676896Z",
     "shell.execute_reply.started": "2025-09-28T21:48:05.345855Z"
    }
   },
   "outputs": [
    {
     "name": "stdout",
     "output_type": "stream",
     "text": [
      "Starting processing by chunks...\n",
      "Processed 10000 rows...\n",
      "Processed 20000 rows...\n",
      "Processed 30000 rows...\n",
      "Processed 40000 rows...\n",
      "Processed 50000 rows...\n",
      "Processed 60000 rows...\n",
      "Processed 70000 rows...\n",
      "Processed 80000 rows...\n",
      "Processed 90000 rows...\n",
      "Processed 100000 rows...\n",
      "Finished processing all chunks.\n"
     ]
    }
   ],
   "source": [
    "# Process in chunks\n",
    "chunk_size = 10000\n",
    "last_processed_code = None\n",
    "all_processed_chunks = []\n",
    "\n",
    "print('Starting processing by chunks...')\n",
    "while True:\n",
    "    # Build the WHERE clause dynamically\n",
    "    where_clause = \"\"\n",
    "    if last_processed_code is not None:\n",
    "        where_clause = f\"WHERE code > '{last_processed_code}'\"\n",
    "        \n",
    "    # SQL query to get a chunk of data with LIMIT\n",
    "    statement = f\"\"\"\n",
    "    SELECT * FROM {database_name}.{us_table_name}\n",
    "    {where_clause}\n",
    "    ORDER BY code\n",
    "    LIMIT {chunk_size};\n",
    "    \"\"\"\n",
    "    \n",
    "    try:\n",
    "        chunk_df = pd.read_sql(statement, conn)\n",
    "    except Exception as e:\n",
    "        print(f\"Error reading data: {e}\")\n",
    "        break\n",
    "\n",
    "    if chunk_df.empty:\n",
    "        # Stop the loop when there are no more rows to process\n",
    "        break\n",
    "\n",
    "    # Apply feature engineering function to the current chunk\n",
    "    processed_chunk = feature_processing.process_data_chunk(chunk_df)\n",
    "    \n",
    "    # Add the processed chunk to our list\n",
    "    all_processed_chunks.append(processed_chunk)\n",
    "    \n",
    "    # Update the tracking variable for the next query\n",
    "    last_processed_code = chunk_df['code'].iloc[-1]\n",
    "    print(f\"Processed {len(all_processed_chunks) * chunk_size} rows...\")\n",
    "\n",
    "print('Finished processing all chunks.')"
   ]
  },
  {
   "cell_type": "code",
   "execution_count": 7,
   "id": "e3a6cd60-d31b-4776-8f78-96d880c837e9",
   "metadata": {
    "execution": {
     "iopub.execute_input": "2025-09-28T21:50:44.113235Z",
     "iopub.status.busy": "2025-09-28T21:50:44.112957Z",
     "iopub.status.idle": "2025-09-28T21:50:44.203926Z",
     "shell.execute_reply": "2025-09-28T21:50:44.203055Z",
     "shell.execute_reply.started": "2025-09-28T21:50:44.113214Z"
    }
   },
   "outputs": [
    {
     "name": "stdout",
     "output_type": "stream",
     "text": [
      "Feature columns: ['code', 'product_name', 'nova_group', 'additives_n', 'ingredients_n', 'nutriscore_score', 'nova_group_100g', 'energy_100g', 'sodium_100g', 'proteins_100g', 'fruits_vegetables_legumes_estimate_from_ingredients_100g', 'salt_100g', 'nutrition_score_fr_100g', 'carbohydrates_100g', 'energy_kcal_100g', 'fruits_vegetables_nuts_estimate_from_ingredients_100g', 'energy_kj_100g', 'sugars_100g', 'fat_100g', 'saturated_fat_100g', 'fiber_100g', 'trans_fat_100g', 'vitamin_a_100g', 'monounsaturated_fat_100g', 'vitamin_d_100g', 'cholesterol_100g', 'polyunsaturated_fat_100g', 'potassium_100g', 'calcium_100g', 'alcohol_100g', 'iron_100g', 'magnesium_100g', 'vitamin_e_100g', 'caffeine_100g', 'selenium_100g', 'vitamin_b12_100g', 'zinc_100g', 'phosphorus_100g', 'choline_100g', 'vitamin_b6_100g', 'vitamin_k_100g', 'starch_100g', 'vitamin_b2_100g', 'vitamin_b1_100g', 'vitamin_b9_100g', 'copper_100g', 'vitamin_c_100g', 'manganese_100g', 'added_sugars_100g', 'vitamin_pp_100g', 'polyols_100g', 'folates_100g', 'pantothenic_acid_100g', 'soluble_fiber_100g', 'insoluble_fiber_100g', 'biotin_100g', 'carbon_footprint_from_known_ingredients_100g', 'energy_from_fat_100g', 'fructose_100g', 'iodine_100g', 'fluoride_100g', 'omega_6_fat_100g', 'omega_3_fat_100g', 'lactose_100g', 'glucose_100g', 'sucrose_100g', 'maltose_100g', 'phylloquinone_100g', 'molybdenum_100g', 'chromium_100g', 'cocoa_100g', 'arachidic_acid_100g', 'alpha_linolenic_acid_100g', 'arachidonic_acid_100g', 'fruits_vegetables_nuts_estimate_100g', 'carbon_footprint_from_meat_or_fish_100g', 'fruits_vegetables_nuts_dried_100g', 'fruits_vegetables_nuts_100g', 'chloride_100g', 'behenic_acid_100g', 'gondoic_acid_100g', 'ph_100g', 'carbohydrates_total_100g', 'montanic_acid_100g', 'en_vegetable_glycerin_100g', 'butyric_acid_100g', 'bicarbonate_100g', 'en_omega_3_100g', 'grasas_totales_100g', 'fibra_dietetica_100g', 'en_total_carbohydrates_100g', 'en_vtamin_d_100g', 'en_total_sugars_100g', 'en_includes_added_sugars_100g', 'erythritol_100g', 'folate_100g', 'es_other_carbihydrate_100g', 'fr_sulfate_100g', 'nitrate_100g', 'en_thiamine_100g', 'taurine_100g', 'total_added_sugars_100g', 'fr_citicoline_100g', 'fr_malic_acid_100g', 'fr_n_acetyl_l_tyrosine_100g', 'fr_l_phenylalanine_100g', 'fr_glucuronic_acid_100g', 'gamma_linolenic_acid_100g', 'maltodextrins_100g', 'en_pottasium_100g', 'en_kalzium_100g', 'en_eisen_100g', 'en_vitamin_d_d3_cholecalciferol_100g', 'es_hyaluronic_acid_100g', 'es_multi_collagen_glow_blend_100g', 'allulose_100g', 'es_acide_alpha_linolenique_omega_3_100g', 'eicosapentaenoic_acid_100g', 'docosahexaenoic_acid_100g', 'carbon_footprint_100g', 'energy_g_100g', 'en_vitamin_100g', 'vitamina_d3_100g', 'oleic_acid_100g']\n",
      "Shape: (100000, 124)\n"
     ]
    },
    {
     "data": {
      "text/html": [
       "<div>\n",
       "<style scoped>\n",
       "    .dataframe tbody tr th:only-of-type {\n",
       "        vertical-align: middle;\n",
       "    }\n",
       "\n",
       "    .dataframe tbody tr th {\n",
       "        vertical-align: top;\n",
       "    }\n",
       "\n",
       "    .dataframe thead th {\n",
       "        text-align: right;\n",
       "    }\n",
       "</style>\n",
       "<table border=\"1\" class=\"dataframe\">\n",
       "  <thead>\n",
       "    <tr style=\"text-align: right;\">\n",
       "      <th></th>\n",
       "      <th>code</th>\n",
       "      <th>product_name</th>\n",
       "      <th>nova_group</th>\n",
       "      <th>additives_n</th>\n",
       "      <th>ingredients_n</th>\n",
       "      <th>nutriscore_score</th>\n",
       "      <th>nova_group_100g</th>\n",
       "      <th>energy_100g</th>\n",
       "      <th>sodium_100g</th>\n",
       "      <th>proteins_100g</th>\n",
       "      <th>...</th>\n",
       "      <th>es_multi_collagen_glow_blend_100g</th>\n",
       "      <th>allulose_100g</th>\n",
       "      <th>es_acide_alpha_linolenique_omega_3_100g</th>\n",
       "      <th>eicosapentaenoic_acid_100g</th>\n",
       "      <th>docosahexaenoic_acid_100g</th>\n",
       "      <th>carbon_footprint_100g</th>\n",
       "      <th>energy_g_100g</th>\n",
       "      <th>en_vitamin_100g</th>\n",
       "      <th>vitamina_d3_100g</th>\n",
       "      <th>oleic_acid_100g</th>\n",
       "    </tr>\n",
       "  </thead>\n",
       "  <tbody>\n",
       "    <tr>\n",
       "      <th>0</th>\n",
       "      <td>00000749</td>\n",
       "      <td>Cream soup air corners</td>\n",
       "      <td>3</td>\n",
       "      <td>0</td>\n",
       "      <td>6</td>\n",
       "      <td>23</td>\n",
       "      <td>3.0</td>\n",
       "      <td>1980.0</td>\n",
       "      <td>310.000</td>\n",
       "      <td>4.6</td>\n",
       "      <td>...</td>\n",
       "      <td>NaN</td>\n",
       "      <td>NaN</td>\n",
       "      <td>NaN</td>\n",
       "      <td>NaN</td>\n",
       "      <td>NaN</td>\n",
       "      <td>NaN</td>\n",
       "      <td>NaN</td>\n",
       "      <td>NaN</td>\n",
       "      <td>NaN</td>\n",
       "      <td>NaN</td>\n",
       "    </tr>\n",
       "    <tr>\n",
       "      <th>1</th>\n",
       "      <td>0000111301201</td>\n",
       "      <td>Canola Harvest® Original Vegetable Oil Spread Tub</td>\n",
       "      <td>4</td>\n",
       "      <td>4</td>\n",
       "      <td>17</td>\n",
       "      <td>40</td>\n",
       "      <td>4.0</td>\n",
       "      <td>19200.0</td>\n",
       "      <td>5.100</td>\n",
       "      <td>0.0</td>\n",
       "      <td>...</td>\n",
       "      <td>NaN</td>\n",
       "      <td>NaN</td>\n",
       "      <td>NaN</td>\n",
       "      <td>NaN</td>\n",
       "      <td>NaN</td>\n",
       "      <td>NaN</td>\n",
       "      <td>NaN</td>\n",
       "      <td>NaN</td>\n",
       "      <td>NaN</td>\n",
       "      <td>NaN</td>\n",
       "    </tr>\n",
       "    <tr>\n",
       "      <th>2</th>\n",
       "      <td>0000111301263</td>\n",
       "      <td>Canola harvest</td>\n",
       "      <td>4</td>\n",
       "      <td>5</td>\n",
       "      <td>20</td>\n",
       "      <td>11</td>\n",
       "      <td>4.0</td>\n",
       "      <td>2389.0</td>\n",
       "      <td>0.536</td>\n",
       "      <td>0.0</td>\n",
       "      <td>...</td>\n",
       "      <td>NaN</td>\n",
       "      <td>NaN</td>\n",
       "      <td>NaN</td>\n",
       "      <td>NaN</td>\n",
       "      <td>NaN</td>\n",
       "      <td>NaN</td>\n",
       "      <td>NaN</td>\n",
       "      <td>NaN</td>\n",
       "      <td>NaN</td>\n",
       "      <td>NaN</td>\n",
       "    </tr>\n",
       "  </tbody>\n",
       "</table>\n",
       "<p>3 rows × 124 columns</p>\n",
       "</div>"
      ],
      "text/plain": [
       "            code                                       product_name  \\\n",
       "0       00000749                             Cream soup air corners   \n",
       "1  0000111301201  Canola Harvest® Original Vegetable Oil Spread Tub   \n",
       "2  0000111301263                                     Canola harvest   \n",
       "\n",
       "   nova_group  additives_n  ingredients_n  nutriscore_score  nova_group_100g  \\\n",
       "0           3            0              6                23              3.0   \n",
       "1           4            4             17                40              4.0   \n",
       "2           4            5             20                11              4.0   \n",
       "\n",
       "   energy_100g  sodium_100g  proteins_100g  ...  \\\n",
       "0       1980.0      310.000            4.6  ...   \n",
       "1      19200.0        5.100            0.0  ...   \n",
       "2       2389.0        0.536            0.0  ...   \n",
       "\n",
       "   es_multi_collagen_glow_blend_100g  allulose_100g  \\\n",
       "0                                NaN            NaN   \n",
       "1                                NaN            NaN   \n",
       "2                                NaN            NaN   \n",
       "\n",
       "   es_acide_alpha_linolenique_omega_3_100g  eicosapentaenoic_acid_100g  \\\n",
       "0                                      NaN                         NaN   \n",
       "1                                      NaN                         NaN   \n",
       "2                                      NaN                         NaN   \n",
       "\n",
       "   docosahexaenoic_acid_100g  carbon_footprint_100g  energy_g_100g  \\\n",
       "0                        NaN                    NaN            NaN   \n",
       "1                        NaN                    NaN            NaN   \n",
       "2                        NaN                    NaN            NaN   \n",
       "\n",
       "   en_vitamin_100g  vitamina_d3_100g  oleic_acid_100g  \n",
       "0              NaN               NaN              NaN  \n",
       "1              NaN               NaN              NaN  \n",
       "2              NaN               NaN              NaN  \n",
       "\n",
       "[3 rows x 124 columns]"
      ]
     },
     "execution_count": 7,
     "metadata": {},
     "output_type": "execute_result"
    }
   ],
   "source": [
    "# Concatenate all processed chunks into a final DataFrame\n",
    "features_df = pd.concat(all_processed_chunks, ignore_index=True)\n",
    "print(\"Feature columns:\", features_df.columns.tolist())\n",
    "print(\"Shape:\", features_df.shape)\n",
    "features_df.head(3)"
   ]
  },
  {
   "cell_type": "code",
   "execution_count": 8,
   "id": "a45dde8e-2ac3-461e-8ef4-fdbdce972ef4",
   "metadata": {
    "execution": {
     "iopub.execute_input": "2025-09-28T21:50:48.481949Z",
     "iopub.status.busy": "2025-09-28T21:50:48.481692Z",
     "iopub.status.idle": "2025-09-28T21:50:48.584136Z",
     "shell.execute_reply": "2025-09-28T21:50:48.583126Z",
     "shell.execute_reply.started": "2025-09-28T21:50:48.481930Z"
    }
   },
   "outputs": [
    {
     "name": "stdout",
     "output_type": "stream",
     "text": [
      "Null rate (top 20):\n",
      "en_vitamin_100g                  0.99999\n",
      "oleic_acid_100g                  0.99999\n",
      "montanic_acid_100g               0.99999\n",
      "en_vegetable_glycerin_100g       0.99999\n",
      "en_omega_3_100g                  0.99999\n",
      "grasas_totales_100g              0.99999\n",
      "fibra_dietetica_100g             0.99999\n",
      "nitrate_100g                     0.99999\n",
      "en_thiamine_100g                 0.99999\n",
      "total_added_sugars_100g          0.99999\n",
      "fr_citicoline_100g               0.99999\n",
      "fr_malic_acid_100g               0.99999\n",
      "fr_n_acetyl_l_tyrosine_100g      0.99999\n",
      "fr_l_phenylalanine_100g          0.99999\n",
      "en_total_carbohydrates_100g      0.99999\n",
      "en_vtamin_d_100g                 0.99999\n",
      "en_total_sugars_100g             0.99999\n",
      "en_includes_added_sugars_100g    0.99999\n",
      "folate_100g                      0.99999\n",
      "es_other_carbihydrate_100g       0.99999\n",
      "dtype: float64\n",
      "Dropping: ['en_vitamin_100g', 'oleic_acid_100g', 'montanic_acid_100g', 'en_vegetable_glycerin_100g', 'en_omega_3_100g', 'grasas_totales_100g', 'fibra_dietetica_100g', 'nitrate_100g', 'en_thiamine_100g', 'total_added_sugars_100g', 'fr_citicoline_100g', 'fr_malic_acid_100g', 'fr_n_acetyl_l_tyrosine_100g', 'fr_l_phenylalanine_100g', 'en_total_carbohydrates_100g', 'en_vtamin_d_100g', 'en_total_sugars_100g', 'en_includes_added_sugars_100g', 'folate_100g', 'es_other_carbihydrate_100g', 'fr_sulfate_100g', 'es_multi_collagen_glow_blend_100g', 'allulose_100g', 'es_acide_alpha_linolenique_omega_3_100g', 'eicosapentaenoic_acid_100g', 'docosahexaenoic_acid_100g', 'vitamina_d3_100g', 'fr_glucuronic_acid_100g', 'gamma_linolenic_acid_100g', 'maltodextrins_100g', 'en_pottasium_100g', 'en_kalzium_100g', 'en_eisen_100g', 'en_vitamin_d_d3_cholecalciferol_100g', 'es_hyaluronic_acid_100g', 'carbon_footprint_100g', 'fruits_vegetables_nuts_dried_100g', 'butyric_acid_100g', 'ph_100g', 'maltose_100g', 'energy_g_100g', 'taurine_100g', 'sucrose_100g', 'carbon_footprint_from_meat_or_fish_100g', 'bicarbonate_100g', 'carbohydrates_total_100g', 'gondoic_acid_100g', 'erythritol_100g', 'chloride_100g', 'fruits_vegetables_nuts_100g', 'behenic_acid_100g', 'fruits_vegetables_nuts_estimate_100g', 'chromium_100g', 'cocoa_100g', 'arachidonic_acid_100g', 'arachidic_acid_100g', 'molybdenum_100g', 'alpha_linolenic_acid_100g', 'biotin_100g', 'carbon_footprint_from_known_ingredients_100g', 'energy_from_fat_100g', 'phylloquinone_100g', 'polyols_100g', 'insoluble_fiber_100g', 'soluble_fiber_100g', 'choline_100g', 'starch_100g', 'folates_100g', 'omega_6_fat_100g', 'omega_3_fat_100g', 'fluoride_100g', 'fructose_100g', 'glucose_100g', 'lactose_100g', 'iodine_100g', 'energy_kj_100g', 'alcohol_100g', 'pantothenic_acid_100g', 'caffeine_100g', 'vitamin_e_100g', 'vitamin_k_100g', 'selenium_100g', 'manganese_100g', 'copper_100g', 'added_sugars_100g', 'vitamin_b9_100g', 'zinc_100g', 'vitamin_b12_100g', 'phosphorus_100g', 'magnesium_100g', 'vitamin_b6_100g', 'vitamin_d_100g', 'vitamin_pp_100g', 'vitamin_b2_100g', 'vitamin_b1_100g', 'polyunsaturated_fat_100g', 'monounsaturated_fat_100g', 'potassium_100g']\n",
      "Dropping a total of 98 columns\n",
      "Number of columns after dropping: 26\n"
     ]
    },
    {
     "data": {
      "text/html": [
       "<div>\n",
       "<style scoped>\n",
       "    .dataframe tbody tr th:only-of-type {\n",
       "        vertical-align: middle;\n",
       "    }\n",
       "\n",
       "    .dataframe tbody tr th {\n",
       "        vertical-align: top;\n",
       "    }\n",
       "\n",
       "    .dataframe thead th {\n",
       "        text-align: right;\n",
       "    }\n",
       "</style>\n",
       "<table border=\"1\" class=\"dataframe\">\n",
       "  <thead>\n",
       "    <tr style=\"text-align: right;\">\n",
       "      <th></th>\n",
       "      <th>code</th>\n",
       "      <th>product_name</th>\n",
       "      <th>nova_group</th>\n",
       "      <th>additives_n</th>\n",
       "      <th>ingredients_n</th>\n",
       "      <th>nutriscore_score</th>\n",
       "      <th>nova_group_100g</th>\n",
       "      <th>energy_100g</th>\n",
       "      <th>sodium_100g</th>\n",
       "      <th>proteins_100g</th>\n",
       "      <th>...</th>\n",
       "      <th>sugars_100g</th>\n",
       "      <th>fat_100g</th>\n",
       "      <th>saturated_fat_100g</th>\n",
       "      <th>fiber_100g</th>\n",
       "      <th>trans_fat_100g</th>\n",
       "      <th>vitamin_a_100g</th>\n",
       "      <th>cholesterol_100g</th>\n",
       "      <th>calcium_100g</th>\n",
       "      <th>iron_100g</th>\n",
       "      <th>vitamin_c_100g</th>\n",
       "    </tr>\n",
       "  </thead>\n",
       "  <tbody>\n",
       "    <tr>\n",
       "      <th>0</th>\n",
       "      <td>00000749</td>\n",
       "      <td>Cream soup air corners</td>\n",
       "      <td>3</td>\n",
       "      <td>0</td>\n",
       "      <td>6</td>\n",
       "      <td>23</td>\n",
       "      <td>3.0</td>\n",
       "      <td>1980.0</td>\n",
       "      <td>310.000</td>\n",
       "      <td>4.6</td>\n",
       "      <td>...</td>\n",
       "      <td>5.0</td>\n",
       "      <td>19.80</td>\n",
       "      <td>0.00</td>\n",
       "      <td>6.0</td>\n",
       "      <td>NaN</td>\n",
       "      <td>NaN</td>\n",
       "      <td>NaN</td>\n",
       "      <td>NaN</td>\n",
       "      <td>NaN</td>\n",
       "      <td>NaN</td>\n",
       "    </tr>\n",
       "    <tr>\n",
       "      <th>1</th>\n",
       "      <td>0000111301201</td>\n",
       "      <td>Canola Harvest® Original Vegetable Oil Spread Tub</td>\n",
       "      <td>4</td>\n",
       "      <td>4</td>\n",
       "      <td>17</td>\n",
       "      <td>40</td>\n",
       "      <td>4.0</td>\n",
       "      <td>19200.0</td>\n",
       "      <td>5.100</td>\n",
       "      <td>0.0</td>\n",
       "      <td>...</td>\n",
       "      <td>0.0</td>\n",
       "      <td>510.00</td>\n",
       "      <td>76.40</td>\n",
       "      <td>0.0</td>\n",
       "      <td>0.0</td>\n",
       "      <td>7.650000e-09</td>\n",
       "      <td>0.0</td>\n",
       "      <td>NaN</td>\n",
       "      <td>NaN</td>\n",
       "      <td>NaN</td>\n",
       "    </tr>\n",
       "    <tr>\n",
       "      <th>2</th>\n",
       "      <td>0000111301263</td>\n",
       "      <td>Canola harvest</td>\n",
       "      <td>4</td>\n",
       "      <td>5</td>\n",
       "      <td>20</td>\n",
       "      <td>11</td>\n",
       "      <td>4.0</td>\n",
       "      <td>2389.0</td>\n",
       "      <td>0.536</td>\n",
       "      <td>0.0</td>\n",
       "      <td>...</td>\n",
       "      <td>0.0</td>\n",
       "      <td>57.14</td>\n",
       "      <td>10.71</td>\n",
       "      <td>0.0</td>\n",
       "      <td>0.0</td>\n",
       "      <td>1.071300e-03</td>\n",
       "      <td>0.0</td>\n",
       "      <td>NaN</td>\n",
       "      <td>NaN</td>\n",
       "      <td>NaN</td>\n",
       "    </tr>\n",
       "  </tbody>\n",
       "</table>\n",
       "<p>3 rows × 26 columns</p>\n",
       "</div>"
      ],
      "text/plain": [
       "            code                                       product_name  \\\n",
       "0       00000749                             Cream soup air corners   \n",
       "1  0000111301201  Canola Harvest® Original Vegetable Oil Spread Tub   \n",
       "2  0000111301263                                     Canola harvest   \n",
       "\n",
       "   nova_group  additives_n  ingredients_n  nutriscore_score  nova_group_100g  \\\n",
       "0           3            0              6                23              3.0   \n",
       "1           4            4             17                40              4.0   \n",
       "2           4            5             20                11              4.0   \n",
       "\n",
       "   energy_100g  sodium_100g  proteins_100g  ...  sugars_100g  fat_100g  \\\n",
       "0       1980.0      310.000            4.6  ...          5.0     19.80   \n",
       "1      19200.0        5.100            0.0  ...          0.0    510.00   \n",
       "2       2389.0        0.536            0.0  ...          0.0     57.14   \n",
       "\n",
       "   saturated_fat_100g  fiber_100g  trans_fat_100g  vitamin_a_100g  \\\n",
       "0                0.00         6.0             NaN             NaN   \n",
       "1               76.40         0.0             0.0    7.650000e-09   \n",
       "2               10.71         0.0             0.0    1.071300e-03   \n",
       "\n",
       "   cholesterol_100g  calcium_100g  iron_100g  vitamin_c_100g  \n",
       "0               NaN           NaN        NaN             NaN  \n",
       "1               0.0           NaN        NaN             NaN  \n",
       "2               0.0           NaN        NaN             NaN  \n",
       "\n",
       "[3 rows x 26 columns]"
      ]
     },
     "execution_count": 8,
     "metadata": {},
     "output_type": "execute_result"
    }
   ],
   "source": [
    "#  Quick data quality view \n",
    "null_rates = features_df.isna().mean().sort_values(ascending=False)\n",
    "print(\"Null rate (top 20):\")\n",
    "print(null_rates.head(20))\n",
    "\n",
    "# Drop columns that are mostly missing (>50% NaN)\n",
    "mostly_missing = null_rates[null_rates > 0.50].index.tolist()\n",
    "\n",
    "if mostly_missing:\n",
    "    print(\"Dropping:\", mostly_missing)\n",
    "    print(f\"Dropping a total of {len(mostly_missing)} columns\")\n",
    "    features_df.drop(columns=mostly_missing, inplace=True)\n",
    "\n",
    "# Verify the changes\n",
    "print(\"Number of columns after dropping:\", len(features_df.columns))\n",
    "features_df.head(3)"
   ]
  },
  {
   "cell_type": "code",
   "execution_count": 9,
   "id": "339934ef-d0b0-4313-a88e-a447ce1938f0",
   "metadata": {
    "execution": {
     "iopub.execute_input": "2025-09-28T21:50:53.325954Z",
     "iopub.status.busy": "2025-09-28T21:50:53.325666Z",
     "iopub.status.idle": "2025-09-28T21:50:53.329327Z",
     "shell.execute_reply": "2025-09-28T21:50:53.328643Z",
     "shell.execute_reply.started": "2025-09-28T21:50:53.325934Z"
    }
   },
   "outputs": [
    {
     "name": "stdout",
     "output_type": "stream",
     "text": [
      "Feature columns: ['code', 'product_name', 'nova_group', 'additives_n', 'ingredients_n', 'nutriscore_score', 'nova_group_100g', 'energy_100g', 'sodium_100g', 'proteins_100g', 'fruits_vegetables_legumes_estimate_from_ingredients_100g', 'salt_100g', 'nutrition_score_fr_100g', 'carbohydrates_100g', 'energy_kcal_100g', 'fruits_vegetables_nuts_estimate_from_ingredients_100g', 'sugars_100g', 'fat_100g', 'saturated_fat_100g', 'fiber_100g', 'trans_fat_100g', 'vitamin_a_100g', 'cholesterol_100g', 'calcium_100g', 'iron_100g', 'vitamin_c_100g']\n"
     ]
    }
   ],
   "source": [
    "# View full final column list\n",
    "print(\"Feature columns:\", features_df.columns.tolist())"
   ]
  },
  {
   "cell_type": "code",
   "execution_count": 10,
   "id": "71bb20aa-7d6f-40f5-888b-2aabb8eb442b",
   "metadata": {
    "execution": {
     "iopub.execute_input": "2025-09-28T21:50:55.729086Z",
     "iopub.status.busy": "2025-09-28T21:50:55.728808Z",
     "iopub.status.idle": "2025-09-28T21:50:55.761596Z",
     "shell.execute_reply": "2025-09-28T21:50:55.760975Z",
     "shell.execute_reply.started": "2025-09-28T21:50:55.729064Z"
    }
   },
   "outputs": [
    {
     "name": "stdout",
     "output_type": "stream",
     "text": [
      "Columns with NaN values: ['product_name', 'energy_100g', 'sodium_100g', 'proteins_100g', 'fruits_vegetables_legumes_estimate_from_ingredients_100g', 'salt_100g', 'carbohydrates_100g', 'energy_kcal_100g', 'fruits_vegetables_nuts_estimate_from_ingredients_100g', 'sugars_100g', 'fat_100g', 'saturated_fat_100g', 'fiber_100g', 'trans_fat_100g', 'vitamin_a_100g', 'cholesterol_100g', 'calcium_100g', 'iron_100g', 'vitamin_c_100g']\n"
     ]
    }
   ],
   "source": [
    "# Filter for columns where the value is True (meaning they contain NaN)\n",
    "columns_with_nan_series = features_df.isnull().any()\n",
    "columns_with_nan = columns_with_nan_series[columns_with_nan_series].index.tolist()\n",
    "print(f\"Columns with NaN values: {columns_with_nan}\")"
   ]
  },
  {
   "cell_type": "code",
   "execution_count": 11,
   "id": "16391d83-abd5-4e67-b8ed-107299151d85",
   "metadata": {
    "execution": {
     "iopub.execute_input": "2025-09-28T21:50:57.691023Z",
     "iopub.status.busy": "2025-09-28T21:50:57.690765Z",
     "iopub.status.idle": "2025-09-28T21:50:57.816712Z",
     "shell.execute_reply": "2025-09-28T21:50:57.815891Z",
     "shell.execute_reply.started": "2025-09-28T21:50:57.691004Z"
    }
   },
   "outputs": [
    {
     "name": "stdout",
     "output_type": "stream",
     "text": [
      "Columns with NaN values: []\n"
     ]
    }
   ],
   "source": [
    "# Impute missing product_names\n",
    "features_df['product_name'] = features_df['product_name'].fillna('nan_product_name')\n",
    "\n",
    "# Impute core nutrient values using the median\n",
    "median_impute_cols = [\n",
    "    'energy_100g', 'sodium_100g', 'proteins_100g',\n",
    "    'salt_100g', 'carbohydrates_100g', 'energy_kcal_100g',\n",
    "    'sugars_100g', 'fat_100g', 'saturated_fat_100g',\n",
    "    'fiber_100g', 'cholesterol_100g', 'calcium_100g',\n",
    "    'iron_100g', 'vitamin_c_100g', 'vitamin_a_100g'\n",
    "]\n",
    "\n",
    "for col in median_impute_cols:\n",
    "    features_df[col] = features_df[col].fillna(features_df[col].median())\n",
    "\n",
    "# Impute other columns with 0, as they are not present\n",
    "zero_impute_cols = [\n",
    "    'trans_fat_100g',\n",
    "    'fruits_vegetables_legumes_estimate_from_ingredients_100g',\n",
    "    'fruits_vegetables_nuts_estimate_from_ingredients_100g'\n",
    "]\n",
    "\n",
    "for col in zero_impute_cols:\n",
    "    features_df[col] = features_df[col].fillna(0)\n",
    "\n",
    "# Verify that all NaNs have been handled\n",
    "columns_with_nan_series = features_df.isnull().any()\n",
    "columns_with_nan = columns_with_nan_series[columns_with_nan_series].index.tolist()\n",
    "print(f\"Columns with NaN values: {columns_with_nan}\")"
   ]
  },
  {
   "cell_type": "code",
   "execution_count": 12,
   "id": "5c72169a-463e-4ddc-af37-5b930fd849b6",
   "metadata": {
    "execution": {
     "iopub.execute_input": "2025-09-28T21:51:00.516156Z",
     "iopub.status.busy": "2025-09-28T21:51:00.515887Z",
     "iopub.status.idle": "2025-09-28T21:51:00.538437Z",
     "shell.execute_reply": "2025-09-28T21:51:00.537805Z",
     "shell.execute_reply.started": "2025-09-28T21:51:00.516135Z"
    }
   },
   "outputs": [
    {
     "data": {
      "text/html": [
       "<div>\n",
       "<style scoped>\n",
       "    .dataframe tbody tr th:only-of-type {\n",
       "        vertical-align: middle;\n",
       "    }\n",
       "\n",
       "    .dataframe tbody tr th {\n",
       "        vertical-align: top;\n",
       "    }\n",
       "\n",
       "    .dataframe thead th {\n",
       "        text-align: right;\n",
       "    }\n",
       "</style>\n",
       "<table border=\"1\" class=\"dataframe\">\n",
       "  <thead>\n",
       "    <tr style=\"text-align: right;\">\n",
       "      <th></th>\n",
       "      <th>code</th>\n",
       "      <th>product_name</th>\n",
       "      <th>nova_group</th>\n",
       "      <th>additives_n</th>\n",
       "      <th>ingredients_n</th>\n",
       "      <th>nutriscore_score</th>\n",
       "      <th>nova_group_100g</th>\n",
       "      <th>energy_100g</th>\n",
       "      <th>sodium_100g</th>\n",
       "      <th>proteins_100g</th>\n",
       "      <th>fruits_vegetables_legumes_estimate_from_ingredients_100g</th>\n",
       "      <th>salt_100g</th>\n",
       "      <th>nutrition_score_fr_100g</th>\n",
       "      <th>carbohydrates_100g</th>\n",
       "      <th>energy_kcal_100g</th>\n",
       "      <th>fruits_vegetables_nuts_estimate_from_ingredients_100g</th>\n",
       "      <th>sugars_100g</th>\n",
       "      <th>fat_100g</th>\n",
       "      <th>saturated_fat_100g</th>\n",
       "      <th>fiber_100g</th>\n",
       "      <th>trans_fat_100g</th>\n",
       "      <th>vitamin_a_100g</th>\n",
       "      <th>cholesterol_100g</th>\n",
       "      <th>calcium_100g</th>\n",
       "      <th>iron_100g</th>\n",
       "      <th>vitamin_c_100g</th>\n",
       "    </tr>\n",
       "  </thead>\n",
       "  <tbody>\n",
       "    <tr>\n",
       "      <th>0</th>\n",
       "      <td>00000749</td>\n",
       "      <td>Cream soup air corners</td>\n",
       "      <td>3</td>\n",
       "      <td>0</td>\n",
       "      <td>6</td>\n",
       "      <td>23</td>\n",
       "      <td>3.0</td>\n",
       "      <td>1980.0</td>\n",
       "      <td>310.000000</td>\n",
       "      <td>4.600000</td>\n",
       "      <td>0.0</td>\n",
       "      <td>775.000000</td>\n",
       "      <td>23.0</td>\n",
       "      <td>66.000000</td>\n",
       "      <td>474.00000</td>\n",
       "      <td>0.000000</td>\n",
       "      <td>5.000000</td>\n",
       "      <td>19.800000</td>\n",
       "      <td>0.000000</td>\n",
       "      <td>6.0</td>\n",
       "      <td>0.0</td>\n",
       "      <td>0.000000e+00</td>\n",
       "      <td>0.000000</td>\n",
       "      <td>0.026</td>\n",
       "      <td>0.00072</td>\n",
       "      <td>0.0</td>\n",
       "    </tr>\n",
       "    <tr>\n",
       "      <th>1</th>\n",
       "      <td>0000111301201</td>\n",
       "      <td>Canola Harvest® Original Vegetable Oil Spread Tub</td>\n",
       "      <td>4</td>\n",
       "      <td>4</td>\n",
       "      <td>17</td>\n",
       "      <td>40</td>\n",
       "      <td>4.0</td>\n",
       "      <td>19200.0</td>\n",
       "      <td>5.100000</td>\n",
       "      <td>0.000000</td>\n",
       "      <td>0.0</td>\n",
       "      <td>12.700000</td>\n",
       "      <td>40.0</td>\n",
       "      <td>0.000000</td>\n",
       "      <td>4590.00000</td>\n",
       "      <td>53.333332</td>\n",
       "      <td>0.000000</td>\n",
       "      <td>510.000000</td>\n",
       "      <td>76.400000</td>\n",
       "      <td>0.0</td>\n",
       "      <td>0.0</td>\n",
       "      <td>7.650000e-09</td>\n",
       "      <td>0.000000</td>\n",
       "      <td>0.026</td>\n",
       "      <td>0.00072</td>\n",
       "      <td>0.0</td>\n",
       "    </tr>\n",
       "    <tr>\n",
       "      <th>2</th>\n",
       "      <td>0000111301263</td>\n",
       "      <td>Canola harvest</td>\n",
       "      <td>4</td>\n",
       "      <td>5</td>\n",
       "      <td>20</td>\n",
       "      <td>11</td>\n",
       "      <td>4.0</td>\n",
       "      <td>2389.0</td>\n",
       "      <td>0.536000</td>\n",
       "      <td>0.000000</td>\n",
       "      <td>0.0</td>\n",
       "      <td>1.340000</td>\n",
       "      <td>11.0</td>\n",
       "      <td>0.000000</td>\n",
       "      <td>571.00000</td>\n",
       "      <td>52.941177</td>\n",
       "      <td>0.000000</td>\n",
       "      <td>57.140000</td>\n",
       "      <td>10.710000</td>\n",
       "      <td>0.0</td>\n",
       "      <td>0.0</td>\n",
       "      <td>1.071300e-03</td>\n",
       "      <td>0.000000</td>\n",
       "      <td>0.026</td>\n",
       "      <td>0.00072</td>\n",
       "      <td>0.0</td>\n",
       "    </tr>\n",
       "    <tr>\n",
       "      <th>3</th>\n",
       "      <td>00001252</td>\n",
       "      <td>Cottage cheese</td>\n",
       "      <td>3</td>\n",
       "      <td>0</td>\n",
       "      <td>3</td>\n",
       "      <td>4</td>\n",
       "      <td>3.0</td>\n",
       "      <td>407.0</td>\n",
       "      <td>0.345133</td>\n",
       "      <td>11.504425</td>\n",
       "      <td>0.0</td>\n",
       "      <td>0.862832</td>\n",
       "      <td>4.0</td>\n",
       "      <td>4.424779</td>\n",
       "      <td>97.34513</td>\n",
       "      <td>0.000000</td>\n",
       "      <td>3.539823</td>\n",
       "      <td>4.424779</td>\n",
       "      <td>2.654867</td>\n",
       "      <td>0.0</td>\n",
       "      <td>0.0</td>\n",
       "      <td>0.000000e+00</td>\n",
       "      <td>0.017699</td>\n",
       "      <td>0.026</td>\n",
       "      <td>0.00072</td>\n",
       "      <td>0.0</td>\n",
       "    </tr>\n",
       "    <tr>\n",
       "      <th>4</th>\n",
       "      <td>00001328</td>\n",
       "      <td>Harvest whole wheat bread</td>\n",
       "      <td>4</td>\n",
       "      <td>1</td>\n",
       "      <td>16</td>\n",
       "      <td>4</td>\n",
       "      <td>4.0</td>\n",
       "      <td>973.0</td>\n",
       "      <td>0.418605</td>\n",
       "      <td>11.627907</td>\n",
       "      <td>0.0</td>\n",
       "      <td>1.046512</td>\n",
       "      <td>4.0</td>\n",
       "      <td>41.860466</td>\n",
       "      <td>232.55814</td>\n",
       "      <td>1.450893</td>\n",
       "      <td>4.651163</td>\n",
       "      <td>4.651163</td>\n",
       "      <td>0.000000</td>\n",
       "      <td>1.4</td>\n",
       "      <td>0.0</td>\n",
       "      <td>0.000000e+00</td>\n",
       "      <td>0.000000</td>\n",
       "      <td>0.026</td>\n",
       "      <td>0.00072</td>\n",
       "      <td>0.0</td>\n",
       "    </tr>\n",
       "  </tbody>\n",
       "</table>\n",
       "</div>"
      ],
      "text/plain": [
       "            code                                       product_name  \\\n",
       "0       00000749                             Cream soup air corners   \n",
       "1  0000111301201  Canola Harvest® Original Vegetable Oil Spread Tub   \n",
       "2  0000111301263                                     Canola harvest   \n",
       "3       00001252                                     Cottage cheese   \n",
       "4       00001328                          Harvest whole wheat bread   \n",
       "\n",
       "   nova_group  additives_n  ingredients_n  nutriscore_score  nova_group_100g  \\\n",
       "0           3            0              6                23              3.0   \n",
       "1           4            4             17                40              4.0   \n",
       "2           4            5             20                11              4.0   \n",
       "3           3            0              3                 4              3.0   \n",
       "4           4            1             16                 4              4.0   \n",
       "\n",
       "   energy_100g  sodium_100g  proteins_100g  \\\n",
       "0       1980.0   310.000000       4.600000   \n",
       "1      19200.0     5.100000       0.000000   \n",
       "2       2389.0     0.536000       0.000000   \n",
       "3        407.0     0.345133      11.504425   \n",
       "4        973.0     0.418605      11.627907   \n",
       "\n",
       "   fruits_vegetables_legumes_estimate_from_ingredients_100g   salt_100g  \\\n",
       "0                                                0.0         775.000000   \n",
       "1                                                0.0          12.700000   \n",
       "2                                                0.0           1.340000   \n",
       "3                                                0.0           0.862832   \n",
       "4                                                0.0           1.046512   \n",
       "\n",
       "   nutrition_score_fr_100g  carbohydrates_100g  energy_kcal_100g  \\\n",
       "0                     23.0           66.000000         474.00000   \n",
       "1                     40.0            0.000000        4590.00000   \n",
       "2                     11.0            0.000000         571.00000   \n",
       "3                      4.0            4.424779          97.34513   \n",
       "4                      4.0           41.860466         232.55814   \n",
       "\n",
       "   fruits_vegetables_nuts_estimate_from_ingredients_100g  sugars_100g  \\\n",
       "0                                           0.000000         5.000000   \n",
       "1                                          53.333332         0.000000   \n",
       "2                                          52.941177         0.000000   \n",
       "3                                           0.000000         3.539823   \n",
       "4                                           1.450893         4.651163   \n",
       "\n",
       "     fat_100g  saturated_fat_100g  fiber_100g  trans_fat_100g  vitamin_a_100g  \\\n",
       "0   19.800000            0.000000         6.0             0.0    0.000000e+00   \n",
       "1  510.000000           76.400000         0.0             0.0    7.650000e-09   \n",
       "2   57.140000           10.710000         0.0             0.0    1.071300e-03   \n",
       "3    4.424779            2.654867         0.0             0.0    0.000000e+00   \n",
       "4    4.651163            0.000000         1.4             0.0    0.000000e+00   \n",
       "\n",
       "   cholesterol_100g  calcium_100g  iron_100g  vitamin_c_100g  \n",
       "0          0.000000         0.026    0.00072             0.0  \n",
       "1          0.000000         0.026    0.00072             0.0  \n",
       "2          0.000000         0.026    0.00072             0.0  \n",
       "3          0.017699         0.026    0.00072             0.0  \n",
       "4          0.000000         0.026    0.00072             0.0  "
      ]
     },
     "execution_count": 12,
     "metadata": {},
     "output_type": "execute_result"
    }
   ],
   "source": [
    "# View data with all columns\n",
    "pd.set_option('display.max_columns', None)\n",
    "features_df.head()"
   ]
  },
  {
   "cell_type": "markdown",
   "id": "c2e7f1f9-7988-4994-890d-650f8d1a0b58",
   "metadata": {},
   "source": [
    "## Create Feature Store and Feature Group"
   ]
  },
  {
   "cell_type": "code",
   "execution_count": 13,
   "id": "8e08921f-a75e-41ad-9c1d-212a25cc77ae",
   "metadata": {
    "execution": {
     "iopub.execute_input": "2025-09-28T21:51:03.376416Z",
     "iopub.status.busy": "2025-09-28T21:51:03.375960Z",
     "iopub.status.idle": "2025-09-28T21:51:03.757600Z",
     "shell.execute_reply": "2025-09-28T21:51:03.756866Z",
     "shell.execute_reply.started": "2025-09-28T21:51:03.376266Z"
    }
   },
   "outputs": [],
   "source": [
    "# Initialize SageMaker Feature Store\n",
    "region = boto3.Session().region_name\n",
    "boto_session = boto3.Session(region_name=region)\n",
    "sagemaker_client = boto_session.client(service_name=\"sagemaker\", region_name=region)\n",
    "featurestore_runtime = boto_session.client(\n",
    "    service_name=\"sagemaker-featurestore-runtime\", region_name=region\n",
    ")\n",
    "feature_store_session = Session(\n",
    "    boto_session=boto_session,\n",
    "    sagemaker_client=sagemaker_client,\n",
    "    sagemaker_featurestore_runtime_client=featurestore_runtime,\n",
    ")"
   ]
  },
  {
   "cell_type": "code",
   "execution_count": 14,
   "id": "4feb6d03-ecc8-4569-831c-606e90ed9037",
   "metadata": {
    "execution": {
     "iopub.execute_input": "2025-09-28T21:51:05.469963Z",
     "iopub.status.busy": "2025-09-28T21:51:05.469680Z",
     "iopub.status.idle": "2025-09-28T21:51:05.474548Z",
     "shell.execute_reply": "2025-09-28T21:51:05.473755Z",
     "shell.execute_reply.started": "2025-09-28T21:51:05.469942Z"
    }
   },
   "outputs": [
    {
     "name": "stdout",
     "output_type": "stream",
     "text": [
      "Feature Group object initialized: foodlens-products-feature-group-28-21-51-05\n"
     ]
    }
   ],
   "source": [
    "# Initialize feature group\n",
    "feature_group_name = \"foodlens-products-feature-group-\" + strftime(\"%d-%H-%M-%S\", gmtime())\n",
    "\n",
    "# Create the FeatureGroup object\n",
    "food_feature_group = FeatureGroup(\n",
    "    name=feature_group_name,\n",
    "    sagemaker_session=feature_store_session\n",
    ")\n",
    "\n",
    "print(f\"Feature Group object initialized: {feature_group_name}\")"
   ]
  },
  {
   "cell_type": "code",
   "execution_count": 15,
   "id": "a2446b77-2aea-401d-810f-5a8ea760fb62",
   "metadata": {
    "execution": {
     "iopub.execute_input": "2025-09-28T21:51:06.608213Z",
     "iopub.status.busy": "2025-09-28T21:51:06.607918Z",
     "iopub.status.idle": "2025-09-28T21:51:06.614502Z",
     "shell.execute_reply": "2025-09-28T21:51:06.613852Z",
     "shell.execute_reply.started": "2025-09-28T21:51:06.608193Z"
    }
   },
   "outputs": [
    {
     "data": {
      "text/plain": [
       "code                                                         object\n",
       "product_name                                                 object\n",
       "nova_group                                                    int64\n",
       "additives_n                                                   int64\n",
       "ingredients_n                                                 int64\n",
       "nutriscore_score                                              int64\n",
       "nova_group_100g                                             float64\n",
       "energy_100g                                                 float64\n",
       "sodium_100g                                                 float64\n",
       "proteins_100g                                               float64\n",
       "fruits_vegetables_legumes_estimate_from_ingredients_100g    float64\n",
       "salt_100g                                                   float64\n",
       "nutrition_score_fr_100g                                     float64\n",
       "carbohydrates_100g                                          float64\n",
       "energy_kcal_100g                                            float64\n",
       "fruits_vegetables_nuts_estimate_from_ingredients_100g       float64\n",
       "sugars_100g                                                 float64\n",
       "fat_100g                                                    float64\n",
       "saturated_fat_100g                                          float64\n",
       "fiber_100g                                                  float64\n",
       "trans_fat_100g                                              float64\n",
       "vitamin_a_100g                                              float64\n",
       "cholesterol_100g                                            float64\n",
       "calcium_100g                                                float64\n",
       "iron_100g                                                   float64\n",
       "vitamin_c_100g                                              float64\n",
       "dtype: object"
      ]
     },
     "execution_count": 15,
     "metadata": {},
     "output_type": "execute_result"
    }
   ],
   "source": [
    "# View feature data types\n",
    "features_df.dtypes"
   ]
  },
  {
   "cell_type": "code",
   "execution_count": 16,
   "id": "cd56dc79-eac4-470d-8dd0-da4f6858a9f4",
   "metadata": {
    "execution": {
     "iopub.execute_input": "2025-09-28T21:51:08.946152Z",
     "iopub.status.busy": "2025-09-28T21:51:08.945716Z",
     "iopub.status.idle": "2025-09-28T21:51:09.060694Z",
     "shell.execute_reply": "2025-09-28T21:51:09.059881Z",
     "shell.execute_reply.started": "2025-09-28T21:51:08.946121Z"
    }
   },
   "outputs": [
    {
     "name": "stdout",
     "output_type": "stream",
     "text": [
      "Feature definitions assigned to Foodlens Feature Group.\n"
     ]
    }
   ],
   "source": [
    "# Define feature group schema\n",
    "food_features_df = features_df.copy()\n",
    "\n",
    "# Cast 'object' columns to string type\n",
    "food_features_df['code'] = food_features_df['code'].astype('str').astype('string')\n",
    "food_features_df['product_name'] = food_features_df['product_name'].astype('str').astype('string')\n",
    "\n",
    "# Add ingestion timestamp\n",
    "current_time_sec = int(round(time.time()))\n",
    "food_features_df['EventTime'] = pd.Series(\n",
    "    [current_time_sec] * len(food_features_df), dtype=\"float64\"\n",
    ")\n",
    "\n",
    "# Load feature definitions to the feature group\n",
    "food_feature_group.load_feature_definitions(data_frame=food_features_df)\n",
    "\n",
    "print(\"Feature definitions assigned to Foodlens Feature Group.\")"
   ]
  },
  {
   "cell_type": "code",
   "execution_count": 17,
   "id": "59371306-b9f9-4179-a16e-2994581c3440",
   "metadata": {
    "execution": {
     "iopub.execute_input": "2025-09-28T21:51:10.715181Z",
     "iopub.status.busy": "2025-09-28T21:51:10.714500Z",
     "iopub.status.idle": "2025-09-28T21:51:10.721617Z",
     "shell.execute_reply": "2025-09-28T21:51:10.720642Z",
     "shell.execute_reply.started": "2025-09-28T21:51:10.715147Z"
    }
   },
   "outputs": [
    {
     "data": {
      "text/plain": [
       "code                                                        string[python]\n",
       "product_name                                                string[python]\n",
       "nova_group                                                           int64\n",
       "additives_n                                                          int64\n",
       "ingredients_n                                                        int64\n",
       "nutriscore_score                                                     int64\n",
       "nova_group_100g                                                    float64\n",
       "energy_100g                                                        float64\n",
       "sodium_100g                                                        float64\n",
       "proteins_100g                                                      float64\n",
       "fruits_vegetables_legumes_estimate_from_ingredients_100g           float64\n",
       "salt_100g                                                          float64\n",
       "nutrition_score_fr_100g                                            float64\n",
       "carbohydrates_100g                                                 float64\n",
       "energy_kcal_100g                                                   float64\n",
       "fruits_vegetables_nuts_estimate_from_ingredients_100g              float64\n",
       "sugars_100g                                                        float64\n",
       "fat_100g                                                           float64\n",
       "saturated_fat_100g                                                 float64\n",
       "fiber_100g                                                         float64\n",
       "trans_fat_100g                                                     float64\n",
       "vitamin_a_100g                                                     float64\n",
       "cholesterol_100g                                                   float64\n",
       "calcium_100g                                                       float64\n",
       "iron_100g                                                          float64\n",
       "vitamin_c_100g                                                     float64\n",
       "EventTime                                                          float64\n",
       "dtype: object"
      ]
     },
     "execution_count": 17,
     "metadata": {},
     "output_type": "execute_result"
    }
   ],
   "source": [
    "# View feature data types\n",
    "food_features_df.dtypes"
   ]
  },
  {
   "cell_type": "code",
   "execution_count": 18,
   "id": "83a60b4e-2ce2-4717-a203-27693673bc3b",
   "metadata": {
    "execution": {
     "iopub.execute_input": "2025-09-28T21:51:13.337896Z",
     "iopub.status.busy": "2025-09-28T21:51:13.337624Z",
     "iopub.status.idle": "2025-09-28T21:51:55.300183Z",
     "shell.execute_reply": "2025-09-28T21:51:55.299434Z",
     "shell.execute_reply.started": "2025-09-28T21:51:13.337873Z"
    }
   },
   "outputs": [
    {
     "name": "stdout",
     "output_type": "stream",
     "text": [
      "Creating Foodlens Feature Group... this can take a minute.\n",
      "Waiting for Feature Group Creation\n",
      "Waiting for Feature Group Creation\n",
      "Waiting for Feature Group Creation\n",
      "Waiting for Feature Group Creation\n",
      "Waiting for Feature Group Creation\n",
      "Waiting for Feature Group Creation\n",
      "Waiting for Feature Group Creation\n",
      "Waiting for Feature Group Creation\n",
      "FeatureGroup foodlens-products-feature-group-28-21-51-05 successfully created.\n"
     ]
    }
   ],
   "source": [
    "# Create the feature group in sagemaker featurestore\n",
    "def wait_for_feature_group_creation_complete(feature_group):\n",
    "    status = feature_group.describe().get(\"FeatureGroupStatus\")\n",
    "    while status == \"Creating\":\n",
    "        print(\"Waiting for Feature Group Creation\")\n",
    "        time.sleep(5)\n",
    "        status = feature_group.describe().get(\"FeatureGroupStatus\")\n",
    "    if status != \"Created\":\n",
    "        raise RuntimeError(f\"Failed to create feature group {feature_group.name}\")\n",
    "    print(f\"FeatureGroup {feature_group.name} successfully created.\")\n",
    "\n",
    "food_feature_group.create(\n",
    "    s3_uri=f\"s3://{bucket}/feature-store/Foodlens/\",\n",
    "    record_identifier_name=\"code\",\n",
    "    event_time_feature_name=\"EventTime\",\n",
    "    role_arn=role,\n",
    "    enable_online_store=True,\n",
    "    disable_glue_table_creation=False,  # keep Glue auto-create\n",
    "    description=\"Foodlens Feature Group for OpenFoodFacts Products\"\n",
    ")\n",
    "\n",
    "print(\"Creating Foodlens Feature Group... this can take a minute.\")\n",
    "wait_for_feature_group_creation_complete(feature_group=food_feature_group)"
   ]
  },
  {
   "cell_type": "code",
   "execution_count": 33,
   "id": "d92d93fb-a4fe-4149-a705-9f5c65249140",
   "metadata": {
    "execution": {
     "iopub.execute_input": "2025-09-28T22:06:27.740111Z",
     "iopub.status.busy": "2025-09-28T22:06:27.739832Z",
     "iopub.status.idle": "2025-09-28T22:06:27.925544Z",
     "shell.execute_reply": "2025-09-28T22:06:27.924911Z",
     "shell.execute_reply.started": "2025-09-28T22:06:27.740091Z"
    }
   },
   "outputs": [
    {
     "data": {
      "text/plain": [
       "{'FeatureGroupArn': 'arn:aws:sagemaker:us-east-1:654654380268:feature-group/foodlens-products-feature-group-28-21-51-05',\n",
       " 'FeatureGroupName': 'foodlens-products-feature-group-28-21-51-05',\n",
       " 'RecordIdentifierFeatureName': 'code',\n",
       " 'EventTimeFeatureName': 'EventTime',\n",
       " 'FeatureDefinitions': [{'FeatureName': 'code', 'FeatureType': 'String'},\n",
       "  {'FeatureName': 'product_name', 'FeatureType': 'String'},\n",
       "  {'FeatureName': 'nova_group', 'FeatureType': 'Integral'},\n",
       "  {'FeatureName': 'additives_n', 'FeatureType': 'Integral'},\n",
       "  {'FeatureName': 'ingredients_n', 'FeatureType': 'Integral'},\n",
       "  {'FeatureName': 'nutriscore_score', 'FeatureType': 'Integral'},\n",
       "  {'FeatureName': 'nova_group_100g', 'FeatureType': 'Fractional'},\n",
       "  {'FeatureName': 'energy_100g', 'FeatureType': 'Fractional'},\n",
       "  {'FeatureName': 'sodium_100g', 'FeatureType': 'Fractional'},\n",
       "  {'FeatureName': 'proteins_100g', 'FeatureType': 'Fractional'},\n",
       "  {'FeatureName': 'fruits_vegetables_legumes_estimate_from_ingredients_100g',\n",
       "   'FeatureType': 'Fractional'},\n",
       "  {'FeatureName': 'salt_100g', 'FeatureType': 'Fractional'},\n",
       "  {'FeatureName': 'nutrition_score_fr_100g', 'FeatureType': 'Fractional'},\n",
       "  {'FeatureName': 'carbohydrates_100g', 'FeatureType': 'Fractional'},\n",
       "  {'FeatureName': 'energy_kcal_100g', 'FeatureType': 'Fractional'},\n",
       "  {'FeatureName': 'fruits_vegetables_nuts_estimate_from_ingredients_100g',\n",
       "   'FeatureType': 'Fractional'},\n",
       "  {'FeatureName': 'sugars_100g', 'FeatureType': 'Fractional'},\n",
       "  {'FeatureName': 'fat_100g', 'FeatureType': 'Fractional'},\n",
       "  {'FeatureName': 'saturated_fat_100g', 'FeatureType': 'Fractional'},\n",
       "  {'FeatureName': 'fiber_100g', 'FeatureType': 'Fractional'},\n",
       "  {'FeatureName': 'trans_fat_100g', 'FeatureType': 'Fractional'},\n",
       "  {'FeatureName': 'vitamin_a_100g', 'FeatureType': 'Fractional'},\n",
       "  {'FeatureName': 'cholesterol_100g', 'FeatureType': 'Fractional'},\n",
       "  {'FeatureName': 'calcium_100g', 'FeatureType': 'Fractional'},\n",
       "  {'FeatureName': 'iron_100g', 'FeatureType': 'Fractional'},\n",
       "  {'FeatureName': 'vitamin_c_100g', 'FeatureType': 'Fractional'},\n",
       "  {'FeatureName': 'EventTime', 'FeatureType': 'Fractional'}],\n",
       " 'CreationTime': datetime.datetime(2025, 9, 28, 21, 51, 13, 549000, tzinfo=tzlocal()),\n",
       " 'OnlineStoreConfig': {'EnableOnlineStore': True},\n",
       " 'OfflineStoreConfig': {'S3StorageConfig': {'S3Uri': 's3://sagemaker-us-east-1-654654380268/feature-store/Foodlens/',\n",
       "   'ResolvedOutputS3Uri': 's3://sagemaker-us-east-1-654654380268/feature-store/Foodlens/654654380268/sagemaker/us-east-1/offline-store/foodlens-products-feature-group-28-21-51-05-1759096273/data'},\n",
       "  'DisableGlueTableCreation': False,\n",
       "  'DataCatalogConfig': {'TableName': 'foodlens_products_feature_group_28_21_51_05_1759096273',\n",
       "   'Catalog': 'AwsDataCatalog',\n",
       "   'Database': 'sagemaker_featurestore'}},\n",
       " 'ThroughputConfig': {'ThroughputMode': 'OnDemand'},\n",
       " 'RoleArn': 'arn:aws:iam::654654380268:role/LabRole',\n",
       " 'FeatureGroupStatus': 'Created',\n",
       " 'OfflineStoreStatus': {'Status': 'Active'},\n",
       " 'Description': 'Foodlens Feature Group for OpenFoodFacts Products',\n",
       " 'OnlineStoreTotalSizeBytes': 0,\n",
       " 'ResponseMetadata': {'RequestId': '2c440903-0737-4f66-979d-3f78cb0e2291',\n",
       "  'HTTPStatusCode': 200,\n",
       "  'HTTPHeaders': {'x-amzn-requestid': '2c440903-0737-4f66-979d-3f78cb0e2291',\n",
       "   'strict-transport-security': 'max-age=47304000; includeSubDomains',\n",
       "   'x-frame-options': 'DENY',\n",
       "   'content-security-policy': \"frame-ancestors 'none'\",\n",
       "   'cache-control': 'no-cache, no-store, must-revalidate',\n",
       "   'x-content-type-options': 'nosniff',\n",
       "   'content-type': 'application/x-amz-json-1.1',\n",
       "   'content-length': '3212',\n",
       "   'date': 'Sun, 28 Sep 2025 22:06:27 GMT'},\n",
       "  'RetryAttempts': 0}}"
      ]
     },
     "execution_count": 33,
     "metadata": {},
     "output_type": "execute_result"
    }
   ],
   "source": [
    "# View feature group details\n",
    "food_feature_group_desc = food_feature_group.describe()\n",
    "food_feature_group_desc"
   ]
  },
  {
   "cell_type": "markdown",
   "id": "84288021-6dd3-47b1-b1d9-77dbb95fc07d",
   "metadata": {
    "execution": {
     "iopub.execute_input": "2025-09-28T14:15:21.908750Z",
     "iopub.status.busy": "2025-09-28T14:15:21.908543Z",
     "iopub.status.idle": "2025-09-28T14:15:21.911301Z",
     "shell.execute_reply": "2025-09-28T14:15:21.910611Z",
     "shell.execute_reply.started": "2025-09-28T14:15:21.908732Z"
    }
   },
   "source": [
    "## Ingest Data into FeatureGroup"
   ]
  },
  {
   "cell_type": "code",
   "execution_count": 21,
   "id": "77f9a433-86b3-42d2-a4e9-8716021ffea0",
   "metadata": {
    "execution": {
     "iopub.execute_input": "2025-09-28T21:52:20.089194Z",
     "iopub.status.busy": "2025-09-28T21:52:20.088903Z",
     "iopub.status.idle": "2025-09-28T21:52:20.762734Z",
     "shell.execute_reply": "2025-09-28T21:52:20.761884Z",
     "shell.execute_reply.started": "2025-09-28T21:52:20.089167Z"
    }
   },
   "outputs": [
    {
     "name": "stdout",
     "output_type": "stream",
     "text": [
      "Saving processed DataFrame to S3...\n",
      "Data saved to: s3://sagemaker-us-east-1-654654380268/feature-store-project/processed-data/20250928215220/\n",
      "Using Glue Script from: s3://sagemaker-us-east-1-654654380268/feature-store-project/glue-scripts/ingest_script.py\n"
     ]
    }
   ],
   "source": [
    "# File configuration\n",
    "prefix_processed_data_s3 = 'feature-store-project/processed-data'\n",
    "prefix_glue_script_s3 = 'feature-store-project/glue-scripts'\n",
    "glue_job_name = 'FeatureStore-Ingestion-Job' + datetime.now().strftime(\"-%Y-%m-%d-%H-%M\")\n",
    "\n",
    "# Save the processed DataFrame to S3 \n",
    "print(\"Saving processed DataFrame to S3...\")\n",
    "current_time_str = datetime.now().strftime(\"%Y%m%d%H%M%S\")\n",
    "data_s3_uri = f's3://{bucket}/{prefix_processed_data_s3}/{current_time_str}/'\n",
    "glue_script_file_name = 'ingest_script.py'\n",
    "script_s3_key = f'{prefix_glue_script_s3}/{glue_script_file_name}'\n",
    "script_s3_uri = f's3://{bucket}/{script_s3_key}'\n",
    "local_ingest_script_path = 'utils/ingest_script.py'\n",
    "\n",
    "# Convert the pandas DataFrame to Parquet on S3\n",
    "food_features_df.to_parquet(data_s3_uri)\n",
    "print(f\"Data saved to: {data_s3_uri}\")\n",
    "\n",
    "# Upload the Glue Script\n",
    "boto3.Session().resource('s3').Bucket(bucket).Object(f'{prefix_glue_script_s3}/{glue_script_file_name}').upload_file(local_ingest_script_path)\n",
    "print(f\"Using Glue Script from: {script_s3_uri}\")"
   ]
  },
  {
   "cell_type": "code",
   "execution_count": 22,
   "id": "ca16b81f-090a-4bff-ab0d-180b6c941c13",
   "metadata": {
    "execution": {
     "iopub.execute_input": "2025-09-28T21:52:34.444135Z",
     "iopub.status.busy": "2025-09-28T21:52:34.443878Z",
     "iopub.status.idle": "2025-09-28T21:57:35.966717Z",
     "shell.execute_reply": "2025-09-28T21:57:35.966018Z",
     "shell.execute_reply.started": "2025-09-28T21:52:34.444116Z"
    }
   },
   "outputs": [
    {
     "name": "stdout",
     "output_type": "stream",
     "text": [
      "Submitting ingestion job to AWS Glue...\n",
      "    Creating new Glue Job definition: FeatureStore-Ingestion-Job-2025-09-28-21-52\n",
      "SUCCESS: Glue job started! Run ID: jr_858b08919d949344816336e6ff91030d72fddfd0e1dad436a97f06fb867169de\n",
      "Monitoring job progress (Checking status every 30 seconds)...\n",
      "    Current Status: RUNNING\n",
      "    Waiting 30 seconds...\n",
      "    Current Status: RUNNING\n",
      "    Waiting 30 seconds...\n",
      "    Current Status: RUNNING\n",
      "    Waiting 30 seconds...\n",
      "    Current Status: RUNNING\n",
      "    Waiting 30 seconds...\n",
      "    Current Status: RUNNING\n",
      "    Waiting 30 seconds...\n",
      "    Current Status: RUNNING\n",
      "    Waiting 30 seconds...\n",
      "    Current Status: RUNNING\n",
      "    Waiting 30 seconds...\n",
      "    Current Status: RUNNING\n",
      "    Waiting 30 seconds...\n",
      "    Current Status: RUNNING\n",
      "    Waiting 30 seconds...\n",
      "    Current Status: RUNNING\n",
      "    Waiting 30 seconds...\n",
      "    Current Status: SUCCEEDED\n",
      "\n",
      "Job SUCCEEDED! Data successfully ingested into foodlens-products-feature-group-28-21-51-05.\n"
     ]
    }
   ],
   "source": [
    "# Submit the AWS Glue Job\n",
    "print(\"Submitting ingestion job to AWS Glue...\")\n",
    "glue_client = boto3.client('glue', region_name=region)\n",
    "\n",
    "try:\n",
    "    # First, ensure the Glue Job definition exists (run this once)\n",
    "    try:\n",
    "        glue_client.get_job(JobName=glue_job_name)\n",
    "    except glue_client.exceptions.EntityNotFoundException:\n",
    "        print(f\"    Creating new Glue Job definition: {glue_job_name}\")\n",
    "        glue_client.create_job(\n",
    "            Name=glue_job_name,\n",
    "            Role=role,\n",
    "            Command={\n",
    "                'Name': 'glueetl',\n",
    "                'ScriptLocation': script_s3_uri,\n",
    "                'PythonVersion': '3'\n",
    "            },\n",
    "            WorkerType='G.1X',\n",
    "            NumberOfWorkers=5, \n",
    "            GlueVersion='4.0',\n",
    "            MaxRetries=0\n",
    "        )\n",
    "    \n",
    "    # Start the job run with parameters\n",
    "    response = glue_client.start_job_run(\n",
    "        JobName=glue_job_name,\n",
    "        Arguments={\n",
    "            '--s3_data_path': data_s3_uri,\n",
    "            '--feature_group_name': feature_group_name,\n",
    "            '--sagemaker_role_arn': role,\n",
    "            '--region': region,\n",
    "            '--additional-python-modules': 'sagemaker'\n",
    "        }\n",
    "    )\n",
    "\n",
    "    job_run_id = response['JobRunId']\n",
    "    print(f\"SUCCESS: Glue job started! Run ID: {job_run_id}\")\n",
    "    \n",
    "    # Monitoring Loop\n",
    "    print(\"Monitoring job progress (Checking status every 30 seconds)...\")\n",
    "    \n",
    "    job_status = 'STARTING'\n",
    "    while job_status in ['STARTING', 'RUNNING', 'WAITING']:\n",
    "        status_response = glue_client.get_job_run(JobName=glue_job_name, RunId=job_run_id)\n",
    "        job_status = status_response['JobRun']['JobRunState']\n",
    "        \n",
    "        print(f\"    Current Status: {job_status}\")\n",
    "\n",
    "        # Check if the job has reached a terminal state\n",
    "        if job_status not in ['STARTING', 'RUNNING', 'WAITING']:\n",
    "            break # Exit the loop immediately if status is SUCCEEDED, FAILED, etc.\n",
    "        \n",
    "        print(\"    Waiting 30 seconds...\")\n",
    "        time.sleep(30)\n",
    "        \n",
    "    if job_status == 'SUCCEEDED':\n",
    "        print(f\"\\nJob SUCCEEDED! Data successfully ingested into {feature_group_name}.\")\n",
    "    elif job_status in ['FAILED', 'STOPPED', 'TIMEOUT']:\n",
    "        error_message = status_response['JobRun'].get('ErrorMessage', 'No specific error message.')\n",
    "        print(f\"\\nJob FAILED/STOPPED with status: {job_status}. Error: {error_message}\")\n",
    "    # End of Monitoring Loop\n",
    "except Exception as e:\n",
    "    print(f\"\\nERROR submitting Glue job: {e}\")"
   ]
  },
  {
   "cell_type": "markdown",
   "id": "6a406a35-09d3-415f-a067-3a044e2c7cf1",
   "metadata": {},
   "source": [
    "## Confirm Data Ingestion"
   ]
  },
  {
   "cell_type": "code",
   "execution_count": 23,
   "id": "348665b7-b9ff-4656-b71e-efb75d44931b",
   "metadata": {
    "execution": {
     "iopub.execute_input": "2025-09-28T21:58:15.034710Z",
     "iopub.status.busy": "2025-09-28T21:58:15.034445Z",
     "iopub.status.idle": "2025-09-28T21:58:15.110299Z",
     "shell.execute_reply": "2025-09-28T21:58:15.109594Z",
     "shell.execute_reply.started": "2025-09-28T21:58:15.034687Z"
    }
   },
   "outputs": [
    {
     "data": {
      "text/plain": [
       "{'ResponseMetadata': {'RequestId': 'd64d9539-0b53-4bb4-a994-c1704527fc4d',\n",
       "  'HTTPStatusCode': 200,\n",
       "  'HTTPHeaders': {'x-amzn-requestid': 'd64d9539-0b53-4bb4-a994-c1704527fc4d',\n",
       "   'content-type': 'application/json',\n",
       "   'content-length': '2316',\n",
       "   'date': 'Sun, 28 Sep 2025 21:58:15 GMT'},\n",
       "  'RetryAttempts': 0},\n",
       " 'Record': [{'FeatureName': 'code', 'ValueAsString': '00001252'},\n",
       "  {'FeatureName': 'product_name', 'ValueAsString': 'Cottage cheese'},\n",
       "  {'FeatureName': 'nova_group', 'ValueAsString': '3'},\n",
       "  {'FeatureName': 'additives_n', 'ValueAsString': '0'},\n",
       "  {'FeatureName': 'ingredients_n', 'ValueAsString': '3'},\n",
       "  {'FeatureName': 'nutriscore_score', 'ValueAsString': '4'},\n",
       "  {'FeatureName': 'nova_group_100g', 'ValueAsString': '3.0'},\n",
       "  {'FeatureName': 'energy_100g', 'ValueAsString': '407.0'},\n",
       "  {'FeatureName': 'sodium_100g', 'ValueAsString': '0.34513274'},\n",
       "  {'FeatureName': 'proteins_100g', 'ValueAsString': '11.504425'},\n",
       "  {'FeatureName': 'fruits_vegetables_legumes_estimate_from_ingredients_100g',\n",
       "   'ValueAsString': '0.0'},\n",
       "  {'FeatureName': 'salt_100g', 'ValueAsString': '0.86283183'},\n",
       "  {'FeatureName': 'nutrition_score_fr_100g', 'ValueAsString': '4.0'},\n",
       "  {'FeatureName': 'carbohydrates_100g', 'ValueAsString': '4.424779'},\n",
       "  {'FeatureName': 'energy_kcal_100g', 'ValueAsString': '97.34513'},\n",
       "  {'FeatureName': 'fruits_vegetables_nuts_estimate_from_ingredients_100g',\n",
       "   'ValueAsString': '0.0'},\n",
       "  {'FeatureName': 'sugars_100g', 'ValueAsString': '3.539823'},\n",
       "  {'FeatureName': 'fat_100g', 'ValueAsString': '4.424779'},\n",
       "  {'FeatureName': 'saturated_fat_100g', 'ValueAsString': '2.6548672'},\n",
       "  {'FeatureName': 'fiber_100g', 'ValueAsString': '0.0'},\n",
       "  {'FeatureName': 'trans_fat_100g', 'ValueAsString': '0.0'},\n",
       "  {'FeatureName': 'vitamin_a_100g', 'ValueAsString': '0.0'},\n",
       "  {'FeatureName': 'cholesterol_100g', 'ValueAsString': '0.017699115'},\n",
       "  {'FeatureName': 'calcium_100g', 'ValueAsString': '0.026'},\n",
       "  {'FeatureName': 'iron_100g', 'ValueAsString': '0.00072'},\n",
       "  {'FeatureName': 'vitamin_c_100g', 'ValueAsString': '0.0'},\n",
       "  {'FeatureName': 'EventTime', 'ValueAsString': '1759096269.0'}]}"
      ]
     },
     "execution_count": 23,
     "metadata": {},
     "output_type": "execute_result"
    }
   ],
   "source": [
    "# Grab sample record\n",
    "record_identifier_value = '00001252' # Cottage Cheese\n",
    "\n",
    "# Call the get_record API\n",
    "featurestore_runtime.get_record(\n",
    "    FeatureGroupName=feature_group_name,\n",
    "    RecordIdentifierValueAsString=record_identifier_value,\n",
    ")"
   ]
  },
  {
   "cell_type": "code",
   "execution_count": 34,
   "id": "7ced4119-5e88-4b06-a37b-42ed51c6922d",
   "metadata": {
    "execution": {
     "iopub.execute_input": "2025-09-28T22:06:51.517673Z",
     "iopub.status.busy": "2025-09-28T22:06:51.517400Z",
     "iopub.status.idle": "2025-09-28T22:06:52.795687Z",
     "shell.execute_reply": "2025-09-28T22:06:52.794744Z",
     "shell.execute_reply.started": "2025-09-28T22:06:51.517652Z"
    }
   },
   "outputs": [
    {
     "name": "stdout",
     "output_type": "stream",
     "text": [
      "SELECT COUNT(*)\n",
      "FROM \"sagemaker_featurestore\".\"foodlens_products_feature_group_28_21_51_05_1759096273\" \n"
     ]
    },
    {
     "data": {
      "text/html": [
       "<div>\n",
       "<style scoped>\n",
       "    .dataframe tbody tr th:only-of-type {\n",
       "        vertical-align: middle;\n",
       "    }\n",
       "\n",
       "    .dataframe tbody tr th {\n",
       "        vertical-align: top;\n",
       "    }\n",
       "\n",
       "    .dataframe thead th {\n",
       "        text-align: right;\n",
       "    }\n",
       "</style>\n",
       "<table border=\"1\" class=\"dataframe\">\n",
       "  <thead>\n",
       "    <tr style=\"text-align: right;\">\n",
       "      <th></th>\n",
       "      <th>_col0</th>\n",
       "    </tr>\n",
       "  </thead>\n",
       "  <tbody>\n",
       "    <tr>\n",
       "      <th>0</th>\n",
       "      <td>100000</td>\n",
       "    </tr>\n",
       "  </tbody>\n",
       "</table>\n",
       "</div>"
      ],
      "text/plain": [
       "    _col0\n",
       "0  100000"
      ]
     },
     "execution_count": 34,
     "metadata": {},
     "output_type": "execute_result"
    }
   ],
   "source": [
    "# Verify all records made into feature group\n",
    "# You may have to wait a few minutes for the data to fully appear in offline store\n",
    "feature_database_name = 'sagemaker_featurestore' \n",
    "feature_group_table_name = food_feature_group_desc['OfflineStoreConfig']['DataCatalogConfig']['TableName']\n",
    "\n",
    "statement = \"\"\"SELECT COUNT(*)\n",
    "FROM \"{}\".\"{}\" \"\"\".format(\n",
    "    feature_database_name, \n",
    "    feature_group_table_name \n",
    ")\n",
    "\n",
    "print(statement)\n",
    "total_record_count = pd.read_sql(statement, conn)\n",
    "total_record_count"
   ]
  }
 ],
 "metadata": {
  "kernelspec": {
   "display_name": "Python 3 (ipykernel)",
   "language": "python",
   "name": "python3"
  },
  "language_info": {
   "codemirror_mode": {
    "name": "ipython",
    "version": 3
   },
   "file_extension": ".py",
   "mimetype": "text/x-python",
   "name": "python",
   "nbconvert_exporter": "python",
   "pygments_lexer": "ipython3",
   "version": "3.12.9"
  }
 },
 "nbformat": 4,
 "nbformat_minor": 5
}
