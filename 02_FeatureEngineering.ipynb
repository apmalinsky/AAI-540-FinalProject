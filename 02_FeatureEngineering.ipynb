{
 "cells": [
  {
   "cell_type": "markdown",
   "id": "281e4800-cd69-44b2-9418-990b4e96b8e0",
   "metadata": {},
   "source": [
    "# Feature Engineering"
   ]
  },
  {
   "cell_type": "code",
   "execution_count": 1,
   "id": "aaecc4d2-2301-4142-ae0d-72478ca8a314",
   "metadata": {
    "execution": {
     "iopub.execute_input": "2025-10-11T21:16:20.596335Z",
     "iopub.status.busy": "2025-10-11T21:16:20.596083Z",
     "iopub.status.idle": "2025-10-11T21:16:22.522106Z",
     "shell.execute_reply": "2025-10-11T21:16:22.521492Z",
     "shell.execute_reply.started": "2025-10-11T21:16:20.596314Z"
    }
   },
   "outputs": [
    {
     "name": "stdout",
     "output_type": "stream",
     "text": [
      "sagemaker.config INFO - Not applying SDK defaults from location: /etc/xdg/sagemaker/config.yaml\n",
      "sagemaker.config INFO - Not applying SDK defaults from location: /home/sagemaker-user/.config/sagemaker/config.yaml\n"
     ]
    }
   ],
   "source": [
    "# Import libraries\n",
    "import boto3\n",
    "import sagemaker\n",
    "import pyathena\n",
    "from pyathena import connect\n",
    "import pandas as pd\n",
    "import time\n",
    "import numpy as numpy\n",
    "import json\n",
    "import os\n",
    "from utils import feature_processing\n",
    "from time import gmtime, strftime, sleep\n",
    "from sagemaker.session import Session\n",
    "from sagemaker.feature_store.feature_group import FeatureGroup\n",
    "from sagemaker.feature_store.feature_store import FeatureStore\n",
    "from sagemaker.feature_store.feature_definition import FeatureDefinition, FeatureTypeEnum\n",
    "from sagemaker.feature_store.inputs import OfflineStoreConfig, OnlineStoreConfig, DataCatalogConfig, S3StorageConfig\n",
    "from datetime import datetime\n",
    "from sagemaker.processing import ScriptProcessor, ProcessingInput, ProcessingOutput\n",
    "\n",
    "import warnings\n",
    "warnings.filterwarnings('ignore', category=UserWarning)"
   ]
  },
  {
   "cell_type": "code",
   "execution_count": 2,
   "id": "a210dd18-325a-4bcb-a965-bea2b3b8cb15",
   "metadata": {
    "execution": {
     "iopub.execute_input": "2025-10-11T21:16:22.523656Z",
     "iopub.status.busy": "2025-10-11T21:16:22.523125Z",
     "iopub.status.idle": "2025-10-11T21:16:23.098781Z",
     "shell.execute_reply": "2025-10-11T21:16:23.097847Z",
     "shell.execute_reply.started": "2025-10-11T21:16:22.523624Z"
    }
   },
   "outputs": [
    {
     "name": "stdout",
     "output_type": "stream",
     "text": [
      "Boto and Sagemaker Sessions Initialized...\n",
      "Bucket: sagemaker-us-east-1-243285667099\n",
      "Region: us-east-1\n"
     ]
    }
   ],
   "source": [
    "# Setup boto and sagemaker session\n",
    "sess = sagemaker.Session()\n",
    "bucket = sess.default_bucket()\n",
    "role = sagemaker.get_execution_role()\n",
    "region = boto3.Session().region_name\n",
    "print('Boto and Sagemaker Sessions Initialized...\\nBucket: {0}\\nRegion: {1}'.format(bucket, region))"
   ]
  },
  {
   "cell_type": "code",
   "execution_count": 3,
   "id": "32e27b09-98fb-4ee1-b054-5860d5c68856",
   "metadata": {
    "execution": {
     "iopub.execute_input": "2025-10-11T21:16:23.099925Z",
     "iopub.status.busy": "2025-10-11T21:16:23.099587Z",
     "iopub.status.idle": "2025-10-11T21:16:23.177761Z",
     "shell.execute_reply": "2025-10-11T21:16:23.177203Z",
     "shell.execute_reply.started": "2025-10-11T21:16:23.099897Z"
    }
   },
   "outputs": [],
   "source": [
    "database_name = 'foodfacts'\n",
    "raw_table_name = \"aai_540_openfoodfacts\"\n",
    "us_table_name = 'food_us_100k'\n",
    "\n",
    "# Initialize our database name\n",
    "database_name = 'foodfacts'\n",
    "\n",
    "# Set S3 staging directory\n",
    "s3_staging_dir = \"s3://{0}/athena/staging\".format(bucket)\n",
    "\n",
    "# Create connection to Athena database\n",
    "conn = connect(region_name=region, s3_staging_dir=s3_staging_dir)"
   ]
  },
  {
   "cell_type": "code",
   "execution_count": 4,
   "id": "a583ab05-a8f4-4a2d-b66c-1523a2862d72",
   "metadata": {
    "execution": {
     "iopub.execute_input": "2025-10-11T21:16:23.179481Z",
     "iopub.status.busy": "2025-10-11T21:16:23.179135Z",
     "iopub.status.idle": "2025-10-11T21:16:24.834261Z",
     "shell.execute_reply": "2025-10-11T21:16:24.833585Z",
     "shell.execute_reply.started": "2025-10-11T21:16:23.179451Z"
    }
   },
   "outputs": [
    {
     "name": "stdout",
     "output_type": "stream",
     "text": [
      "SELECT * FROM foodfacts.food_us_100k LIMIT 5;\n"
     ]
    },
    {
     "data": {
      "text/html": [
       "<div>\n",
       "<style scoped>\n",
       "    .dataframe tbody tr th:only-of-type {\n",
       "        vertical-align: middle;\n",
       "    }\n",
       "\n",
       "    .dataframe tbody tr th {\n",
       "        vertical-align: top;\n",
       "    }\n",
       "\n",
       "    .dataframe thead th {\n",
       "        text-align: right;\n",
       "    }\n",
       "</style>\n",
       "<table border=\"1\" class=\"dataframe\">\n",
       "  <thead>\n",
       "    <tr style=\"text-align: right;\">\n",
       "      <th></th>\n",
       "      <th>code</th>\n",
       "      <th>product_name</th>\n",
       "      <th>nutriments</th>\n",
       "      <th>nova_group</th>\n",
       "      <th>additives_n</th>\n",
       "      <th>ingredients_n</th>\n",
       "      <th>nutriscore_score</th>\n",
       "    </tr>\n",
       "  </thead>\n",
       "  <tbody>\n",
       "    <tr>\n",
       "      <th>0</th>\n",
       "      <td>0038000524042</td>\n",
       "      <td>[{'lang': 'main', 'text': 'Kellogg'S Treats Sq...</td>\n",
       "      <td>[{'name': 'sodium', 'value': 0.46666667, '100g...</td>\n",
       "      <td>4</td>\n",
       "      <td>4</td>\n",
       "      <td>26</td>\n",
       "      <td>22</td>\n",
       "    </tr>\n",
       "    <tr>\n",
       "      <th>1</th>\n",
       "      <td>0876063007832</td>\n",
       "      <td>[{'lang': 'main', 'text': 'Plant-Based Protein...</td>\n",
       "      <td>[{'name': 'fiber', 'value': 10.0, '100g': 3.03...</td>\n",
       "      <td>4</td>\n",
       "      <td>2</td>\n",
       "      <td>13</td>\n",
       "      <td>1</td>\n",
       "    </tr>\n",
       "    <tr>\n",
       "      <th>2</th>\n",
       "      <td>0788434105187</td>\n",
       "      <td>[{'lang': 'main', 'text': 'Bar Protéinée'}, {'...</td>\n",
       "      <td>[{'name': 'potassium', 'value': 323.0, '100g':...</td>\n",
       "      <td>4</td>\n",
       "      <td>5</td>\n",
       "      <td>21</td>\n",
       "      <td>13</td>\n",
       "    </tr>\n",
       "    <tr>\n",
       "      <th>3</th>\n",
       "      <td>0070200551121</td>\n",
       "      <td>[{'lang': 'main', 'text': 'Supreme Caesar'}, {...</td>\n",
       "      <td>[{'name': 'sodium', 'value': 0.26, '100g': 0.8...</td>\n",
       "      <td>4</td>\n",
       "      <td>1</td>\n",
       "      <td>27</td>\n",
       "      <td>23</td>\n",
       "    </tr>\n",
       "    <tr>\n",
       "      <th>4</th>\n",
       "      <td>0850000223332</td>\n",
       "      <td>[{'lang': 'main', 'text': 'Pumpkin Pie'}, {'la...</td>\n",
       "      <td>[{'name': 'fiber', 'value': 6.0, '100g': 9.09,...</td>\n",
       "      <td>4</td>\n",
       "      <td>0</td>\n",
       "      <td>13</td>\n",
       "      <td>8</td>\n",
       "    </tr>\n",
       "  </tbody>\n",
       "</table>\n",
       "</div>"
      ],
      "text/plain": [
       "            code                                       product_name  \\\n",
       "0  0038000524042  [{'lang': 'main', 'text': 'Kellogg'S Treats Sq...   \n",
       "1  0876063007832  [{'lang': 'main', 'text': 'Plant-Based Protein...   \n",
       "2  0788434105187  [{'lang': 'main', 'text': 'Bar Protéinée'}, {'...   \n",
       "3  0070200551121  [{'lang': 'main', 'text': 'Supreme Caesar'}, {...   \n",
       "4  0850000223332  [{'lang': 'main', 'text': 'Pumpkin Pie'}, {'la...   \n",
       "\n",
       "                                          nutriments  nova_group  additives_n  \\\n",
       "0  [{'name': 'sodium', 'value': 0.46666667, '100g...           4            4   \n",
       "1  [{'name': 'fiber', 'value': 10.0, '100g': 3.03...           4            2   \n",
       "2  [{'name': 'potassium', 'value': 323.0, '100g':...           4            5   \n",
       "3  [{'name': 'sodium', 'value': 0.26, '100g': 0.8...           4            1   \n",
       "4  [{'name': 'fiber', 'value': 6.0, '100g': 9.09,...           4            0   \n",
       "\n",
       "   ingredients_n  nutriscore_score  \n",
       "0             26                22  \n",
       "1             13                 1  \n",
       "2             21                13  \n",
       "3             27                23  \n",
       "4             13                 8  "
      ]
     },
     "execution_count": 4,
     "metadata": {},
     "output_type": "execute_result"
    }
   ],
   "source": [
    "# View rows from subset data\n",
    "statement = \"\"\"SELECT * FROM {}.{} LIMIT 5;\"\"\".format(\n",
    "    database_name, us_table_name\n",
    ")\n",
    "print(statement)\n",
    "df_us = pd.read_sql(statement, conn)\n",
    "df_us"
   ]
  },
  {
   "cell_type": "code",
   "execution_count": 5,
   "id": "a11106d3-fea2-4c62-a0a1-6d32afe8079e",
   "metadata": {
    "execution": {
     "iopub.execute_input": "2025-10-11T21:16:26.268398Z",
     "iopub.status.busy": "2025-10-11T21:16:26.268140Z",
     "iopub.status.idle": "2025-10-11T21:16:26.272246Z",
     "shell.execute_reply": "2025-10-11T21:16:26.271579Z",
     "shell.execute_reply.started": "2025-10-11T21:16:26.268377Z"
    }
   },
   "outputs": [
    {
     "name": "stdout",
     "output_type": "stream",
     "text": [
      "[{'lang': 'main', 'text': \"Kellogg'S Treats Squares Original 2.13Oz\"}, {'lang': 'en', 'text': \"Kellogg'S Treats Squares Original 2.13Oz\"}]\n",
      "[{'name': 'sodium', 'value': 0.46666667, '100g': 0.46666667, 'serving': 0.28, 'unit': 'g', 'prepared_value': None, 'prepared_100g': None, 'prepared_serving': None, 'prepared_unit': None}, {'name': 'fat', 'value': 10.0, '100g': 10.0, 'serving': 6.0, 'unit': 'g', 'prepared_value': None, 'prepared_100g': None, 'prepared_serving': None, 'prepared_unit': None}, {'name': 'vitamin-b6', 'value': 0.05, '100g': '5.0E-5', 'serving': '3.0E-5', 'unit': 'mg', 'prepared_value': None, 'prepared_100g': None, 'prepared_serving': None, 'prepared_unit': None}, {'name': 'potassium', 'value': 32.0, '100g': 0.032, 'serving': 0.0192, 'unit': 'mg', 'prepared_value': None, 'prepared_100g': None, 'prepared_serving': None, 'prepared_unit': None}, {'name': 'fiber', 'value': 0.0, '100g': 0.0, 'serving': 0.0, 'unit': 'g', 'prepared_value': None, 'prepared_100g': None, 'prepared_serving': None, 'prepared_unit': None}, {'name': 'saturated-fat', 'value': 2.5, '100g': 2.5, 'serving': 1.5, 'unit': 'g', 'prepared_value': None, 'prepared_100g': None, 'prepared_serving': None, 'prepared_unit': None}, {'name': 'soluble-fiber', 'value': 0.0, '100g': 0.0, 'serving': 0.0, 'unit': 'g', 'prepared_value': None, 'prepared_100g': None, 'prepared_serving': None, 'prepared_unit': None}, {'name': 'vitamin-b1', 'value': 0.0, '100g': 0.0, 'serving': 0.0, 'unit': 'mg', 'prepared_value': None, 'prepared_100g': None, 'prepared_serving': None, 'prepared_unit': None}, {'name': 'salt', 'value': 1.1666666, '100g': 1.1666666, 'serving': 0.7, 'unit': 'g', 'prepared_value': None, 'prepared_100g': None, 'prepared_serving': None, 'prepared_unit': None}, {'name': 'monounsaturated-fat', 'value': 3.9, '100g': 3.9, 'serving': 2.34, 'unit': 'g', 'prepared_value': None, 'prepared_100g': None, 'prepared_serving': None, 'prepared_unit': None}, {'name': 'vitamin-b12', 'value': 0.0, '100g': 0.0, 'serving': 0.0, 'unit': 'µg', 'prepared_value': None, 'prepared_100g': None, 'prepared_serving': None, 'prepared_unit': None}, {'name': 'iron', 'value': 3.0, '100g': 0.003, 'serving': 0.0018, 'unit': 'mg', 'prepared_value': None, 'prepared_100g': None, 'prepared_serving': None, 'prepared_unit': None}, {'name': 'trans-fat', 'value': 0.0, '100g': 0.0, 'serving': 0.0, 'unit': 'g', 'prepared_value': None, 'prepared_100g': None, 'prepared_serving': None, 'prepared_unit': None}, {'name': 'proteins', 'value': 3.3333333, '100g': 3.3333333, 'serving': 2.0, 'unit': 'g', 'prepared_value': None, 'prepared_100g': None, 'prepared_serving': None, 'prepared_unit': None}, {'name': 'insoluble-fiber', 'value': 0.0, '100g': 0.0, 'serving': 0.0, 'unit': 'g', 'prepared_value': None, 'prepared_100g': None, 'prepared_serving': None, 'prepared_unit': None}, {'name': 'cholesterol', 'value': 0.0, '100g': 0.0, 'serving': 0.0, 'unit': 'mg', 'prepared_value': None, 'prepared_100g': None, 'prepared_serving': None, 'prepared_unit': None}, {'name': 'folates', 'value': 300.0, '100g': '3.0E-4', 'serving': '1.8E-4', 'unit': 'µg', 'prepared_value': None, 'prepared_100g': None, 'prepared_serving': None, 'prepared_unit': None}, {'name': 'vitamin-b2', 'value': 0.992, '100g': '9.92E-4', 'serving': '5.95E-4', 'unit': 'mg', 'prepared_value': None, 'prepared_100g': None, 'prepared_serving': None, 'prepared_unit': None}, {'name': 'energy', 'value': 416.66666, '100g': 1743.0, 'serving': 1050.0, 'unit': 'kcal', 'prepared_value': None, 'prepared_100g': None, 'prepared_serving': None, 'prepared_unit': None}, {'name': 'nova-group', 'value': None, '100g': 4.0, 'serving': 4.0, 'unit': None, 'prepared_value': None, 'prepared_100g': None, 'prepared_serving': None, 'prepared_unit': None}, {'name': 'energy-kcal', 'value': 416.66666, '100g': 416.66666, 'serving': 250.0, 'unit': 'kcal', 'prepared_value': None, 'prepared_100g': None, 'prepared_serving': None, 'prepared_unit': None}, {'name': 'magnesium', 'value': 12.0, '100g': 0.012, 'serving': 0.0072, 'unit': 'mg', 'prepared_value': None, 'prepared_100g': None, 'prepared_serving': None, 'prepared_unit': None}, {'name': 'vitamin-pp', 'value': 8.333, '100g': 0.008333, 'serving': 0.005, 'unit': 'mg', 'prepared_value': None, 'prepared_100g': None, 'prepared_serving': None, 'prepared_unit': None}, {'name': 'zinc', 'value': 0.4, '100g': '4.0E-4', 'serving': '2.4E-4', 'unit': 'mg', 'prepared_value': None, 'prepared_100g': None, 'prepared_serving': None, 'prepared_unit': None}, {'name': 'sugars', 'value': 35.0, '100g': 35.0, 'serving': 21.0, 'unit': 'g', 'prepared_value': None, 'prepared_100g': None, 'prepared_serving': None, 'prepared_unit': None}, {'name': 'vitamin-c', 'value': 0.0, '100g': 0.0, 'serving': 0.0, 'unit': 'mg', 'prepared_value': None, 'prepared_100g': None, 'prepared_serving': None, 'prepared_unit': None}, {'name': 'fruits-vegetables-nuts-estimate-from-ingredients', 'value': None, '100g': 3.125, 'serving': 3.125, 'unit': None, 'prepared_value': None, 'prepared_100g': None, 'prepared_serving': None, 'prepared_unit': None}, {'name': 'calcium', 'value': 0.0, '100g': 0.0, 'serving': 0.0, 'unit': 'mg', 'prepared_value': None, 'prepared_100g': None, 'prepared_serving': None, 'prepared_unit': None}, {'name': 'vitamin-b9', 'value': 183.0, '100g': '1.83E-4', 'serving': '1.1E-4', 'unit': 'µg', 'prepared_value': None, 'prepared_100g': None, 'prepared_serving': None, 'prepared_unit': None}, {'name': 'polyunsaturated-fat', 'value': 2.6, '100g': 2.6, 'serving': 1.56, 'unit': 'g', 'prepared_value': None, 'prepared_100g': None, 'prepared_serving': None, 'prepared_unit': None}, {'name': 'phosphorus', 'value': 38.0, '100g': 0.038, 'serving': 0.0228, 'unit': 'mg', 'prepared_value': None, 'prepared_100g': None, 'prepared_serving': None, 'prepared_unit': None}, {'name': 'carbohydrates', 'value': 76.666664, '100g': 76.666664, 'serving': 46.0, 'unit': 'g', 'prepared_value': None, 'prepared_100g': None, 'prepared_serving': None, 'prepared_unit': None}, {'name': 'fruits-vegetables-legumes-estimate-from-ingredients', 'value': None, '100g': 3.125, 'serving': 3.125, 'unit': None, 'prepared_value': None, 'prepared_100g': None, 'prepared_serving': None, 'prepared_unit': None}, {'name': 'nutrition-score-fr', 'value': None, '100g': 22.0, 'serving': None, 'unit': None, 'prepared_value': None, 'prepared_100g': None, 'prepared_serving': None, 'prepared_unit': None}]\n"
     ]
    }
   ],
   "source": [
    "# View sample product names\n",
    "print(df_us[\"product_name\"].iloc[0])\n",
    "\n",
    "# View sample nutrient info\n",
    "print(df_us[\"nutriments\"].iloc[0])"
   ]
  },
  {
   "cell_type": "code",
   "execution_count": 6,
   "id": "f26814e2-af48-4fef-8967-da2386d20016",
   "metadata": {
    "execution": {
     "iopub.execute_input": "2025-10-11T21:16:26.442508Z",
     "iopub.status.busy": "2025-10-11T21:16:26.442224Z",
     "iopub.status.idle": "2025-10-11T21:18:58.302804Z",
     "shell.execute_reply": "2025-10-11T21:18:58.302042Z",
     "shell.execute_reply.started": "2025-10-11T21:16:26.442487Z"
    }
   },
   "outputs": [
    {
     "name": "stdout",
     "output_type": "stream",
     "text": [
      "Starting processing by chunks...\n",
      "Processed 10000 rows...\n",
      "Processed 20000 rows...\n",
      "Processed 30000 rows...\n",
      "Processed 40000 rows...\n",
      "Processed 50000 rows...\n",
      "Processed 60000 rows...\n",
      "Processed 70000 rows...\n",
      "Processed 80000 rows...\n",
      "Processed 90000 rows...\n",
      "Processed 100000 rows...\n",
      "Finished processing all chunks.\n"
     ]
    }
   ],
   "source": [
    "# Process in chunks\n",
    "chunk_size = 10000\n",
    "last_processed_code = None\n",
    "all_processed_chunks = []\n",
    "\n",
    "print('Starting processing by chunks...')\n",
    "while True:\n",
    "    # Build the WHERE clause dynamically\n",
    "    where_clause = \"\"\n",
    "    if last_processed_code is not None:\n",
    "        where_clause = f\"WHERE code > '{last_processed_code}'\"\n",
    "        \n",
    "    # SQL query to get a chunk of data with LIMIT\n",
    "    statement = f\"\"\"\n",
    "    SELECT * FROM {database_name}.{us_table_name}\n",
    "    {where_clause}\n",
    "    ORDER BY code\n",
    "    LIMIT {chunk_size};\n",
    "    \"\"\"\n",
    "    \n",
    "    try:\n",
    "        chunk_df = pd.read_sql(statement, conn)\n",
    "    except Exception as e:\n",
    "        print(f\"Error reading data: {e}\")\n",
    "        break\n",
    "\n",
    "    if chunk_df.empty:\n",
    "        # Stop the loop when there are no more rows to process\n",
    "        break\n",
    "\n",
    "    # Apply feature engineering function to the current chunk\n",
    "    processed_chunk = feature_processing.process_data_chunk(chunk_df)\n",
    "    \n",
    "    # Add the processed chunk to our list\n",
    "    all_processed_chunks.append(processed_chunk)\n",
    "    \n",
    "    # Update the tracking variable for the next query\n",
    "    last_processed_code = chunk_df['code'].iloc[-1]\n",
    "    print(f\"Processed {len(all_processed_chunks) * chunk_size} rows...\")\n",
    "\n",
    "print('Finished processing all chunks.')"
   ]
  },
  {
   "cell_type": "code",
   "execution_count": 7,
   "id": "e3a6cd60-d31b-4776-8f78-96d880c837e9",
   "metadata": {
    "execution": {
     "iopub.execute_input": "2025-10-11T21:18:58.304141Z",
     "iopub.status.busy": "2025-10-11T21:18:58.303849Z",
     "iopub.status.idle": "2025-10-11T21:18:58.392753Z",
     "shell.execute_reply": "2025-10-11T21:18:58.392032Z",
     "shell.execute_reply.started": "2025-10-11T21:18:58.304112Z"
    }
   },
   "outputs": [
    {
     "name": "stdout",
     "output_type": "stream",
     "text": [
      "Feature columns: ['code', 'product_name', 'nova_group', 'additives_n', 'ingredients_n', 'nutriscore_score', 'energy_100g', 'salt_100g', 'carbohydrates_100g', 'cholesterol_100g', 'sodium_100g', 'fiber_100g', 'fruits_vegetables_legumes_estimate_from_ingredients_100g', 'sugars_100g', 'saturated_fat_100g', 'trans_fat_100g', 'fat_100g', 'proteins_100g', 'fruits_vegetables_nuts_estimate_from_ingredients_100g', 'energy_kcal_100g', 'nova_group_100g', 'nutrition_score_fr_100g', 'energy_kj_100g', 'potassium_100g', 'polyunsaturated_fat_100g', 'monounsaturated_fat_100g', 'vitamin_a_100g', 'vitamin_d_100g', 'magnesium_100g', 'vitamin_e_100g', 'caffeine_100g', 'selenium_100g', 'vitamin_b12_100g', 'iron_100g', 'zinc_100g', 'phosphorus_100g', 'choline_100g', 'vitamin_b6_100g', 'vitamin_k_100g', 'starch_100g', 'vitamin_b2_100g', 'vitamin_b1_100g', 'vitamin_b9_100g', 'copper_100g', 'calcium_100g', 'vitamin_c_100g', 'manganese_100g', 'added_sugars_100g', 'vitamin_pp_100g', 'polyols_100g', 'folates_100g', 'pantothenic_acid_100g', 'insoluble_fiber_100g', 'soluble_fiber_100g', 'biotin_100g', 'carbon_footprint_from_known_ingredients_100g', 'alcohol_100g', 'energy_from_fat_100g', 'phylloquinone_100g', 'iodine_100g', 'cocoa_100g', 'omega_3_fat_100g', 'omega_6_fat_100g', 'energy_cal_100g', 'fruits_vegetables_nuts_estimate_100g', 'carbon_footprint_from_meat_or_fish_100g', 'fruits_vegetables_nuts_dried_100g', 'carbohydrates_total_100g', 'molybdenum_100g', 'chromium_100g', 'alpha_linolenic_acid_100g', 'arachidonic_acid_100g', 'arachidic_acid_100g', 'lactose_100g', 'gondoic_acid_100g', 'folate_dfi_100g', 'behenic_acid_100g', 'bicarbonate_100g', 'es_polyglycitol_100g', 'fruits_vegetables_nuts_100g', 'montanic_acid_100g', 'en_vegetable_glycerin_100g', 'en_omega_3_100g', 'glucose_100g', 'fluoride_100g', 'fructose_100g', 'en_0_100g', 'chloride_100g', 'sucrose_100g', 'grasas_totales_100g', 'fibra_dietetica_100g', 'en_total_sugars_100g', 'en_includes_added_sugars_100g', 'erythritol_100g', 'en_sucres_ajoutes_100g', 'fr_sulfate_100g', 'nitrate_100g', 'taurine_100g', 'fr_0_100g', 'omega_9_fat_100g', 'ph_100g', 'gamma_linolenic_acid_100g', 'butyric_acid_100g', 'en_thiamine_100g', 'linoleic_acid_100g', 'silica_100g', 'fr_citicoline_100g', 'fr_malic_acid_100g', 'fr_n_acetyl_l_tyrosine_100g', 'fr_l_phenylalanine_100g', 'fr_glucuronic_acid_100g', 'protein_100g', 'allulose_100g', 'lauric_acid_100g', 'palmitic_acid_100g', 'en_pottasium_100g', 'en_kalzium_100g', 'en_eisen_100g', 'en_vitamin_d_d3_cholecalciferol_100g', 'es_acide_alpha_linolenique_omega_3_100g', 'energy_g_100g', 'iro_100g', 'salt_equivalent_100g', 'vitamina_d3_100g', 'fr_matiere_minerales_100g', 'es_inulina_100g', 'es_isomaltitol_100g', 'es_maltitol_100g', 'beta_carotene_100g', 'inositol_100g']\n",
      "Shape: (100000, 130)\n"
     ]
    },
    {
     "data": {
      "text/html": [
       "<div>\n",
       "<style scoped>\n",
       "    .dataframe tbody tr th:only-of-type {\n",
       "        vertical-align: middle;\n",
       "    }\n",
       "\n",
       "    .dataframe tbody tr th {\n",
       "        vertical-align: top;\n",
       "    }\n",
       "\n",
       "    .dataframe thead th {\n",
       "        text-align: right;\n",
       "    }\n",
       "</style>\n",
       "<table border=\"1\" class=\"dataframe\">\n",
       "  <thead>\n",
       "    <tr style=\"text-align: right;\">\n",
       "      <th></th>\n",
       "      <th>code</th>\n",
       "      <th>product_name</th>\n",
       "      <th>nova_group</th>\n",
       "      <th>additives_n</th>\n",
       "      <th>ingredients_n</th>\n",
       "      <th>nutriscore_score</th>\n",
       "      <th>energy_100g</th>\n",
       "      <th>salt_100g</th>\n",
       "      <th>carbohydrates_100g</th>\n",
       "      <th>cholesterol_100g</th>\n",
       "      <th>...</th>\n",
       "      <th>energy_g_100g</th>\n",
       "      <th>iro_100g</th>\n",
       "      <th>salt_equivalent_100g</th>\n",
       "      <th>vitamina_d3_100g</th>\n",
       "      <th>fr_matiere_minerales_100g</th>\n",
       "      <th>es_inulina_100g</th>\n",
       "      <th>es_isomaltitol_100g</th>\n",
       "      <th>es_maltitol_100g</th>\n",
       "      <th>beta_carotene_100g</th>\n",
       "      <th>inositol_100g</th>\n",
       "    </tr>\n",
       "  </thead>\n",
       "  <tbody>\n",
       "    <tr>\n",
       "      <th>0</th>\n",
       "      <td>00000417</td>\n",
       "      <td>Owmy</td>\n",
       "      <td>4</td>\n",
       "      <td>2</td>\n",
       "      <td>11</td>\n",
       "      <td>0</td>\n",
       "      <td>15.0</td>\n",
       "      <td>0.006927</td>\n",
       "      <td>0.083126</td>\n",
       "      <td>0.002078</td>\n",
       "      <td>...</td>\n",
       "      <td>NaN</td>\n",
       "      <td>NaN</td>\n",
       "      <td>NaN</td>\n",
       "      <td>NaN</td>\n",
       "      <td>NaN</td>\n",
       "      <td>NaN</td>\n",
       "      <td>NaN</td>\n",
       "      <td>NaN</td>\n",
       "      <td>NaN</td>\n",
       "      <td>NaN</td>\n",
       "    </tr>\n",
       "    <tr>\n",
       "      <th>1</th>\n",
       "      <td>00000749</td>\n",
       "      <td>Cream soup air corners</td>\n",
       "      <td>3</td>\n",
       "      <td>0</td>\n",
       "      <td>6</td>\n",
       "      <td>23</td>\n",
       "      <td>1980.0</td>\n",
       "      <td>775.000000</td>\n",
       "      <td>66.000000</td>\n",
       "      <td>NaN</td>\n",
       "      <td>...</td>\n",
       "      <td>NaN</td>\n",
       "      <td>NaN</td>\n",
       "      <td>NaN</td>\n",
       "      <td>NaN</td>\n",
       "      <td>NaN</td>\n",
       "      <td>NaN</td>\n",
       "      <td>NaN</td>\n",
       "      <td>NaN</td>\n",
       "      <td>NaN</td>\n",
       "      <td>NaN</td>\n",
       "    </tr>\n",
       "    <tr>\n",
       "      <th>2</th>\n",
       "      <td>0000105000417</td>\n",
       "      <td>Lagg's</td>\n",
       "      <td>1</td>\n",
       "      <td>0</td>\n",
       "      <td>6</td>\n",
       "      <td>0</td>\n",
       "      <td>0.0</td>\n",
       "      <td>0.000000</td>\n",
       "      <td>0.000000</td>\n",
       "      <td>NaN</td>\n",
       "      <td>...</td>\n",
       "      <td>NaN</td>\n",
       "      <td>NaN</td>\n",
       "      <td>NaN</td>\n",
       "      <td>NaN</td>\n",
       "      <td>NaN</td>\n",
       "      <td>NaN</td>\n",
       "      <td>NaN</td>\n",
       "      <td>NaN</td>\n",
       "      <td>NaN</td>\n",
       "      <td>NaN</td>\n",
       "    </tr>\n",
       "  </tbody>\n",
       "</table>\n",
       "<p>3 rows × 130 columns</p>\n",
       "</div>"
      ],
      "text/plain": [
       "            code            product_name  nova_group  additives_n  \\\n",
       "0       00000417                    Owmy           4            2   \n",
       "1       00000749  Cream soup air corners           3            0   \n",
       "2  0000105000417                  Lagg's           1            0   \n",
       "\n",
       "   ingredients_n  nutriscore_score  energy_100g   salt_100g  \\\n",
       "0             11                 0         15.0    0.006927   \n",
       "1              6                23       1980.0  775.000000   \n",
       "2              6                 0          0.0    0.000000   \n",
       "\n",
       "   carbohydrates_100g  cholesterol_100g  ...  energy_g_100g  iro_100g  \\\n",
       "0            0.083126          0.002078  ...            NaN       NaN   \n",
       "1           66.000000               NaN  ...            NaN       NaN   \n",
       "2            0.000000               NaN  ...            NaN       NaN   \n",
       "\n",
       "   salt_equivalent_100g  vitamina_d3_100g  fr_matiere_minerales_100g  \\\n",
       "0                   NaN               NaN                        NaN   \n",
       "1                   NaN               NaN                        NaN   \n",
       "2                   NaN               NaN                        NaN   \n",
       "\n",
       "   es_inulina_100g  es_isomaltitol_100g  es_maltitol_100g  beta_carotene_100g  \\\n",
       "0              NaN                  NaN               NaN                 NaN   \n",
       "1              NaN                  NaN               NaN                 NaN   \n",
       "2              NaN                  NaN               NaN                 NaN   \n",
       "\n",
       "   inositol_100g  \n",
       "0            NaN  \n",
       "1            NaN  \n",
       "2            NaN  \n",
       "\n",
       "[3 rows x 130 columns]"
      ]
     },
     "execution_count": 7,
     "metadata": {},
     "output_type": "execute_result"
    }
   ],
   "source": [
    "# Concatenate all processed chunks into a final DataFrame\n",
    "features_df = pd.concat(all_processed_chunks, ignore_index=True)\n",
    "print(\"Feature columns:\", features_df.columns.tolist())\n",
    "print(\"Shape:\", features_df.shape)\n",
    "features_df.head(3)"
   ]
  },
  {
   "cell_type": "code",
   "execution_count": 8,
   "id": "a45dde8e-2ac3-461e-8ef4-fdbdce972ef4",
   "metadata": {
    "execution": {
     "iopub.execute_input": "2025-10-11T21:18:58.393924Z",
     "iopub.status.busy": "2025-10-11T21:18:58.393574Z",
     "iopub.status.idle": "2025-10-11T21:18:58.485245Z",
     "shell.execute_reply": "2025-10-11T21:18:58.484555Z",
     "shell.execute_reply.started": "2025-10-11T21:18:58.393897Z"
    }
   },
   "outputs": [
    {
     "name": "stdout",
     "output_type": "stream",
     "text": [
      "Null rate (top 20):\n",
      "inositol_100g                              0.99999\n",
      "lauric_acid_100g                           0.99999\n",
      "palmitic_acid_100g                         0.99999\n",
      "en_pottasium_100g                          0.99999\n",
      "en_kalzium_100g                            0.99999\n",
      "en_eisen_100g                              0.99999\n",
      "en_vitamin_d_d3_cholecalciferol_100g       0.99999\n",
      "es_acide_alpha_linolenique_omega_3_100g    0.99999\n",
      "silica_100g                                0.99999\n",
      "fr_citicoline_100g                         0.99999\n",
      "fr_malic_acid_100g                         0.99999\n",
      "fr_n_acetyl_l_tyrosine_100g                0.99999\n",
      "fr_l_phenylalanine_100g                    0.99999\n",
      "fr_glucuronic_acid_100g                    0.99999\n",
      "protein_100g                               0.99999\n",
      "omega_9_fat_100g                           0.99999\n",
      "fr_0_100g                                  0.99999\n",
      "es_maltitol_100g                           0.99999\n",
      "es_isomaltitol_100g                        0.99999\n",
      "gamma_linolenic_acid_100g                  0.99999\n",
      "dtype: float64\n",
      "Dropping: ['inositol_100g', 'lauric_acid_100g', 'palmitic_acid_100g', 'en_pottasium_100g', 'en_kalzium_100g', 'en_eisen_100g', 'en_vitamin_d_d3_cholecalciferol_100g', 'es_acide_alpha_linolenique_omega_3_100g', 'silica_100g', 'fr_citicoline_100g', 'fr_malic_acid_100g', 'fr_n_acetyl_l_tyrosine_100g', 'fr_l_phenylalanine_100g', 'fr_glucuronic_acid_100g', 'protein_100g', 'omega_9_fat_100g', 'fr_0_100g', 'es_maltitol_100g', 'es_isomaltitol_100g', 'gamma_linolenic_acid_100g', 'butyric_acid_100g', 'linoleic_acid_100g', 'en_thiamine_100g', 'grasas_totales_100g', 'fibra_dietetica_100g', 'fr_sulfate_100g', 'en_total_sugars_100g', 'en_includes_added_sugars_100g', 'en_sucres_ajoutes_100g', 'en_omega_3_100g', 'nitrate_100g', 'folate_dfi_100g', 'es_polyglycitol_100g', 'beta_carotene_100g', 'vitamina_d3_100g', 'montanic_acid_100g', 'es_inulina_100g', 'fr_matiere_minerales_100g', 'iro_100g', 'salt_equivalent_100g', 'allulose_100g', 'energy_cal_100g', 'ph_100g', 'en_0_100g', 'en_vegetable_glycerin_100g', 'taurine_100g', 'sucrose_100g', 'fruits_vegetables_nuts_dried_100g', 'carbon_footprint_from_meat_or_fish_100g', 'energy_g_100g', 'carbohydrates_total_100g', 'bicarbonate_100g', 'erythritol_100g', 'gondoic_acid_100g', 'behenic_acid_100g', 'chloride_100g', 'fruits_vegetables_nuts_100g', 'fruits_vegetables_nuts_estimate_100g', 'chromium_100g', 'arachidonic_acid_100g', 'cocoa_100g', 'arachidic_acid_100g', 'molybdenum_100g', 'alpha_linolenic_acid_100g', 'biotin_100g', 'carbon_footprint_from_known_ingredients_100g', 'energy_from_fat_100g', 'phylloquinone_100g', 'polyols_100g', 'insoluble_fiber_100g', 'soluble_fiber_100g', 'choline_100g', 'starch_100g', 'folates_100g', 'omega_6_fat_100g', 'omega_3_fat_100g', 'fructose_100g', 'fluoride_100g', 'glucose_100g', 'lactose_100g', 'iodine_100g', 'energy_kj_100g', 'alcohol_100g', 'pantothenic_acid_100g', 'caffeine_100g', 'vitamin_e_100g', 'vitamin_k_100g', 'selenium_100g', 'manganese_100g', 'copper_100g', 'added_sugars_100g', 'vitamin_b9_100g', 'zinc_100g', 'vitamin_b12_100g', 'phosphorus_100g', 'magnesium_100g', 'vitamin_b6_100g', 'vitamin_d_100g', 'vitamin_pp_100g', 'vitamin_b2_100g', 'vitamin_b1_100g', 'polyunsaturated_fat_100g', 'monounsaturated_fat_100g', 'potassium_100g']\n",
      "Dropping a total of 104 columns\n",
      "Number of columns after dropping: 26\n"
     ]
    },
    {
     "data": {
      "text/html": [
       "<div>\n",
       "<style scoped>\n",
       "    .dataframe tbody tr th:only-of-type {\n",
       "        vertical-align: middle;\n",
       "    }\n",
       "\n",
       "    .dataframe tbody tr th {\n",
       "        vertical-align: top;\n",
       "    }\n",
       "\n",
       "    .dataframe thead th {\n",
       "        text-align: right;\n",
       "    }\n",
       "</style>\n",
       "<table border=\"1\" class=\"dataframe\">\n",
       "  <thead>\n",
       "    <tr style=\"text-align: right;\">\n",
       "      <th></th>\n",
       "      <th>code</th>\n",
       "      <th>product_name</th>\n",
       "      <th>nova_group</th>\n",
       "      <th>additives_n</th>\n",
       "      <th>ingredients_n</th>\n",
       "      <th>nutriscore_score</th>\n",
       "      <th>energy_100g</th>\n",
       "      <th>salt_100g</th>\n",
       "      <th>carbohydrates_100g</th>\n",
       "      <th>cholesterol_100g</th>\n",
       "      <th>...</th>\n",
       "      <th>fat_100g</th>\n",
       "      <th>proteins_100g</th>\n",
       "      <th>fruits_vegetables_nuts_estimate_from_ingredients_100g</th>\n",
       "      <th>energy_kcal_100g</th>\n",
       "      <th>nova_group_100g</th>\n",
       "      <th>nutrition_score_fr_100g</th>\n",
       "      <th>vitamin_a_100g</th>\n",
       "      <th>iron_100g</th>\n",
       "      <th>calcium_100g</th>\n",
       "      <th>vitamin_c_100g</th>\n",
       "    </tr>\n",
       "  </thead>\n",
       "  <tbody>\n",
       "    <tr>\n",
       "      <th>0</th>\n",
       "      <td>00000417</td>\n",
       "      <td>Owmy</td>\n",
       "      <td>4</td>\n",
       "      <td>2</td>\n",
       "      <td>11</td>\n",
       "      <td>0</td>\n",
       "      <td>15.0</td>\n",
       "      <td>0.006927</td>\n",
       "      <td>0.083126</td>\n",
       "      <td>0.002078</td>\n",
       "      <td>...</td>\n",
       "      <td>0.083126</td>\n",
       "      <td>0.665004</td>\n",
       "      <td>0.0</td>\n",
       "      <td>3.602106</td>\n",
       "      <td>4.0</td>\n",
       "      <td>0.0</td>\n",
       "      <td>NaN</td>\n",
       "      <td>NaN</td>\n",
       "      <td>NaN</td>\n",
       "      <td>NaN</td>\n",
       "    </tr>\n",
       "    <tr>\n",
       "      <th>1</th>\n",
       "      <td>00000749</td>\n",
       "      <td>Cream soup air corners</td>\n",
       "      <td>3</td>\n",
       "      <td>0</td>\n",
       "      <td>6</td>\n",
       "      <td>23</td>\n",
       "      <td>1980.0</td>\n",
       "      <td>775.000000</td>\n",
       "      <td>66.000000</td>\n",
       "      <td>NaN</td>\n",
       "      <td>...</td>\n",
       "      <td>19.800000</td>\n",
       "      <td>4.600000</td>\n",
       "      <td>0.0</td>\n",
       "      <td>474.000000</td>\n",
       "      <td>3.0</td>\n",
       "      <td>23.0</td>\n",
       "      <td>NaN</td>\n",
       "      <td>NaN</td>\n",
       "      <td>NaN</td>\n",
       "      <td>NaN</td>\n",
       "    </tr>\n",
       "    <tr>\n",
       "      <th>2</th>\n",
       "      <td>0000105000417</td>\n",
       "      <td>Lagg's</td>\n",
       "      <td>1</td>\n",
       "      <td>0</td>\n",
       "      <td>6</td>\n",
       "      <td>0</td>\n",
       "      <td>0.0</td>\n",
       "      <td>0.000000</td>\n",
       "      <td>0.000000</td>\n",
       "      <td>NaN</td>\n",
       "      <td>...</td>\n",
       "      <td>0.000000</td>\n",
       "      <td>0.000000</td>\n",
       "      <td>0.0</td>\n",
       "      <td>0.000000</td>\n",
       "      <td>1.0</td>\n",
       "      <td>0.0</td>\n",
       "      <td>NaN</td>\n",
       "      <td>NaN</td>\n",
       "      <td>NaN</td>\n",
       "      <td>NaN</td>\n",
       "    </tr>\n",
       "  </tbody>\n",
       "</table>\n",
       "<p>3 rows × 26 columns</p>\n",
       "</div>"
      ],
      "text/plain": [
       "            code            product_name  nova_group  additives_n  \\\n",
       "0       00000417                    Owmy           4            2   \n",
       "1       00000749  Cream soup air corners           3            0   \n",
       "2  0000105000417                  Lagg's           1            0   \n",
       "\n",
       "   ingredients_n  nutriscore_score  energy_100g   salt_100g  \\\n",
       "0             11                 0         15.0    0.006927   \n",
       "1              6                23       1980.0  775.000000   \n",
       "2              6                 0          0.0    0.000000   \n",
       "\n",
       "   carbohydrates_100g  cholesterol_100g  ...   fat_100g  proteins_100g  \\\n",
       "0            0.083126          0.002078  ...   0.083126       0.665004   \n",
       "1           66.000000               NaN  ...  19.800000       4.600000   \n",
       "2            0.000000               NaN  ...   0.000000       0.000000   \n",
       "\n",
       "   fruits_vegetables_nuts_estimate_from_ingredients_100g  energy_kcal_100g  \\\n",
       "0                                                0.0              3.602106   \n",
       "1                                                0.0            474.000000   \n",
       "2                                                0.0              0.000000   \n",
       "\n",
       "   nova_group_100g  nutrition_score_fr_100g  vitamin_a_100g  iron_100g  \\\n",
       "0              4.0                      0.0             NaN        NaN   \n",
       "1              3.0                     23.0             NaN        NaN   \n",
       "2              1.0                      0.0             NaN        NaN   \n",
       "\n",
       "   calcium_100g  vitamin_c_100g  \n",
       "0           NaN             NaN  \n",
       "1           NaN             NaN  \n",
       "2           NaN             NaN  \n",
       "\n",
       "[3 rows x 26 columns]"
      ]
     },
     "execution_count": 8,
     "metadata": {},
     "output_type": "execute_result"
    }
   ],
   "source": [
    "#  Quick data quality view \n",
    "null_rates = features_df.isna().mean().sort_values(ascending=False)\n",
    "print(\"Null rate (top 20):\")\n",
    "print(null_rates.head(20))\n",
    "\n",
    "# Drop columns that are mostly missing (>50% NaN)\n",
    "mostly_missing = null_rates[null_rates > 0.50].index.tolist()\n",
    "\n",
    "if mostly_missing:\n",
    "    print(\"Dropping:\", mostly_missing)\n",
    "    print(f\"Dropping a total of {len(mostly_missing)} columns\")\n",
    "    features_df.drop(columns=mostly_missing, inplace=True)\n",
    "\n",
    "# Verify the changes\n",
    "print(\"Number of columns after dropping:\", len(features_df.columns))\n",
    "features_df.head(3)"
   ]
  },
  {
   "cell_type": "code",
   "execution_count": 9,
   "id": "339934ef-d0b0-4313-a88e-a447ce1938f0",
   "metadata": {
    "execution": {
     "iopub.execute_input": "2025-10-11T21:18:58.486913Z",
     "iopub.status.busy": "2025-10-11T21:18:58.486701Z",
     "iopub.status.idle": "2025-10-11T21:18:58.490066Z",
     "shell.execute_reply": "2025-10-11T21:18:58.489427Z",
     "shell.execute_reply.started": "2025-10-11T21:18:58.486895Z"
    }
   },
   "outputs": [
    {
     "name": "stdout",
     "output_type": "stream",
     "text": [
      "Feature columns: ['code', 'product_name', 'nova_group', 'additives_n', 'ingredients_n', 'nutriscore_score', 'energy_100g', 'salt_100g', 'carbohydrates_100g', 'cholesterol_100g', 'sodium_100g', 'fiber_100g', 'fruits_vegetables_legumes_estimate_from_ingredients_100g', 'sugars_100g', 'saturated_fat_100g', 'trans_fat_100g', 'fat_100g', 'proteins_100g', 'fruits_vegetables_nuts_estimate_from_ingredients_100g', 'energy_kcal_100g', 'nova_group_100g', 'nutrition_score_fr_100g', 'vitamin_a_100g', 'iron_100g', 'calcium_100g', 'vitamin_c_100g']\n"
     ]
    }
   ],
   "source": [
    "# View full final column list\n",
    "print(\"Feature columns:\", features_df.columns.tolist())"
   ]
  },
  {
   "cell_type": "code",
   "execution_count": 10,
   "id": "71bb20aa-7d6f-40f5-888b-2aabb8eb442b",
   "metadata": {
    "execution": {
     "iopub.execute_input": "2025-10-11T21:18:58.491909Z",
     "iopub.status.busy": "2025-10-11T21:18:58.491689Z",
     "iopub.status.idle": "2025-10-11T21:18:58.523528Z",
     "shell.execute_reply": "2025-10-11T21:18:58.522902Z",
     "shell.execute_reply.started": "2025-10-11T21:18:58.491892Z"
    }
   },
   "outputs": [
    {
     "name": "stdout",
     "output_type": "stream",
     "text": [
      "Columns with NaN values: ['product_name', 'energy_100g', 'salt_100g', 'carbohydrates_100g', 'cholesterol_100g', 'sodium_100g', 'fiber_100g', 'fruits_vegetables_legumes_estimate_from_ingredients_100g', 'sugars_100g', 'saturated_fat_100g', 'trans_fat_100g', 'fat_100g', 'proteins_100g', 'fruits_vegetables_nuts_estimate_from_ingredients_100g', 'energy_kcal_100g', 'vitamin_a_100g', 'iron_100g', 'calcium_100g', 'vitamin_c_100g']\n"
     ]
    }
   ],
   "source": [
    "# Filter for columns where the value is True (meaning they contain NaN)\n",
    "columns_with_nan_series = features_df.isnull().any()\n",
    "columns_with_nan = columns_with_nan_series[columns_with_nan_series].index.tolist()\n",
    "print(f\"Columns with NaN values: {columns_with_nan}\")"
   ]
  },
  {
   "cell_type": "code",
   "execution_count": 11,
   "id": "16391d83-abd5-4e67-b8ed-107299151d85",
   "metadata": {
    "execution": {
     "iopub.execute_input": "2025-10-11T21:18:58.524536Z",
     "iopub.status.busy": "2025-10-11T21:18:58.524205Z",
     "iopub.status.idle": "2025-10-11T21:18:58.627542Z",
     "shell.execute_reply": "2025-10-11T21:18:58.626868Z",
     "shell.execute_reply.started": "2025-10-11T21:18:58.524490Z"
    }
   },
   "outputs": [
    {
     "name": "stdout",
     "output_type": "stream",
     "text": [
      "Columns with NaN values: []\n"
     ]
    }
   ],
   "source": [
    "# Impute missing product_names\n",
    "features_df['product_name'] = features_df['product_name'].fillna('nan_product_name')\n",
    "\n",
    "# Impute core nutrient values using the median\n",
    "median_impute_cols = [\n",
    "    'energy_100g', 'sodium_100g', 'proteins_100g',\n",
    "    'salt_100g', 'carbohydrates_100g', 'energy_kcal_100g',\n",
    "    'sugars_100g', 'fat_100g', 'saturated_fat_100g',\n",
    "    'fiber_100g', 'cholesterol_100g', 'calcium_100g',\n",
    "    'iron_100g', 'vitamin_c_100g', 'vitamin_a_100g'\n",
    "]\n",
    "\n",
    "for col in median_impute_cols:\n",
    "    features_df[col] = features_df[col].fillna(features_df[col].median())\n",
    "\n",
    "# Impute other columns with 0, as they are not present\n",
    "zero_impute_cols = [\n",
    "    'trans_fat_100g',\n",
    "    'fruits_vegetables_legumes_estimate_from_ingredients_100g',\n",
    "    'fruits_vegetables_nuts_estimate_from_ingredients_100g'\n",
    "]\n",
    "\n",
    "for col in zero_impute_cols:\n",
    "    features_df[col] = features_df[col].fillna(0)\n",
    "\n",
    "# Verify that all NaNs have been handled\n",
    "columns_with_nan_series = features_df.isnull().any()\n",
    "columns_with_nan = columns_with_nan_series[columns_with_nan_series].index.tolist()\n",
    "print(f\"Columns with NaN values: {columns_with_nan}\")"
   ]
  },
  {
   "cell_type": "code",
   "execution_count": 12,
   "id": "5c72169a-463e-4ddc-af37-5b930fd849b6",
   "metadata": {
    "execution": {
     "iopub.execute_input": "2025-10-11T21:18:58.628685Z",
     "iopub.status.busy": "2025-10-11T21:18:58.628334Z",
     "iopub.status.idle": "2025-10-11T21:18:58.647701Z",
     "shell.execute_reply": "2025-10-11T21:18:58.647069Z",
     "shell.execute_reply.started": "2025-10-11T21:18:58.628655Z"
    }
   },
   "outputs": [
    {
     "data": {
      "text/html": [
       "<div>\n",
       "<style scoped>\n",
       "    .dataframe tbody tr th:only-of-type {\n",
       "        vertical-align: middle;\n",
       "    }\n",
       "\n",
       "    .dataframe tbody tr th {\n",
       "        vertical-align: top;\n",
       "    }\n",
       "\n",
       "    .dataframe thead th {\n",
       "        text-align: right;\n",
       "    }\n",
       "</style>\n",
       "<table border=\"1\" class=\"dataframe\">\n",
       "  <thead>\n",
       "    <tr style=\"text-align: right;\">\n",
       "      <th></th>\n",
       "      <th>code</th>\n",
       "      <th>product_name</th>\n",
       "      <th>nova_group</th>\n",
       "      <th>additives_n</th>\n",
       "      <th>ingredients_n</th>\n",
       "      <th>nutriscore_score</th>\n",
       "      <th>energy_100g</th>\n",
       "      <th>salt_100g</th>\n",
       "      <th>carbohydrates_100g</th>\n",
       "      <th>cholesterol_100g</th>\n",
       "      <th>sodium_100g</th>\n",
       "      <th>fiber_100g</th>\n",
       "      <th>fruits_vegetables_legumes_estimate_from_ingredients_100g</th>\n",
       "      <th>sugars_100g</th>\n",
       "      <th>saturated_fat_100g</th>\n",
       "      <th>trans_fat_100g</th>\n",
       "      <th>fat_100g</th>\n",
       "      <th>proteins_100g</th>\n",
       "      <th>fruits_vegetables_nuts_estimate_from_ingredients_100g</th>\n",
       "      <th>energy_kcal_100g</th>\n",
       "      <th>nova_group_100g</th>\n",
       "      <th>nutrition_score_fr_100g</th>\n",
       "      <th>vitamin_a_100g</th>\n",
       "      <th>iron_100g</th>\n",
       "      <th>calcium_100g</th>\n",
       "      <th>vitamin_c_100g</th>\n",
       "    </tr>\n",
       "  </thead>\n",
       "  <tbody>\n",
       "    <tr>\n",
       "      <th>0</th>\n",
       "      <td>00000417</td>\n",
       "      <td>Owmy</td>\n",
       "      <td>4</td>\n",
       "      <td>2</td>\n",
       "      <td>11</td>\n",
       "      <td>0</td>\n",
       "      <td>15.0</td>\n",
       "      <td>0.006927</td>\n",
       "      <td>0.083126</td>\n",
       "      <td>0.002078</td>\n",
       "      <td>0.002771</td>\n",
       "      <td>0.027709</td>\n",
       "      <td>0.0</td>\n",
       "      <td>0.055417</td>\n",
       "      <td>0.027709</td>\n",
       "      <td>0.083126</td>\n",
       "      <td>0.083126</td>\n",
       "      <td>0.665004</td>\n",
       "      <td>0.000000</td>\n",
       "      <td>3.602106</td>\n",
       "      <td>4.0</td>\n",
       "      <td>0.0</td>\n",
       "      <td>0.000000e+00</td>\n",
       "      <td>0.00071</td>\n",
       "      <td>0.0254</td>\n",
       "      <td>0.0</td>\n",
       "    </tr>\n",
       "    <tr>\n",
       "      <th>1</th>\n",
       "      <td>00000749</td>\n",
       "      <td>Cream soup air corners</td>\n",
       "      <td>3</td>\n",
       "      <td>0</td>\n",
       "      <td>6</td>\n",
       "      <td>23</td>\n",
       "      <td>1980.0</td>\n",
       "      <td>775.000000</td>\n",
       "      <td>66.000000</td>\n",
       "      <td>0.000000</td>\n",
       "      <td>310.000000</td>\n",
       "      <td>6.000000</td>\n",
       "      <td>0.0</td>\n",
       "      <td>5.000000</td>\n",
       "      <td>0.000000</td>\n",
       "      <td>0.000000</td>\n",
       "      <td>19.800000</td>\n",
       "      <td>4.600000</td>\n",
       "      <td>0.000000</td>\n",
       "      <td>474.000000</td>\n",
       "      <td>3.0</td>\n",
       "      <td>23.0</td>\n",
       "      <td>0.000000e+00</td>\n",
       "      <td>0.00071</td>\n",
       "      <td>0.0254</td>\n",
       "      <td>0.0</td>\n",
       "    </tr>\n",
       "    <tr>\n",
       "      <th>2</th>\n",
       "      <td>0000105000417</td>\n",
       "      <td>Lagg's</td>\n",
       "      <td>1</td>\n",
       "      <td>0</td>\n",
       "      <td>6</td>\n",
       "      <td>0</td>\n",
       "      <td>0.0</td>\n",
       "      <td>0.000000</td>\n",
       "      <td>0.000000</td>\n",
       "      <td>0.000000</td>\n",
       "      <td>0.000000</td>\n",
       "      <td>1.400000</td>\n",
       "      <td>0.0</td>\n",
       "      <td>6.670000</td>\n",
       "      <td>1.790000</td>\n",
       "      <td>0.000000</td>\n",
       "      <td>0.000000</td>\n",
       "      <td>0.000000</td>\n",
       "      <td>0.000000</td>\n",
       "      <td>0.000000</td>\n",
       "      <td>1.0</td>\n",
       "      <td>0.0</td>\n",
       "      <td>0.000000e+00</td>\n",
       "      <td>0.00071</td>\n",
       "      <td>0.0254</td>\n",
       "      <td>0.0</td>\n",
       "    </tr>\n",
       "    <tr>\n",
       "      <th>3</th>\n",
       "      <td>0000111048403</td>\n",
       "      <td>100% Pure Canola Oil</td>\n",
       "      <td>2</td>\n",
       "      <td>0</td>\n",
       "      <td>2</td>\n",
       "      <td>2</td>\n",
       "      <td>3586.0</td>\n",
       "      <td>0.000000</td>\n",
       "      <td>0.000000</td>\n",
       "      <td>0.000000</td>\n",
       "      <td>0.000000</td>\n",
       "      <td>1.400000</td>\n",
       "      <td>0.0</td>\n",
       "      <td>6.670000</td>\n",
       "      <td>7.140000</td>\n",
       "      <td>0.000000</td>\n",
       "      <td>100.000000</td>\n",
       "      <td>0.000000</td>\n",
       "      <td>0.000000</td>\n",
       "      <td>857.000000</td>\n",
       "      <td>2.0</td>\n",
       "      <td>2.0</td>\n",
       "      <td>0.000000e+00</td>\n",
       "      <td>0.00071</td>\n",
       "      <td>0.0254</td>\n",
       "      <td>0.0</td>\n",
       "    </tr>\n",
       "    <tr>\n",
       "      <th>4</th>\n",
       "      <td>0000111301201</td>\n",
       "      <td>Canola Harvest® Original Vegetable Oil Spread Tub</td>\n",
       "      <td>4</td>\n",
       "      <td>4</td>\n",
       "      <td>17</td>\n",
       "      <td>40</td>\n",
       "      <td>19200.0</td>\n",
       "      <td>12.700000</td>\n",
       "      <td>0.000000</td>\n",
       "      <td>0.000000</td>\n",
       "      <td>5.100000</td>\n",
       "      <td>0.000000</td>\n",
       "      <td>0.0</td>\n",
       "      <td>0.000000</td>\n",
       "      <td>76.400000</td>\n",
       "      <td>0.000000</td>\n",
       "      <td>510.000000</td>\n",
       "      <td>0.000000</td>\n",
       "      <td>53.333332</td>\n",
       "      <td>4590.000000</td>\n",
       "      <td>4.0</td>\n",
       "      <td>40.0</td>\n",
       "      <td>7.650000e-09</td>\n",
       "      <td>0.00071</td>\n",
       "      <td>0.0254</td>\n",
       "      <td>0.0</td>\n",
       "    </tr>\n",
       "  </tbody>\n",
       "</table>\n",
       "</div>"
      ],
      "text/plain": [
       "            code                                       product_name  \\\n",
       "0       00000417                                               Owmy   \n",
       "1       00000749                             Cream soup air corners   \n",
       "2  0000105000417                                             Lagg's   \n",
       "3  0000111048403                               100% Pure Canola Oil   \n",
       "4  0000111301201  Canola Harvest® Original Vegetable Oil Spread Tub   \n",
       "\n",
       "   nova_group  additives_n  ingredients_n  nutriscore_score  energy_100g  \\\n",
       "0           4            2             11                 0         15.0   \n",
       "1           3            0              6                23       1980.0   \n",
       "2           1            0              6                 0          0.0   \n",
       "3           2            0              2                 2       3586.0   \n",
       "4           4            4             17                40      19200.0   \n",
       "\n",
       "    salt_100g  carbohydrates_100g  cholesterol_100g  sodium_100g  fiber_100g  \\\n",
       "0    0.006927            0.083126          0.002078     0.002771    0.027709   \n",
       "1  775.000000           66.000000          0.000000   310.000000    6.000000   \n",
       "2    0.000000            0.000000          0.000000     0.000000    1.400000   \n",
       "3    0.000000            0.000000          0.000000     0.000000    1.400000   \n",
       "4   12.700000            0.000000          0.000000     5.100000    0.000000   \n",
       "\n",
       "   fruits_vegetables_legumes_estimate_from_ingredients_100g  sugars_100g  \\\n",
       "0                                                0.0            0.055417   \n",
       "1                                                0.0            5.000000   \n",
       "2                                                0.0            6.670000   \n",
       "3                                                0.0            6.670000   \n",
       "4                                                0.0            0.000000   \n",
       "\n",
       "   saturated_fat_100g  trans_fat_100g    fat_100g  proteins_100g  \\\n",
       "0            0.027709        0.083126    0.083126       0.665004   \n",
       "1            0.000000        0.000000   19.800000       4.600000   \n",
       "2            1.790000        0.000000    0.000000       0.000000   \n",
       "3            7.140000        0.000000  100.000000       0.000000   \n",
       "4           76.400000        0.000000  510.000000       0.000000   \n",
       "\n",
       "   fruits_vegetables_nuts_estimate_from_ingredients_100g  energy_kcal_100g  \\\n",
       "0                                           0.000000              3.602106   \n",
       "1                                           0.000000            474.000000   \n",
       "2                                           0.000000              0.000000   \n",
       "3                                           0.000000            857.000000   \n",
       "4                                          53.333332           4590.000000   \n",
       "\n",
       "   nova_group_100g  nutrition_score_fr_100g  vitamin_a_100g  iron_100g  \\\n",
       "0              4.0                      0.0    0.000000e+00    0.00071   \n",
       "1              3.0                     23.0    0.000000e+00    0.00071   \n",
       "2              1.0                      0.0    0.000000e+00    0.00071   \n",
       "3              2.0                      2.0    0.000000e+00    0.00071   \n",
       "4              4.0                     40.0    7.650000e-09    0.00071   \n",
       "\n",
       "   calcium_100g  vitamin_c_100g  \n",
       "0        0.0254             0.0  \n",
       "1        0.0254             0.0  \n",
       "2        0.0254             0.0  \n",
       "3        0.0254             0.0  \n",
       "4        0.0254             0.0  "
      ]
     },
     "execution_count": 12,
     "metadata": {},
     "output_type": "execute_result"
    }
   ],
   "source": [
    "# View data with all columns\n",
    "pd.set_option('display.max_columns', None)\n",
    "features_df.head()"
   ]
  },
  {
   "cell_type": "markdown",
   "id": "c2e7f1f9-7988-4994-890d-650f8d1a0b58",
   "metadata": {},
   "source": [
    "## Create Feature Store and Feature Group"
   ]
  },
  {
   "cell_type": "code",
   "execution_count": 13,
   "id": "8e08921f-a75e-41ad-9c1d-212a25cc77ae",
   "metadata": {
    "execution": {
     "iopub.execute_input": "2025-10-11T21:18:58.648553Z",
     "iopub.status.busy": "2025-10-11T21:18:58.648342Z",
     "iopub.status.idle": "2025-10-11T21:18:59.006054Z",
     "shell.execute_reply": "2025-10-11T21:18:59.005451Z",
     "shell.execute_reply.started": "2025-10-11T21:18:58.648535Z"
    }
   },
   "outputs": [],
   "source": [
    "# Initialize SageMaker Feature Store\n",
    "region = boto3.Session().region_name\n",
    "boto_session = boto3.Session(region_name=region)\n",
    "sagemaker_client = boto_session.client(service_name=\"sagemaker\", region_name=region)\n",
    "featurestore_runtime = boto_session.client(\n",
    "    service_name=\"sagemaker-featurestore-runtime\", region_name=region\n",
    ")\n",
    "feature_store_session = Session(\n",
    "    boto_session=boto_session,\n",
    "    sagemaker_client=sagemaker_client,\n",
    "    sagemaker_featurestore_runtime_client=featurestore_runtime,\n",
    ")"
   ]
  },
  {
   "cell_type": "code",
   "execution_count": 14,
   "id": "4feb6d03-ecc8-4569-831c-606e90ed9037",
   "metadata": {
    "execution": {
     "iopub.execute_input": "2025-10-11T21:18:59.007142Z",
     "iopub.status.busy": "2025-10-11T21:18:59.006855Z",
     "iopub.status.idle": "2025-10-11T21:18:59.011049Z",
     "shell.execute_reply": "2025-10-11T21:18:59.010376Z",
     "shell.execute_reply.started": "2025-10-11T21:18:59.007116Z"
    }
   },
   "outputs": [
    {
     "name": "stdout",
     "output_type": "stream",
     "text": [
      "Feature Group object initialized: foodlens-products-feature-group-11-21-18-59\n"
     ]
    }
   ],
   "source": [
    "# Initialize feature group\n",
    "feature_group_name = \"foodlens-products-feature-group-\" + strftime(\"%d-%H-%M-%S\", gmtime())\n",
    "\n",
    "# Create the FeatureGroup object\n",
    "food_feature_group = FeatureGroup(\n",
    "    name=feature_group_name,\n",
    "    sagemaker_session=feature_store_session\n",
    ")\n",
    "\n",
    "print(f\"Feature Group object initialized: {feature_group_name}\")"
   ]
  },
  {
   "cell_type": "code",
   "execution_count": 15,
   "id": "a2446b77-2aea-401d-810f-5a8ea760fb62",
   "metadata": {
    "execution": {
     "iopub.execute_input": "2025-10-11T21:18:59.013596Z",
     "iopub.status.busy": "2025-10-11T21:18:59.013356Z",
     "iopub.status.idle": "2025-10-11T21:18:59.018843Z",
     "shell.execute_reply": "2025-10-11T21:18:59.018091Z",
     "shell.execute_reply.started": "2025-10-11T21:18:59.013579Z"
    }
   },
   "outputs": [
    {
     "data": {
      "text/plain": [
       "code                                                         object\n",
       "product_name                                                 object\n",
       "nova_group                                                    int64\n",
       "additives_n                                                   int64\n",
       "ingredients_n                                                 int64\n",
       "nutriscore_score                                              int64\n",
       "energy_100g                                                 float64\n",
       "salt_100g                                                   float64\n",
       "carbohydrates_100g                                          float64\n",
       "cholesterol_100g                                            float64\n",
       "sodium_100g                                                 float64\n",
       "fiber_100g                                                  float64\n",
       "fruits_vegetables_legumes_estimate_from_ingredients_100g    float64\n",
       "sugars_100g                                                 float64\n",
       "saturated_fat_100g                                          float64\n",
       "trans_fat_100g                                              float64\n",
       "fat_100g                                                    float64\n",
       "proteins_100g                                               float64\n",
       "fruits_vegetables_nuts_estimate_from_ingredients_100g       float64\n",
       "energy_kcal_100g                                            float64\n",
       "nova_group_100g                                             float64\n",
       "nutrition_score_fr_100g                                     float64\n",
       "vitamin_a_100g                                              float64\n",
       "iron_100g                                                   float64\n",
       "calcium_100g                                                float64\n",
       "vitamin_c_100g                                              float64\n",
       "dtype: object"
      ]
     },
     "execution_count": 15,
     "metadata": {},
     "output_type": "execute_result"
    }
   ],
   "source": [
    "# View feature data types\n",
    "features_df.dtypes"
   ]
  },
  {
   "cell_type": "code",
   "execution_count": 16,
   "id": "cd56dc79-eac4-470d-8dd0-da4f6858a9f4",
   "metadata": {
    "execution": {
     "iopub.execute_input": "2025-10-11T21:18:59.019831Z",
     "iopub.status.busy": "2025-10-11T21:18:59.019565Z",
     "iopub.status.idle": "2025-10-11T21:18:59.122818Z",
     "shell.execute_reply": "2025-10-11T21:18:59.122060Z",
     "shell.execute_reply.started": "2025-10-11T21:18:59.019805Z"
    }
   },
   "outputs": [
    {
     "name": "stdout",
     "output_type": "stream",
     "text": [
      "Feature definitions assigned to Foodlens Feature Group.\n"
     ]
    }
   ],
   "source": [
    "# Define feature group schema\n",
    "food_features_df = features_df.copy()\n",
    "\n",
    "# Cast 'object' columns to string type\n",
    "food_features_df['code'] = food_features_df['code'].astype('str').astype('string')\n",
    "food_features_df['product_name'] = food_features_df['product_name'].astype('str').astype('string')\n",
    "\n",
    "# Add ingestion timestamp\n",
    "current_time_sec = int(round(time.time()))\n",
    "food_features_df['EventTime'] = pd.Series(\n",
    "    [current_time_sec] * len(food_features_df), dtype=\"float64\"\n",
    ")\n",
    "\n",
    "# Load feature definitions to the feature group\n",
    "food_feature_group.load_feature_definitions(data_frame=food_features_df)\n",
    "\n",
    "print(\"Feature definitions assigned to Foodlens Feature Group.\")"
   ]
  },
  {
   "cell_type": "code",
   "execution_count": 17,
   "id": "59371306-b9f9-4179-a16e-2994581c3440",
   "metadata": {
    "execution": {
     "iopub.execute_input": "2025-10-11T21:18:59.123804Z",
     "iopub.status.busy": "2025-10-11T21:18:59.123517Z",
     "iopub.status.idle": "2025-10-11T21:18:59.130924Z",
     "shell.execute_reply": "2025-10-11T21:18:59.130254Z",
     "shell.execute_reply.started": "2025-10-11T21:18:59.123776Z"
    }
   },
   "outputs": [
    {
     "data": {
      "text/plain": [
       "code                                                        string[python]\n",
       "product_name                                                string[python]\n",
       "nova_group                                                           int64\n",
       "additives_n                                                          int64\n",
       "ingredients_n                                                        int64\n",
       "nutriscore_score                                                     int64\n",
       "energy_100g                                                        float64\n",
       "salt_100g                                                          float64\n",
       "carbohydrates_100g                                                 float64\n",
       "cholesterol_100g                                                   float64\n",
       "sodium_100g                                                        float64\n",
       "fiber_100g                                                         float64\n",
       "fruits_vegetables_legumes_estimate_from_ingredients_100g           float64\n",
       "sugars_100g                                                        float64\n",
       "saturated_fat_100g                                                 float64\n",
       "trans_fat_100g                                                     float64\n",
       "fat_100g                                                           float64\n",
       "proteins_100g                                                      float64\n",
       "fruits_vegetables_nuts_estimate_from_ingredients_100g              float64\n",
       "energy_kcal_100g                                                   float64\n",
       "nova_group_100g                                                    float64\n",
       "nutrition_score_fr_100g                                            float64\n",
       "vitamin_a_100g                                                     float64\n",
       "iron_100g                                                          float64\n",
       "calcium_100g                                                       float64\n",
       "vitamin_c_100g                                                     float64\n",
       "EventTime                                                          float64\n",
       "dtype: object"
      ]
     },
     "execution_count": 17,
     "metadata": {},
     "output_type": "execute_result"
    }
   ],
   "source": [
    "# View feature data types\n",
    "food_features_df.dtypes"
   ]
  },
  {
   "cell_type": "code",
   "execution_count": 18,
   "id": "83a60b4e-2ce2-4717-a203-27693673bc3b",
   "metadata": {
    "execution": {
     "iopub.execute_input": "2025-10-11T21:18:59.131937Z",
     "iopub.status.busy": "2025-10-11T21:18:59.131685Z",
     "iopub.status.idle": "2025-10-11T21:19:41.249230Z",
     "shell.execute_reply": "2025-10-11T21:19:41.248609Z",
     "shell.execute_reply.started": "2025-10-11T21:18:59.131912Z"
    }
   },
   "outputs": [
    {
     "name": "stdout",
     "output_type": "stream",
     "text": [
      "Creating Foodlens Feature Group... this can take a minute.\n",
      "Waiting for Feature Group Creation\n",
      "Waiting for Feature Group Creation\n",
      "Waiting for Feature Group Creation\n",
      "Waiting for Feature Group Creation\n",
      "Waiting for Feature Group Creation\n",
      "Waiting for Feature Group Creation\n",
      "Waiting for Feature Group Creation\n",
      "Waiting for Feature Group Creation\n",
      "FeatureGroup foodlens-products-feature-group-11-21-18-59 successfully created.\n"
     ]
    }
   ],
   "source": [
    "# Create the feature group in sagemaker featurestore\n",
    "def wait_for_feature_group_creation_complete(feature_group):\n",
    "    status = feature_group.describe().get(\"FeatureGroupStatus\")\n",
    "    while status == \"Creating\":\n",
    "        print(\"Waiting for Feature Group Creation\")\n",
    "        time.sleep(5)\n",
    "        status = feature_group.describe().get(\"FeatureGroupStatus\")\n",
    "    if status != \"Created\":\n",
    "        raise RuntimeError(f\"Failed to create feature group {feature_group.name}\")\n",
    "    print(f\"FeatureGroup {feature_group.name} successfully created.\")\n",
    "\n",
    "food_feature_group.create(\n",
    "    s3_uri=f\"s3://{bucket}/feature-store/Foodlens/\",\n",
    "    record_identifier_name=\"code\",\n",
    "    event_time_feature_name=\"EventTime\",\n",
    "    role_arn=role,\n",
    "    enable_online_store=True,\n",
    "    disable_glue_table_creation=False,  # keep Glue auto-create\n",
    "    description=\"Foodlens Feature Group for OpenFoodFacts Products\"\n",
    ")\n",
    "\n",
    "print(\"Creating Foodlens Feature Group... this can take a minute.\")\n",
    "wait_for_feature_group_creation_complete(feature_group=food_feature_group)"
   ]
  },
  {
   "cell_type": "code",
   "execution_count": 19,
   "id": "d92d93fb-a4fe-4149-a705-9f5c65249140",
   "metadata": {
    "execution": {
     "iopub.execute_input": "2025-10-11T21:19:41.250665Z",
     "iopub.status.busy": "2025-10-11T21:19:41.250059Z",
     "iopub.status.idle": "2025-10-11T21:19:41.412836Z",
     "shell.execute_reply": "2025-10-11T21:19:41.412228Z",
     "shell.execute_reply.started": "2025-10-11T21:19:41.250637Z"
    }
   },
   "outputs": [
    {
     "data": {
      "text/plain": [
       "{'FeatureGroupArn': 'arn:aws:sagemaker:us-east-1:243285667099:feature-group/foodlens-products-feature-group-11-21-18-59',\n",
       " 'FeatureGroupName': 'foodlens-products-feature-group-11-21-18-59',\n",
       " 'RecordIdentifierFeatureName': 'code',\n",
       " 'EventTimeFeatureName': 'EventTime',\n",
       " 'FeatureDefinitions': [{'FeatureName': 'code', 'FeatureType': 'String'},\n",
       "  {'FeatureName': 'product_name', 'FeatureType': 'String'},\n",
       "  {'FeatureName': 'nova_group', 'FeatureType': 'Integral'},\n",
       "  {'FeatureName': 'additives_n', 'FeatureType': 'Integral'},\n",
       "  {'FeatureName': 'ingredients_n', 'FeatureType': 'Integral'},\n",
       "  {'FeatureName': 'nutriscore_score', 'FeatureType': 'Integral'},\n",
       "  {'FeatureName': 'energy_100g', 'FeatureType': 'Fractional'},\n",
       "  {'FeatureName': 'salt_100g', 'FeatureType': 'Fractional'},\n",
       "  {'FeatureName': 'carbohydrates_100g', 'FeatureType': 'Fractional'},\n",
       "  {'FeatureName': 'cholesterol_100g', 'FeatureType': 'Fractional'},\n",
       "  {'FeatureName': 'sodium_100g', 'FeatureType': 'Fractional'},\n",
       "  {'FeatureName': 'fiber_100g', 'FeatureType': 'Fractional'},\n",
       "  {'FeatureName': 'fruits_vegetables_legumes_estimate_from_ingredients_100g',\n",
       "   'FeatureType': 'Fractional'},\n",
       "  {'FeatureName': 'sugars_100g', 'FeatureType': 'Fractional'},\n",
       "  {'FeatureName': 'saturated_fat_100g', 'FeatureType': 'Fractional'},\n",
       "  {'FeatureName': 'trans_fat_100g', 'FeatureType': 'Fractional'},\n",
       "  {'FeatureName': 'fat_100g', 'FeatureType': 'Fractional'},\n",
       "  {'FeatureName': 'proteins_100g', 'FeatureType': 'Fractional'},\n",
       "  {'FeatureName': 'fruits_vegetables_nuts_estimate_from_ingredients_100g',\n",
       "   'FeatureType': 'Fractional'},\n",
       "  {'FeatureName': 'energy_kcal_100g', 'FeatureType': 'Fractional'},\n",
       "  {'FeatureName': 'nova_group_100g', 'FeatureType': 'Fractional'},\n",
       "  {'FeatureName': 'nutrition_score_fr_100g', 'FeatureType': 'Fractional'},\n",
       "  {'FeatureName': 'vitamin_a_100g', 'FeatureType': 'Fractional'},\n",
       "  {'FeatureName': 'iron_100g', 'FeatureType': 'Fractional'},\n",
       "  {'FeatureName': 'calcium_100g', 'FeatureType': 'Fractional'},\n",
       "  {'FeatureName': 'vitamin_c_100g', 'FeatureType': 'Fractional'},\n",
       "  {'FeatureName': 'EventTime', 'FeatureType': 'Fractional'}],\n",
       " 'CreationTime': datetime.datetime(2025, 10, 11, 21, 18, 59, 364000, tzinfo=tzlocal()),\n",
       " 'OnlineStoreConfig': {'EnableOnlineStore': True},\n",
       " 'OfflineStoreConfig': {'S3StorageConfig': {'S3Uri': 's3://sagemaker-us-east-1-243285667099/feature-store/Foodlens/',\n",
       "   'ResolvedOutputS3Uri': 's3://sagemaker-us-east-1-243285667099/feature-store/Foodlens/243285667099/sagemaker/us-east-1/offline-store/foodlens-products-feature-group-11-21-18-59-1760217539/data'},\n",
       "  'DisableGlueTableCreation': False,\n",
       "  'DataCatalogConfig': {'TableName': 'foodlens_products_feature_group_11_21_18_59_1760217539',\n",
       "   'Catalog': 'AwsDataCatalog',\n",
       "   'Database': 'sagemaker_featurestore'}},\n",
       " 'ThroughputConfig': {'ThroughputMode': 'OnDemand'},\n",
       " 'RoleArn': 'arn:aws:iam::243285667099:role/LabRole',\n",
       " 'FeatureGroupStatus': 'Created',\n",
       " 'Description': 'Foodlens Feature Group for OpenFoodFacts Products',\n",
       " 'OnlineStoreTotalSizeBytes': 0,\n",
       " 'ResponseMetadata': {'RequestId': '13a43de1-5ad0-4770-8cee-007a76ed9d5a',\n",
       "  'HTTPStatusCode': 200,\n",
       "  'HTTPHeaders': {'x-amzn-requestid': '13a43de1-5ad0-4770-8cee-007a76ed9d5a',\n",
       "   'strict-transport-security': 'max-age=47304000; includeSubDomains',\n",
       "   'x-frame-options': 'DENY',\n",
       "   'content-security-policy': \"frame-ancestors 'none'\",\n",
       "   'cache-control': 'no-cache, no-store, must-revalidate',\n",
       "   'x-content-type-options': 'nosniff',\n",
       "   'content-type': 'application/x-amz-json-1.1',\n",
       "   'content-length': '3219',\n",
       "   'date': 'Sat, 11 Oct 2025 21:19:41 GMT'},\n",
       "  'RetryAttempts': 0}}"
      ]
     },
     "execution_count": 19,
     "metadata": {},
     "output_type": "execute_result"
    }
   ],
   "source": [
    "# View feature group details\n",
    "food_feature_group_desc = food_feature_group.describe()\n",
    "food_feature_group_desc"
   ]
  },
  {
   "cell_type": "markdown",
   "id": "84288021-6dd3-47b1-b1d9-77dbb95fc07d",
   "metadata": {
    "execution": {
     "iopub.execute_input": "2025-09-28T14:15:21.908750Z",
     "iopub.status.busy": "2025-09-28T14:15:21.908543Z",
     "iopub.status.idle": "2025-09-28T14:15:21.911301Z",
     "shell.execute_reply": "2025-09-28T14:15:21.910611Z",
     "shell.execute_reply.started": "2025-09-28T14:15:21.908732Z"
    }
   },
   "source": [
    "## Ingest Data into FeatureGroup"
   ]
  },
  {
   "cell_type": "code",
   "execution_count": 20,
   "id": "77f9a433-86b3-42d2-a4e9-8716021ffea0",
   "metadata": {
    "execution": {
     "iopub.execute_input": "2025-10-11T21:19:41.413866Z",
     "iopub.status.busy": "2025-10-11T21:19:41.413576Z",
     "iopub.status.idle": "2025-10-11T21:19:42.308671Z",
     "shell.execute_reply": "2025-10-11T21:19:42.308022Z",
     "shell.execute_reply.started": "2025-10-11T21:19:41.413840Z"
    }
   },
   "outputs": [
    {
     "name": "stdout",
     "output_type": "stream",
     "text": [
      "Saving processed DataFrame to S3...\n",
      "Data saved to: s3://sagemaker-us-east-1-243285667099/feature-store-project/processed-data/20251011211941/\n",
      "Using Glue Script from: s3://sagemaker-us-east-1-243285667099/feature-store-project/glue-scripts/ingest_script.py\n"
     ]
    }
   ],
   "source": [
    "# File configuration\n",
    "prefix_processed_data_s3 = 'feature-store-project/processed-data'\n",
    "prefix_glue_script_s3 = 'feature-store-project/glue-scripts'\n",
    "glue_job_name = 'FeatureStore-Ingestion-Job' + datetime.now().strftime(\"-%Y-%m-%d-%H-%M\")\n",
    "\n",
    "# Save the processed DataFrame to S3 \n",
    "print(\"Saving processed DataFrame to S3...\")\n",
    "current_time_str = datetime.now().strftime(\"%Y%m%d%H%M%S\")\n",
    "data_s3_uri = f's3://{bucket}/{prefix_processed_data_s3}/{current_time_str}/'\n",
    "glue_script_file_name = 'ingest_script.py'\n",
    "script_s3_key = f'{prefix_glue_script_s3}/{glue_script_file_name}'\n",
    "script_s3_uri = f's3://{bucket}/{script_s3_key}'\n",
    "local_ingest_script_path = 'utils/ingest_script.py'\n",
    "\n",
    "# Convert the pandas DataFrame to Parquet on S3\n",
    "food_features_df.to_parquet(data_s3_uri)\n",
    "print(f\"Data saved to: {data_s3_uri}\")\n",
    "\n",
    "# Upload the Glue Script\n",
    "boto3.Session().resource('s3').Bucket(bucket).Object(f'{prefix_glue_script_s3}/{glue_script_file_name}').upload_file(local_ingest_script_path)\n",
    "print(f\"Using Glue Script from: {script_s3_uri}\")"
   ]
  },
  {
   "cell_type": "code",
   "execution_count": 27,
   "id": "ca16b81f-090a-4bff-ab0d-180b6c941c13",
   "metadata": {
    "execution": {
     "iopub.execute_input": "2025-10-11T21:26:04.579659Z",
     "iopub.status.busy": "2025-10-11T21:26:04.579395Z",
     "iopub.status.idle": "2025-10-11T21:30:35.731325Z",
     "shell.execute_reply": "2025-10-11T21:30:35.730679Z",
     "shell.execute_reply.started": "2025-10-11T21:26:04.579639Z"
    }
   },
   "outputs": [
    {
     "name": "stdout",
     "output_type": "stream",
     "text": [
      "Submitting ingestion job to AWS Glue...\n",
      "SUCCESS: Glue job started! Run ID: jr_b70066cb9c2005055755a1b61f7e17a052b968b2d681899f77edecbb24ce9cfe\n",
      "Monitoring job progress (Checking status every 30 seconds)...\n",
      "    Current Status: RUNNING\n",
      "    Waiting 30 seconds...\n",
      "    Current Status: RUNNING\n",
      "    Waiting 30 seconds...\n",
      "    Current Status: RUNNING\n",
      "    Waiting 30 seconds...\n",
      "    Current Status: RUNNING\n",
      "    Waiting 30 seconds...\n",
      "    Current Status: RUNNING\n",
      "    Waiting 30 seconds...\n",
      "    Current Status: RUNNING\n",
      "    Waiting 30 seconds...\n",
      "    Current Status: RUNNING\n",
      "    Waiting 30 seconds...\n",
      "    Current Status: RUNNING\n",
      "    Waiting 30 seconds...\n",
      "    Current Status: RUNNING\n",
      "    Waiting 30 seconds...\n",
      "    Current Status: SUCCEEDED\n",
      "\n",
      "Job SUCCEEDED! Data successfully ingested into foodlens-products-feature-group-11-21-18-59.\n"
     ]
    }
   ],
   "source": [
    "# Submit the AWS Glue Job\n",
    "print(\"Submitting ingestion job to AWS Glue...\")\n",
    "glue_client = boto3.client('glue', region_name=region)\n",
    "\n",
    "try:\n",
    "    # First, ensure the Glue Job definition exists (run this once)\n",
    "    try:\n",
    "        glue_client.get_job(JobName=glue_job_name)\n",
    "    except glue_client.exceptions.EntityNotFoundException:\n",
    "        print(f\"    Creating new Glue Job definition: {glue_job_name}\")\n",
    "        glue_client.create_job(\n",
    "            Name=glue_job_name,\n",
    "            Role=role,\n",
    "            Command={\n",
    "                'Name': 'glueetl',\n",
    "                'ScriptLocation': script_s3_uri,\n",
    "                'PythonVersion': '3'\n",
    "            },\n",
    "            WorkerType='G.1X',\n",
    "            NumberOfWorkers=5, \n",
    "            GlueVersion='4.0',\n",
    "            MaxRetries=0\n",
    "        )\n",
    "    \n",
    "    # Start the job run with parameters\n",
    "    response = glue_client.start_job_run(\n",
    "        JobName=glue_job_name,\n",
    "        Arguments={\n",
    "            '--s3_data_path': data_s3_uri,\n",
    "            '--feature_group_name': feature_group_name,\n",
    "            '--sagemaker_role_arn': role,\n",
    "            '--region': region,\n",
    "            '--additional-python-modules': 'numpy==1.26.4,sagemaker==2.214.0'\n",
    "        }\n",
    "    )\n",
    "\n",
    "    job_run_id = response['JobRunId']\n",
    "    print(f\"SUCCESS: Glue job started! Run ID: {job_run_id}\")\n",
    "    \n",
    "    # Monitoring Loop\n",
    "    print(\"Monitoring job progress (Checking status every 30 seconds)...\")\n",
    "    \n",
    "    job_status = 'STARTING'\n",
    "    while job_status in ['STARTING', 'RUNNING', 'WAITING']:\n",
    "        status_response = glue_client.get_job_run(JobName=glue_job_name, RunId=job_run_id)\n",
    "        job_status = status_response['JobRun']['JobRunState']\n",
    "        \n",
    "        print(f\"    Current Status: {job_status}\")\n",
    "\n",
    "        # Check if the job has reached a terminal state\n",
    "        if job_status not in ['STARTING', 'RUNNING', 'WAITING']:\n",
    "            break # Exit the loop immediately if status is SUCCEEDED, FAILED, etc.\n",
    "        \n",
    "        print(\"    Waiting 30 seconds...\")\n",
    "        time.sleep(30)\n",
    "        \n",
    "    if job_status == 'SUCCEEDED':\n",
    "        print(f\"\\nJob SUCCEEDED! Data successfully ingested into {feature_group_name}.\")\n",
    "    elif job_status in ['FAILED', 'STOPPED', 'TIMEOUT']:\n",
    "        error_message = status_response['JobRun'].get('ErrorMessage', 'No specific error message.')\n",
    "        print(f\"\\nJob FAILED/STOPPED with status: {job_status}. Error: {error_message}\")\n",
    "    # End of Monitoring Loop\n",
    "except Exception as e:\n",
    "    print(f\"\\nERROR submitting Glue job: {e}\")"
   ]
  },
  {
   "cell_type": "markdown",
   "id": "6a406a35-09d3-415f-a067-3a044e2c7cf1",
   "metadata": {},
   "source": [
    "## Confirm Data Ingestion"
   ]
  },
  {
   "cell_type": "code",
   "execution_count": 28,
   "id": "348665b7-b9ff-4656-b71e-efb75d44931b",
   "metadata": {
    "execution": {
     "iopub.execute_input": "2025-10-11T21:32:21.300845Z",
     "iopub.status.busy": "2025-10-11T21:32:21.300489Z",
     "iopub.status.idle": "2025-10-11T21:32:21.373140Z",
     "shell.execute_reply": "2025-10-11T21:32:21.372408Z",
     "shell.execute_reply.started": "2025-10-11T21:32:21.300813Z"
    }
   },
   "outputs": [
    {
     "data": {
      "text/plain": [
       "{'ResponseMetadata': {'RequestId': 'c0712faf-35ed-4715-b1ab-83d8c431d5c7',\n",
       "  'HTTPStatusCode': 200,\n",
       "  'HTTPHeaders': {'x-amzn-requestid': 'c0712faf-35ed-4715-b1ab-83d8c431d5c7',\n",
       "   'content-type': 'application/json',\n",
       "   'content-length': '2317',\n",
       "   'date': 'Sat, 11 Oct 2025 21:32:21 GMT'},\n",
       "  'RetryAttempts': 0},\n",
       " 'Record': [{'FeatureName': 'code', 'ValueAsString': '00001252'},\n",
       "  {'FeatureName': 'product_name', 'ValueAsString': 'Cottage cheese'},\n",
       "  {'FeatureName': 'nova_group', 'ValueAsString': '3'},\n",
       "  {'FeatureName': 'additives_n', 'ValueAsString': '0'},\n",
       "  {'FeatureName': 'ingredients_n', 'ValueAsString': '3'},\n",
       "  {'FeatureName': 'nutriscore_score', 'ValueAsString': '4'},\n",
       "  {'FeatureName': 'energy_100g', 'ValueAsString': '407.0'},\n",
       "  {'FeatureName': 'salt_100g', 'ValueAsString': '0.86283183'},\n",
       "  {'FeatureName': 'carbohydrates_100g', 'ValueAsString': '4.424779'},\n",
       "  {'FeatureName': 'cholesterol_100g', 'ValueAsString': '0.017699115'},\n",
       "  {'FeatureName': 'sodium_100g', 'ValueAsString': '0.34513274'},\n",
       "  {'FeatureName': 'fiber_100g', 'ValueAsString': '0.0'},\n",
       "  {'FeatureName': 'fruits_vegetables_legumes_estimate_from_ingredients_100g',\n",
       "   'ValueAsString': '0.0'},\n",
       "  {'FeatureName': 'sugars_100g', 'ValueAsString': '3.539823'},\n",
       "  {'FeatureName': 'saturated_fat_100g', 'ValueAsString': '2.6548672'},\n",
       "  {'FeatureName': 'trans_fat_100g', 'ValueAsString': '0.0'},\n",
       "  {'FeatureName': 'fat_100g', 'ValueAsString': '4.424779'},\n",
       "  {'FeatureName': 'proteins_100g', 'ValueAsString': '11.504425'},\n",
       "  {'FeatureName': 'fruits_vegetables_nuts_estimate_from_ingredients_100g',\n",
       "   'ValueAsString': '0.0'},\n",
       "  {'FeatureName': 'energy_kcal_100g', 'ValueAsString': '97.34513'},\n",
       "  {'FeatureName': 'nova_group_100g', 'ValueAsString': '3.0'},\n",
       "  {'FeatureName': 'nutrition_score_fr_100g', 'ValueAsString': '4.0'},\n",
       "  {'FeatureName': 'vitamin_a_100g', 'ValueAsString': '0.0'},\n",
       "  {'FeatureName': 'iron_100g', 'ValueAsString': '0.00071'},\n",
       "  {'FeatureName': 'calcium_100g', 'ValueAsString': '0.0254'},\n",
       "  {'FeatureName': 'vitamin_c_100g', 'ValueAsString': '0.0'},\n",
       "  {'FeatureName': 'EventTime', 'ValueAsString': '1760217539.0'}]}"
      ]
     },
     "execution_count": 28,
     "metadata": {},
     "output_type": "execute_result"
    }
   ],
   "source": [
    "# Grab sample record\n",
    "record_identifier_value = '00001252' # Cottage Cheese\n",
    "\n",
    "# Call the get_record API\n",
    "featurestore_runtime.get_record(\n",
    "    FeatureGroupName=feature_group_name,\n",
    "    RecordIdentifierValueAsString=record_identifier_value,\n",
    ")"
   ]
  },
  {
   "cell_type": "code",
   "execution_count": 31,
   "id": "7ced4119-5e88-4b06-a37b-42ed51c6922d",
   "metadata": {
    "execution": {
     "iopub.execute_input": "2025-10-11T21:33:17.517762Z",
     "iopub.status.busy": "2025-10-11T21:33:17.517490Z",
     "iopub.status.idle": "2025-10-11T21:33:18.788355Z",
     "shell.execute_reply": "2025-10-11T21:33:18.787726Z",
     "shell.execute_reply.started": "2025-10-11T21:33:17.517741Z"
    }
   },
   "outputs": [
    {
     "name": "stdout",
     "output_type": "stream",
     "text": [
      "SELECT COUNT(*)\n",
      "FROM \"sagemaker_featurestore\".\"foodlens_products_feature_group_11_21_18_59_1760217539\" \n"
     ]
    },
    {
     "data": {
      "text/html": [
       "<div>\n",
       "<style scoped>\n",
       "    .dataframe tbody tr th:only-of-type {\n",
       "        vertical-align: middle;\n",
       "    }\n",
       "\n",
       "    .dataframe tbody tr th {\n",
       "        vertical-align: top;\n",
       "    }\n",
       "\n",
       "    .dataframe thead th {\n",
       "        text-align: right;\n",
       "    }\n",
       "</style>\n",
       "<table border=\"1\" class=\"dataframe\">\n",
       "  <thead>\n",
       "    <tr style=\"text-align: right;\">\n",
       "      <th></th>\n",
       "      <th>_col0</th>\n",
       "    </tr>\n",
       "  </thead>\n",
       "  <tbody>\n",
       "    <tr>\n",
       "      <th>0</th>\n",
       "      <td>100000</td>\n",
       "    </tr>\n",
       "  </tbody>\n",
       "</table>\n",
       "</div>"
      ],
      "text/plain": [
       "    _col0\n",
       "0  100000"
      ]
     },
     "execution_count": 31,
     "metadata": {},
     "output_type": "execute_result"
    }
   ],
   "source": [
    "# Verify all records made into feature group\n",
    "# You may have to wait a few minutes for the data to fully appear in offline store\n",
    "feature_database_name = 'sagemaker_featurestore' \n",
    "feature_group_table_name = food_feature_group_desc['OfflineStoreConfig']['DataCatalogConfig']['TableName']\n",
    "\n",
    "statement = \"\"\"SELECT COUNT(*)\n",
    "FROM \"{}\".\"{}\" \"\"\".format(\n",
    "    feature_database_name, \n",
    "    feature_group_table_name \n",
    ")\n",
    "\n",
    "print(statement)\n",
    "total_record_count = pd.read_sql(statement, conn)\n",
    "total_record_count"
   ]
  },
  {
   "cell_type": "code",
   "execution_count": null,
   "id": "01ed13a4-c3c6-4fe4-a47e-b1574369d565",
   "metadata": {},
   "outputs": [],
   "source": []
  }
 ],
 "metadata": {
  "kernelspec": {
   "display_name": "Python 3 (ipykernel)",
   "language": "python",
   "name": "python3"
  },
  "language_info": {
   "codemirror_mode": {
    "name": "ipython",
    "version": 3
   },
   "file_extension": ".py",
   "mimetype": "text/x-python",
   "name": "python",
   "nbconvert_exporter": "python",
   "pygments_lexer": "ipython3",
   "version": "3.12.9"
  }
 },
 "nbformat": 4,
 "nbformat_minor": 5
}
