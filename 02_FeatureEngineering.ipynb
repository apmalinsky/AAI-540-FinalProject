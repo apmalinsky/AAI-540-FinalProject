{
 "cells": [
  {
   "cell_type": "markdown",
   "id": "281e4800-cd69-44b2-9418-990b4e96b8e0",
   "metadata": {},
   "source": [
    "# Feature Engineering"
   ]
  },
  {
   "cell_type": "code",
   "execution_count": 11,
   "id": "aaecc4d2-2301-4142-ae0d-72478ca8a314",
   "metadata": {
    "execution": {
     "iopub.execute_input": "2025-09-24T01:29:49.328613Z",
     "iopub.status.busy": "2025-09-24T01:29:49.328200Z",
     "iopub.status.idle": "2025-09-24T01:29:50.630710Z",
     "shell.execute_reply": "2025-09-24T01:29:50.629873Z",
     "shell.execute_reply.started": "2025-09-24T01:29:49.328584Z"
    }
   },
   "outputs": [],
   "source": [
    "# Import libraries\n",
    "import boto3\n",
    "import sagemaker\n",
    "from pyathena import connect\n",
    "import pandas as pd\n",
    "import time"
   ]
  },
  {
   "cell_type": "code",
   "execution_count": 4,
   "id": "a210dd18-325a-4bcb-a965-bea2b3b8cb15",
   "metadata": {
    "execution": {
     "iopub.execute_input": "2025-09-24T01:08:10.009745Z",
     "iopub.status.busy": "2025-09-24T01:08:10.009459Z",
     "iopub.status.idle": "2025-09-24T01:08:10.875106Z",
     "shell.execute_reply": "2025-09-24T01:08:10.874325Z",
     "shell.execute_reply.started": "2025-09-24T01:08:10.009724Z"
    }
   },
   "outputs": [
    {
     "name": "stdout",
     "output_type": "stream",
     "text": [
      "Boto and Sagemaker Sessions Initialized...\n",
      "Bucket: sagemaker-us-east-1-654654380268\n",
      "Region: us-east-1\n"
     ]
    }
   ],
   "source": [
    "# Setup boto and sagemaker session\n",
    "sess = sagemaker.Session()\n",
    "bucket = sess.default_bucket()\n",
    "role = sagemaker.get_execution_role()\n",
    "region = boto3.Session().region_name\n",
    "print('Boto and Sagemaker Sessions Initialized...\\nBucket: {0}\\nRegion: {1}'.format(bucket, region))"
   ]
  },
  {
   "cell_type": "code",
   "execution_count": 5,
   "id": "32e27b09-98fb-4ee1-b054-5860d5c68856",
   "metadata": {
    "execution": {
     "iopub.execute_input": "2025-09-24T01:08:12.619589Z",
     "iopub.status.busy": "2025-09-24T01:08:12.619286Z",
     "iopub.status.idle": "2025-09-24T01:08:12.716371Z",
     "shell.execute_reply": "2025-09-24T01:08:12.713812Z",
     "shell.execute_reply.started": "2025-09-24T01:08:12.619567Z"
    }
   },
   "outputs": [],
   "source": [
    "database_name = 'foodfacts'\n",
    "raw_table_name = \"aai_540_openfoodfacts\"\n",
    "\n",
    "# Initialize our database name\n",
    "database_name = 'foodfacts'\n",
    "\n",
    "# Set S3 staging directory\n",
    "s3_staging_dir = \"s3://{0}/athena/staging\".format(bucket)\n",
    "\n",
    "# Create connection to Athena database\n",
    "conn = connect(region_name=region, s3_staging_dir=s3_staging_dir)"
   ]
  },
  {
   "cell_type": "code",
   "execution_count": 29,
   "id": "dad62101-79aa-4adb-b91c-d0e2c29cad55",
   "metadata": {
    "execution": {
     "iopub.execute_input": "2025-09-24T02:06:44.144722Z",
     "iopub.status.busy": "2025-09-24T02:06:44.144252Z",
     "iopub.status.idle": "2025-09-24T02:06:52.581855Z",
     "shell.execute_reply": "2025-09-24T02:06:52.581031Z",
     "shell.execute_reply.started": "2025-09-24T02:06:44.144695Z"
    }
   },
   "outputs": [
    {
     "name": "stdout",
     "output_type": "stream",
     "text": [
      "SELECT count(*) FROM foodfacts.aai_540_openfoodfacts WHERE contains(countries_tags, 'en:united-states');\n"
     ]
    },
    {
     "name": "stderr",
     "output_type": "stream",
     "text": [
      "/tmp/ipykernel_363/4075044620.py:6: UserWarning: pandas only supports SQLAlchemy connectable (engine/connection) or database string URI or sqlite3 DBAPI2 connection. Other DBAPI2 objects are not tested. Please consider using SQLAlchemy.\n",
      "  df_us = pd.read_sql(statement, conn)\n"
     ]
    },
    {
     "data": {
      "text/html": [
       "<div>\n",
       "<style scoped>\n",
       "    .dataframe tbody tr th:only-of-type {\n",
       "        vertical-align: middle;\n",
       "    }\n",
       "\n",
       "    .dataframe tbody tr th {\n",
       "        vertical-align: top;\n",
       "    }\n",
       "\n",
       "    .dataframe thead th {\n",
       "        text-align: right;\n",
       "    }\n",
       "</style>\n",
       "<table border=\"1\" class=\"dataframe\">\n",
       "  <thead>\n",
       "    <tr style=\"text-align: right;\">\n",
       "      <th></th>\n",
       "      <th>_col0</th>\n",
       "    </tr>\n",
       "  </thead>\n",
       "  <tbody>\n",
       "    <tr>\n",
       "      <th>0</th>\n",
       "      <td>804173</td>\n",
       "    </tr>\n",
       "  </tbody>\n",
       "</table>\n",
       "</div>"
      ],
      "text/plain": [
       "    _col0\n",
       "0  804173"
      ]
     },
     "execution_count": 29,
     "metadata": {},
     "output_type": "execute_result"
    }
   ],
   "source": [
    "# Explore count of food products sold in United States\n",
    "statement = \"\"\"SELECT count(*) FROM {}.{} WHERE contains(countries_tags, 'en:united-states');\"\"\".format(\n",
    "    database_name, raw_table_name\n",
    ")\n",
    "print(statement)\n",
    "df_us = pd.read_sql(statement, conn)\n",
    "df_us"
   ]
  },
  {
   "cell_type": "code",
   "execution_count": 33,
   "id": "912b0132-ff81-4302-acc4-6f378f6eb66d",
   "metadata": {
    "execution": {
     "iopub.execute_input": "2025-09-24T02:19:47.425188Z",
     "iopub.status.busy": "2025-09-24T02:19:47.424902Z",
     "iopub.status.idle": "2025-09-24T02:19:47.428688Z",
     "shell.execute_reply": "2025-09-24T02:19:47.427827Z",
     "shell.execute_reply.started": "2025-09-24T02:19:47.425165Z"
    }
   },
   "outputs": [
    {
     "name": "stdout",
     "output_type": "stream",
     "text": [
      "['additives_n', 'additives_tags', 'allergens_tags', 'brands_tags', 'brands', 'categories', 'categories_tags', 'categories_properties', 'checkers_tags', 'ciqual_food_name_tags', 'cities_tags', 'code', 'compared_to_category', 'complete', 'completeness', 'correctors_tags', 'countries_tags', 'created_t', 'creator', 'data_quality_errors_tags', 'data_quality_info_tags', 'data_quality_warnings_tags', 'data_sources_tags', 'ecoscore_data', 'ecoscore_grade', 'ecoscore_score', 'ecoscore_tags', 'editors', 'emb_codes_tags', 'emb_codes', 'entry_dates_tags', 'food_groups_tags', 'generic_name', 'images', 'informers_tags', 'ingredients_analysis_tags', 'ingredients_from_palm_oil_n', 'ingredients_n', 'ingredients_original_tags', 'ingredients_percent_analysis', 'ingredients_tags', 'ingredients_text', 'ingredients_with_specified_percent_n', 'ingredients_with_unspecified_percent_n', 'ingredients_without_ciqual_codes_n', 'ingredients_without_ciqual_codes', 'ingredients', 'known_ingredients_n', 'labels_tags', 'labels', 'lang', 'languages_tags', 'last_edit_dates_tags', 'last_editor', 'last_image_t', 'last_modified_by', 'last_modified_t', 'last_updated_t', 'link', 'main_countries_tags', 'manufacturing_places_tags', 'manufacturing_places', 'max_imgid', 'minerals_tags', 'misc_tags', 'new_additives_n', 'no_nutrition_data', 'nova_group', 'nova_groups_tags', 'nova_groups', 'nucleotides_tags', 'nutrient_levels_tags', 'nutriments', 'nutriscore_grade', 'nutriscore_score', 'nutrition_data_per', 'obsolete', 'origins_tags', 'origins', 'owner_fields', 'owner', 'packagings_complete', 'packaging_recycling_tags', 'packaging_shapes_tags', 'packaging_tags', 'packaging_text', 'packaging', 'packagings', 'photographers', 'popularity_key', 'popularity_tags', 'product_name', 'product_quantity_unit', 'product_quantity', 'purchase_places_tags', 'quantity', 'rev', 'scans_n', 'serving_quantity', 'serving_size', 'states_tags', 'stores_tags', 'stores', 'traces_tags', 'unique_scans_n', 'unknown_ingredients_n', 'unknown_nutrients_tags', 'vitamins_tags', 'with_non_nutritive_sweeteners', 'with_sweeteners']\n"
     ]
    }
   ],
   "source": [
    "print(df.columns.tolist())"
   ]
  },
  {
   "cell_type": "code",
   "execution_count": 50,
   "id": "6d9340c4-9ce0-41ab-840d-cb4ee5c0c593",
   "metadata": {
    "execution": {
     "iopub.execute_input": "2025-09-24T03:07:41.324336Z",
     "iopub.status.busy": "2025-09-24T03:07:41.324047Z",
     "iopub.status.idle": "2025-09-24T03:07:41.327914Z",
     "shell.execute_reply": "2025-09-24T03:07:41.327138Z",
     "shell.execute_reply.started": "2025-09-24T03:07:41.324314Z"
    }
   },
   "outputs": [],
   "source": [
    "# Select columns\n",
    "\n",
    "target_col = 'nutriscore_score'\n",
    "\n",
    "select_cols = [\n",
    "    'product_name',\n",
    "    'nutriments',\n",
    "    'nova_group',\n",
    "    'additives_n',\n",
    "    'ingredients_n',\n",
    "    target_col]\n",
    "\n"
   ]
  },
  {
   "cell_type": "code",
   "execution_count": 51,
   "id": "a583ab05-a8f4-4a2d-b66c-1523a2862d72",
   "metadata": {
    "execution": {
     "iopub.execute_input": "2025-09-24T03:07:42.365116Z",
     "iopub.status.busy": "2025-09-24T03:07:42.364808Z",
     "iopub.status.idle": "2025-09-24T03:07:48.799831Z",
     "shell.execute_reply": "2025-09-24T03:07:48.799049Z",
     "shell.execute_reply.started": "2025-09-24T03:07:42.365095Z"
    }
   },
   "outputs": [
    {
     "name": "stdout",
     "output_type": "stream",
     "text": [
      "SELECT \n",
      "    product_name,\n",
      "    nutriments,\n",
      "    nova_group,\n",
      "    additives_n,\n",
      "    ingredients_n,\n",
      "    nutriscore_score FROM foodfacts.aai_540_openfoodfacts WHERE contains(countries_tags, 'en:united-states') LIMIT 5\n"
     ]
    },
    {
     "name": "stderr",
     "output_type": "stream",
     "text": [
      "/tmp/ipykernel_363/885380752.py:12: UserWarning: pandas only supports SQLAlchemy connectable (engine/connection) or database string URI or sqlite3 DBAPI2 connection. Other DBAPI2 objects are not tested. Please consider using SQLAlchemy.\n",
      "  df_us = pd.read_sql(statement, conn)\n"
     ]
    },
    {
     "data": {
      "text/html": [
       "<div>\n",
       "<style scoped>\n",
       "    .dataframe tbody tr th:only-of-type {\n",
       "        vertical-align: middle;\n",
       "    }\n",
       "\n",
       "    .dataframe tbody tr th {\n",
       "        vertical-align: top;\n",
       "    }\n",
       "\n",
       "    .dataframe thead th {\n",
       "        text-align: right;\n",
       "    }\n",
       "</style>\n",
       "<table border=\"1\" class=\"dataframe\">\n",
       "  <thead>\n",
       "    <tr style=\"text-align: right;\">\n",
       "      <th></th>\n",
       "      <th>product_name</th>\n",
       "      <th>nutriments</th>\n",
       "      <th>nova_group</th>\n",
       "      <th>additives_n</th>\n",
       "      <th>ingredients_n</th>\n",
       "      <th>nutriscore_score</th>\n",
       "    </tr>\n",
       "  </thead>\n",
       "  <tbody>\n",
       "    <tr>\n",
       "      <th>0</th>\n",
       "      <td>[{'lang': 'main', 'text': 'Simply cottage chee...</td>\n",
       "      <td>[{'name': 'iron', 'value': 0.0, '100g': 0.0, '...</td>\n",
       "      <td>4</td>\n",
       "      <td>1</td>\n",
       "      <td>12</td>\n",
       "      <td>-1</td>\n",
       "    </tr>\n",
       "    <tr>\n",
       "      <th>1</th>\n",
       "      <td>[{'lang': 'main', 'text': 'Dark chocolate bar'...</td>\n",
       "      <td>[{'name': 'fiber', 'value': 9.3, '100g': 9.3, ...</td>\n",
       "      <td>4</td>\n",
       "      <td>1</td>\n",
       "      <td>8</td>\n",
       "      <td>26</td>\n",
       "    </tr>\n",
       "    <tr>\n",
       "      <th>2</th>\n",
       "      <td>[{'lang': 'main', 'text': 'Filled milk chocola...</td>\n",
       "      <td>[{'name': 'trans-fat', 'value': 0.0, '100g': 0...</td>\n",
       "      <td>4</td>\n",
       "      <td>2</td>\n",
       "      <td>20</td>\n",
       "      <td>31</td>\n",
       "    </tr>\n",
       "    <tr>\n",
       "      <th>3</th>\n",
       "      <td>[{'lang': 'main', 'text': 'Filled milk chocola...</td>\n",
       "      <td>[{'name': 'fiber', 'value': 3.5, '100g': 3.5, ...</td>\n",
       "      <td>4</td>\n",
       "      <td>1</td>\n",
       "      <td>21</td>\n",
       "      <td>30</td>\n",
       "    </tr>\n",
       "    <tr>\n",
       "      <th>4</th>\n",
       "      <td>[{'lang': 'main', 'text': 'Dark chocolate truf...</td>\n",
       "      <td>[{'name': 'energy', 'value': 455.0, '100g': 19...</td>\n",
       "      <td>4</td>\n",
       "      <td>2</td>\n",
       "      <td>22</td>\n",
       "      <td>26</td>\n",
       "    </tr>\n",
       "  </tbody>\n",
       "</table>\n",
       "</div>"
      ],
      "text/plain": [
       "                                        product_name  \\\n",
       "0  [{'lang': 'main', 'text': 'Simply cottage chee...   \n",
       "1  [{'lang': 'main', 'text': 'Dark chocolate bar'...   \n",
       "2  [{'lang': 'main', 'text': 'Filled milk chocola...   \n",
       "3  [{'lang': 'main', 'text': 'Filled milk chocola...   \n",
       "4  [{'lang': 'main', 'text': 'Dark chocolate truf...   \n",
       "\n",
       "                                          nutriments  nova_group  additives_n  \\\n",
       "0  [{'name': 'iron', 'value': 0.0, '100g': 0.0, '...           4            1   \n",
       "1  [{'name': 'fiber', 'value': 9.3, '100g': 9.3, ...           4            1   \n",
       "2  [{'name': 'trans-fat', 'value': 0.0, '100g': 0...           4            2   \n",
       "3  [{'name': 'fiber', 'value': 3.5, '100g': 3.5, ...           4            1   \n",
       "4  [{'name': 'energy', 'value': 455.0, '100g': 19...           4            2   \n",
       "\n",
       "   ingredients_n  nutriscore_score  \n",
       "0             12                -1  \n",
       "1              8                26  \n",
       "2             20                31  \n",
       "3             21                30  \n",
       "4             22                26  "
      ]
     },
     "execution_count": 51,
     "metadata": {},
     "output_type": "execute_result"
    }
   ],
   "source": [
    "# Filter down dataset to food products in United States with select raw columns\n",
    "statement = \"\"\"SELECT \n",
    "    product_name,\n",
    "    nutriments,\n",
    "    nova_group,\n",
    "    additives_n,\n",
    "    ingredients_n,\n",
    "    nutriscore_score FROM {}.{} WHERE contains(countries_tags, 'en:united-states') LIMIT 5\"\"\".format(\n",
    "    database_name, raw_table_name\n",
    ")\n",
    "print(statement)\n",
    "df_us = pd.read_sql(statement, conn)\n",
    "df_us"
   ]
  },
  {
   "cell_type": "code",
   "execution_count": 49,
   "id": "dac86844-17f0-4f3d-86f0-16021c75c3be",
   "metadata": {
    "execution": {
     "iopub.execute_input": "2025-09-24T03:01:45.665535Z",
     "iopub.status.busy": "2025-09-24T03:01:45.665217Z",
     "iopub.status.idle": "2025-09-24T03:01:45.672752Z",
     "shell.execute_reply": "2025-09-24T03:01:45.671834Z",
     "shell.execute_reply.started": "2025-09-24T03:01:45.665510Z"
    }
   },
   "outputs": [
    {
     "data": {
      "text/plain": [
       "[{'lang': 'main', 'text': 'Ice cream'}, {'lang': 'en', 'text': 'Ice cream'}]"
      ]
     },
     "execution_count": 49,
     "metadata": {},
     "output_type": "execute_result"
    }
   ],
   "source": [
    "df_us.loc[2]['product_name']"
   ]
  },
  {
   "cell_type": "code",
   "execution_count": 48,
   "id": "50d48867-c755-44bb-a2d8-89e6043f0a49",
   "metadata": {
    "execution": {
     "iopub.execute_input": "2025-09-24T03:01:43.789439Z",
     "iopub.status.busy": "2025-09-24T03:01:43.789136Z",
     "iopub.status.idle": "2025-09-24T03:01:43.797496Z",
     "shell.execute_reply": "2025-09-24T03:01:43.796657Z",
     "shell.execute_reply.started": "2025-09-24T03:01:43.789416Z"
    }
   },
   "outputs": [
    {
     "data": {
      "text/plain": [
       "[{'name': 'iron',\n",
       "  'value': 0.0,\n",
       "  '100g': 0.0,\n",
       "  'serving': 0.0,\n",
       "  'unit': 'mg',\n",
       "  'prepared_value': None,\n",
       "  'prepared_100g': None,\n",
       "  'prepared_serving': None,\n",
       "  'prepared_unit': None},\n",
       " {'name': 'trans-fat',\n",
       "  'value': 0.0,\n",
       "  '100g': 0.0,\n",
       "  'serving': 0.0,\n",
       "  'unit': 'g',\n",
       "  'prepared_value': None,\n",
       "  'prepared_100g': None,\n",
       "  'prepared_serving': None,\n",
       "  'prepared_unit': None},\n",
       " {'name': 'salt',\n",
       "  'value': 230.0,\n",
       "  '100g': 0.23,\n",
       "  'serving': 0.149,\n",
       "  'unit': 'mg',\n",
       "  'prepared_value': None,\n",
       "  'prepared_100g': None,\n",
       "  'prepared_serving': None,\n",
       "  'prepared_unit': None},\n",
       " {'name': 'proteins',\n",
       "  'value': 3.08,\n",
       "  '100g': 3.08,\n",
       "  'serving': 2.0,\n",
       "  'unit': 'g',\n",
       "  'prepared_value': None,\n",
       "  'prepared_100g': None,\n",
       "  'prepared_serving': None,\n",
       "  'prepared_unit': None},\n",
       " {'name': 'cholesterol',\n",
       "  'value': 23.0,\n",
       "  '100g': 0.023,\n",
       "  'serving': 0.0149,\n",
       "  'unit': 'mg',\n",
       "  'prepared_value': None,\n",
       "  'prepared_100g': None,\n",
       "  'prepared_serving': None,\n",
       "  'prepared_unit': None},\n",
       " {'name': 'energy-kcal',\n",
       "  'value': 215.0,\n",
       "  '100g': 215.0,\n",
       "  'serving': 140.0,\n",
       "  'unit': 'kcal',\n",
       "  'prepared_value': None,\n",
       "  'prepared_100g': None,\n",
       "  'prepared_serving': None,\n",
       "  'prepared_unit': None},\n",
       " {'name': 'energy',\n",
       "  'value': 215.0,\n",
       "  '100g': 900.0,\n",
       "  'serving': 585.0,\n",
       "  'unit': 'kcal',\n",
       "  'prepared_value': None,\n",
       "  'prepared_100g': None,\n",
       "  'prepared_serving': None,\n",
       "  'prepared_unit': None},\n",
       " {'name': 'nova-group',\n",
       "  'value': None,\n",
       "  '100g': 4.0,\n",
       "  'serving': 4.0,\n",
       "  'unit': None,\n",
       "  'prepared_value': None,\n",
       "  'prepared_100g': None,\n",
       "  'prepared_serving': None,\n",
       "  'prepared_unit': None},\n",
       " {'name': 'saturated-fat',\n",
       "  'value': 5.38,\n",
       "  '100g': 5.38,\n",
       "  'serving': 3.5,\n",
       "  'unit': 'g',\n",
       "  'prepared_value': None,\n",
       "  'prepared_100g': None,\n",
       "  'prepared_serving': None,\n",
       "  'prepared_unit': None},\n",
       " {'name': 'fat',\n",
       "  'value': 9.23,\n",
       "  '100g': 9.23,\n",
       "  'serving': 6.0,\n",
       "  'unit': 'g',\n",
       "  'prepared_value': None,\n",
       "  'prepared_100g': None,\n",
       "  'prepared_serving': None,\n",
       "  'prepared_unit': None},\n",
       " {'name': 'sodium',\n",
       "  'value': 92.0,\n",
       "  '100g': 0.092,\n",
       "  'serving': 0.0598,\n",
       "  'unit': 'mg',\n",
       "  'prepared_value': None,\n",
       "  'prepared_100g': None,\n",
       "  'prepared_serving': None,\n",
       "  'prepared_unit': None},\n",
       " {'name': 'fiber',\n",
       "  'value': 0.0,\n",
       "  '100g': 0.0,\n",
       "  'serving': 0.0,\n",
       "  'unit': 'g',\n",
       "  'prepared_value': None,\n",
       "  'prepared_100g': None,\n",
       "  'prepared_serving': None,\n",
       "  'prepared_unit': None},\n",
       " {'name': 'calcium',\n",
       "  'value': 92.0,\n",
       "  '100g': 0.092,\n",
       "  'serving': 0.0598,\n",
       "  'unit': 'mg',\n",
       "  'prepared_value': None,\n",
       "  'prepared_100g': None,\n",
       "  'prepared_serving': None,\n",
       "  'prepared_unit': None},\n",
       " {'name': 'fruits-vegetables-nuts-estimate-from-ingredients',\n",
       "  'value': None,\n",
       "  '100g': 0.71022725,\n",
       "  'serving': 0.71022725,\n",
       "  'unit': None,\n",
       "  'prepared_value': None,\n",
       "  'prepared_100g': None,\n",
       "  'prepared_serving': None,\n",
       "  'prepared_unit': None},\n",
       " {'name': 'vitamin-a',\n",
       "  'value': 308.0,\n",
       "  '100g': '9.24E-5',\n",
       "  'serving': '6.01E-5',\n",
       "  'unit': 'IU',\n",
       "  'prepared_value': None,\n",
       "  'prepared_100g': None,\n",
       "  'prepared_serving': None,\n",
       "  'prepared_unit': None},\n",
       " {'name': 'vitamin-c',\n",
       "  'value': 0.0,\n",
       "  '100g': 0.0,\n",
       "  'serving': 0.0,\n",
       "  'unit': 'mg',\n",
       "  'prepared_value': None,\n",
       "  'prepared_100g': None,\n",
       "  'prepared_serving': None,\n",
       "  'prepared_unit': None},\n",
       " {'name': 'sugars',\n",
       "  'value': 21.54,\n",
       "  '100g': 21.54,\n",
       "  'serving': 14.0,\n",
       "  'unit': 'g',\n",
       "  'prepared_value': None,\n",
       "  'prepared_100g': None,\n",
       "  'prepared_serving': None,\n",
       "  'prepared_unit': None},\n",
       " {'name': 'fruits-vegetables-legumes-estimate-from-ingredients',\n",
       "  'value': None,\n",
       "  '100g': 0.71022725,\n",
       "  'serving': 0.71022725,\n",
       "  'unit': None,\n",
       "  'prepared_value': None,\n",
       "  'prepared_100g': None,\n",
       "  'prepared_serving': None,\n",
       "  'prepared_unit': None},\n",
       " {'name': 'carbohydrates',\n",
       "  'value': 30.77,\n",
       "  '100g': 30.77,\n",
       "  'serving': 20.0,\n",
       "  'unit': 'g',\n",
       "  'prepared_value': None,\n",
       "  'prepared_100g': None,\n",
       "  'prepared_serving': None,\n",
       "  'prepared_unit': None},\n",
       " {'name': 'nutrition-score-fr',\n",
       "  'value': None,\n",
       "  '100g': 14.0,\n",
       "  'serving': None,\n",
       "  'unit': None,\n",
       "  'prepared_value': None,\n",
       "  'prepared_100g': None,\n",
       "  'prepared_serving': None,\n",
       "  'prepared_unit': None}]"
      ]
     },
     "execution_count": 48,
     "metadata": {},
     "output_type": "execute_result"
    }
   ],
   "source": [
    "df_us.loc[2]['nutriments']"
   ]
  },
  {
   "cell_type": "code",
   "execution_count": null,
   "id": "d159f229-82e6-43b1-9a0b-308f121f46d3",
   "metadata": {},
   "outputs": [],
   "source": [
    "# Parse nutriments column to extract features per 100g\n",
    "\n",
    "# For example: carbohydrates_100g\n",
    "# \"Negative\" Components: energy, saturated fats, sugars, and salt/sodium.\n",
    "# \"Positive\" Components: proteins, fiber, and the percentage of fruits, vegetables, and nuts. ..."
   ]
  },
  {
   "cell_type": "code",
   "execution_count": null,
   "id": "a2446b77-2aea-401d-810f-5a8ea760fb62",
   "metadata": {},
   "outputs": [],
   "source": []
  },
  {
   "cell_type": "code",
   "execution_count": null,
   "id": "bce5a999-cdd8-4767-a62f-f8977a70a06f",
   "metadata": {},
   "outputs": [],
   "source": [
    "# Continue with feature store and feature groups ..."
   ]
  },
  {
   "cell_type": "code",
   "execution_count": null,
   "id": "cd56dc79-eac4-470d-8dd0-da4f6858a9f4",
   "metadata": {},
   "outputs": [],
   "source": []
  },
  {
   "cell_type": "code",
   "execution_count": null,
   "id": "77f9a433-86b3-42d2-a4e9-8716021ffea0",
   "metadata": {},
   "outputs": [],
   "source": []
  }
 ],
 "metadata": {
  "kernelspec": {
   "display_name": "Python 3 (ipykernel)",
   "language": "python",
   "name": "python3"
  },
  "language_info": {
   "codemirror_mode": {
    "name": "ipython",
    "version": 3
   },
   "file_extension": ".py",
   "mimetype": "text/x-python",
   "name": "python",
   "nbconvert_exporter": "python",
   "pygments_lexer": "ipython3",
   "version": "3.12.9"
  }
 },
 "nbformat": 4,
 "nbformat_minor": 5
}
