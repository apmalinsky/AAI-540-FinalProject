{
 "cells": [
  {
   "cell_type": "markdown",
   "id": "e6fce500-5617-4f23-a908-62d2e1a58698",
   "metadata": {},
   "source": [
    "# Project Overview\n",
    "TODO: \n",
    "\n",
    "-add descriptions\n",
    "\n",
    "-dataset information\n",
    "\n",
    "-setup global notebook variables like lab role, and boto session\n"
   ]
  },
  {
   "cell_type": "code",
   "execution_count": 5,
   "id": "a6a16598-d91b-4571-8ae6-ce24052279e9",
   "metadata": {
    "execution": {
     "iopub.execute_input": "2025-10-17T04:11:55.140737Z",
     "iopub.status.busy": "2025-10-17T04:11:55.140433Z",
     "iopub.status.idle": "2025-10-17T04:11:56.311756Z",
     "shell.execute_reply": "2025-10-17T04:11:56.311033Z",
     "shell.execute_reply.started": "2025-10-17T04:11:55.140711Z"
    }
   },
   "outputs": [
    {
     "name": "stdout",
     "output_type": "stream",
     "text": [
      "{\n",
      "    \"MonitoringScheduleSummaries\": []\n",
      "}\n"
     ]
    }
   ],
   "source": [
    "!aws sagemaker list-monitoring-schedules"
   ]
  },
  {
   "cell_type": "code",
   "execution_count": 4,
   "id": "2e3a5486-b653-4a0f-8f6b-b837f60e8be4",
   "metadata": {
    "execution": {
     "iopub.execute_input": "2025-10-17T04:11:51.921273Z",
     "iopub.status.busy": "2025-10-17T04:11:51.920919Z",
     "iopub.status.idle": "2025-10-17T04:11:53.274918Z",
     "shell.execute_reply": "2025-10-17T04:11:53.273965Z",
     "shell.execute_reply.started": "2025-10-17T04:11:51.921243Z"
    }
   },
   "outputs": [],
   "source": [
    "!aws sagemaker delete-monitoring-schedule --monitoring-schedule-name 'nutriscore-data-quality-schedule-2025-10-17-03-57-29'"
   ]
  },
  {
   "cell_type": "code",
   "execution_count": 1,
   "id": "23ac0ee3-e5e1-49db-9afc-4225e219a034",
   "metadata": {
    "execution": {
     "iopub.execute_input": "2025-10-11T21:06:40.262715Z",
     "iopub.status.busy": "2025-10-11T21:06:40.262458Z",
     "iopub.status.idle": "2025-10-11T21:06:40.265900Z",
     "shell.execute_reply": "2025-10-11T21:06:40.265194Z",
     "shell.execute_reply.started": "2025-10-11T21:06:40.262694Z"
    }
   },
   "outputs": [],
   "source": [
    "# # Setup boto and sagemaker session\n",
    "# sess = sagemaker.Session()\n",
    "# bucket = sess.default_bucket()\n",
    "# role = sagemaker.get_execution_role()\n",
    "# region = boto3.Session().region_name\n",
    "# print('Boto and Sagemaker Sessions Initialized...\\nBucket: {0}\\nRegion: {1}'.format(bucket, region))"
   ]
  },
  {
   "cell_type": "code",
   "execution_count": 16,
   "id": "ed638609-31ce-4f23-8318-7d316408ec2f",
   "metadata": {
    "execution": {
     "iopub.execute_input": "2025-10-18T00:35:44.991230Z",
     "iopub.status.busy": "2025-10-18T00:35:44.990894Z",
     "iopub.status.idle": "2025-10-18T00:35:46.336263Z",
     "shell.execute_reply": "2025-10-18T00:35:46.335260Z",
     "shell.execute_reply.started": "2025-10-18T00:35:44.991202Z"
    }
   },
   "outputs": [],
   "source": [
    "# !aws sagemaker delete-monitoring-schedule --monitoring-schedule-name \"nutriscore-quality-monitoring-schedule-2025-10-17-20-56-05\""
   ]
  },
  {
   "cell_type": "code",
   "execution_count": 11,
   "id": "9ed772a2-61e2-4e71-b116-10a0807e49ec",
   "metadata": {
    "execution": {
     "iopub.execute_input": "2025-10-18T00:26:21.750594Z",
     "iopub.status.busy": "2025-10-18T00:26:21.750309Z",
     "iopub.status.idle": "2025-10-18T00:26:22.984253Z",
     "shell.execute_reply": "2025-10-18T00:26:22.983081Z",
     "shell.execute_reply.started": "2025-10-18T00:26:21.750571Z"
    }
   },
   "outputs": [],
   "source": [
    "# !aws sagemaker stop-processing-job --processing-job-name \"model-quality-monitoring-202510180000-e644c08f8312176f9f108cc5\""
   ]
  },
  {
   "cell_type": "code",
   "execution_count": 17,
   "id": "83413cc7-249d-4eb0-ad9e-340a8029c3b1",
   "metadata": {
    "execution": {
     "iopub.execute_input": "2025-10-18T00:35:52.675722Z",
     "iopub.status.busy": "2025-10-18T00:35:52.675384Z",
     "iopub.status.idle": "2025-10-18T00:35:54.177170Z",
     "shell.execute_reply": "2025-10-18T00:35:54.175973Z",
     "shell.execute_reply.started": "2025-10-18T00:35:52.675694Z"
    }
   },
   "outputs": [
    {
     "name": "stdout",
     "output_type": "stream",
     "text": [
      "{\n",
      "    \"MonitoringScheduleSummaries\": []\n",
      "}\n"
     ]
    }
   ],
   "source": [
    "!aws sagemaker list-monitoring-schedules\n",
    "# !aws sagemaker delete-monitoring-schedule --monitoring-schedule-name \"nutriscore-data-quality-schedule-2025-10-17-17-57-23\"\n",
    "# !aws sagemaker list-monitoring-executions --monitoring-schedule-name \"nutriscore-quality-monitoring-schedule-2025-10-17-20-56-05\" --status-equals InProgress\n",
    "# !aws sagemaker stop-processing-job --processing-job-name \"model-quality-job-definition-2025-10-17-20-56-05-802\""
   ]
  },
  {
   "cell_type": "code",
   "execution_count": null,
   "id": "78167862-0d1a-4027-b990-e98be4e49193",
   "metadata": {},
   "outputs": [],
   "source": []
  }
 ],
 "metadata": {
  "kernelspec": {
   "display_name": "Python 3 (ipykernel)",
   "language": "python",
   "name": "python3"
  },
  "language_info": {
   "codemirror_mode": {
    "name": "ipython",
    "version": 3
   },
   "file_extension": ".py",
   "mimetype": "text/x-python",
   "name": "python",
   "nbconvert_exporter": "python",
   "pygments_lexer": "ipython3",
   "version": "3.12.9"
  }
 },
 "nbformat": 4,
 "nbformat_minor": 5
}
