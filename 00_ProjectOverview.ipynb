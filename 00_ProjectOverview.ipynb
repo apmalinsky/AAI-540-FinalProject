{
 "cells": [
  {
   "cell_type": "markdown",
   "id": "e6fce500-5617-4f23-a908-62d2e1a58698",
   "metadata": {},
   "source": [
    "# Project Overview\n",
    "TODO: \n",
    "\n",
    "-add descriptions\n",
    "\n",
    "-dataset information\n",
    "\n",
    "-setup global notebook variables like lab role, and boto session\n"
   ]
  },
  {
   "cell_type": "code",
   "execution_count": null,
   "id": "a6a16598-d91b-4571-8ae6-ce24052279e9",
   "metadata": {},
   "outputs": [],
   "source": []
  },
  {
   "cell_type": "code",
   "execution_count": null,
   "id": "2e3a5486-b653-4a0f-8f6b-b837f60e8be4",
   "metadata": {},
   "outputs": [],
   "source": []
  },
  {
   "cell_type": "code",
   "execution_count": 1,
   "id": "23ac0ee3-e5e1-49db-9afc-4225e219a034",
   "metadata": {
    "execution": {
     "iopub.execute_input": "2025-10-11T21:06:40.262715Z",
     "iopub.status.busy": "2025-10-11T21:06:40.262458Z",
     "iopub.status.idle": "2025-10-11T21:06:40.265900Z",
     "shell.execute_reply": "2025-10-11T21:06:40.265194Z",
     "shell.execute_reply.started": "2025-10-11T21:06:40.262694Z"
    }
   },
   "outputs": [],
   "source": [
    "# # Setup boto and sagemaker session\n",
    "# sess = sagemaker.Session()\n",
    "# bucket = sess.default_bucket()\n",
    "# role = sagemaker.get_execution_role()\n",
    "# region = boto3.Session().region_name\n",
    "# print('Boto and Sagemaker Sessions Initialized...\\nBucket: {0}\\nRegion: {1}'.format(bucket, region))"
   ]
  },
  {
   "cell_type": "code",
   "execution_count": null,
   "id": "83413cc7-249d-4eb0-ad9e-340a8029c3b1",
   "metadata": {},
   "outputs": [],
   "source": []
  },
  {
   "cell_type": "code",
   "execution_count": null,
   "id": "78167862-0d1a-4027-b990-e98be4e49193",
   "metadata": {},
   "outputs": [],
   "source": []
  }
 ],
 "metadata": {
  "kernelspec": {
   "display_name": "Python 3 (ipykernel)",
   "language": "python",
   "name": "python3"
  },
  "language_info": {
   "codemirror_mode": {
    "name": "ipython",
    "version": 3
   },
   "file_extension": ".py",
   "mimetype": "text/x-python",
   "name": "python",
   "nbconvert_exporter": "python",
   "pygments_lexer": "ipython3",
   "version": "3.12.9"
  }
 },
 "nbformat": 4,
 "nbformat_minor": 5
}
