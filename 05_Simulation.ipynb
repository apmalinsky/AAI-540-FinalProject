{
 "cells": [
  {
   "cell_type": "code",
   "execution_count": 1,
   "id": "8a10df64-0242-46aa-b4c9-edc61e3336d2",
   "metadata": {
    "execution": {
     "iopub.execute_input": "2025-10-17T22:20:25.356014Z",
     "iopub.status.busy": "2025-10-17T22:20:25.355485Z",
     "iopub.status.idle": "2025-10-17T22:20:28.105320Z",
     "shell.execute_reply": "2025-10-17T22:20:28.104551Z",
     "shell.execute_reply.started": "2025-10-17T22:20:25.355982Z"
    }
   },
   "outputs": [
    {
     "name": "stdout",
     "output_type": "stream",
     "text": [
      "sagemaker.config INFO - Not applying SDK defaults from location: /etc/xdg/sagemaker/config.yaml\n",
      "sagemaker.config INFO - Not applying SDK defaults from location: /home/sagemaker-user/.config/sagemaker/config.yaml\n"
     ]
    }
   ],
   "source": [
    "# Import libraries\n",
    "from datetime import datetime, timedelta, timezone\n",
    "import json\n",
    "import uuid\n",
    "import time\n",
    "from threading import Thread\n",
    "import pandas as pd\n",
    "from sagemaker import get_execution_role, Session\n",
    "from sagemaker.s3 import S3Uploader\n",
    "from time import gmtime, strftime, sleep\n",
    "from tqdm.notebook import tqdm"
   ]
  },
  {
   "cell_type": "code",
   "execution_count": 2,
   "id": "a9be3c4a-8a8f-41a2-a980-12cf2a0d6e25",
   "metadata": {
    "execution": {
     "iopub.execute_input": "2025-10-17T22:20:28.107178Z",
     "iopub.status.busy": "2025-10-17T22:20:28.106788Z",
     "iopub.status.idle": "2025-10-17T22:20:29.580602Z",
     "shell.execute_reply": "2025-10-17T22:20:29.579737Z",
     "shell.execute_reply.started": "2025-10-17T22:20:28.107146Z"
    }
   },
   "outputs": [],
   "source": [
    "# Load variables from previous notebooks\n",
    "sagemaker_session = Session()\n",
    "role = get_execution_role()\n",
    "region = sagemaker_session.boto_region_name\n",
    "%store -r prod_scaled_path\n",
    "%store -r endpoint_name\n",
    "%store -r ground_truth_upload_path\n",
    "prod_scaled_df = pd.read_csv(prod_scaled_path)"
   ]
  },
  {
   "cell_type": "code",
   "execution_count": 3,
   "id": "8e22661f-0166-4002-a5c8-ff7d63ec80f7",
   "metadata": {
    "execution": {
     "iopub.execute_input": "2025-10-17T22:20:29.582002Z",
     "iopub.status.busy": "2025-10-17T22:20:29.581320Z",
     "iopub.status.idle": "2025-10-17T22:20:29.589376Z",
     "shell.execute_reply": "2025-10-17T22:20:29.588498Z",
     "shell.execute_reply.started": "2025-10-17T22:20:29.581972Z"
    }
   },
   "outputs": [
    {
     "data": {
      "text/plain": [
       "'xgb-nutriscore-monitor-2025-10-17-20-37-47'"
      ]
     },
     "execution_count": 3,
     "metadata": {},
     "output_type": "execute_result"
    }
   ],
   "source": [
    "endpoint_name"
   ]
  },
  {
   "cell_type": "code",
   "execution_count": 4,
   "id": "1691d524-7ec2-403d-8424-320ba27a7920",
   "metadata": {
    "execution": {
     "iopub.execute_input": "2025-10-17T22:20:29.591019Z",
     "iopub.status.busy": "2025-10-17T22:20:29.590571Z",
     "iopub.status.idle": "2025-10-17T22:20:29.596474Z",
     "shell.execute_reply": "2025-10-17T22:20:29.595550Z",
     "shell.execute_reply.started": "2025-10-17T22:20:29.590947Z"
    }
   },
   "outputs": [
    {
     "data": {
      "text/plain": [
       "'s3://sagemaker-us-east-1-654654380268/sagemaker/FoodLens-ModelQualityMonitor-2025-10-17-20-37-43/ground_truth_data/2025-10-17-20-37-43'"
      ]
     },
     "execution_count": 4,
     "metadata": {},
     "output_type": "execute_result"
    }
   ],
   "source": [
    "ground_truth_upload_path"
   ]
  },
  {
   "cell_type": "code",
   "execution_count": null,
   "id": "94919cfd-dd27-4833-8ee2-2ee24ab7c906",
   "metadata": {},
   "outputs": [],
   "source": [
    "# !aws sagemaker list-monitoring-schedules\n",
    "# !aws sagemaker delete-monitoring-schedule --monitoring-schedule-name \"nutriscore-data-quality-schedule-2025-10-17-17-57-23\"\n",
    "# !aws sagemaker list-monitoring-executions --monitoring-schedule-name \"nutriscore-data-quality-schedule-2025-10-17-17-57-23\" --status-equals InProgress\n",
    "# !aws sagemaker stop-processing-job --processing-job-name \"model-monitoring-202510172000-9b5da9b1cb51000db3fa4ea8\""
   ]
  },
  {
   "cell_type": "code",
   "execution_count": 6,
   "id": "d025d3b6-31df-4e12-b38a-1dbc7925bbfa",
   "metadata": {
    "execution": {
     "iopub.execute_input": "2025-10-17T22:20:29.605317Z",
     "iopub.status.busy": "2025-10-17T22:20:29.605086Z",
     "iopub.status.idle": "2025-10-17T22:20:29.614393Z",
     "shell.execute_reply": "2025-10-17T22:20:29.613702Z",
     "shell.execute_reply.started": "2025-10-17T22:20:29.605299Z"
    }
   },
   "outputs": [],
   "source": [
    "# Helper function for prod data simulation\n",
    "def upload_ground_truth(records, upload_path, timestamp):\n",
    "    # Convert records to JSON-lines format\n",
    "    ground_truth_data_to_upload = \"\\n\".join([json.dumps(r) for r in records])\n",
    "    \n",
    "    # Set S3 path based on timestamp\n",
    "    target_s3_uri = f\"{upload_path}/{timestamp:%Y/%m/%d/%H}/ground_truth_{timestamp:%M%S}.jsonl\"\n",
    "    \n",
    "    print(f\"  Uploading {len(records)} ground truth records to {target_s3_uri}\")\n",
    "    S3Uploader.upload_string_as_file_body(ground_truth_data_to_upload, target_s3_uri)\n",
    "\n",
    "# Define live traffic simulation\n",
    "def simulate_live_traffic_for_duration(\n",
    "    endpoint_name,\n",
    "    sagemaker_session,\n",
    "    prod_df,\n",
    "    gt_upload_path,\n",
    "    duration_hours=2,\n",
    "    sample_size=500,        \n",
    "    wait_time_seconds=600 \n",
    "):\n",
    "    print(f\"--- Starting Traffic Simulation for {duration_hours} hours ---\")\n",
    "    print(f\"Sending {sample_size} records every {wait_time_seconds / 60} minutes.\")\n",
    "    \n",
    "    # Get the start time and calculate the total duration in seconds\n",
    "    start_time = time.time()\n",
    "    duration_seconds = duration_hours * 3600\n",
    "\n",
    "    # Loop until kernel restart or reached max duration\n",
    "    while time.time() - start_time < duration_seconds:\n",
    "        try:\n",
    "            print(f\"\\n--- Generating new data batch ---\")\n",
    "            \n",
    "            sample_traffic_df = prod_df.sample(n=sample_size)\n",
    "            ground_truth_records_for_this_batch = []\n",
    "            current_timestamp = datetime.utcnow()\n",
    "\n",
    "            for index, row in tqdm(sample_traffic_df.iterrows(), total=sample_traffic_df.shape[0]):\n",
    "                 # First column is the label (true score) and the rest are features\n",
    "                true_label = row.iloc[0]\n",
    "                features = row.iloc[1:]\n",
    "                features_payload = \",\".join(features.astype(str).values) + \"\\n\"\n",
    "                inference_id = str(uuid.uuid4()) # generate unique id\n",
    "                sagemaker_session.sagemaker_runtime_client.invoke_endpoint(\n",
    "                    EndpointName=endpoint_name,\n",
    "                    ContentType=\"text/csv\",\n",
    "                    Body=features_payload,\n",
    "                    InferenceId=inference_id,\n",
    "                )\n",
    "                ground_truth_records_for_this_batch.append({\n",
    "                    \"groundTruthData\": {\"data\": str(true_label), \"encoding\": \"CSV\"},\n",
    "                    \"eventMetadata\": {\"eventId\": inference_id},\n",
    "                    \"eventVersion\": \"0\",\n",
    "                })\n",
    "            \n",
    "            print(f\"Sent {sample_size} predictions to endpoint.\")\n",
    "\n",
    "            # Wait 5 minutes to give the SageMaker Data Capture service\n",
    "            # time to write its files to the correct S3 hourly folder.\n",
    "            print(\"Waiting 5 minutes for data capture to land in S3...\")\n",
    "            sleep(300) \n",
    "            \n",
    "            upload_ground_truth(\n",
    "                ground_truth_records_for_this_batch,\n",
    "                gt_upload_path,\n",
    "                current_timestamp\n",
    "            )\n",
    "            \n",
    "            # Check if the next wait period would exceed the duration\n",
    "            if (time.time() - start_time + wait_time_seconds) > duration_seconds:\n",
    "                print(\"\\nDuration reached. Stopping simulation after this batch.\")\n",
    "                break\n",
    "\n",
    "            print(f\"Batch complete. Waiting {wait_time_seconds / 60} minutes...\")\n",
    "            sleep(wait_time_seconds)\n",
    "\n",
    "        except Exception as e:\n",
    "            print(f\"Error in simulation loop: {e}\")\n",
    "            print(\"Restarting loop after a 1-minute wait...\")\n",
    "            sleep(60)\n",
    "            \n",
    "    print(f\"\\n--- Simulation finished after approximately {duration_hours} hours. ---\")"
   ]
  },
  {
   "cell_type": "code",
   "execution_count": 7,
   "id": "197d5d09-cc2a-4658-a572-4459a5f6a462",
   "metadata": {
    "execution": {
     "iopub.execute_input": "2025-10-17T22:20:29.615422Z",
     "iopub.status.busy": "2025-10-17T22:20:29.615125Z",
     "iopub.status.idle": "2025-10-17T22:20:29.624459Z",
     "shell.execute_reply": "2025-10-17T22:20:29.622726Z",
     "shell.execute_reply.started": "2025-10-17T22:20:29.615400Z"
    }
   },
   "outputs": [
    {
     "name": "stdout",
     "output_type": "stream",
     "text": [
      "--- Starting Traffic Simulation for 2 hours ---\n",
      "Sending 500 records every 10.0 minutes.\n",
      "\n",
      "[2025-10-17 22:20:29.619650] --- Generating new data batch ---\n"
     ]
    },
    {
     "name": "stderr",
     "output_type": "stream",
     "text": [
      "/tmp/ipykernel_11576/1785191642.py:25: DeprecationWarning: datetime.datetime.utcnow() is deprecated and scheduled for removal in a future version. Use timezone-aware objects to represent datetimes in UTC: datetime.datetime.now(datetime.UTC).\n",
      "  current_timestamp = datetime.utcnow()\n"
     ]
    },
    {
     "name": "stdout",
     "output_type": "stream",
     "text": [
      "Sent 500 predictions to endpoint.\n",
      "Waiting 5 minutes for data capture to land in S3...\n",
      "  Uploading 500 ground truth records to s3://sagemaker-us-east-1-654654380268/sagemaker/FoodLens-ModelQualityMonitor-2025-10-17-20-37-43/ground_truth_data/2025-10-17-20-37-43/2025/10/17/22/ground_truth_2029.jsonl\n",
      "Batch complete. Waiting 10.0 minutes...\n",
      "\n",
      "[2025-10-17 22:35:53.485242] --- Generating new data batch ---\n"
     ]
    },
    {
     "name": "stderr",
     "output_type": "stream",
     "text": [
      "/tmp/ipykernel_11576/1785191642.py:25: DeprecationWarning: datetime.datetime.utcnow() is deprecated and scheduled for removal in a future version. Use timezone-aware objects to represent datetimes in UTC: datetime.datetime.now(datetime.UTC).\n",
      "  current_timestamp = datetime.utcnow()\n"
     ]
    },
    {
     "name": "stdout",
     "output_type": "stream",
     "text": [
      "Sent 500 predictions to endpoint.\n",
      "Waiting 5 minutes for data capture to land in S3...\n",
      "  Uploading 500 ground truth records to s3://sagemaker-us-east-1-654654380268/sagemaker/FoodLens-ModelQualityMonitor-2025-10-17-20-37-43/ground_truth_data/2025-10-17-20-37-43/2025/10/17/22/ground_truth_3553.jsonl\n",
      "Batch complete. Waiting 10.0 minutes...\n",
      "\n",
      "[2025-10-17 22:51:19.538822] --- Generating new data batch ---\n"
     ]
    },
    {
     "name": "stderr",
     "output_type": "stream",
     "text": [
      "/tmp/ipykernel_11576/1785191642.py:25: DeprecationWarning: datetime.datetime.utcnow() is deprecated and scheduled for removal in a future version. Use timezone-aware objects to represent datetimes in UTC: datetime.datetime.now(datetime.UTC).\n",
      "  current_timestamp = datetime.utcnow()\n"
     ]
    },
    {
     "name": "stdout",
     "output_type": "stream",
     "text": [
      "Sent 500 predictions to endpoint.\n",
      "Waiting 5 minutes for data capture to land in S3...\n",
      "  Uploading 500 ground truth records to s3://sagemaker-us-east-1-654654380268/sagemaker/FoodLens-ModelQualityMonitor-2025-10-17-20-37-43/ground_truth_data/2025-10-17-20-37-43/2025/10/17/22/ground_truth_5119.jsonl\n",
      "Batch complete. Waiting 10.0 minutes...\n",
      "\n",
      "[2025-10-17 23:06:42.529266] --- Generating new data batch ---\n"
     ]
    },
    {
     "name": "stderr",
     "output_type": "stream",
     "text": [
      "/tmp/ipykernel_11576/1785191642.py:25: DeprecationWarning: datetime.datetime.utcnow() is deprecated and scheduled for removal in a future version. Use timezone-aware objects to represent datetimes in UTC: datetime.datetime.now(datetime.UTC).\n",
      "  current_timestamp = datetime.utcnow()\n"
     ]
    },
    {
     "name": "stdout",
     "output_type": "stream",
     "text": [
      "Sent 500 predictions to endpoint.\n",
      "Waiting 5 minutes for data capture to land in S3...\n",
      "  Uploading 500 ground truth records to s3://sagemaker-us-east-1-654654380268/sagemaker/FoodLens-ModelQualityMonitor-2025-10-17-20-37-43/ground_truth_data/2025-10-17-20-37-43/2025/10/17/23/ground_truth_0642.jsonl\n",
      "Batch complete. Waiting 10.0 minutes...\n",
      "\n",
      "[2025-10-17 23:22:07.935290] --- Generating new data batch ---\n"
     ]
    },
    {
     "name": "stderr",
     "output_type": "stream",
     "text": [
      "/tmp/ipykernel_11576/1785191642.py:25: DeprecationWarning: datetime.datetime.utcnow() is deprecated and scheduled for removal in a future version. Use timezone-aware objects to represent datetimes in UTC: datetime.datetime.now(datetime.UTC).\n",
      "  current_timestamp = datetime.utcnow()\n"
     ]
    },
    {
     "name": "stdout",
     "output_type": "stream",
     "text": [
      "Sent 500 predictions to endpoint.\n",
      "Waiting 5 minutes for data capture to land in S3...\n",
      "  Uploading 500 ground truth records to s3://sagemaker-us-east-1-654654380268/sagemaker/FoodLens-ModelQualityMonitor-2025-10-17-20-37-43/ground_truth_data/2025-10-17-20-37-43/2025/10/17/23/ground_truth_2207.jsonl\n",
      "Batch complete. Waiting 10.0 minutes...\n",
      "\n",
      "[2025-10-17 23:37:32.397547] --- Generating new data batch ---\n"
     ]
    },
    {
     "name": "stderr",
     "output_type": "stream",
     "text": [
      "/tmp/ipykernel_11576/1785191642.py:25: DeprecationWarning: datetime.datetime.utcnow() is deprecated and scheduled for removal in a future version. Use timezone-aware objects to represent datetimes in UTC: datetime.datetime.now(datetime.UTC).\n",
      "  current_timestamp = datetime.utcnow()\n"
     ]
    },
    {
     "name": "stdout",
     "output_type": "stream",
     "text": [
      "Sent 500 predictions to endpoint.\n",
      "Waiting 5 minutes for data capture to land in S3...\n",
      "  Uploading 500 ground truth records to s3://sagemaker-us-east-1-654654380268/sagemaker/FoodLens-ModelQualityMonitor-2025-10-17-20-37-43/ground_truth_data/2025-10-17-20-37-43/2025/10/17/23/ground_truth_3732.jsonl\n",
      "Batch complete. Waiting 10.0 minutes...\n",
      "\n",
      "[2025-10-17 23:52:56.251426] --- Generating new data batch ---\n"
     ]
    },
    {
     "name": "stderr",
     "output_type": "stream",
     "text": [
      "/tmp/ipykernel_11576/1785191642.py:25: DeprecationWarning: datetime.datetime.utcnow() is deprecated and scheduled for removal in a future version. Use timezone-aware objects to represent datetimes in UTC: datetime.datetime.now(datetime.UTC).\n",
      "  current_timestamp = datetime.utcnow()\n"
     ]
    },
    {
     "name": "stdout",
     "output_type": "stream",
     "text": [
      "Sent 500 predictions to endpoint.\n",
      "Waiting 5 minutes for data capture to land in S3...\n",
      "  Uploading 500 ground truth records to s3://sagemaker-us-east-1-654654380268/sagemaker/FoodLens-ModelQualityMonitor-2025-10-17-20-37-43/ground_truth_data/2025-10-17-20-37-43/2025/10/17/23/ground_truth_5256.jsonl\n",
      "Batch complete. Waiting 10.0 minutes...\n",
      "\n",
      "[2025-10-18 00:08:21.837767] --- Generating new data batch ---\n"
     ]
    },
    {
     "name": "stderr",
     "output_type": "stream",
     "text": [
      "/tmp/ipykernel_11576/1785191642.py:25: DeprecationWarning: datetime.datetime.utcnow() is deprecated and scheduled for removal in a future version. Use timezone-aware objects to represent datetimes in UTC: datetime.datetime.now(datetime.UTC).\n",
      "  current_timestamp = datetime.utcnow()\n"
     ]
    },
    {
     "name": "stdout",
     "output_type": "stream",
     "text": [
      "Sent 500 predictions to endpoint.\n",
      "Waiting 5 minutes for data capture to land in S3...\n",
      "  Uploading 500 ground truth records to s3://sagemaker-us-east-1-654654380268/sagemaker/FoodLens-ModelQualityMonitor-2025-10-17-20-37-43/ground_truth_data/2025-10-17-20-37-43/2025/10/18/00/ground_truth_0821.jsonl\n",
      "\n",
      "Duration reached. Stopping simulation after this batch.\n",
      "\n",
      "--- Simulation finished after approximately 2 hours. ---\n"
     ]
    }
   ],
   "source": [
    "# Start the simulation in a background thread\n",
    "simulation_thread = Thread(\n",
    "    target=simulate_live_traffic_for_duration,\n",
    "    args=(\n",
    "        endpoint_name,\n",
    "        sagemaker_session,\n",
    "        prod_scaled_df,\n",
    "        ground_truth_upload_path,\n",
    "        2 # hours duration for simulation\n",
    "    )\n",
    ")\n",
    "simulation_thread.start()"
   ]
  }
 ],
 "metadata": {
  "kernelspec": {
   "display_name": "Python 3 (ipykernel)",
   "language": "python",
   "name": "python3"
  },
  "language_info": {
   "codemirror_mode": {
    "name": "ipython",
    "version": 3
   },
   "file_extension": ".py",
   "mimetype": "text/x-python",
   "name": "python",
   "nbconvert_exporter": "python",
   "pygments_lexer": "ipython3",
   "version": "3.12.9"
  }
 },
 "nbformat": 4,
 "nbformat_minor": 5
}
