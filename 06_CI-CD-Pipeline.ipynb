{
 "cells": [
  {
   "cell_type": "markdown",
   "id": "3bb34fe7-7692-4530-9343-7b618933aa7f",
   "metadata": {},
   "source": [
    "# CI-CD Pipeline"
   ]
  },
  {
   "cell_type": "code",
   "execution_count": 26,
   "id": "aa68de26-f6f9-4710-b98f-f2ea5f7ef977",
   "metadata": {
    "execution": {
     "iopub.execute_input": "2025-10-16T20:52:24.929519Z",
     "iopub.status.busy": "2025-10-16T20:52:24.929242Z",
     "iopub.status.idle": "2025-10-16T20:52:25.254833Z",
     "shell.execute_reply": "2025-10-16T20:52:25.254108Z",
     "shell.execute_reply.started": "2025-10-16T20:52:24.929499Z"
    }
   },
   "outputs": [],
   "source": [
    "# Import libraries\n",
    "import sys\n",
    "import boto3\n",
    "import sagemaker\n",
    "from sagemaker.workflow.pipeline_context import PipelineSession\n",
    "from sagemaker.workflow.parameters import (\n",
    "    ParameterInteger,\n",
    "    ParameterString,\n",
    "    ParameterFloat,\n",
    ")\n",
    "from sagemaker.sklearn.processing import SKLearnProcessor\n",
    "from sagemaker.workflow.steps import ProcessingStep\n",
    "from sagemaker.processing import ProcessingInput, ProcessingOutput\n",
    "from sagemaker.estimator import Estimator\n",
    "from sagemaker.inputs import TrainingInput\n",
    "from sagemaker.workflow.steps import TrainingStep\n",
    "from sagemaker.processing import ScriptProcessor\n",
    "from sagemaker.workflow.properties import PropertyFile\n",
    "from sagemaker.model import Model\n",
    "from sagemaker.inputs import CreateModelInput\n",
    "from sagemaker.workflow.model_step import ModelStep\n",
    "from sagemaker.transformer import Transformer\n",
    "from sagemaker.inputs import TransformInput\n",
    "from sagemaker.workflow.steps import TransformStep\n",
    "from sagemaker.model_metrics import MetricsSource, ModelMetrics\n",
    "from sagemaker.workflow.fail_step import FailStep\n",
    "from sagemaker.workflow.functions import Join\n",
    "from sagemaker.workflow.conditions import ConditionLessThanOrEqualTo\n",
    "from sagemaker.workflow.condition_step import ConditionStep\n",
    "from sagemaker.workflow.functions import JsonGet\n",
    "from sagemaker.workflow.pipeline import Pipeline\n",
    "from pprint import pprint\n",
    "import time\n",
    "import json\n",
    "from sagemaker.lineage.visualizer import LineageTableVisualizer\n",
    "\n",
    "sagemaker_session = sagemaker.session.Session()\n",
    "region = sagemaker_session.boto_region_name\n",
    "role = sagemaker.get_execution_role()\n",
    "pipeline_session = PipelineSession()\n",
    "bucket = sagemaker_session.default_bucket()\n",
    "\n",
    "base_dir = \"/opt/ml/processing\"\n",
    "instance_type = \"ml.m5.xlarge\"\n",
    "model_package_group_name = \"NutriscoreModelPackageGroupName\""
   ]
  },
  {
   "cell_type": "code",
   "execution_count": 2,
   "id": "d05a2ea7-f9d5-4e3b-9a1b-8729c28e1e13",
   "metadata": {
    "execution": {
     "iopub.execute_input": "2025-10-16T20:17:50.385050Z",
     "iopub.status.busy": "2025-10-16T20:17:50.384774Z",
     "iopub.status.idle": "2025-10-16T20:17:50.388491Z",
     "shell.execute_reply": "2025-10-16T20:17:50.387606Z",
     "shell.execute_reply.started": "2025-10-16T20:17:50.385028Z"
    }
   },
   "outputs": [],
   "source": [
    "# Set dataset S3 paths\n",
    "input_data_uri = f\"s3://{bucket}/food_us_subset_100k/\"\n",
    "batch_data_uri = f\"s3://{bucket}/nutriscore-prediction-xgboost/test/test_features_only.csv\""
   ]
  },
  {
   "cell_type": "markdown",
   "id": "3d35b26f-1c62-44f9-afb9-8722ae6f36c7",
   "metadata": {},
   "source": [
    "## Define Parameters to Parametrize Pipeline Execution"
   ]
  },
  {
   "cell_type": "code",
   "execution_count": 3,
   "id": "0d753512-b121-48a5-862e-83d648ef2a57",
   "metadata": {
    "execution": {
     "iopub.execute_input": "2025-10-16T20:18:11.476978Z",
     "iopub.status.busy": "2025-10-16T20:18:11.476699Z",
     "iopub.status.idle": "2025-10-16T20:18:11.481100Z",
     "shell.execute_reply": "2025-10-16T20:18:11.480394Z",
     "shell.execute_reply.started": "2025-10-16T20:18:11.476956Z"
    }
   },
   "outputs": [],
   "source": [
    "# Define parameters\n",
    "processing_instance_count = ParameterInteger(name=\"ProcessingInstanceCount\", default_value=1)\n",
    "instance_type = ParameterString(name=\"TrainingInstanceType\", default_value=instance_type)\n",
    "model_approval_status = ParameterString(\n",
    "    name=\"ModelApprovalStatus\", default_value=\"PendingManualApproval\"\n",
    ")\n",
    "input_data = ParameterString(\n",
    "    name=\"InputData\",\n",
    "    default_value=input_data_uri,\n",
    ")\n",
    "batch_data = ParameterString(\n",
    "    name=\"BatchData\",\n",
    "    default_value=batch_data_uri\n",
    ")\n",
    "rmse_threshold = ParameterFloat(name=\"RmseThreshold\", default_value=2.0)"
   ]
  },
  {
   "cell_type": "code",
   "execution_count": 4,
   "id": "cf59a81c-d235-42c0-a272-5af34c50361f",
   "metadata": {
    "execution": {
     "iopub.execute_input": "2025-10-16T20:18:13.804406Z",
     "iopub.status.busy": "2025-10-16T20:18:13.804113Z",
     "iopub.status.idle": "2025-10-16T20:18:13.830243Z",
     "shell.execute_reply": "2025-10-16T20:18:13.829577Z",
     "shell.execute_reply.started": "2025-10-16T20:18:13.804382Z"
    }
   },
   "outputs": [
    {
     "name": "stderr",
     "output_type": "stream",
     "text": [
      "WARNING:sagemaker.workflow.utilities:The input argument instance_type of function (sagemaker.image_uris.retrieve) is a pipeline variable (<class 'sagemaker.workflow.parameters.ParameterString'>), which is interpreted in pipeline execution time only. As the function needs to evaluate the argument value in SDK compile time, the default_value of this Parameter object will be used to override it. Please make sure the default_value is valid.\n",
      "INFO:sagemaker.image_uris:Defaulting to only available Python version: py3\n"
     ]
    }
   ],
   "source": [
    "# Define processing step\n",
    "sklearn_processor = SKLearnProcessor(\n",
    "    framework_version=\"1.2-1\",\n",
    "    instance_type=instance_type,\n",
    "    instance_count=processing_instance_count,\n",
    "    base_job_name=\"sklearn-nutriscore-process\",\n",
    "    role=role,\n",
    "    sagemaker_session=pipeline_session,\n",
    ")"
   ]
  },
  {
   "cell_type": "code",
   "execution_count": 5,
   "id": "fda6ebaf-cc58-45e1-9171-ce95586bfe08",
   "metadata": {
    "execution": {
     "iopub.execute_input": "2025-10-16T20:18:15.694451Z",
     "iopub.status.busy": "2025-10-16T20:18:15.694118Z",
     "iopub.status.idle": "2025-10-16T20:18:15.701337Z",
     "shell.execute_reply": "2025-10-16T20:18:15.700446Z",
     "shell.execute_reply.started": "2025-10-16T20:18:15.694426Z"
    }
   },
   "outputs": [
    {
     "name": "stderr",
     "output_type": "stream",
     "text": [
      "/opt/conda/lib/python3.12/site-packages/sagemaker/workflow/pipeline_context.py:332: UserWarning: Running within a PipelineSession, there will be No Wait, No Logs, and No Job being started.\n",
      "  warnings.warn(\n"
     ]
    }
   ],
   "source": [
    "# Run the preprocessing script\n",
    "processor_args = sklearn_processor.run(\n",
    "    inputs=[\n",
    "        ProcessingInput(source=input_data, destination=f\"{base_dir}/input\"),\n",
    "    ],\n",
    "    outputs=[\n",
    "        ProcessingOutput(output_name=\"train\", source=f\"{base_dir}/train\"),\n",
    "        ProcessingOutput(output_name=\"validation\", source=f\"{base_dir}/validation\"),\n",
    "        ProcessingOutput(output_name=\"test\", source=f\"{base_dir}/test\"),\n",
    "    ],\n",
    "    code=\"utils/preprocess_nutriscore.py\",\n",
    "    arguments=[\"--input-path\", \"/opt/ml/processing/input\"],\n",
    ")\n",
    "\n",
    "step_process = ProcessingStep(name=\"NutriscoreProcess\", step_args=processor_args)"
   ]
  },
  {
   "cell_type": "markdown",
   "id": "d45bd4f4-8deb-4950-afd2-ea89942d3ecb",
   "metadata": {},
   "source": [
    "## Define a Training Step to Train a Model"
   ]
  },
  {
   "cell_type": "code",
   "execution_count": 6,
   "id": "a43a4634-dee9-4685-afd1-831b4a8449f7",
   "metadata": {
    "execution": {
     "iopub.execute_input": "2025-10-16T20:18:18.254834Z",
     "iopub.status.busy": "2025-10-16T20:18:18.254570Z",
     "iopub.status.idle": "2025-10-16T20:18:18.455816Z",
     "shell.execute_reply": "2025-10-16T20:18:18.454730Z",
     "shell.execute_reply.started": "2025-10-16T20:18:18.254814Z"
    }
   },
   "outputs": [
    {
     "name": "stderr",
     "output_type": "stream",
     "text": [
      "WARNING:sagemaker.workflow.utilities:The input argument instance_type of function (sagemaker.image_uris.retrieve) is a pipeline variable (<class 'sagemaker.workflow.parameters.ParameterString'>), which is interpreted in pipeline execution time only. As the function needs to evaluate the argument value in SDK compile time, the default_value of this Parameter object will be used to override it. Please make sure the default_value is valid.\n",
      "INFO:sagemaker.image_uris:Ignoring unnecessary instance type: ml.m5.xlarge.\n",
      "INFO:sagemaker.telemetry.telemetry_logging:SageMaker Python SDK will collect telemetry to help us better understand our user's needs, diagnose issues, and deliver additional features.\n",
      "To opt out of telemetry, please disable via TelemetryOptOut parameter in SDK defaults config. For more information, refer to https://sagemaker.readthedocs.io/en/stable/overview.html#configuring-and-using-defaults-with-the-sagemaker-python-sdk.\n"
     ]
    }
   ],
   "source": [
    "# Define model training step\n",
    "model_path = f\"s3://{bucket}/NutriscoreTrain\"\n",
    "image_uri = sagemaker.image_uris.retrieve(\n",
    "    framework=\"xgboost\",\n",
    "    region=region,\n",
    "    version=\"1.7-1\",\n",
    "    instance_type=instance_type,\n",
    ")\n",
    "xgb_train = Estimator(\n",
    "    image_uri=image_uri,\n",
    "    instance_type=instance_type,\n",
    "    instance_count=1,\n",
    "    output_path=model_path,\n",
    "    role=role,\n",
    "    sagemaker_session=pipeline_session,\n",
    ")\n",
    "xgb_train.set_hyperparameters(\n",
    "    objective=\"reg:squarederror\",\n",
    "    max_depth=5,\n",
    "    eta=0.2,\n",
    "    gamma=4,\n",
    "    min_child_weight=6,\n",
    "    subsample=0.8,\n",
    "    verbosity=0,\n",
    "    num_round=100,\n",
    ")\n",
    "\n",
    "train_args = xgb_train.fit(\n",
    "    inputs={\n",
    "        \"train\": TrainingInput(\n",
    "            s3_data=step_process.properties.ProcessingOutputConfig.Outputs[\"train\"].S3Output.S3Uri,\n",
    "            content_type=\"text/csv\",\n",
    "        ),\n",
    "        \"validation\": TrainingInput(\n",
    "            s3_data=step_process.properties.ProcessingOutputConfig.Outputs[\n",
    "                \"validation\"\n",
    "            ].S3Output.S3Uri,\n",
    "            content_type=\"text/csv\",\n",
    "        ),\n",
    "    }\n",
    ")\n",
    "step_train = TrainingStep(\n",
    "    name=\"NutriscoreTrain\",\n",
    "    step_args=train_args,\n",
    ")"
   ]
  },
  {
   "cell_type": "markdown",
   "id": "0b337b17-7664-4ae0-8477-aa6f157a9ece",
   "metadata": {},
   "source": [
    "## Define a Model Evaluation Step"
   ]
  },
  {
   "cell_type": "code",
   "execution_count": 7,
   "id": "c7610149-bc02-4c4b-8ab3-3ac915c48bad",
   "metadata": {
    "execution": {
     "iopub.execute_input": "2025-10-16T20:18:23.095211Z",
     "iopub.status.busy": "2025-10-16T20:18:23.094931Z",
     "iopub.status.idle": "2025-10-16T20:18:23.100148Z",
     "shell.execute_reply": "2025-10-16T20:18:23.098840Z",
     "shell.execute_reply.started": "2025-10-16T20:18:23.095189Z"
    }
   },
   "outputs": [],
   "source": [
    "# Define model evaluator\n",
    "script_eval = ScriptProcessor(\n",
    "    image_uri=image_uri,\n",
    "    command=[\"python3\"],\n",
    "    instance_type=instance_type,\n",
    "    instance_count=1,\n",
    "    base_job_name=\"script-nutriscore-eval\",\n",
    "    role=role,\n",
    "    sagemaker_session=pipeline_session,\n",
    ")\n",
    "\n",
    "eval_args = script_eval.run(\n",
    "    inputs=[\n",
    "        ProcessingInput(\n",
    "            source=step_train.properties.ModelArtifacts.S3ModelArtifacts,\n",
    "            destination=\"/opt/ml/processing/model\",\n",
    "        ),\n",
    "        ProcessingInput(\n",
    "            source=step_process.properties.ProcessingOutputConfig.Outputs[\"test\"].S3Output.S3Uri,\n",
    "            destination=\"/opt/ml/processing/test\",\n",
    "        ),\n",
    "    ],\n",
    "    outputs=[\n",
    "        ProcessingOutput(output_name=\"evaluation\", source=\"/opt/ml/processing/evaluation\"),\n",
    "    ],\n",
    "    code=\"utils/evaluate_nutriscore.py\",\n",
    ")"
   ]
  },
  {
   "cell_type": "code",
   "execution_count": 8,
   "id": "ec0f4be8-60a8-4268-b8f7-a41ad9ade082",
   "metadata": {
    "execution": {
     "iopub.execute_input": "2025-10-16T20:18:24.889674Z",
     "iopub.status.busy": "2025-10-16T20:18:24.889397Z",
     "iopub.status.idle": "2025-10-16T20:18:24.893942Z",
     "shell.execute_reply": "2025-10-16T20:18:24.893029Z",
     "shell.execute_reply.started": "2025-10-16T20:18:24.889653Z"
    }
   },
   "outputs": [],
   "source": [
    "# Define evaluation step\n",
    "evaluation_report = PropertyFile(\n",
    "    name=\"EvaluationReport\", output_name=\"evaluation\", path=\"evaluation.json\"\n",
    ")\n",
    "step_eval = ProcessingStep(\n",
    "    name=\"NutriscoreEval\",\n",
    "    step_args=eval_args,\n",
    "    property_files=[evaluation_report],\n",
    ")"
   ]
  },
  {
   "cell_type": "markdown",
   "id": "301eb27a-30fa-4f99-84d1-4e2ad7c6b0eb",
   "metadata": {},
   "source": [
    "## Define a Create Model Step to Create a Model"
   ]
  },
  {
   "cell_type": "code",
   "execution_count": 9,
   "id": "e30d93ea-f2d2-458a-acc6-6107920a6eb8",
   "metadata": {
    "execution": {
     "iopub.execute_input": "2025-10-16T20:18:26.500876Z",
     "iopub.status.busy": "2025-10-16T20:18:26.500612Z",
     "iopub.status.idle": "2025-10-16T20:18:26.505587Z",
     "shell.execute_reply": "2025-10-16T20:18:26.504804Z",
     "shell.execute_reply.started": "2025-10-16T20:18:26.500855Z"
    }
   },
   "outputs": [],
   "source": [
    "# Define model step\n",
    "model = Model(\n",
    "    image_uri=image_uri,\n",
    "    model_data=step_train.properties.ModelArtifacts.S3ModelArtifacts,\n",
    "    sagemaker_session=pipeline_session,\n",
    "    role=role,\n",
    ")\n",
    "\n",
    "step_create_model = ModelStep(\n",
    "    name=\"NutriscoreCreateModel\",\n",
    "    step_args=model.create(instance_type=instance_type, accelerator_type=\"ml.eia1.medium\"),\n",
    ")"
   ]
  },
  {
   "cell_type": "markdown",
   "id": "cea3de2b-e45e-4482-8ae1-558ed579bf35",
   "metadata": {},
   "source": [
    "## Define a Transform Step to Perform Batch Transformation"
   ]
  },
  {
   "cell_type": "code",
   "execution_count": 16,
   "id": "12cf5728-b81d-4211-9ae4-a177514fe5b8",
   "metadata": {
    "execution": {
     "iopub.execute_input": "2025-10-16T20:21:18.644706Z",
     "iopub.status.busy": "2025-10-16T20:21:18.644429Z",
     "iopub.status.idle": "2025-10-16T20:21:18.673979Z",
     "shell.execute_reply": "2025-10-16T20:21:18.673391Z",
     "shell.execute_reply.started": "2025-10-16T20:21:18.644686Z"
    }
   },
   "outputs": [],
   "source": [
    "# Define batch transform step\n",
    "transformer = Transformer(\n",
    "    model_name=step_create_model.properties.ModelName,\n",
    "    instance_type=instance_type,\n",
    "    instance_count=1,\n",
    "    output_path=f\"s3://{bucket}/NutriscoreTransform\",\n",
    ")\n",
    "\n",
    "step_transform = TransformStep(\n",
    "    name=\"NutriscoreTransform\", \n",
    "    transformer=transformer, \n",
    "    inputs=TransformInput(data=batch_data, content_type=\"text/csv\")\n",
    ")"
   ]
  },
  {
   "cell_type": "markdown",
   "id": "5bfacf1e-06d7-4de0-be74-463a43483c34",
   "metadata": {},
   "source": [
    "## Define a Register Model Step to Create a Model Package"
   ]
  },
  {
   "cell_type": "code",
   "execution_count": 17,
   "id": "d7bf66a0-ae05-4398-9e51-f5a1cd0c0677",
   "metadata": {
    "execution": {
     "iopub.execute_input": "2025-10-16T20:21:22.980118Z",
     "iopub.status.busy": "2025-10-16T20:21:22.979836Z",
     "iopub.status.idle": "2025-10-16T20:21:23.060985Z",
     "shell.execute_reply": "2025-10-16T20:21:23.060262Z",
     "shell.execute_reply.started": "2025-10-16T20:21:22.980097Z"
    }
   },
   "outputs": [
    {
     "name": "stderr",
     "output_type": "stream",
     "text": [
      "WARNING:sagemaker.workflow.utilities:Popping out 'ProcessingJobName' from the pipeline definition by default since it will be overridden at pipeline execution time. Please utilize the PipelineDefinitionConfig to persist this field in the pipeline definition if desired.\n",
      "/opt/conda/lib/python3.12/site-packages/sagemaker/workflow/pipeline_context.py:332: UserWarning: Running within a PipelineSession, there will be No Wait, No Logs, and No Job being started.\n",
      "  warnings.warn(\n"
     ]
    }
   ],
   "source": [
    "# Define register model step\n",
    "model_metrics = ModelMetrics(\n",
    "    model_statistics=MetricsSource(\n",
    "        s3_uri=\"{}/evaluation.json\".format(\n",
    "            step_eval.arguments[\"ProcessingOutputConfig\"][\"Outputs\"][0][\"S3Output\"][\"S3Uri\"]\n",
    "        ),\n",
    "        content_type=\"application/json\",\n",
    "    )\n",
    ")\n",
    "\n",
    "register_args = model.register(\n",
    "    content_types=[\"text/csv\"],\n",
    "    response_types=[\"text/csv\"],\n",
    "    inference_instances=[\"ml.t2.medium\", instance_type],\n",
    "    transform_instances=[instance_type],\n",
    "    model_package_group_name=model_package_group_name,\n",
    "    approval_status=model_approval_status,\n",
    "    model_metrics=model_metrics,\n",
    ")\n",
    "step_register = ModelStep(name=\"NutriscoreRegisterModel\", step_args=register_args)"
   ]
  },
  {
   "cell_type": "markdown",
   "id": "77a6f21c-a507-4362-81f5-796e1c6a8c1a",
   "metadata": {},
   "source": [
    "## Define a Fail Step to Terminate the Pipeline Execution and Mark it as Failed"
   ]
  },
  {
   "cell_type": "code",
   "execution_count": 18,
   "id": "f9bc5fd3-8a2b-4cda-9750-266e1ac9099e",
   "metadata": {
    "execution": {
     "iopub.execute_input": "2025-10-16T20:21:25.019763Z",
     "iopub.status.busy": "2025-10-16T20:21:25.019251Z",
     "iopub.status.idle": "2025-10-16T20:21:25.023507Z",
     "shell.execute_reply": "2025-10-16T20:21:25.022581Z",
     "shell.execute_reply.started": "2025-10-16T20:21:25.019731Z"
    }
   },
   "outputs": [],
   "source": [
    "# Define fail step\n",
    "step_fail = FailStep(\n",
    "    name=\"NutriscoreRMSEFail\",\n",
    "    error_message=Join(on=\" \", values=[\"Execution failed due to RMSE >\", rmse_threshold]),\n",
    ")"
   ]
  },
  {
   "cell_type": "markdown",
   "id": "5293f35c-68f2-44ad-9719-471003bd9f80",
   "metadata": {},
   "source": [
    "## Define a Condition Step to Check Accuracy and Conditionally Create a Model and Run a Batch Transformation and Register a Model in the Model Registry, Or Terminate the Execution in Failed State"
   ]
  },
  {
   "cell_type": "code",
   "execution_count": 19,
   "id": "9243f77d-fc77-4244-8d8b-6476ddb6c237",
   "metadata": {
    "execution": {
     "iopub.execute_input": "2025-10-16T20:21:25.984778Z",
     "iopub.status.busy": "2025-10-16T20:21:25.984512Z",
     "iopub.status.idle": "2025-10-16T20:21:25.988316Z",
     "shell.execute_reply": "2025-10-16T20:21:25.987694Z",
     "shell.execute_reply.started": "2025-10-16T20:21:25.984759Z"
    }
   },
   "outputs": [],
   "source": [
    "# Define condition step\n",
    "cond_lte = ConditionLessThanOrEqualTo(\n",
    "    left=JsonGet(\n",
    "        step_name=step_eval.name,\n",
    "        property_file=evaluation_report,\n",
    "        json_path=\"regression_metrics.rmse.value\",\n",
    "    ),\n",
    "    right=rmse_threshold,\n",
    ")\n",
    "\n",
    "step_cond = ConditionStep(\n",
    "    name=\"NutriscoreRMSECond\",\n",
    "    conditions=[cond_lte],\n",
    "    if_steps=[step_register, step_create_model, step_transform],\n",
    "    else_steps=[step_fail],\n",
    ")"
   ]
  },
  {
   "cell_type": "markdown",
   "id": "f7a525c7-4835-4021-a57e-ecf6db531aa4",
   "metadata": {},
   "source": [
    "## Define a Pipeline of Parameters, Steps, and Conditions"
   ]
  },
  {
   "cell_type": "code",
   "execution_count": 20,
   "id": "331b9f70-b883-49ae-89ea-ca02a9936460",
   "metadata": {
    "execution": {
     "iopub.execute_input": "2025-10-16T20:21:27.809731Z",
     "iopub.status.busy": "2025-10-16T20:21:27.809438Z",
     "iopub.status.idle": "2025-10-16T20:21:28.117240Z",
     "shell.execute_reply": "2025-10-16T20:21:28.116549Z",
     "shell.execute_reply.started": "2025-10-16T20:21:27.809708Z"
    }
   },
   "outputs": [],
   "source": [
    "# Define pipeline\n",
    "pipeline_name = f\"NutriscorePipeline\"\n",
    "pipeline = Pipeline(\n",
    "    name=pipeline_name,\n",
    "    parameters=[\n",
    "        processing_instance_count,\n",
    "        instance_type,\n",
    "        model_approval_status,\n",
    "        input_data,\n",
    "        batch_data,\n",
    "        rmse_threshold,\n",
    "    ],\n",
    "    steps=[step_process, step_train, step_eval, step_cond],\n",
    ")"
   ]
  },
  {
   "cell_type": "markdown",
   "id": "1181f4fc-adf9-47fb-b6b9-5b93ccb611f3",
   "metadata": {},
   "source": [
    "## Submit Pipeline to SageMaker and Start Execution"
   ]
  },
  {
   "cell_type": "code",
   "execution_count": 21,
   "id": "acc86991-224c-4331-9040-4ec3615739a6",
   "metadata": {
    "execution": {
     "iopub.execute_input": "2025-10-16T20:21:28.859737Z",
     "iopub.status.busy": "2025-10-16T20:21:28.859198Z",
     "iopub.status.idle": "2025-10-16T20:21:29.901361Z",
     "shell.execute_reply": "2025-10-16T20:21:29.900724Z",
     "shell.execute_reply.started": "2025-10-16T20:21:28.859712Z"
    }
   },
   "outputs": [
    {
     "name": "stderr",
     "output_type": "stream",
     "text": [
      "WARNING:sagemaker.workflow.utilities:Popping out 'ProcessingJobName' from the pipeline definition by default since it will be overridden at pipeline execution time. Please utilize the PipelineDefinitionConfig to persist this field in the pipeline definition if desired.\n",
      "WARNING:sagemaker.workflow.utilities:Popping out 'TrainingJobName' from the pipeline definition by default since it will be overridden at pipeline execution time. Please utilize the PipelineDefinitionConfig to persist this field in the pipeline definition if desired.\n",
      "WARNING:sagemaker.workflow.utilities:Popping out 'ProcessingJobName' from the pipeline definition by default since it will be overridden at pipeline execution time. Please utilize the PipelineDefinitionConfig to persist this field in the pipeline definition if desired.\n",
      "WARNING:sagemaker.workflow._utils:Popping out 'CertifyForMarketplace' from the pipeline definition since it will be overridden in pipeline execution time.\n",
      "WARNING:sagemaker.workflow.utilities:Popping out 'ModelPackageName' from the pipeline definition by default since it will be overridden at pipeline execution time. Please utilize the PipelineDefinitionConfig to persist this field in the pipeline definition if desired.\n",
      "WARNING:sagemaker.workflow.utilities:Popping out 'ModelName' from the pipeline definition by default since it will be overridden at pipeline execution time. Please utilize the PipelineDefinitionConfig to persist this field in the pipeline definition if desired.\n",
      "WARNING:sagemaker.workflow.utilities:Popping out 'TransformJobName' from the pipeline definition by default since it will be overridden at pipeline execution time. Please utilize the PipelineDefinitionConfig to persist this field in the pipeline definition if desired.\n",
      "WARNING:sagemaker.workflow.utilities:Popping out 'ProcessingJobName' from the pipeline definition by default since it will be overridden at pipeline execution time. Please utilize the PipelineDefinitionConfig to persist this field in the pipeline definition if desired.\n",
      "WARNING:sagemaker.workflow.utilities:Popping out 'TrainingJobName' from the pipeline definition by default since it will be overridden at pipeline execution time. Please utilize the PipelineDefinitionConfig to persist this field in the pipeline definition if desired.\n",
      "WARNING:sagemaker.workflow.utilities:Popping out 'ProcessingJobName' from the pipeline definition by default since it will be overridden at pipeline execution time. Please utilize the PipelineDefinitionConfig to persist this field in the pipeline definition if desired.\n",
      "WARNING:sagemaker.workflow.utilities:Popping out 'ModelPackageName' from the pipeline definition by default since it will be overridden at pipeline execution time. Please utilize the PipelineDefinitionConfig to persist this field in the pipeline definition if desired.\n",
      "WARNING:sagemaker.workflow.utilities:Popping out 'ModelName' from the pipeline definition by default since it will be overridden at pipeline execution time. Please utilize the PipelineDefinitionConfig to persist this field in the pipeline definition if desired.\n",
      "WARNING:sagemaker.workflow.utilities:Popping out 'TransformJobName' from the pipeline definition by default since it will be overridden at pipeline execution time. Please utilize the PipelineDefinitionConfig to persist this field in the pipeline definition if desired.\n"
     ]
    }
   ],
   "source": [
    "# Submit pipeline\n",
    "pipeline.upsert(role_arn=role)\n",
    "execution = pipeline.start()"
   ]
  },
  {
   "cell_type": "code",
   "execution_count": 22,
   "id": "f6dacb56-c3fe-4366-9ed4-144959e49acf",
   "metadata": {
    "execution": {
     "iopub.execute_input": "2025-10-16T20:44:00.091909Z",
     "iopub.status.busy": "2025-10-16T20:44:00.088328Z",
     "iopub.status.idle": "2025-10-16T20:44:00.406053Z",
     "shell.execute_reply": "2025-10-16T20:44:00.405426Z",
     "shell.execute_reply.started": "2025-10-16T20:44:00.091855Z"
    }
   },
   "outputs": [
    {
     "data": {
      "text/plain": [
       "{'PipelineArn': 'arn:aws:sagemaker:us-east-1:654654380268:pipeline/NutriscorePipeline',\n",
       " 'PipelineExecutionArn': 'arn:aws:sagemaker:us-east-1:654654380268:pipeline/NutriscorePipeline/execution/e8gtivnsjkdj',\n",
       " 'PipelineExecutionDisplayName': 'execution-1760646089866',\n",
       " 'PipelineExecutionStatus': 'Succeeded',\n",
       " 'PipelineExperimentConfig': {'ExperimentName': 'nutriscorepipeline',\n",
       "  'TrialName': 'e8gtivnsjkdj'},\n",
       " 'CreationTime': datetime.datetime(2025, 10, 16, 20, 21, 29, 808000, tzinfo=tzlocal()),\n",
       " 'LastModifiedTime': datetime.datetime(2025, 10, 16, 20, 35, 5, 849000, tzinfo=tzlocal()),\n",
       " 'CreatedBy': {'UserProfileArn': 'arn:aws:sagemaker:us-east-1:654654380268:user-profile/d-bzkrqbjrtwzf/amalinsky',\n",
       "  'UserProfileName': 'amalinsky',\n",
       "  'DomainId': 'd-bzkrqbjrtwzf',\n",
       "  'IamIdentity': {'Arn': 'arn:aws:sts::654654380268:assumed-role/LabRole/SageMaker',\n",
       "   'PrincipalId': 'AROAZQ3DRDDWK3JDJSTXQ:SageMaker'}},\n",
       " 'LastModifiedBy': {'UserProfileArn': 'arn:aws:sagemaker:us-east-1:654654380268:user-profile/d-bzkrqbjrtwzf/amalinsky',\n",
       "  'UserProfileName': 'amalinsky',\n",
       "  'DomainId': 'd-bzkrqbjrtwzf',\n",
       "  'IamIdentity': {'Arn': 'arn:aws:sts::654654380268:assumed-role/LabRole/SageMaker',\n",
       "   'PrincipalId': 'AROAZQ3DRDDWK3JDJSTXQ:SageMaker'}},\n",
       " 'ResponseMetadata': {'RequestId': '72ab2404-9c0c-4869-a47b-0225aaf77b03',\n",
       "  'HTTPStatusCode': 200,\n",
       "  'HTTPHeaders': {'x-amzn-requestid': '72ab2404-9c0c-4869-a47b-0225aaf77b03',\n",
       "   'strict-transport-security': 'max-age=47304000; includeSubDomains',\n",
       "   'x-frame-options': 'DENY',\n",
       "   'content-security-policy': \"frame-ancestors 'none'\",\n",
       "   'cache-control': 'no-cache, no-store, must-revalidate',\n",
       "   'x-content-type-options': 'nosniff',\n",
       "   'content-type': 'application/x-amz-json-1.1',\n",
       "   'content-length': '1086',\n",
       "   'date': 'Thu, 16 Oct 2025 20:44:00 GMT'},\n",
       "  'RetryAttempts': 0}}"
      ]
     },
     "execution_count": 22,
     "metadata": {},
     "output_type": "execute_result"
    }
   ],
   "source": [
    "# Describe the pipeline execution\n",
    "execution.describe()"
   ]
  },
  {
   "cell_type": "code",
   "execution_count": 23,
   "id": "8905af6f-ad18-41ae-a540-1975f7296ecd",
   "metadata": {
    "execution": {
     "iopub.execute_input": "2025-10-16T20:51:30.044769Z",
     "iopub.status.busy": "2025-10-16T20:51:30.044463Z",
     "iopub.status.idle": "2025-10-16T20:51:30.165343Z",
     "shell.execute_reply": "2025-10-16T20:51:30.164722Z",
     "shell.execute_reply.started": "2025-10-16T20:51:30.044747Z"
    }
   },
   "outputs": [],
   "source": [
    "# Wait for execution to complete (around 15 minutes)\n",
    "execution.wait()"
   ]
  },
  {
   "cell_type": "code",
   "execution_count": 24,
   "id": "499cdb6e-7402-46b2-95ef-515938e8a0e6",
   "metadata": {
    "execution": {
     "iopub.execute_input": "2025-10-16T20:51:33.808460Z",
     "iopub.status.busy": "2025-10-16T20:51:33.808181Z",
     "iopub.status.idle": "2025-10-16T20:51:33.917525Z",
     "shell.execute_reply": "2025-10-16T20:51:33.916823Z",
     "shell.execute_reply.started": "2025-10-16T20:51:33.808438Z"
    }
   },
   "outputs": [
    {
     "data": {
      "text/plain": [
       "[{'StepName': 'NutriscoreTransform',\n",
       "  'StartTime': datetime.datetime(2025, 10, 16, 20, 29, 16, 674000, tzinfo=tzlocal()),\n",
       "  'EndTime': datetime.datetime(2025, 10, 16, 20, 35, 5, 673000, tzinfo=tzlocal()),\n",
       "  'StepStatus': 'Succeeded',\n",
       "  'Metadata': {'TransformJob': {'Arn': 'arn:aws:sagemaker:us-east-1:654654380268:transform-job/pipelines-e8gtivnsjkdj-NutriscoreTransform-uFSIJtkFJo'}},\n",
       "  'AttemptCount': 1},\n",
       " {'StepName': 'NutriscoreCreateModel-CreateModel',\n",
       "  'StartTime': datetime.datetime(2025, 10, 16, 20, 29, 14, 411000, tzinfo=tzlocal()),\n",
       "  'EndTime': datetime.datetime(2025, 10, 16, 20, 29, 16, 182000, tzinfo=tzlocal()),\n",
       "  'StepStatus': 'Succeeded',\n",
       "  'Metadata': {'Model': {'Arn': 'arn:aws:sagemaker:us-east-1:654654380268:model/pipelines-e8gtivnsjkdj-NutriscoreCreateMode-EU6329lfnc'}},\n",
       "  'AttemptCount': 1},\n",
       " {'StepName': 'NutriscoreRegisterModel-RegisterModel',\n",
       "  'StartTime': datetime.datetime(2025, 10, 16, 20, 29, 14, 411000, tzinfo=tzlocal()),\n",
       "  'EndTime': datetime.datetime(2025, 10, 16, 20, 29, 15, 989000, tzinfo=tzlocal()),\n",
       "  'StepStatus': 'Succeeded',\n",
       "  'Metadata': {'RegisterModel': {'Arn': 'arn:aws:sagemaker:us-east-1:654654380268:model-package/NutriscoreModelPackageGroupName/2'}},\n",
       "  'AttemptCount': 1},\n",
       " {'StepName': 'NutriscoreRMSECond',\n",
       "  'StartTime': datetime.datetime(2025, 10, 16, 20, 29, 13, 464000, tzinfo=tzlocal()),\n",
       "  'EndTime': datetime.datetime(2025, 10, 16, 20, 29, 14, 4000, tzinfo=tzlocal()),\n",
       "  'StepStatus': 'Succeeded',\n",
       "  'Metadata': {'Condition': {'Outcome': 'True'}},\n",
       "  'AttemptCount': 1},\n",
       " {'StepName': 'NutriscoreEval',\n",
       "  'StartTime': datetime.datetime(2025, 10, 16, 20, 26, 38, 698000, tzinfo=tzlocal()),\n",
       "  'EndTime': datetime.datetime(2025, 10, 16, 20, 29, 12, 745000, tzinfo=tzlocal()),\n",
       "  'StepStatus': 'Succeeded',\n",
       "  'Metadata': {'ProcessingJob': {'Arn': 'arn:aws:sagemaker:us-east-1:654654380268:processing-job/pipelines-e8gtivnsjkdj-NutriscoreEval-pc8xRTHKzG'}},\n",
       "  'AttemptCount': 1},\n",
       " {'StepName': 'NutriscoreTrain',\n",
       "  'StartTime': datetime.datetime(2025, 10, 16, 20, 24, 4, 142000, tzinfo=tzlocal()),\n",
       "  'EndTime': datetime.datetime(2025, 10, 16, 20, 26, 37, 779000, tzinfo=tzlocal()),\n",
       "  'StepStatus': 'Succeeded',\n",
       "  'Metadata': {'TrainingJob': {'Arn': 'arn:aws:sagemaker:us-east-1:654654380268:training-job/pipelines-e8gtivnsjkdj-NutriscoreTrain-1LuYGQypPQ'}},\n",
       "  'AttemptCount': 1},\n",
       " {'StepName': 'NutriscoreProcess',\n",
       "  'StartTime': datetime.datetime(2025, 10, 16, 20, 21, 30, 674000, tzinfo=tzlocal()),\n",
       "  'EndTime': datetime.datetime(2025, 10, 16, 20, 24, 3, 358000, tzinfo=tzlocal()),\n",
       "  'StepStatus': 'Succeeded',\n",
       "  'Metadata': {'ProcessingJob': {'Arn': 'arn:aws:sagemaker:us-east-1:654654380268:processing-job/pipelines-e8gtivnsjkdj-NutriscoreProcess-pWNq13lERk'}},\n",
       "  'AttemptCount': 1}]"
      ]
     },
     "execution_count": 24,
     "metadata": {},
     "output_type": "execute_result"
    }
   ],
   "source": [
    "# List execution steps\n",
    "execution.list_steps()"
   ]
  },
  {
   "cell_type": "markdown",
   "id": "dc0d614e-9775-47d4-a369-dc5a2c2817c9",
   "metadata": {},
   "source": [
    "## Examine the Evaluation"
   ]
  },
  {
   "cell_type": "code",
   "execution_count": 27,
   "id": "e39abba1-0c31-45a6-9d96-0fab40abe9f1",
   "metadata": {
    "execution": {
     "iopub.execute_input": "2025-10-16T20:52:31.384468Z",
     "iopub.status.busy": "2025-10-16T20:52:31.384182Z",
     "iopub.status.idle": "2025-10-16T20:52:31.572524Z",
     "shell.execute_reply": "2025-10-16T20:52:31.571878Z",
     "shell.execute_reply.started": "2025-10-16T20:52:31.384443Z"
    }
   },
   "outputs": [
    {
     "name": "stderr",
     "output_type": "stream",
     "text": [
      "WARNING:sagemaker.workflow.utilities:Popping out 'ProcessingJobName' from the pipeline definition by default since it will be overridden at pipeline execution time. Please utilize the PipelineDefinitionConfig to persist this field in the pipeline definition if desired.\n"
     ]
    },
    {
     "name": "stdout",
     "output_type": "stream",
     "text": [
      "{'regression_metrics': {'rmse': {'standard_deviation': 1.806670787091679,\n",
      "                                 'value': 1.806671120100456}}}\n"
     ]
    }
   ],
   "source": [
    "evaluation_json = sagemaker.s3.S3Downloader.read_file(\n",
    "    \"{}/evaluation.json\".format(\n",
    "        step_eval.arguments[\"ProcessingOutputConfig\"][\"Outputs\"][0][\"S3Output\"][\"S3Uri\"]\n",
    "    )\n",
    ")\n",
    "pprint(json.loads(evaluation_json))"
   ]
  },
  {
   "cell_type": "markdown",
   "id": "dc6fa535-881e-4e47-8268-36cfb25b55db",
   "metadata": {},
   "source": [
    "## Review Artifact Lineage"
   ]
  },
  {
   "cell_type": "code",
   "execution_count": 28,
   "id": "ff5f8295-ad6d-49fb-b17a-d3af45724bc4",
   "metadata": {
    "execution": {
     "iopub.execute_input": "2025-10-16T20:52:45.797458Z",
     "iopub.status.busy": "2025-10-16T20:52:45.797184Z",
     "iopub.status.idle": "2025-10-16T20:53:22.295672Z",
     "shell.execute_reply": "2025-10-16T20:53:22.294868Z",
     "shell.execute_reply.started": "2025-10-16T20:52:45.797437Z"
    }
   },
   "outputs": [
    {
     "name": "stdout",
     "output_type": "stream",
     "text": [
      "{'StepName': 'NutriscoreProcess', 'StartTime': datetime.datetime(2025, 10, 16, 20, 21, 30, 674000, tzinfo=tzlocal()), 'EndTime': datetime.datetime(2025, 10, 16, 20, 24, 3, 358000, tzinfo=tzlocal()), 'StepStatus': 'Succeeded', 'Metadata': {'ProcessingJob': {'Arn': 'arn:aws:sagemaker:us-east-1:654654380268:processing-job/pipelines-e8gtivnsjkdj-NutriscoreProcess-pWNq13lERk'}}, 'AttemptCount': 1}\n"
     ]
    },
    {
     "data": {
      "text/html": [
       "<div>\n",
       "<style scoped>\n",
       "    .dataframe tbody tr th:only-of-type {\n",
       "        vertical-align: middle;\n",
       "    }\n",
       "\n",
       "    .dataframe tbody tr th {\n",
       "        vertical-align: top;\n",
       "    }\n",
       "\n",
       "    .dataframe thead th {\n",
       "        text-align: right;\n",
       "    }\n",
       "</style>\n",
       "<table border=\"1\" class=\"dataframe\">\n",
       "  <thead>\n",
       "    <tr style=\"text-align: right;\">\n",
       "      <th></th>\n",
       "      <th>Name/Source</th>\n",
       "      <th>Direction</th>\n",
       "      <th>Type</th>\n",
       "      <th>Association Type</th>\n",
       "      <th>Lineage Type</th>\n",
       "    </tr>\n",
       "  </thead>\n",
       "  <tbody>\n",
       "    <tr>\n",
       "      <th>0</th>\n",
       "      <td>s3://...c4b10cbd6321ea5/preprocess_nutriscore.py</td>\n",
       "      <td>Input</td>\n",
       "      <td>DataSet</td>\n",
       "      <td>ContributedTo</td>\n",
       "      <td>artifact</td>\n",
       "    </tr>\n",
       "    <tr>\n",
       "      <th>1</th>\n",
       "      <td>s3://...east-1-654654380268/food_us_subset_100k/</td>\n",
       "      <td>Input</td>\n",
       "      <td>DataSet</td>\n",
       "      <td>ContributedTo</td>\n",
       "      <td>artifact</td>\n",
       "    </tr>\n",
       "    <tr>\n",
       "      <th>2</th>\n",
       "      <td>68331...com/sagemaker-scikit-learn:1.2-1-cpu-py3</td>\n",
       "      <td>Input</td>\n",
       "      <td>Image</td>\n",
       "      <td>ContributedTo</td>\n",
       "      <td>artifact</td>\n",
       "    </tr>\n",
       "    <tr>\n",
       "      <th>3</th>\n",
       "      <td>s3://...gtivnsjkdj/NutriscoreProcess/output/test</td>\n",
       "      <td>Output</td>\n",
       "      <td>DataSet</td>\n",
       "      <td>Produced</td>\n",
       "      <td>artifact</td>\n",
       "    </tr>\n",
       "    <tr>\n",
       "      <th>4</th>\n",
       "      <td>s3://...jkdj/NutriscoreProcess/output/validation</td>\n",
       "      <td>Output</td>\n",
       "      <td>DataSet</td>\n",
       "      <td>Produced</td>\n",
       "      <td>artifact</td>\n",
       "    </tr>\n",
       "    <tr>\n",
       "      <th>5</th>\n",
       "      <td>s3://...tivnsjkdj/NutriscoreProcess/output/train</td>\n",
       "      <td>Output</td>\n",
       "      <td>DataSet</td>\n",
       "      <td>Produced</td>\n",
       "      <td>artifact</td>\n",
       "    </tr>\n",
       "  </tbody>\n",
       "</table>\n",
       "</div>"
      ],
      "text/plain": [
       "                                        Name/Source Direction     Type  \\\n",
       "0  s3://...c4b10cbd6321ea5/preprocess_nutriscore.py     Input  DataSet   \n",
       "1  s3://...east-1-654654380268/food_us_subset_100k/     Input  DataSet   \n",
       "2  68331...com/sagemaker-scikit-learn:1.2-1-cpu-py3     Input    Image   \n",
       "3  s3://...gtivnsjkdj/NutriscoreProcess/output/test    Output  DataSet   \n",
       "4  s3://...jkdj/NutriscoreProcess/output/validation    Output  DataSet   \n",
       "5  s3://...tivnsjkdj/NutriscoreProcess/output/train    Output  DataSet   \n",
       "\n",
       "  Association Type Lineage Type  \n",
       "0    ContributedTo     artifact  \n",
       "1    ContributedTo     artifact  \n",
       "2    ContributedTo     artifact  \n",
       "3         Produced     artifact  \n",
       "4         Produced     artifact  \n",
       "5         Produced     artifact  "
      ]
     },
     "metadata": {},
     "output_type": "display_data"
    },
    {
     "name": "stdout",
     "output_type": "stream",
     "text": [
      "{'StepName': 'NutriscoreTrain', 'StartTime': datetime.datetime(2025, 10, 16, 20, 24, 4, 142000, tzinfo=tzlocal()), 'EndTime': datetime.datetime(2025, 10, 16, 20, 26, 37, 779000, tzinfo=tzlocal()), 'StepStatus': 'Succeeded', 'Metadata': {'TrainingJob': {'Arn': 'arn:aws:sagemaker:us-east-1:654654380268:training-job/pipelines-e8gtivnsjkdj-NutriscoreTrain-1LuYGQypPQ'}}, 'AttemptCount': 1}\n"
     ]
    },
    {
     "data": {
      "text/html": [
       "<div>\n",
       "<style scoped>\n",
       "    .dataframe tbody tr th:only-of-type {\n",
       "        vertical-align: middle;\n",
       "    }\n",
       "\n",
       "    .dataframe tbody tr th {\n",
       "        vertical-align: top;\n",
       "    }\n",
       "\n",
       "    .dataframe thead th {\n",
       "        text-align: right;\n",
       "    }\n",
       "</style>\n",
       "<table border=\"1\" class=\"dataframe\">\n",
       "  <thead>\n",
       "    <tr style=\"text-align: right;\">\n",
       "      <th></th>\n",
       "      <th>Name/Source</th>\n",
       "      <th>Direction</th>\n",
       "      <th>Type</th>\n",
       "      <th>Association Type</th>\n",
       "      <th>Lineage Type</th>\n",
       "    </tr>\n",
       "  </thead>\n",
       "  <tbody>\n",
       "    <tr>\n",
       "      <th>0</th>\n",
       "      <td>s3://...jkdj/NutriscoreProcess/output/validation</td>\n",
       "      <td>Input</td>\n",
       "      <td>DataSet</td>\n",
       "      <td>ContributedTo</td>\n",
       "      <td>artifact</td>\n",
       "    </tr>\n",
       "    <tr>\n",
       "      <th>1</th>\n",
       "      <td>s3://...tivnsjkdj/NutriscoreProcess/output/train</td>\n",
       "      <td>Input</td>\n",
       "      <td>DataSet</td>\n",
       "      <td>ContributedTo</td>\n",
       "      <td>artifact</td>\n",
       "    </tr>\n",
       "    <tr>\n",
       "      <th>2</th>\n",
       "      <td>68331...-1.amazonaws.com/sagemaker-xgboost:1.7-1</td>\n",
       "      <td>Input</td>\n",
       "      <td>Image</td>\n",
       "      <td>ContributedTo</td>\n",
       "      <td>artifact</td>\n",
       "    </tr>\n",
       "    <tr>\n",
       "      <th>3</th>\n",
       "      <td>s3://...coreTrain-1LuYGQypPQ/output/model.tar.gz</td>\n",
       "      <td>Output</td>\n",
       "      <td>Model</td>\n",
       "      <td>Produced</td>\n",
       "      <td>artifact</td>\n",
       "    </tr>\n",
       "  </tbody>\n",
       "</table>\n",
       "</div>"
      ],
      "text/plain": [
       "                                        Name/Source Direction     Type  \\\n",
       "0  s3://...jkdj/NutriscoreProcess/output/validation     Input  DataSet   \n",
       "1  s3://...tivnsjkdj/NutriscoreProcess/output/train     Input  DataSet   \n",
       "2  68331...-1.amazonaws.com/sagemaker-xgboost:1.7-1     Input    Image   \n",
       "3  s3://...coreTrain-1LuYGQypPQ/output/model.tar.gz    Output    Model   \n",
       "\n",
       "  Association Type Lineage Type  \n",
       "0    ContributedTo     artifact  \n",
       "1    ContributedTo     artifact  \n",
       "2    ContributedTo     artifact  \n",
       "3         Produced     artifact  "
      ]
     },
     "metadata": {},
     "output_type": "display_data"
    },
    {
     "name": "stdout",
     "output_type": "stream",
     "text": [
      "{'StepName': 'NutriscoreEval', 'StartTime': datetime.datetime(2025, 10, 16, 20, 26, 38, 698000, tzinfo=tzlocal()), 'EndTime': datetime.datetime(2025, 10, 16, 20, 29, 12, 745000, tzinfo=tzlocal()), 'StepStatus': 'Succeeded', 'Metadata': {'ProcessingJob': {'Arn': 'arn:aws:sagemaker:us-east-1:654654380268:processing-job/pipelines-e8gtivnsjkdj-NutriscoreEval-pc8xRTHKzG'}}, 'AttemptCount': 1}\n"
     ]
    },
    {
     "data": {
      "text/html": [
       "<div>\n",
       "<style scoped>\n",
       "    .dataframe tbody tr th:only-of-type {\n",
       "        vertical-align: middle;\n",
       "    }\n",
       "\n",
       "    .dataframe tbody tr th {\n",
       "        vertical-align: top;\n",
       "    }\n",
       "\n",
       "    .dataframe thead th {\n",
       "        text-align: right;\n",
       "    }\n",
       "</style>\n",
       "<table border=\"1\" class=\"dataframe\">\n",
       "  <thead>\n",
       "    <tr style=\"text-align: right;\">\n",
       "      <th></th>\n",
       "      <th>Name/Source</th>\n",
       "      <th>Direction</th>\n",
       "      <th>Type</th>\n",
       "      <th>Association Type</th>\n",
       "      <th>Lineage Type</th>\n",
       "    </tr>\n",
       "  </thead>\n",
       "  <tbody>\n",
       "    <tr>\n",
       "      <th>0</th>\n",
       "      <td>s3://...842135fdebfdbe2be/evaluate_nutriscore.py</td>\n",
       "      <td>Input</td>\n",
       "      <td>DataSet</td>\n",
       "      <td>ContributedTo</td>\n",
       "      <td>artifact</td>\n",
       "    </tr>\n",
       "    <tr>\n",
       "      <th>1</th>\n",
       "      <td>s3://...gtivnsjkdj/NutriscoreProcess/output/test</td>\n",
       "      <td>Input</td>\n",
       "      <td>DataSet</td>\n",
       "      <td>ContributedTo</td>\n",
       "      <td>artifact</td>\n",
       "    </tr>\n",
       "    <tr>\n",
       "      <th>2</th>\n",
       "      <td>s3://...coreTrain-1LuYGQypPQ/output/model.tar.gz</td>\n",
       "      <td>Input</td>\n",
       "      <td>Model</td>\n",
       "      <td>ContributedTo</td>\n",
       "      <td>artifact</td>\n",
       "    </tr>\n",
       "    <tr>\n",
       "      <th>3</th>\n",
       "      <td>68331...-1.amazonaws.com/sagemaker-xgboost:1.7-1</td>\n",
       "      <td>Input</td>\n",
       "      <td>Image</td>\n",
       "      <td>ContributedTo</td>\n",
       "      <td>artifact</td>\n",
       "    </tr>\n",
       "    <tr>\n",
       "      <th>4</th>\n",
       "      <td>s3://...025-10-16-20-18-30-266/output/evaluation</td>\n",
       "      <td>Output</td>\n",
       "      <td>DataSet</td>\n",
       "      <td>Produced</td>\n",
       "      <td>artifact</td>\n",
       "    </tr>\n",
       "  </tbody>\n",
       "</table>\n",
       "</div>"
      ],
      "text/plain": [
       "                                        Name/Source Direction     Type  \\\n",
       "0  s3://...842135fdebfdbe2be/evaluate_nutriscore.py     Input  DataSet   \n",
       "1  s3://...gtivnsjkdj/NutriscoreProcess/output/test     Input  DataSet   \n",
       "2  s3://...coreTrain-1LuYGQypPQ/output/model.tar.gz     Input    Model   \n",
       "3  68331...-1.amazonaws.com/sagemaker-xgboost:1.7-1     Input    Image   \n",
       "4  s3://...025-10-16-20-18-30-266/output/evaluation    Output  DataSet   \n",
       "\n",
       "  Association Type Lineage Type  \n",
       "0    ContributedTo     artifact  \n",
       "1    ContributedTo     artifact  \n",
       "2    ContributedTo     artifact  \n",
       "3    ContributedTo     artifact  \n",
       "4         Produced     artifact  "
      ]
     },
     "metadata": {},
     "output_type": "display_data"
    },
    {
     "name": "stdout",
     "output_type": "stream",
     "text": [
      "{'StepName': 'NutriscoreRMSECond', 'StartTime': datetime.datetime(2025, 10, 16, 20, 29, 13, 464000, tzinfo=tzlocal()), 'EndTime': datetime.datetime(2025, 10, 16, 20, 29, 14, 4000, tzinfo=tzlocal()), 'StepStatus': 'Succeeded', 'Metadata': {'Condition': {'Outcome': 'True'}}, 'AttemptCount': 1}\n"
     ]
    },
    {
     "data": {
      "text/plain": [
       "None"
      ]
     },
     "metadata": {},
     "output_type": "display_data"
    },
    {
     "name": "stdout",
     "output_type": "stream",
     "text": [
      "{'StepName': 'NutriscoreRegisterModel-RegisterModel', 'StartTime': datetime.datetime(2025, 10, 16, 20, 29, 14, 411000, tzinfo=tzlocal()), 'EndTime': datetime.datetime(2025, 10, 16, 20, 29, 15, 989000, tzinfo=tzlocal()), 'StepStatus': 'Succeeded', 'Metadata': {'RegisterModel': {'Arn': 'arn:aws:sagemaker:us-east-1:654654380268:model-package/NutriscoreModelPackageGroupName/2'}}, 'AttemptCount': 1}\n"
     ]
    },
    {
     "data": {
      "text/html": [
       "<div>\n",
       "<style scoped>\n",
       "    .dataframe tbody tr th:only-of-type {\n",
       "        vertical-align: middle;\n",
       "    }\n",
       "\n",
       "    .dataframe tbody tr th {\n",
       "        vertical-align: top;\n",
       "    }\n",
       "\n",
       "    .dataframe thead th {\n",
       "        text-align: right;\n",
       "    }\n",
       "</style>\n",
       "<table border=\"1\" class=\"dataframe\">\n",
       "  <thead>\n",
       "    <tr style=\"text-align: right;\">\n",
       "      <th></th>\n",
       "      <th>Name/Source</th>\n",
       "      <th>Direction</th>\n",
       "      <th>Type</th>\n",
       "      <th>Association Type</th>\n",
       "      <th>Lineage Type</th>\n",
       "    </tr>\n",
       "  </thead>\n",
       "  <tbody>\n",
       "    <tr>\n",
       "      <th>0</th>\n",
       "      <td>s3://...coreTrain-1LuYGQypPQ/output/model.tar.gz</td>\n",
       "      <td>Input</td>\n",
       "      <td>Model</td>\n",
       "      <td>ContributedTo</td>\n",
       "      <td>artifact</td>\n",
       "    </tr>\n",
       "    <tr>\n",
       "      <th>1</th>\n",
       "      <td>68331...-1.amazonaws.com/sagemaker-xgboost:1.7-1</td>\n",
       "      <td>Input</td>\n",
       "      <td>Image</td>\n",
       "      <td>ContributedTo</td>\n",
       "      <td>artifact</td>\n",
       "    </tr>\n",
       "    <tr>\n",
       "      <th>2</th>\n",
       "      <td>NutriscoreModelPackageGroupName-2-1760646555-a...</td>\n",
       "      <td>Input</td>\n",
       "      <td>ModelLifeCycle</td>\n",
       "      <td>ContributedTo</td>\n",
       "      <td>action</td>\n",
       "    </tr>\n",
       "    <tr>\n",
       "      <th>3</th>\n",
       "      <td>NutriscoreModelPackageGroupName-2-PendingManua...</td>\n",
       "      <td>Input</td>\n",
       "      <td>Approval</td>\n",
       "      <td>ContributedTo</td>\n",
       "      <td>action</td>\n",
       "    </tr>\n",
       "    <tr>\n",
       "      <th>4</th>\n",
       "      <td>NutriscoreModelPackageGroupName-1760594124-aws...</td>\n",
       "      <td>Output</td>\n",
       "      <td>ModelGroup</td>\n",
       "      <td>AssociatedWith</td>\n",
       "      <td>context</td>\n",
       "    </tr>\n",
       "  </tbody>\n",
       "</table>\n",
       "</div>"
      ],
      "text/plain": [
       "                                         Name/Source Direction  \\\n",
       "0   s3://...coreTrain-1LuYGQypPQ/output/model.tar.gz     Input   \n",
       "1   68331...-1.amazonaws.com/sagemaker-xgboost:1.7-1     Input   \n",
       "2  NutriscoreModelPackageGroupName-2-1760646555-a...     Input   \n",
       "3  NutriscoreModelPackageGroupName-2-PendingManua...     Input   \n",
       "4  NutriscoreModelPackageGroupName-1760594124-aws...    Output   \n",
       "\n",
       "             Type Association Type Lineage Type  \n",
       "0           Model    ContributedTo     artifact  \n",
       "1           Image    ContributedTo     artifact  \n",
       "2  ModelLifeCycle    ContributedTo       action  \n",
       "3        Approval    ContributedTo       action  \n",
       "4      ModelGroup   AssociatedWith      context  "
      ]
     },
     "metadata": {},
     "output_type": "display_data"
    },
    {
     "name": "stdout",
     "output_type": "stream",
     "text": [
      "{'StepName': 'NutriscoreCreateModel-CreateModel', 'StartTime': datetime.datetime(2025, 10, 16, 20, 29, 14, 411000, tzinfo=tzlocal()), 'EndTime': datetime.datetime(2025, 10, 16, 20, 29, 16, 182000, tzinfo=tzlocal()), 'StepStatus': 'Succeeded', 'Metadata': {'Model': {'Arn': 'arn:aws:sagemaker:us-east-1:654654380268:model/pipelines-e8gtivnsjkdj-NutriscoreCreateMode-EU6329lfnc'}}, 'AttemptCount': 1}\n"
     ]
    },
    {
     "data": {
      "text/plain": [
       "None"
      ]
     },
     "metadata": {},
     "output_type": "display_data"
    },
    {
     "name": "stdout",
     "output_type": "stream",
     "text": [
      "{'StepName': 'NutriscoreTransform', 'StartTime': datetime.datetime(2025, 10, 16, 20, 29, 16, 674000, tzinfo=tzlocal()), 'EndTime': datetime.datetime(2025, 10, 16, 20, 35, 5, 673000, tzinfo=tzlocal()), 'StepStatus': 'Succeeded', 'Metadata': {'TransformJob': {'Arn': 'arn:aws:sagemaker:us-east-1:654654380268:transform-job/pipelines-e8gtivnsjkdj-NutriscoreTransform-uFSIJtkFJo'}}, 'AttemptCount': 1}\n"
     ]
    },
    {
     "data": {
      "text/html": [
       "<div>\n",
       "<style scoped>\n",
       "    .dataframe tbody tr th:only-of-type {\n",
       "        vertical-align: middle;\n",
       "    }\n",
       "\n",
       "    .dataframe tbody tr th {\n",
       "        vertical-align: top;\n",
       "    }\n",
       "\n",
       "    .dataframe thead th {\n",
       "        text-align: right;\n",
       "    }\n",
       "</style>\n",
       "<table border=\"1\" class=\"dataframe\">\n",
       "  <thead>\n",
       "    <tr style=\"text-align: right;\">\n",
       "      <th></th>\n",
       "      <th>Name/Source</th>\n",
       "      <th>Direction</th>\n",
       "      <th>Type</th>\n",
       "      <th>Association Type</th>\n",
       "      <th>Lineage Type</th>\n",
       "    </tr>\n",
       "  </thead>\n",
       "  <tbody>\n",
       "    <tr>\n",
       "      <th>0</th>\n",
       "      <td>s3://...coreTrain-1LuYGQypPQ/output/model.tar.gz</td>\n",
       "      <td>Input</td>\n",
       "      <td>Model</td>\n",
       "      <td>ContributedTo</td>\n",
       "      <td>artifact</td>\n",
       "    </tr>\n",
       "    <tr>\n",
       "      <th>1</th>\n",
       "      <td>68331...-1.amazonaws.com/sagemaker-xgboost:1.7-1</td>\n",
       "      <td>Input</td>\n",
       "      <td>Image</td>\n",
       "      <td>ContributedTo</td>\n",
       "      <td>artifact</td>\n",
       "    </tr>\n",
       "    <tr>\n",
       "      <th>2</th>\n",
       "      <td>s3://...tion-xgboost/test/test_features_only.csv</td>\n",
       "      <td>Input</td>\n",
       "      <td>DataSet</td>\n",
       "      <td>ContributedTo</td>\n",
       "      <td>artifact</td>\n",
       "    </tr>\n",
       "    <tr>\n",
       "      <th>3</th>\n",
       "      <td>s3://...-east-1-654654380268/NutriscoreTransform</td>\n",
       "      <td>Output</td>\n",
       "      <td>DataSet</td>\n",
       "      <td>Produced</td>\n",
       "      <td>artifact</td>\n",
       "    </tr>\n",
       "  </tbody>\n",
       "</table>\n",
       "</div>"
      ],
      "text/plain": [
       "                                        Name/Source Direction     Type  \\\n",
       "0  s3://...coreTrain-1LuYGQypPQ/output/model.tar.gz     Input    Model   \n",
       "1  68331...-1.amazonaws.com/sagemaker-xgboost:1.7-1     Input    Image   \n",
       "2  s3://...tion-xgboost/test/test_features_only.csv     Input  DataSet   \n",
       "3  s3://...-east-1-654654380268/NutriscoreTransform    Output  DataSet   \n",
       "\n",
       "  Association Type Lineage Type  \n",
       "0    ContributedTo     artifact  \n",
       "1    ContributedTo     artifact  \n",
       "2    ContributedTo     artifact  \n",
       "3         Produced     artifact  "
      ]
     },
     "metadata": {},
     "output_type": "display_data"
    }
   ],
   "source": [
    "viz = LineageTableVisualizer(sagemaker.session.Session())\n",
    "for execution_step in reversed(execution.list_steps()):\n",
    "    print(execution_step)\n",
    "    display(viz.show(pipeline_execution_step=execution_step))\n",
    "    time.sleep(5)"
   ]
  },
  {
   "cell_type": "markdown",
   "id": "44fe9d5e-025a-4296-ac8d-3048844b6fdb",
   "metadata": {},
   "source": [
    "![Pipeline-SuccessState](img/Pipeline-SuccessState.png)"
   ]
  },
  {
   "cell_type": "markdown",
   "id": "b5df056d-fa5a-4231-8eb6-bdc1f64c50f0",
   "metadata": {},
   "source": [
    "## Rerun Pipeline to Trigger Fail Case"
   ]
  },
  {
   "cell_type": "code",
   "execution_count": 29,
   "id": "fecd1049-702b-4dde-a94d-697ec0a520ad",
   "metadata": {
    "execution": {
     "iopub.execute_input": "2025-10-16T20:57:18.265589Z",
     "iopub.status.busy": "2025-10-16T20:57:18.265330Z",
     "iopub.status.idle": "2025-10-16T20:57:18.494920Z",
     "shell.execute_reply": "2025-10-16T20:57:18.494037Z",
     "shell.execute_reply.started": "2025-10-16T20:57:18.265570Z"
    }
   },
   "outputs": [],
   "source": [
    "# Set RMSE threshold lower to trigger fail state\n",
    "# 'Execution failed due to RMSE > 1.0'\n",
    "execution = pipeline.start(parameters=dict(RmseThreshold=1.0))"
   ]
  },
  {
   "cell_type": "code",
   "execution_count": 30,
   "id": "752b3b69-e138-4318-b2b3-f75cf794040f",
   "metadata": {
    "execution": {
     "iopub.execute_input": "2025-10-16T20:57:26.473345Z",
     "iopub.status.busy": "2025-10-16T20:57:26.473060Z",
     "iopub.status.idle": "2025-10-16T21:07:28.337454Z",
     "shell.execute_reply": "2025-10-16T21:07:28.336847Z",
     "shell.execute_reply.started": "2025-10-16T20:57:26.473325Z"
    }
   },
   "outputs": [
    {
     "name": "stdout",
     "output_type": "stream",
     "text": [
      "Waiter PipelineExecutionComplete failed: Waiter encountered a terminal failure state: For expression \"PipelineExecutionStatus\" we matched expected path: \"Failed\"\n"
     ]
    }
   ],
   "source": [
    "try:\n",
    "    execution.wait()\n",
    "except Exception as error:\n",
    "    print(error)"
   ]
  },
  {
   "cell_type": "code",
   "execution_count": 31,
   "id": "8bcdaadf-7404-42b5-8239-91bdb5a85811",
   "metadata": {
    "execution": {
     "iopub.execute_input": "2025-10-16T21:11:41.945296Z",
     "iopub.status.busy": "2025-10-16T21:11:41.945026Z",
     "iopub.status.idle": "2025-10-16T21:11:42.134701Z",
     "shell.execute_reply": "2025-10-16T21:11:42.134013Z",
     "shell.execute_reply.started": "2025-10-16T21:11:41.945275Z"
    }
   },
   "outputs": [
    {
     "data": {
      "text/plain": [
       "[{'StepName': 'NutriscoreRMSEFail',\n",
       "  'StartTime': datetime.datetime(2025, 10, 16, 21, 7, 26, 870000, tzinfo=tzlocal()),\n",
       "  'EndTime': datetime.datetime(2025, 10, 16, 21, 7, 27, 417000, tzinfo=tzlocal()),\n",
       "  'StepStatus': 'Failed',\n",
       "  'FailureReason': 'Execution failed due to RMSE > 1.0',\n",
       "  'Metadata': {'Fail': {'ErrorMessage': 'Execution failed due to RMSE > 1.0'}},\n",
       "  'AttemptCount': 1},\n",
       " {'StepName': 'NutriscoreRMSECond',\n",
       "  'StartTime': datetime.datetime(2025, 10, 16, 21, 7, 25, 814000, tzinfo=tzlocal()),\n",
       "  'EndTime': datetime.datetime(2025, 10, 16, 21, 7, 26, 159000, tzinfo=tzlocal()),\n",
       "  'StepStatus': 'Succeeded',\n",
       "  'Metadata': {'Condition': {'Outcome': 'False'}},\n",
       "  'AttemptCount': 1},\n",
       " {'StepName': 'NutriscoreEval',\n",
       "  'StartTime': datetime.datetime(2025, 10, 16, 21, 2, 21, 411000, tzinfo=tzlocal()),\n",
       "  'EndTime': datetime.datetime(2025, 10, 16, 21, 7, 25, 151000, tzinfo=tzlocal()),\n",
       "  'StepStatus': 'Succeeded',\n",
       "  'Metadata': {'ProcessingJob': {'Arn': 'arn:aws:sagemaker:us-east-1:654654380268:processing-job/pipelines-cet96u7f09a8-NutriscoreEval-NcEIUuabrC'}},\n",
       "  'AttemptCount': 1},\n",
       " {'StepName': 'NutriscoreTrain',\n",
       "  'StartTime': datetime.datetime(2025, 10, 16, 20, 59, 53, 6000, tzinfo=tzlocal()),\n",
       "  'EndTime': datetime.datetime(2025, 10, 16, 21, 2, 20, 563000, tzinfo=tzlocal()),\n",
       "  'StepStatus': 'Succeeded',\n",
       "  'Metadata': {'TrainingJob': {'Arn': 'arn:aws:sagemaker:us-east-1:654654380268:training-job/pipelines-cet96u7f09a8-NutriscoreTrain-QlKoPeU500'}},\n",
       "  'AttemptCount': 1},\n",
       " {'StepName': 'NutriscoreProcess',\n",
       "  'StartTime': datetime.datetime(2025, 10, 16, 20, 57, 19, 98000, tzinfo=tzlocal()),\n",
       "  'EndTime': datetime.datetime(2025, 10, 16, 20, 59, 52, 60000, tzinfo=tzlocal()),\n",
       "  'StepStatus': 'Succeeded',\n",
       "  'Metadata': {'ProcessingJob': {'Arn': 'arn:aws:sagemaker:us-east-1:654654380268:processing-job/pipelines-cet96u7f09a8-NutriscoreProcess-HWGY1HblnP'}},\n",
       "  'AttemptCount': 1}]"
      ]
     },
     "execution_count": 31,
     "metadata": {},
     "output_type": "execute_result"
    }
   ],
   "source": [
    "execution.list_steps()"
   ]
  },
  {
   "cell_type": "markdown",
   "id": "fc819be4-ac64-43d9-8511-06b9be1a3767",
   "metadata": {},
   "source": [
    "![Pipeline-FailState](img/Pipeline-FailState.png)"
   ]
  }
 ],
 "metadata": {
  "kernelspec": {
   "display_name": "Python 3 (ipykernel)",
   "language": "python",
   "name": "python3"
  },
  "language_info": {
   "codemirror_mode": {
    "name": "ipython",
    "version": 3
   },
   "file_extension": ".py",
   "mimetype": "text/x-python",
   "name": "python",
   "nbconvert_exporter": "python",
   "pygments_lexer": "ipython3",
   "version": "3.12.9"
  }
 },
 "nbformat": 4,
 "nbformat_minor": 5
}
