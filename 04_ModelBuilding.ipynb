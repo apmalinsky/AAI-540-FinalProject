{
 "cells": [
  {
   "cell_type": "markdown",
   "id": "c4d783b3-58e0-48f8-9d91-32a485ab6a2d",
   "metadata": {},
   "source": [
    "# Model Building"
   ]
  },
  {
   "cell_type": "code",
   "execution_count": 17,
   "id": "74f669e3-9e78-40a4-b694-1a2656b9c354",
   "metadata": {
    "execution": {
     "iopub.execute_input": "2025-10-03T03:57:05.949415Z",
     "iopub.status.busy": "2025-10-03T03:57:05.949064Z",
     "iopub.status.idle": "2025-10-03T03:57:05.953686Z",
     "shell.execute_reply": "2025-10-03T03:57:05.952893Z",
     "shell.execute_reply.started": "2025-10-03T03:57:05.949383Z"
    }
   },
   "outputs": [],
   "source": [
    "# Import libraries\n",
    "import pandas as pd\n",
    "import boto3\n",
    "import sagemaker\n",
    "from pyathena import connect\n",
    "from sagemaker.session import Session\n",
    "from sagemaker.feature_store.feature_group import FeatureGroup"
   ]
  },
  {
   "cell_type": "code",
   "execution_count": 2,
   "id": "314a1cfc-a912-41ef-bd1c-91d918ee3f6c",
   "metadata": {
    "execution": {
     "iopub.execute_input": "2025-10-03T03:18:41.513004Z",
     "iopub.status.busy": "2025-10-03T03:18:41.512732Z",
     "iopub.status.idle": "2025-10-03T03:18:43.308131Z",
     "shell.execute_reply": "2025-10-03T03:18:43.307227Z",
     "shell.execute_reply.started": "2025-10-03T03:18:41.512981Z"
    }
   },
   "outputs": [
    {
     "name": "stdout",
     "output_type": "stream",
     "text": [
      "{\n",
      "    \"FeatureGroupSummaries\": [\n",
      "        {\n",
      "            \"FeatureGroupName\": \"foodlens-products-feature-group-30-14-49-50\",\n",
      "            \"FeatureGroupArn\": \"arn:aws:sagemaker:us-east-1:654654380268:feature-group/foodlens-products-feature-group-30-14-49-50\",\n",
      "            \"CreationTime\": \"2025-09-30T14:49:51.125000+00:00\",\n",
      "            \"FeatureGroupStatus\": \"Created\",\n",
      "            \"OfflineStoreStatus\": {\n",
      "                \"Status\": \"Active\"\n",
      "            }\n",
      "        }\n",
      "    ]\n",
      "}\n"
     ]
    }
   ],
   "source": [
    "# View created feature groups\n",
    "!aws sagemaker list-feature-groups"
   ]
  },
  {
   "cell_type": "code",
   "execution_count": 46,
   "id": "83bf33c6-5a3e-447d-a0bf-f4077aef1f90",
   "metadata": {
    "execution": {
     "iopub.execute_input": "2025-10-03T04:34:50.349283Z",
     "iopub.status.busy": "2025-10-03T04:34:50.349013Z",
     "iopub.status.idle": "2025-10-03T04:34:50.351993Z",
     "shell.execute_reply": "2025-10-03T04:34:50.351500Z",
     "shell.execute_reply.started": "2025-10-03T04:34:50.349262Z"
    }
   },
   "outputs": [],
   "source": [
    "# Change this to your feature group (ex. \"foodlens-products-feature-group-30-14-49-50\")\n",
    "feature_group_name = None\n",
    "assert feature_group_name is not None"
   ]
  },
  {
   "cell_type": "code",
   "execution_count": 18,
   "id": "ee31df5c-56ac-4e87-9cfd-fab0fdbea7b4",
   "metadata": {
    "execution": {
     "iopub.execute_input": "2025-10-03T03:57:08.209294Z",
     "iopub.status.busy": "2025-10-03T03:57:08.209032Z",
     "iopub.status.idle": "2025-10-03T03:57:09.512785Z",
     "shell.execute_reply": "2025-10-03T03:57:09.512008Z",
     "shell.execute_reply.started": "2025-10-03T03:57:08.209275Z"
    }
   },
   "outputs": [],
   "source": [
    "# Initialize SageMaker session and Feature Group\n",
    "# Setup boto and sagemaker session\n",
    "sess = sagemaker.Session()\n",
    "bucket = sess.default_bucket()\n",
    "role = sagemaker.get_execution_role()\n",
    "region = boto3.Session().region_name\n",
    "feature_group = FeatureGroup(name=feature_group_name, sagemaker_session=sess)\n",
    "\n",
    "# Initialize athena query staging\n",
    "s3_staging_dir = \"s3://{0}/athena/staging\".format(bucket)\n",
    "\n",
    "# Create connection to Athena database\n",
    "conn = connect(region_name=region, s3_staging_dir=s3_staging_dir)"
   ]
  },
  {
   "cell_type": "code",
   "execution_count": 40,
   "id": "62969268-0aca-4a29-9825-8a57633199a1",
   "metadata": {
    "execution": {
     "iopub.execute_input": "2025-10-03T04:24:14.489518Z",
     "iopub.status.busy": "2025-10-03T04:24:14.489231Z",
     "iopub.status.idle": "2025-10-03T04:24:14.869311Z",
     "shell.execute_reply": "2025-10-03T04:24:14.868663Z",
     "shell.execute_reply.started": "2025-10-03T04:24:14.489498Z"
    }
   },
   "outputs": [
    {
     "name": "stdout",
     "output_type": "stream",
     "text": [
      "Athena Table Name: foodlens_products_feature_group_30_14_49_50_1759243791\n",
      "Record Identifier: code\n"
     ]
    }
   ],
   "source": [
    "# Get the name of the unique identifier column\n",
    "record_id_name = feature_group.describe()['RecordIdentifierFeatureName']\n",
    "\n",
    "# Get the Athena table name\n",
    "query = feature_group.athena_query()\n",
    "table_name = query.table_name\n",
    "\n",
    "print(f\"Athena Table Name: {table_name}\")\n",
    "print(f\"Record Identifier: {record_id_name}\")"
   ]
  },
  {
   "cell_type": "code",
   "execution_count": 42,
   "id": "62e89afc-470a-4490-843e-e1f92ebddda5",
   "metadata": {
    "execution": {
     "iopub.execute_input": "2025-10-03T04:28:14.634618Z",
     "iopub.status.busy": "2025-10-03T04:28:14.634334Z",
     "iopub.status.idle": "2025-10-03T04:28:37.037201Z",
     "shell.execute_reply": "2025-10-03T04:28:37.036355Z",
     "shell.execute_reply.started": "2025-10-03T04:28:14.634597Z"
    }
   },
   "outputs": [
    {
     "name": "stdout",
     "output_type": "stream",
     "text": [
      "Training set shape:   (20586, 30)\n",
      "Production set shape: (19795, 30)\n",
      "Test set shape:       (5017, 30)\n",
      "Validation set shape: (5067, 30)\n"
     ]
    }
   ],
   "source": [
    "# Split data into training/testing/validation/production sets\n",
    "\n",
    "# Base query template\n",
    "# We use xxhash64 for its speed. It creates a deterministic hash for each record ID.\n",
    "query_template = f\"\"\"\n",
    "SELECT *\n",
    "FROM \"{table_name}\"\n",
    "WHERE MOD(from_big_endian_64(xxhash64(CAST(\"{record_id_name}\" AS VARBINARY))), 100)\n",
    "\"\"\"\n",
    "\n",
    "# --- Training Data (40%) ---\n",
    "train_query_string = query_template + \" BETWEEN 0 AND 39\"\n",
    "train_query = feature_group.athena_query()\n",
    "train_query.run(query_string=train_query_string, output_location=f'{s3_staging_dir}/feature_store_queries/train/')\n",
    "train_query.wait()\n",
    "train_df = train_query.as_dataframe()\n",
    "\n",
    "# --- Production Data (40%) ---\n",
    "prod_query_string = query_template + \" BETWEEN 40 AND 79\"\n",
    "prod_query = feature_group.athena_query()\n",
    "prod_query.run(query_string=prod_query_string, output_location=f'{s3_staging_dir}/feature_store_queries/prod/')\n",
    "prod_query.wait()\n",
    "prod_df = prod_query.as_dataframe()\n",
    "\n",
    "# --- Test Data (10%) ---\n",
    "test_query_string = query_template + \" BETWEEN 80 AND 89\"\n",
    "test_query = feature_group.athena_query()\n",
    "test_query.run(query_string=test_query_string, output_location=f'{s3_staging_dir}/feature_store_queries/test/')\n",
    "test_query.wait()\n",
    "test_df = test_query.as_dataframe()\n",
    "\n",
    "# --- Validation Data (10%) ---\n",
    "validation_query_string = query_template + \" BETWEEN 90 AND 99\"\n",
    "validation_query = feature_group.athena_query()\n",
    "validation_query.run(query_string=validation_query_string, output_location=f'{s3_staging_dir}/feature_store_queries/validation/')\n",
    "validation_query.wait()\n",
    "validation_df = validation_query.as_dataframe()\n",
    "\n",
    "# Verify the shapes of the resulting DataFrames\n",
    "print(f\"Training set shape:   {train_df.shape}\")\n",
    "print(f\"Production set shape: {prod_df.shape}\")\n",
    "print(f\"Test set shape:       {test_df.shape}\")\n",
    "print(f\"Validation set shape: {validation_df.shape}\")"
   ]
  },
  {
   "cell_type": "code",
   "execution_count": 43,
   "id": "aa837437-516e-4507-9e60-01c83618d647",
   "metadata": {
    "execution": {
     "iopub.execute_input": "2025-10-03T04:30:25.429311Z",
     "iopub.status.busy": "2025-10-03T04:30:25.428956Z",
     "iopub.status.idle": "2025-10-03T04:30:25.459045Z",
     "shell.execute_reply": "2025-10-03T04:30:25.458358Z",
     "shell.execute_reply.started": "2025-10-03T04:30:25.429283Z"
    }
   },
   "outputs": [
    {
     "data": {
      "text/html": [
       "<div>\n",
       "<style scoped>\n",
       "    .dataframe tbody tr th:only-of-type {\n",
       "        vertical-align: middle;\n",
       "    }\n",
       "\n",
       "    .dataframe tbody tr th {\n",
       "        vertical-align: top;\n",
       "    }\n",
       "\n",
       "    .dataframe thead th {\n",
       "        text-align: right;\n",
       "    }\n",
       "</style>\n",
       "<table border=\"1\" class=\"dataframe\">\n",
       "  <thead>\n",
       "    <tr style=\"text-align: right;\">\n",
       "      <th></th>\n",
       "      <th>code</th>\n",
       "      <th>product_name</th>\n",
       "      <th>nova_group</th>\n",
       "      <th>additives_n</th>\n",
       "      <th>ingredients_n</th>\n",
       "      <th>nutriscore_score</th>\n",
       "      <th>energy_100g</th>\n",
       "      <th>salt_100g</th>\n",
       "      <th>carbohydrates_100g</th>\n",
       "      <th>cholesterol_100g</th>\n",
       "      <th>...</th>\n",
       "      <th>nova_group_100g</th>\n",
       "      <th>nutrition_score_fr_100g</th>\n",
       "      <th>vitamin_a_100g</th>\n",
       "      <th>iron_100g</th>\n",
       "      <th>calcium_100g</th>\n",
       "      <th>vitamin_c_100g</th>\n",
       "      <th>eventtime</th>\n",
       "      <th>write_time</th>\n",
       "      <th>api_invocation_time</th>\n",
       "      <th>is_deleted</th>\n",
       "    </tr>\n",
       "  </thead>\n",
       "  <tbody>\n",
       "    <tr>\n",
       "      <th>0</th>\n",
       "      <td>0769745001238</td>\n",
       "      <td>Bars</td>\n",
       "      <td>4</td>\n",
       "      <td>1</td>\n",
       "      <td>15</td>\n",
       "      <td>12</td>\n",
       "      <td>1703.0</td>\n",
       "      <td>0.1275</td>\n",
       "      <td>55.93</td>\n",
       "      <td>0.0</td>\n",
       "      <td>...</td>\n",
       "      <td>4.0</td>\n",
       "      <td>12.0</td>\n",
       "      <td>0.001017</td>\n",
       "      <td>0.0061</td>\n",
       "      <td>0.339</td>\n",
       "      <td>0.0041</td>\n",
       "      <td>1.759244e+09</td>\n",
       "      <td>2025-09-30 14:57:54.124</td>\n",
       "      <td>2025-09-30 14:52:56.000</td>\n",
       "      <td>False</td>\n",
       "    </tr>\n",
       "    <tr>\n",
       "      <th>1</th>\n",
       "      <td>0642526682027</td>\n",
       "      <td>Country house</td>\n",
       "      <td>3</td>\n",
       "      <td>0</td>\n",
       "      <td>10</td>\n",
       "      <td>9</td>\n",
       "      <td>2092.0</td>\n",
       "      <td>0.2925</td>\n",
       "      <td>40.00</td>\n",
       "      <td>0.0</td>\n",
       "      <td>...</td>\n",
       "      <td>3.0</td>\n",
       "      <td>9.0</td>\n",
       "      <td>0.000000</td>\n",
       "      <td>0.0048</td>\n",
       "      <td>0.200</td>\n",
       "      <td>0.0000</td>\n",
       "      <td>1.759244e+09</td>\n",
       "      <td>2025-09-30 14:57:54.124</td>\n",
       "      <td>2025-09-30 14:52:56.000</td>\n",
       "      <td>False</td>\n",
       "    </tr>\n",
       "    <tr>\n",
       "      <th>2</th>\n",
       "      <td>0811627020414</td>\n",
       "      <td>Gourmet select</td>\n",
       "      <td>4</td>\n",
       "      <td>2</td>\n",
       "      <td>28</td>\n",
       "      <td>33</td>\n",
       "      <td>2092.0</td>\n",
       "      <td>0.5825</td>\n",
       "      <td>70.00</td>\n",
       "      <td>0.0</td>\n",
       "      <td>...</td>\n",
       "      <td>4.0</td>\n",
       "      <td>33.0</td>\n",
       "      <td>0.000000</td>\n",
       "      <td>0.0000</td>\n",
       "      <td>0.067</td>\n",
       "      <td>0.0000</td>\n",
       "      <td>1.759244e+09</td>\n",
       "      <td>2025-09-30 14:57:54.124</td>\n",
       "      <td>2025-09-30 14:52:57.000</td>\n",
       "      <td>False</td>\n",
       "    </tr>\n",
       "  </tbody>\n",
       "</table>\n",
       "<p>3 rows × 30 columns</p>\n",
       "</div>"
      ],
      "text/plain": [
       "            code    product_name  nova_group  additives_n  ingredients_n  \\\n",
       "0  0769745001238            Bars           4            1             15   \n",
       "1  0642526682027   Country house           3            0             10   \n",
       "2  0811627020414  Gourmet select           4            2             28   \n",
       "\n",
       "   nutriscore_score  energy_100g  salt_100g  carbohydrates_100g  \\\n",
       "0                12       1703.0     0.1275               55.93   \n",
       "1                 9       2092.0     0.2925               40.00   \n",
       "2                33       2092.0     0.5825               70.00   \n",
       "\n",
       "   cholesterol_100g  ...  nova_group_100g  nutrition_score_fr_100g  \\\n",
       "0               0.0  ...              4.0                     12.0   \n",
       "1               0.0  ...              3.0                      9.0   \n",
       "2               0.0  ...              4.0                     33.0   \n",
       "\n",
       "   vitamin_a_100g  iron_100g  calcium_100g  vitamin_c_100g     eventtime  \\\n",
       "0        0.001017     0.0061         0.339          0.0041  1.759244e+09   \n",
       "1        0.000000     0.0048         0.200          0.0000  1.759244e+09   \n",
       "2        0.000000     0.0000         0.067          0.0000  1.759244e+09   \n",
       "\n",
       "                write_time      api_invocation_time  is_deleted  \n",
       "0  2025-09-30 14:57:54.124  2025-09-30 14:52:56.000       False  \n",
       "1  2025-09-30 14:57:54.124  2025-09-30 14:52:56.000       False  \n",
       "2  2025-09-30 14:57:54.124  2025-09-30 14:52:57.000       False  \n",
       "\n",
       "[3 rows x 30 columns]"
      ]
     },
     "execution_count": 43,
     "metadata": {},
     "output_type": "execute_result"
    }
   ],
   "source": [
    "# View training data samples\n",
    "train_df.head(3)"
   ]
  },
  {
   "cell_type": "code",
   "execution_count": null,
   "id": "2ecd574f-1146-4935-b5a2-1f48d5452451",
   "metadata": {},
   "outputs": [],
   "source": [
    "# Perform Standardization scaling for regression (ONLY ON TRAINING DATA)\n"
   ]
  },
  {
   "cell_type": "code",
   "execution_count": null,
   "id": "d309ed99-2bab-4c19-bf9e-edddc8fff728",
   "metadata": {},
   "outputs": [],
   "source": []
  },
  {
   "cell_type": "code",
   "execution_count": null,
   "id": "01902ad1-3425-41aa-8de1-b1c6b5fa360b",
   "metadata": {},
   "outputs": [],
   "source": []
  },
  {
   "cell_type": "code",
   "execution_count": null,
   "id": "48668889-b7f6-424e-bc3d-3588b2d521d1",
   "metadata": {},
   "outputs": [],
   "source": []
  },
  {
   "cell_type": "code",
   "execution_count": null,
   "id": "a7e24ecb-d0b0-462f-9adc-687d329319bd",
   "metadata": {},
   "outputs": [],
   "source": []
  },
  {
   "cell_type": "code",
   "execution_count": null,
   "id": "126457f1-618b-4f0c-9d91-84afb5fb0402",
   "metadata": {},
   "outputs": [],
   "source": []
  },
  {
   "cell_type": "code",
   "execution_count": null,
   "id": "3413ba95-5c54-4e9c-8b53-445be794053c",
   "metadata": {},
   "outputs": [],
   "source": []
  },
  {
   "cell_type": "code",
   "execution_count": null,
   "id": "53d4283c-8d74-4e35-94bb-b97958a0c9e8",
   "metadata": {},
   "outputs": [],
   "source": []
  }
 ],
 "metadata": {
  "kernelspec": {
   "display_name": "Python 3 (ipykernel)",
   "language": "python",
   "name": "python3"
  },
  "language_info": {
   "codemirror_mode": {
    "name": "ipython",
    "version": 3
   },
   "file_extension": ".py",
   "mimetype": "text/x-python",
   "name": "python",
   "nbconvert_exporter": "python",
   "pygments_lexer": "ipython3",
   "version": "3.12.9"
  }
 },
 "nbformat": 4,
 "nbformat_minor": 5
}
