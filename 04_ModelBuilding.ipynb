{
 "cells": [
  {
   "cell_type": "markdown",
   "id": "c4d783b3-58e0-48f8-9d91-32a485ab6a2d",
   "metadata": {},
   "source": [
    "# Model Building"
   ]
  },
  {
   "cell_type": "code",
   "execution_count": 2,
   "id": "74f669e3-9e78-40a4-b694-1a2656b9c354",
   "metadata": {
    "execution": {
     "iopub.execute_input": "2025-10-03T12:42:25.424185Z",
     "iopub.status.busy": "2025-10-03T12:42:25.423782Z",
     "iopub.status.idle": "2025-10-03T12:42:28.747799Z",
     "shell.execute_reply": "2025-10-03T12:42:28.747047Z",
     "shell.execute_reply.started": "2025-10-03T12:42:25.424144Z"
    }
   },
   "outputs": [
    {
     "name": "stdout",
     "output_type": "stream",
     "text": [
      "sagemaker.config INFO - Not applying SDK defaults from location: /etc/xdg/sagemaker/config.yaml\n",
      "sagemaker.config INFO - Not applying SDK defaults from location: /home/sagemaker-user/.config/sagemaker/config.yaml\n"
     ]
    }
   ],
   "source": [
    "# Import libraries\n",
    "import pandas as pd\n",
    "import boto3\n",
    "import sagemaker\n",
    "from pyathena import connect\n",
    "from sagemaker.session import Session\n",
    "from sagemaker.feature_store.feature_group import FeatureGroup"
   ]
  },
  {
   "cell_type": "code",
   "execution_count": 3,
   "id": "314a1cfc-a912-41ef-bd1c-91d918ee3f6c",
   "metadata": {
    "execution": {
     "iopub.execute_input": "2025-10-03T12:42:30.164300Z",
     "iopub.status.busy": "2025-10-03T12:42:30.163770Z",
     "iopub.status.idle": "2025-10-03T12:42:32.024705Z",
     "shell.execute_reply": "2025-10-03T12:42:32.023515Z",
     "shell.execute_reply.started": "2025-10-03T12:42:30.164275Z"
    }
   },
   "outputs": [
    {
     "name": "stdout",
     "output_type": "stream",
     "text": [
      "{\n",
      "    \"FeatureGroupSummaries\": [\n",
      "        {\n",
      "            \"FeatureGroupName\": \"foodlens-products-feature-group-30-14-49-50\",\n",
      "            \"FeatureGroupArn\": \"arn:aws:sagemaker:us-east-1:654654380268:feature-group/foodlens-products-feature-group-30-14-49-50\",\n",
      "            \"CreationTime\": \"2025-09-30T14:49:51.125000+00:00\",\n",
      "            \"FeatureGroupStatus\": \"Created\",\n",
      "            \"OfflineStoreStatus\": {\n",
      "                \"Status\": \"Active\"\n",
      "            }\n",
      "        }\n",
      "    ]\n",
      "}\n"
     ]
    }
   ],
   "source": [
    "# View created feature groups\n",
    "!aws sagemaker list-feature-groups"
   ]
  },
  {
   "cell_type": "code",
   "execution_count": 4,
   "id": "83bf33c6-5a3e-447d-a0bf-f4077aef1f90",
   "metadata": {
    "execution": {
     "iopub.execute_input": "2025-10-03T12:42:49.045033Z",
     "iopub.status.busy": "2025-10-03T12:42:49.044765Z",
     "iopub.status.idle": "2025-10-03T12:42:49.048479Z",
     "shell.execute_reply": "2025-10-03T12:42:49.047591Z",
     "shell.execute_reply.started": "2025-10-03T12:42:49.045009Z"
    }
   },
   "outputs": [],
   "source": [
    "# Change this to your feature group (ex. \"foodlens-products-feature-group-30-14-49-50\")\n",
    "# feature_group_name = None\n",
    "feature_group_name = \"foodlens-products-feature-group-30-14-49-50\"\n",
    "assert feature_group_name is not None"
   ]
  },
  {
   "cell_type": "code",
   "execution_count": 5,
   "id": "ee31df5c-56ac-4e87-9cfd-fab0fdbea7b4",
   "metadata": {
    "execution": {
     "iopub.execute_input": "2025-10-03T12:42:52.924555Z",
     "iopub.status.busy": "2025-10-03T12:42:52.924290Z",
     "iopub.status.idle": "2025-10-03T12:42:53.825830Z",
     "shell.execute_reply": "2025-10-03T12:42:53.825123Z",
     "shell.execute_reply.started": "2025-10-03T12:42:52.924534Z"
    }
   },
   "outputs": [],
   "source": [
    "# Initialize SageMaker session and Feature Group\n",
    "# Setup boto and sagemaker session\n",
    "sess = sagemaker.Session()\n",
    "bucket = sess.default_bucket()\n",
    "role = sagemaker.get_execution_role()\n",
    "region = boto3.Session().region_name\n",
    "feature_group = FeatureGroup(name=feature_group_name, sagemaker_session=sess)\n",
    "\n",
    "# Initialize athena query staging\n",
    "s3_staging_dir = \"s3://{0}/athena/staging\".format(bucket)\n",
    "\n",
    "# Create connection to Athena database\n",
    "conn = connect(region_name=region, s3_staging_dir=s3_staging_dir)"
   ]
  },
  {
   "cell_type": "code",
   "execution_count": 6,
   "id": "62969268-0aca-4a29-9825-8a57633199a1",
   "metadata": {
    "execution": {
     "iopub.execute_input": "2025-10-03T12:42:56.764702Z",
     "iopub.status.busy": "2025-10-03T12:42:56.764432Z",
     "iopub.status.idle": "2025-10-03T12:42:57.163258Z",
     "shell.execute_reply": "2025-10-03T12:42:57.162573Z",
     "shell.execute_reply.started": "2025-10-03T12:42:56.764680Z"
    }
   },
   "outputs": [
    {
     "name": "stdout",
     "output_type": "stream",
     "text": [
      "Athena Table Name: foodlens_products_feature_group_30_14_49_50_1759243791\n",
      "Record Identifier: code\n"
     ]
    }
   ],
   "source": [
    "# Get the name of the unique identifier column\n",
    "record_id_name = feature_group.describe()['RecordIdentifierFeatureName']\n",
    "\n",
    "# Get the Athena table name\n",
    "query = feature_group.athena_query()\n",
    "table_name = query.table_name\n",
    "\n",
    "print(f\"Athena Table Name: {table_name}\")\n",
    "print(f\"Record Identifier: {record_id_name}\")"
   ]
  },
  {
   "cell_type": "code",
   "execution_count": 9,
   "id": "afde61b5-9354-48c3-b8d7-5ca928b95021",
   "metadata": {
    "execution": {
     "iopub.execute_input": "2025-10-03T12:53:59.745481Z",
     "iopub.status.busy": "2025-10-03T12:53:59.745192Z",
     "iopub.status.idle": "2025-10-03T12:54:02.195033Z",
     "shell.execute_reply": "2025-10-03T12:54:02.190501Z",
     "shell.execute_reply.started": "2025-10-03T12:53:59.745461Z"
    }
   },
   "outputs": [
    {
     "name": "stdout",
     "output_type": "stream",
     "text": [
      "SELECT COUNT(DISTINCT \"code\") \n",
      "FROM sagemaker_featurestore.foodlens_products_feature_group_30_14_49_50_1759243791\n"
     ]
    },
    {
     "name": "stderr",
     "output_type": "stream",
     "text": [
      "/tmp/ipykernel_175/3127886201.py:5: UserWarning: pandas only supports SQLAlchemy connectable (engine/connection) or database string URI or sqlite3 DBAPI2 connection. Other DBAPI2 objects are not tested. Please consider using SQLAlchemy.\n",
      "  df = pd.read_sql(statement, conn)\n"
     ]
    },
    {
     "data": {
      "text/html": [
       "<div>\n",
       "<style scoped>\n",
       "    .dataframe tbody tr th:only-of-type {\n",
       "        vertical-align: middle;\n",
       "    }\n",
       "\n",
       "    .dataframe tbody tr th {\n",
       "        vertical-align: top;\n",
       "    }\n",
       "\n",
       "    .dataframe thead th {\n",
       "        text-align: right;\n",
       "    }\n",
       "</style>\n",
       "<table border=\"1\" class=\"dataframe\">\n",
       "  <thead>\n",
       "    <tr style=\"text-align: right;\">\n",
       "      <th></th>\n",
       "      <th>_col0</th>\n",
       "    </tr>\n",
       "  </thead>\n",
       "  <tbody>\n",
       "    <tr>\n",
       "      <th>0</th>\n",
       "      <td>100000</td>\n",
       "    </tr>\n",
       "  </tbody>\n",
       "</table>\n",
       "</div>"
      ],
      "text/plain": [
       "    _col0\n",
       "0  100000"
      ]
     },
     "execution_count": 9,
     "metadata": {},
     "output_type": "execute_result"
    }
   ],
   "source": [
    "# Verify 100k unique records in feature store\n",
    "statement = \"\"\"SELECT COUNT(DISTINCT \"code\") \n",
    "FROM sagemaker_featurestore.{}\"\"\".format(table_name)\n",
    "print(statement)\n",
    "df = pd.read_sql(statement, conn)\n",
    "df"
   ]
  },
  {
   "cell_type": "code",
   "execution_count": 10,
   "id": "62e89afc-470a-4490-843e-e1f92ebddda5",
   "metadata": {
    "execution": {
     "iopub.execute_input": "2025-10-03T12:55:47.989378Z",
     "iopub.status.busy": "2025-10-03T12:55:47.989091Z",
     "iopub.status.idle": "2025-10-03T12:56:10.950347Z",
     "shell.execute_reply": "2025-10-03T12:56:10.949652Z",
     "shell.execute_reply.started": "2025-10-03T12:55:47.989355Z"
    }
   },
   "outputs": [
    {
     "name": "stderr",
     "output_type": "stream",
     "text": [
      "/opt/conda/lib/python3.12/site-packages/sagemaker/feature_store/feature_group.py:177: DtypeWarning: Columns (0) have mixed types. Specify dtype option on import or set low_memory=False.\n",
      "  return pd.read_csv(filepath_or_buffer=output_filename, delimiter=\",\", **kwargs)\n"
     ]
    },
    {
     "name": "stdout",
     "output_type": "stream",
     "text": [
      "Training set shape:   (39955, 30)\n",
      "Production set shape: (39992, 30)\n",
      "Test set shape:       (9962, 30)\n",
      "Validation set shape: (10091, 30)\n"
     ]
    }
   ],
   "source": [
    "# Split data into training/testing/validation/production sets\n",
    "\n",
    "# Base query template\n",
    "# We use xxhash64 for its speed. It creates a deterministic hash for each record ID.\n",
    "query_template = f\"\"\"\n",
    "SELECT *\n",
    "FROM \"{table_name}\"\n",
    "WHERE MOD(ABS(from_big_endian_64(xxhash64(CAST(\"{record_id_name}\" AS VARBINARY)))), 100)\n",
    "\"\"\"\n",
    "\n",
    "# --- Training Data (40%) ---\n",
    "train_query_string = query_template + \" BETWEEN 0 AND 39\"\n",
    "train_query = feature_group.athena_query()\n",
    "train_query.run(query_string=train_query_string, output_location=f'{s3_staging_dir}/feature_store_queries/train/')\n",
    "train_query.wait()\n",
    "train_df = train_query.as_dataframe()\n",
    "\n",
    "# --- Production Data (40%) ---\n",
    "prod_query_string = query_template + \" BETWEEN 40 AND 79\"\n",
    "prod_query = feature_group.athena_query()\n",
    "prod_query.run(query_string=prod_query_string, output_location=f'{s3_staging_dir}/feature_store_queries/prod/')\n",
    "prod_query.wait()\n",
    "prod_df = prod_query.as_dataframe()\n",
    "\n",
    "# --- Test Data (10%) ---\n",
    "test_query_string = query_template + \" BETWEEN 80 AND 89\"\n",
    "test_query = feature_group.athena_query()\n",
    "test_query.run(query_string=test_query_string, output_location=f'{s3_staging_dir}/feature_store_queries/test/')\n",
    "test_query.wait()\n",
    "test_df = test_query.as_dataframe()\n",
    "\n",
    "# --- Validation Data (10%) ---\n",
    "validation_query_string = query_template + \" BETWEEN 90 AND 99\"\n",
    "validation_query = feature_group.athena_query()\n",
    "validation_query.run(query_string=validation_query_string, output_location=f'{s3_staging_dir}/feature_store_queries/validation/')\n",
    "validation_query.wait()\n",
    "validation_df = validation_query.as_dataframe()\n",
    "\n",
    "# Verify the shapes of the resulting DataFrames\n",
    "print(f\"Training set shape:   {train_df.shape}\")\n",
    "print(f\"Production set shape: {prod_df.shape}\")\n",
    "print(f\"Test set shape:       {test_df.shape}\")\n",
    "print(f\"Validation set shape: {validation_df.shape}\")"
   ]
  },
  {
   "cell_type": "code",
   "execution_count": 11,
   "id": "aa837437-516e-4507-9e60-01c83618d647",
   "metadata": {
    "execution": {
     "iopub.execute_input": "2025-10-03T13:02:29.324268Z",
     "iopub.status.busy": "2025-10-03T13:02:29.323860Z",
     "iopub.status.idle": "2025-10-03T13:02:29.351762Z",
     "shell.execute_reply": "2025-10-03T13:02:29.351144Z",
     "shell.execute_reply.started": "2025-10-03T13:02:29.324245Z"
    }
   },
   "outputs": [
    {
     "data": {
      "text/html": [
       "<div>\n",
       "<style scoped>\n",
       "    .dataframe tbody tr th:only-of-type {\n",
       "        vertical-align: middle;\n",
       "    }\n",
       "\n",
       "    .dataframe tbody tr th {\n",
       "        vertical-align: top;\n",
       "    }\n",
       "\n",
       "    .dataframe thead th {\n",
       "        text-align: right;\n",
       "    }\n",
       "</style>\n",
       "<table border=\"1\" class=\"dataframe\">\n",
       "  <thead>\n",
       "    <tr style=\"text-align: right;\">\n",
       "      <th></th>\n",
       "      <th>code</th>\n",
       "      <th>product_name</th>\n",
       "      <th>nova_group</th>\n",
       "      <th>additives_n</th>\n",
       "      <th>ingredients_n</th>\n",
       "      <th>nutriscore_score</th>\n",
       "      <th>energy_100g</th>\n",
       "      <th>salt_100g</th>\n",
       "      <th>carbohydrates_100g</th>\n",
       "      <th>cholesterol_100g</th>\n",
       "      <th>...</th>\n",
       "      <th>nova_group_100g</th>\n",
       "      <th>nutrition_score_fr_100g</th>\n",
       "      <th>vitamin_a_100g</th>\n",
       "      <th>iron_100g</th>\n",
       "      <th>calcium_100g</th>\n",
       "      <th>vitamin_c_100g</th>\n",
       "      <th>eventtime</th>\n",
       "      <th>write_time</th>\n",
       "      <th>api_invocation_time</th>\n",
       "      <th>is_deleted</th>\n",
       "    </tr>\n",
       "  </thead>\n",
       "  <tbody>\n",
       "    <tr>\n",
       "      <th>0</th>\n",
       "      <td>0033474403183</td>\n",
       "      <td>Sandwich Rolls</td>\n",
       "      <td>4</td>\n",
       "      <td>3</td>\n",
       "      <td>23</td>\n",
       "      <td>6</td>\n",
       "      <td>1149.0</td>\n",
       "      <td>1.344700</td>\n",
       "      <td>52.94</td>\n",
       "      <td>0.0000</td>\n",
       "      <td>...</td>\n",
       "      <td>4.0</td>\n",
       "      <td>6.0</td>\n",
       "      <td>0.000000e+00</td>\n",
       "      <td>0.00282</td>\n",
       "      <td>0.000000</td>\n",
       "      <td>0.0071</td>\n",
       "      <td>1.759244e+09</td>\n",
       "      <td>2025-09-30 14:57:54.084</td>\n",
       "      <td>2025-09-30 14:52:54.000</td>\n",
       "      <td>False</td>\n",
       "    </tr>\n",
       "    <tr>\n",
       "      <th>1</th>\n",
       "      <td>0041900074265</td>\n",
       "      <td>Chocolate Chip Ice Cream</td>\n",
       "      <td>4</td>\n",
       "      <td>4</td>\n",
       "      <td>21</td>\n",
       "      <td>21</td>\n",
       "      <td>1270.0</td>\n",
       "      <td>0.000313</td>\n",
       "      <td>42.80</td>\n",
       "      <td>0.0381</td>\n",
       "      <td>...</td>\n",
       "      <td>4.0</td>\n",
       "      <td>21.0</td>\n",
       "      <td>2.270000e-10</td>\n",
       "      <td>0.00000</td>\n",
       "      <td>0.000252</td>\n",
       "      <td>0.0000</td>\n",
       "      <td>1.759244e+09</td>\n",
       "      <td>2025-09-30 14:57:54.084</td>\n",
       "      <td>2025-09-30 14:52:55.000</td>\n",
       "      <td>False</td>\n",
       "    </tr>\n",
       "    <tr>\n",
       "      <th>2</th>\n",
       "      <td>0799189000153</td>\n",
       "      <td>Ginger Ale</td>\n",
       "      <td>4</td>\n",
       "      <td>3</td>\n",
       "      <td>7</td>\n",
       "      <td>8</td>\n",
       "      <td>117.0</td>\n",
       "      <td>0.020000</td>\n",
       "      <td>7.32</td>\n",
       "      <td>0.0000</td>\n",
       "      <td>...</td>\n",
       "      <td>4.0</td>\n",
       "      <td>8.0</td>\n",
       "      <td>0.000000e+00</td>\n",
       "      <td>0.00071</td>\n",
       "      <td>0.025400</td>\n",
       "      <td>0.0000</td>\n",
       "      <td>1.759244e+09</td>\n",
       "      <td>2025-09-30 14:57:54.084</td>\n",
       "      <td>2025-09-30 14:52:55.000</td>\n",
       "      <td>False</td>\n",
       "    </tr>\n",
       "  </tbody>\n",
       "</table>\n",
       "<p>3 rows × 30 columns</p>\n",
       "</div>"
      ],
      "text/plain": [
       "            code              product_name  nova_group  additives_n  \\\n",
       "0  0033474403183            Sandwich Rolls           4            3   \n",
       "1  0041900074265  Chocolate Chip Ice Cream           4            4   \n",
       "2  0799189000153                Ginger Ale           4            3   \n",
       "\n",
       "   ingredients_n  nutriscore_score  energy_100g  salt_100g  \\\n",
       "0             23                 6       1149.0   1.344700   \n",
       "1             21                21       1270.0   0.000313   \n",
       "2              7                 8        117.0   0.020000   \n",
       "\n",
       "   carbohydrates_100g  cholesterol_100g  ...  nova_group_100g  \\\n",
       "0               52.94            0.0000  ...              4.0   \n",
       "1               42.80            0.0381  ...              4.0   \n",
       "2                7.32            0.0000  ...              4.0   \n",
       "\n",
       "   nutrition_score_fr_100g  vitamin_a_100g  iron_100g  calcium_100g  \\\n",
       "0                      6.0    0.000000e+00    0.00282      0.000000   \n",
       "1                     21.0    2.270000e-10    0.00000      0.000252   \n",
       "2                      8.0    0.000000e+00    0.00071      0.025400   \n",
       "\n",
       "   vitamin_c_100g     eventtime               write_time  \\\n",
       "0          0.0071  1.759244e+09  2025-09-30 14:57:54.084   \n",
       "1          0.0000  1.759244e+09  2025-09-30 14:57:54.084   \n",
       "2          0.0000  1.759244e+09  2025-09-30 14:57:54.084   \n",
       "\n",
       "       api_invocation_time  is_deleted  \n",
       "0  2025-09-30 14:52:54.000       False  \n",
       "1  2025-09-30 14:52:55.000       False  \n",
       "2  2025-09-30 14:52:55.000       False  \n",
       "\n",
       "[3 rows x 30 columns]"
      ]
     },
     "execution_count": 11,
     "metadata": {},
     "output_type": "execute_result"
    }
   ],
   "source": [
    "# View training data samples\n",
    "train_df.head(3)"
   ]
  },
  {
   "cell_type": "code",
   "execution_count": null,
   "id": "2ecd574f-1146-4935-b5a2-1f48d5452451",
   "metadata": {},
   "outputs": [],
   "source": [
    "# Perform Standardization scaling for regression (ONLY ON TRAINING DATA)\n"
   ]
  },
  {
   "cell_type": "code",
   "execution_count": null,
   "id": "d309ed99-2bab-4c19-bf9e-edddc8fff728",
   "metadata": {},
   "outputs": [],
   "source": []
  },
  {
   "cell_type": "code",
   "execution_count": null,
   "id": "01902ad1-3425-41aa-8de1-b1c6b5fa360b",
   "metadata": {},
   "outputs": [],
   "source": []
  },
  {
   "cell_type": "code",
   "execution_count": null,
   "id": "48668889-b7f6-424e-bc3d-3588b2d521d1",
   "metadata": {},
   "outputs": [],
   "source": []
  },
  {
   "cell_type": "code",
   "execution_count": null,
   "id": "a7e24ecb-d0b0-462f-9adc-687d329319bd",
   "metadata": {},
   "outputs": [],
   "source": []
  },
  {
   "cell_type": "code",
   "execution_count": null,
   "id": "126457f1-618b-4f0c-9d91-84afb5fb0402",
   "metadata": {},
   "outputs": [],
   "source": []
  },
  {
   "cell_type": "code",
   "execution_count": null,
   "id": "3413ba95-5c54-4e9c-8b53-445be794053c",
   "metadata": {},
   "outputs": [],
   "source": []
  },
  {
   "cell_type": "code",
   "execution_count": null,
   "id": "53d4283c-8d74-4e35-94bb-b97958a0c9e8",
   "metadata": {},
   "outputs": [],
   "source": []
  }
 ],
 "metadata": {
  "kernelspec": {
   "display_name": "Python 3 (ipykernel)",
   "language": "python",
   "name": "python3"
  },
  "language_info": {
   "codemirror_mode": {
    "name": "ipython",
    "version": 3
   },
   "file_extension": ".py",
   "mimetype": "text/x-python",
   "name": "python",
   "nbconvert_exporter": "python",
   "pygments_lexer": "ipython3",
   "version": "3.12.9"
  }
 },
 "nbformat": 4,
 "nbformat_minor": 5
}
