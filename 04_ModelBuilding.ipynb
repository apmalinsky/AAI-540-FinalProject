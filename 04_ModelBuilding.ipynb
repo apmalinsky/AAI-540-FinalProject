{
 "cells": [
  {
   "cell_type": "markdown",
   "id": "c4d783b3-58e0-48f8-9d91-32a485ab6a2d",
   "metadata": {},
   "source": [
    "# Model Building"
   ]
  },
  {
   "cell_type": "code",
   "execution_count": null,
   "id": "74f669e3-9e78-40a4-b694-1a2656b9c354",
   "metadata": {},
   "outputs": [],
   "source": [
    "# Import libraries\n"
   ]
  },
  {
   "cell_type": "code",
   "execution_count": null,
   "id": "ee31df5c-56ac-4e87-9cfd-fab0fdbea7b4",
   "metadata": {},
   "outputs": [],
   "source": [
    "# Confirm access to feature store and feature groups\n"
   ]
  },
  {
   "cell_type": "code",
   "execution_count": null,
   "id": "bd4d3c9b-b623-4a17-b494-7f69aaebb713",
   "metadata": {},
   "outputs": [],
   "source": []
  },
  {
   "cell_type": "code",
   "execution_count": null,
   "id": "62969268-0aca-4a29-9825-8a57633199a1",
   "metadata": {},
   "outputs": [],
   "source": []
  },
  {
   "cell_type": "code",
   "execution_count": null,
   "id": "62e89afc-470a-4490-843e-e1f92ebddda5",
   "metadata": {},
   "outputs": [],
   "source": [
    "# Split data into training/testing/validation/production sets"
   ]
  },
  {
   "cell_type": "code",
   "execution_count": null,
   "id": "aa837437-516e-4507-9e60-01c83618d647",
   "metadata": {},
   "outputs": [],
   "source": []
  },
  {
   "cell_type": "code",
   "execution_count": null,
   "id": "2ecd574f-1146-4935-b5a2-1f48d5452451",
   "metadata": {},
   "outputs": [],
   "source": [
    "# Perform Standardization scaling for regression (ONLY ON TRAINING DATA)\n"
   ]
  },
  {
   "cell_type": "code",
   "execution_count": null,
   "id": "d309ed99-2bab-4c19-bf9e-edddc8fff728",
   "metadata": {},
   "outputs": [],
   "source": []
  },
  {
   "cell_type": "code",
   "execution_count": null,
   "id": "3413ba95-5c54-4e9c-8b53-445be794053c",
   "metadata": {},
   "outputs": [],
   "source": []
  },
  {
   "cell_type": "code",
   "execution_count": null,
   "id": "53d4283c-8d74-4e35-94bb-b97958a0c9e8",
   "metadata": {},
   "outputs": [],
   "source": []
  }
 ],
 "metadata": {
  "kernelspec": {
   "display_name": "Python 3 (ipykernel)",
   "language": "python",
   "name": "python3"
  },
  "language_info": {
   "codemirror_mode": {
    "name": "ipython",
    "version": 3
   },
   "file_extension": ".py",
   "mimetype": "text/x-python",
   "name": "python",
   "nbconvert_exporter": "python",
   "pygments_lexer": "ipython3",
   "version": "3.12.9"
  }
 },
 "nbformat": 4,
 "nbformat_minor": 5
}
