{
 "cells": [
  {
   "cell_type": "markdown",
   "id": "c4d783b3-58e0-48f8-9d91-32a485ab6a2d",
   "metadata": {},
   "source": [
    "# Model Building"
   ]
  },
  {
   "cell_type": "code",
   "execution_count": 1,
   "id": "74f669e3-9e78-40a4-b694-1a2656b9c354",
   "metadata": {
    "execution": {
     "iopub.execute_input": "2025-10-20T00:16:42.558355Z",
     "iopub.status.busy": "2025-10-20T00:16:42.557922Z",
     "iopub.status.idle": "2025-10-20T00:16:47.013829Z",
     "shell.execute_reply": "2025-10-20T00:16:47.013017Z",
     "shell.execute_reply.started": "2025-10-20T00:16:42.558323Z"
    }
   },
   "outputs": [
    {
     "name": "stdout",
     "output_type": "stream",
     "text": [
      "sagemaker.config INFO - Not applying SDK defaults from location: /etc/xdg/sagemaker/config.yaml\n",
      "sagemaker.config INFO - Not applying SDK defaults from location: /home/sagemaker-user/.config/sagemaker/config.yaml\n"
     ]
    }
   ],
   "source": [
    "# Import libraries\n",
    "import pandas as pd\n",
    "import boto3\n",
    "import sagemaker\n",
    "from pyathena import connect\n",
    "from sagemaker.session import Session\n",
    "from sagemaker.feature_store.feature_group import FeatureGroup\n",
    "from sklearn.pipeline import Pipeline\n",
    "from sklearn.impute import SimpleImputer\n",
    "from sklearn.preprocessing import StandardScaler\n",
    "from time import gmtime, strftime, sleep\n",
    "from sagemaker.model import Model\n",
    "from sklearn.metrics import mean_squared_error, mean_absolute_error, r2_score\n",
    "from sklearn.linear_model import LinearRegression\n",
    "import numpy as np\n",
    "import matplotlib.pyplot as plt"
   ]
  },
  {
   "cell_type": "code",
   "execution_count": 2,
   "id": "314a1cfc-a912-41ef-bd1c-91d918ee3f6c",
   "metadata": {
    "execution": {
     "iopub.execute_input": "2025-10-20T00:16:47.016172Z",
     "iopub.status.busy": "2025-10-20T00:16:47.015770Z",
     "iopub.status.idle": "2025-10-20T00:16:48.610746Z",
     "shell.execute_reply": "2025-10-20T00:16:48.609870Z",
     "shell.execute_reply.started": "2025-10-20T00:16:47.016148Z"
    }
   },
   "outputs": [
    {
     "name": "stdout",
     "output_type": "stream",
     "text": [
      "{\n",
      "    \"FeatureGroupSummaries\": [\n",
      "        {\n",
      "            \"FeatureGroupName\": \"foodlens-products-feature-group-30-14-49-50\",\n",
      "            \"FeatureGroupArn\": \"arn:aws:sagemaker:us-east-1:654654380268:feature-group/foodlens-products-feature-group-30-14-49-50\",\n",
      "            \"CreationTime\": \"2025-09-30T14:49:51.125000+00:00\",\n",
      "            \"FeatureGroupStatus\": \"Created\",\n",
      "            \"OfflineStoreStatus\": {\n",
      "                \"Status\": \"Active\"\n",
      "            }\n",
      "        }\n",
      "    ]\n",
      "}\n"
     ]
    }
   ],
   "source": [
    "# View created feature groups\n",
    "!aws sagemaker list-feature-groups"
   ]
  },
  {
   "cell_type": "code",
   "execution_count": 3,
   "id": "83bf33c6-5a3e-447d-a0bf-f4077aef1f90",
   "metadata": {
    "execution": {
     "iopub.execute_input": "2025-10-20T00:16:48.613514Z",
     "iopub.status.busy": "2025-10-20T00:16:48.613255Z",
     "iopub.status.idle": "2025-10-20T00:16:48.617384Z",
     "shell.execute_reply": "2025-10-20T00:16:48.616542Z",
     "shell.execute_reply.started": "2025-10-20T00:16:48.613490Z"
    }
   },
   "outputs": [],
   "source": [
    "# Change this to your feature group (ex. \"foodlens-products-feature-group-30-14-49-50\")\n",
    "feature_group_name = \"foodlens-products-feature-group-30-14-49-50\"\n",
    "assert feature_group_name is not None"
   ]
  },
  {
   "cell_type": "code",
   "execution_count": 4,
   "id": "ee31df5c-56ac-4e87-9cfd-fab0fdbea7b4",
   "metadata": {
    "execution": {
     "iopub.execute_input": "2025-10-20T00:16:48.618956Z",
     "iopub.status.busy": "2025-10-20T00:16:48.618257Z",
     "iopub.status.idle": "2025-10-20T00:16:49.502043Z",
     "shell.execute_reply": "2025-10-20T00:16:49.501252Z",
     "shell.execute_reply.started": "2025-10-20T00:16:48.618926Z"
    }
   },
   "outputs": [],
   "source": [
    "# Initialize SageMaker session and Feature Group\n",
    "# Setup boto and sagemaker session\n",
    "sess = sagemaker.Session()\n",
    "bucket = sess.default_bucket()\n",
    "role = sagemaker.get_execution_role()\n",
    "region = boto3.Session().region_name\n",
    "feature_group = FeatureGroup(name=feature_group_name, sagemaker_session=sess)\n",
    "prefix = \"nutriscore-prediction-xgboost\"\n",
    "\n",
    "# Initialize athena query staging\n",
    "s3_staging_dir = \"s3://{0}/athena/staging\".format(bucket)\n",
    "\n",
    "# Create connection to Athena database\n",
    "conn = connect(region_name=region, s3_staging_dir=s3_staging_dir)"
   ]
  },
  {
   "cell_type": "code",
   "execution_count": 6,
   "id": "62969268-0aca-4a29-9825-8a57633199a1",
   "metadata": {
    "execution": {
     "iopub.execute_input": "2025-10-20T00:16:49.690645Z",
     "iopub.status.busy": "2025-10-20T00:16:49.690158Z",
     "iopub.status.idle": "2025-10-20T00:16:50.163708Z",
     "shell.execute_reply": "2025-10-20T00:16:50.162968Z",
     "shell.execute_reply.started": "2025-10-20T00:16:49.690614Z"
    }
   },
   "outputs": [
    {
     "name": "stdout",
     "output_type": "stream",
     "text": [
      "Athena Table Name: foodlens_products_feature_group_30_14_49_50_1759243791\n",
      "Record Identifier: code\n"
     ]
    }
   ],
   "source": [
    "# Describe feature group and get key attributes\n",
    "record_id_name = feature_group.describe()['RecordIdentifierFeatureName']\n",
    "table_name = feature_group.athena_query().table_name\n",
    "print(f\"Athena Table Name: {table_name}\")\n",
    "print(f\"Record Identifier: {record_id_name}\")"
   ]
  },
  {
   "cell_type": "code",
   "execution_count": 7,
   "id": "afde61b5-9354-48c3-b8d7-5ca928b95021",
   "metadata": {
    "execution": {
     "iopub.execute_input": "2025-10-20T00:16:50.164935Z",
     "iopub.status.busy": "2025-10-20T00:16:50.164661Z",
     "iopub.status.idle": "2025-10-20T00:16:51.761134Z",
     "shell.execute_reply": "2025-10-20T00:16:51.760256Z",
     "shell.execute_reply.started": "2025-10-20T00:16:50.164911Z"
    }
   },
   "outputs": [
    {
     "name": "stdout",
     "output_type": "stream",
     "text": [
      "SELECT COUNT(DISTINCT \"code\") \n",
      "FROM sagemaker_featurestore.foodlens_products_feature_group_30_14_49_50_1759243791\n"
     ]
    },
    {
     "name": "stderr",
     "output_type": "stream",
     "text": [
      "/tmp/ipykernel_625/3127886201.py:5: UserWarning: pandas only supports SQLAlchemy connectable (engine/connection) or database string URI or sqlite3 DBAPI2 connection. Other DBAPI2 objects are not tested. Please consider using SQLAlchemy.\n",
      "  df = pd.read_sql(statement, conn)\n"
     ]
    },
    {
     "data": {
      "text/html": [
       "<div>\n",
       "<style scoped>\n",
       "    .dataframe tbody tr th:only-of-type {\n",
       "        vertical-align: middle;\n",
       "    }\n",
       "\n",
       "    .dataframe tbody tr th {\n",
       "        vertical-align: top;\n",
       "    }\n",
       "\n",
       "    .dataframe thead th {\n",
       "        text-align: right;\n",
       "    }\n",
       "</style>\n",
       "<table border=\"1\" class=\"dataframe\">\n",
       "  <thead>\n",
       "    <tr style=\"text-align: right;\">\n",
       "      <th></th>\n",
       "      <th>_col0</th>\n",
       "    </tr>\n",
       "  </thead>\n",
       "  <tbody>\n",
       "    <tr>\n",
       "      <th>0</th>\n",
       "      <td>100000</td>\n",
       "    </tr>\n",
       "  </tbody>\n",
       "</table>\n",
       "</div>"
      ],
      "text/plain": [
       "    _col0\n",
       "0  100000"
      ]
     },
     "execution_count": 7,
     "metadata": {},
     "output_type": "execute_result"
    }
   ],
   "source": [
    "# Verify 100k unique records in feature store\n",
    "statement = \"\"\"SELECT COUNT(DISTINCT \"code\") \n",
    "FROM sagemaker_featurestore.{}\"\"\".format(table_name)\n",
    "print(statement)\n",
    "df = pd.read_sql(statement, conn)\n",
    "df"
   ]
  },
  {
   "cell_type": "markdown",
   "id": "c3fa4fbc-b891-470f-998f-47d5998238c2",
   "metadata": {},
   "source": [
    "## Prepare Dataset Splits"
   ]
  },
  {
   "cell_type": "code",
   "execution_count": 8,
   "id": "62e89afc-470a-4490-843e-e1f92ebddda5",
   "metadata": {
    "execution": {
     "iopub.execute_input": "2025-10-20T00:16:51.762140Z",
     "iopub.status.busy": "2025-10-20T00:16:51.761818Z",
     "iopub.status.idle": "2025-10-20T00:17:14.831599Z",
     "shell.execute_reply": "2025-10-20T00:17:14.830934Z",
     "shell.execute_reply.started": "2025-10-20T00:16:51.762119Z"
    }
   },
   "outputs": [
    {
     "name": "stdout",
     "output_type": "stream",
     "text": [
      "Training set shape:   (39955, 30)\n",
      "Production set shape: (39992, 30)\n",
      "Test set shape:       (9962, 30)\n",
      "Validation set shape: (10091, 30)\n"
     ]
    }
   ],
   "source": [
    "# Split data into training/testing/validation/production sets\n",
    "\n",
    "# Base query template\n",
    "# We use xxhash64 for its speed. It creates a deterministic hash for each record ID.\n",
    "query_template = f\"\"\"\n",
    "SELECT *\n",
    "FROM \"{table_name}\"\n",
    "WHERE MOD(ABS(from_big_endian_64(xxhash64(CAST(\"{record_id_name}\" AS VARBINARY)))), 100)\n",
    "\"\"\"\n",
    "\n",
    "# --- Training Data (40%) ---\n",
    "train_query_string = query_template + \" BETWEEN 0 AND 39\"\n",
    "train_query = feature_group.athena_query()\n",
    "train_query.run(query_string=train_query_string, output_location=f'{s3_staging_dir}/feature_store_queries/train/')\n",
    "train_query.wait()\n",
    "train_df = train_query.as_dataframe(dtype={0: str}) # code col as str\n",
    "\n",
    "# --- Production Data (40%) ---\n",
    "prod_query_string = query_template + \" BETWEEN 40 AND 79\"\n",
    "prod_query = feature_group.athena_query()\n",
    "prod_query.run(query_string=prod_query_string, output_location=f'{s3_staging_dir}/feature_store_queries/prod/')\n",
    "prod_query.wait()\n",
    "prod_df = prod_query.as_dataframe()\n",
    "\n",
    "# --- Test Data (10%) ---\n",
    "test_query_string = query_template + \" BETWEEN 80 AND 89\"\n",
    "test_query = feature_group.athena_query()\n",
    "test_query.run(query_string=test_query_string, output_location=f'{s3_staging_dir}/feature_store_queries/test/')\n",
    "test_query.wait()\n",
    "test_df = test_query.as_dataframe()\n",
    "\n",
    "# --- Validation Data (10%) ---\n",
    "validation_query_string = query_template + \" BETWEEN 90 AND 99\"\n",
    "validation_query = feature_group.athena_query()\n",
    "validation_query.run(query_string=validation_query_string, output_location=f'{s3_staging_dir}/feature_store_queries/validation/')\n",
    "validation_query.wait()\n",
    "val_df = validation_query.as_dataframe()\n",
    "\n",
    "# Verify the shapes of the resulting DataFrames\n",
    "print(f\"Training set shape:   {train_df.shape}\")\n",
    "print(f\"Production set shape: {prod_df.shape}\")\n",
    "print(f\"Test set shape:       {test_df.shape}\")\n",
    "print(f\"Validation set shape: {val_df.shape}\")"
   ]
  },
  {
   "cell_type": "code",
   "execution_count": 9,
   "id": "aa837437-516e-4507-9e60-01c83618d647",
   "metadata": {
    "execution": {
     "iopub.execute_input": "2025-10-20T00:17:14.833494Z",
     "iopub.status.busy": "2025-10-20T00:17:14.832659Z",
     "iopub.status.idle": "2025-10-20T00:17:14.857471Z",
     "shell.execute_reply": "2025-10-20T00:17:14.856756Z",
     "shell.execute_reply.started": "2025-10-20T00:17:14.833469Z"
    }
   },
   "outputs": [
    {
     "data": {
      "text/html": [
       "<div>\n",
       "<style scoped>\n",
       "    .dataframe tbody tr th:only-of-type {\n",
       "        vertical-align: middle;\n",
       "    }\n",
       "\n",
       "    .dataframe tbody tr th {\n",
       "        vertical-align: top;\n",
       "    }\n",
       "\n",
       "    .dataframe thead th {\n",
       "        text-align: right;\n",
       "    }\n",
       "</style>\n",
       "<table border=\"1\" class=\"dataframe\">\n",
       "  <thead>\n",
       "    <tr style=\"text-align: right;\">\n",
       "      <th></th>\n",
       "      <th>code</th>\n",
       "      <th>product_name</th>\n",
       "      <th>nova_group</th>\n",
       "      <th>additives_n</th>\n",
       "      <th>ingredients_n</th>\n",
       "      <th>nutriscore_score</th>\n",
       "      <th>energy_100g</th>\n",
       "      <th>salt_100g</th>\n",
       "      <th>carbohydrates_100g</th>\n",
       "      <th>cholesterol_100g</th>\n",
       "      <th>sodium_100g</th>\n",
       "      <th>fiber_100g</th>\n",
       "      <th>fruits_vegetables_legumes_estimate_from_ingredients_100g</th>\n",
       "      <th>sugars_100g</th>\n",
       "      <th>saturated_fat_100g</th>\n",
       "      <th>trans_fat_100g</th>\n",
       "      <th>fat_100g</th>\n",
       "      <th>proteins_100g</th>\n",
       "      <th>fruits_vegetables_nuts_estimate_from_ingredients_100g</th>\n",
       "      <th>energy_kcal_100g</th>\n",
       "      <th>nova_group_100g</th>\n",
       "      <th>nutrition_score_fr_100g</th>\n",
       "      <th>vitamin_a_100g</th>\n",
       "      <th>iron_100g</th>\n",
       "      <th>calcium_100g</th>\n",
       "      <th>vitamin_c_100g</th>\n",
       "      <th>eventtime</th>\n",
       "      <th>write_time</th>\n",
       "      <th>api_invocation_time</th>\n",
       "      <th>is_deleted</th>\n",
       "    </tr>\n",
       "  </thead>\n",
       "  <tbody>\n",
       "    <tr>\n",
       "      <th>0</th>\n",
       "      <td>0855230002139</td>\n",
       "      <td>Mother In Laws Gochujang</td>\n",
       "      <td>3</td>\n",
       "      <td>0</td>\n",
       "      <td>5</td>\n",
       "      <td>27</td>\n",
       "      <td>855.0</td>\n",
       "      <td>4.550</td>\n",
       "      <td>40.90</td>\n",
       "      <td>0.0</td>\n",
       "      <td>1.820</td>\n",
       "      <td>2.27</td>\n",
       "      <td>0.000000</td>\n",
       "      <td>18.20</td>\n",
       "      <td>0.0</td>\n",
       "      <td>0.0</td>\n",
       "      <td>2.27</td>\n",
       "      <td>9.09</td>\n",
       "      <td>0.000000</td>\n",
       "      <td>205.0</td>\n",
       "      <td>3.0</td>\n",
       "      <td>27.0</td>\n",
       "      <td>0.000000</td>\n",
       "      <td>0.00071</td>\n",
       "      <td>0.0254</td>\n",
       "      <td>0.0000</td>\n",
       "      <td>1.759244e+09</td>\n",
       "      <td>2025-09-30 14:57:53.991</td>\n",
       "      <td>2025-09-30 14:52:54.000</td>\n",
       "      <td>False</td>\n",
       "    </tr>\n",
       "    <tr>\n",
       "      <th>1</th>\n",
       "      <td>0046569504160</td>\n",
       "      <td>Chicago green relish</td>\n",
       "      <td>4</td>\n",
       "      <td>5</td>\n",
       "      <td>16</td>\n",
       "      <td>14</td>\n",
       "      <td>464.0</td>\n",
       "      <td>1.340</td>\n",
       "      <td>28.57</td>\n",
       "      <td>0.0</td>\n",
       "      <td>0.536</td>\n",
       "      <td>0.90</td>\n",
       "      <td>53.333332</td>\n",
       "      <td>28.57</td>\n",
       "      <td>0.0</td>\n",
       "      <td>0.0</td>\n",
       "      <td>0.00</td>\n",
       "      <td>0.00</td>\n",
       "      <td>53.333332</td>\n",
       "      <td>111.0</td>\n",
       "      <td>4.0</td>\n",
       "      <td>14.0</td>\n",
       "      <td>0.000054</td>\n",
       "      <td>0.00071</td>\n",
       "      <td>0.0000</td>\n",
       "      <td>0.0000</td>\n",
       "      <td>1.759244e+09</td>\n",
       "      <td>2025-09-30 14:57:53.991</td>\n",
       "      <td>2025-09-30 14:52:54.000</td>\n",
       "      <td>False</td>\n",
       "    </tr>\n",
       "    <tr>\n",
       "      <th>2</th>\n",
       "      <td>0623237000201</td>\n",
       "      <td>6 Kaiser Buns</td>\n",
       "      <td>3</td>\n",
       "      <td>0</td>\n",
       "      <td>8</td>\n",
       "      <td>7</td>\n",
       "      <td>1004.0</td>\n",
       "      <td>1.485</td>\n",
       "      <td>48.00</td>\n",
       "      <td>0.0</td>\n",
       "      <td>0.594</td>\n",
       "      <td>1.60</td>\n",
       "      <td>0.000000</td>\n",
       "      <td>0.00</td>\n",
       "      <td>0.4</td>\n",
       "      <td>0.0</td>\n",
       "      <td>1.20</td>\n",
       "      <td>7.00</td>\n",
       "      <td>0.000000</td>\n",
       "      <td>240.0</td>\n",
       "      <td>3.0</td>\n",
       "      <td>7.0</td>\n",
       "      <td>0.000000</td>\n",
       "      <td>0.00252</td>\n",
       "      <td>0.0000</td>\n",
       "      <td>0.0048</td>\n",
       "      <td>1.759244e+09</td>\n",
       "      <td>2025-09-30 14:57:53.991</td>\n",
       "      <td>2025-09-30 14:52:54.000</td>\n",
       "      <td>False</td>\n",
       "    </tr>\n",
       "  </tbody>\n",
       "</table>\n",
       "</div>"
      ],
      "text/plain": [
       "            code              product_name  nova_group  additives_n  \\\n",
       "0  0855230002139  Mother In Laws Gochujang           3            0   \n",
       "1  0046569504160      Chicago green relish           4            5   \n",
       "2  0623237000201             6 Kaiser Buns           3            0   \n",
       "\n",
       "   ingredients_n  nutriscore_score  energy_100g  salt_100g  \\\n",
       "0              5                27        855.0      4.550   \n",
       "1             16                14        464.0      1.340   \n",
       "2              8                 7       1004.0      1.485   \n",
       "\n",
       "   carbohydrates_100g  cholesterol_100g  sodium_100g  fiber_100g  \\\n",
       "0               40.90               0.0        1.820        2.27   \n",
       "1               28.57               0.0        0.536        0.90   \n",
       "2               48.00               0.0        0.594        1.60   \n",
       "\n",
       "   fruits_vegetables_legumes_estimate_from_ingredients_100g  sugars_100g  \\\n",
       "0                                           0.000000               18.20   \n",
       "1                                          53.333332               28.57   \n",
       "2                                           0.000000                0.00   \n",
       "\n",
       "   saturated_fat_100g  trans_fat_100g  fat_100g  proteins_100g  \\\n",
       "0                 0.0             0.0      2.27           9.09   \n",
       "1                 0.0             0.0      0.00           0.00   \n",
       "2                 0.4             0.0      1.20           7.00   \n",
       "\n",
       "   fruits_vegetables_nuts_estimate_from_ingredients_100g  energy_kcal_100g  \\\n",
       "0                                           0.000000                 205.0   \n",
       "1                                          53.333332                 111.0   \n",
       "2                                           0.000000                 240.0   \n",
       "\n",
       "   nova_group_100g  nutrition_score_fr_100g  vitamin_a_100g  iron_100g  \\\n",
       "0              3.0                     27.0        0.000000    0.00071   \n",
       "1              4.0                     14.0        0.000054    0.00071   \n",
       "2              3.0                      7.0        0.000000    0.00252   \n",
       "\n",
       "   calcium_100g  vitamin_c_100g     eventtime               write_time  \\\n",
       "0        0.0254          0.0000  1.759244e+09  2025-09-30 14:57:53.991   \n",
       "1        0.0000          0.0000  1.759244e+09  2025-09-30 14:57:53.991   \n",
       "2        0.0000          0.0048  1.759244e+09  2025-09-30 14:57:53.991   \n",
       "\n",
       "       api_invocation_time  is_deleted  \n",
       "0  2025-09-30 14:52:54.000       False  \n",
       "1  2025-09-30 14:52:54.000       False  \n",
       "2  2025-09-30 14:52:54.000       False  "
      ]
     },
     "execution_count": 9,
     "metadata": {},
     "output_type": "execute_result"
    }
   ],
   "source": [
    "# View training data samples\n",
    "pd.set_option('display.max_columns', None)\n",
    "train_df.head(3)"
   ]
  },
  {
   "cell_type": "markdown",
   "id": "91f296f1-7d29-4a80-b7fa-8a7b00e2d01f",
   "metadata": {},
   "source": [
    "## Data Preprocessing"
   ]
  },
  {
   "cell_type": "code",
   "execution_count": 10,
   "id": "2ebdbc1f-2611-4045-aaa2-959fb7d5d52b",
   "metadata": {
    "execution": {
     "iopub.execute_input": "2025-10-20T00:17:14.858530Z",
     "iopub.status.busy": "2025-10-20T00:17:14.858298Z",
     "iopub.status.idle": "2025-10-20T00:17:14.902538Z",
     "shell.execute_reply": "2025-10-20T00:17:14.901782Z",
     "shell.execute_reply.started": "2025-10-20T00:17:14.858510Z"
    }
   },
   "outputs": [
    {
     "data": {
      "text/html": [
       "<div>\n",
       "<style scoped>\n",
       "    .dataframe tbody tr th:only-of-type {\n",
       "        vertical-align: middle;\n",
       "    }\n",
       "\n",
       "    .dataframe tbody tr th {\n",
       "        vertical-align: top;\n",
       "    }\n",
       "\n",
       "    .dataframe thead th {\n",
       "        text-align: right;\n",
       "    }\n",
       "</style>\n",
       "<table border=\"1\" class=\"dataframe\">\n",
       "  <thead>\n",
       "    <tr style=\"text-align: right;\">\n",
       "      <th></th>\n",
       "      <th>nova_group</th>\n",
       "      <th>additives_n</th>\n",
       "      <th>ingredients_n</th>\n",
       "      <th>energy_100g</th>\n",
       "      <th>salt_100g</th>\n",
       "      <th>carbohydrates_100g</th>\n",
       "      <th>cholesterol_100g</th>\n",
       "      <th>sodium_100g</th>\n",
       "      <th>fiber_100g</th>\n",
       "      <th>fruits_vegetables_legumes_estimate_from_ingredients_100g</th>\n",
       "      <th>sugars_100g</th>\n",
       "      <th>saturated_fat_100g</th>\n",
       "      <th>trans_fat_100g</th>\n",
       "      <th>fat_100g</th>\n",
       "      <th>proteins_100g</th>\n",
       "      <th>fruits_vegetables_nuts_estimate_from_ingredients_100g</th>\n",
       "      <th>energy_kcal_100g</th>\n",
       "      <th>nova_group_100g</th>\n",
       "      <th>vitamin_a_100g</th>\n",
       "      <th>iron_100g</th>\n",
       "      <th>calcium_100g</th>\n",
       "      <th>vitamin_c_100g</th>\n",
       "    </tr>\n",
       "  </thead>\n",
       "  <tbody>\n",
       "    <tr>\n",
       "      <th>0</th>\n",
       "      <td>3</td>\n",
       "      <td>0</td>\n",
       "      <td>5</td>\n",
       "      <td>855.0</td>\n",
       "      <td>4.5500</td>\n",
       "      <td>40.90</td>\n",
       "      <td>0.0</td>\n",
       "      <td>1.82000</td>\n",
       "      <td>2.27</td>\n",
       "      <td>0.000000</td>\n",
       "      <td>18.20</td>\n",
       "      <td>0.00</td>\n",
       "      <td>0.0</td>\n",
       "      <td>2.27</td>\n",
       "      <td>9.09</td>\n",
       "      <td>0.000000</td>\n",
       "      <td>205.00</td>\n",
       "      <td>3.0</td>\n",
       "      <td>0.000000</td>\n",
       "      <td>0.00071</td>\n",
       "      <td>0.0254</td>\n",
       "      <td>0.0000</td>\n",
       "    </tr>\n",
       "    <tr>\n",
       "      <th>1</th>\n",
       "      <td>4</td>\n",
       "      <td>5</td>\n",
       "      <td>16</td>\n",
       "      <td>464.0</td>\n",
       "      <td>1.3400</td>\n",
       "      <td>28.57</td>\n",
       "      <td>0.0</td>\n",
       "      <td>0.53600</td>\n",
       "      <td>0.90</td>\n",
       "      <td>53.333332</td>\n",
       "      <td>28.57</td>\n",
       "      <td>0.00</td>\n",
       "      <td>0.0</td>\n",
       "      <td>0.00</td>\n",
       "      <td>0.00</td>\n",
       "      <td>53.333332</td>\n",
       "      <td>111.00</td>\n",
       "      <td>4.0</td>\n",
       "      <td>0.000054</td>\n",
       "      <td>0.00071</td>\n",
       "      <td>0.0000</td>\n",
       "      <td>0.0000</td>\n",
       "    </tr>\n",
       "    <tr>\n",
       "      <th>2</th>\n",
       "      <td>3</td>\n",
       "      <td>0</td>\n",
       "      <td>8</td>\n",
       "      <td>1004.0</td>\n",
       "      <td>1.4850</td>\n",
       "      <td>48.00</td>\n",
       "      <td>0.0</td>\n",
       "      <td>0.59400</td>\n",
       "      <td>1.60</td>\n",
       "      <td>0.000000</td>\n",
       "      <td>0.00</td>\n",
       "      <td>0.40</td>\n",
       "      <td>0.0</td>\n",
       "      <td>1.20</td>\n",
       "      <td>7.00</td>\n",
       "      <td>0.000000</td>\n",
       "      <td>240.00</td>\n",
       "      <td>3.0</td>\n",
       "      <td>0.000000</td>\n",
       "      <td>0.00252</td>\n",
       "      <td>0.0000</td>\n",
       "      <td>0.0048</td>\n",
       "    </tr>\n",
       "    <tr>\n",
       "      <th>3</th>\n",
       "      <td>4</td>\n",
       "      <td>9</td>\n",
       "      <td>47</td>\n",
       "      <td>953.0</td>\n",
       "      <td>2.0904</td>\n",
       "      <td>25.32</td>\n",
       "      <td>0.0</td>\n",
       "      <td>0.83616</td>\n",
       "      <td>1.27</td>\n",
       "      <td>25.195312</td>\n",
       "      <td>1.27</td>\n",
       "      <td>2.53</td>\n",
       "      <td>0.0</td>\n",
       "      <td>12.66</td>\n",
       "      <td>3.80</td>\n",
       "      <td>25.195312</td>\n",
       "      <td>227.85</td>\n",
       "      <td>4.0</td>\n",
       "      <td>0.000000</td>\n",
       "      <td>0.00137</td>\n",
       "      <td>0.0000</td>\n",
       "      <td>0.0000</td>\n",
       "    </tr>\n",
       "    <tr>\n",
       "      <th>4</th>\n",
       "      <td>4</td>\n",
       "      <td>10</td>\n",
       "      <td>36</td>\n",
       "      <td>1460.0</td>\n",
       "      <td>2.0925</td>\n",
       "      <td>41.86</td>\n",
       "      <td>0.0</td>\n",
       "      <td>0.83700</td>\n",
       "      <td>0.00</td>\n",
       "      <td>0.000000</td>\n",
       "      <td>9.30</td>\n",
       "      <td>4.65</td>\n",
       "      <td>0.0</td>\n",
       "      <td>16.28</td>\n",
       "      <td>4.65</td>\n",
       "      <td>0.110449</td>\n",
       "      <td>349.00</td>\n",
       "      <td>4.0</td>\n",
       "      <td>0.000000</td>\n",
       "      <td>0.00251</td>\n",
       "      <td>0.0000</td>\n",
       "      <td>0.0000</td>\n",
       "    </tr>\n",
       "  </tbody>\n",
       "</table>\n",
       "</div>"
      ],
      "text/plain": [
       "   nova_group  additives_n  ingredients_n  energy_100g  salt_100g  \\\n",
       "0           3            0              5        855.0     4.5500   \n",
       "1           4            5             16        464.0     1.3400   \n",
       "2           3            0              8       1004.0     1.4850   \n",
       "3           4            9             47        953.0     2.0904   \n",
       "4           4           10             36       1460.0     2.0925   \n",
       "\n",
       "   carbohydrates_100g  cholesterol_100g  sodium_100g  fiber_100g  \\\n",
       "0               40.90               0.0      1.82000        2.27   \n",
       "1               28.57               0.0      0.53600        0.90   \n",
       "2               48.00               0.0      0.59400        1.60   \n",
       "3               25.32               0.0      0.83616        1.27   \n",
       "4               41.86               0.0      0.83700        0.00   \n",
       "\n",
       "   fruits_vegetables_legumes_estimate_from_ingredients_100g  sugars_100g  \\\n",
       "0                                           0.000000               18.20   \n",
       "1                                          53.333332               28.57   \n",
       "2                                           0.000000                0.00   \n",
       "3                                          25.195312                1.27   \n",
       "4                                           0.000000                9.30   \n",
       "\n",
       "   saturated_fat_100g  trans_fat_100g  fat_100g  proteins_100g  \\\n",
       "0                0.00             0.0      2.27           9.09   \n",
       "1                0.00             0.0      0.00           0.00   \n",
       "2                0.40             0.0      1.20           7.00   \n",
       "3                2.53             0.0     12.66           3.80   \n",
       "4                4.65             0.0     16.28           4.65   \n",
       "\n",
       "   fruits_vegetables_nuts_estimate_from_ingredients_100g  energy_kcal_100g  \\\n",
       "0                                           0.000000                205.00   \n",
       "1                                          53.333332                111.00   \n",
       "2                                           0.000000                240.00   \n",
       "3                                          25.195312                227.85   \n",
       "4                                           0.110449                349.00   \n",
       "\n",
       "   nova_group_100g  vitamin_a_100g  iron_100g  calcium_100g  vitamin_c_100g  \n",
       "0              3.0        0.000000    0.00071        0.0254          0.0000  \n",
       "1              4.0        0.000054    0.00071        0.0000          0.0000  \n",
       "2              3.0        0.000000    0.00252        0.0000          0.0048  \n",
       "3              4.0        0.000000    0.00137        0.0000          0.0000  \n",
       "4              4.0        0.000000    0.00251        0.0000          0.0000  "
      ]
     },
     "execution_count": 10,
     "metadata": {},
     "output_type": "execute_result"
    }
   ],
   "source": [
    "# Feature selection\n",
    "target = 'nutriscore_score'\n",
    "cols_to_drop = [\n",
    "    target,\n",
    "    'code',\n",
    "    'product_name',\n",
    "    'nutrition_score_fr_100g', # data leakage\n",
    "    'eventtime',\n",
    "    'write_time',\n",
    "    'api_invocation_time',\n",
    "    'is_deleted']\n",
    "\n",
    "# Set training data\n",
    "y_train = train_df[target]\n",
    "X_train = train_df.drop(columns=cols_to_drop)\n",
    "\n",
    "# Set testing data\n",
    "y_test = test_df[target]\n",
    "X_test = test_df.drop(columns=cols_to_drop)\n",
    "\n",
    "# Set validation data\n",
    "y_val = val_df[target]\n",
    "X_val = val_df.drop(columns=cols_to_drop)\n",
    "\n",
    "# Set production data\n",
    "y_prod = prod_df[target]\n",
    "X_prod = prod_df.drop(columns=cols_to_drop)\n",
    "\n",
    "# View filtered training data\n",
    "X_train.head()"
   ]
  },
  {
   "cell_type": "code",
   "execution_count": 11,
   "id": "2ecd574f-1146-4935-b5a2-1f48d5452451",
   "metadata": {
    "execution": {
     "iopub.execute_input": "2025-10-20T00:17:14.903719Z",
     "iopub.status.busy": "2025-10-20T00:17:14.903407Z",
     "iopub.status.idle": "2025-10-20T00:17:14.961058Z",
     "shell.execute_reply": "2025-10-20T00:17:14.960262Z",
     "shell.execute_reply.started": "2025-10-20T00:17:14.903690Z"
    }
   },
   "outputs": [
    {
     "name": "stdout",
     "output_type": "stream",
     "text": [
      "[[-4.52933330e-01 -7.66744498e-01 -7.38871574e-01 -2.34179390e-01\n",
      "   4.49291343e-02  7.90073677e-06 -3.27685280e-02  4.49118970e-02\n",
      "  -8.00192973e-02 -5.52117005e-01 -2.45116485e-02 -3.97483948e-01\n",
      "  -3.76331319e-02 -3.62410303e-01  8.35783312e-03 -6.58564173e-01\n",
      "  -2.33264776e-01 -4.52933330e-01 -5.93821880e-03 -2.05829844e-02\n",
      "  -1.25518332e-01 -7.85495195e-02]\n",
      " [ 5.80941853e-01  7.17666608e-01 -1.03370735e-01 -3.96924020e-01\n",
      "  -1.73574964e-02 -1.52395447e-01 -3.27685280e-02 -1.73558975e-02\n",
      "  -2.21161478e-01  1.29131619e+00  1.65585850e-01 -3.97483948e-01\n",
      "  -3.76331319e-02 -4.22133347e-01 -2.95641969e-01  9.90677528e-01\n",
      "  -3.96949285e-01  5.80941853e-01 -5.93577239e-03 -2.05829844e-02\n",
      "  -1.92636624e-01 -7.85495195e-02]\n",
      " [-4.52933330e-01 -7.66744498e-01 -5.65553164e-01 -1.72161615e-01\n",
      "  -1.45439258e-02  8.77665197e-02 -3.27685280e-02 -1.45431778e-02\n",
      "  -1.49045035e-01 -5.52117005e-01 -3.58144674e-01 -3.68631450e-01\n",
      "  -3.76331319e-02 -3.90561693e-01 -6.15387110e-02 -6.58564173e-01\n",
      "  -1.72318416e-01 -4.52933330e-01 -5.93821880e-03  5.73221424e-03\n",
      "  -1.92636624e-01  2.66602901e-03]]\n"
     ]
    }
   ],
   "source": [
    "# Perform Standardization scaling for regression (FIT ONLY ON TRAINING DATA)\n",
    "\n",
    "# Define the preprocessing pipeline\n",
    "preprocessing_pipeline = Pipeline([\n",
    "    ('scaler', StandardScaler())\n",
    "])\n",
    "\n",
    "# Fit the pipeline on the training data\n",
    "X_train_scaled = preprocessing_pipeline.fit_transform(X_train)\n",
    "X_test_scaled = preprocessing_pipeline.transform(X_test)\n",
    "X_val_scaled = preprocessing_pipeline.transform(X_val)\n",
    "X_prod_scaled = preprocessing_pipeline.transform(X_prod)\n",
    "\n",
    "# View scaled training data samples\n",
    "print(X_train_scaled[:3])"
   ]
  },
  {
   "cell_type": "code",
   "execution_count": 12,
   "id": "01902ad1-3425-41aa-8de1-b1c6b5fa360b",
   "metadata": {
    "execution": {
     "iopub.execute_input": "2025-10-20T00:17:14.962014Z",
     "iopub.status.busy": "2025-10-20T00:17:14.961748Z",
     "iopub.status.idle": "2025-10-20T00:17:14.998694Z",
     "shell.execute_reply": "2025-10-20T00:17:14.997913Z",
     "shell.execute_reply.started": "2025-10-20T00:17:14.961993Z"
    }
   },
   "outputs": [
    {
     "data": {
      "text/html": [
       "<div>\n",
       "<style scoped>\n",
       "    .dataframe tbody tr th:only-of-type {\n",
       "        vertical-align: middle;\n",
       "    }\n",
       "\n",
       "    .dataframe tbody tr th {\n",
       "        vertical-align: top;\n",
       "    }\n",
       "\n",
       "    .dataframe thead th {\n",
       "        text-align: right;\n",
       "    }\n",
       "</style>\n",
       "<table border=\"1\" class=\"dataframe\">\n",
       "  <thead>\n",
       "    <tr style=\"text-align: right;\">\n",
       "      <th></th>\n",
       "      <th>nutriscore_score</th>\n",
       "      <th>nova_group</th>\n",
       "      <th>additives_n</th>\n",
       "      <th>ingredients_n</th>\n",
       "      <th>energy_100g</th>\n",
       "      <th>salt_100g</th>\n",
       "      <th>carbohydrates_100g</th>\n",
       "      <th>cholesterol_100g</th>\n",
       "      <th>sodium_100g</th>\n",
       "      <th>fiber_100g</th>\n",
       "      <th>fruits_vegetables_legumes_estimate_from_ingredients_100g</th>\n",
       "      <th>sugars_100g</th>\n",
       "      <th>saturated_fat_100g</th>\n",
       "      <th>trans_fat_100g</th>\n",
       "      <th>fat_100g</th>\n",
       "      <th>proteins_100g</th>\n",
       "      <th>fruits_vegetables_nuts_estimate_from_ingredients_100g</th>\n",
       "      <th>energy_kcal_100g</th>\n",
       "      <th>nova_group_100g</th>\n",
       "      <th>vitamin_a_100g</th>\n",
       "      <th>iron_100g</th>\n",
       "      <th>calcium_100g</th>\n",
       "      <th>vitamin_c_100g</th>\n",
       "    </tr>\n",
       "  </thead>\n",
       "  <tbody>\n",
       "    <tr>\n",
       "      <th>0</th>\n",
       "      <td>27</td>\n",
       "      <td>-0.452933</td>\n",
       "      <td>-0.766744</td>\n",
       "      <td>-0.738872</td>\n",
       "      <td>-0.234179</td>\n",
       "      <td>0.044929</td>\n",
       "      <td>0.000008</td>\n",
       "      <td>-0.032769</td>\n",
       "      <td>0.044912</td>\n",
       "      <td>-0.080019</td>\n",
       "      <td>-0.552117</td>\n",
       "      <td>-0.024512</td>\n",
       "      <td>-0.397484</td>\n",
       "      <td>-0.037633</td>\n",
       "      <td>-0.362410</td>\n",
       "      <td>0.008358</td>\n",
       "      <td>-0.658564</td>\n",
       "      <td>-0.233265</td>\n",
       "      <td>-0.452933</td>\n",
       "      <td>-0.005938</td>\n",
       "      <td>-0.020583</td>\n",
       "      <td>-0.125518</td>\n",
       "      <td>-0.078550</td>\n",
       "    </tr>\n",
       "    <tr>\n",
       "      <th>1</th>\n",
       "      <td>14</td>\n",
       "      <td>0.580942</td>\n",
       "      <td>0.717667</td>\n",
       "      <td>-0.103371</td>\n",
       "      <td>-0.396924</td>\n",
       "      <td>-0.017357</td>\n",
       "      <td>-0.152395</td>\n",
       "      <td>-0.032769</td>\n",
       "      <td>-0.017356</td>\n",
       "      <td>-0.221161</td>\n",
       "      <td>1.291316</td>\n",
       "      <td>0.165586</td>\n",
       "      <td>-0.397484</td>\n",
       "      <td>-0.037633</td>\n",
       "      <td>-0.422133</td>\n",
       "      <td>-0.295642</td>\n",
       "      <td>0.990678</td>\n",
       "      <td>-0.396949</td>\n",
       "      <td>0.580942</td>\n",
       "      <td>-0.005936</td>\n",
       "      <td>-0.020583</td>\n",
       "      <td>-0.192637</td>\n",
       "      <td>-0.078550</td>\n",
       "    </tr>\n",
       "    <tr>\n",
       "      <th>2</th>\n",
       "      <td>7</td>\n",
       "      <td>-0.452933</td>\n",
       "      <td>-0.766744</td>\n",
       "      <td>-0.565553</td>\n",
       "      <td>-0.172162</td>\n",
       "      <td>-0.014544</td>\n",
       "      <td>0.087767</td>\n",
       "      <td>-0.032769</td>\n",
       "      <td>-0.014543</td>\n",
       "      <td>-0.149045</td>\n",
       "      <td>-0.552117</td>\n",
       "      <td>-0.358145</td>\n",
       "      <td>-0.368631</td>\n",
       "      <td>-0.037633</td>\n",
       "      <td>-0.390562</td>\n",
       "      <td>-0.061539</td>\n",
       "      <td>-0.658564</td>\n",
       "      <td>-0.172318</td>\n",
       "      <td>-0.452933</td>\n",
       "      <td>-0.005938</td>\n",
       "      <td>0.005732</td>\n",
       "      <td>-0.192637</td>\n",
       "      <td>0.002666</td>\n",
       "    </tr>\n",
       "    <tr>\n",
       "      <th>3</th>\n",
       "      <td>14</td>\n",
       "      <td>0.580942</td>\n",
       "      <td>1.905195</td>\n",
       "      <td>1.687586</td>\n",
       "      <td>-0.193389</td>\n",
       "      <td>-0.002797</td>\n",
       "      <td>-0.192567</td>\n",
       "      <td>-0.032769</td>\n",
       "      <td>-0.002800</td>\n",
       "      <td>-0.183043</td>\n",
       "      <td>0.318743</td>\n",
       "      <td>-0.334864</td>\n",
       "      <td>-0.214992</td>\n",
       "      <td>-0.037633</td>\n",
       "      <td>-0.089052</td>\n",
       "      <td>-0.168557</td>\n",
       "      <td>0.120558</td>\n",
       "      <td>-0.193476</td>\n",
       "      <td>0.580942</td>\n",
       "      <td>-0.005938</td>\n",
       "      <td>-0.010987</td>\n",
       "      <td>-0.192637</td>\n",
       "      <td>-0.078550</td>\n",
       "    </tr>\n",
       "    <tr>\n",
       "      <th>4</th>\n",
       "      <td>20</td>\n",
       "      <td>0.580942</td>\n",
       "      <td>2.202078</td>\n",
       "      <td>1.052085</td>\n",
       "      <td>0.017638</td>\n",
       "      <td>-0.002756</td>\n",
       "      <td>0.011874</td>\n",
       "      <td>-0.032769</td>\n",
       "      <td>-0.002759</td>\n",
       "      <td>-0.313883</td>\n",
       "      <td>-0.552117</td>\n",
       "      <td>-0.187662</td>\n",
       "      <td>-0.062074</td>\n",
       "      <td>-0.037633</td>\n",
       "      <td>0.006189</td>\n",
       "      <td>-0.140131</td>\n",
       "      <td>-0.655149</td>\n",
       "      <td>0.017486</td>\n",
       "      <td>0.580942</td>\n",
       "      <td>-0.005938</td>\n",
       "      <td>0.005587</td>\n",
       "      <td>-0.192637</td>\n",
       "      <td>-0.078550</td>\n",
       "    </tr>\n",
       "  </tbody>\n",
       "</table>\n",
       "</div>"
      ],
      "text/plain": [
       "   nutriscore_score  nova_group  additives_n  ingredients_n  energy_100g  \\\n",
       "0                27   -0.452933    -0.766744      -0.738872    -0.234179   \n",
       "1                14    0.580942     0.717667      -0.103371    -0.396924   \n",
       "2                 7   -0.452933    -0.766744      -0.565553    -0.172162   \n",
       "3                14    0.580942     1.905195       1.687586    -0.193389   \n",
       "4                20    0.580942     2.202078       1.052085     0.017638   \n",
       "\n",
       "   salt_100g  carbohydrates_100g  cholesterol_100g  sodium_100g  fiber_100g  \\\n",
       "0   0.044929            0.000008         -0.032769     0.044912   -0.080019   \n",
       "1  -0.017357           -0.152395         -0.032769    -0.017356   -0.221161   \n",
       "2  -0.014544            0.087767         -0.032769    -0.014543   -0.149045   \n",
       "3  -0.002797           -0.192567         -0.032769    -0.002800   -0.183043   \n",
       "4  -0.002756            0.011874         -0.032769    -0.002759   -0.313883   \n",
       "\n",
       "   fruits_vegetables_legumes_estimate_from_ingredients_100g  sugars_100g  \\\n",
       "0                                          -0.552117           -0.024512   \n",
       "1                                           1.291316            0.165586   \n",
       "2                                          -0.552117           -0.358145   \n",
       "3                                           0.318743           -0.334864   \n",
       "4                                          -0.552117           -0.187662   \n",
       "\n",
       "   saturated_fat_100g  trans_fat_100g  fat_100g  proteins_100g  \\\n",
       "0           -0.397484       -0.037633 -0.362410       0.008358   \n",
       "1           -0.397484       -0.037633 -0.422133      -0.295642   \n",
       "2           -0.368631       -0.037633 -0.390562      -0.061539   \n",
       "3           -0.214992       -0.037633 -0.089052      -0.168557   \n",
       "4           -0.062074       -0.037633  0.006189      -0.140131   \n",
       "\n",
       "   fruits_vegetables_nuts_estimate_from_ingredients_100g  energy_kcal_100g  \\\n",
       "0                                          -0.658564             -0.233265   \n",
       "1                                           0.990678             -0.396949   \n",
       "2                                          -0.658564             -0.172318   \n",
       "3                                           0.120558             -0.193476   \n",
       "4                                          -0.655149              0.017486   \n",
       "\n",
       "   nova_group_100g  vitamin_a_100g  iron_100g  calcium_100g  vitamin_c_100g  \n",
       "0        -0.452933       -0.005938  -0.020583     -0.125518       -0.078550  \n",
       "1         0.580942       -0.005936  -0.020583     -0.192637       -0.078550  \n",
       "2        -0.452933       -0.005938   0.005732     -0.192637        0.002666  \n",
       "3         0.580942       -0.005938  -0.010987     -0.192637       -0.078550  \n",
       "4         0.580942       -0.005938   0.005587     -0.192637       -0.078550  "
      ]
     },
     "execution_count": 12,
     "metadata": {},
     "output_type": "execute_result"
    }
   ],
   "source": [
    "# Prepare data splits for upload\n",
    "# Convert scaled splits back into dataframe.\n",
    "# We also need to set the target as the first column.\n",
    "# This is required by the SageMaker XGBoost algorithm.\n",
    "\n",
    "X_train_df = pd.DataFrame(X_train_scaled, columns=X_train.columns)\n",
    "train_upload_df = pd.concat([pd.DataFrame(y_train).reset_index(drop=True), X_train_df], axis=1)\n",
    "\n",
    "X_test_df = pd.DataFrame(X_test_scaled)\n",
    "test_upload_df = pd.concat([pd.DataFrame(y_test).reset_index(drop=True), X_test_df], axis=1)\n",
    "\n",
    "X_val_df = pd.DataFrame(X_val_scaled)\n",
    "val_upload_df = pd.concat([pd.DataFrame(y_val).reset_index(drop=True), X_val_df], axis=1)\n",
    "\n",
    "X_prod_df = pd.DataFrame(X_prod_scaled)\n",
    "prod_upload_df = pd.concat([pd.DataFrame(y_prod).reset_index(drop=True), X_prod_df], axis=1)\n",
    "\n",
    "# View scaled training data samples\n",
    "train_upload_df.head()"
   ]
  },
  {
   "cell_type": "code",
   "execution_count": 13,
   "id": "13da6663-05db-45c8-a1a8-209b9bb6f82a",
   "metadata": {
    "execution": {
     "iopub.execute_input": "2025-10-20T00:17:15.001647Z",
     "iopub.status.busy": "2025-10-20T00:17:15.001376Z",
     "iopub.status.idle": "2025-10-20T00:17:15.535101Z",
     "shell.execute_reply": "2025-10-20T00:17:15.534393Z",
     "shell.execute_reply.started": "2025-10-20T00:17:15.001624Z"
    }
   },
   "outputs": [
    {
     "name": "stdout",
     "output_type": "stream",
     "text": [
      "Train data with headers uploaded to: s3://sagemaker-us-east-1-654654380268/nutriscore-prediction-xgboost/train/train_scaled_headers_features_only.csv\n"
     ]
    }
   ],
   "source": [
    "# Upload train data with headers for data monitor\n",
    "train_file_headers = \"train_scaled_headers_features_only.csv\"\n",
    "train_upload_headers_features_only_df = test_upload_df.drop(columns=[target])\n",
    "train_upload_headers_features_only_df.to_csv(train_file_headers, index=False, header=True)\n",
    "train_s3_path = sess.upload_data(train_file_headers, key_prefix=\"{}/train\".format(prefix))\n",
    "print(f\"Train data with headers uploaded to: {train_s3_path}\")"
   ]
  },
  {
   "cell_type": "code",
   "execution_count": 14,
   "id": "48668889-b7f6-424e-bc3d-3588b2d521d1",
   "metadata": {
    "execution": {
     "iopub.execute_input": "2025-10-20T00:17:15.535945Z",
     "iopub.status.busy": "2025-10-20T00:17:15.535739Z",
     "iopub.status.idle": "2025-10-20T00:17:20.367115Z",
     "shell.execute_reply": "2025-10-20T00:17:20.366417Z",
     "shell.execute_reply.started": "2025-10-20T00:17:15.535927Z"
    }
   },
   "outputs": [
    {
     "name": "stdout",
     "output_type": "stream",
     "text": [
      "Train data uploaded to: s3://sagemaker-us-east-1-654654380268/nutriscore-prediction-xgboost/train/train_scaled.csv\n",
      "Test data uploaded to: s3://sagemaker-us-east-1-654654380268/nutriscore-prediction-xgboost/test/test_scaled.csv\n",
      "Test data for batch transform uploaded to: s3://sagemaker-us-east-1-654654380268/nutriscore-prediction-xgboost/test/test_features_only.csv\n",
      "Val data uploaded to: s3://sagemaker-us-east-1-654654380268/nutriscore-prediction-xgboost/validation/val_scaled.csv\n",
      "Prod data uploaded to: s3://sagemaker-us-east-1-654654380268/nutriscore-prediction-xgboost/prod/prod_scaled.csv\n"
     ]
    }
   ],
   "source": [
    "# Upload data files to S3\n",
    "train_file = \"train_scaled.csv\"\n",
    "train_upload_df.to_csv(train_file, index=False, header=False)\n",
    "train_s3_path = sess.upload_data(train_file, key_prefix=\"{}/train\".format(prefix))\n",
    "print(f\"Train data uploaded to: {train_s3_path}\")\n",
    "\n",
    "test_file = \"test_scaled.csv\"\n",
    "test_upload_df.to_csv(test_file, index=False, header=False)\n",
    "test_s3_path = sess.upload_data(test_file, key_prefix=\"{}/test\".format(prefix))\n",
    "print(f\"Test data uploaded to: {test_s3_path}\")\n",
    "\n",
    "# Upload test file without target col for batch transform later\n",
    "test_features_only_file = \"test_features_only.csv\"\n",
    "test_features_only_df = test_upload_df.drop(columns=[target])\n",
    "test_features_only_df.to_csv(test_features_only_file, index=False, header=False)\n",
    "test_features_only_s3_path = sess.upload_data(test_features_only_file, key_prefix=\"{}/test\".format(prefix))\n",
    "print(f\"Test data for batch transform uploaded to: {test_features_only_s3_path}\")\n",
    "\n",
    "val_file = \"val_scaled.csv\"\n",
    "val_upload_df.to_csv(val_file, index=False, header=False)\n",
    "val_s3_path = sess.upload_data(val_file, key_prefix=\"{}/validation\".format(prefix))\n",
    "print(f\"Val data uploaded to: {val_s3_path}\")\n",
    "\n",
    "prod_file = \"prod_scaled.csv\"\n",
    "prod_upload_df.to_csv(prod_file, index=False, header=False)\n",
    "prod_s3_path = sess.upload_data(prod_file, key_prefix=\"{}/prod\".format(prefix))\n",
    "print(f\"Prod data uploaded to: {prod_s3_path}\")"
   ]
  },
  {
   "cell_type": "markdown",
   "id": "aa474eec-57ab-47d7-9af0-1ce8a55b1839",
   "metadata": {},
   "source": [
    "## Baseline: Training Job and Model Creation"
   ]
  },
  {
   "cell_type": "code",
   "execution_count": 15,
   "id": "2cf8dd3f-c900-401e-aeeb-6700c503ec7e",
   "metadata": {
    "execution": {
     "iopub.execute_input": "2025-10-20T00:17:20.368062Z",
     "iopub.status.busy": "2025-10-20T00:17:20.367837Z",
     "iopub.status.idle": "2025-10-20T00:17:20.964539Z",
     "shell.execute_reply": "2025-10-20T00:17:20.963360Z",
     "shell.execute_reply.started": "2025-10-20T00:17:20.368042Z"
    }
   },
   "outputs": [
    {
     "name": "stdout",
     "output_type": "stream",
     "text": [
      "=== Linear Regression Baseline Performance ===\n",
      "Test Set:       RMSE = 8.194, MAE = 6.414, R² = 0.380\n",
      "\n",
      "Sample Predictions:\n",
      "   Actual  Predicted\n",
      "0      23  16.316431\n",
      "1      10  14.637900\n",
      "2      18  17.372914\n",
      "3       8  12.892399\n",
      "4      18  10.131048\n",
      "5      23  15.133069\n",
      "6      19  10.754080\n",
      "7      37  13.646268\n",
      "8      10  14.033839\n",
      "9      15  14.618195\n"
     ]
    },
    {
     "data": {
      "image/png": "[encoded data removed]",
      "text/plain": [
       "<Figure size 600x600 with 1 Axes>"
      ]
     },
     "metadata": {},
     "output_type": "display_data"
    }
   ],
   "source": [
    "# Baseline Model: Linear Regression\n",
    "y_train = np.asarray(y_train).ravel()\n",
    "y_test = np.asarray(y_test).ravel()\n",
    "\n",
    "baseline_model = LinearRegression()\n",
    "baseline_model.fit(X_train_scaled, y_train)\n",
    "\n",
    "y_pred_test = baseline_model.predict(X_test_scaled)\n",
    "\n",
    "mse_test_baseline = mean_squared_error(y_test, y_pred_test)\n",
    "rmse_test_baseline = np.sqrt(mse_test_baseline)\n",
    "mae_test_baseline = mean_absolute_error(y_test, y_pred_test)\n",
    "r2_test_baseline = r2_score(y_test, y_pred_test)\n",
    "\n",
    "# Print results\n",
    "print(\"=== Linear Regression Baseline Performance ===\")\n",
    "print(f\"Test Set: RMSE = {rmse_test_baseline:.3f}, MAE = {mae_test_baseline:.3f}, R² = {r2_test_baseline:.3f}\")\n",
    "\n",
    "# Sample predictions\n",
    "comparison_df = pd.DataFrame({\n",
    "    \"Actual\": y_test[:10],\n",
    "    \"Predicted\": y_pred_test[:10]\n",
    "})\n",
    "print(\"\\nSample Predictions:\")\n",
    "print(comparison_df)\n",
    "\n",
    "# Actual vs Predicted scatter plot for test set\n",
    "plt.figure(figsize=(6,6))\n",
    "plt.scatter(y_test, y_pred_test, alpha=0.5)\n",
    "maxv = max(np.max(y_test), np.max(y_pred_test))\n",
    "minv = min(np.min(y_test), np.min(y_pred_test))\n",
    "plt.plot([minv, maxv], [minv, maxv], linestyle='--') \n",
    "plt.xlabel(\"Actual\")\n",
    "plt.ylabel(\"Predicted\")\n",
    "plt.title(\"Actual vs Predicted: (Linear Regression)\")\n",
    "plt.grid(True)\n",
    "plt.show()"
   ]
  },
  {
   "cell_type": "markdown",
   "id": "c1161e40-d85c-4fab-8f95-fec052c0d47c",
   "metadata": {},
   "source": [
    "## XGBoost: Training Job and Model Creation"
   ]
  },
  {
   "cell_type": "code",
   "execution_count": 16,
   "id": "681c3137-d6c0-4e2e-b3d8-74cab469e21a",
   "metadata": {
    "execution": {
     "iopub.execute_input": "2025-10-20T00:17:20.965640Z",
     "iopub.status.busy": "2025-10-20T00:17:20.965320Z",
     "iopub.status.idle": "2025-10-20T00:19:52.984015Z",
     "shell.execute_reply": "2025-10-20T00:19:52.983256Z",
     "shell.execute_reply.started": "2025-10-20T00:17:20.965612Z"
    }
   },
   "outputs": [
    {
     "name": "stderr",
     "output_type": "stream",
     "text": [
      "INFO:sagemaker:Creating training-job with name: nutrition-score-xgb-2025-10-20-00-17-20\n"
     ]
    },
    {
     "name": "stdout",
     "output_type": "stream",
     "text": [
      "\n",
      "2025-10-20 00:17:22 Starting - Starting the training job..\n",
      "2025-10-20 00:17:37 Starting - Preparing the instances for training..\n",
      "2025-10-20 00:17:55 Downloading - Downloading input data....\n",
      "2025-10-20 00:18:20 Downloading - Downloading the training image.........\n",
      "2025-10-20 00:19:11 Training - Training image download completed. Training in progress.....\n",
      "2025-10-20 00:19:37 Uploading - Uploading generated training model..\n",
      "2025-10-20 00:19:50 Completed - Training job completed\n"
     ]
    }
   ],
   "source": [
    "# Create training job\n",
    "job_name = \"nutrition-score-xgb-\" + strftime(\"%Y-%m-%d-%H-%M-%S\", gmtime())\n",
    "output_location = f\"s3://{bucket}/{prefix}/output/{job_name}\"\n",
    "\n",
    "# Specify model\n",
    "image = sagemaker.image_uris.retrieve(framework=\"xgboost\", region=region, version=\"1.7-1\")\n",
    "instance_type = 'ml.m5.xlarge'\n",
    "model_name = job_name\n",
    "\n",
    "# Set estimator\n",
    "sm_estimator = sagemaker.estimator.Estimator(\n",
    "    image,\n",
    "    role,\n",
    "    instance_count=1,\n",
    "    instance_type=instance_type,\n",
    "    output_path=output_location,\n",
    "    sagemaker_session=sess,\n",
    ")\n",
    "\n",
    "# Set hyperparameters for regression\n",
    "sm_estimator.set_hyperparameters(\n",
    "    objective=\"reg:squarederror\",\n",
    "    max_depth=5,\n",
    "    eta=0.2,\n",
    "    gamma=4,\n",
    "    min_child_weight=6,\n",
    "    subsample=0.8,\n",
    "    verbosity=0,\n",
    "    num_round=100,\n",
    ")\n",
    "\n",
    "# Set input locations for train and val sets\n",
    "train_data = sagemaker.inputs.TrainingInput(\n",
    "    f\"s3://{bucket}/{prefix}/train\", content_type=\"text/csv\"\n",
    ")\n",
    "val_data = sagemaker.inputs.TrainingInput(\n",
    "    f\"s3://{bucket}/{prefix}/validation\", content_type=\"text/csv\"\n",
    ")\n",
    "data_channels = {\"train\": train_data, \"validation\": val_data}\n",
    "\n",
    "# Launch training job\n",
    "sm_estimator.fit(inputs=data_channels, job_name=job_name, logs=False)"
   ]
  },
  {
   "cell_type": "markdown",
   "id": "cb2118c1-161f-47ba-9db1-c2da6feb779e",
   "metadata": {},
   "source": [
    "## Batch Transform Job for Test Predictions"
   ]
  },
  {
   "cell_type": "code",
   "execution_count": 17,
   "id": "7fb75296-e99d-44e9-b110-6ac6bf15f288",
   "metadata": {
    "execution": {
     "iopub.execute_input": "2025-10-20T00:19:52.985266Z",
     "iopub.status.busy": "2025-10-20T00:19:52.984946Z",
     "iopub.status.idle": "2025-10-20T00:25:36.357638Z",
     "shell.execute_reply": "2025-10-20T00:25:36.356787Z",
     "shell.execute_reply.started": "2025-10-20T00:19:52.985245Z"
    }
   },
   "outputs": [
    {
     "name": "stderr",
     "output_type": "stream",
     "text": [
      "INFO:sagemaker:Creating model with name: sagemaker-xgboost-2025-10-20-00-19-52-986\n",
      "INFO:sagemaker:Creating transform job with name: sagemaker-xgboost-2025-10-20-00-19-53-762\n"
     ]
    },
    {
     "name": "stdout",
     "output_type": "stream",
     "text": [
      "...................................................................!\n",
      "Job complete.\n"
     ]
    }
   ],
   "source": [
    "# Create transformer object from trained estimator\n",
    "transformer = sm_estimator.transformer(\n",
    "    instance_count=1,\n",
    "    instance_type=instance_type\n",
    ")\n",
    "\n",
    "# Start the batch transform job\n",
    "transformer.transform(\n",
    "    data=test_features_only_s3_path,\n",
    "    content_type='text/csv',\n",
    "    logs=False,\n",
    "    wait=True\n",
    ")\n",
    "\n",
    "# Wait for the job to complete\n",
    "print(\"Job complete.\")"
   ]
  },
  {
   "cell_type": "markdown",
   "id": "4ab5828e-139e-4a86-a108-25d296000610",
   "metadata": {},
   "source": [
    "## Compare Model Performance"
   ]
  },
  {
   "cell_type": "code",
   "execution_count": 18,
   "id": "e94842aa-15b6-473f-a2f7-13c99d785da1",
   "metadata": {
    "execution": {
     "iopub.execute_input": "2025-10-20T00:25:36.358514Z",
     "iopub.status.busy": "2025-10-20T00:25:36.358291Z",
     "iopub.status.idle": "2025-10-20T00:25:37.035689Z",
     "shell.execute_reply": "2025-10-20T00:25:37.034875Z",
     "shell.execute_reply.started": "2025-10-20T00:25:36.358494Z"
    }
   },
   "outputs": [
    {
     "data": {
      "text/html": [
       "<div>\n",
       "<style scoped>\n",
       "    .dataframe tbody tr th:only-of-type {\n",
       "        vertical-align: middle;\n",
       "    }\n",
       "\n",
       "    .dataframe tbody tr th {\n",
       "        vertical-align: top;\n",
       "    }\n",
       "\n",
       "    .dataframe thead th {\n",
       "        text-align: right;\n",
       "    }\n",
       "</style>\n",
       "<table border=\"1\" class=\"dataframe\">\n",
       "  <thead>\n",
       "    <tr style=\"text-align: right;\">\n",
       "      <th></th>\n",
       "      <th>0</th>\n",
       "    </tr>\n",
       "  </thead>\n",
       "  <tbody>\n",
       "    <tr>\n",
       "      <th>0</th>\n",
       "      <td>24.254988</td>\n",
       "    </tr>\n",
       "    <tr>\n",
       "      <th>1</th>\n",
       "      <td>12.183371</td>\n",
       "    </tr>\n",
       "    <tr>\n",
       "      <th>2</th>\n",
       "      <td>17.819515</td>\n",
       "    </tr>\n",
       "    <tr>\n",
       "      <th>3</th>\n",
       "      <td>7.036993</td>\n",
       "    </tr>\n",
       "    <tr>\n",
       "      <th>4</th>\n",
       "      <td>18.793779</td>\n",
       "    </tr>\n",
       "    <tr>\n",
       "      <th>...</th>\n",
       "      <td>...</td>\n",
       "    </tr>\n",
       "    <tr>\n",
       "      <th>9957</th>\n",
       "      <td>11.910203</td>\n",
       "    </tr>\n",
       "    <tr>\n",
       "      <th>9958</th>\n",
       "      <td>1.015789</td>\n",
       "    </tr>\n",
       "    <tr>\n",
       "      <th>9959</th>\n",
       "      <td>19.233126</td>\n",
       "    </tr>\n",
       "    <tr>\n",
       "      <th>9960</th>\n",
       "      <td>24.672974</td>\n",
       "    </tr>\n",
       "    <tr>\n",
       "      <th>9961</th>\n",
       "      <td>23.287088</td>\n",
       "    </tr>\n",
       "  </tbody>\n",
       "</table>\n",
       "<p>9962 rows × 1 columns</p>\n",
       "</div>"
      ],
      "text/plain": [
       "              0\n",
       "0     24.254988\n",
       "1     12.183371\n",
       "2     17.819515\n",
       "3      7.036993\n",
       "4     18.793779\n",
       "...         ...\n",
       "9957  11.910203\n",
       "9958   1.015789\n",
       "9959  19.233126\n",
       "9960  24.672974\n",
       "9961  23.287088\n",
       "\n",
       "[9962 rows x 1 columns]"
      ]
     },
     "execution_count": 18,
     "metadata": {},
     "output_type": "execute_result"
    }
   ],
   "source": [
    "# Calculate performance on test set\n",
    "\n",
    "# S3 location of the prediction results\n",
    "output_s3_path = transformer.output_path\n",
    "\n",
    "# Download the prediction results into a pandas DataFrame\n",
    "predictions_df = pd.read_csv(f\"{output_s3_path}/{test_features_only_file}.out\", header=None)\n",
    "predictions_df"
   ]
  },
  {
   "cell_type": "code",
   "execution_count": 19,
   "id": "d6021f4f-80d1-4650-9203-44f532793fc8",
   "metadata": {
    "execution": {
     "iopub.execute_input": "2025-10-20T00:25:37.037231Z",
     "iopub.status.busy": "2025-10-20T00:25:37.036549Z",
     "iopub.status.idle": "2025-10-20T00:25:37.046776Z",
     "shell.execute_reply": "2025-10-20T00:25:37.046081Z",
     "shell.execute_reply.started": "2025-10-20T00:25:37.037199Z"
    }
   },
   "outputs": [
    {
     "name": "stdout",
     "output_type": "stream",
     "text": [
      "XGBoost Model Performance:\n",
      "RMSE: 3.448158144203241\n",
      "MAE:  1.0999017302031018\n",
      "R²:   0.9681759462770739\n"
     ]
    }
   ],
   "source": [
    "# Calculate performance metrics\n",
    "predictions = predictions_df[0]\n",
    "rmse_test_xgb = mean_squared_error(y_test, predictions)\n",
    "mae_test_xgb = mean_absolute_error(y_test, predictions)\n",
    "r2_test_xgb = r2_score(y_test, predictions)\n",
    "\n",
    "print(f\"XGBoost Model Performance:\")\n",
    "print(f\"RMSE: {rmse_test_xgb}\")\n",
    "print(f\"MAE:  {mae_test_xgb}\")\n",
    "print(f\"R²:   {r2_test_xgb}\")"
   ]
  },
  {
   "cell_type": "code",
   "execution_count": 20,
   "id": "b69fafed-ee38-4207-83a0-ca3f422a3ca9",
   "metadata": {
    "execution": {
     "iopub.execute_input": "2025-10-20T00:25:37.047986Z",
     "iopub.status.busy": "2025-10-20T00:25:37.047673Z",
     "iopub.status.idle": "2025-10-20T00:25:37.059842Z",
     "shell.execute_reply": "2025-10-20T00:25:37.059082Z",
     "shell.execute_reply.started": "2025-10-20T00:25:37.047957Z"
    }
   },
   "outputs": [
    {
     "name": "stdout",
     "output_type": "stream",
     "text": [
      "Model Comparison: Linear Regression vs XGBoost:\n",
      "XGBoost reduced RMSE by 4.746 points compared to baseline.\n",
      "XGBoost improved R² by 154.5% over Linear Regression.\n",
      "\n"
     ]
    },
    {
     "data": {
      "text/html": [
       "<div>\n",
       "<style scoped>\n",
       "    .dataframe tbody tr th:only-of-type {\n",
       "        vertical-align: middle;\n",
       "    }\n",
       "\n",
       "    .dataframe tbody tr th {\n",
       "        vertical-align: top;\n",
       "    }\n",
       "\n",
       "    .dataframe thead th {\n",
       "        text-align: right;\n",
       "    }\n",
       "</style>\n",
       "<table border=\"1\" class=\"dataframe\">\n",
       "  <thead>\n",
       "    <tr style=\"text-align: right;\">\n",
       "      <th></th>\n",
       "      <th>RMSE</th>\n",
       "      <th>MAE</th>\n",
       "      <th>R²</th>\n",
       "    </tr>\n",
       "  </thead>\n",
       "  <tbody>\n",
       "    <tr>\n",
       "      <th>Linear Regression (Baseline)</th>\n",
       "      <td>8.193790</td>\n",
       "      <td>6.413762</td>\n",
       "      <td>0.380362</td>\n",
       "    </tr>\n",
       "    <tr>\n",
       "      <th>XGBoost</th>\n",
       "      <td>3.448158</td>\n",
       "      <td>1.099902</td>\n",
       "      <td>0.968176</td>\n",
       "    </tr>\n",
       "  </tbody>\n",
       "</table>\n",
       "</div>"
      ],
      "text/plain": [
       "                                  RMSE       MAE        R²\n",
       "Linear Regression (Baseline)  8.193790  6.413762  0.380362\n",
       "XGBoost                       3.448158  1.099902  0.968176"
      ]
     },
     "execution_count": 20,
     "metadata": {},
     "output_type": "execute_result"
    }
   ],
   "source": [
    "# Compare Baseline (Linear Regression) vs XGBoost Model\n",
    "\n",
    "print(\"Model Comparison: Linear Regression vs XGBoost:\")\n",
    "\n",
    "# Create comparison df\n",
    "data = {\n",
    "    \"RMSE\": [rmse_test_baseline, rmse_test_xgb],\n",
    "    \"MAE\": [mae_test_baseline, mae_test_xgb],\n",
    "    \"R²\": [r2_test_baseline, r2_test_xgb]\n",
    "}\n",
    "\n",
    "# Improvement Summary\n",
    "rmse_improvement = rmse_test_baseline - rmse_test_xgb\n",
    "r2_improvement = (r2_test_xgb - r2_test_baseline) / r2_test_baseline * 100 if r2_test_baseline != 0 else float('inf')\n",
    "\n",
    "print(f\"XGBoost reduced RMSE by {rmse_improvement:.3f} points compared to baseline.\")\n",
    "print(f\"XGBoost improved R² by {r2_improvement:.1f}% over Linear Regression.\\n\")\n",
    "\n",
    "comparison_df = pd.DataFrame(data, index=[\"Linear Regression (Baseline)\", \"XGBoost\"])\n",
    "comparison_df"
   ]
  },
  {
   "cell_type": "code",
   "execution_count": 21,
   "id": "6242a8fd-f8f9-4558-889f-5c1074a0568c",
   "metadata": {
    "execution": {
     "iopub.execute_input": "2025-10-20T00:25:37.061068Z",
     "iopub.status.busy": "2025-10-20T00:25:37.060684Z",
     "iopub.status.idle": "2025-10-20T00:25:37.443081Z",
     "shell.execute_reply": "2025-10-20T00:25:37.442078Z",
     "shell.execute_reply.started": "2025-10-20T00:25:37.061047Z"
    }
   },
   "outputs": [
    {
     "data": {
      "image/png": "[encoded data removed]",
      "text/plain": [
       "<Figure size 1000x400 with 2 Axes>"
      ]
     },
     "metadata": {},
     "output_type": "display_data"
    }
   ],
   "source": [
    "# Plot RMSE and MAE \n",
    "fig, axes = plt.subplots(1, 2, figsize=(10, 4))\n",
    "\n",
    "comparison_df[[\"RMSE\", \"MAE\"]].plot(kind=\"bar\", ax=axes[0], rot=0, color=[\"#87CEFA\", \"#FFA07A\"])\n",
    "axes[0].set_title(\"Error Comparison (Lower is Better)\")\n",
    "axes[0].set_ylabel(\"Error\")\n",
    "axes[0].grid(axis=\"y\", linestyle=\"--\", alpha=0.6)\n",
    "\n",
    "#  Plot R² \n",
    "comparison_df[[\"R²\"]].plot(kind=\"bar\", ax=axes[1], rot=0, color=[\"#90EE90\"])\n",
    "axes[1].set_title(\"Explained Variance (Higher is Better)\")\n",
    "axes[1].set_ylabel(\"R² Score\")\n",
    "axes[1].grid(axis=\"y\", linestyle=\"--\", alpha=0.6)\n",
    "\n",
    "plt.suptitle(\"Model Performance Comparison\", fontsize=14, fontweight=\"bold\")\n",
    "plt.tight_layout()\n",
    "plt.show()"
   ]
  },
  {
   "cell_type": "markdown",
   "id": "7b03975d-1d7c-4a95-810b-fb6daae96632",
   "metadata": {},
   "source": [
    "Nutritional and ingredient-based features in the dataset interact in complex, non-linear ways that are better captured by tree-based methods. The baseline linear model could only approximate broad linear relationships between features (e.g., energy or sugar content) and NutriScore, whereas XGBoost effectively modeled higher-order dependencies—such as how combinations of fats, sugars, and additives jointly influence nutritional quality."
   ]
  },
  {
   "cell_type": "markdown",
   "id": "91754c2f-32bb-4794-86d6-97d0b9fcf2d8",
   "metadata": {},
   "source": [
    "## Upload Trained XGBoost Model to SageMaker Model Registry"
   ]
  },
  {
   "cell_type": "code",
   "execution_count": 22,
   "id": "c774ec11-4c28-46f4-9bbf-a2db510751f1",
   "metadata": {
    "execution": {
     "iopub.execute_input": "2025-10-20T00:25:37.444507Z",
     "iopub.status.busy": "2025-10-20T00:25:37.443874Z",
     "iopub.status.idle": "2025-10-20T00:25:38.163392Z",
     "shell.execute_reply": "2025-10-20T00:25:38.162575Z",
     "shell.execute_reply.started": "2025-10-20T00:25:37.444473Z"
    }
   },
   "outputs": [
    {
     "name": "stdout",
     "output_type": "stream",
     "text": [
      "Model artifacts are located at: s3://sagemaker-us-east-1-654654380268/nutriscore-prediction-xgboost/output/nutrition-score-xgb-2025-10-20-00-17-20/nutrition-score-xgb-2025-10-20-00-17-20/output/model.tar.gz\n",
      "\n",
      "Successfully created model: arn:aws:sagemaker:us-east-1:654654380268:model/nutrition-score-xgb-2025-10-20-00-17-20\n"
     ]
    }
   ],
   "source": [
    "# Initialize the sagemaker client\n",
    "sagemaker_client = boto3.client(\"sagemaker\")\n",
    "\n",
    "# Get the S3 path to the trained model artifacts\n",
    "info = sagemaker_client.describe_training_job(TrainingJobName=job_name)\n",
    "model_data = info[\"ModelArtifacts\"][\"S3ModelArtifacts\"]\n",
    "print(f\"Model artifacts are located at: {model_data}\")\n",
    "\n",
    "# Define the container image for inference (we defined 'image' earlier)\n",
    "primary_container = {\"Image\": image, \"ModelDataUrl\": model_data}\n",
    "\n",
    "# Save model to Sagemaker Model Registry\n",
    "create_model_response = sagemaker_client.create_model(\n",
    "    ModelName=model_name,\n",
    "    ExecutionRoleArn=role,\n",
    "    PrimaryContainer=primary_container\n",
    ")\n",
    "\n",
    "print(f\"\\nSuccessfully created model: {create_model_response['ModelArn']}\")"
   ]
  },
  {
   "cell_type": "code",
   "execution_count": 23,
   "id": "576c5ea5-6c50-4543-a10b-b8d899669fbd",
   "metadata": {
    "execution": {
     "iopub.execute_input": "2025-10-20T00:25:38.164839Z",
     "iopub.status.busy": "2025-10-20T00:25:38.164486Z",
     "iopub.status.idle": "2025-10-20T00:25:38.174844Z",
     "shell.execute_reply": "2025-10-20T00:25:38.174010Z",
     "shell.execute_reply.started": "2025-10-20T00:25:38.164811Z"
    }
   },
   "outputs": [
    {
     "name": "stdout",
     "output_type": "stream",
     "text": [
      "Stored 'model_name' (str)\n"
     ]
    },
    {
     "data": {
      "text/plain": [
       "'nutrition-score-xgb-2025-10-20-00-17-20'"
      ]
     },
     "execution_count": 23,
     "metadata": {},
     "output_type": "execute_result"
    }
   ],
   "source": [
    "%store model_name\n",
    "model_name"
   ]
  },
  {
   "cell_type": "markdown",
   "id": "ee6c5b8b-6a91-4cc2-8ea3-39a82ad7004d",
   "metadata": {},
   "source": [
    "## Live Endpoint Invocation Example"
   ]
  },
  {
   "cell_type": "code",
   "execution_count": null,
   "id": "16f1ee3c-34a0-4bd9-92b1-fa132f1b00fb",
   "metadata": {
    "execution": {
     "execution_failed": "2025-10-20T00:16:22.708Z"
    }
   },
   "outputs": [],
   "source": [
    "# Create Endpoint Configuration\n",
    "endpoint_config_name = f\"xgb-nutriscore-config-{strftime('%Y-%m-%d-%H-%M-%S', gmtime())}\"\n",
    "print(f\"Creating endpoint configuration: {endpoint_config_name}\")\n",
    "\n",
    "# Create the endpoint configuration\n",
    "endpoint_config_response = sagemaker_client.create_endpoint_config(\n",
    "    EndpointConfigName=endpoint_config_name,\n",
    "    ProductionVariants=[\n",
    "        {\n",
    "            \"VariantName\": \"variant1\",\n",
    "            \"ModelName\": model_name,\n",
    "            \"InstanceType\": instance_type,\n",
    "            \"InitialInstanceCount\": 1\n",
    "        }\n",
    "    ]\n",
    ")\n",
    "print(f\"Created EndpointConfig: {endpoint_config_response['EndpointConfigArn']}\")"
   ]
  },
  {
   "cell_type": "code",
   "execution_count": null,
   "id": "34177f47-2703-4bc4-af64-97ee7064db80",
   "metadata": {
    "execution": {
     "execution_failed": "2025-10-20T00:16:22.708Z"
    }
   },
   "outputs": [],
   "source": [
    "# Create real-time endpoint\n",
    "endpoint_name = f\"xgb-nutriscore-endpoint-{strftime('%Y-%m-%d-%H-%M-%S', gmtime())}\"\n",
    "print(f\"Creating endpoint: {endpoint_name}\")\n",
    "\n",
    "# Create the endpoint\n",
    "create_endpoint_response = sagemaker_client.create_endpoint(\n",
    "    EndpointName=endpoint_name,\n",
    "    EndpointConfigName=endpoint_config_name\n",
    ")\n",
    "print(f\"Created Endpoint: {create_endpoint_response['EndpointArn']}\")\n",
    "\n",
    "# Wait for endpoint to spin up\n",
    "sagemaker_client.describe_endpoint(EndpointName=endpoint_name)\n",
    "print(\"Waiting for endpoint to be in service...\")\n",
    "\n",
    "while True:\n",
    "    res = sagemaker_client.describe_endpoint(EndpointName=endpoint_name)\n",
    "    state = res[\"EndpointStatus\"]\n",
    "    \n",
    "    if state == \"InService\":\n",
    "        print(\"Endpoint in Service\")\n",
    "        break\n",
    "    elif state == \"Creating\":\n",
    "        print(\"Endpoint still creating...\")\n",
    "        sleep(60)\n",
    "    else:\n",
    "        print(\"Endpoint Creation Error - Check Sagemaker Console\")\n",
    "        break"
   ]
  },
  {
   "cell_type": "code",
   "execution_count": null,
   "id": "e9197ffd-855c-4141-8110-5b70c5bebac5",
   "metadata": {
    "execution": {
     "execution_failed": "2025-10-20T00:16:22.709Z"
    }
   },
   "outputs": [],
   "source": [
    "# Initialize runtime client\n",
    "sagemaker_runtime = boto3.client(\"sagemaker-runtime\", region_name=region)\n",
    "\n",
    "# Prepare test sample\n",
    "sample_record = X_test.iloc[[0]]\n",
    "sample_target = y_test[0]\n",
    "\n",
    "# Scale sample\n",
    "sample_scaled = preprocessing_pipeline.transform(sample_record)\n",
    "\n",
    "# Convert scaled sample into csv string\n",
    "payload = ','.join([str(x) for x in sample_scaled[0]])\n",
    "print(f\"Sending payload: {payload}\")"
   ]
  },
  {
   "cell_type": "code",
   "execution_count": null,
   "id": "049471ce-2ff8-4c0e-bc46-ff6d20d37d3b",
   "metadata": {
    "execution": {
     "execution_failed": "2025-10-20T00:16:22.709Z"
    }
   },
   "outputs": [],
   "source": [
    "# Invoke the Endpoint\n",
    "response = sagemaker_runtime.invoke_endpoint(\n",
    "    EndpointName=endpoint_name,\n",
    "    ContentType='text/csv',\n",
    "    Body=payload\n",
    ")\n",
    "\n",
    "# Examine the response to see the prediction\n",
    "prediction = response['Body'].read().decode('utf-8')\n",
    "print(f\"\\nSample Target: {sample_target}\")\n",
    "print(f\"Received prediction (nutriscore_score): {prediction}\")"
   ]
  },
  {
   "cell_type": "code",
   "execution_count": null,
   "id": "661d7250-4fb9-403d-8bc1-57d24ceaeb5a",
   "metadata": {
    "execution": {
     "execution_failed": "2025-10-20T00:16:22.709Z"
    }
   },
   "outputs": [],
   "source": [
    "# Delete endpoint to save resources\n",
    "sagemaker_client.delete_endpoint(EndpointName=endpoint_name)"
   ]
  }
 ],
 "metadata": {
  "kernelspec": {
   "display_name": "Python 3 (ipykernel)",
   "language": "python",
   "name": "python3"
  },
  "language_info": {
   "codemirror_mode": {
    "name": "ipython",
    "version": 3
   },
   "file_extension": ".py",
   "mimetype": "text/x-python",
   "name": "python",
   "nbconvert_exporter": "python",
   "pygments_lexer": "ipython3",
   "version": "3.12.9"
  }
 },
 "nbformat": 4,
 "nbformat_minor": 5
}
