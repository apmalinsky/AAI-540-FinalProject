{
 "cells": [
  {
   "cell_type": "markdown",
   "id": "281e4800-cd69-44b2-9418-990b4e96b8e0",
   "metadata": {},
   "source": [
    "# Feature Engineering"
   ]
  },
  {
   "cell_type": "code",
   "execution_count": 1,
   "id": "aaecc4d2-2301-4142-ae0d-72478ca8a314",
   "metadata": {
    "execution": {
     "iopub.execute_input": "2025-09-26T04:47:06.931675Z",
     "iopub.status.busy": "2025-09-26T04:47:06.931411Z",
     "iopub.status.idle": "2025-09-26T04:47:08.860911Z",
     "shell.execute_reply": "2025-09-26T04:47:08.860281Z",
     "shell.execute_reply.started": "2025-09-26T04:47:06.931655Z"
    }
   },
   "outputs": [
    {
     "name": "stdout",
     "output_type": "stream",
     "text": [
      "sagemaker.config INFO - Not applying SDK defaults from location: /etc/xdg/sagemaker/config.yaml\n",
      "sagemaker.config INFO - Not applying SDK defaults from location: /home/sagemaker-user/.config/sagemaker/config.yaml\n"
     ]
    }
   ],
   "source": [
    "# Import libraries\n",
    "import boto3\n",
    "import sagemaker\n",
    "from pyathena import connect\n",
    "import pandas as pd\n",
    "import time"
   ]
  },
  {
   "cell_type": "code",
   "execution_count": 2,
   "id": "a210dd18-325a-4bcb-a965-bea2b3b8cb15",
   "metadata": {
    "execution": {
     "iopub.execute_input": "2025-09-26T04:47:08.863025Z",
     "iopub.status.busy": "2025-09-26T04:47:08.862762Z",
     "iopub.status.idle": "2025-09-26T04:47:09.434232Z",
     "shell.execute_reply": "2025-09-26T04:47:09.433556Z",
     "shell.execute_reply.started": "2025-09-26T04:47:08.863004Z"
    }
   },
   "outputs": [
    {
     "name": "stdout",
     "output_type": "stream",
     "text": [
      "Boto and Sagemaker Sessions Initialized...\n",
      "Bucket: sagemaker-us-east-1-654654351234\n",
      "Region: us-east-1\n"
     ]
    }
   ],
   "source": [
    "# Setup boto and sagemaker session\n",
    "sess = sagemaker.Session()\n",
    "bucket = sess.default_bucket()\n",
    "role = sagemaker.get_execution_role()\n",
    "region = boto3.Session().region_name\n",
    "print('Boto and Sagemaker Sessions Initialized...\\nBucket: {0}\\nRegion: {1}'.format(bucket, region))"
   ]
  },
  {
   "cell_type": "code",
   "execution_count": 3,
   "id": "32e27b09-98fb-4ee1-b054-5860d5c68856",
   "metadata": {
    "execution": {
     "iopub.execute_input": "2025-09-26T04:47:11.659712Z",
     "iopub.status.busy": "2025-09-26T04:47:11.659448Z",
     "iopub.status.idle": "2025-09-26T04:47:11.747789Z",
     "shell.execute_reply": "2025-09-26T04:47:11.747132Z",
     "shell.execute_reply.started": "2025-09-26T04:47:11.659692Z"
    }
   },
   "outputs": [],
   "source": [
    "database_name = 'foodfacts'\n",
    "raw_table_name = \"aai_540_openfoodfacts\"\n",
    "\n",
    "# Initialize our database name\n",
    "database_name = 'foodfacts'\n",
    "\n",
    "# Set S3 staging directory\n",
    "s3_staging_dir = \"s3://{0}/athena/staging\".format(bucket)\n",
    "\n",
    "# Create connection to Athena database\n",
    "conn = connect(region_name=region, s3_staging_dir=s3_staging_dir)"
   ]
  },
  {
   "cell_type": "code",
   "execution_count": 6,
   "id": "dad62101-79aa-4adb-b91c-d0e2c29cad55",
   "metadata": {
    "execution": {
     "iopub.execute_input": "2025-09-26T04:47:59.279446Z",
     "iopub.status.busy": "2025-09-26T04:47:59.279174Z",
     "iopub.status.idle": "2025-09-26T04:48:06.699000Z",
     "shell.execute_reply": "2025-09-26T04:48:06.698185Z",
     "shell.execute_reply.started": "2025-09-26T04:47:59.279426Z"
    }
   },
   "outputs": [
    {
     "name": "stdout",
     "output_type": "stream",
     "text": [
      "SELECT count(*) FROM foodfacts.aai_540_openfoodfacts WHERE contains(countries_tags, 'en:united-states');\n"
     ]
    },
    {
     "name": "stderr",
     "output_type": "stream",
     "text": [
      "/tmp/ipykernel_492/2113779493.py:6: UserWarning: pandas only supports SQLAlchemy connectable (engine/connection) or database string URI or sqlite3 DBAPI2 connection. Other DBAPI2 objects are not tested. Please consider using SQLAlchemy.\n",
      "  df_us = pd.read_sql(statement, conn)\n"
     ]
    },
    {
     "data": {
      "text/html": [
       "<div>\n",
       "<style scoped>\n",
       "    .dataframe tbody tr th:only-of-type {\n",
       "        vertical-align: middle;\n",
       "    }\n",
       "\n",
       "    .dataframe tbody tr th {\n",
       "        vertical-align: top;\n",
       "    }\n",
       "\n",
       "    .dataframe thead th {\n",
       "        text-align: right;\n",
       "    }\n",
       "</style>\n",
       "<table border=\"1\" class=\"dataframe\">\n",
       "  <thead>\n",
       "    <tr style=\"text-align: right;\">\n",
       "      <th></th>\n",
       "      <th>_col0</th>\n",
       "    </tr>\n",
       "  </thead>\n",
       "  <tbody>\n",
       "    <tr>\n",
       "      <th>0</th>\n",
       "      <td>804173</td>\n",
       "    </tr>\n",
       "  </tbody>\n",
       "</table>\n",
       "</div>"
      ],
      "text/plain": [
       "    _col0\n",
       "0  804173"
      ]
     },
     "execution_count": 6,
     "metadata": {},
     "output_type": "execute_result"
    }
   ],
   "source": [
    "# Explore count of food products sold in United States\n",
    "statement = \"\"\"SELECT count(*) FROM {}.{} WHERE contains(countries_tags, 'en:united-states');\"\"\".format(\n",
    "    database_name, raw_table_name\n",
    ")\n",
    "print(statement)\n",
    "df_us = pd.read_sql(statement, conn)\n",
    "df_us"
   ]
  },
  {
   "cell_type": "code",
   "execution_count": 7,
   "id": "912b0132-ff81-4302-acc4-6f378f6eb66d",
   "metadata": {
    "execution": {
     "iopub.execute_input": "2025-09-26T04:48:17.587305Z",
     "iopub.status.busy": "2025-09-26T04:48:17.587037Z",
     "iopub.status.idle": "2025-09-26T04:48:17.590716Z",
     "shell.execute_reply": "2025-09-26T04:48:17.590032Z",
     "shell.execute_reply.started": "2025-09-26T04:48:17.587284Z"
    }
   },
   "outputs": [
    {
     "name": "stdout",
     "output_type": "stream",
     "text": [
      "['_col0']\n"
     ]
    }
   ],
   "source": [
    "print(df_us.columns.tolist())"
   ]
  },
  {
   "cell_type": "code",
   "execution_count": 8,
   "id": "6d9340c4-9ce0-41ab-840d-cb4ee5c0c593",
   "metadata": {
    "execution": {
     "iopub.execute_input": "2025-09-26T04:48:30.559820Z",
     "iopub.status.busy": "2025-09-26T04:48:30.559554Z",
     "iopub.status.idle": "2025-09-26T04:48:30.563312Z",
     "shell.execute_reply": "2025-09-26T04:48:30.562413Z",
     "shell.execute_reply.started": "2025-09-26T04:48:30.559801Z"
    }
   },
   "outputs": [],
   "source": [
    "# Select columns\n",
    "\n",
    "target_col = 'nutriscore_score'\n",
    "\n",
    "select_cols = [\n",
    "    'product_name',\n",
    "    'nutriments',\n",
    "    'nova_group',\n",
    "    'additives_n',\n",
    "    'ingredients_n',\n",
    "    target_col]\n",
    "\n"
   ]
  },
  {
   "cell_type": "code",
   "execution_count": 9,
   "id": "a583ab05-a8f4-4a2d-b66c-1523a2862d72",
   "metadata": {
    "execution": {
     "iopub.execute_input": "2025-09-26T04:48:36.567672Z",
     "iopub.status.busy": "2025-09-26T04:48:36.567411Z",
     "iopub.status.idle": "2025-09-26T04:48:43.987206Z",
     "shell.execute_reply": "2025-09-26T04:48:43.986479Z",
     "shell.execute_reply.started": "2025-09-26T04:48:36.567653Z"
    }
   },
   "outputs": [
    {
     "name": "stdout",
     "output_type": "stream",
     "text": [
      "SELECT \n",
      "    product_name,\n",
      "    nutriments,\n",
      "    nova_group,\n",
      "    additives_n,\n",
      "    ingredients_n,\n",
      "    nutriscore_score FROM foodfacts.aai_540_openfoodfacts WHERE contains(countries_tags, 'en:united-states') LIMIT 5\n"
     ]
    },
    {
     "name": "stderr",
     "output_type": "stream",
     "text": [
      "/tmp/ipykernel_492/885380752.py:12: UserWarning: pandas only supports SQLAlchemy connectable (engine/connection) or database string URI or sqlite3 DBAPI2 connection. Other DBAPI2 objects are not tested. Please consider using SQLAlchemy.\n",
      "  df_us = pd.read_sql(statement, conn)\n"
     ]
    },
    {
     "data": {
      "text/html": [
       "<div>\n",
       "<style scoped>\n",
       "    .dataframe tbody tr th:only-of-type {\n",
       "        vertical-align: middle;\n",
       "    }\n",
       "\n",
       "    .dataframe tbody tr th {\n",
       "        vertical-align: top;\n",
       "    }\n",
       "\n",
       "    .dataframe thead th {\n",
       "        text-align: right;\n",
       "    }\n",
       "</style>\n",
       "<table border=\"1\" class=\"dataframe\">\n",
       "  <thead>\n",
       "    <tr style=\"text-align: right;\">\n",
       "      <th></th>\n",
       "      <th>product_name</th>\n",
       "      <th>nutriments</th>\n",
       "      <th>nova_group</th>\n",
       "      <th>additives_n</th>\n",
       "      <th>ingredients_n</th>\n",
       "      <th>nutriscore_score</th>\n",
       "    </tr>\n",
       "  </thead>\n",
       "  <tbody>\n",
       "    <tr>\n",
       "      <th>0</th>\n",
       "      <td>[{'lang': 'main', 'text': 'Sopressata'}, {'lan...</td>\n",
       "      <td>[{'name': 'carbohydrates', 'value': 3.57, '100...</td>\n",
       "      <td>NaN</td>\n",
       "      <td>0</td>\n",
       "      <td>7</td>\n",
       "      <td>NaN</td>\n",
       "    </tr>\n",
       "    <tr>\n",
       "      <th>1</th>\n",
       "      <td>[{'lang': 'main', 'text': 'Pork rinds chicharr...</td>\n",
       "      <td>[{'name': 'salt', 'value': 6250.0, '100g': 6.2...</td>\n",
       "      <td>4.0</td>\n",
       "      <td>8</td>\n",
       "      <td>17</td>\n",
       "      <td>37.0</td>\n",
       "    </tr>\n",
       "    <tr>\n",
       "      <th>2</th>\n",
       "      <td>[{'lang': 'main', 'text': 'Lime-ade juice'}, {...</td>\n",
       "      <td>[{'name': 'salt', 'value': 0.0, '100g': 0.0, '...</td>\n",
       "      <td>3.0</td>\n",
       "      <td>1</td>\n",
       "      <td>7</td>\n",
       "      <td>0.0</td>\n",
       "    </tr>\n",
       "    <tr>\n",
       "      <th>3</th>\n",
       "      <td>[{'lang': 'main', 'text': 'Penne whole wheat m...</td>\n",
       "      <td>[{'name': 'proteins', 'value': 12.5, '100g': 1...</td>\n",
       "      <td>1.0</td>\n",
       "      <td>0</td>\n",
       "      <td>1</td>\n",
       "      <td>-5.0</td>\n",
       "    </tr>\n",
       "    <tr>\n",
       "      <th>4</th>\n",
       "      <td>[{'lang': 'main', 'text': 'Dulce de leche iced...</td>\n",
       "      <td>[{'name': 'energy-kcal', 'value': 455.0, '100g...</td>\n",
       "      <td>4.0</td>\n",
       "      <td>12</td>\n",
       "      <td>32</td>\n",
       "      <td>30.0</td>\n",
       "    </tr>\n",
       "  </tbody>\n",
       "</table>\n",
       "</div>"
      ],
      "text/plain": [
       "                                        product_name  \\\n",
       "0  [{'lang': 'main', 'text': 'Sopressata'}, {'lan...   \n",
       "1  [{'lang': 'main', 'text': 'Pork rinds chicharr...   \n",
       "2  [{'lang': 'main', 'text': 'Lime-ade juice'}, {...   \n",
       "3  [{'lang': 'main', 'text': 'Penne whole wheat m...   \n",
       "4  [{'lang': 'main', 'text': 'Dulce de leche iced...   \n",
       "\n",
       "                                          nutriments  nova_group  additives_n  \\\n",
       "0  [{'name': 'carbohydrates', 'value': 3.57, '100...         NaN            0   \n",
       "1  [{'name': 'salt', 'value': 6250.0, '100g': 6.2...         4.0            8   \n",
       "2  [{'name': 'salt', 'value': 0.0, '100g': 0.0, '...         3.0            1   \n",
       "3  [{'name': 'proteins', 'value': 12.5, '100g': 1...         1.0            0   \n",
       "4  [{'name': 'energy-kcal', 'value': 455.0, '100g...         4.0           12   \n",
       "\n",
       "   ingredients_n  nutriscore_score  \n",
       "0              7               NaN  \n",
       "1             17              37.0  \n",
       "2              7               0.0  \n",
       "3              1              -5.0  \n",
       "4             32              30.0  "
      ]
     },
     "execution_count": 9,
     "metadata": {},
     "output_type": "execute_result"
    }
   ],
   "source": [
    "# Filter down dataset to food products in United States with select raw columns\n",
    "statement = \"\"\"SELECT \n",
    "    product_name,\n",
    "    nutriments,\n",
    "    nova_group,\n",
    "    additives_n,\n",
    "    ingredients_n,\n",
    "    nutriscore_score FROM {}.{} WHERE contains(countries_tags, 'en:united-states') LIMIT 5\"\"\".format(\n",
    "    database_name, raw_table_name\n",
    ")\n",
    "print(statement)\n",
    "df_us = pd.read_sql(statement, conn)\n",
    "df_us"
   ]
  },
  {
   "cell_type": "code",
   "execution_count": 10,
   "id": "dac86844-17f0-4f3d-86f0-16021c75c3be",
   "metadata": {
    "execution": {
     "iopub.execute_input": "2025-09-26T04:48:43.988312Z",
     "iopub.status.busy": "2025-09-26T04:48:43.988071Z",
     "iopub.status.idle": "2025-09-26T04:48:43.995237Z",
     "shell.execute_reply": "2025-09-26T04:48:43.994312Z",
     "shell.execute_reply.started": "2025-09-26T04:48:43.988291Z"
    }
   },
   "outputs": [
    {
     "data": {
      "text/plain": [
       "[{'lang': 'main', 'text': 'Lime-ade juice'},\n",
       " {'lang': 'en', 'text': 'Lime-ade juice'}]"
      ]
     },
     "execution_count": 10,
     "metadata": {},
     "output_type": "execute_result"
    }
   ],
   "source": [
    "df_us.loc[2]['product_name']"
   ]
  },
  {
   "cell_type": "code",
   "execution_count": 11,
   "id": "50d48867-c755-44bb-a2d8-89e6043f0a49",
   "metadata": {
    "execution": {
     "iopub.execute_input": "2025-09-26T04:48:46.993967Z",
     "iopub.status.busy": "2025-09-26T04:48:46.993700Z",
     "iopub.status.idle": "2025-09-26T04:48:47.000394Z",
     "shell.execute_reply": "2025-09-26T04:48:46.999720Z",
     "shell.execute_reply.started": "2025-09-26T04:48:46.993945Z"
    },
    "scrolled": true
   },
   "outputs": [
    {
     "data": {
      "text/plain": [
       "[{'name': 'salt',\n",
       "  'value': 0.0,\n",
       "  '100g': 0.0,\n",
       "  'serving': 0.0,\n",
       "  'unit': 'mg',\n",
       "  'prepared_value': None,\n",
       "  'prepared_100g': None,\n",
       "  'prepared_serving': None,\n",
       "  'prepared_unit': None},\n",
       " {'name': 'vitamin-c',\n",
       "  'value': 29.0,\n",
       "  '100g': 0.029,\n",
       "  'serving': 0.06,\n",
       "  'unit': 'mg',\n",
       "  'prepared_value': None,\n",
       "  'prepared_100g': None,\n",
       "  'prepared_serving': None,\n",
       "  'prepared_unit': None},\n",
       " {'name': 'fat',\n",
       "  'value': 0.0,\n",
       "  '100g': 0.0,\n",
       "  'serving': 0.0,\n",
       "  'unit': 'g',\n",
       "  'prepared_value': None,\n",
       "  'prepared_100g': None,\n",
       "  'prepared_serving': None,\n",
       "  'prepared_unit': None},\n",
       " {'name': 'proteins',\n",
       "  'value': 0.0,\n",
       "  '100g': 0.0,\n",
       "  'serving': 0.0,\n",
       "  'unit': 'g',\n",
       "  'prepared_value': None,\n",
       "  'prepared_100g': None,\n",
       "  'prepared_serving': None,\n",
       "  'prepared_unit': None},\n",
       " {'name': 'fruits-vegetables-legumes-estimate-from-ingredients',\n",
       "  'value': None,\n",
       "  '100g': 24.107143,\n",
       "  'serving': 24.107143,\n",
       "  'unit': None,\n",
       "  'prepared_value': None,\n",
       "  'prepared_100g': None,\n",
       "  'prepared_serving': None,\n",
       "  'prepared_unit': None},\n",
       " {'name': 'carbohydrates',\n",
       "  'value': 0.97,\n",
       "  '100g': 0.97,\n",
       "  'serving': 2.01,\n",
       "  'unit': 'g',\n",
       "  'prepared_value': None,\n",
       "  'prepared_100g': None,\n",
       "  'prepared_serving': None,\n",
       "  'prepared_unit': None},\n",
       " {'name': 'energy-kcal',\n",
       "  'value': 4.0,\n",
       "  '100g': 4.0,\n",
       "  'serving': 8.28,\n",
       "  'unit': 'kcal',\n",
       "  'prepared_value': None,\n",
       "  'prepared_100g': None,\n",
       "  'prepared_serving': None,\n",
       "  'prepared_unit': None},\n",
       " {'name': 'energy',\n",
       "  'value': 4.0,\n",
       "  '100g': 17.0,\n",
       "  'serving': 35.2,\n",
       "  'unit': 'kcal',\n",
       "  'prepared_value': None,\n",
       "  'prepared_100g': None,\n",
       "  'prepared_serving': None,\n",
       "  'prepared_unit': None},\n",
       " {'name': 'nova-group',\n",
       "  'value': None,\n",
       "  '100g': 3.0,\n",
       "  'serving': 3.0,\n",
       "  'unit': None,\n",
       "  'prepared_value': None,\n",
       "  'prepared_100g': None,\n",
       "  'prepared_serving': None,\n",
       "  'prepared_unit': None},\n",
       " {'name': 'fruits-vegetables-nuts-estimate-from-ingredients',\n",
       "  'value': None,\n",
       "  '100g': 24.107143,\n",
       "  'serving': 24.107143,\n",
       "  'unit': None,\n",
       "  'prepared_value': None,\n",
       "  'prepared_100g': None,\n",
       "  'prepared_serving': None,\n",
       "  'prepared_unit': None},\n",
       " {'name': 'sodium',\n",
       "  'value': 0.0,\n",
       "  '100g': 0.0,\n",
       "  'serving': 0.0,\n",
       "  'unit': 'mg',\n",
       "  'prepared_value': None,\n",
       "  'prepared_100g': None,\n",
       "  'prepared_serving': None,\n",
       "  'prepared_unit': None},\n",
       " {'name': 'sugars',\n",
       "  'value': 0.48,\n",
       "  '100g': 0.48,\n",
       "  'serving': 0.994,\n",
       "  'unit': 'g',\n",
       "  'prepared_value': None,\n",
       "  'prepared_100g': None,\n",
       "  'prepared_serving': None,\n",
       "  'prepared_unit': None},\n",
       " {'name': 'nutrition-score-fr',\n",
       "  'value': None,\n",
       "  '100g': 0.0,\n",
       "  'serving': None,\n",
       "  'unit': None,\n",
       "  'prepared_value': None,\n",
       "  'prepared_100g': None,\n",
       "  'prepared_serving': None,\n",
       "  'prepared_unit': None}]"
      ]
     },
     "execution_count": 11,
     "metadata": {},
     "output_type": "execute_result"
    }
   ],
   "source": [
    "df_us.loc[2]['nutriments']"
   ]
  },
  {
   "cell_type": "code",
   "execution_count": null,
   "id": "d159f229-82e6-43b1-9a0b-308f121f46d3",
   "metadata": {},
   "outputs": [],
   "source": [
    "# Parse nutriments column to extract features per 100g\n",
    "\n",
    "# For example: carbohydrates_100g\n",
    "# \"Negative\" Components: energy, saturated fats, sugars, and salt/sodium.\n",
    "# \"Positive\" Components: proteins, fiber, and the percentage of fruits, vegetables, and nuts. ..."
   ]
  },
  {
   "cell_type": "code",
   "execution_count": null,
   "id": "a2446b77-2aea-401d-810f-5a8ea760fb62",
   "metadata": {},
   "outputs": [],
   "source": []
  },
  {
   "cell_type": "code",
   "execution_count": null,
   "id": "bce5a999-cdd8-4767-a62f-f8977a70a06f",
   "metadata": {},
   "outputs": [],
   "source": [
    "# Continue with feature store and feature groups ..."
   ]
  },
  {
   "cell_type": "code",
   "execution_count": 14,
   "id": "cd56dc79-eac4-470d-8dd0-da4f6858a9f4",
   "metadata": {
    "execution": {
     "iopub.execute_input": "2025-09-26T05:19:18.382688Z",
     "iopub.status.busy": "2025-09-26T05:19:18.382423Z",
     "iopub.status.idle": "2025-09-26T05:19:25.929301Z",
     "shell.execute_reply": "2025-09-26T05:19:25.928498Z",
     "shell.execute_reply.started": "2025-09-26T05:19:18.382668Z"
    }
   },
   "outputs": [
    {
     "name": "stdout",
     "output_type": "stream",
     "text": [
      "\n",
      "SELECT \n",
      "    product_name,\n",
      "    nutriments,\n",
      "    nova_group,\n",
      "    additives_n,\n",
      "    ingredients_n,\n",
      "    nutriscore_score\n",
      "FROM foodfacts.aai_540_openfoodfacts\n",
      "WHERE contains(countries_tags, 'en:united-states')\n",
      "  AND nutriscore_score IS NOT NULL\n",
      "LIMIT 1000 \n",
      "\n"
     ]
    },
    {
     "name": "stderr",
     "output_type": "stream",
     "text": [
      "/tmp/ipykernel_492/4139366214.py:19: UserWarning: pandas only supports SQLAlchemy connectable (engine/connection) or database string URI or sqlite3 DBAPI2 connection. Other DBAPI2 objects are not tested. Please consider using SQLAlchemy.\n",
      "  df = pd.read_sql(statement, conn)\n"
     ]
    },
    {
     "name": "stdout",
     "output_type": "stream",
     "text": [
      "Fetched 1,000 rows\n"
     ]
    }
   ],
   "source": [
    "\n",
    "#Pull a bigger slice (adjust LIMIT as needed)\n",
    "statement = f\"\"\"\n",
    "SELECT \n",
    "    product_name,\n",
    "    nutriments,\n",
    "    nova_group,\n",
    "    additives_n,\n",
    "    ingredients_n,\n",
    "    nutriscore_score\n",
    "FROM {database_name}.{raw_table_name}\n",
    "WHERE contains(countries_tags, 'en:united-states')\n",
    "  AND nutriscore_score IS NOT NULL\n",
    "LIMIT 1000 \n",
    "\"\"\"\n",
    "print(statement)\n",
    "df = pd.read_sql(statement, conn)\n",
    "print(f\"Fetched {len(df):,} rows\")"
   ]
  },
  {
   "cell_type": "code",
   "execution_count": 19,
   "id": "d248b2d2-ed1e-4020-a930-d1041abd30ab",
   "metadata": {
    "execution": {
     "iopub.execute_input": "2025-09-26T05:41:19.203546Z",
     "iopub.status.busy": "2025-09-26T05:41:19.203270Z",
     "iopub.status.idle": "2025-09-26T05:41:19.207818Z",
     "shell.execute_reply": "2025-09-26T05:41:19.206891Z",
     "shell.execute_reply.started": "2025-09-26T05:41:19.203525Z"
    },
    "scrolled": true
   },
   "outputs": [
    {
     "name": "stdout",
     "output_type": "stream",
     "text": [
      "[{'name': 'salt', 'value': 6250.0, '100g': 6.25, 'serving': 0.875, 'unit': 'mg', 'prepared_value': None, 'prepared_100g': None, 'prepared_serving': None, 'prepared_unit': None}, {'name': 'energy-kcal', 'value': 571.0, '100g': 571.0, 'serving': 79.9, 'unit': 'kcal', 'prepared_value': None, 'prepared_100g': None, 'prepared_serving': None, 'prepared_unit': None}, {'name': 'trans-fat', 'value': 0.0, '100g': 0.0, 'serving': 0.0, 'unit': 'g', 'prepared_value': None, 'prepared_100g': None, 'prepared_serving': None, 'prepared_unit': None}, {'name': 'saturated-fat', 'value': 14.29, '100g': 14.29, 'serving': 2.0, 'unit': 'g', 'prepared_value': None, 'prepared_100g': None, 'prepared_serving': None, 'prepared_unit': None}, {'name': 'carbohydrates', 'value': 0.0, '100g': 0.0, 'serving': 0.0, 'unit': 'g', 'prepared_value': None, 'prepared_100g': None, 'prepared_serving': None, 'prepared_unit': None}, {'name': 'fat', 'value': 42.86, '100g': 42.86, 'serving': 6.0, 'unit': 'g', 'prepared_value': None, 'prepared_100g': None, 'prepared_serving': None, 'prepared_unit': None}, {'name': 'sodium', 'value': 2500.0, '100g': 2.5, 'serving': 0.35, 'unit': 'mg', 'prepared_value': None, 'prepared_100g': None, 'prepared_serving': None, 'prepared_unit': None}, {'name': 'fruits-vegetables-nuts-estimate-from-ingredients', 'value': None, '100g': 0.0, 'serving': 0.0, 'unit': None, 'prepared_value': None, 'prepared_100g': None, 'prepared_serving': None, 'prepared_unit': None}, {'name': 'cholesterol', 'value': 107.0, '100g': 0.107, 'serving': 0.015, 'unit': 'mg', 'prepared_value': None, 'prepared_100g': None, 'prepared_serving': None, 'prepared_unit': None}, {'name': 'energy', 'value': 571.0, '100g': 2389.0, 'serving': 334.0, 'unit': 'kcal', 'prepared_value': None, 'prepared_100g': None, 'prepared_serving': None, 'prepared_unit': None}, {'name': 'nova-group', 'value': None, '100g': 4.0, 'serving': 4.0, 'unit': None, 'prepared_value': None, 'prepared_100g': None, 'prepared_serving': None, 'prepared_unit': None}, {'name': 'fruits-vegetables-legumes-estimate-from-ingredients', 'value': None, '100g': 0.0, 'serving': 0.0, 'unit': None, 'prepared_value': None, 'prepared_100g': None, 'prepared_serving': None, 'prepared_unit': None}, {'name': 'proteins', 'value': 50.0, '100g': 50.0, 'serving': 7.0, 'unit': 'g', 'prepared_value': None, 'prepared_100g': None, 'prepared_serving': None, 'prepared_unit': None}, {'name': 'nutrition-score-fr', 'value': None, '100g': 37.0, 'serving': None, 'unit': None, 'prepared_value': None, 'prepared_100g': None, 'prepared_serving': None, 'prepared_unit': None}]\n",
      "[{'name': 'salt', 'value': 0.0, '100g': 0.0, 'serving': 0.0, 'unit': 'mg', 'prepared_value': None, 'prepared_100g': None, 'prepared_serving': None, 'prepared_unit': None}, {'name': 'vitamin-c', 'value': 29.0, '100g': 0.029, 'serving': 0.06, 'unit': 'mg', 'prepared_value': None, 'prepared_100g': None, 'prepared_serving': None, 'prepared_unit': None}, {'name': 'fat', 'value': 0.0, '100g': 0.0, 'serving': 0.0, 'unit': 'g', 'prepared_value': None, 'prepared_100g': None, 'prepared_serving': None, 'prepared_unit': None}, {'name': 'proteins', 'value': 0.0, '100g': 0.0, 'serving': 0.0, 'unit': 'g', 'prepared_value': None, 'prepared_100g': None, 'prepared_serving': None, 'prepared_unit': None}, {'name': 'fruits-vegetables-legumes-estimate-from-ingredients', 'value': None, '100g': 24.107143, 'serving': 24.107143, 'unit': None, 'prepared_value': None, 'prepared_100g': None, 'prepared_serving': None, 'prepared_unit': None}, {'name': 'carbohydrates', 'value': 0.97, '100g': 0.97, 'serving': 2.01, 'unit': 'g', 'prepared_value': None, 'prepared_100g': None, 'prepared_serving': None, 'prepared_unit': None}, {'name': 'energy-kcal', 'value': 4.0, '100g': 4.0, 'serving': 8.28, 'unit': 'kcal', 'prepared_value': None, 'prepared_100g': None, 'prepared_serving': None, 'prepared_unit': None}, {'name': 'energy', 'value': 4.0, '100g': 17.0, 'serving': 35.2, 'unit': 'kcal', 'prepared_value': None, 'prepared_100g': None, 'prepared_serving': None, 'prepared_unit': None}, {'name': 'nova-group', 'value': None, '100g': 3.0, 'serving': 3.0, 'unit': None, 'prepared_value': None, 'prepared_100g': None, 'prepared_serving': None, 'prepared_unit': None}, {'name': 'fruits-vegetables-nuts-estimate-from-ingredients', 'value': None, '100g': 24.107143, 'serving': 24.107143, 'unit': None, 'prepared_value': None, 'prepared_100g': None, 'prepared_serving': None, 'prepared_unit': None}, {'name': 'sodium', 'value': 0.0, '100g': 0.0, 'serving': 0.0, 'unit': 'mg', 'prepared_value': None, 'prepared_100g': None, 'prepared_serving': None, 'prepared_unit': None}, {'name': 'sugars', 'value': 0.48, '100g': 0.48, 'serving': 0.994, 'unit': 'g', 'prepared_value': None, 'prepared_100g': None, 'prepared_serving': None, 'prepared_unit': None}, {'name': 'nutrition-score-fr', 'value': None, '100g': 0.0, 'serving': None, 'unit': None, 'prepared_value': None, 'prepared_100g': None, 'prepared_serving': None, 'prepared_unit': None}]\n",
      "[{'name': 'proteins', 'value': 12.5, '100g': 12.5, 'serving': 7.0, 'unit': 'g', 'prepared_value': None, 'prepared_100g': None, 'prepared_serving': None, 'prepared_unit': None}, {'name': 'energy', 'value': 357.0, '100g': 1494.0, 'serving': 837.0, 'unit': 'kcal', 'prepared_value': None, 'prepared_100g': None, 'prepared_serving': None, 'prepared_unit': None}, {'name': 'nova-group', 'value': None, '100g': 1.0, 'serving': 1.0, 'unit': None, 'prepared_value': None, 'prepared_100g': None, 'prepared_serving': None, 'prepared_unit': None}, {'name': 'saturated-fat', 'value': 0.0, '100g': 0.0, 'serving': 0.0, 'unit': 'g', 'prepared_value': None, 'prepared_100g': None, 'prepared_serving': None, 'prepared_unit': None}, {'name': 'fiber', 'value': 8.9, '100g': 8.9, 'serving': 4.98, 'unit': 'g', 'prepared_value': None, 'prepared_100g': None, 'prepared_serving': None, 'prepared_unit': None}, {'name': 'calcium', 'value': 0.0, '100g': 0.0, 'serving': 0.0, 'unit': 'mg', 'prepared_value': None, 'prepared_100g': None, 'prepared_serving': None, 'prepared_unit': None}, {'name': 'fruits-vegetables-nuts-estimate-from-ingredients', 'value': None, '100g': 0.0, 'serving': 0.0, 'unit': None, 'prepared_value': None, 'prepared_100g': None, 'prepared_serving': None, 'prepared_unit': None}, {'name': 'sugars', 'value': 3.57, '100g': 3.57, 'serving': 2.0, 'unit': 'g', 'prepared_value': None, 'prepared_100g': None, 'prepared_serving': None, 'prepared_unit': None}, {'name': 'fat', 'value': 2.68, '100g': 2.68, 'serving': 1.5, 'unit': 'g', 'prepared_value': None, 'prepared_100g': None, 'prepared_serving': None, 'prepared_unit': None}, {'name': 'sodium', 'value': 0.0, '100g': 0.0, 'serving': 0.0, 'unit': 'mg', 'prepared_value': None, 'prepared_100g': None, 'prepared_serving': None, 'prepared_unit': None}, {'name': 'energy-kcal', 'value': 357.0, '100g': 357.0, 'serving': 200.0, 'unit': 'kcal', 'prepared_value': None, 'prepared_100g': None, 'prepared_serving': None, 'prepared_unit': None}, {'name': 'iron', 'value': 3.57, '100g': 0.00357, 'serving': 0.002, 'unit': 'mg', 'prepared_value': None, 'prepared_100g': None, 'prepared_serving': None, 'prepared_unit': None}, {'name': 'potassium', 'value': 464.0, '100g': 0.464, 'serving': 0.26, 'unit': 'mg', 'prepared_value': None, 'prepared_100g': None, 'prepared_serving': None, 'prepared_unit': None}, {'name': 'salt', 'value': 0.0, '100g': 0.0, 'serving': 0.0, 'unit': 'mg', 'prepared_value': None, 'prepared_100g': None, 'prepared_serving': None, 'prepared_unit': None}, {'name': 'trans-fat', 'value': 0.0, '100g': 0.0, 'serving': 0.0, 'unit': 'g', 'prepared_value': None, 'prepared_100g': None, 'prepared_serving': None, 'prepared_unit': None}, {'name': 'cholesterol', 'value': 0.0, '100g': 0.0, 'serving': 0.0, 'unit': 'mg', 'prepared_value': None, 'prepared_100g': None, 'prepared_serving': None, 'prepared_unit': None}, {'name': 'carbohydrates', 'value': 73.21, '100g': 73.21, 'serving': 41.0, 'unit': 'g', 'prepared_value': None, 'prepared_100g': None, 'prepared_serving': None, 'prepared_unit': None}, {'name': 'nutrition-score-fr', 'value': None, '100g': -5.0, 'serving': None, 'unit': None, 'prepared_value': None, 'prepared_100g': None, 'prepared_serving': None, 'prepared_unit': None}, {'name': 'fruits-vegetables-legumes-estimate-from-ingredients', 'value': None, '100g': 0.0, 'serving': 0.0, 'unit': None, 'prepared_value': None, 'prepared_100g': None, 'prepared_serving': None, 'prepared_unit': None}]\n"
     ]
    }
   ],
   "source": [
    "print(df[\"nutriments\"].iloc[0])\n",
    "print(df[\"nutriments\"].iloc[1])\n",
    "print(df[\"nutriments\"].iloc[2])"
   ]
  },
  {
   "cell_type": "code",
   "execution_count": 30,
   "id": "d1228439-ff7b-49d2-9dee-85ab4bee951b",
   "metadata": {
    "execution": {
     "iopub.execute_input": "2025-09-26T06:01:18.644347Z",
     "iopub.status.busy": "2025-09-26T06:01:18.644080Z",
     "iopub.status.idle": "2025-09-26T06:01:26.326761Z",
     "shell.execute_reply": "2025-09-26T06:01:26.325865Z",
     "shell.execute_reply.started": "2025-09-26T06:01:18.644327Z"
    }
   },
   "outputs": [
    {
     "name": "stdout",
     "output_type": "stream",
     "text": [
      "\n",
      "SELECT \n",
      "    product_name,\n",
      "    nova_group,\n",
      "    nutriscore_score,\n",
      "    nutriscore_grade,\n",
      "    ecoscore_score,\n",
      "    ecoscore_grade,\n",
      "    categories,\n",
      "    categories_tags,\n",
      "    labels,\n",
      "    additives_tags\n",
      "FROM foodfacts.aai_540_openfoodfacts\n",
      "WHERE contains(countries_tags, 'en:united-states')\n",
      "LIMIT 1000\n",
      "\n"
     ]
    },
    {
     "name": "stderr",
     "output_type": "stream",
     "text": [
      "/tmp/ipykernel_492/4175453290.py:19: UserWarning: pandas only supports SQLAlchemy connectable (engine/connection) or database string URI or sqlite3 DBAPI2 connection. Other DBAPI2 objects are not tested. Please consider using SQLAlchemy.\n",
      "  df_groups = pd.read_sql(statement, conn)\n"
     ]
    },
    {
     "name": "stdout",
     "output_type": "stream",
     "text": [
      "Fetched 1,000 rows\n"
     ]
    },
    {
     "data": {
      "text/html": [
       "<div>\n",
       "<style scoped>\n",
       "    .dataframe tbody tr th:only-of-type {\n",
       "        vertical-align: middle;\n",
       "    }\n",
       "\n",
       "    .dataframe tbody tr th {\n",
       "        vertical-align: top;\n",
       "    }\n",
       "\n",
       "    .dataframe thead th {\n",
       "        text-align: right;\n",
       "    }\n",
       "</style>\n",
       "<table border=\"1\" class=\"dataframe\">\n",
       "  <thead>\n",
       "    <tr style=\"text-align: right;\">\n",
       "      <th></th>\n",
       "      <th>product_name</th>\n",
       "      <th>nova_group</th>\n",
       "      <th>nutriscore_score</th>\n",
       "      <th>nutriscore_grade</th>\n",
       "      <th>ecoscore_score</th>\n",
       "      <th>ecoscore_grade</th>\n",
       "      <th>categories</th>\n",
       "      <th>categories_tags</th>\n",
       "      <th>labels</th>\n",
       "      <th>additives_tags</th>\n",
       "    </tr>\n",
       "  </thead>\n",
       "  <tbody>\n",
       "    <tr>\n",
       "      <th>0</th>\n",
       "      <td>[{'lang': 'main', 'text': 'Sixlets'}, {'lang':...</td>\n",
       "      <td>4.0</td>\n",
       "      <td>NaN</td>\n",
       "      <td>unknown</td>\n",
       "      <td>NaN</td>\n",
       "      <td>unknown</td>\n",
       "      <td>None</td>\n",
       "      <td>None</td>\n",
       "      <td>None</td>\n",
       "      <td>[en:e129, en:e133, en:e1400, en:e171, en:e322,...</td>\n",
       "    </tr>\n",
       "    <tr>\n",
       "      <th>1</th>\n",
       "      <td>[{'lang': 'main', 'text': 'Sixlets'}, {'lang':...</td>\n",
       "      <td>4.0</td>\n",
       "      <td>32.0</td>\n",
       "      <td>e</td>\n",
       "      <td>NaN</td>\n",
       "      <td>unknown</td>\n",
       "      <td>Snacks, Sweet snacks, Cocoa and its products, ...</td>\n",
       "      <td>[en:snacks, en:sweet-snacks, en:cocoa-and-its-...</td>\n",
       "      <td>None</td>\n",
       "      <td>[en:e129, en:e133, en:e1400, en:e171, en:e322,...</td>\n",
       "    </tr>\n",
       "    <tr>\n",
       "      <th>2</th>\n",
       "      <td>[{'lang': 'main', 'text': 'Candy Coated Chocol...</td>\n",
       "      <td>4.0</td>\n",
       "      <td>31.0</td>\n",
       "      <td>e</td>\n",
       "      <td>NaN</td>\n",
       "      <td>unknown</td>\n",
       "      <td>Snacks, Sweet snacks, Cocoa and its products, ...</td>\n",
       "      <td>[en:snacks, en:sweet-snacks, en:cocoa-and-its-...</td>\n",
       "      <td>None</td>\n",
       "      <td>[en:e129, en:e133, en:e1400, en:e171, en:e322,...</td>\n",
       "    </tr>\n",
       "    <tr>\n",
       "      <th>3</th>\n",
       "      <td>[{'lang': 'main', 'text': 'Chocolatey candies'...</td>\n",
       "      <td>4.0</td>\n",
       "      <td>32.0</td>\n",
       "      <td>e</td>\n",
       "      <td>NaN</td>\n",
       "      <td>unknown</td>\n",
       "      <td>Baking decorations</td>\n",
       "      <td>[en:baking-decorations]</td>\n",
       "      <td>None</td>\n",
       "      <td>[en:e102, en:e129, en:e1400, en:e171, en:e322,...</td>\n",
       "    </tr>\n",
       "    <tr>\n",
       "      <th>4</th>\n",
       "      <td>[{'lang': 'main', 'text': 'Shimmer Turquoise G...</td>\n",
       "      <td>4.0</td>\n",
       "      <td>18.0</td>\n",
       "      <td>d</td>\n",
       "      <td>NaN</td>\n",
       "      <td>unknown</td>\n",
       "      <td>Snacks, Sweet snacks, Confectioneries</td>\n",
       "      <td>[en:snacks, en:sweet-snacks, en:confectioneries]</td>\n",
       "      <td>None</td>\n",
       "      <td>[en:e102, en:e133, en:e1400, en:e171, en:e321,...</td>\n",
       "    </tr>\n",
       "  </tbody>\n",
       "</table>\n",
       "</div>"
      ],
      "text/plain": [
       "                                        product_name  nova_group  \\\n",
       "0  [{'lang': 'main', 'text': 'Sixlets'}, {'lang':...         4.0   \n",
       "1  [{'lang': 'main', 'text': 'Sixlets'}, {'lang':...         4.0   \n",
       "2  [{'lang': 'main', 'text': 'Candy Coated Chocol...         4.0   \n",
       "3  [{'lang': 'main', 'text': 'Chocolatey candies'...         4.0   \n",
       "4  [{'lang': 'main', 'text': 'Shimmer Turquoise G...         4.0   \n",
       "\n",
       "   nutriscore_score nutriscore_grade  ecoscore_score ecoscore_grade  \\\n",
       "0               NaN          unknown             NaN        unknown   \n",
       "1              32.0                e             NaN        unknown   \n",
       "2              31.0                e             NaN        unknown   \n",
       "3              32.0                e             NaN        unknown   \n",
       "4              18.0                d             NaN        unknown   \n",
       "\n",
       "                                          categories  \\\n",
       "0                                               None   \n",
       "1  Snacks, Sweet snacks, Cocoa and its products, ...   \n",
       "2  Snacks, Sweet snacks, Cocoa and its products, ...   \n",
       "3                                 Baking decorations   \n",
       "4              Snacks, Sweet snacks, Confectioneries   \n",
       "\n",
       "                                     categories_tags labels  \\\n",
       "0                                               None   None   \n",
       "1  [en:snacks, en:sweet-snacks, en:cocoa-and-its-...   None   \n",
       "2  [en:snacks, en:sweet-snacks, en:cocoa-and-its-...   None   \n",
       "3                            [en:baking-decorations]   None   \n",
       "4   [en:snacks, en:sweet-snacks, en:confectioneries]   None   \n",
       "\n",
       "                                      additives_tags  \n",
       "0  [en:e129, en:e133, en:e1400, en:e171, en:e322,...  \n",
       "1  [en:e129, en:e133, en:e1400, en:e171, en:e322,...  \n",
       "2  [en:e129, en:e133, en:e1400, en:e171, en:e322,...  \n",
       "3  [en:e102, en:e129, en:e1400, en:e171, en:e322,...  \n",
       "4  [en:e102, en:e133, en:e1400, en:e171, en:e321,...  "
      ]
     },
     "execution_count": 30,
     "metadata": {},
     "output_type": "execute_result"
    }
   ],
   "source": [
    "statement = f\"\"\"\n",
    "SELECT \n",
    "    product_name,\n",
    "    nova_group,\n",
    "    nutriscore_score,\n",
    "    nutriscore_grade,\n",
    "    ecoscore_score,\n",
    "    ecoscore_grade,\n",
    "    categories,\n",
    "    categories_tags,\n",
    "    labels,\n",
    "    additives_tags\n",
    "FROM {database_name}.{raw_table_name}\n",
    "WHERE contains(countries_tags, 'en:united-states')\n",
    "LIMIT 1000\n",
    "\"\"\"\n",
    "print(statement)\n",
    "\n",
    "df_groups = pd.read_sql(statement, conn)\n",
    "print(f\"Fetched {len(df_groups):,} rows\")\n",
    "df_groups.head()"
   ]
  },
  {
   "cell_type": "code",
   "execution_count": 20,
   "id": "c333f6eb-b7ef-44be-b25d-634d4067024c",
   "metadata": {
    "execution": {
     "iopub.execute_input": "2025-09-26T05:41:56.087107Z",
     "iopub.status.busy": "2025-09-26T05:41:56.086835Z",
     "iopub.status.idle": "2025-09-26T05:41:56.142757Z",
     "shell.execute_reply": "2025-09-26T05:41:56.141932Z",
     "shell.execute_reply.started": "2025-09-26T05:41:56.087087Z"
    }
   },
   "outputs": [
    {
     "data": {
      "text/html": [
       "<div>\n",
       "<style scoped>\n",
       "    .dataframe tbody tr th:only-of-type {\n",
       "        vertical-align: middle;\n",
       "    }\n",
       "\n",
       "    .dataframe tbody tr th {\n",
       "        vertical-align: top;\n",
       "    }\n",
       "\n",
       "    .dataframe thead th {\n",
       "        text-align: right;\n",
       "    }\n",
       "</style>\n",
       "<table border=\"1\" class=\"dataframe\">\n",
       "  <thead>\n",
       "    <tr style=\"text-align: right;\">\n",
       "      <th></th>\n",
       "      <th>salt_100g</th>\n",
       "      <th>energy_kcal_100g</th>\n",
       "      <th>trans_fat_100g</th>\n",
       "      <th>saturated_fat_100g</th>\n",
       "      <th>carbohydrates_100g</th>\n",
       "      <th>fat_100g</th>\n",
       "      <th>sodium_100g</th>\n",
       "      <th>fruits_vegetables_nuts_estimate_from_ingredients_100g</th>\n",
       "      <th>cholesterol_100g</th>\n",
       "      <th>energy_100g</th>\n",
       "      <th>...</th>\n",
       "      <th>pantothenic_acid_100g</th>\n",
       "      <th>phylloquinone_100g</th>\n",
       "      <th>caffeine_100g</th>\n",
       "      <th>vitamin_e_100g</th>\n",
       "      <th>starch_100g</th>\n",
       "      <th>selenium_100g</th>\n",
       "      <th>choline_100g</th>\n",
       "      <th>vitamin_k_100g</th>\n",
       "      <th>iodine_100g</th>\n",
       "      <th>energy_kj_100g</th>\n",
       "    </tr>\n",
       "  </thead>\n",
       "  <tbody>\n",
       "    <tr>\n",
       "      <th>0</th>\n",
       "      <td>6.25</td>\n",
       "      <td>571.0</td>\n",
       "      <td>0.0</td>\n",
       "      <td>14.29</td>\n",
       "      <td>0.00</td>\n",
       "      <td>42.86</td>\n",
       "      <td>2.5</td>\n",
       "      <td>0.000000</td>\n",
       "      <td>0.107</td>\n",
       "      <td>2389.0</td>\n",
       "      <td>...</td>\n",
       "      <td>NaN</td>\n",
       "      <td>NaN</td>\n",
       "      <td>NaN</td>\n",
       "      <td>NaN</td>\n",
       "      <td>NaN</td>\n",
       "      <td>NaN</td>\n",
       "      <td>NaN</td>\n",
       "      <td>NaN</td>\n",
       "      <td>NaN</td>\n",
       "      <td>NaN</td>\n",
       "    </tr>\n",
       "    <tr>\n",
       "      <th>1</th>\n",
       "      <td>0.00</td>\n",
       "      <td>4.0</td>\n",
       "      <td>NaN</td>\n",
       "      <td>NaN</td>\n",
       "      <td>0.97</td>\n",
       "      <td>0.00</td>\n",
       "      <td>0.0</td>\n",
       "      <td>24.107143</td>\n",
       "      <td>NaN</td>\n",
       "      <td>17.0</td>\n",
       "      <td>...</td>\n",
       "      <td>NaN</td>\n",
       "      <td>NaN</td>\n",
       "      <td>NaN</td>\n",
       "      <td>NaN</td>\n",
       "      <td>NaN</td>\n",
       "      <td>NaN</td>\n",
       "      <td>NaN</td>\n",
       "      <td>NaN</td>\n",
       "      <td>NaN</td>\n",
       "      <td>NaN</td>\n",
       "    </tr>\n",
       "    <tr>\n",
       "      <th>2</th>\n",
       "      <td>0.00</td>\n",
       "      <td>357.0</td>\n",
       "      <td>0.0</td>\n",
       "      <td>0.00</td>\n",
       "      <td>73.21</td>\n",
       "      <td>2.68</td>\n",
       "      <td>0.0</td>\n",
       "      <td>0.000000</td>\n",
       "      <td>0.000</td>\n",
       "      <td>1494.0</td>\n",
       "      <td>...</td>\n",
       "      <td>NaN</td>\n",
       "      <td>NaN</td>\n",
       "      <td>NaN</td>\n",
       "      <td>NaN</td>\n",
       "      <td>NaN</td>\n",
       "      <td>NaN</td>\n",
       "      <td>NaN</td>\n",
       "      <td>NaN</td>\n",
       "      <td>NaN</td>\n",
       "      <td>NaN</td>\n",
       "    </tr>\n",
       "  </tbody>\n",
       "</table>\n",
       "<p>3 rows × 51 columns</p>\n",
       "</div>"
      ],
      "text/plain": [
       "   salt_100g  energy_kcal_100g  trans_fat_100g  saturated_fat_100g  \\\n",
       "0       6.25             571.0             0.0               14.29   \n",
       "1       0.00               4.0             NaN                 NaN   \n",
       "2       0.00             357.0             0.0                0.00   \n",
       "\n",
       "   carbohydrates_100g  fat_100g  sodium_100g  \\\n",
       "0                0.00     42.86          2.5   \n",
       "1                0.97      0.00          0.0   \n",
       "2               73.21      2.68          0.0   \n",
       "\n",
       "   fruits_vegetables_nuts_estimate_from_ingredients_100g  cholesterol_100g  \\\n",
       "0                                           0.000000                 0.107   \n",
       "1                                          24.107143                   NaN   \n",
       "2                                           0.000000                 0.000   \n",
       "\n",
       "   energy_100g  ...  pantothenic_acid_100g  phylloquinone_100g  caffeine_100g  \\\n",
       "0       2389.0  ...                    NaN                 NaN            NaN   \n",
       "1         17.0  ...                    NaN                 NaN            NaN   \n",
       "2       1494.0  ...                    NaN                 NaN            NaN   \n",
       "\n",
       "   vitamin_e_100g  starch_100g  selenium_100g  choline_100g  vitamin_k_100g  \\\n",
       "0             NaN          NaN            NaN           NaN             NaN   \n",
       "1             NaN          NaN            NaN           NaN             NaN   \n",
       "2             NaN          NaN            NaN           NaN             NaN   \n",
       "\n",
       "   iodine_100g  energy_kj_100g  \n",
       "0          NaN             NaN  \n",
       "1          NaN             NaN  \n",
       "2          NaN             NaN  \n",
       "\n",
       "[3 rows x 51 columns]"
      ]
     },
     "execution_count": 20,
     "metadata": {},
     "output_type": "execute_result"
    }
   ],
   "source": [
    "def parse_nutriments(entry):\n",
    "    \"\"\"\n",
    "    Convert a list of nutrient dicts into a flat dict {nutrient_100g: value}.\n",
    "    \"\"\"\n",
    "    if entry is None or (isinstance(entry, float) and np.isnan(entry)):\n",
    "        return {}\n",
    "    if isinstance(entry, str):\n",
    "        try:\n",
    "            entry = json.loads(entry)\n",
    "        except Exception:\n",
    "            return {}\n",
    "\n",
    "    out = {}\n",
    "    if isinstance(entry, list):  # case you have\n",
    "        for d in entry:\n",
    "            name = d.get(\"name\")\n",
    "            val = d.get(\"100g\")\n",
    "            if name and val is not None:\n",
    "                # normalize name → column-friendly format\n",
    "                col = name.replace(\"-\", \"_\") + \"_100g\"\n",
    "                out[col] = val\n",
    "    elif isinstance(entry, dict):  # fallback for flat dicts\n",
    "        for k, v in entry.items():\n",
    "            out[k] = v\n",
    "    return out\n",
    "\n",
    "# Apply parsing\n",
    "nutri_dicts = df[\"nutriments\"].apply(parse_nutriments)\n",
    "nutri_df = pd.DataFrame(nutri_dicts.tolist())\n",
    "\n",
    "# Convert to numeric\n",
    "for c in nutri_df.columns:\n",
    "    nutri_df[c] = pd.to_numeric(nutri_df[c], errors=\"coerce\")\n",
    "\n",
    "nutri_df.head(3)\n",
    "\n"
   ]
  },
  {
   "cell_type": "code",
   "execution_count": 35,
   "id": "dcd80a96-73ae-42e9-b702-56701562966a",
   "metadata": {
    "execution": {
     "iopub.execute_input": "2025-09-26T06:11:03.191643Z",
     "iopub.status.busy": "2025-09-26T06:11:03.191360Z",
     "iopub.status.idle": "2025-09-26T06:11:03.204608Z",
     "shell.execute_reply": "2025-09-26T06:11:03.203821Z",
     "shell.execute_reply.started": "2025-09-26T06:11:03.191623Z"
    }
   },
   "outputs": [],
   "source": [
    "\n",
    "# Convert grabbed data to numeric \n",
    "for c in nutri_df.columns:\n",
    "    nutri_df[c] = pd.to_numeric(nutri_df[c], errors=\"coerce\")\n",
    "\n",
    "# If sodium is present but salt missing, estimate salt (g) = sodium (g) * 2.5\n",
    "if \"sodium_100g\" in nutri_df and \"salt_100g\" in nutri_df:\n",
    "    need_salt = nutri_df[\"salt_100g\"].isna() & nutri_df[\"sodium_100g\"].notna()\n",
    "    nutri_df.loc[need_salt, \"salt_100g\"] = nutri_df.loc[need_salt, \"sodium_100g\"] * 2.5\n",
    "\n",
    "# If both energy_kcal and energy_kJ exist, prefer kcal; if only kJ is present:\n",
    "# kcal = kJ / 4.184 \n",
    "nutri_df.rename(columns={\"energy-kcal_100g\": \"energy_kcal_100g\"}, inplace=True)"
   ]
  },
  {
   "cell_type": "code",
   "execution_count": 36,
   "id": "0995cb7d-1dfc-40ec-a40e-c907efcf6931",
   "metadata": {
    "execution": {
     "iopub.execute_input": "2025-09-26T06:11:11.164917Z",
     "iopub.status.busy": "2025-09-26T06:11:11.164651Z",
     "iopub.status.idle": "2025-09-26T06:11:11.191692Z",
     "shell.execute_reply": "2025-09-26T06:11:11.190985Z",
     "shell.execute_reply.started": "2025-09-26T06:11:11.164897Z"
    }
   },
   "outputs": [
    {
     "name": "stdout",
     "output_type": "stream",
     "text": [
      "Feature columns: ['product_name', 'nova_group', 'additives_n', 'ingredients_n', 'nutriscore_score', 'salt_100g', 'energy_kcal_100g', 'trans_fat_100g', 'saturated_fat_100g', 'carbohydrates_100g', 'fat_100g', 'sodium_100g', 'fruits_vegetables_nuts_estimate_from_ingredients_100g', 'cholesterol_100g', 'energy_100g', 'nova_group_100g', 'fruits_vegetables_legumes_estimate_from_ingredients_100g', 'proteins_100g', 'nutrition_score_fr_100g', 'vitamin_c_100g', 'sugars_100g', 'fiber_100g', 'calcium_100g', 'iron_100g', 'potassium_100g', 'vitamin_a_100g', 'manganese_100g', 'phosphorus_100g', 'molybdenum_100g', 'copper_100g', 'polyunsaturated_fat_100g', 'monounsaturated_fat_100g', 'added_sugars_100g', 'vitamin_d_100g', 'vitamin_b2_100g', 'magnesium_100g', 'vitamin_b1_100g', 'vitamin_pp_100g', 'folates_100g', 'vitamin_b6_100g', 'vitamin_b9_100g', 'polyols_100g', 'insoluble_fiber_100g', 'vitamin_b12_100g', 'zinc_100g', 'soluble_fiber_100g', 'pantothenic_acid_100g', 'phylloquinone_100g', 'caffeine_100g', 'vitamin_e_100g', 'starch_100g', 'selenium_100g', 'choline_100g', 'vitamin_k_100g', 'iodine_100g', 'energy_kj_100g']\n",
      "Shape: (1000, 56)\n"
     ]
    },
    {
     "data": {
      "text/html": [
       "<div>\n",
       "<style scoped>\n",
       "    .dataframe tbody tr th:only-of-type {\n",
       "        vertical-align: middle;\n",
       "    }\n",
       "\n",
       "    .dataframe tbody tr th {\n",
       "        vertical-align: top;\n",
       "    }\n",
       "\n",
       "    .dataframe thead th {\n",
       "        text-align: right;\n",
       "    }\n",
       "</style>\n",
       "<table border=\"1\" class=\"dataframe\">\n",
       "  <thead>\n",
       "    <tr style=\"text-align: right;\">\n",
       "      <th></th>\n",
       "      <th>product_name</th>\n",
       "      <th>nova_group</th>\n",
       "      <th>additives_n</th>\n",
       "      <th>ingredients_n</th>\n",
       "      <th>nutriscore_score</th>\n",
       "      <th>salt_100g</th>\n",
       "      <th>energy_kcal_100g</th>\n",
       "      <th>trans_fat_100g</th>\n",
       "      <th>saturated_fat_100g</th>\n",
       "      <th>carbohydrates_100g</th>\n",
       "      <th>...</th>\n",
       "      <th>pantothenic_acid_100g</th>\n",
       "      <th>phylloquinone_100g</th>\n",
       "      <th>caffeine_100g</th>\n",
       "      <th>vitamin_e_100g</th>\n",
       "      <th>starch_100g</th>\n",
       "      <th>selenium_100g</th>\n",
       "      <th>choline_100g</th>\n",
       "      <th>vitamin_k_100g</th>\n",
       "      <th>iodine_100g</th>\n",
       "      <th>energy_kj_100g</th>\n",
       "    </tr>\n",
       "  </thead>\n",
       "  <tbody>\n",
       "    <tr>\n",
       "      <th>0</th>\n",
       "      <td>[{'lang': 'main', 'text': 'Pork rinds chicharr...</td>\n",
       "      <td>4.0</td>\n",
       "      <td>8</td>\n",
       "      <td>17</td>\n",
       "      <td>37</td>\n",
       "      <td>6.25</td>\n",
       "      <td>571.0</td>\n",
       "      <td>0.0</td>\n",
       "      <td>14.29</td>\n",
       "      <td>0.00</td>\n",
       "      <td>...</td>\n",
       "      <td>NaN</td>\n",
       "      <td>NaN</td>\n",
       "      <td>NaN</td>\n",
       "      <td>NaN</td>\n",
       "      <td>NaN</td>\n",
       "      <td>NaN</td>\n",
       "      <td>NaN</td>\n",
       "      <td>NaN</td>\n",
       "      <td>NaN</td>\n",
       "      <td>NaN</td>\n",
       "    </tr>\n",
       "    <tr>\n",
       "      <th>1</th>\n",
       "      <td>[{'lang': 'main', 'text': 'Lime-ade juice'}, {...</td>\n",
       "      <td>3.0</td>\n",
       "      <td>1</td>\n",
       "      <td>7</td>\n",
       "      <td>0</td>\n",
       "      <td>0.00</td>\n",
       "      <td>4.0</td>\n",
       "      <td>NaN</td>\n",
       "      <td>NaN</td>\n",
       "      <td>0.97</td>\n",
       "      <td>...</td>\n",
       "      <td>NaN</td>\n",
       "      <td>NaN</td>\n",
       "      <td>NaN</td>\n",
       "      <td>NaN</td>\n",
       "      <td>NaN</td>\n",
       "      <td>NaN</td>\n",
       "      <td>NaN</td>\n",
       "      <td>NaN</td>\n",
       "      <td>NaN</td>\n",
       "      <td>NaN</td>\n",
       "    </tr>\n",
       "    <tr>\n",
       "      <th>2</th>\n",
       "      <td>[{'lang': 'main', 'text': 'Penne whole wheat m...</td>\n",
       "      <td>1.0</td>\n",
       "      <td>0</td>\n",
       "      <td>1</td>\n",
       "      <td>-5</td>\n",
       "      <td>0.00</td>\n",
       "      <td>357.0</td>\n",
       "      <td>0.0</td>\n",
       "      <td>0.00</td>\n",
       "      <td>73.21</td>\n",
       "      <td>...</td>\n",
       "      <td>NaN</td>\n",
       "      <td>NaN</td>\n",
       "      <td>NaN</td>\n",
       "      <td>NaN</td>\n",
       "      <td>NaN</td>\n",
       "      <td>NaN</td>\n",
       "      <td>NaN</td>\n",
       "      <td>NaN</td>\n",
       "      <td>NaN</td>\n",
       "      <td>NaN</td>\n",
       "    </tr>\n",
       "  </tbody>\n",
       "</table>\n",
       "<p>3 rows × 56 columns</p>\n",
       "</div>"
      ],
      "text/plain": [
       "                                        product_name  nova_group  additives_n  \\\n",
       "0  [{'lang': 'main', 'text': 'Pork rinds chicharr...         4.0            8   \n",
       "1  [{'lang': 'main', 'text': 'Lime-ade juice'}, {...         3.0            1   \n",
       "2  [{'lang': 'main', 'text': 'Penne whole wheat m...         1.0            0   \n",
       "\n",
       "   ingredients_n  nutriscore_score  salt_100g  energy_kcal_100g  \\\n",
       "0             17                37       6.25             571.0   \n",
       "1              7                 0       0.00               4.0   \n",
       "2              1                -5       0.00             357.0   \n",
       "\n",
       "   trans_fat_100g  saturated_fat_100g  carbohydrates_100g  ...  \\\n",
       "0             0.0               14.29                0.00  ...   \n",
       "1             NaN                 NaN                0.97  ...   \n",
       "2             0.0                0.00               73.21  ...   \n",
       "\n",
       "   pantothenic_acid_100g  phylloquinone_100g  caffeine_100g  vitamin_e_100g  \\\n",
       "0                    NaN                 NaN            NaN             NaN   \n",
       "1                    NaN                 NaN            NaN             NaN   \n",
       "2                    NaN                 NaN            NaN             NaN   \n",
       "\n",
       "   starch_100g  selenium_100g  choline_100g  vitamin_k_100g  iodine_100g  \\\n",
       "0          NaN            NaN           NaN             NaN          NaN   \n",
       "1          NaN            NaN           NaN             NaN          NaN   \n",
       "2          NaN            NaN           NaN             NaN          NaN   \n",
       "\n",
       "   energy_kj_100g  \n",
       "0             NaN  \n",
       "1             NaN  \n",
       "2             NaN  \n",
       "\n",
       "[3 rows x 56 columns]"
      ]
     },
     "execution_count": 36,
     "metadata": {},
     "output_type": "execute_result"
    }
   ],
   "source": [
    "# Assemble the final feature table \n",
    "id_cols = [\"product_name\"]\n",
    "raw_meta_cols = [\"nova_group\", \"additives_n\", \"ingredients_n\"]\n",
    "target_col = \"nutriscore_score\"  # <-- your target (do NOT include nutriscore_grade to avoid leakage)\n",
    "\n",
    "features_df = pd.concat(\n",
    "    [\n",
    "        df[id_cols + raw_meta_cols + [target_col]].reset_index(drop=True),\n",
    "        nutri_df.reset_index(drop=True),\n",
    "    ],\n",
    "    axis=1\n",
    ")\n",
    "\n",
    "# Enforce numeric types on meta columns that should be numeric\n",
    "for c in [\"nova_group\", \"additives_n\", \"ingredients_n\", target_col]:\n",
    "    features_df[c] = pd.to_numeric(features_df[c], errors=\"coerce\")\n",
    "\n",
    "print(\"Feature columns:\", features_df.columns.tolist())\n",
    "print(\"Shape:\", features_df.shape)\n",
    "features_df.head(3)"
   ]
  },
  {
   "cell_type": "code",
   "execution_count": 31,
   "id": "5e71678c-a88f-4da3-b6dd-ed57e4c43462",
   "metadata": {
    "execution": {
     "iopub.execute_input": "2025-09-26T06:05:43.624299Z",
     "iopub.status.busy": "2025-09-26T06:05:43.624022Z",
     "iopub.status.idle": "2025-09-26T06:05:43.632733Z",
     "shell.execute_reply": "2025-09-26T06:05:43.631878Z",
     "shell.execute_reply.started": "2025-09-26T06:05:43.624277Z"
    }
   },
   "outputs": [
    {
     "name": "stdout",
     "output_type": "stream",
     "text": [
      "Null rate (top 20):\n",
      "vitamin_a_100g        0.699\n",
      "vitamin_c_100g        0.660\n",
      "potassium_100g        0.520\n",
      "trans_fat_100g        0.143\n",
      "calcium_100g          0.139\n",
      "iron_100g             0.136\n",
      "fiber_100g            0.129\n",
      "cholesterol_100g      0.124\n",
      "saturated_fat_100g    0.084\n",
      "sugars_100g           0.030\n",
      "nova_group_100g       0.026\n",
      "nova_group            0.026\n",
      "fat_100g              0.001\n",
      "sodium_100g           0.001\n",
      "energy_kcal_100g      0.001\n",
      "salt_100g             0.001\n",
      "carbohydrates_100g    0.001\n",
      "proteins_100g         0.001\n",
      "energy_100g           0.001\n",
      "additives_n           0.000\n",
      "dtype: float64\n"
     ]
    }
   ],
   "source": [
    "#  Quick data quality view \n",
    "null_rates = features_df.isna().mean().sort_values(ascending=False)\n",
    "print(\"Null rate (top 20):\")\n",
    "print(null_rates.head(20))\n",
    "\n",
    "# May be drop columns that are mostly missing (e.g., >80% NaN) ??? \n",
    "mostly_missing = null_rates[null_rates > 0.80].index.tolist()\n",
    "if mostly_missing:\n",
    "    print(\"Dropping:\", mostly_missing)\n",
    "    features_df = features_df.drop(columns=mostly_missing)"
   ]
  },
  {
   "cell_type": "code",
   "execution_count": 27,
   "id": "f2786c68-5219-4c7e-ad74-d2a76a7dd391",
   "metadata": {
    "execution": {
     "iopub.execute_input": "2025-09-26T05:48:57.819264Z",
     "iopub.status.busy": "2025-09-26T05:48:57.818992Z",
     "iopub.status.idle": "2025-09-26T05:48:57.825264Z",
     "shell.execute_reply": "2025-09-26T05:48:57.824404Z",
     "shell.execute_reply.started": "2025-09-26T05:48:57.819243Z"
    }
   },
   "outputs": [
    {
     "name": "stdout",
     "output_type": "stream",
     "text": [
      "\n",
      "Value counts: nova_group\n",
      "nova_group\n",
      "4.0    661\n",
      "3.0    168\n",
      "1.0    124\n",
      "NaN     26\n",
      "2.0     21\n",
      "Name: count, dtype: int64\n"
     ]
    }
   ],
   "source": [
    "#  EDA examples \n",
    "# Top categories by nova_group (categorical)\n",
    "#FYI - if you want to read about NOVA classigfication https://en.wikipedia.org/wiki/Nova_classification\n",
    "if \"nova_group\" in features_df:\n",
    "    print(\"\\nValue counts: nova_group\")\n",
    "    print(features_df[\"nova_group\"].value_counts(dropna=False).head(10))"
   ]
  },
  {
   "cell_type": "code",
   "execution_count": null,
   "id": "063e21d7-95b9-4a0d-8942-dafa765790c3",
   "metadata": {},
   "outputs": [],
   "source": []
  }
 ],
 "metadata": {
  "kernelspec": {
   "display_name": "Python 3 (ipykernel)",
   "language": "python",
   "name": "python3"
  },
  "language_info": {
   "codemirror_mode": {
    "name": "ipython",
    "version": 3
   },
   "file_extension": ".py",
   "mimetype": "text/x-python",
   "name": "python",
   "nbconvert_exporter": "python",
   "pygments_lexer": "ipython3",
   "version": "3.12.9"
  }
 },
 "nbformat": 4,
 "nbformat_minor": 5
}
