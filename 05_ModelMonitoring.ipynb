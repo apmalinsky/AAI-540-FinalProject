{
 "cells": [
  {
   "cell_type": "markdown",
   "id": "be811758-fd68-48a0-87f7-4dd9ca15ac4e",
   "metadata": {},
   "source": [
    "# Model Monitoring"
   ]
  },
  {
   "cell_type": "code",
   "execution_count": 34,
   "id": "8c68ebf1-3c8e-4241-8692-5a620239fcf9",
   "metadata": {
    "execution": {
     "iopub.execute_input": "2025-10-20T00:51:13.981517Z",
     "iopub.status.busy": "2025-10-20T00:51:13.981224Z",
     "iopub.status.idle": "2025-10-20T00:51:13.989033Z",
     "shell.execute_reply": "2025-10-20T00:51:13.988157Z",
     "shell.execute_reply.started": "2025-10-20T00:51:13.981495Z"
    }
   },
   "outputs": [],
   "source": [
    "# Import libraries\n",
    "from datetime import datetime, timedelta, timezone\n",
    "import json\n",
    "import os\n",
    "import re\n",
    "import boto3\n",
    "import uuid\n",
    "import time\n",
    "from threading import Thread\n",
    "import pandas as pd\n",
    "from sagemaker import get_execution_role, session, Session, image_uris\n",
    "from sagemaker.s3 import S3Downloader, S3Uploader\n",
    "from sagemaker.processing import ProcessingJob\n",
    "from sagemaker.serializers import CSVSerializer\n",
    "from sagemaker.model import Model\n",
    "from sagemaker.model_monitor import DataCaptureConfig\n",
    "from sagemaker.predictor import Predictor\n",
    "from time import gmtime, strftime, sleep\n",
    "from sagemaker.model_monitor import ModelQualityMonitor\n",
    "from sagemaker.model_monitor import EndpointInput\n",
    "from sagemaker.model_monitor.dataset_format import DatasetFormat\n",
    "from sagemaker.model_monitor import CronExpressionGenerator\n",
    "from tqdm.notebook import tqdm\n",
    "from sagemaker.model_monitor import DefaultModelMonitor\n",
    "\n",
    "# Import function for prod data simulation\n",
    "from utils.prod_simulation import simulate_live_traffic_for_duration"
   ]
  },
  {
   "cell_type": "code",
   "execution_count": 2,
   "id": "9a643350-f928-47a8-b26d-ce993826fb44",
   "metadata": {
    "execution": {
     "iopub.execute_input": "2025-10-20T00:29:43.729625Z",
     "iopub.status.busy": "2025-10-20T00:29:43.729380Z",
     "iopub.status.idle": "2025-10-20T00:29:43.798535Z",
     "shell.execute_reply": "2025-10-20T00:29:43.797756Z",
     "shell.execute_reply.started": "2025-10-20T00:29:43.729604Z"
    }
   },
   "outputs": [],
   "source": [
    "# Create CloudWatch client\n",
    "cw_client = boto3.Session().client(\"cloudwatch\")\n",
    "namespace = \"aws/sagemaker/Endpoints/model-metrics\""
   ]
  },
  {
   "cell_type": "code",
   "execution_count": 3,
   "id": "32a85b82-b396-4fe4-bbcf-3206672121b3",
   "metadata": {
    "execution": {
     "iopub.execute_input": "2025-10-20T00:29:43.799626Z",
     "iopub.status.busy": "2025-10-20T00:29:43.799348Z",
     "iopub.status.idle": "2025-10-20T00:29:44.439793Z",
     "shell.execute_reply": "2025-10-20T00:29:44.438524Z",
     "shell.execute_reply.started": "2025-10-20T00:29:43.799606Z"
    }
   },
   "outputs": [
    {
     "name": "stdout",
     "output_type": "stream",
     "text": [
      "Bucket: sagemaker-us-east-1-654654380268\n",
      "Stored 'ground_truth_upload_path' (str)\n",
      "Capture path: s3://sagemaker-us-east-1-654654380268/sagemaker/FoodLens-ModelQualityMonitor-2025-10-20-00-29-44/datacapture\n",
      "Ground truth path: s3://sagemaker-us-east-1-654654380268/sagemaker/FoodLens-ModelQualityMonitor-2025-10-20-00-29-44/ground_truth_data/2025-10-20-00-29-44\n",
      "Report path: s3://sagemaker-us-east-1-654654380268/sagemaker/FoodLens-ModelQualityMonitor-2025-10-20-00-29-44/reports\n"
     ]
    }
   ],
   "source": [
    "# Setup boto and sagemaker session\n",
    "sagemaker_session = Session()\n",
    "role = get_execution_role()\n",
    "region = sagemaker_session.boto_region_name\n",
    "\n",
    "# Setup S3 bucket\n",
    "bucket = sagemaker_session.default_bucket()\n",
    "print(\"Bucket:\", bucket)\n",
    "prefix = f\"sagemaker/FoodLens-ModelQualityMonitor-{datetime.now():%Y-%m-%d-%H-%M-%S}\"\n",
    "\n",
    "# S3 prefixes\n",
    "data_capture_prefix = f\"{prefix}/datacapture\"\n",
    "s3_capture_upload_path = f\"s3://{bucket}/{data_capture_prefix}\"\n",
    "\n",
    "ground_truth_upload_path = (\n",
    "    f\"s3://{bucket}/{prefix}/ground_truth_data/{datetime.now():%Y-%m-%d-%H-%M-%S}\"\n",
    ")\n",
    "%store ground_truth_upload_path\n",
    "\n",
    "reports_prefix = f\"{prefix}/reports\"\n",
    "s3_report_path = f\"s3://{bucket}/{reports_prefix}\"\n",
    "\n",
    "print(f\"Capture path: {s3_capture_upload_path}\")\n",
    "print(f\"Ground truth path: {ground_truth_upload_path}\")\n",
    "print(f\"Report path: {s3_report_path}\")"
   ]
  },
  {
   "cell_type": "markdown",
   "id": "d9ae329f-4cb4-4868-9de6-6730d47a40ff",
   "metadata": {},
   "source": [
    "## Deploy Pre-Trained Model to Live Endpoint"
   ]
  },
  {
   "cell_type": "code",
   "execution_count": 4,
   "id": "983824bd-f86f-46b5-a9e2-bf155eeead03",
   "metadata": {
    "execution": {
     "iopub.execute_input": "2025-10-20T00:29:44.442328Z",
     "iopub.status.busy": "2025-10-20T00:29:44.442049Z",
     "iopub.status.idle": "2025-10-20T00:29:44.722297Z",
     "shell.execute_reply": "2025-10-20T00:29:44.721362Z",
     "shell.execute_reply.started": "2025-10-20T00:29:44.442304Z"
    }
   },
   "outputs": [],
   "source": [
    "# Initialize the sagemaker client\n",
    "sagemaker_client = boto3.client(\"sagemaker\")\n",
    "\n",
    "# Specify model\n",
    "image_uri = image_uris.retrieve(framework=\"xgboost\", region=region, version=\"1.7-1\")\n",
    "instance_type = 'ml.m5.xlarge'\n",
    "# model_name = 'nutrition-score-xgb-2025-10-17-13-03-05' # get from notebook 04\n",
    "%store -r model_name\n",
    "response = sagemaker_client.describe_model(ModelName=model_name)\n",
    "model_url = response['PrimaryContainer']['ModelDataUrl']\n",
    "model = Model(image_uri=image_uri, model_data=model_url, role=role, sagemaker_session=sagemaker_session)"
   ]
  },
  {
   "cell_type": "code",
   "execution_count": 5,
   "id": "2e9c518b-6006-4725-b4c5-b52e89a670ee",
   "metadata": {
    "execution": {
     "iopub.execute_input": "2025-10-20T00:29:44.723445Z",
     "iopub.status.busy": "2025-10-20T00:29:44.723215Z",
     "iopub.status.idle": "2025-10-20T00:33:17.120243Z",
     "shell.execute_reply": "2025-10-20T00:33:17.119461Z",
     "shell.execute_reply.started": "2025-10-20T00:29:44.723425Z"
    }
   },
   "outputs": [
    {
     "name": "stdout",
     "output_type": "stream",
     "text": [
      "Stored 'endpoint_name' (str)\n",
      "EndpointName:  xgb-nutriscore-monitor-2025-10-20-00-29-44\n",
      "Deploying endpoint....\n",
      "------!\n",
      "Endpoint 'xgb-nutriscore-monitor-2025-10-20-00-29-44' in Service.\n"
     ]
    }
   ],
   "source": [
    "endpoint_name = f\"xgb-nutriscore-monitor-{datetime.now():%Y-%m-%d-%H-%M-%S}\"\n",
    "%store endpoint_name\n",
    "print(\"EndpointName: \", endpoint_name)\n",
    "\n",
    "# Enable data capture\n",
    "data_capture_config = DataCaptureConfig(\n",
    "    enable_capture=True, sampling_percentage=100, destination_s3_uri=s3_capture_upload_path\n",
    ")\n",
    "\n",
    "# Deploy the model and wait for it to be in service\n",
    "print(\"Deploying endpoint....\")\n",
    "model.deploy(\n",
    "    initial_instance_count=1,\n",
    "    instance_type=instance_type,\n",
    "    endpoint_name=endpoint_name,\n",
    "    data_capture_config=data_capture_config,\n",
    ")\n",
    "\n",
    "print(f\"\\nEndpoint '{endpoint_name}' in Service.\")"
   ]
  },
  {
   "cell_type": "code",
   "execution_count": 6,
   "id": "7e2b84a6-7d74-497a-b687-cc2e4c57d92c",
   "metadata": {
    "execution": {
     "iopub.execute_input": "2025-10-20T00:33:17.121144Z",
     "iopub.status.busy": "2025-10-20T00:33:17.120930Z",
     "iopub.status.idle": "2025-10-20T00:33:17.124638Z",
     "shell.execute_reply": "2025-10-20T00:33:17.123821Z",
     "shell.execute_reply.started": "2025-10-20T00:33:17.121125Z"
    }
   },
   "outputs": [],
   "source": [
    "# Create predictor object\n",
    "predictor = Predictor(\n",
    "    endpoint_name=endpoint_name, \n",
    "    sagemaker_session=sagemaker_session, \n",
    "    serializer=CSVSerializer()\n",
    ")"
   ]
  },
  {
   "cell_type": "markdown",
   "id": "2002d11a-3fc1-4ce3-9221-4fd487ac60b4",
   "metadata": {},
   "source": [
    "## Setup Infrastructure Monitoring"
   ]
  },
  {
   "cell_type": "code",
   "execution_count": 7,
   "id": "33fd9809-5b93-45ba-9bfd-4c1d934f94ff",
   "metadata": {
    "execution": {
     "iopub.execute_input": "2025-10-20T00:33:17.125844Z",
     "iopub.status.busy": "2025-10-20T00:33:17.125562Z",
     "iopub.status.idle": "2025-10-20T00:33:17.241811Z",
     "shell.execute_reply": "2025-10-20T00:33:17.241012Z",
     "shell.execute_reply.started": "2025-10-20T00:33:17.125823Z"
    }
   },
   "outputs": [
    {
     "name": "stdout",
     "output_type": "stream",
     "text": [
      "Successfully created alarm: NUTRISCORE_MODEL_LATENCY_HIGH\n"
     ]
    }
   ],
   "source": [
    "# Create a CloudWatch alarm for model latency\n",
    "alarm_name = \"NUTRISCORE_MODEL_LATENCY_HIGH\"\n",
    "alarm_desc = \"Trigger an alarm when the average model latency exceeds 300ms.\"\n",
    "infrastructure_metric_name = 'ModelLatency'\n",
    "cw_infrastructure_dimensions = [\n",
    "    {\"Name\": \"Endpoint\", \"Value\": endpoint_name},\n",
    "    {\"Name\": \"MonitoringSchedule\", \"Value\": 'AllTraffic'},\n",
    "]\n",
    "\n",
    "# Create the alarm\n",
    "cw_client.put_metric_alarm(\n",
    "    AlarmName=alarm_name,\n",
    "    AlarmDescription=alarm_desc,\n",
    "    ActionsEnabled=False,  # Change to True if you want notifications\n",
    "    MetricName=infrastructure_metric_name,\n",
    "    Namespace=\"AWS/SageMaker\",\n",
    "    Statistic=\"Average\",\n",
    "    Dimensions=cw_infrastructure_dimensions,\n",
    "    Period=300,  # check every 5 minutes\n",
    "    EvaluationPeriods=1,\n",
    "    Threshold=300.0,  # 300 milliseconds threshold\n",
    "    ComparisonOperator=\"GreaterThanThreshold\",\n",
    "    TreatMissingData=\"missing\",\n",
    ")\n",
    "\n",
    "print(\"Successfully created alarm: NUTRISCORE_MODEL_LATENCY_HIGH\")"
   ]
  },
  {
   "cell_type": "code",
   "execution_count": 8,
   "id": "df2891d9-83b9-4960-830b-332ce7de6c3c",
   "metadata": {
    "execution": {
     "iopub.execute_input": "2025-10-20T00:33:17.242777Z",
     "iopub.status.busy": "2025-10-20T00:33:17.242549Z",
     "iopub.status.idle": "2025-10-20T00:33:17.297480Z",
     "shell.execute_reply": "2025-10-20T00:33:17.296918Z",
     "shell.execute_reply.started": "2025-10-20T00:33:17.242757Z"
    }
   },
   "outputs": [
    {
     "name": "stdout",
     "output_type": "stream",
     "text": [
      "Successfully created alarm: NUTRISCORE_MODEL_5XX_ERRORS_HIGH\n"
     ]
    }
   ],
   "source": [
    "# Alarm for 5xx Server Errors\n",
    "cw_client.put_metric_alarm(\n",
    "    AlarmName=\"NUTRISCORE_MODEL_5XX_ERRORS_HIGH\",\n",
    "    AlarmDescription=\"Trigger an alarm when any 5xx server-side error occurs.\",\n",
    "    ActionsEnabled=False,\n",
    "    MetricName=\"Invocation5XXErrors\",\n",
    "    Namespace=\"AWS/SageMaker\",\n",
    "    Statistic=\"Sum\",\n",
    "    Dimensions=cw_infrastructure_dimensions,\n",
    "    Period=300,  # 5 minutes\n",
    "    EvaluationPeriods=1,\n",
    "    Threshold=0, # Alarm if even one error (Sum > 0) occurs\n",
    "    ComparisonOperator=\"GreaterThanThreshold\",\n",
    "    TreatMissingData=\"notBreaching\",\n",
    ")\n",
    "print(\"Successfully created alarm: NUTRISCORE_MODEL_5XX_ERRORS_HIGH\")"
   ]
  },
  {
   "cell_type": "code",
   "execution_count": 9,
   "id": "ebabbade-7f5f-4199-9289-247a7bbbf2e7",
   "metadata": {
    "execution": {
     "iopub.execute_input": "2025-10-20T00:33:17.298445Z",
     "iopub.status.busy": "2025-10-20T00:33:17.298229Z",
     "iopub.status.idle": "2025-10-20T00:33:17.388956Z",
     "shell.execute_reply": "2025-10-20T00:33:17.388198Z",
     "shell.execute_reply.started": "2025-10-20T00:33:17.298427Z"
    }
   },
   "outputs": [
    {
     "name": "stdout",
     "output_type": "stream",
     "text": [
      "Successfully created alarm: NUTRISCORE_MODEL_CPU_HIGH\n"
     ]
    }
   ],
   "source": [
    "# Alarm for High CPU Utilization\n",
    "cw_client.put_metric_alarm(\n",
    "    AlarmName=\"NUTRISCORE_MODEL_CPU_HIGH\",\n",
    "    AlarmDescription=\"Trigger an alarm when average CPU utilization exceeds 80%.\",\n",
    "    ActionsEnabled=False,\n",
    "    MetricName=\"CPUUtilization\",\n",
    "    Namespace=\"AWS/SageMaker\",\n",
    "    Statistic=\"Average\",\n",
    "    Dimensions=cw_infrastructure_dimensions,\n",
    "    Period=300,  # 5 minutes\n",
    "    EvaluationPeriods=1,\n",
    "    Threshold=80.0, # 80 percent\n",
    "    ComparisonOperator=\"GreaterThanThreshold\",\n",
    "    TreatMissingData=\"missing\", # 'missing' means don't alarm if there's no traffic\n",
    ")\n",
    "print(\"Successfully created alarm: NUTRISCORE_MODEL_CPU_HIGH\")"
   ]
  },
  {
   "cell_type": "markdown",
   "id": "a4336829-24bd-42c9-b6c3-698770ad4e23",
   "metadata": {},
   "source": [
    "## Setup Data Quality Monitor"
   ]
  },
  {
   "cell_type": "code",
   "execution_count": 10,
   "id": "143fb2ed-6b9f-4a99-9c3b-b46ec5f4e5f3",
   "metadata": {
    "execution": {
     "iopub.execute_input": "2025-10-20T00:33:17.390842Z",
     "iopub.status.busy": "2025-10-20T00:33:17.390598Z",
     "iopub.status.idle": "2025-10-20T00:38:20.034152Z",
     "shell.execute_reply": "2025-10-20T00:38:20.033400Z",
     "shell.execute_reply.started": "2025-10-20T00:33:17.390822Z"
    }
   },
   "outputs": [
    {
     "name": "stderr",
     "output_type": "stream",
     "text": [
      "INFO:sagemaker:Creating processing-job with name nutriscore-data-quality-baseline-job-2025-10-20-00-33-17\n"
     ]
    },
    {
     "name": "stdout",
     "output_type": "stream",
     "text": [
      "Starting Data Quality baseline suggestion job...\n",
      "...........................................................!\n",
      "Data Quality baseline job complete.\n"
     ]
    }
   ],
   "source": [
    "# Build baseline from scaled training data\n",
    "# From Notebook 04, train data with headers\n",
    "train_s3_path = f's3://{bucket}/nutriscore-prediction-xgboost/train/train_scaled_headers_features_only.csv'\n",
    "\n",
    "# The S3 path where the data quality reports will be stored\n",
    "data_quality_report_path = f\"s3://{bucket}/nutriscore-prediction-xgboost/data-quality-reports\"\n",
    "\n",
    "# Create a Data Quality Monitor object\n",
    "data_quality_monitor = DefaultModelMonitor(\n",
    "    role=role,\n",
    "    instance_count=1,\n",
    "    instance_type=instance_type,\n",
    "    volume_size_in_gb=20,\n",
    "    max_runtime_in_seconds=3600,\n",
    "    sagemaker_session=sagemaker_session,\n",
    ")\n",
    "\n",
    "data_quality_baseline_job_name = f\"nutriscore-data-quality-baseline-job-{datetime.now():%Y-%m-%d-%H-%M-%S}\"\n",
    "\n",
    "print(\"Starting Data Quality baseline suggestion job...\")\n",
    "# The baseline job runs on the training data\n",
    "data_quality_monitor.suggest_baseline(\n",
    "    baseline_dataset=train_s3_path,\n",
    "    dataset_format=DatasetFormat.csv(header=True),\n",
    "    job_name=data_quality_baseline_job_name,\n",
    "    output_s3_uri=data_quality_report_path,\n",
    "    wait=True,\n",
    "    logs=False,\n",
    ")\n",
    "print(\"\\nData Quality baseline job complete.\")"
   ]
  },
  {
   "cell_type": "code",
   "execution_count": 11,
   "id": "1d620fe7-0fef-44d3-90c8-c53bf02c4e25",
   "metadata": {
    "execution": {
     "iopub.execute_input": "2025-10-20T00:38:20.035566Z",
     "iopub.status.busy": "2025-10-20T00:38:20.034984Z",
     "iopub.status.idle": "2025-10-20T00:38:20.077212Z",
     "shell.execute_reply": "2025-10-20T00:38:20.076269Z",
     "shell.execute_reply.started": "2025-10-20T00:38:20.035535Z"
    }
   },
   "outputs": [
    {
     "data": {
      "text/plain": [
       "{'ProcessingInputs': [{'InputName': 'baseline_dataset_input',\n",
       "   'AppManaged': False,\n",
       "   'S3Input': {'S3Uri': 's3://sagemaker-us-east-1-654654380268/nutriscore-prediction-xgboost/train/train_scaled_headers_features_only.csv',\n",
       "    'LocalPath': '/opt/ml/processing/input/baseline_dataset_input',\n",
       "    'S3DataType': 'S3Prefix',\n",
       "    'S3InputMode': 'File',\n",
       "    'S3DataDistributionType': 'FullyReplicated',\n",
       "    'S3CompressionType': 'None'}}],\n",
       " 'ProcessingOutputConfig': {'Outputs': [{'OutputName': 'monitoring_output',\n",
       "    'S3Output': {'S3Uri': 's3://sagemaker-us-east-1-654654380268/nutriscore-prediction-xgboost/data-quality-reports',\n",
       "     'LocalPath': '/opt/ml/processing/output',\n",
       "     'S3UploadMode': 'EndOfJob'},\n",
       "    'AppManaged': False}]},\n",
       " 'ProcessingJobName': 'nutriscore-data-quality-baseline-job-2025-10-20-00-33-17',\n",
       " 'ProcessingResources': {'ClusterConfig': {'InstanceCount': 1,\n",
       "   'InstanceType': 'ml.m5.xlarge',\n",
       "   'VolumeSizeInGB': 20}},\n",
       " 'StoppingCondition': {'MaxRuntimeInSeconds': 3600},\n",
       " 'AppSpecification': {'ImageUri': '156813124566.dkr.ecr.us-east-1.amazonaws.com/sagemaker-model-monitor-analyzer'},\n",
       " 'Environment': {'dataset_format': '{\"csv\": {\"header\": true, \"output_columns_position\": \"START\"}}',\n",
       "  'dataset_source': '/opt/ml/processing/input/baseline_dataset_input',\n",
       "  'output_path': '/opt/ml/processing/output',\n",
       "  'publish_cloudwatch_metrics': 'Disabled'},\n",
       " 'RoleArn': 'arn:aws:iam::654654380268:role/LabRole',\n",
       " 'ProcessingJobArn': 'arn:aws:sagemaker:us-east-1:654654380268:processing-job/nutriscore-data-quality-baseline-job-2025-10-20-00-33-17',\n",
       " 'ProcessingJobStatus': 'Completed',\n",
       " 'ExitMessage': 'Completed: Job completed successfully with no violations.',\n",
       " 'ProcessingEndTime': datetime.datetime(2025, 10, 20, 0, 37, 32, tzinfo=tzlocal()),\n",
       " 'ProcessingStartTime': datetime.datetime(2025, 10, 20, 0, 34, 17, tzinfo=tzlocal()),\n",
       " 'LastModifiedTime': datetime.datetime(2025, 10, 20, 0, 38, 19, 888000, tzinfo=tzlocal()),\n",
       " 'CreationTime': datetime.datetime(2025, 10, 20, 0, 33, 17, 547000, tzinfo=tzlocal()),\n",
       " 'ResponseMetadata': {'RequestId': '4809d755-8cb3-4a80-8a70-270b55aa4564',\n",
       "  'HTTPStatusCode': 200,\n",
       "  'HTTPHeaders': {'x-amzn-requestid': '4809d755-8cb3-4a80-8a70-270b55aa4564',\n",
       "   'content-type': 'application/x-amz-json-1.1',\n",
       "   'content-length': '1868',\n",
       "   'date': 'Mon, 20 Oct 2025 00:38:20 GMT'},\n",
       "  'RetryAttempts': 0}}"
      ]
     },
     "execution_count": 11,
     "metadata": {},
     "output_type": "execute_result"
    }
   ],
   "source": [
    "data_quality_monitor.latest_baselining_job.describe()"
   ]
  },
  {
   "cell_type": "code",
   "execution_count": 12,
   "id": "e4723823-1cd3-419f-bfc9-3e4066c1ff32",
   "metadata": {
    "execution": {
     "iopub.execute_input": "2025-10-20T00:38:20.078468Z",
     "iopub.status.busy": "2025-10-20T00:38:20.077991Z",
     "iopub.status.idle": "2025-10-20T00:38:21.306856Z",
     "shell.execute_reply": "2025-10-20T00:38:21.306075Z",
     "shell.execute_reply.started": "2025-10-20T00:38:20.078436Z"
    }
   },
   "outputs": [
    {
     "name": "stdout",
     "output_type": "stream",
     "text": [
      "Creating Data Quality monitoring schedule: nutriscore-data-quality-schedule-2025-10-20-00-38-20\n"
     ]
    },
    {
     "name": "stderr",
     "output_type": "stream",
     "text": [
      "INFO:sagemaker.model_monitor.model_monitoring:Creating Monitoring Schedule with name: nutriscore-data-quality-schedule-2025-10-20-00-38-20\n"
     ]
    },
    {
     "name": "stdout",
     "output_type": "stream",
     "text": [
      "Data Quality monitoring schedule created.\n"
     ]
    }
   ],
   "source": [
    "# Create data quality monitoring schedule\n",
    "data_quality_schedule_name = f\"nutriscore-data-quality-schedule-{datetime.now():%Y-%m-%d-%H-%M-%S}\"\n",
    "\n",
    "print(f\"Creating Data Quality monitoring schedule: {data_quality_schedule_name}\")\n",
    "data_quality_monitor.create_monitoring_schedule(\n",
    "    monitor_schedule_name=data_quality_schedule_name,\n",
    "    endpoint_input=predictor.endpoint_name,\n",
    "    output_s3_uri=data_quality_report_path,\n",
    "    statistics=data_quality_monitor.latest_baselining_job.baseline_statistics(),\n",
    "    constraints=data_quality_monitor.latest_baselining_job.suggested_constraints(),\n",
    "    schedule_cron_expression=CronExpressionGenerator.hourly(),\n",
    "    enable_cloudwatch_metrics=True,\n",
    ")\n",
    "print(\"Data Quality monitoring schedule created.\")"
   ]
  },
  {
   "cell_type": "code",
   "execution_count": 13,
   "id": "f4fdda7a-5938-462a-9f7b-6d76055eb691",
   "metadata": {
    "execution": {
     "iopub.execute_input": "2025-10-20T00:38:21.308016Z",
     "iopub.status.busy": "2025-10-20T00:38:21.307623Z",
     "iopub.status.idle": "2025-10-20T00:38:21.421428Z",
     "shell.execute_reply": "2025-10-20T00:38:21.420487Z",
     "shell.execute_reply.started": "2025-10-20T00:38:21.307987Z"
    }
   },
   "outputs": [
    {
     "name": "stdout",
     "output_type": "stream",
     "text": [
      "Successfully created alarm: NUTRISCORE_DATA_DRIFT_VIOLATIONS\n"
     ]
    }
   ],
   "source": [
    "# Create alarm for data quality drift\n",
    "alarm_name = \"NUTRISCORE_DATA_DRIFT_VIOLATIONS\"\n",
    "alarm_desc = \"Trigger an alarm when any feature's statistics drift from the baseline.\"\n",
    "\n",
    "# Define the dimensions for the Data Quality monitor\n",
    "cw_data_quality_dimensions = [\n",
    "    {\"Name\": \"EndpointName\", \"Value\": endpoint_name},\n",
    "    {\"Name\": \"MonitoringSchedule\", \"Value\": data_quality_schedule_name},\n",
    "]\n",
    "\n",
    "# Create the alarm\n",
    "cw_client.put_metric_alarm(\n",
    "    AlarmName=alarm_name,\n",
    "    AlarmDescription=alarm_desc,\n",
    "    ActionsEnabled=False,\n",
    "    MetricName=\"feature_baseline_drift_total_violations\",\n",
    "    Namespace=\"aws/sagemaker/Endpoints/data-metrics\",\n",
    "    Statistic=\"Sum\",\n",
    "    Dimensions=cw_data_quality_dimensions,\n",
    "    Period=3600,  # hourly\n",
    "    EvaluationPeriods=1,\n",
    "    Threshold=0, # Alarm if the total number of violations is greater than 0\n",
    "    ComparisonOperator=\"GreaterThanThreshold\",\n",
    "    TreatMissingData=\"missing\", # Don't alarm if the job hasn't run yet\n",
    ")\n",
    "print(f\"Successfully created alarm: {alarm_name}\")"
   ]
  },
  {
   "cell_type": "markdown",
   "id": "eb091d13-a75d-462a-ba94-1fd5ffe2b34e",
   "metadata": {},
   "source": [
    "## Generate Baseline for Model Quality Performance"
   ]
  },
  {
   "cell_type": "code",
   "execution_count": 14,
   "id": "6a2a8e3d-56db-4ca7-9e11-8d96808ba245",
   "metadata": {
    "execution": {
     "iopub.execute_input": "2025-10-20T00:38:21.422421Z",
     "iopub.status.busy": "2025-10-20T00:38:21.422192Z",
     "iopub.status.idle": "2025-10-20T00:38:23.837088Z",
     "shell.execute_reply": "2025-10-20T00:38:23.836066Z",
     "shell.execute_reply.started": "2025-10-20T00:38:21.422403Z"
    }
   },
   "outputs": [
    {
     "name": "stdout",
     "output_type": "stream",
     "text": [
      "download: s3://sagemaker-us-east-1-654654380268/nutriscore-prediction-xgboost/validation/val_scaled.csv to ./val_scaled.csv\n"
     ]
    }
   ],
   "source": [
    "# Get validation dataset\n",
    "# get from previous notebook\n",
    "val_s3_path = f's3://{bucket}/nutriscore-prediction-xgboost/validation/val_scaled.csv' \n",
    "!aws s3 cp {val_s3_path} ./\n",
    "val_local_path = './val_scaled.csv'"
   ]
  },
  {
   "cell_type": "code",
   "execution_count": 15,
   "id": "61590459-9dee-4340-8f81-22bdfb76d1c6",
   "metadata": {
    "execution": {
     "iopub.execute_input": "2025-10-20T00:38:23.838451Z",
     "iopub.status.busy": "2025-10-20T00:38:23.838122Z",
     "iopub.status.idle": "2025-10-20T00:42:40.113721Z",
     "shell.execute_reply": "2025-10-20T00:42:40.111221Z",
     "shell.execute_reply.started": "2025-10-20T00:38:23.838413Z"
    }
   },
   "outputs": [
    {
     "name": "stdout",
     "output_type": "stream",
     "text": [
      "...................................................................................................................................................................................................................................................................................................................................................................................................................................................................................................................\n",
      "Done!\n"
     ]
    }
   ],
   "source": [
    "# Generate baseline\n",
    "limit = 500 # number of samples for baseline\n",
    "baseline_file_name = 'val_pred_baseline.csv'\n",
    "i = 0\n",
    "\n",
    "# Create a new file for your baseline data\n",
    "with open(f\"{baseline_file_name}\", \"w\") as baseline_file:\n",
    "    # Header for a regression baseline\n",
    "    baseline_file.write(\"prediction,label\\n\")\n",
    "    \n",
    "    # Open validation data file\n",
    "    with open(val_local_path, \"r\") as f:\n",
    "        for row in f:\n",
    "            # With true score in first column\n",
    "            (label, input_cols) = row.split(\",\", 1)\n",
    "            \n",
    "            # Get the predicted score from the endpoint\n",
    "            predicted_score = float(predictor.predict(input_cols))\n",
    "            \n",
    "            # Write the predicted score and the true label to the baseline file\n",
    "            baseline_file.write(f\"{predicted_score},{label.strip()}\\n\")\n",
    "            \n",
    "            i += 1\n",
    "            if i >= limit:\n",
    "                break\n",
    "            print(\".\", end=\"\", flush=True)\n",
    "            sleep(0.5)\n",
    "print()\n",
    "print(\"Done!\")"
   ]
  },
  {
   "cell_type": "code",
   "execution_count": 16,
   "id": "e41a2dc9-b709-43c4-95fb-9de38a027707",
   "metadata": {
    "execution": {
     "iopub.execute_input": "2025-10-20T00:42:40.115070Z",
     "iopub.status.busy": "2025-10-20T00:42:40.114589Z",
     "iopub.status.idle": "2025-10-20T00:42:40.309268Z",
     "shell.execute_reply": "2025-10-20T00:42:40.308205Z",
     "shell.execute_reply.started": "2025-10-20T00:42:40.115040Z"
    }
   },
   "outputs": [
    {
     "name": "stdout",
     "output_type": "stream",
     "text": [
      "prediction,label\n",
      "13.747560501098633,15\n",
      "23.954261779785156,23\n",
      "16.702842712402344,14\n",
      "12.380370140075684,14\n",
      "0.17843477427959442,0\n",
      "32.931278228759766,34\n",
      "12.896444320678711,16\n",
      "18.509475708007812,18\n",
      "20.836702346801758,21\n"
     ]
    }
   ],
   "source": [
    "# Examine predictions from model\n",
    "!head {baseline_file_name}"
   ]
  },
  {
   "cell_type": "code",
   "execution_count": 17,
   "id": "d8b2ac21-01e0-443a-bbc3-dd35b9667fb4",
   "metadata": {
    "execution": {
     "iopub.execute_input": "2025-10-20T00:42:40.310615Z",
     "iopub.status.busy": "2025-10-20T00:42:40.310089Z",
     "iopub.status.idle": "2025-10-20T00:42:40.314936Z",
     "shell.execute_reply": "2025-10-20T00:42:40.314373Z",
     "shell.execute_reply.started": "2025-10-20T00:42:40.310582Z"
    }
   },
   "outputs": [
    {
     "name": "stdout",
     "output_type": "stream",
     "text": [
      "Baseline data uri: s3://sagemaker-us-east-1-654654380268/sagemaker/FoodLens-ModelQualityMonitor-2025-10-20-00-29-44/baselining/data\n",
      "Baseline results uri: s3://sagemaker-us-east-1-654654380268/sagemaker/FoodLens-ModelQualityMonitor-2025-10-20-00-29-44/baselining/results\n"
     ]
    }
   ],
   "source": [
    "# Upload predictions as baseline dataset\n",
    "baseline_prefix = prefix + \"/baselining\"\n",
    "baseline_data_prefix = baseline_prefix + \"/data\"\n",
    "baseline_results_prefix = baseline_prefix + \"/results\"\n",
    "\n",
    "baseline_data_uri = f\"s3://{bucket}/{baseline_data_prefix}\"\n",
    "baseline_results_uri = f\"s3://{bucket}/{baseline_results_prefix}\"\n",
    "print(f\"Baseline data uri: {baseline_data_uri}\")\n",
    "print(f\"Baseline results uri: {baseline_results_uri}\")"
   ]
  },
  {
   "cell_type": "code",
   "execution_count": 18,
   "id": "52022c01-d2e3-427c-8e31-955a7b676252",
   "metadata": {
    "execution": {
     "iopub.execute_input": "2025-10-20T00:42:40.315932Z",
     "iopub.status.busy": "2025-10-20T00:42:40.315611Z",
     "iopub.status.idle": "2025-10-20T00:42:40.491397Z",
     "shell.execute_reply": "2025-10-20T00:42:40.490722Z",
     "shell.execute_reply.started": "2025-10-20T00:42:40.315911Z"
    }
   },
   "outputs": [
    {
     "data": {
      "text/plain": [
       "'s3://sagemaker-us-east-1-654654380268/sagemaker/FoodLens-ModelQualityMonitor-2025-10-20-00-29-44/baselining/data/val_pred_baseline.csv'"
      ]
     },
     "execution_count": 18,
     "metadata": {},
     "output_type": "execute_result"
    }
   ],
   "source": [
    "# Upload baseline dataset\n",
    "baseline_dataset_uri = S3Uploader.upload(f\"{baseline_file_name}\", baseline_data_uri)\n",
    "baseline_dataset_uri"
   ]
  },
  {
   "cell_type": "code",
   "execution_count": 19,
   "id": "555c1d46-fdd3-4f8b-a338-7d31c795d4a9",
   "metadata": {
    "execution": {
     "iopub.execute_input": "2025-10-20T00:42:40.492574Z",
     "iopub.status.busy": "2025-10-20T00:42:40.492138Z",
     "iopub.status.idle": "2025-10-20T00:42:40.521153Z",
     "shell.execute_reply": "2025-10-20T00:42:40.520473Z",
     "shell.execute_reply.started": "2025-10-20T00:42:40.492543Z"
    }
   },
   "outputs": [
    {
     "name": "stderr",
     "output_type": "stream",
     "text": [
      "INFO:sagemaker.image_uris:Ignoring unnecessary instance type: None.\n"
     ]
    }
   ],
   "source": [
    "# Create the model quality monitoring object\n",
    "nutriscore_model_quality_monitor = ModelQualityMonitor(\n",
    "    role=role,\n",
    "    instance_count=1,\n",
    "    instance_type=instance_type,\n",
    "    volume_size_in_gb=20,\n",
    "    max_runtime_in_seconds=1800,\n",
    "    sagemaker_session=sagemaker_session,\n",
    ")"
   ]
  },
  {
   "cell_type": "code",
   "execution_count": 20,
   "id": "26394e30-5b24-4af8-8e05-501729294b1b",
   "metadata": {
    "execution": {
     "iopub.execute_input": "2025-10-20T00:42:40.522259Z",
     "iopub.status.busy": "2025-10-20T00:42:40.521952Z",
     "iopub.status.idle": "2025-10-20T00:42:40.526031Z",
     "shell.execute_reply": "2025-10-20T00:42:40.525304Z",
     "shell.execute_reply.started": "2025-10-20T00:42:40.522231Z"
    }
   },
   "outputs": [],
   "source": [
    "# Name of the model quality baseline job\n",
    "baseline_job_name = f\"xgb-nutriscore-model-baseline-job-{datetime.now():%Y-%m-%d-%H%M}\""
   ]
  },
  {
   "cell_type": "code",
   "execution_count": 21,
   "id": "ba02d748-8efa-4355-a366-cca8a6a2638a",
   "metadata": {
    "execution": {
     "iopub.execute_input": "2025-10-20T00:42:40.527361Z",
     "iopub.status.busy": "2025-10-20T00:42:40.526858Z",
     "iopub.status.idle": "2025-10-20T00:47:43.069338Z",
     "shell.execute_reply": "2025-10-20T00:47:43.068588Z",
     "shell.execute_reply.started": "2025-10-20T00:42:40.527331Z"
    }
   },
   "outputs": [
    {
     "name": "stderr",
     "output_type": "stream",
     "text": [
      "INFO:sagemaker:Creating processing-job with name xgb-nutriscore-model-baseline-job-2025-10-20-0042\n"
     ]
    },
    {
     "name": "stdout",
     "output_type": "stream",
     "text": [
      "...........................................................!"
     ]
    }
   ],
   "source": [
    "# Execute the baseline suggestion job\n",
    "job = nutriscore_model_quality_monitor.suggest_baseline(\n",
    "    job_name=baseline_job_name,\n",
    "    baseline_dataset=baseline_dataset_uri,\n",
    "    dataset_format=DatasetFormat.csv(header=True),\n",
    "    output_s3_uri=baseline_results_uri,\n",
    "    problem_type=\"Regression\",\n",
    "    inference_attribute=\"prediction\", # model output\n",
    "    ground_truth_attribute=\"label\", # true score\n",
    ")\n",
    "job.wait(logs=False)"
   ]
  },
  {
   "cell_type": "markdown",
   "id": "201254ab-fe46-469d-9a92-0202d9c55b1a",
   "metadata": {},
   "source": [
    "## Explore Results of Baseline Job"
   ]
  },
  {
   "cell_type": "code",
   "execution_count": 22,
   "id": "ffe61539-f02f-4a28-91a0-e13c4d7b70b0",
   "metadata": {
    "execution": {
     "iopub.execute_input": "2025-10-20T00:47:43.070226Z",
     "iopub.status.busy": "2025-10-20T00:47:43.070005Z",
     "iopub.status.idle": "2025-10-20T00:47:43.073241Z",
     "shell.execute_reply": "2025-10-20T00:47:43.072637Z",
     "shell.execute_reply.started": "2025-10-20T00:47:43.070207Z"
    }
   },
   "outputs": [],
   "source": [
    "baseline_job = nutriscore_model_quality_monitor.latest_baselining_job"
   ]
  },
  {
   "cell_type": "code",
   "execution_count": 23,
   "id": "c6698f6a-498f-4d90-807a-ba2ac4c44280",
   "metadata": {
    "execution": {
     "iopub.execute_input": "2025-10-20T00:47:43.073964Z",
     "iopub.status.busy": "2025-10-20T00:47:43.073778Z",
     "iopub.status.idle": "2025-10-20T00:47:43.237221Z",
     "shell.execute_reply": "2025-10-20T00:47:43.236561Z",
     "shell.execute_reply.started": "2025-10-20T00:47:43.073947Z"
    }
   },
   "outputs": [
    {
     "data": {
      "text/html": [
       "<div>\n",
       "<style scoped>\n",
       "    .dataframe tbody tr th:only-of-type {\n",
       "        vertical-align: middle;\n",
       "    }\n",
       "\n",
       "    .dataframe tbody tr th {\n",
       "        vertical-align: top;\n",
       "    }\n",
       "\n",
       "    .dataframe thead th {\n",
       "        text-align: right;\n",
       "    }\n",
       "</style>\n",
       "<table border=\"1\" class=\"dataframe\">\n",
       "  <thead>\n",
       "    <tr style=\"text-align: right;\">\n",
       "      <th></th>\n",
       "      <th>0</th>\n",
       "    </tr>\n",
       "  </thead>\n",
       "  <tbody>\n",
       "    <tr>\n",
       "      <th>mae.value</th>\n",
       "      <td>1.145682</td>\n",
       "    </tr>\n",
       "    <tr>\n",
       "      <th>mae.standard_deviation</th>\n",
       "      <td>0.052680</td>\n",
       "    </tr>\n",
       "    <tr>\n",
       "      <th>mse.value</th>\n",
       "      <td>3.676065</td>\n",
       "    </tr>\n",
       "    <tr>\n",
       "      <th>mse.standard_deviation</th>\n",
       "      <td>0.410080</td>\n",
       "    </tr>\n",
       "    <tr>\n",
       "      <th>rmse.value</th>\n",
       "      <td>1.917307</td>\n",
       "    </tr>\n",
       "    <tr>\n",
       "      <th>rmse.standard_deviation</th>\n",
       "      <td>0.107794</td>\n",
       "    </tr>\n",
       "    <tr>\n",
       "      <th>r2.value</th>\n",
       "      <td>0.965996</td>\n",
       "    </tr>\n",
       "    <tr>\n",
       "      <th>r2.standard_deviation</th>\n",
       "      <td>0.004052</td>\n",
       "    </tr>\n",
       "  </tbody>\n",
       "</table>\n",
       "</div>"
      ],
      "text/plain": [
       "                                0\n",
       "mae.value                1.145682\n",
       "mae.standard_deviation   0.052680\n",
       "mse.value                3.676065\n",
       "mse.standard_deviation   0.410080\n",
       "rmse.value               1.917307\n",
       "rmse.standard_deviation  0.107794\n",
       "r2.value                 0.965996\n",
       "r2.standard_deviation    0.004052"
      ]
     },
     "execution_count": 23,
     "metadata": {},
     "output_type": "execute_result"
    }
   ],
   "source": [
    "# View metrics\n",
    "binary_metrics = baseline_job.baseline_statistics().body_dict[\"regression_metrics\"]\n",
    "pd.json_normalize(binary_metrics).T"
   ]
  },
  {
   "cell_type": "code",
   "execution_count": 24,
   "id": "0d1158ee-28f8-46e8-919d-a6f75b98c625",
   "metadata": {
    "execution": {
     "iopub.execute_input": "2025-10-20T00:47:43.238147Z",
     "iopub.status.busy": "2025-10-20T00:47:43.237931Z",
     "iopub.status.idle": "2025-10-20T00:47:43.319241Z",
     "shell.execute_reply": "2025-10-20T00:47:43.318459Z",
     "shell.execute_reply.started": "2025-10-20T00:47:43.238129Z"
    }
   },
   "outputs": [
    {
     "data": {
      "text/html": [
       "<div>\n",
       "<style scoped>\n",
       "    .dataframe tbody tr th:only-of-type {\n",
       "        vertical-align: middle;\n",
       "    }\n",
       "\n",
       "    .dataframe tbody tr th {\n",
       "        vertical-align: top;\n",
       "    }\n",
       "\n",
       "    .dataframe thead th {\n",
       "        text-align: right;\n",
       "    }\n",
       "</style>\n",
       "<table border=\"1\" class=\"dataframe\">\n",
       "  <thead>\n",
       "    <tr style=\"text-align: right;\">\n",
       "      <th></th>\n",
       "      <th>threshold</th>\n",
       "      <th>comparison_operator</th>\n",
       "    </tr>\n",
       "  </thead>\n",
       "  <tbody>\n",
       "    <tr>\n",
       "      <th>mae</th>\n",
       "      <td>1.145682</td>\n",
       "      <td>GreaterThanThreshold</td>\n",
       "    </tr>\n",
       "    <tr>\n",
       "      <th>mse</th>\n",
       "      <td>3.676065</td>\n",
       "      <td>GreaterThanThreshold</td>\n",
       "    </tr>\n",
       "    <tr>\n",
       "      <th>rmse</th>\n",
       "      <td>1.917307</td>\n",
       "      <td>GreaterThanThreshold</td>\n",
       "    </tr>\n",
       "    <tr>\n",
       "      <th>r2</th>\n",
       "      <td>0.965996</td>\n",
       "      <td>LessThanThreshold</td>\n",
       "    </tr>\n",
       "  </tbody>\n",
       "</table>\n",
       "</div>"
      ],
      "text/plain": [
       "     threshold   comparison_operator\n",
       "mae   1.145682  GreaterThanThreshold\n",
       "mse   3.676065  GreaterThanThreshold\n",
       "rmse  1.917307  GreaterThanThreshold\n",
       "r2    0.965996     LessThanThreshold"
      ]
     },
     "execution_count": 24,
     "metadata": {},
     "output_type": "execute_result"
    }
   ],
   "source": [
    "# View constraints\n",
    "regression_constraints = pd.DataFrame(baseline_job.suggested_constraints().body_dict[\"regression_constraints\"]).T\n",
    "regression_constraints"
   ]
  },
  {
   "cell_type": "markdown",
   "id": "86bd5cd0-9aec-482b-b5f8-67ca0cfa5886",
   "metadata": {},
   "source": [
    "## Create Model Quality Monitoring Schedule"
   ]
  },
  {
   "cell_type": "code",
   "execution_count": 25,
   "id": "468d5e6a-9ea5-4371-b6a7-bd3c275e7bea",
   "metadata": {
    "execution": {
     "iopub.execute_input": "2025-10-20T00:47:43.320380Z",
     "iopub.status.busy": "2025-10-20T00:47:43.320002Z",
     "iopub.status.idle": "2025-10-20T00:47:43.324962Z",
     "shell.execute_reply": "2025-10-20T00:47:43.324211Z",
     "shell.execute_reply.started": "2025-10-20T00:47:43.320283Z"
    }
   },
   "outputs": [],
   "source": [
    "# Set monitor schedule name\n",
    "nutriscore_model_quality_monitor_schedule_name = f\"nutriscore-quality-monitoring-schedule-{datetime.now():%Y-%m-%d-%H-%M-%S}\""
   ]
  },
  {
   "cell_type": "code",
   "execution_count": 26,
   "id": "5fb5a663-d3d7-45ef-aad3-850b97e8ad81",
   "metadata": {
    "execution": {
     "iopub.execute_input": "2025-10-20T00:47:43.326432Z",
     "iopub.status.busy": "2025-10-20T00:47:43.325749Z",
     "iopub.status.idle": "2025-10-20T00:47:43.330346Z",
     "shell.execute_reply": "2025-10-20T00:47:43.329577Z",
     "shell.execute_reply.started": "2025-10-20T00:47:43.326302Z"
    }
   },
   "outputs": [],
   "source": [
    "# EndpointInput for regression\n",
    "endpointInput = EndpointInput(\n",
    "    endpoint_name=predictor.endpoint_name,\n",
    "    inference_attribute=\"0\", # first column contains inference\n",
    "    destination=\"/opt/ml/processing/input_data\",\n",
    ")"
   ]
  },
  {
   "cell_type": "code",
   "execution_count": 27,
   "id": "15d113b9-f341-4629-acc9-6275555ca8ef",
   "metadata": {
    "execution": {
     "iopub.execute_input": "2025-10-20T00:47:43.334018Z",
     "iopub.status.busy": "2025-10-20T00:47:43.332789Z",
     "iopub.status.idle": "2025-10-20T00:47:44.315562Z",
     "shell.execute_reply": "2025-10-20T00:47:44.314773Z",
     "shell.execute_reply.started": "2025-10-20T00:47:43.333992Z"
    }
   },
   "outputs": [
    {
     "name": "stderr",
     "output_type": "stream",
     "text": [
      "INFO:sagemaker.model_monitor.model_monitoring:Creating Monitoring Schedule with name: nutriscore-quality-monitoring-schedule-2025-10-20-00-47-43\n"
     ]
    }
   ],
   "source": [
    "# Create the monitoring schedule to execute every hour\n",
    "response = nutriscore_model_quality_monitor.create_monitoring_schedule(\n",
    "    monitor_schedule_name=nutriscore_model_quality_monitor_schedule_name,\n",
    "    endpoint_input=endpointInput,\n",
    "    output_s3_uri=baseline_results_uri,\n",
    "    problem_type=\"Regression\",\n",
    "    ground_truth_input=ground_truth_upload_path,\n",
    "    constraints=baseline_job.suggested_constraints(),\n",
    "    schedule_cron_expression=CronExpressionGenerator.hourly(),\n",
    "    enable_cloudwatch_metrics=True,\n",
    ")"
   ]
  },
  {
   "cell_type": "code",
   "execution_count": 28,
   "id": "fd702de8-579f-49f1-9f25-16559b905cf9",
   "metadata": {
    "execution": {
     "iopub.execute_input": "2025-10-20T00:47:44.318337Z",
     "iopub.status.busy": "2025-10-20T00:47:44.318029Z",
     "iopub.status.idle": "2025-10-20T00:47:44.389638Z",
     "shell.execute_reply": "2025-10-20T00:47:44.388896Z",
     "shell.execute_reply.started": "2025-10-20T00:47:44.318306Z"
    }
   },
   "outputs": [
    {
     "data": {
      "text/plain": [
       "{'MonitoringScheduleArn': 'arn:aws:sagemaker:us-east-1:654654380268:monitoring-schedule/nutriscore-quality-monitoring-schedule-2025-10-20-00-47-43',\n",
       " 'MonitoringScheduleName': 'nutriscore-quality-monitoring-schedule-2025-10-20-00-47-43',\n",
       " 'MonitoringScheduleStatus': 'Pending',\n",
       " 'MonitoringType': 'ModelQuality',\n",
       " 'CreationTime': datetime.datetime(2025, 10, 20, 0, 47, 44, 126000, tzinfo=tzlocal()),\n",
       " 'LastModifiedTime': datetime.datetime(2025, 10, 20, 0, 47, 44, 207000, tzinfo=tzlocal()),\n",
       " 'MonitoringScheduleConfig': {'ScheduleConfig': {'ScheduleExpression': 'cron(0 * ? * * *)'},\n",
       "  'MonitoringJobDefinitionName': 'model-quality-job-definition-2025-10-20-00-47-43-415',\n",
       "  'MonitoringType': 'ModelQuality'},\n",
       " 'EndpointName': 'xgb-nutriscore-monitor-2025-10-20-00-29-44',\n",
       " 'ResponseMetadata': {'RequestId': 'a7019df9-4ef5-4288-88ae-e150d1c1ea34',\n",
       "  'HTTPStatusCode': 200,\n",
       "  'HTTPHeaders': {'x-amzn-requestid': 'a7019df9-4ef5-4288-88ae-e150d1c1ea34',\n",
       "   'strict-transport-security': 'max-age=47304000; includeSubDomains',\n",
       "   'x-frame-options': 'DENY',\n",
       "   'content-security-policy': \"frame-ancestors 'none'\",\n",
       "   'cache-control': 'no-cache, no-store, must-revalidate',\n",
       "   'x-content-type-options': 'nosniff',\n",
       "   'content-type': 'application/x-amz-json-1.1',\n",
       "   'content-length': '636',\n",
       "   'date': 'Mon, 20 Oct 2025 00:47:44 GMT'},\n",
       "  'RetryAttempts': 0}}"
      ]
     },
     "execution_count": 28,
     "metadata": {},
     "output_type": "execute_result"
    }
   ],
   "source": [
    "# Examine schedule on monitor\n",
    "nutriscore_model_quality_monitor.describe_schedule()"
   ]
  },
  {
   "cell_type": "markdown",
   "id": "49247b3f-a8e2-42e8-89fd-634f25afb410",
   "metadata": {},
   "source": [
    "## Setup Model Quality Alarm"
   ]
  },
  {
   "cell_type": "code",
   "execution_count": 29,
   "id": "446f0ef2-0300-4a2e-b81f-b473eddf08bd",
   "metadata": {
    "execution": {
     "iopub.execute_input": "2025-10-20T00:47:44.390843Z",
     "iopub.status.busy": "2025-10-20T00:47:44.390355Z",
     "iopub.status.idle": "2025-10-20T00:47:44.395890Z",
     "shell.execute_reply": "2025-10-20T00:47:44.395140Z",
     "shell.execute_reply.started": "2025-10-20T00:47:44.390811Z"
    }
   },
   "outputs": [
    {
     "name": "stdout",
     "output_type": "stream",
     "text": [
      "RMSE Threshold from baseline constraints: 1.9173067466644982\n",
      "RMSE Comparison Operator from baseline constraints: GreaterThanThreshold\n"
     ]
    }
   ],
   "source": [
    "# Get thresholds from baseline constraints\n",
    "rmse_threshold = regression_constraints.loc['rmse', 'threshold']\n",
    "rmse_operator = regression_constraints.loc['rmse', 'comparison_operator']\n",
    "print(f\"RMSE Threshold from baseline constraints: {rmse_threshold}\")\n",
    "print(f\"RMSE Comparison Operator from baseline constraints: {rmse_operator}\")"
   ]
  },
  {
   "cell_type": "code",
   "execution_count": 30,
   "id": "45690066-ddda-4be2-a852-92245903862b",
   "metadata": {
    "execution": {
     "iopub.execute_input": "2025-10-20T00:47:44.397523Z",
     "iopub.status.busy": "2025-10-20T00:47:44.397151Z",
     "iopub.status.idle": "2025-10-20T00:47:44.549186Z",
     "shell.execute_reply": "2025-10-20T00:47:44.548491Z",
     "shell.execute_reply.started": "2025-10-20T00:47:44.397491Z"
    }
   },
   "outputs": [
    {
     "name": "stdout",
     "output_type": "stream",
     "text": [
      "Creating CloudWatch alarm for RMSE...\n",
      "Successfully created alarm: NUTRISCORE_MODEL_RMSE_DRIFT\n"
     ]
    }
   ],
   "source": [
    "# Create a CloudWatch Alarm for a regression metrics\n",
    "print(\"Creating CloudWatch alarm for RMSE...\")\n",
    "alarm_name = \"NUTRISCORE_MODEL_RMSE_DRIFT\"\n",
    "alarm_desc = \"Trigger an alarm when the model's RMSE exceeds the baseline threshold.\"\n",
    "cw_quality_dimensions = [\n",
    "    {\"Name\": \"Endpoint\", \"Value\": endpoint_name},\n",
    "    {\"Name\": \"MonitoringSchedule\", \"Value\": nutriscore_model_quality_monitor_schedule_name},\n",
    "]\n",
    "\n",
    "cw_client.put_metric_alarm(\n",
    "    AlarmName=alarm_name,\n",
    "    AlarmDescription=alarm_desc,\n",
    "    ActionsEnabled=False,\n",
    "    MetricName=\"rmse\",\n",
    "    Namespace=namespace,\n",
    "    Statistic=\"Average\",\n",
    "    Dimensions=cw_quality_dimensions,\n",
    "    Period=3600, # Checks every hour\n",
    "    EvaluationPeriods=1,\n",
    "    DatapointsToAlarm=1,\n",
    "    Threshold=rmse_threshold,\n",
    "    ComparisonOperator=rmse_operator,\n",
    "    TreatMissingData=\"breaching\",\n",
    ")\n",
    "print(f\"Successfully created alarm: {alarm_name}\")"
   ]
  },
  {
   "cell_type": "markdown",
   "id": "735fe903-7e57-4a9d-b869-174ef5257f17",
   "metadata": {},
   "source": [
    "## Continuous Model Monitoring Pre-Processed Prod Data Simulation"
   ]
  },
  {
   "cell_type": "code",
   "execution_count": 31,
   "id": "c9ca1646-2bc2-4962-88c2-fadc5d077613",
   "metadata": {
    "execution": {
     "iopub.execute_input": "2025-10-20T00:47:44.550156Z",
     "iopub.status.busy": "2025-10-20T00:47:44.549873Z",
     "iopub.status.idle": "2025-10-20T00:47:46.089531Z",
     "shell.execute_reply": "2025-10-20T00:47:46.088661Z",
     "shell.execute_reply.started": "2025-10-20T00:47:44.550136Z"
    }
   },
   "outputs": [
    {
     "name": "stdout",
     "output_type": "stream",
     "text": [
      "Stored 'prod_scaled_path' (str)\n"
     ]
    }
   ],
   "source": [
    "# Get some samples from scaled production data split\n",
    "# From notebook 04\n",
    "prod_scaled_path = f's3://{bucket}/nutriscore-prediction-xgboost/prod/prod_scaled.csv'\n",
    "%store prod_scaled_path\n",
    "prod_scaled_df = pd.read_csv(prod_scaled_path)"
   ]
  },
  {
   "cell_type": "code",
   "execution_count": 35,
   "id": "1e5ee1cb-0e3c-45c8-abda-d82564795e12",
   "metadata": {
    "execution": {
     "iopub.execute_input": "2025-10-20T00:51:23.084762Z",
     "iopub.status.busy": "2025-10-20T00:51:23.084477Z",
     "iopub.status.idle": "2025-10-20T00:51:23.108010Z",
     "shell.execute_reply": "2025-10-20T00:51:23.104639Z",
     "shell.execute_reply.started": "2025-10-20T00:51:23.084740Z"
    }
   },
   "outputs": [
    {
     "name": "stdout",
     "output_type": "stream",
     "text": [
      "--- Starting Traffic Simulation for 2 hours ---\n",
      "Sending 500 records every 10.0 minutes.\n",
      "\n",
      "--- Generating new data batch ---\n"
     ]
    },
    {
     "data": {
      "application/vnd.jupyter.widget-view+json": {
       "model_id": "fad97569d75e45ed93c08b9a12ef5add",
       "version_major": 2,
       "version_minor": 0
      },
      "text/plain": [
       "  0%|          | 0/500 [00:00<?, ?it/s]"
      ]
     },
     "metadata": {},
     "output_type": "display_data"
    },
    {
     "name": "stdout",
     "output_type": "stream",
     "text": [
      "Sent 500 predictions to endpoint.\n",
      "Waiting 5 minutes for data capture to land in S3...\n",
      "  Uploading 500 ground truth records to s3://sagemaker-us-east-1-654654380268/sagemaker/FoodLens-ModelQualityMonitor-2025-10-20-00-29-44/ground_truth_data/2025-10-20-00-29-44/2025/10/20/00/ground_truth_5123.jsonl\n",
      "Batch complete. Waiting 10.0 minutes...\n",
      "\n",
      "--- Generating new data batch ---\n",
      "Sent 500 predictions to endpoint.\n",
      "Waiting 5 minutes for data capture to land in S3...\n",
      "  Uploading 500 ground truth records to s3://sagemaker-us-east-1-654654380268/sagemaker/FoodLens-ModelQualityMonitor-2025-10-20-00-29-44/ground_truth_data/2025-10-20-00-29-44/2025/10/20/01/ground_truth_0648.jsonl\n",
      "Batch complete. Waiting 10.0 minutes...\n",
      "\n",
      "--- Generating new data batch ---\n",
      "Sent 500 predictions to endpoint.\n",
      "Waiting 5 minutes for data capture to land in S3...\n",
      "  Uploading 500 ground truth records to s3://sagemaker-us-east-1-654654380268/sagemaker/FoodLens-ModelQualityMonitor-2025-10-20-00-29-44/ground_truth_data/2025-10-20-00-29-44/2025/10/20/01/ground_truth_2214.jsonl\n",
      "Batch complete. Waiting 10.0 minutes...\n",
      "\n",
      "--- Generating new data batch ---\n",
      "Sent 500 predictions to endpoint.\n",
      "Waiting 5 minutes for data capture to land in S3...\n",
      "  Uploading 500 ground truth records to s3://sagemaker-us-east-1-654654380268/sagemaker/FoodLens-ModelQualityMonitor-2025-10-20-00-29-44/ground_truth_data/2025-10-20-00-29-44/2025/10/20/01/ground_truth_3738.jsonl\n",
      "Batch complete. Waiting 10.0 minutes...\n",
      "\n",
      "--- Generating new data batch ---\n",
      "Sent 500 predictions to endpoint.\n",
      "Waiting 5 minutes for data capture to land in S3...\n",
      "  Uploading 500 ground truth records to s3://sagemaker-us-east-1-654654380268/sagemaker/FoodLens-ModelQualityMonitor-2025-10-20-00-29-44/ground_truth_data/2025-10-20-00-29-44/2025/10/20/01/ground_truth_5302.jsonl\n",
      "Batch complete. Waiting 10.0 minutes...\n",
      "\n",
      "--- Generating new data batch ---\n",
      "Sent 500 predictions to endpoint.\n",
      "Waiting 5 minutes for data capture to land in S3...\n",
      "  Uploading 500 ground truth records to s3://sagemaker-us-east-1-654654380268/sagemaker/FoodLens-ModelQualityMonitor-2025-10-20-00-29-44/ground_truth_data/2025-10-20-00-29-44/2025/10/20/02/ground_truth_0826.jsonl\n",
      "Batch complete. Waiting 10.0 minutes...\n",
      "\n",
      "--- Generating new data batch ---\n",
      "Sent 500 predictions to endpoint.\n",
      "Waiting 5 minutes for data capture to land in S3...\n",
      "  Uploading 500 ground truth records to s3://sagemaker-us-east-1-654654380268/sagemaker/FoodLens-ModelQualityMonitor-2025-10-20-00-29-44/ground_truth_data/2025-10-20-00-29-44/2025/10/20/02/ground_truth_2349.jsonl\n",
      "Batch complete. Waiting 10.0 minutes...\n",
      "\n",
      "--- Generating new data batch ---\n",
      "Sent 500 predictions to endpoint.\n",
      "Waiting 5 minutes for data capture to land in S3...\n",
      "  Uploading 500 ground truth records to s3://sagemaker-us-east-1-654654380268/sagemaker/FoodLens-ModelQualityMonitor-2025-10-20-00-29-44/ground_truth_data/2025-10-20-00-29-44/2025/10/20/02/ground_truth_3914.jsonl\n",
      "\n",
      "Duration reached. Stopping simulation after this batch.\n",
      "\n",
      "--- Simulation finished after approximately 2 hours. ---\n"
     ]
    }
   ],
   "source": [
    "# Start the simulation in a background thread\n",
    "simulation_thread = Thread(\n",
    "    target=simulate_live_traffic_for_duration,\n",
    "    args=(\n",
    "        endpoint_name,\n",
    "        sagemaker_session,\n",
    "        prod_scaled_df,\n",
    "        ground_truth_upload_path,\n",
    "        2 # hours duration for simulation\n",
    "    )\n",
    ")\n",
    "simulation_thread.start()"
   ]
  },
  {
   "cell_type": "code",
   "execution_count": 71,
   "id": "695f160a-6195-453b-a8ba-e4efbb46e8d7",
   "metadata": {
    "execution": {
     "iopub.execute_input": "2025-10-20T03:31:22.580997Z",
     "iopub.status.busy": "2025-10-20T03:31:22.580685Z",
     "iopub.status.idle": "2025-10-20T03:31:22.821425Z",
     "shell.execute_reply": "2025-10-20T03:31:22.820638Z",
     "shell.execute_reply.started": "2025-10-20T03:31:22.580973Z"
    }
   },
   "outputs": [
    {
     "data": {
      "text/plain": [
       "[<sagemaker.model_monitor.model_monitoring.MonitoringExecution at 0x7febb35302c0>,\n",
       " <sagemaker.model_monitor.model_monitoring.MonitoringExecution at 0x7febb3eb4b90>,\n",
       " <sagemaker.model_monitor.model_monitoring.MonitoringExecution at 0x7febc5f27830>]"
      ]
     },
     "execution_count": 71,
     "metadata": {},
     "output_type": "execute_result"
    }
   ],
   "source": [
    "# Initially there will be no executions since the first execution happens at the top of the hour\n",
    "executions = nutriscore_model_quality_monitor.list_executions()\n",
    "executions"
   ]
  },
  {
   "cell_type": "code",
   "execution_count": 66,
   "id": "52f5b616-622c-40b1-a7d2-02c81a78dbc5",
   "metadata": {
    "execution": {
     "iopub.execute_input": "2025-10-20T02:04:27.214935Z",
     "iopub.status.busy": "2025-10-20T02:04:27.214669Z",
     "iopub.status.idle": "2025-10-20T02:04:27.284611Z",
     "shell.execute_reply": "2025-10-20T02:04:27.283697Z",
     "shell.execute_reply.started": "2025-10-20T02:04:27.214914Z"
    }
   },
   "outputs": [
    {
     "name": "stdout",
     "output_type": "stream",
     "text": [
      "Waiting for execution\n",
      "Execution found!\n"
     ]
    }
   ],
   "source": [
    "# Wait for execution of the monitoring_schedule\n",
    "print(\"Waiting for execution\", end=\"\")\n",
    "while True:\n",
    "    execution = nutriscore_model_quality_monitor.describe_schedule().get(\n",
    "        \"LastMonitoringExecutionSummary\"\n",
    "    )\n",
    "    if execution:\n",
    "        break\n",
    "    print(\".\", end=\"\", flush=True)\n",
    "    sleep(10)\n",
    "print()\n",
    "print(\"Execution found!\")"
   ]
  },
  {
   "cell_type": "code",
   "execution_count": 72,
   "id": "b09c7d02-0478-4ce0-96b2-c401423bc429",
   "metadata": {
    "execution": {
     "iopub.execute_input": "2025-10-20T03:31:33.751895Z",
     "iopub.status.busy": "2025-10-20T03:31:33.751619Z",
     "iopub.status.idle": "2025-10-20T03:31:33.804099Z",
     "shell.execute_reply": "2025-10-20T03:31:33.803461Z",
     "shell.execute_reply.started": "2025-10-20T03:31:33.751875Z"
    }
   },
   "outputs": [
    {
     "data": {
      "text/plain": [
       "{'ProcessingInputs': [{'InputName': 'constraints',\n",
       "   'AppManaged': False,\n",
       "   'S3Input': {'S3Uri': 's3://sagemaker-us-east-1-654654380268/sagemaker/FoodLens-ModelQualityMonitor-2025-10-20-00-29-44/baselining/results/constraints.json',\n",
       "    'LocalPath': '/opt/ml/processing/baseline/constraints',\n",
       "    'S3DataType': 'S3Prefix',\n",
       "    'S3InputMode': 'File',\n",
       "    'S3DataDistributionType': 'FullyReplicated'}},\n",
       "  {'InputName': 'endpoint_input_1',\n",
       "   'AppManaged': False,\n",
       "   'S3Input': {'S3Uri': 's3://sagemaker-us-east-1-654654380268/sagemaker/FoodLens-ModelQualityMonitor-2025-10-20-00-29-44/baselining/results/merge/xgb-nutriscore-monitor-2025-10-20-00-29-44/AllTraffic/2025/10/20/02',\n",
       "    'LocalPath': '/opt/ml/processing/input_data/xgb-nutriscore-monitor-2025-10-20-00-29-44/AllTraffic/2025/10/20/02',\n",
       "    'S3DataType': 'S3Prefix',\n",
       "    'S3InputMode': 'File',\n",
       "    'S3DataDistributionType': 'FullyReplicated',\n",
       "    'S3CompressionType': 'None'}}],\n",
       " 'ProcessingOutputConfig': {'Outputs': [{'OutputName': 'result',\n",
       "    'S3Output': {'S3Uri': 's3://sagemaker-us-east-1-654654380268/sagemaker/FoodLens-ModelQualityMonitor-2025-10-20-00-29-44/baselining/results/xgb-nutriscore-monitor-2025-10-20-00-29-44/nutriscore-quality-monitoring-schedule-2025-10-20-00-47-43/2025/10/20/03',\n",
       "     'LocalPath': '/opt/ml/processing/output',\n",
       "     'S3UploadMode': 'Continuous'},\n",
       "    'AppManaged': False}]},\n",
       " 'ProcessingJobName': 'model-quality-monitoring-202510200300-d9d40f0902783952b2748abd',\n",
       " 'ProcessingResources': {'ClusterConfig': {'InstanceCount': 1,\n",
       "   'InstanceType': 'ml.m5.xlarge',\n",
       "   'VolumeSizeInGB': 20}},\n",
       " 'StoppingCondition': {'MaxRuntimeInSeconds': 1800},\n",
       " 'AppSpecification': {'ImageUri': '156813124566.dkr.ecr.us-east-1.amazonaws.com/sagemaker-model-monitor-analyzer'},\n",
       " 'Environment': {'analysis_type': 'MODEL_QUALITY',\n",
       "  'baseline_constraints': '/opt/ml/processing/baseline/constraints/constraints.json',\n",
       "  'dataset_format': '{\"sagemakerMergeJson\":{\"captureIndexNames\":[\"endpointOutput\"],\"originalDatasetFormat\":null}}',\n",
       "  'dataset_source': '/opt/ml/processing/input_data',\n",
       "  'end_time': '2025-10-20T03:00:00Z',\n",
       "  'inference_attribute': '0',\n",
       "  'metric_time': '2025-10-20T02:00:00Z',\n",
       "  'monitoring_input_type': 'ENDPOINT_INPUT',\n",
       "  'output_path': '/opt/ml/processing/output',\n",
       "  'problem_type': 'Regression',\n",
       "  'publish_cloudwatch_metrics': 'Enabled',\n",
       "  'sagemaker_endpoint_name': 'xgb-nutriscore-monitor-2025-10-20-00-29-44',\n",
       "  'sagemaker_monitoring_schedule_name': 'nutriscore-quality-monitoring-schedule-2025-10-20-00-47-43',\n",
       "  'start_time': '2025-10-20T02:00:00Z'},\n",
       " 'RoleArn': 'arn:aws:iam::654654380268:role/LabRole',\n",
       " 'ProcessingJobArn': 'arn:aws:sagemaker:us-east-1:654654380268:processing-job/model-quality-monitoring-202510200300-d9d40f0902783952b2748abd',\n",
       " 'ProcessingJobStatus': 'Completed',\n",
       " 'ExitMessage': 'Completed: Job completed successfully with no violations.',\n",
       " 'ProcessingEndTime': datetime.datetime(2025, 10, 20, 3, 17, 28, tzinfo=tzlocal()),\n",
       " 'ProcessingStartTime': datetime.datetime(2025, 10, 20, 3, 14, 23, tzinfo=tzlocal()),\n",
       " 'LastModifiedTime': datetime.datetime(2025, 10, 20, 3, 18, 51, 330000, tzinfo=tzlocal()),\n",
       " 'CreationTime': datetime.datetime(2025, 10, 20, 3, 13, 49, 121000, tzinfo=tzlocal()),\n",
       " 'MonitoringScheduleArn': 'arn:aws:sagemaker:us-east-1:654654380268:monitoring-schedule/nutriscore-quality-monitoring-schedule-2025-10-20-00-47-43',\n",
       " 'ResponseMetadata': {'RequestId': '7cf33ee0-14e4-4a79-9cdc-87fdc0f77bed',\n",
       "  'HTTPStatusCode': 200,\n",
       "  'HTTPHeaders': {'x-amzn-requestid': '7cf33ee0-14e4-4a79-9cdc-87fdc0f77bed',\n",
       "   'content-type': 'application/x-amz-json-1.1',\n",
       "   'content-length': '2951',\n",
       "   'date': 'Mon, 20 Oct 2025 03:31:33 GMT'},\n",
       "  'RetryAttempts': 0}}"
      ]
     },
     "execution_count": 72,
     "metadata": {},
     "output_type": "execute_result"
    }
   ],
   "source": [
    "# View execution details\n",
    "latest_execution = executions[2]\n",
    "latest_execution.describe()"
   ]
  },
  {
   "cell_type": "code",
   "execution_count": 68,
   "id": "ef051c3a-f114-407b-ac04-46846fe97568",
   "metadata": {
    "execution": {
     "iopub.execute_input": "2025-10-20T02:04:45.325088Z",
     "iopub.status.busy": "2025-10-20T02:04:45.324818Z",
     "iopub.status.idle": "2025-10-20T02:13:54.288452Z",
     "shell.execute_reply": "2025-10-20T02:13:54.287638Z",
     "shell.execute_reply.started": "2025-10-20T02:04:45.325067Z"
    }
   },
   "outputs": [
    {
     "name": "stdout",
     "output_type": "stream",
     "text": [
      "Waiting for execution to finish.........................................!\n",
      "groundtruth-merge-202510200200-2f67b5871464cf78bf2436bb job status: Completed\n",
      "groundtruth-merge-202510200200-2f67b5871464cf78bf2436bb job exit message, if any: None\n",
      "groundtruth-merge-202510200200-2f67b5871464cf78bf2436bb job failure reason, if any: None\n"
     ]
    },
    {
     "data": {
      "application/vnd.jupyter.widget-view+json": {
       "model_id": "3365cf66285649a39e32b50e23456361",
       "version_major": 2,
       "version_minor": 0
      },
      "text/plain": [
       "  0%|          | 0/500 [00:00<?, ?it/s]"
      ]
     },
     "metadata": {},
     "output_type": "display_data"
    },
    {
     "name": "stdout",
     "output_type": "stream",
     "text": [
      "Waiting for execution to finish......................................................!\n",
      "model-quality-monitoring-202510200200-2f67b5871464cf78bf2436bb job status: Completed\n",
      "model-quality-monitoring-202510200200-2f67b5871464cf78bf2436bb job exit message, if any: CompletedWithViolations: Job completed successfully with 4 violations.\n",
      "model-quality-monitoring-202510200200-2f67b5871464cf78bf2436bb job failure reason, if any: None\n",
      "Execution status is: CompletedWithViolations\n",
      "{'MonitoringScheduleName': 'nutriscore-quality-monitoring-schedule-2025-10-20-00-47-43', 'ScheduledTime': datetime.datetime(2025, 10, 20, 2, 0, tzinfo=tzlocal()), 'CreationTime': datetime.datetime(2025, 10, 20, 2, 2, 1, 347000, tzinfo=tzlocal()), 'LastModifiedTime': datetime.datetime(2025, 10, 20, 2, 13, 25, 907000, tzinfo=tzlocal()), 'MonitoringExecutionStatus': 'CompletedWithViolations', 'ProcessingJobArn': 'arn:aws:sagemaker:us-east-1:654654380268:processing-job/model-quality-monitoring-202510200200-2f67b5871464cf78bf2436bb', 'EndpointName': 'xgb-nutriscore-monitor-2025-10-20-00-29-44'}\n",
      "====STOP==== \n",
      " No completed executions to inspect further. Please wait till an execution completes or investigate previously reported failures.\n"
     ]
    }
   ],
   "source": [
    "# View execution status\n",
    "status = execution[\"MonitoringExecutionStatus\"]\n",
    "\n",
    "while status in [\"Pending\", \"InProgress\"]:\n",
    "    print(\"Waiting for execution to finish\", end=\"\")\n",
    "    latest_execution.wait(logs=False)\n",
    "    latest_job = latest_execution.describe()\n",
    "    print()\n",
    "    print(f\"{latest_job['ProcessingJobName']} job status:\", latest_job[\"ProcessingJobStatus\"])\n",
    "    print(\n",
    "        f\"{latest_job['ProcessingJobName']} job exit message, if any:\",\n",
    "        latest_job.get(\"ExitMessage\"),\n",
    "    )\n",
    "    print(\n",
    "        f\"{latest_job['ProcessingJobName']} job failure reason, if any:\",\n",
    "        latest_job.get(\"FailureReason\"),\n",
    "    )\n",
    "    sleep(\n",
    "        30\n",
    "    )  # model quality executions consist of two Processing jobs, wait for second job to start\n",
    "    latest_execution = nutriscore_model_quality_monitor.list_executions()[-1]\n",
    "    execution = nutriscore_model_quality_monitor.describe_schedule()[\"LastMonitoringExecutionSummary\"]\n",
    "    status = execution[\"MonitoringExecutionStatus\"]\n",
    "\n",
    "print(\"Execution status is:\", status)\n",
    "\n",
    "if status != \"Completed\":\n",
    "    print(execution)\n",
    "    print(\n",
    "        \"====STOP==== \\n No completed executions to inspect further. Please wait till an execution completes or investigate previously reported failures.\"\n",
    "    )"
   ]
  },
  {
   "cell_type": "markdown",
   "id": "25f8a1f6-45f2-4449-8b2d-e75a34762054",
   "metadata": {},
   "source": [
    "## View Model and Data Reports"
   ]
  },
  {
   "cell_type": "code",
   "execution_count": 75,
   "id": "c9960ca8-cc7b-4f67-a579-e35807c5bf34",
   "metadata": {
    "execution": {
     "iopub.execute_input": "2025-10-20T03:31:59.174212Z",
     "iopub.status.busy": "2025-10-20T03:31:59.173866Z",
     "iopub.status.idle": "2025-10-20T03:31:59.432593Z",
     "shell.execute_reply": "2025-10-20T03:31:59.431811Z",
     "shell.execute_reply.started": "2025-10-20T03:31:59.174181Z"
    }
   },
   "outputs": [
    {
     "name": "stdout",
     "output_type": "stream",
     "text": [
      "Model Report Uri: s3://sagemaker-us-east-1-654654380268/sagemaker/FoodLens-ModelQualityMonitor-2025-10-20-00-29-44/baselining/results/xgb-nutriscore-monitor-2025-10-20-00-29-44/nutriscore-quality-monitoring-schedule-2025-10-20-00-47-43/2025/10/20/03\n"
     ]
    },
    {
     "data": {
      "text/html": [
       "<div>\n",
       "<style scoped>\n",
       "    .dataframe tbody tr th:only-of-type {\n",
       "        vertical-align: middle;\n",
       "    }\n",
       "\n",
       "    .dataframe tbody tr th {\n",
       "        vertical-align: top;\n",
       "    }\n",
       "\n",
       "    .dataframe thead th {\n",
       "        text-align: right;\n",
       "    }\n",
       "</style>\n",
       "<table border=\"1\" class=\"dataframe\">\n",
       "  <thead>\n",
       "    <tr style=\"text-align: right;\">\n",
       "      <th></th>\n",
       "    </tr>\n",
       "  </thead>\n",
       "  <tbody>\n",
       "  </tbody>\n",
       "</table>\n",
       "</div>"
      ],
      "text/plain": [
       "Empty DataFrame\n",
       "Columns: []\n",
       "Index: []"
      ]
     },
     "execution_count": 75,
     "metadata": {},
     "output_type": "execute_result"
    }
   ],
   "source": [
    "# View model report\n",
    "model_quality_latest_execution = nutriscore_model_quality_monitor.list_executions()[2]\n",
    "report_uri = model_quality_latest_execution.describe()[\"ProcessingOutputConfig\"][\"Outputs\"][0][\"S3Output\"][\n",
    "    \"S3Uri\"\n",
    "]\n",
    "print(\"Model Report Uri:\", report_uri)\n",
    "\n",
    "# View violations generated by monitoring schedule\n",
    "pd.options.display.max_colwidth = None\n",
    "violations = model_quality_latest_execution.constraint_violations().body_dict[\"violations\"]\n",
    "violations_df = pd.json_normalize(violations)\n",
    "violations_df.head(10)"
   ]
  },
  {
   "cell_type": "code",
   "execution_count": 76,
   "id": "f205c4d5-43b5-4e53-aa1e-39c7ffa13316",
   "metadata": {
    "execution": {
     "iopub.execute_input": "2025-10-20T03:32:03.943189Z",
     "iopub.status.busy": "2025-10-20T03:32:03.942804Z",
     "iopub.status.idle": "2025-10-20T03:32:04.260352Z",
     "shell.execute_reply": "2025-10-20T03:32:04.259635Z",
     "shell.execute_reply.started": "2025-10-20T03:32:03.943157Z"
    }
   },
   "outputs": [
    {
     "name": "stdout",
     "output_type": "stream",
     "text": [
      "Data Report Uri: s3://sagemaker-us-east-1-654654380268/nutriscore-prediction-xgboost/data-quality-reports/xgb-nutriscore-monitor-2025-10-20-00-29-44/nutriscore-data-quality-schedule-2025-10-20-00-38-20/2025/10/20/03\n"
     ]
    },
    {
     "data": {
      "text/html": [
       "<div>\n",
       "<style scoped>\n",
       "    .dataframe tbody tr th:only-of-type {\n",
       "        vertical-align: middle;\n",
       "    }\n",
       "\n",
       "    .dataframe tbody tr th {\n",
       "        vertical-align: top;\n",
       "    }\n",
       "\n",
       "    .dataframe thead th {\n",
       "        text-align: right;\n",
       "    }\n",
       "</style>\n",
       "<table border=\"1\" class=\"dataframe\">\n",
       "  <thead>\n",
       "    <tr style=\"text-align: right;\">\n",
       "      <th></th>\n",
       "      <th>feature_name</th>\n",
       "      <th>constraint_check_type</th>\n",
       "      <th>description</th>\n",
       "    </tr>\n",
       "  </thead>\n",
       "  <tbody>\n",
       "    <tr>\n",
       "      <th>0</th>\n",
       "      <td>Extra columns</td>\n",
       "      <td>extra_column_check</td>\n",
       "      <td>There are extra columns in current dataset. Number of columns in current dataset: 23, Number of columns in baseline constraints: 22</td>\n",
       "    </tr>\n",
       "  </tbody>\n",
       "</table>\n",
       "</div>"
      ],
      "text/plain": [
       "    feature_name constraint_check_type  \\\n",
       "0  Extra columns    extra_column_check   \n",
       "\n",
       "                                                                                                                           description  \n",
       "0  There are extra columns in current dataset. Number of columns in current dataset: 23, Number of columns in baseline constraints: 22  "
      ]
     },
     "execution_count": 76,
     "metadata": {},
     "output_type": "execute_result"
    }
   ],
   "source": [
    "# View data quality report\n",
    "data_quality_latest_execution = data_quality_monitor.list_executions()[2]\n",
    "data_report_uri = data_quality_latest_execution.describe()[\"ProcessingOutputConfig\"][\"Outputs\"][0][\"S3Output\"][\"S3Uri\"]\n",
    "print(\"Data Report Uri:\", data_report_uri)\n",
    "\n",
    "# View violations generated by monitoring schedule\n",
    "pd.options.display.max_colwidth = None\n",
    "violations = data_quality_latest_execution.constraint_violations().body_dict[\"violations\"]\n",
    "violations_df = pd.json_normalize(violations)\n",
    "violations_df.head(10)"
   ]
  },
  {
   "cell_type": "markdown",
   "id": "22d049b2-c896-4ab9-9799-89e66fc64d8a",
   "metadata": {},
   "source": [
    "## Cleanup"
   ]
  },
  {
   "cell_type": "code",
   "execution_count": null,
   "id": "0a357116-94a8-4bc4-a1fc-bf3e64a2ae42",
   "metadata": {},
   "outputs": [],
   "source": [
    "### Use these commands in case deleting endpoint or monitoring schedule has errors\n",
    "# !aws sagemaker list-monitoring-schedules\n",
    "# !aws sagemaker delete-monitoring-schedule --monitoring-schedule-name \"nutriscore-quality-monitoring-schedule-2025-10-19-18-23-17\"\n",
    "# !aws sagemaker list-monitoring-executions --monitoring-schedule-name \"nutriscore-quality-monitoring-schedule-2025-10-19-18-23-17\" --status-equals InProgress\n",
    "# !aws sagemaker stop-processing-job --processing-job-name \"model-quality-monitoring-202510192100-2f18ccd5285740e6dddefe54\""
   ]
  },
  {
   "cell_type": "code",
   "execution_count": 77,
   "id": "6eb476b9-1bf2-43af-b7f1-435e711fe03d",
   "metadata": {
    "execution": {
     "iopub.execute_input": "2025-10-20T04:07:20.330789Z",
     "iopub.status.busy": "2025-10-20T04:07:20.330491Z",
     "iopub.status.idle": "2025-10-20T04:07:36.867644Z",
     "shell.execute_reply": "2025-10-20T04:07:36.866929Z",
     "shell.execute_reply.started": "2025-10-20T04:07:20.330763Z"
    }
   },
   "outputs": [
    {
     "name": "stderr",
     "output_type": "stream",
     "text": [
      "INFO:sagemaker:Deleting Monitoring Schedule with name: nutriscore-quality-monitoring-schedule-2025-10-20-00-47-43\n",
      "INFO:sagemaker.model_monitor.model_monitoring:Deleting Model Quality Job Definition with name: model-quality-job-definition-2025-10-20-00-47-43-415\n",
      "INFO:sagemaker:Deleting Monitoring Schedule with name: nutriscore-data-quality-schedule-2025-10-20-00-38-20\n",
      "INFO:sagemaker.model_monitor.model_monitoring:Deleting Data Quality Job Definition with name: data-quality-job-definition-2025-10-20-00-38-20-519\n",
      "INFO:sagemaker:Deleting endpoint configuration with name: xgb-nutriscore-monitor-2025-10-20-00-29-44\n",
      "INFO:sagemaker:Deleting endpoint with name: xgb-nutriscore-monitor-2025-10-20-00-29-44\n"
     ]
    }
   ],
   "source": [
    "# Delete monitoring schedules\n",
    "nutriscore_model_quality_monitor.delete_monitoring_schedule()\n",
    "data_quality_monitor.delete_monitoring_schedule()\n",
    "predictor.delete_endpoint()"
   ]
  }
 ],
 "metadata": {
  "kernelspec": {
   "display_name": "Python 3 (ipykernel)",
   "language": "python",
   "name": "python3"
  },
  "language_info": {
   "codemirror_mode": {
    "name": "ipython",
    "version": 3
   },
   "file_extension": ".py",
   "mimetype": "text/x-python",
   "name": "python",
   "nbconvert_exporter": "python",
   "pygments_lexer": "ipython3",
   "version": "3.12.9"
  }
 },
 "nbformat": 4,
 "nbformat_minor": 5
}
