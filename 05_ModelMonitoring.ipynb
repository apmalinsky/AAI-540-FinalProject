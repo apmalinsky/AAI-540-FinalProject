{
 "cells": [
  {
   "cell_type": "markdown",
   "id": "be811758-fd68-48a0-87f7-4dd9ca15ac4e",
   "metadata": {},
   "source": [
    "# Model Monitoring"
   ]
  },
  {
   "cell_type": "code",
   "execution_count": 1,
   "id": "8c68ebf1-3c8e-4241-8692-5a620239fcf9",
   "metadata": {
    "execution": {
     "iopub.execute_input": "2025-10-17T20:37:37.317487Z",
     "iopub.status.busy": "2025-10-17T20:37:37.317211Z",
     "iopub.status.idle": "2025-10-17T20:37:39.682740Z",
     "shell.execute_reply": "2025-10-17T20:37:39.681908Z",
     "shell.execute_reply.started": "2025-10-17T20:37:37.317464Z"
    }
   },
   "outputs": [
    {
     "name": "stdout",
     "output_type": "stream",
     "text": [
      "sagemaker.config INFO - Not applying SDK defaults from location: /etc/xdg/sagemaker/config.yaml\n",
      "sagemaker.config INFO - Not applying SDK defaults from location: /home/sagemaker-user/.config/sagemaker/config.yaml\n"
     ]
    }
   ],
   "source": [
    "# Import libraries\n",
    "from datetime import datetime, timedelta, timezone\n",
    "import json\n",
    "import os\n",
    "import re\n",
    "import boto3\n",
    "import uuid\n",
    "import time\n",
    "from threading import Thread\n",
    "import pandas as pd\n",
    "from sagemaker import get_execution_role, session, Session, image_uris\n",
    "from sagemaker.s3 import S3Downloader, S3Uploader\n",
    "from sagemaker.processing import ProcessingJob\n",
    "from sagemaker.serializers import CSVSerializer\n",
    "from sagemaker.model import Model\n",
    "from sagemaker.model_monitor import DataCaptureConfig\n",
    "from sagemaker.predictor import Predictor\n",
    "from time import gmtime, strftime, sleep\n",
    "from sagemaker.model_monitor import ModelQualityMonitor\n",
    "from sagemaker.model_monitor import EndpointInput\n",
    "from sagemaker.model_monitor.dataset_format import DatasetFormat\n",
    "from sagemaker.model_monitor import CronExpressionGenerator\n",
    "from tqdm.notebook import tqdm\n",
    "from sagemaker.model_monitor import DefaultModelMonitor"
   ]
  },
  {
   "cell_type": "code",
   "execution_count": 2,
   "id": "9a643350-f928-47a8-b26d-ce993826fb44",
   "metadata": {
    "execution": {
     "iopub.execute_input": "2025-10-17T20:37:41.451284Z",
     "iopub.status.busy": "2025-10-17T20:37:41.450891Z",
     "iopub.status.idle": "2025-10-17T20:37:41.528461Z",
     "shell.execute_reply": "2025-10-17T20:37:41.527537Z",
     "shell.execute_reply.started": "2025-10-17T20:37:41.451248Z"
    }
   },
   "outputs": [],
   "source": [
    "# Create CloudWatch client\n",
    "cw_client = boto3.Session().client(\"cloudwatch\")\n",
    "namespace = \"aws/sagemaker/Endpoints/model-metrics\""
   ]
  },
  {
   "cell_type": "code",
   "execution_count": 3,
   "id": "32a85b82-b396-4fe4-bbcf-3206672121b3",
   "metadata": {
    "execution": {
     "iopub.execute_input": "2025-10-17T20:37:42.491086Z",
     "iopub.status.busy": "2025-10-17T20:37:42.490826Z",
     "iopub.status.idle": "2025-10-17T20:37:43.079544Z",
     "shell.execute_reply": "2025-10-17T20:37:43.078722Z",
     "shell.execute_reply.started": "2025-10-17T20:37:42.491065Z"
    }
   },
   "outputs": [
    {
     "name": "stdout",
     "output_type": "stream",
     "text": [
      "Bucket: sagemaker-us-east-1-654654380268\n",
      "Stored 'ground_truth_upload_path' (str)\n",
      "Capture path: s3://sagemaker-us-east-1-654654380268/sagemaker/FoodLens-ModelQualityMonitor-2025-10-17-20-37-43/datacapture\n",
      "Ground truth path: s3://sagemaker-us-east-1-654654380268/sagemaker/FoodLens-ModelQualityMonitor-2025-10-17-20-37-43/ground_truth_data/2025-10-17-20-37-43\n",
      "Report path: s3://sagemaker-us-east-1-654654380268/sagemaker/FoodLens-ModelQualityMonitor-2025-10-17-20-37-43/reports\n"
     ]
    }
   ],
   "source": [
    "# Setup boto and sagemaker session\n",
    "sagemaker_session = Session()\n",
    "role = get_execution_role()\n",
    "region = sagemaker_session.boto_region_name\n",
    "\n",
    "# Setup S3 bucket\n",
    "bucket = sagemaker_session.default_bucket()\n",
    "print(\"Bucket:\", bucket)\n",
    "prefix = f\"sagemaker/FoodLens-ModelQualityMonitor-{datetime.now():%Y-%m-%d-%H-%M-%S}\"\n",
    "\n",
    "# S3 prefixes\n",
    "data_capture_prefix = f\"{prefix}/datacapture\"\n",
    "s3_capture_upload_path = f\"s3://{bucket}/{data_capture_prefix}\"\n",
    "\n",
    "ground_truth_upload_path = (\n",
    "    f\"s3://{bucket}/{prefix}/ground_truth_data/{datetime.now():%Y-%m-%d-%H-%M-%S}\"\n",
    ")\n",
    "%store ground_truth_upload_path\n",
    "\n",
    "reports_prefix = f\"{prefix}/reports\"\n",
    "s3_report_path = f\"s3://{bucket}/{reports_prefix}\"\n",
    "\n",
    "print(f\"Capture path: {s3_capture_upload_path}\")\n",
    "print(f\"Ground truth path: {ground_truth_upload_path}\")\n",
    "print(f\"Report path: {s3_report_path}\")"
   ]
  },
  {
   "cell_type": "markdown",
   "id": "d9ae329f-4cb4-4868-9de6-6730d47a40ff",
   "metadata": {},
   "source": [
    "## Deploy Pre-Trained Model to Live Endpoint"
   ]
  },
  {
   "cell_type": "code",
   "execution_count": 4,
   "id": "983824bd-f86f-46b5-a9e2-bf155eeead03",
   "metadata": {
    "execution": {
     "iopub.execute_input": "2025-10-17T20:37:45.046419Z",
     "iopub.status.busy": "2025-10-17T20:37:45.046060Z",
     "iopub.status.idle": "2025-10-17T20:37:45.331943Z",
     "shell.execute_reply": "2025-10-17T20:37:45.330705Z",
     "shell.execute_reply.started": "2025-10-17T20:37:45.046390Z"
    }
   },
   "outputs": [],
   "source": [
    "# Initialize the sagemaker client\n",
    "sagemaker_client = boto3.client(\"sagemaker\")\n",
    "\n",
    "# Specify model\n",
    "image_uri = image_uris.retrieve(framework=\"xgboost\", region=region, version=\"1.7-1\")\n",
    "instance_type = 'ml.m5.xlarge'\n",
    "# model_name = 'nutrition-score-xgb-2025-10-17-13-03-05' # get from notebook 04\n",
    "%store -r model_name\n",
    "response = sagemaker_client.describe_model(ModelName=model_name)\n",
    "model_url = response['PrimaryContainer']['ModelDataUrl']\n",
    "model = Model(image_uri=image_uri, model_data=model_url, role=role, sagemaker_session=sagemaker_session)"
   ]
  },
  {
   "cell_type": "code",
   "execution_count": 5,
   "id": "2e9c518b-6006-4725-b4c5-b52e89a670ee",
   "metadata": {
    "execution": {
     "iopub.execute_input": "2025-10-17T20:37:47.785572Z",
     "iopub.status.busy": "2025-10-17T20:37:47.785291Z",
     "iopub.status.idle": "2025-10-17T20:41:19.948775Z",
     "shell.execute_reply": "2025-10-17T20:41:19.948065Z",
     "shell.execute_reply.started": "2025-10-17T20:37:47.785550Z"
    }
   },
   "outputs": [
    {
     "name": "stdout",
     "output_type": "stream",
     "text": [
      "Stored 'endpoint_name' (str)\n",
      "EndpointName:  xgb-nutriscore-monitor-2025-10-17-20-37-47\n",
      "Deploying endpoint....\n",
      "------!\n",
      "Endpoint 'xgb-nutriscore-monitor-2025-10-17-20-37-47' in Service.\n"
     ]
    }
   ],
   "source": [
    "endpoint_name = f\"xgb-nutriscore-monitor-{datetime.now():%Y-%m-%d-%H-%M-%S}\"\n",
    "%store endpoint_name\n",
    "print(\"EndpointName: \", endpoint_name)\n",
    "\n",
    "# Enable data capture\n",
    "data_capture_config = DataCaptureConfig(\n",
    "    enable_capture=True, sampling_percentage=100, destination_s3_uri=s3_capture_upload_path\n",
    ")\n",
    "\n",
    "# Deploy the model and wait for it to be in service\n",
    "print(\"Deploying endpoint....\")\n",
    "model.deploy(\n",
    "    initial_instance_count=1,\n",
    "    instance_type=instance_type,\n",
    "    endpoint_name=endpoint_name,\n",
    "    data_capture_config=data_capture_config,\n",
    ")\n",
    "\n",
    "print(f\"\\nEndpoint '{endpoint_name}' in Service.\")"
   ]
  },
  {
   "cell_type": "code",
   "execution_count": 7,
   "id": "7e2b84a6-7d74-497a-b687-cc2e4c57d92c",
   "metadata": {
    "execution": {
     "iopub.execute_input": "2025-10-17T20:41:32.855447Z",
     "iopub.status.busy": "2025-10-17T20:41:32.855184Z",
     "iopub.status.idle": "2025-10-17T20:41:32.859058Z",
     "shell.execute_reply": "2025-10-17T20:41:32.858205Z",
     "shell.execute_reply.started": "2025-10-17T20:41:32.855428Z"
    }
   },
   "outputs": [],
   "source": [
    "# Create predictor object\n",
    "predictor = Predictor(\n",
    "    endpoint_name=endpoint_name, \n",
    "    sagemaker_session=sagemaker_session, \n",
    "    serializer=CSVSerializer()\n",
    ")"
   ]
  },
  {
   "cell_type": "markdown",
   "id": "2002d11a-3fc1-4ce3-9221-4fd487ac60b4",
   "metadata": {},
   "source": [
    "## Setup Infrastructure Monitoring"
   ]
  },
  {
   "cell_type": "code",
   "execution_count": 8,
   "id": "33fd9809-5b93-45ba-9bfd-4c1d934f94ff",
   "metadata": {
    "execution": {
     "iopub.execute_input": "2025-10-17T20:41:34.475706Z",
     "iopub.status.busy": "2025-10-17T20:41:34.475427Z",
     "iopub.status.idle": "2025-10-17T20:41:34.621589Z",
     "shell.execute_reply": "2025-10-17T20:41:34.620814Z",
     "shell.execute_reply.started": "2025-10-17T20:41:34.475686Z"
    }
   },
   "outputs": [
    {
     "name": "stdout",
     "output_type": "stream",
     "text": [
      "Successfully created alarm: NUTRISCORE_MODEL_LATENCY_HIGH\n"
     ]
    }
   ],
   "source": [
    "# Create a CloudWatch alarm for model latency\n",
    "alarm_name = \"NUTRISCORE_MODEL_LATENCY_HIGH\"\n",
    "alarm_desc = \"Trigger an alarm when the average model latency exceeds 300ms.\"\n",
    "infrastructure_metric_name = 'ModelLatency'\n",
    "cw_infrastructure_dimensions = [\n",
    "    {\"Name\": \"Endpoint\", \"Value\": endpoint_name},\n",
    "    {\"Name\": \"MonitoringSchedule\", \"Value\": 'AllTraffic'},\n",
    "]\n",
    "\n",
    "# Create the alarm\n",
    "cw_client.put_metric_alarm(\n",
    "    AlarmName=alarm_name,\n",
    "    AlarmDescription=alarm_desc,\n",
    "    ActionsEnabled=False,  # Change to True if you want notifications\n",
    "    MetricName=infrastructure_metric_name,\n",
    "    Namespace=\"AWS/SageMaker\",\n",
    "    Statistic=\"Average\",\n",
    "    Dimensions=cw_infrastructure_dimensions,\n",
    "    Period=300,  # check every 5 minutes\n",
    "    EvaluationPeriods=1,\n",
    "    Threshold=300.0,  # 300 milliseconds threshold\n",
    "    ComparisonOperator=\"GreaterThanThreshold\",\n",
    "    TreatMissingData=\"missing\",\n",
    ")\n",
    "\n",
    "print(\"Successfully created alarm: NUTRISCORE_MODEL_LATENCY_HIGH\")"
   ]
  },
  {
   "cell_type": "code",
   "execution_count": 9,
   "id": "df2891d9-83b9-4960-830b-332ce7de6c3c",
   "metadata": {
    "execution": {
     "iopub.execute_input": "2025-10-17T20:41:36.571885Z",
     "iopub.status.busy": "2025-10-17T20:41:36.571595Z",
     "iopub.status.idle": "2025-10-17T20:41:36.674302Z",
     "shell.execute_reply": "2025-10-17T20:41:36.673456Z",
     "shell.execute_reply.started": "2025-10-17T20:41:36.571846Z"
    }
   },
   "outputs": [
    {
     "name": "stdout",
     "output_type": "stream",
     "text": [
      "Successfully created alarm: NUTRISCORE_MODEL_5XX_ERRORS_HIGH\n"
     ]
    }
   ],
   "source": [
    "# Alarm for 5xx Server Errors\n",
    "cw_client.put_metric_alarm(\n",
    "    AlarmName=\"NUTRISCORE_MODEL_5XX_ERRORS_HIGH\",\n",
    "    AlarmDescription=\"Trigger an alarm when any 5xx server-side error occurs.\",\n",
    "    ActionsEnabled=False,\n",
    "    MetricName=\"Invocation5XXErrors\",\n",
    "    Namespace=\"AWS/SageMaker\",\n",
    "    Statistic=\"Sum\",\n",
    "    Dimensions=cw_infrastructure_dimensions,\n",
    "    Period=300,  # 5 minutes\n",
    "    EvaluationPeriods=1,\n",
    "    Threshold=0, # Alarm if even one error (Sum > 0) occurs\n",
    "    ComparisonOperator=\"GreaterThanThreshold\",\n",
    "    TreatMissingData=\"notBreaching\",\n",
    ")\n",
    "print(\"Successfully created alarm: NUTRISCORE_MODEL_5XX_ERRORS_HIGH\")"
   ]
  },
  {
   "cell_type": "code",
   "execution_count": 10,
   "id": "ebabbade-7f5f-4199-9289-247a7bbbf2e7",
   "metadata": {
    "execution": {
     "iopub.execute_input": "2025-10-17T20:41:38.310494Z",
     "iopub.status.busy": "2025-10-17T20:41:38.310225Z",
     "iopub.status.idle": "2025-10-17T20:41:38.404448Z",
     "shell.execute_reply": "2025-10-17T20:41:38.403618Z",
     "shell.execute_reply.started": "2025-10-17T20:41:38.310474Z"
    }
   },
   "outputs": [
    {
     "name": "stdout",
     "output_type": "stream",
     "text": [
      "Successfully created alarm: NUTRISCORE_MODEL_CPU_HIGH\n"
     ]
    }
   ],
   "source": [
    "# Alarm for High CPU Utilization\n",
    "cw_client.put_metric_alarm(\n",
    "    AlarmName=\"NUTRISCORE_MODEL_CPU_HIGH\",\n",
    "    AlarmDescription=\"Trigger an alarm when average CPU utilization exceeds 80%.\",\n",
    "    ActionsEnabled=False,\n",
    "    MetricName=\"CPUUtilization\",\n",
    "    Namespace=\"AWS/SageMaker\",\n",
    "    Statistic=\"Average\",\n",
    "    Dimensions=cw_infrastructure_dimensions,\n",
    "    Period=300,  # 5 minutes\n",
    "    EvaluationPeriods=1,\n",
    "    Threshold=80.0, # 80 percent\n",
    "    ComparisonOperator=\"GreaterThanThreshold\",\n",
    "    TreatMissingData=\"missing\", # 'missing' means don't alarm if there's no traffic\n",
    ")\n",
    "print(\"Successfully created alarm: NUTRISCORE_MODEL_CPU_HIGH\")"
   ]
  },
  {
   "cell_type": "markdown",
   "id": "a4336829-24bd-42c9-b6c3-698770ad4e23",
   "metadata": {},
   "source": [
    "## Setup Data Quality Monitor"
   ]
  },
  {
   "cell_type": "code",
   "execution_count": 51,
   "id": "143fb2ed-6b9f-4a99-9c3b-b46ec5f4e5f3",
   "metadata": {
    "execution": {
     "iopub.execute_input": "2025-10-17T23:15:15.361836Z",
     "iopub.status.busy": "2025-10-17T23:15:15.361558Z",
     "iopub.status.idle": "2025-10-17T23:20:18.028018Z",
     "shell.execute_reply": "2025-10-17T23:20:18.027249Z",
     "shell.execute_reply.started": "2025-10-17T23:15:15.361813Z"
    }
   },
   "outputs": [
    {
     "name": "stderr",
     "output_type": "stream",
     "text": [
      "INFO:sagemaker.image_uris:Ignoring unnecessary instance type: None.\n",
      "INFO:sagemaker:Creating processing-job with name nutriscore-data-quality-baseline-job-2025-10-17-23-15-15\n"
     ]
    },
    {
     "name": "stdout",
     "output_type": "stream",
     "text": [
      "Starting Data Quality baseline suggestion job...\n",
      "...........................................................!\n",
      "Data Quality baseline job complete.\n"
     ]
    }
   ],
   "source": [
    "# Build baseline from scaled training data\n",
    "# From Notebook 04, train data with headers\n",
    "train_s3_path = f's3://{bucket}/nutriscore-prediction-xgboost/train/train_scaled_headers_features_only.csv'\n",
    "\n",
    "# The S3 path where the data quality reports will be stored\n",
    "data_quality_report_path = f\"s3://{bucket}/nutriscore-prediction-xgboost/data-quality-reports\"\n",
    "\n",
    "# Create a Data Quality Monitor object\n",
    "data_quality_monitor = DefaultModelMonitor(\n",
    "    role=role,\n",
    "    instance_count=1,\n",
    "    instance_type=instance_type,\n",
    "    volume_size_in_gb=20,\n",
    "    max_runtime_in_seconds=3600,\n",
    "    sagemaker_session=sagemaker_session,\n",
    ")\n",
    "\n",
    "data_quality_baseline_job_name = f\"nutriscore-data-quality-baseline-job-{datetime.now():%Y-%m-%d-%H-%M-%S}\"\n",
    "\n",
    "print(\"Starting Data Quality baseline suggestion job...\")\n",
    "# The baseline job runs on the training data\n",
    "data_quality_monitor.suggest_baseline(\n",
    "    baseline_dataset=train_s3_path,\n",
    "    dataset_format=DatasetFormat.csv(header=True),\n",
    "    job_name=data_quality_baseline_job_name,\n",
    "    output_s3_uri=data_quality_report_path,\n",
    "    wait=True,\n",
    "    logs=False,\n",
    ")\n",
    "print(\"\\nData Quality baseline job complete.\")"
   ]
  },
  {
   "cell_type": "code",
   "execution_count": 52,
   "id": "1d620fe7-0fef-44d3-90c8-c53bf02c4e25",
   "metadata": {
    "execution": {
     "iopub.execute_input": "2025-10-17T23:21:08.395639Z",
     "iopub.status.busy": "2025-10-17T23:21:08.395369Z",
     "iopub.status.idle": "2025-10-17T23:21:08.474161Z",
     "shell.execute_reply": "2025-10-17T23:21:08.473485Z",
     "shell.execute_reply.started": "2025-10-17T23:21:08.395618Z"
    }
   },
   "outputs": [
    {
     "data": {
      "text/plain": [
       "{'ProcessingInputs': [{'InputName': 'baseline_dataset_input',\n",
       "   'AppManaged': False,\n",
       "   'S3Input': {'S3Uri': 's3://sagemaker-us-east-1-654654380268/nutriscore-prediction-xgboost/train/train_scaled_headers_features_only.csv',\n",
       "    'LocalPath': '/opt/ml/processing/input/baseline_dataset_input',\n",
       "    'S3DataType': 'S3Prefix',\n",
       "    'S3InputMode': 'File',\n",
       "    'S3DataDistributionType': 'FullyReplicated',\n",
       "    'S3CompressionType': 'None'}}],\n",
       " 'ProcessingOutputConfig': {'Outputs': [{'OutputName': 'monitoring_output',\n",
       "    'S3Output': {'S3Uri': 's3://sagemaker-us-east-1-654654380268/nutriscore-prediction-xgboost/data-quality-reports',\n",
       "     'LocalPath': '/opt/ml/processing/output',\n",
       "     'S3UploadMode': 'EndOfJob'},\n",
       "    'AppManaged': False}]},\n",
       " 'ProcessingJobName': 'nutriscore-data-quality-baseline-job-2025-10-17-23-15-15',\n",
       " 'ProcessingResources': {'ClusterConfig': {'InstanceCount': 1,\n",
       "   'InstanceType': 'ml.m5.xlarge',\n",
       "   'VolumeSizeInGB': 20}},\n",
       " 'StoppingCondition': {'MaxRuntimeInSeconds': 3600},\n",
       " 'AppSpecification': {'ImageUri': '156813124566.dkr.ecr.us-east-1.amazonaws.com/sagemaker-model-monitor-analyzer'},\n",
       " 'Environment': {'dataset_format': '{\"csv\": {\"header\": true, \"output_columns_position\": \"START\"}}',\n",
       "  'dataset_source': '/opt/ml/processing/input/baseline_dataset_input',\n",
       "  'output_path': '/opt/ml/processing/output',\n",
       "  'publish_cloudwatch_metrics': 'Disabled'},\n",
       " 'RoleArn': 'arn:aws:iam::654654380268:role/LabRole',\n",
       " 'ProcessingJobArn': 'arn:aws:sagemaker:us-east-1:654654380268:processing-job/nutriscore-data-quality-baseline-job-2025-10-17-23-15-15',\n",
       " 'ProcessingJobStatus': 'Completed',\n",
       " 'ExitMessage': 'Completed: Job completed successfully with no violations.',\n",
       " 'ProcessingEndTime': datetime.datetime(2025, 10, 17, 23, 19, 1, tzinfo=tzlocal()),\n",
       " 'ProcessingStartTime': datetime.datetime(2025, 10, 17, 23, 15, 52, tzinfo=tzlocal()),\n",
       " 'LastModifiedTime': datetime.datetime(2025, 10, 17, 23, 20, 17, 560000, tzinfo=tzlocal()),\n",
       " 'CreationTime': datetime.datetime(2025, 10, 17, 23, 15, 15, 532000, tzinfo=tzlocal()),\n",
       " 'ResponseMetadata': {'RequestId': 'b66dbbed-1c11-4ffd-aa85-1255ae5fa0be',\n",
       "  'HTTPStatusCode': 200,\n",
       "  'HTTPHeaders': {'x-amzn-requestid': 'b66dbbed-1c11-4ffd-aa85-1255ae5fa0be',\n",
       "   'content-type': 'application/x-amz-json-1.1',\n",
       "   'content-length': '1867',\n",
       "   'date': 'Fri, 17 Oct 2025 23:21:08 GMT'},\n",
       "  'RetryAttempts': 0}}"
      ]
     },
     "execution_count": 52,
     "metadata": {},
     "output_type": "execute_result"
    }
   ],
   "source": [
    "data_quality_monitor.latest_baselining_job.describe()"
   ]
  },
  {
   "cell_type": "code",
   "execution_count": 53,
   "id": "e4723823-1cd3-419f-bfc9-3e4066c1ff32",
   "metadata": {
    "execution": {
     "iopub.execute_input": "2025-10-17T23:21:22.295840Z",
     "iopub.status.busy": "2025-10-17T23:21:22.295551Z",
     "iopub.status.idle": "2025-10-17T23:21:23.565398Z",
     "shell.execute_reply": "2025-10-17T23:21:23.564603Z",
     "shell.execute_reply.started": "2025-10-17T23:21:22.295819Z"
    }
   },
   "outputs": [
    {
     "name": "stdout",
     "output_type": "stream",
     "text": [
      "Creating Data Quality monitoring schedule: nutriscore-data-quality-schedule-2025-10-17-23-21-22\n"
     ]
    },
    {
     "name": "stderr",
     "output_type": "stream",
     "text": [
      "INFO:sagemaker.model_monitor.model_monitoring:Creating Monitoring Schedule with name: nutriscore-data-quality-schedule-2025-10-17-23-21-22\n"
     ]
    },
    {
     "name": "stdout",
     "output_type": "stream",
     "text": [
      "Data Quality monitoring schedule created.\n"
     ]
    }
   ],
   "source": [
    "# Create data quality monitoring schedule\n",
    "data_quality_schedule_name = f\"nutriscore-data-quality-schedule-{datetime.now():%Y-%m-%d-%H-%M-%S}\"\n",
    "\n",
    "print(f\"Creating Data Quality monitoring schedule: {data_quality_schedule_name}\")\n",
    "data_quality_monitor.create_monitoring_schedule(\n",
    "    monitor_schedule_name=data_quality_schedule_name,\n",
    "    endpoint_input=predictor.endpoint_name,\n",
    "    output_s3_uri=data_quality_report_path,\n",
    "    statistics=data_quality_monitor.latest_baselining_job.baseline_statistics(),\n",
    "    constraints=data_quality_monitor.latest_baselining_job.suggested_constraints(),\n",
    "    schedule_cron_expression=CronExpressionGenerator.hourly(),\n",
    "    enable_cloudwatch_metrics=True,\n",
    ")\n",
    "print(\"Data Quality monitoring schedule created.\")"
   ]
  },
  {
   "cell_type": "code",
   "execution_count": 54,
   "id": "f4fdda7a-5938-462a-9f7b-6d76055eb691",
   "metadata": {
    "execution": {
     "iopub.execute_input": "2025-10-17T23:21:33.976194Z",
     "iopub.status.busy": "2025-10-17T23:21:33.975902Z",
     "iopub.status.idle": "2025-10-17T23:21:34.091748Z",
     "shell.execute_reply": "2025-10-17T23:21:34.091005Z",
     "shell.execute_reply.started": "2025-10-17T23:21:33.976173Z"
    }
   },
   "outputs": [
    {
     "name": "stdout",
     "output_type": "stream",
     "text": [
      "Successfully created alarm: NUTRISCORE_DATA_DRIFT_VIOLATIONS\n"
     ]
    }
   ],
   "source": [
    "# Create alarm for data quality drift\n",
    "alarm_name = \"NUTRISCORE_DATA_DRIFT_VIOLATIONS\"\n",
    "alarm_desc = \"Trigger an alarm when any feature's statistics drift from the baseline.\"\n",
    "\n",
    "# Define the dimensions for the Data Quality monitor\n",
    "cw_data_quality_dimensions = [\n",
    "    {\"Name\": \"EndpointName\", \"Value\": endpoint_name},\n",
    "    {\"Name\": \"MonitoringSchedule\", \"Value\": data_quality_schedule_name},\n",
    "]\n",
    "\n",
    "# Create the alarm\n",
    "cw_client.put_metric_alarm(\n",
    "    AlarmName=alarm_name,\n",
    "    AlarmDescription=alarm_desc,\n",
    "    ActionsEnabled=False,\n",
    "    MetricName=\"feature_baseline_drift_total_violations\",\n",
    "    Namespace=\"aws/sagemaker/Endpoints/data-metrics\",\n",
    "    Statistic=\"Sum\",\n",
    "    Dimensions=cw_data_quality_dimensions,\n",
    "    Period=3600,  # hourly\n",
    "    EvaluationPeriods=1,\n",
    "    Threshold=0, # Alarm if the total number of violations is greater than 0\n",
    "    ComparisonOperator=\"GreaterThanThreshold\",\n",
    "    TreatMissingData=\"missing\", # Don't alarm if the job hasn't run yet\n",
    ")\n",
    "print(f\"Successfully created alarm: {alarm_name}\")"
   ]
  },
  {
   "cell_type": "markdown",
   "id": "eb091d13-a75d-462a-ba94-1fd5ffe2b34e",
   "metadata": {},
   "source": [
    "## Generate Baseline for Model Quality Performance"
   ]
  },
  {
   "cell_type": "code",
   "execution_count": 15,
   "id": "6a2a8e3d-56db-4ca7-9e11-8d96808ba245",
   "metadata": {
    "execution": {
     "iopub.execute_input": "2025-10-17T20:46:44.214554Z",
     "iopub.status.busy": "2025-10-17T20:46:44.214215Z",
     "iopub.status.idle": "2025-10-17T20:46:46.416444Z",
     "shell.execute_reply": "2025-10-17T20:46:46.415272Z",
     "shell.execute_reply.started": "2025-10-17T20:46:44.214534Z"
    }
   },
   "outputs": [
    {
     "name": "stdout",
     "output_type": "stream",
     "text": [
      "download: s3://sagemaker-us-east-1-654654380268/nutriscore-prediction-xgboost/validation/val_scaled.csv to ./val_scaled.csv\n"
     ]
    }
   ],
   "source": [
    "# Get validation dataset\n",
    "# get from previous notebook\n",
    "val_s3_path = f's3://{bucket}/nutriscore-prediction-xgboost/validation/val_scaled.csv' \n",
    "!aws s3 cp {val_s3_path} ./\n",
    "val_local_path = './val_scaled.csv'"
   ]
  },
  {
   "cell_type": "code",
   "execution_count": 16,
   "id": "61590459-9dee-4340-8f81-22bdfb76d1c6",
   "metadata": {
    "execution": {
     "iopub.execute_input": "2025-10-17T20:46:46.417973Z",
     "iopub.status.busy": "2025-10-17T20:46:46.417620Z",
     "iopub.status.idle": "2025-10-17T20:51:02.475579Z",
     "shell.execute_reply": "2025-10-17T20:51:02.474713Z",
     "shell.execute_reply.started": "2025-10-17T20:46:46.417936Z"
    }
   },
   "outputs": [
    {
     "name": "stdout",
     "output_type": "stream",
     "text": [
      "...................................................................................................................................................................................................................................................................................................................................................................................................................................................................................................................\n",
      "Done!\n"
     ]
    }
   ],
   "source": [
    "# Your validation dataset should h first column\n",
    "limit = 500 # number of samples for baseline\n",
    "baseline_file_name = 'val_pred_baseline.csv'\n",
    "i = 0\n",
    "\n",
    "# Create a new file for your baseline data\n",
    "with open(f\"{baseline_file_name}\", \"w\") as baseline_file:\n",
    "    # Header for a regression baseline\n",
    "    baseline_file.write(\"prediction,label\\n\")\n",
    "    \n",
    "    # Open validation data file\n",
    "    with open(val_local_path, \"r\") as f:\n",
    "        for row in f:\n",
    "            # With true score in first column\n",
    "            (label, input_cols) = row.split(\",\", 1)\n",
    "            \n",
    "            # Get the predicted score from the endpoint\n",
    "            predicted_score = float(predictor.predict(input_cols))\n",
    "            \n",
    "            # Write the predicted score and the true label to the baseline file\n",
    "            baseline_file.write(f\"{predicted_score},{label.strip()}\\n\")\n",
    "            \n",
    "            i += 1\n",
    "            if i >= limit:\n",
    "                break\n",
    "            print(\".\", end=\"\", flush=True)\n",
    "            sleep(0.5)\n",
    "print()\n",
    "print(\"Done!\")"
   ]
  },
  {
   "cell_type": "code",
   "execution_count": 17,
   "id": "e41a2dc9-b709-43c4-95fb-9de38a027707",
   "metadata": {
    "execution": {
     "iopub.execute_input": "2025-10-17T20:51:02.482055Z",
     "iopub.status.busy": "2025-10-17T20:51:02.480869Z",
     "iopub.status.idle": "2025-10-17T20:51:02.755187Z",
     "shell.execute_reply": "2025-10-17T20:51:02.750169Z",
     "shell.execute_reply.started": "2025-10-17T20:51:02.482016Z"
    }
   },
   "outputs": [
    {
     "name": "stdout",
     "output_type": "stream",
     "text": [
      "prediction,label\n",
      "8.639720916748047,9\n",
      "-3.4511897563934326,-4\n",
      "25.869300842285156,24\n",
      "0.5103368759155273,-2\n",
      "8.74711799621582,8\n",
      "25.327014923095703,25\n",
      "29.67618751525879,29\n",
      "0.3975553512573242,0\n",
      "9.496760368347168,10\n"
     ]
    }
   ],
   "source": [
    "# Examine predictions from model\n",
    "!head {baseline_file_name}"
   ]
  },
  {
   "cell_type": "code",
   "execution_count": 18,
   "id": "d8b2ac21-01e0-443a-bbc3-dd35b9667fb4",
   "metadata": {
    "execution": {
     "iopub.execute_input": "2025-10-17T20:51:02.757957Z",
     "iopub.status.busy": "2025-10-17T20:51:02.756978Z",
     "iopub.status.idle": "2025-10-17T20:51:02.765391Z",
     "shell.execute_reply": "2025-10-17T20:51:02.764021Z",
     "shell.execute_reply.started": "2025-10-17T20:51:02.757848Z"
    }
   },
   "outputs": [
    {
     "name": "stdout",
     "output_type": "stream",
     "text": [
      "Baseline data uri: s3://sagemaker-us-east-1-654654380268/sagemaker/FoodLens-ModelQualityMonitor-2025-10-17-20-37-43/baselining/data\n",
      "Baseline results uri: s3://sagemaker-us-east-1-654654380268/sagemaker/FoodLens-ModelQualityMonitor-2025-10-17-20-37-43/baselining/results\n"
     ]
    }
   ],
   "source": [
    "# Upload predictions as baseline dataset\n",
    "baseline_prefix = prefix + \"/baselining\"\n",
    "baseline_data_prefix = baseline_prefix + \"/data\"\n",
    "baseline_results_prefix = baseline_prefix + \"/results\"\n",
    "\n",
    "baseline_data_uri = f\"s3://{bucket}/{baseline_data_prefix}\"\n",
    "baseline_results_uri = f\"s3://{bucket}/{baseline_results_prefix}\"\n",
    "print(f\"Baseline data uri: {baseline_data_uri}\")\n",
    "print(f\"Baseline results uri: {baseline_results_uri}\")"
   ]
  },
  {
   "cell_type": "code",
   "execution_count": 19,
   "id": "52022c01-d2e3-427c-8e31-955a7b676252",
   "metadata": {
    "execution": {
     "iopub.execute_input": "2025-10-17T20:51:02.766925Z",
     "iopub.status.busy": "2025-10-17T20:51:02.766447Z",
     "iopub.status.idle": "2025-10-17T20:51:02.943278Z",
     "shell.execute_reply": "2025-10-17T20:51:02.941322Z",
     "shell.execute_reply.started": "2025-10-17T20:51:02.766891Z"
    }
   },
   "outputs": [
    {
     "data": {
      "text/plain": [
       "'s3://sagemaker-us-east-1-654654380268/sagemaker/FoodLens-ModelQualityMonitor-2025-10-17-20-37-43/baselining/data/val_pred_baseline.csv'"
      ]
     },
     "execution_count": 19,
     "metadata": {},
     "output_type": "execute_result"
    }
   ],
   "source": [
    "# Upload baseline dataset\n",
    "baseline_dataset_uri = S3Uploader.upload(f\"{baseline_file_name}\", baseline_data_uri)\n",
    "baseline_dataset_uri"
   ]
  },
  {
   "cell_type": "code",
   "execution_count": 20,
   "id": "555c1d46-fdd3-4f8b-a338-7d31c795d4a9",
   "metadata": {
    "execution": {
     "iopub.execute_input": "2025-10-17T20:51:02.950352Z",
     "iopub.status.busy": "2025-10-17T20:51:02.949945Z",
     "iopub.status.idle": "2025-10-17T20:51:03.034174Z",
     "shell.execute_reply": "2025-10-17T20:51:03.033095Z",
     "shell.execute_reply.started": "2025-10-17T20:51:02.950328Z"
    }
   },
   "outputs": [
    {
     "name": "stderr",
     "output_type": "stream",
     "text": [
      "INFO:sagemaker.image_uris:Ignoring unnecessary instance type: None.\n"
     ]
    }
   ],
   "source": [
    "# Create the model quality monitoring object\n",
    "nutriscore_model_quality_monitor = ModelQualityMonitor(\n",
    "    role=role,\n",
    "    instance_count=1,\n",
    "    instance_type=instance_type,\n",
    "    volume_size_in_gb=20,\n",
    "    max_runtime_in_seconds=1800,\n",
    "    sagemaker_session=sagemaker_session,\n",
    ")"
   ]
  },
  {
   "cell_type": "code",
   "execution_count": 21,
   "id": "26394e30-5b24-4af8-8e05-501729294b1b",
   "metadata": {
    "execution": {
     "iopub.execute_input": "2025-10-17T20:51:03.037991Z",
     "iopub.status.busy": "2025-10-17T20:51:03.037503Z",
     "iopub.status.idle": "2025-10-17T20:51:03.064368Z",
     "shell.execute_reply": "2025-10-17T20:51:03.063194Z",
     "shell.execute_reply.started": "2025-10-17T20:51:03.037956Z"
    }
   },
   "outputs": [],
   "source": [
    "# Name of the model quality baseline job\n",
    "baseline_job_name = f\"xgb-nutriscore-model-baseline-job-{datetime.now():%Y-%m-%d-%H%M}\""
   ]
  },
  {
   "cell_type": "code",
   "execution_count": 22,
   "id": "ba02d748-8efa-4355-a366-cca8a6a2638a",
   "metadata": {
    "execution": {
     "iopub.execute_input": "2025-10-17T20:51:03.066299Z",
     "iopub.status.busy": "2025-10-17T20:51:03.065550Z",
     "iopub.status.idle": "2025-10-17T20:56:05.461745Z",
     "shell.execute_reply": "2025-10-17T20:56:05.446504Z",
     "shell.execute_reply.started": "2025-10-17T20:51:03.066267Z"
    }
   },
   "outputs": [
    {
     "name": "stderr",
     "output_type": "stream",
     "text": [
      "INFO:sagemaker:Creating processing-job with name xgb-nutriscore-model-baseline-job-2025-10-17-2051\n"
     ]
    },
    {
     "name": "stdout",
     "output_type": "stream",
     "text": [
      "...........................................................!"
     ]
    }
   ],
   "source": [
    "# Execute the baseline suggestion job\n",
    "job = nutriscore_model_quality_monitor.suggest_baseline(\n",
    "    job_name=baseline_job_name,\n",
    "    baseline_dataset=baseline_dataset_uri,\n",
    "    dataset_format=DatasetFormat.csv(header=True),\n",
    "    output_s3_uri=baseline_results_uri,\n",
    "    problem_type=\"Regression\",\n",
    "    inference_attribute=\"prediction\", # model output\n",
    "    ground_truth_attribute=\"label\", # true score\n",
    ")\n",
    "job.wait(logs=False)"
   ]
  },
  {
   "cell_type": "markdown",
   "id": "201254ab-fe46-469d-9a92-0202d9c55b1a",
   "metadata": {},
   "source": [
    "## Explore Results of Baseline Job"
   ]
  },
  {
   "cell_type": "code",
   "execution_count": 23,
   "id": "ffe61539-f02f-4a28-91a0-e13c4d7b70b0",
   "metadata": {
    "execution": {
     "iopub.execute_input": "2025-10-17T20:56:05.462958Z",
     "iopub.status.busy": "2025-10-17T20:56:05.462710Z",
     "iopub.status.idle": "2025-10-17T20:56:05.486864Z",
     "shell.execute_reply": "2025-10-17T20:56:05.479240Z",
     "shell.execute_reply.started": "2025-10-17T20:56:05.462937Z"
    }
   },
   "outputs": [],
   "source": [
    "baseline_job = nutriscore_model_quality_monitor.latest_baselining_job"
   ]
  },
  {
   "cell_type": "code",
   "execution_count": 24,
   "id": "c6698f6a-498f-4d90-807a-ba2ac4c44280",
   "metadata": {
    "execution": {
     "iopub.execute_input": "2025-10-17T20:56:05.497089Z",
     "iopub.status.busy": "2025-10-17T20:56:05.487795Z",
     "iopub.status.idle": "2025-10-17T20:56:05.653047Z",
     "shell.execute_reply": "2025-10-17T20:56:05.649078Z",
     "shell.execute_reply.started": "2025-10-17T20:56:05.497021Z"
    }
   },
   "outputs": [
    {
     "data": {
      "text/html": [
       "<div>\n",
       "<style scoped>\n",
       "    .dataframe tbody tr th:only-of-type {\n",
       "        vertical-align: middle;\n",
       "    }\n",
       "\n",
       "    .dataframe tbody tr th {\n",
       "        vertical-align: top;\n",
       "    }\n",
       "\n",
       "    .dataframe thead th {\n",
       "        text-align: right;\n",
       "    }\n",
       "</style>\n",
       "<table border=\"1\" class=\"dataframe\">\n",
       "  <thead>\n",
       "    <tr style=\"text-align: right;\">\n",
       "      <th></th>\n",
       "      <th>0</th>\n",
       "    </tr>\n",
       "  </thead>\n",
       "  <tbody>\n",
       "    <tr>\n",
       "      <th>mae.value</th>\n",
       "      <td>1.065293</td>\n",
       "    </tr>\n",
       "    <tr>\n",
       "      <th>mae.standard_deviation</th>\n",
       "      <td>0.027784</td>\n",
       "    </tr>\n",
       "    <tr>\n",
       "      <th>mse.value</th>\n",
       "      <td>3.308454</td>\n",
       "    </tr>\n",
       "    <tr>\n",
       "      <th>mse.standard_deviation</th>\n",
       "      <td>0.324367</td>\n",
       "    </tr>\n",
       "    <tr>\n",
       "      <th>rmse.value</th>\n",
       "      <td>1.818916</td>\n",
       "    </tr>\n",
       "    <tr>\n",
       "      <th>rmse.standard_deviation</th>\n",
       "      <td>0.090458</td>\n",
       "    </tr>\n",
       "    <tr>\n",
       "      <th>r2.value</th>\n",
       "      <td>0.967103</td>\n",
       "    </tr>\n",
       "    <tr>\n",
       "      <th>r2.standard_deviation</th>\n",
       "      <td>0.003188</td>\n",
       "    </tr>\n",
       "  </tbody>\n",
       "</table>\n",
       "</div>"
      ],
      "text/plain": [
       "                                0\n",
       "mae.value                1.065293\n",
       "mae.standard_deviation   0.027784\n",
       "mse.value                3.308454\n",
       "mse.standard_deviation   0.324367\n",
       "rmse.value               1.818916\n",
       "rmse.standard_deviation  0.090458\n",
       "r2.value                 0.967103\n",
       "r2.standard_deviation    0.003188"
      ]
     },
     "execution_count": 24,
     "metadata": {},
     "output_type": "execute_result"
    }
   ],
   "source": [
    "# View metrics\n",
    "binary_metrics = baseline_job.baseline_statistics().body_dict[\"regression_metrics\"]\n",
    "pd.json_normalize(binary_metrics).T"
   ]
  },
  {
   "cell_type": "code",
   "execution_count": 25,
   "id": "0d1158ee-28f8-46e8-919d-a6f75b98c625",
   "metadata": {
    "execution": {
     "iopub.execute_input": "2025-10-17T20:56:05.654362Z",
     "iopub.status.busy": "2025-10-17T20:56:05.653931Z",
     "iopub.status.idle": "2025-10-17T20:56:05.756936Z",
     "shell.execute_reply": "2025-10-17T20:56:05.751468Z",
     "shell.execute_reply.started": "2025-10-17T20:56:05.654328Z"
    }
   },
   "outputs": [
    {
     "data": {
      "text/html": [
       "<div>\n",
       "<style scoped>\n",
       "    .dataframe tbody tr th:only-of-type {\n",
       "        vertical-align: middle;\n",
       "    }\n",
       "\n",
       "    .dataframe tbody tr th {\n",
       "        vertical-align: top;\n",
       "    }\n",
       "\n",
       "    .dataframe thead th {\n",
       "        text-align: right;\n",
       "    }\n",
       "</style>\n",
       "<table border=\"1\" class=\"dataframe\">\n",
       "  <thead>\n",
       "    <tr style=\"text-align: right;\">\n",
       "      <th></th>\n",
       "      <th>threshold</th>\n",
       "      <th>comparison_operator</th>\n",
       "    </tr>\n",
       "  </thead>\n",
       "  <tbody>\n",
       "    <tr>\n",
       "      <th>mae</th>\n",
       "      <td>1.065293</td>\n",
       "      <td>GreaterThanThreshold</td>\n",
       "    </tr>\n",
       "    <tr>\n",
       "      <th>mse</th>\n",
       "      <td>3.308454</td>\n",
       "      <td>GreaterThanThreshold</td>\n",
       "    </tr>\n",
       "    <tr>\n",
       "      <th>rmse</th>\n",
       "      <td>1.818916</td>\n",
       "      <td>GreaterThanThreshold</td>\n",
       "    </tr>\n",
       "    <tr>\n",
       "      <th>r2</th>\n",
       "      <td>0.967103</td>\n",
       "      <td>LessThanThreshold</td>\n",
       "    </tr>\n",
       "  </tbody>\n",
       "</table>\n",
       "</div>"
      ],
      "text/plain": [
       "     threshold   comparison_operator\n",
       "mae   1.065293  GreaterThanThreshold\n",
       "mse   3.308454  GreaterThanThreshold\n",
       "rmse  1.818916  GreaterThanThreshold\n",
       "r2    0.967103     LessThanThreshold"
      ]
     },
     "execution_count": 25,
     "metadata": {},
     "output_type": "execute_result"
    }
   ],
   "source": [
    "# View constraints\n",
    "regression_constraints = pd.DataFrame(baseline_job.suggested_constraints().body_dict[\"regression_constraints\"]).T\n",
    "regression_constraints"
   ]
  },
  {
   "cell_type": "markdown",
   "id": "86bd5cd0-9aec-482b-b5f8-67ca0cfa5886",
   "metadata": {},
   "source": [
    "## Create Model Quality Monitoring Schedule"
   ]
  },
  {
   "cell_type": "code",
   "execution_count": 26,
   "id": "468d5e6a-9ea5-4371-b6a7-bd3c275e7bea",
   "metadata": {
    "execution": {
     "iopub.execute_input": "2025-10-17T20:56:05.758795Z",
     "iopub.status.busy": "2025-10-17T20:56:05.758429Z",
     "iopub.status.idle": "2025-10-17T20:56:05.763979Z",
     "shell.execute_reply": "2025-10-17T20:56:05.763056Z",
     "shell.execute_reply.started": "2025-10-17T20:56:05.758763Z"
    }
   },
   "outputs": [],
   "source": [
    "# Set monitor schedule name\n",
    "nutriscore_model_quality_monitor_schedule_name = f\"nutriscore-quality-monitoring-schedule-{datetime.now():%Y-%m-%d-%H-%M-%S}\""
   ]
  },
  {
   "cell_type": "code",
   "execution_count": 27,
   "id": "5fb5a663-d3d7-45ef-aad3-850b97e8ad81",
   "metadata": {
    "execution": {
     "iopub.execute_input": "2025-10-17T20:56:05.766428Z",
     "iopub.status.busy": "2025-10-17T20:56:05.765708Z",
     "iopub.status.idle": "2025-10-17T20:56:05.773161Z",
     "shell.execute_reply": "2025-10-17T20:56:05.771295Z",
     "shell.execute_reply.started": "2025-10-17T20:56:05.766295Z"
    }
   },
   "outputs": [],
   "source": [
    "# EndpointInput for regression\n",
    "endpointInput = EndpointInput(\n",
    "    endpoint_name=predictor.endpoint_name,\n",
    "    inference_attribute=\"0\", # first column contains inference\n",
    "    destination=\"/opt/ml/processing/input_data\",\n",
    ")"
   ]
  },
  {
   "cell_type": "code",
   "execution_count": 28,
   "id": "15d113b9-f341-4629-acc9-6275555ca8ef",
   "metadata": {
    "execution": {
     "iopub.execute_input": "2025-10-17T20:56:05.775222Z",
     "iopub.status.busy": "2025-10-17T20:56:05.774241Z",
     "iopub.status.idle": "2025-10-17T20:56:06.704545Z",
     "shell.execute_reply": "2025-10-17T20:56:06.703367Z",
     "shell.execute_reply.started": "2025-10-17T20:56:05.775187Z"
    }
   },
   "outputs": [
    {
     "name": "stderr",
     "output_type": "stream",
     "text": [
      "INFO:sagemaker.model_monitor.model_monitoring:Creating Monitoring Schedule with name: nutriscore-quality-monitoring-schedule-2025-10-17-20-56-05\n"
     ]
    }
   ],
   "source": [
    "# Create the monitoring schedule to execute every hour\n",
    "response = nutriscore_model_quality_monitor.create_monitoring_schedule(\n",
    "    monitor_schedule_name=nutriscore_model_quality_monitor_schedule_name,\n",
    "    endpoint_input=endpointInput,\n",
    "    output_s3_uri=baseline_results_uri,\n",
    "    problem_type=\"Regression\",\n",
    "    ground_truth_input=ground_truth_upload_path,\n",
    "    constraints=baseline_job.suggested_constraints(),\n",
    "    schedule_cron_expression=CronExpressionGenerator.hourly(),\n",
    "    enable_cloudwatch_metrics=True,\n",
    ")"
   ]
  },
  {
   "cell_type": "code",
   "execution_count": 29,
   "id": "fd702de8-579f-49f1-9f25-16559b905cf9",
   "metadata": {
    "execution": {
     "iopub.execute_input": "2025-10-17T20:56:06.705784Z",
     "iopub.status.busy": "2025-10-17T20:56:06.705439Z",
     "iopub.status.idle": "2025-10-17T20:56:06.797877Z",
     "shell.execute_reply": "2025-10-17T20:56:06.796504Z",
     "shell.execute_reply.started": "2025-10-17T20:56:06.705753Z"
    }
   },
   "outputs": [
    {
     "data": {
      "text/plain": [
       "{'MonitoringScheduleArn': 'arn:aws:sagemaker:us-east-1:654654380268:monitoring-schedule/nutriscore-quality-monitoring-schedule-2025-10-17-20-56-05',\n",
       " 'MonitoringScheduleName': 'nutriscore-quality-monitoring-schedule-2025-10-17-20-56-05',\n",
       " 'MonitoringScheduleStatus': 'Pending',\n",
       " 'MonitoringType': 'ModelQuality',\n",
       " 'CreationTime': datetime.datetime(2025, 10, 17, 20, 56, 6, 525000, tzinfo=tzlocal()),\n",
       " 'LastModifiedTime': datetime.datetime(2025, 10, 17, 20, 56, 6, 604000, tzinfo=tzlocal()),\n",
       " 'MonitoringScheduleConfig': {'ScheduleConfig': {'ScheduleExpression': 'cron(0 * ? * * *)'},\n",
       "  'MonitoringJobDefinitionName': 'model-quality-job-definition-2025-10-17-20-56-05-802',\n",
       "  'MonitoringType': 'ModelQuality'},\n",
       " 'EndpointName': 'xgb-nutriscore-monitor-2025-10-17-20-37-47',\n",
       " 'ResponseMetadata': {'RequestId': '791bae99-c518-4869-834e-0b970b43a9ee',\n",
       "  'HTTPStatusCode': 200,\n",
       "  'HTTPHeaders': {'x-amzn-requestid': '791bae99-c518-4869-834e-0b970b43a9ee',\n",
       "   'strict-transport-security': 'max-age=47304000; includeSubDomains',\n",
       "   'x-frame-options': 'DENY',\n",
       "   'content-security-policy': \"frame-ancestors 'none'\",\n",
       "   'cache-control': 'no-cache, no-store, must-revalidate',\n",
       "   'x-content-type-options': 'nosniff',\n",
       "   'content-type': 'application/x-amz-json-1.1',\n",
       "   'content-length': '636',\n",
       "   'date': 'Fri, 17 Oct 2025 20:56:06 GMT'},\n",
       "  'RetryAttempts': 0}}"
      ]
     },
     "execution_count": 29,
     "metadata": {},
     "output_type": "execute_result"
    }
   ],
   "source": [
    "# Examine schedule on monitor\n",
    "nutriscore_model_quality_monitor.describe_schedule()"
   ]
  },
  {
   "cell_type": "markdown",
   "id": "49247b3f-a8e2-42e8-89fd-634f25afb410",
   "metadata": {},
   "source": [
    "## Setup Model Quality Alarm"
   ]
  },
  {
   "cell_type": "code",
   "execution_count": 30,
   "id": "446f0ef2-0300-4a2e-b81f-b473eddf08bd",
   "metadata": {
    "execution": {
     "iopub.execute_input": "2025-10-17T20:56:06.799684Z",
     "iopub.status.busy": "2025-10-17T20:56:06.799039Z",
     "iopub.status.idle": "2025-10-17T20:56:06.805245Z",
     "shell.execute_reply": "2025-10-17T20:56:06.804108Z",
     "shell.execute_reply.started": "2025-10-17T20:56:06.799651Z"
    }
   },
   "outputs": [
    {
     "name": "stdout",
     "output_type": "stream",
     "text": [
      "RMSE Threshold from baseline constraints: 1.8189155342515506\n",
      "RMSE Comparison Operator from baseline constraints: GreaterThanThreshold\n"
     ]
    }
   ],
   "source": [
    "# Get thresholds from baseline constraints\n",
    "rmse_threshold = regression_constraints.loc['rmse', 'threshold']\n",
    "rmse_operator = regression_constraints.loc['rmse', 'comparison_operator']\n",
    "print(f\"RMSE Threshold from baseline constraints: {rmse_threshold}\")\n",
    "print(f\"RMSE Comparison Operator from baseline constraints: {rmse_operator}\")"
   ]
  },
  {
   "cell_type": "code",
   "execution_count": 31,
   "id": "45690066-ddda-4be2-a852-92245903862b",
   "metadata": {
    "execution": {
     "iopub.execute_input": "2025-10-17T20:56:06.806501Z",
     "iopub.status.busy": "2025-10-17T20:56:06.805957Z",
     "iopub.status.idle": "2025-10-17T20:56:06.941494Z",
     "shell.execute_reply": "2025-10-17T20:56:06.938210Z",
     "shell.execute_reply.started": "2025-10-17T20:56:06.806470Z"
    }
   },
   "outputs": [
    {
     "name": "stdout",
     "output_type": "stream",
     "text": [
      "Creating CloudWatch alarm for RMSE...\n",
      "Successfully created alarm: NUTRISCORE_MODEL_RMSE_DRIFT\n"
     ]
    }
   ],
   "source": [
    "# Create a CloudWatch Alarm for a regression metrics\n",
    "print(\"Creating CloudWatch alarm for RMSE...\")\n",
    "alarm_name = \"NUTRISCORE_MODEL_RMSE_DRIFT\"\n",
    "alarm_desc = \"Trigger an alarm when the model's RMSE exceeds the baseline threshold.\"\n",
    "cw_quality_dimensions = [\n",
    "    {\"Name\": \"Endpoint\", \"Value\": endpoint_name},\n",
    "    {\"Name\": \"MonitoringSchedule\", \"Value\": nutriscore_model_quality_monitor_schedule_name},\n",
    "]\n",
    "\n",
    "cw_client.put_metric_alarm(\n",
    "    AlarmName=alarm_name,\n",
    "    AlarmDescription=alarm_desc,\n",
    "    ActionsEnabled=False,\n",
    "    MetricName=\"rmse\",\n",
    "    Namespace=namespace,\n",
    "    Statistic=\"Average\",\n",
    "    Dimensions=cw_quality_dimensions,\n",
    "    Period=3600, # Checks every hour\n",
    "    EvaluationPeriods=1,\n",
    "    DatapointsToAlarm=1,\n",
    "    Threshold=rmse_threshold,\n",
    "    ComparisonOperator=rmse_operator,\n",
    "    TreatMissingData=\"breaching\",\n",
    ")\n",
    "print(f\"Successfully created alarm: {alarm_name}\")"
   ]
  },
  {
   "cell_type": "markdown",
   "id": "735fe903-7e57-4a9d-b869-174ef5257f17",
   "metadata": {},
   "source": [
    "## Continuous Model Monitoring Pre-Processed Prod Data Simulation"
   ]
  },
  {
   "cell_type": "code",
   "execution_count": 32,
   "id": "c9ca1646-2bc2-4962-88c2-fadc5d077613",
   "metadata": {
    "execution": {
     "iopub.execute_input": "2025-10-17T20:56:06.943423Z",
     "iopub.status.busy": "2025-10-17T20:56:06.942737Z",
     "iopub.status.idle": "2025-10-17T20:56:08.424610Z",
     "shell.execute_reply": "2025-10-17T20:56:08.423426Z",
     "shell.execute_reply.started": "2025-10-17T20:56:06.943390Z"
    }
   },
   "outputs": [
    {
     "name": "stdout",
     "output_type": "stream",
     "text": [
      "Stored 'prod_scaled_path' (str)\n"
     ]
    }
   ],
   "source": [
    "# Get some samples from scaled production data split\n",
    "# From notebook 04\n",
    "prod_scaled_path = f's3://{bucket}/nutriscore-prediction-xgboost/prod/prod_scaled.csv'\n",
    "%store prod_scaled_path\n",
    "prod_scaled_df = pd.read_csv(prod_scaled_path)"
   ]
  },
  {
   "cell_type": "code",
   "execution_count": null,
   "id": "1e5ee1cb-0e3c-45c8-abda-d82564795e12",
   "metadata": {},
   "outputs": [],
   "source": [
    "# # Start the simulation in a background thread\n",
    "# simulation_thread = Thread(\n",
    "#     target=simulate_live_traffic_for_duration,\n",
    "#     args=(\n",
    "#         endpoint_name,\n",
    "#         sagemaker_session,\n",
    "#         prod_scaled_df,\n",
    "#         ground_truth_upload_path,\n",
    "#         4 # hours duration for simulation\n",
    "#     )\n",
    "# )\n",
    "# simulation_thread.start()"
   ]
  },
  {
   "cell_type": "code",
   "execution_count": 39,
   "id": "695f160a-6195-453b-a8ba-e4efbb46e8d7",
   "metadata": {
    "execution": {
     "iopub.execute_input": "2025-10-17T22:29:48.197337Z",
     "iopub.status.busy": "2025-10-17T22:29:48.197066Z",
     "iopub.status.idle": "2025-10-17T22:29:48.334093Z",
     "shell.execute_reply": "2025-10-17T22:29:48.333382Z",
     "shell.execute_reply.started": "2025-10-17T22:29:48.197317Z"
    }
   },
   "outputs": [
    {
     "data": {
      "text/plain": [
       "[<sagemaker.model_monitor.model_monitoring.MonitoringExecution at 0x7f69662e8800>]"
      ]
     },
     "execution_count": 39,
     "metadata": {},
     "output_type": "execute_result"
    }
   ],
   "source": [
    "# Initially there will be no executions since the first execution happens at the top of the hour\n",
    "executions = nutriscore_model_quality_monitor.list_executions()\n",
    "executions"
   ]
  },
  {
   "cell_type": "code",
   "execution_count": 40,
   "id": "52f5b616-622c-40b1-a7d2-02c81a78dbc5",
   "metadata": {
    "execution": {
     "iopub.execute_input": "2025-10-17T22:29:53.206151Z",
     "iopub.status.busy": "2025-10-17T22:29:53.205869Z",
     "iopub.status.idle": "2025-10-17T22:29:53.282339Z",
     "shell.execute_reply": "2025-10-17T22:29:53.281641Z",
     "shell.execute_reply.started": "2025-10-17T22:29:53.206129Z"
    }
   },
   "outputs": [
    {
     "name": "stdout",
     "output_type": "stream",
     "text": [
      "Waiting for first execution\n",
      "Execution found!\n"
     ]
    }
   ],
   "source": [
    "# Wait for the first execution of the monitoring_schedule\n",
    "print(\"Waiting for first execution\", end=\"\")\n",
    "while True:\n",
    "    execution = nutriscore_model_quality_monitor.describe_schedule().get(\n",
    "        \"LastMonitoringExecutionSummary\"\n",
    "    )\n",
    "    if execution:\n",
    "        break\n",
    "    print(\".\", end=\"\", flush=True)\n",
    "    sleep(10)\n",
    "print()\n",
    "print(\"Execution found!\")"
   ]
  },
  {
   "cell_type": "code",
   "execution_count": 41,
   "id": "5c44c2ee-5780-47bb-b2a5-31535aef3349",
   "metadata": {
    "execution": {
     "iopub.execute_input": "2025-10-17T22:30:32.990349Z",
     "iopub.status.busy": "2025-10-17T22:30:32.990071Z",
     "iopub.status.idle": "2025-10-17T22:30:33.074756Z",
     "shell.execute_reply": "2025-10-17T22:30:33.073954Z",
     "shell.execute_reply.started": "2025-10-17T22:30:32.990327Z"
    }
   },
   "outputs": [
    {
     "data": {
      "text/plain": [
       "{'ProcessingInputs': [{'InputName': 'constraints',\n",
       "   'AppManaged': False,\n",
       "   'S3Input': {'S3Uri': 's3://sagemaker-us-east-1-654654380268/sagemaker/FoodLens-ModelQualityMonitor-2025-10-17-20-37-43/baselining/results/constraints.json',\n",
       "    'LocalPath': '/opt/ml/processing/baseline/constraints',\n",
       "    'S3DataType': 'S3Prefix',\n",
       "    'S3InputMode': 'File',\n",
       "    'S3DataDistributionType': 'FullyReplicated'}},\n",
       "  {'InputName': 'endpoint_input_1',\n",
       "   'AppManaged': False,\n",
       "   'S3Input': {'S3Uri': 's3://sagemaker-us-east-1-654654380268/sagemaker/FoodLens-ModelQualityMonitor-2025-10-17-20-37-43/baselining/results/merge/xgb-nutriscore-monitor-2025-10-17-20-37-47/AllTraffic/2025/10/17/21',\n",
       "    'LocalPath': '/opt/ml/processing/input_data/xgb-nutriscore-monitor-2025-10-17-20-37-47/AllTraffic/2025/10/17/21',\n",
       "    'S3DataType': 'S3Prefix',\n",
       "    'S3InputMode': 'File',\n",
       "    'S3DataDistributionType': 'FullyReplicated',\n",
       "    'S3CompressionType': 'None'}}],\n",
       " 'ProcessingOutputConfig': {'Outputs': [{'OutputName': 'result',\n",
       "    'S3Output': {'S3Uri': 's3://sagemaker-us-east-1-654654380268/sagemaker/FoodLens-ModelQualityMonitor-2025-10-17-20-37-43/baselining/results/xgb-nutriscore-monitor-2025-10-17-20-37-47/nutriscore-quality-monitoring-schedule-2025-10-17-20-56-05/2025/10/17/22',\n",
       "     'LocalPath': '/opt/ml/processing/output',\n",
       "     'S3UploadMode': 'Continuous'},\n",
       "    'AppManaged': False}]},\n",
       " 'ProcessingJobName': 'model-quality-monitoring-202510172200-bd6a1b3aec9018a4661a4c1c',\n",
       " 'ProcessingResources': {'ClusterConfig': {'InstanceCount': 1,\n",
       "   'InstanceType': 'ml.m5.xlarge',\n",
       "   'VolumeSizeInGB': 20}},\n",
       " 'StoppingCondition': {'MaxRuntimeInSeconds': 1800},\n",
       " 'AppSpecification': {'ImageUri': '156813124566.dkr.ecr.us-east-1.amazonaws.com/sagemaker-model-monitor-analyzer'},\n",
       " 'Environment': {'analysis_type': 'MODEL_QUALITY',\n",
       "  'baseline_constraints': '/opt/ml/processing/baseline/constraints/constraints.json',\n",
       "  'dataset_format': '{\"sagemakerMergeJson\":{\"captureIndexNames\":[\"endpointOutput\"],\"originalDatasetFormat\":null}}',\n",
       "  'dataset_source': '/opt/ml/processing/input_data',\n",
       "  'end_time': '2025-10-17T22:00:00Z',\n",
       "  'inference_attribute': '0',\n",
       "  'metric_time': '2025-10-17T21:00:00Z',\n",
       "  'monitoring_input_type': 'ENDPOINT_INPUT',\n",
       "  'output_path': '/opt/ml/processing/output',\n",
       "  'problem_type': 'Regression',\n",
       "  'publish_cloudwatch_metrics': 'Enabled',\n",
       "  'sagemaker_endpoint_name': 'xgb-nutriscore-monitor-2025-10-17-20-37-47',\n",
       "  'sagemaker_monitoring_schedule_name': 'nutriscore-quality-monitoring-schedule-2025-10-17-20-56-05',\n",
       "  'start_time': '2025-10-17T21:00:00Z'},\n",
       " 'RoleArn': 'arn:aws:iam::654654380268:role/LabRole',\n",
       " 'ProcessingJobArn': 'arn:aws:sagemaker:us-east-1:654654380268:processing-job/model-quality-monitoring-202510172200-bd6a1b3aec9018a4661a4c1c',\n",
       " 'ProcessingJobStatus': 'Completed',\n",
       " 'ExitMessage': 'Completed: Job completed successfully with no violations.',\n",
       " 'ProcessingEndTime': datetime.datetime(2025, 10, 17, 22, 25, 52, tzinfo=tzlocal()),\n",
       " 'ProcessingStartTime': datetime.datetime(2025, 10, 17, 22, 22, 40, tzinfo=tzlocal()),\n",
       " 'LastModifiedTime': datetime.datetime(2025, 10, 17, 22, 27, 3, 116000, tzinfo=tzlocal()),\n",
       " 'CreationTime': datetime.datetime(2025, 10, 17, 22, 22, 1, 593000, tzinfo=tzlocal()),\n",
       " 'MonitoringScheduleArn': 'arn:aws:sagemaker:us-east-1:654654380268:monitoring-schedule/nutriscore-quality-monitoring-schedule-2025-10-17-20-56-05',\n",
       " 'ResponseMetadata': {'RequestId': 'd27cbba5-f0f3-4d33-bab1-4b6a338a5b94',\n",
       "  'HTTPStatusCode': 200,\n",
       "  'HTTPHeaders': {'x-amzn-requestid': 'd27cbba5-f0f3-4d33-bab1-4b6a338a5b94',\n",
       "   'content-type': 'application/x-amz-json-1.1',\n",
       "   'content-length': '2951',\n",
       "   'date': 'Fri, 17 Oct 2025 22:30:33 GMT'},\n",
       "  'RetryAttempts': 0}}"
      ]
     },
     "execution_count": 41,
     "metadata": {},
     "output_type": "execute_result"
    }
   ],
   "source": [
    "# View execution details\n",
    "latest_execution = executions[0]\n",
    "latest_execution.describe()"
   ]
  },
  {
   "cell_type": "code",
   "execution_count": null,
   "id": "ef051c3a-f114-407b-ac04-46846fe97568",
   "metadata": {},
   "outputs": [],
   "source": [
    "# View execution status\n",
    "status = execution[\"MonitoringExecutionStatus\"]\n",
    "\n",
    "while status in [\"Pending\", \"InProgress\"]:\n",
    "    print(\"Waiting for execution to finish\", end=\"\")\n",
    "    latest_execution.wait(logs=False)\n",
    "    latest_job = latest_execution.describe()\n",
    "    print()\n",
    "    print(f\"{latest_job['ProcessingJobName']} job status:\", latest_job[\"ProcessingJobStatus\"])\n",
    "    print(\n",
    "        f\"{latest_job['ProcessingJobName']} job exit message, if any:\",\n",
    "        latest_job.get(\"ExitMessage\"),\n",
    "    )\n",
    "    print(\n",
    "        f\"{latest_job['ProcessingJobName']} job failure reason, if any:\",\n",
    "        latest_job.get(\"FailureReason\"),\n",
    "    )\n",
    "    sleep(\n",
    "        30\n",
    "    )  # model quality executions consist of two Processing jobs, wait for second job to start\n",
    "    latest_execution = nutriscore_model_quality_monitor.list_executions()[-1]\n",
    "    execution = nutriscore_model_quality_monitor.describe_schedule()[\"LastMonitoringExecutionSummary\"]\n",
    "    status = execution[\"MonitoringExecutionStatus\"]\n",
    "\n",
    "print(\"Execution status is:\", status)\n",
    "\n",
    "if status != \"Completed\":\n",
    "    print(execution)\n",
    "    print(\n",
    "        \"====STOP==== \\n No completed executions to inspect further. Please wait till an execution completes or investigate previously reported failures.\"\n",
    "    )"
   ]
  },
  {
   "cell_type": "markdown",
   "id": "25f8a1f6-45f2-4449-8b2d-e75a34762054",
   "metadata": {},
   "source": [
    "## View Model and Data Reports"
   ]
  },
  {
   "cell_type": "code",
   "execution_count": 58,
   "id": "c9960ca8-cc7b-4f67-a579-e35807c5bf34",
   "metadata": {
    "execution": {
     "iopub.execute_input": "2025-10-17T23:39:52.446227Z",
     "iopub.status.busy": "2025-10-17T23:39:52.445930Z",
     "iopub.status.idle": "2025-10-17T23:39:52.680471Z",
     "shell.execute_reply": "2025-10-17T23:39:52.679762Z",
     "shell.execute_reply.started": "2025-10-17T23:39:52.446205Z"
    }
   },
   "outputs": [
    {
     "name": "stdout",
     "output_type": "stream",
     "text": [
      "Model Report Uri: s3://sagemaker-us-east-1-654654380268/sagemaker/FoodLens-ModelQualityMonitor-2025-10-17-20-37-43/baselining/results/xgb-nutriscore-monitor-2025-10-17-20-37-47/nutriscore-quality-monitoring-schedule-2025-10-17-20-56-05/2025/10/17/22\n"
     ]
    },
    {
     "data": {
      "text/html": [
       "<div>\n",
       "<style scoped>\n",
       "    .dataframe tbody tr th:only-of-type {\n",
       "        vertical-align: middle;\n",
       "    }\n",
       "\n",
       "    .dataframe tbody tr th {\n",
       "        vertical-align: top;\n",
       "    }\n",
       "\n",
       "    .dataframe thead th {\n",
       "        text-align: right;\n",
       "    }\n",
       "</style>\n",
       "<table border=\"1\" class=\"dataframe\">\n",
       "  <thead>\n",
       "    <tr style=\"text-align: right;\">\n",
       "      <th></th>\n",
       "    </tr>\n",
       "  </thead>\n",
       "  <tbody>\n",
       "  </tbody>\n",
       "</table>\n",
       "</div>"
      ],
      "text/plain": [
       "Empty DataFrame\n",
       "Columns: []\n",
       "Index: []"
      ]
     },
     "execution_count": 58,
     "metadata": {},
     "output_type": "execute_result"
    }
   ],
   "source": [
    "# View model report\n",
    "model_quality_latest_execution = nutriscore_model_quality_monitor.list_executions()[0]\n",
    "report_uri = model_quality_latest_execution.describe()[\"ProcessingOutputConfig\"][\"Outputs\"][0][\"S3Output\"][\n",
    "    \"S3Uri\"\n",
    "]\n",
    "print(\"Model Report Uri:\", report_uri)\n",
    "\n",
    "# View violations generated by monitoring schedule\n",
    "pd.options.display.max_colwidth = None\n",
    "violations = model_quality_latest_execution.constraint_violations().body_dict[\"violations\"]\n",
    "violations_df = pd.json_normalize(violations)\n",
    "violations_df.head(10)"
   ]
  },
  {
   "cell_type": "code",
   "execution_count": 50,
   "id": "f205c4d5-43b5-4e53-aa1e-39c7ffa13316",
   "metadata": {
    "execution": {
     "iopub.execute_input": "2025-10-17T23:10:52.466235Z",
     "iopub.status.busy": "2025-10-17T23:10:52.465938Z",
     "iopub.status.idle": "2025-10-17T23:10:52.835958Z",
     "shell.execute_reply": "2025-10-17T23:10:52.835282Z",
     "shell.execute_reply.started": "2025-10-17T23:10:52.466212Z"
    }
   },
   "outputs": [
    {
     "name": "stdout",
     "output_type": "stream",
     "text": [
      "Data Report Uri: s3://sagemaker-us-east-1-654654380268/nutriscore-prediction-xgboost/data-quality-reports/xgb-nutriscore-monitor-2025-10-17-20-37-47/nutriscore-data-quality-schedule-2025-10-17-20-46-42/2025/10/17/21\n"
     ]
    },
    {
     "data": {
      "text/html": [
       "<div>\n",
       "<style scoped>\n",
       "    .dataframe tbody tr th:only-of-type {\n",
       "        vertical-align: middle;\n",
       "    }\n",
       "\n",
       "    .dataframe tbody tr th {\n",
       "        vertical-align: top;\n",
       "    }\n",
       "\n",
       "    .dataframe thead th {\n",
       "        text-align: right;\n",
       "    }\n",
       "</style>\n",
       "<table border=\"1\" class=\"dataframe\">\n",
       "  <thead>\n",
       "    <tr style=\"text-align: right;\">\n",
       "      <th></th>\n",
       "      <th>feature_name</th>\n",
       "      <th>constraint_check_type</th>\n",
       "      <th>description</th>\n",
       "    </tr>\n",
       "  </thead>\n",
       "  <tbody>\n",
       "    <tr>\n",
       "      <th>0</th>\n",
       "      <td>nutriscore_score</td>\n",
       "      <td>data_type_check</td>\n",
       "      <td>Data type match requirement is not met. Expected data type: Integral, Expected match: 100.0%. Observed: Only 0.0% of data is Integral.</td>\n",
       "    </tr>\n",
       "  </tbody>\n",
       "</table>\n",
       "</div>"
      ],
      "text/plain": [
       "       feature_name constraint_check_type  \\\n",
       "0  nutriscore_score       data_type_check   \n",
       "\n",
       "                                                                                                                              description  \n",
       "0  Data type match requirement is not met. Expected data type: Integral, Expected match: 100.0%. Observed: Only 0.0% of data is Integral.  "
      ]
     },
     "execution_count": 50,
     "metadata": {},
     "output_type": "execute_result"
    }
   ],
   "source": [
    "# View data quality report\n",
    "data_quality_latest_execution = data_quality_monitor.list_executions()[0]\n",
    "data_report_uri = data_quality_latest_execution.describe()[\"ProcessingOutputConfig\"][\"Outputs\"][0][\"S3Output\"][\"S3Uri\"]\n",
    "print(\"Data Report Uri:\", data_report_uri)\n",
    "\n",
    "# View violations generated by monitoring schedule\n",
    "pd.options.display.max_colwidth = None\n",
    "violations = data_quality_latest_execution.constraint_violations().body_dict[\"violations\"]\n",
    "violations_df = pd.json_normalize(violations)\n",
    "violations_df.head(10)"
   ]
  },
  {
   "cell_type": "code",
   "execution_count": 59,
   "id": "ff621550-0d6f-4a2e-92fd-bd0cfde2be85",
   "metadata": {
    "execution": {
     "iopub.execute_input": "2025-10-18T00:15:04.413439Z",
     "iopub.status.busy": "2025-10-18T00:15:04.413000Z",
     "iopub.status.idle": "2025-10-18T00:15:04.930940Z",
     "shell.execute_reply": "2025-10-18T00:15:04.929368Z",
     "shell.execute_reply.started": "2025-10-18T00:15:04.413415Z"
    }
   },
   "outputs": [
    {
     "name": "stdout",
     "output_type": "stream",
     "text": [
      "Data Report Uri: s3://sagemaker-us-east-1-654654380268/nutriscore-prediction-xgboost/data-quality-reports/xgb-nutriscore-monitor-2025-10-17-20-37-47/nutriscore-data-quality-schedule-2025-10-17-23-21-22/2025/10/18/00\n"
     ]
    },
    {
     "data": {
      "text/html": [
       "<div>\n",
       "<style scoped>\n",
       "    .dataframe tbody tr th:only-of-type {\n",
       "        vertical-align: middle;\n",
       "    }\n",
       "\n",
       "    .dataframe tbody tr th {\n",
       "        vertical-align: top;\n",
       "    }\n",
       "\n",
       "    .dataframe thead th {\n",
       "        text-align: right;\n",
       "    }\n",
       "</style>\n",
       "<table border=\"1\" class=\"dataframe\">\n",
       "  <thead>\n",
       "    <tr style=\"text-align: right;\">\n",
       "      <th></th>\n",
       "      <th>feature_name</th>\n",
       "      <th>constraint_check_type</th>\n",
       "      <th>description</th>\n",
       "    </tr>\n",
       "  </thead>\n",
       "  <tbody>\n",
       "    <tr>\n",
       "      <th>0</th>\n",
       "      <td>Extra columns</td>\n",
       "      <td>extra_column_check</td>\n",
       "      <td>There are extra columns in current dataset. Number of columns in current dataset: 23, Number of columns in baseline constraints: 22</td>\n",
       "    </tr>\n",
       "  </tbody>\n",
       "</table>\n",
       "</div>"
      ],
      "text/plain": [
       "    feature_name constraint_check_type  \\\n",
       "0  Extra columns    extra_column_check   \n",
       "\n",
       "                                                                                                                           description  \n",
       "0  There are extra columns in current dataset. Number of columns in current dataset: 23, Number of columns in baseline constraints: 22  "
      ]
     },
     "execution_count": 59,
     "metadata": {},
     "output_type": "execute_result"
    }
   ],
   "source": [
    "# View data quality report\n",
    "data_quality_latest_execution = data_quality_monitor.list_executions()[0]\n",
    "data_report_uri = data_quality_latest_execution.describe()[\"ProcessingOutputConfig\"][\"Outputs\"][0][\"S3Output\"][\"S3Uri\"]\n",
    "print(\"Data Report Uri:\", data_report_uri)\n",
    "\n",
    "# View violations generated by monitoring schedule\n",
    "pd.options.display.max_colwidth = None\n",
    "violations = data_quality_latest_execution.constraint_violations().body_dict[\"violations\"]\n",
    "violations_df = pd.json_normalize(violations)\n",
    "violations_df.head(10)"
   ]
  },
  {
   "cell_type": "markdown",
   "id": "22d049b2-c896-4ab9-9799-89e66fc64d8a",
   "metadata": {},
   "source": [
    "## Cleanup"
   ]
  },
  {
   "cell_type": "code",
   "execution_count": null,
   "id": "6eb476b9-1bf2-43af-b7f1-435e711fe03d",
   "metadata": {},
   "outputs": [],
   "source": [
    "# Delete monitoring schedules\n",
    "nutriscore_model_quality_monitor.delete_monitoring_schedule()\n",
    "data_quality_monitor.delete_monitoring_schedule()\n",
    "predictor.delete_endpoint()"
   ]
  }
 ],
 "metadata": {
  "kernelspec": {
   "display_name": "Python 3 (ipykernel)",
   "language": "python",
   "name": "python3"
  },
  "language_info": {
   "codemirror_mode": {
    "name": "ipython",
    "version": 3
   },
   "file_extension": ".py",
   "mimetype": "text/x-python",
   "name": "python",
   "nbconvert_exporter": "python",
   "pygments_lexer": "ipython3",
   "version": "3.12.9"
  }
 },
 "nbformat": 4,
 "nbformat_minor": 5
}
