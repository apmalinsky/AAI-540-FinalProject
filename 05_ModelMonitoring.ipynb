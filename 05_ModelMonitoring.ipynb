{
 "cells": [
  {
   "cell_type": "markdown",
   "id": "be811758-fd68-48a0-87f7-4dd9ca15ac4e",
   "metadata": {},
   "source": [
    "# Model Monitoring"
   ]
  },
  {
   "cell_type": "code",
   "execution_count": 1,
   "id": "8c68ebf1-3c8e-4241-8692-5a620239fcf9",
   "metadata": {
    "execution": {
     "iopub.execute_input": "2025-10-16T03:30:17.191039Z",
     "iopub.status.busy": "2025-10-16T03:30:17.190639Z",
     "iopub.status.idle": "2025-10-16T03:30:20.432860Z",
     "shell.execute_reply": "2025-10-16T03:30:20.432174Z",
     "shell.execute_reply.started": "2025-10-16T03:30:17.191013Z"
    }
   },
   "outputs": [
    {
     "name": "stdout",
     "output_type": "stream",
     "text": [
      "sagemaker.config INFO - Not applying SDK defaults from location: /etc/xdg/sagemaker/config.yaml\n",
      "sagemaker.config INFO - Not applying SDK defaults from location: /home/sagemaker-user/.config/sagemaker/config.yaml\n"
     ]
    }
   ],
   "source": [
    "# Import libraries\n",
    "from datetime import datetime, timedelta, timezone\n",
    "import json\n",
    "import os\n",
    "import re\n",
    "import boto3\n",
    "from threading import Thread\n",
    "import pandas as pd\n",
    "from sagemaker import get_execution_role, session, Session, image_uris\n",
    "from sagemaker.s3 import S3Downloader, S3Uploader\n",
    "from sagemaker.processing import ProcessingJob\n",
    "from sagemaker.serializers import CSVSerializer\n",
    "from sagemaker.model import Model\n",
    "from sagemaker.model_monitor import DataCaptureConfig\n",
    "from sagemaker.predictor import Predictor\n",
    "from time import gmtime, strftime, sleep\n",
    "from sagemaker.model_monitor import ModelQualityMonitor\n",
    "from sagemaker.model_monitor import EndpointInput\n",
    "from sagemaker.model_monitor.dataset_format import DatasetFormat\n",
    "from sagemaker.model_monitor import CronExpressionGenerator\n",
    "from tqdm.notebook import tqdm\n",
    "from sagemaker.model_monitor import DefaultModelMonitor"
   ]
  },
  {
   "cell_type": "code",
   "execution_count": 2,
   "id": "9a643350-f928-47a8-b26d-ce993826fb44",
   "metadata": {
    "execution": {
     "iopub.execute_input": "2025-10-16T03:30:21.620682Z",
     "iopub.status.busy": "2025-10-16T03:30:21.620343Z",
     "iopub.status.idle": "2025-10-16T03:30:21.695851Z",
     "shell.execute_reply": "2025-10-16T03:30:21.695022Z",
     "shell.execute_reply.started": "2025-10-16T03:30:21.620656Z"
    }
   },
   "outputs": [],
   "source": [
    "# Create CloudWatch client\n",
    "cw_client = boto3.Session().client(\"cloudwatch\")\n",
    "namespace = \"aws/sagemaker/Endpoints/model-metrics\""
   ]
  },
  {
   "cell_type": "code",
   "execution_count": 3,
   "id": "32a85b82-b396-4fe4-bbcf-3206672121b3",
   "metadata": {
    "execution": {
     "iopub.execute_input": "2025-10-16T03:30:24.655435Z",
     "iopub.status.busy": "2025-10-16T03:30:24.655166Z",
     "iopub.status.idle": "2025-10-16T03:30:25.460687Z",
     "shell.execute_reply": "2025-10-16T03:30:25.459938Z",
     "shell.execute_reply.started": "2025-10-16T03:30:24.655415Z"
    }
   },
   "outputs": [
    {
     "name": "stdout",
     "output_type": "stream",
     "text": [
      "Bucket: sagemaker-us-east-1-654654380268\n",
      "Capture path: s3://sagemaker-us-east-1-654654380268/sagemaker/FoodLens-ModelQualityMonitor-2025-10-16-03-30-25/datacapture\n",
      "Ground truth path: s3://sagemaker-us-east-1-654654380268/sagemaker/FoodLens-ModelQualityMonitor-2025-10-16-03-30-25/ground_truth_data/2025-10-16-03-30-25\n",
      "Report path: s3://sagemaker-us-east-1-654654380268/sagemaker/FoodLens-ModelQualityMonitor-2025-10-16-03-30-25/reports\n"
     ]
    }
   ],
   "source": [
    "# Setup boto and sagemaker session\n",
    "sagemaker_session = Session()\n",
    "role = get_execution_role()\n",
    "region = sagemaker_session.boto_region_name\n",
    "\n",
    "# Setup S3 bucket\n",
    "bucket = sagemaker_session.default_bucket()\n",
    "print(\"Bucket:\", bucket)\n",
    "prefix = f\"sagemaker/FoodLens-ModelQualityMonitor-{datetime.now():%Y-%m-%d-%H-%M-%S}\"\n",
    "\n",
    "# S3 prefixes\n",
    "data_capture_prefix = f\"{prefix}/datacapture\"\n",
    "s3_capture_upload_path = f\"s3://{bucket}/{data_capture_prefix}\"\n",
    "\n",
    "ground_truth_upload_path = (\n",
    "    f\"s3://{bucket}/{prefix}/ground_truth_data/{datetime.now():%Y-%m-%d-%H-%M-%S}\"\n",
    ")\n",
    "\n",
    "reports_prefix = f\"{prefix}/reports\"\n",
    "s3_report_path = f\"s3://{bucket}/{reports_prefix}\"\n",
    "\n",
    "print(f\"Capture path: {s3_capture_upload_path}\")\n",
    "print(f\"Ground truth path: {ground_truth_upload_path}\")\n",
    "print(f\"Report path: {s3_report_path}\")"
   ]
  },
  {
   "cell_type": "markdown",
   "id": "d9ae329f-4cb4-4868-9de6-6730d47a40ff",
   "metadata": {},
   "source": [
    "## Deploy Pre-Trained Model to Live Endpoint"
   ]
  },
  {
   "cell_type": "code",
   "execution_count": 4,
   "id": "983824bd-f86f-46b5-a9e2-bf155eeead03",
   "metadata": {
    "execution": {
     "iopub.execute_input": "2025-10-16T03:30:29.550627Z",
     "iopub.status.busy": "2025-10-16T03:30:29.550286Z",
     "iopub.status.idle": "2025-10-16T03:30:29.823774Z",
     "shell.execute_reply": "2025-10-16T03:30:29.823062Z",
     "shell.execute_reply.started": "2025-10-16T03:30:29.550604Z"
    }
   },
   "outputs": [],
   "source": [
    "# Initialize the sagemaker client\n",
    "sagemaker_client = boto3.client(\"sagemaker\")\n",
    "\n",
    "# Specify model\n",
    "image_uri = image_uris.retrieve(framework=\"xgboost\", region=region, version=\"1.7-1\")\n",
    "instance_type = 'ml.m5.xlarge'\n",
    "model_name = 'nutrition-score-xgb-2025-10-16-03-44-07' # get from notebook 04\n",
    "response = sagemaker_client.describe_model(ModelName=model_name)\n",
    "model_url = response['PrimaryContainer']['ModelDataUrl']\n",
    "model = Model(image_uri=image_uri, model_data=model_url, role=role, sagemaker_session=sagemaker_session)"
   ]
  },
  {
   "cell_type": "code",
   "execution_count": 5,
   "id": "2e9c518b-6006-4725-b4c5-b52e89a670ee",
   "metadata": {
    "execution": {
     "iopub.execute_input": "2025-10-16T03:30:33.652470Z",
     "iopub.status.busy": "2025-10-16T03:30:33.652189Z",
     "iopub.status.idle": "2025-10-16T03:34:05.944274Z",
     "shell.execute_reply": "2025-10-16T03:34:05.943536Z",
     "shell.execute_reply.started": "2025-10-16T03:30:33.652447Z"
    }
   },
   "outputs": [
    {
     "name": "stdout",
     "output_type": "stream",
     "text": [
      "EndpointName:  xgb-nutriscore-model-quality-monitor-2025-10-16-03-30-33\n",
      "Deploying endpoint....\n",
      "------!\n",
      "Endpoint 'xgb-nutriscore-model-quality-monitor-2025-10-16-03-30-33' in Service.\n"
     ]
    }
   ],
   "source": [
    "endpoint_name = f\"xgb-nutriscore-model-quality-monitor-{datetime.now():%Y-%m-%d-%H-%M-%S}\"\n",
    "print(\"EndpointName: \", endpoint_name)\n",
    "\n",
    "# Enable data capture\n",
    "data_capture_config = DataCaptureConfig(\n",
    "    enable_capture=True, sampling_percentage=100, destination_s3_uri=s3_capture_upload_path\n",
    ")\n",
    "\n",
    "# Deploy the model and wait for it to be in service\n",
    "print(\"Deploying endpoint....\")\n",
    "model.deploy(\n",
    "    initial_instance_count=1,\n",
    "    instance_type=instance_type,\n",
    "    endpoint_name=endpoint_name,\n",
    "    data_capture_config=data_capture_config,\n",
    ")\n",
    "\n",
    "print(f\"\\nEndpoint '{endpoint_name}' in Service.\")"
   ]
  },
  {
   "cell_type": "code",
   "execution_count": 6,
   "id": "7e2b84a6-7d74-497a-b687-cc2e4c57d92c",
   "metadata": {
    "execution": {
     "iopub.execute_input": "2025-10-16T03:34:08.930962Z",
     "iopub.status.busy": "2025-10-16T03:34:08.930536Z",
     "iopub.status.idle": "2025-10-16T03:34:08.934012Z",
     "shell.execute_reply": "2025-10-16T03:34:08.933301Z",
     "shell.execute_reply.started": "2025-10-16T03:34:08.930937Z"
    }
   },
   "outputs": [],
   "source": [
    "# Create predictor object\n",
    "predictor = Predictor(\n",
    "    endpoint_name=endpoint_name, \n",
    "    sagemaker_session=sagemaker_session, \n",
    "    serializer=CSVSerializer()\n",
    ")"
   ]
  },
  {
   "cell_type": "markdown",
   "id": "2002d11a-3fc1-4ce3-9221-4fd487ac60b4",
   "metadata": {},
   "source": [
    "## Setup Infrastructure Monitoring"
   ]
  },
  {
   "cell_type": "code",
   "execution_count": null,
   "id": "33fd9809-5b93-45ba-9bfd-4c1d934f94ff",
   "metadata": {},
   "outputs": [],
   "source": [
    "# Create a CloudWatch alarm for model latency\n",
    "alarm_name = \"NUTRISCORE_MODEL_LATENCY_HIGH\"\n",
    "alarm_desc = \"Trigger an alarm when the average model latency exceeds 300ms.\"\n",
    "infrastructure_metric_name = 'ModelLatency'\n",
    "cw_latency_dimensions = [\n",
    "    {\"Name\": \"Endpoint\", \"Value\": endpoint_name},\n",
    "    {\"Name\": \"MonitoringSchedule\", \"Value\": 'AllTraffic'},\n",
    "]\n",
    "\n",
    "# Create the alarm\n",
    "cw_client.put_metric_alarm(\n",
    "    AlarmName=alarm_name,\n",
    "    AlarmDescription=alarm_desc,\n",
    "    ActionsEnabled=False,  # Change to True if you want notifications\n",
    "    MetricName=infrastructure_metric_name,\n",
    "    Namespace=\"AWS/SageMaker\",\n",
    "    Statistic=\"Average\",\n",
    "    Dimensions=cw_latency_dimensions,\n",
    "    Period=300,  # check every 5 minutes\n",
    "    EvaluationPeriods=1,\n",
    "    Threshold=300.0,  # 300 milliseconds threshold\n",
    "    ComparisonOperator=\"GreaterThanThreshold\",\n",
    "    TreatMissingData=\"missing\",\n",
    ")\n",
    "\n",
    "print(f\"CloudWatch alarm '{alarm_name}' for infrastructure latency has been created.\")"
   ]
  },
  {
   "cell_type": "markdown",
   "id": "a4336829-24bd-42c9-b6c3-698770ad4e23",
   "metadata": {},
   "source": [
    "## Setup Data Quality Monitor"
   ]
  },
  {
   "cell_type": "code",
   "execution_count": 8,
   "id": "143fb2ed-6b9f-4a99-9c3b-b46ec5f4e5f3",
   "metadata": {
    "execution": {
     "iopub.execute_input": "2025-10-16T03:57:17.492012Z",
     "iopub.status.busy": "2025-10-16T03:57:17.491740Z",
     "iopub.status.idle": "2025-10-16T04:02:20.012932Z",
     "shell.execute_reply": "2025-10-16T04:02:20.012234Z",
     "shell.execute_reply.started": "2025-10-16T03:57:17.491990Z"
    }
   },
   "outputs": [
    {
     "name": "stderr",
     "output_type": "stream",
     "text": [
      "INFO:sagemaker.image_uris:Ignoring unnecessary instance type: None.\n",
      "INFO:sagemaker:Creating processing-job with name nutriscore-data-quality-baseline-job-2025-10-16-03-57-17\n"
     ]
    },
    {
     "name": "stdout",
     "output_type": "stream",
     "text": [
      "Starting Data Quality baseline suggestion job...\n",
      "...........................................................!\n",
      "Data Quality baseline job complete.\n"
     ]
    }
   ],
   "source": [
    "# Build baseline from scaled training data\n",
    "# From Notebook 04, train data with headers\n",
    "train_s3_path = f's3://{bucket}/nutriscore-prediction-xgboost/train/train_scaled_headers.csv'\n",
    "\n",
    "# The S3 path where the data quality reports will be stored\n",
    "data_quality_report_path = f\"s3://{bucket}/nutriscore-prediction-xgboost/data-quality-reports\"\n",
    "\n",
    "# Create a Data Quality Monitor object\n",
    "data_quality_monitor = DefaultModelMonitor(\n",
    "    role=role,\n",
    "    instance_count=1,\n",
    "    instance_type=instance_type,\n",
    "    volume_size_in_gb=20,\n",
    "    max_runtime_in_seconds=3600,\n",
    "    sagemaker_session=sagemaker_session,\n",
    ")\n",
    "\n",
    "data_quality_baseline_job_name = f\"nutriscore-data-quality-baseline-job-{datetime.now():%Y-%m-%d-%H-%M-%S}\"\n",
    "\n",
    "print(\"Starting Data Quality baseline suggestion job...\")\n",
    "# The baseline job runs on the training data\n",
    "data_quality_monitor.suggest_baseline(\n",
    "    baseline_dataset=train_s3_path,\n",
    "    dataset_format=DatasetFormat.csv(header=True),\n",
    "    job_name=data_quality_baseline_job_name,\n",
    "    output_s3_uri=data_quality_report_path,\n",
    "    wait=True,\n",
    "    logs=False,\n",
    ")\n",
    "print(\"\\nData Quality baseline job complete.\")"
   ]
  },
  {
   "cell_type": "code",
   "execution_count": 9,
   "id": "1d620fe7-0fef-44d3-90c8-c53bf02c4e25",
   "metadata": {
    "execution": {
     "iopub.execute_input": "2025-10-16T04:03:15.991277Z",
     "iopub.status.busy": "2025-10-16T04:03:15.990985Z",
     "iopub.status.idle": "2025-10-16T04:03:16.050886Z",
     "shell.execute_reply": "2025-10-16T04:03:16.050042Z",
     "shell.execute_reply.started": "2025-10-16T04:03:15.991255Z"
    }
   },
   "outputs": [
    {
     "data": {
      "text/plain": [
       "{'ProcessingInputs': [{'InputName': 'baseline_dataset_input',\n",
       "   'AppManaged': False,\n",
       "   'S3Input': {'S3Uri': 's3://sagemaker-us-east-1-654654380268/nutriscore-prediction-xgboost/train/train_scaled_headers.csv',\n",
       "    'LocalPath': '/opt/ml/processing/input/baseline_dataset_input',\n",
       "    'S3DataType': 'S3Prefix',\n",
       "    'S3InputMode': 'File',\n",
       "    'S3DataDistributionType': 'FullyReplicated',\n",
       "    'S3CompressionType': 'None'}}],\n",
       " 'ProcessingOutputConfig': {'Outputs': [{'OutputName': 'monitoring_output',\n",
       "    'S3Output': {'S3Uri': 's3://sagemaker-us-east-1-654654380268/nutriscore-prediction-xgboost/data-quality-reports',\n",
       "     'LocalPath': '/opt/ml/processing/output',\n",
       "     'S3UploadMode': 'EndOfJob'},\n",
       "    'AppManaged': False}]},\n",
       " 'ProcessingJobName': 'nutriscore-data-quality-baseline-job-2025-10-16-03-57-17',\n",
       " 'ProcessingResources': {'ClusterConfig': {'InstanceCount': 1,\n",
       "   'InstanceType': 'ml.m5.xlarge',\n",
       "   'VolumeSizeInGB': 20}},\n",
       " 'StoppingCondition': {'MaxRuntimeInSeconds': 3600},\n",
       " 'AppSpecification': {'ImageUri': '156813124566.dkr.ecr.us-east-1.amazonaws.com/sagemaker-model-monitor-analyzer'},\n",
       " 'Environment': {'dataset_format': '{\"csv\": {\"header\": true, \"output_columns_position\": \"START\"}}',\n",
       "  'dataset_source': '/opt/ml/processing/input/baseline_dataset_input',\n",
       "  'output_path': '/opt/ml/processing/output',\n",
       "  'publish_cloudwatch_metrics': 'Disabled'},\n",
       " 'RoleArn': 'arn:aws:iam::654654380268:role/LabRole',\n",
       " 'ProcessingJobArn': 'arn:aws:sagemaker:us-east-1:654654380268:processing-job/nutriscore-data-quality-baseline-job-2025-10-16-03-57-17',\n",
       " 'ProcessingJobStatus': 'Completed',\n",
       " 'ExitMessage': 'Completed: Job completed successfully with no violations.',\n",
       " 'ProcessingEndTime': datetime.datetime(2025, 10, 16, 4, 1, 10, tzinfo=tzlocal()),\n",
       " 'ProcessingStartTime': datetime.datetime(2025, 10, 16, 3, 57, 55, tzinfo=tzlocal()),\n",
       " 'LastModifiedTime': datetime.datetime(2025, 10, 16, 4, 2, 19, 236000, tzinfo=tzlocal()),\n",
       " 'CreationTime': datetime.datetime(2025, 10, 16, 3, 57, 17, 661000, tzinfo=tzlocal()),\n",
       " 'ResponseMetadata': {'RequestId': '7da380fc-84f9-4c37-86dd-8e11af7c9ffd',\n",
       "  'HTTPStatusCode': 200,\n",
       "  'HTTPHeaders': {'x-amzn-requestid': '7da380fc-84f9-4c37-86dd-8e11af7c9ffd',\n",
       "   'content-type': 'application/x-amz-json-1.1',\n",
       "   'content-length': '1853',\n",
       "   'date': 'Thu, 16 Oct 2025 04:03:16 GMT'},\n",
       "  'RetryAttempts': 0}}"
      ]
     },
     "execution_count": 9,
     "metadata": {},
     "output_type": "execute_result"
    }
   ],
   "source": [
    "data_quality_monitor.latest_baselining_job.describe()"
   ]
  },
  {
   "cell_type": "code",
   "execution_count": 12,
   "id": "e4723823-1cd3-419f-bfc9-3e4066c1ff32",
   "metadata": {
    "execution": {
     "iopub.execute_input": "2025-10-16T04:03:47.841301Z",
     "iopub.status.busy": "2025-10-16T04:03:47.841031Z",
     "iopub.status.idle": "2025-10-16T04:03:48.875477Z",
     "shell.execute_reply": "2025-10-16T04:03:48.874641Z",
     "shell.execute_reply.started": "2025-10-16T04:03:47.841280Z"
    }
   },
   "outputs": [
    {
     "name": "stdout",
     "output_type": "stream",
     "text": [
      "Creating Data Quality monitoring schedule: nutriscore-data-quality-schedule-2025-10-16-04-03-47\n"
     ]
    },
    {
     "name": "stderr",
     "output_type": "stream",
     "text": [
      "INFO:sagemaker.model_monitor.model_monitoring:Creating Monitoring Schedule with name: nutriscore-data-quality-schedule-2025-10-16-04-03-47\n"
     ]
    },
    {
     "name": "stdout",
     "output_type": "stream",
     "text": [
      "Data Quality monitoring schedule created.\n"
     ]
    }
   ],
   "source": [
    "# Create data quality monitoring schedule\n",
    "data_quality_schedule_name = f\"nutriscore-data-quality-schedule-{datetime.now():%Y-%m-%d-%H-%M-%S}\"\n",
    "\n",
    "print(f\"Creating Data Quality monitoring schedule: {data_quality_schedule_name}\")\n",
    "data_quality_monitor.create_monitoring_schedule(\n",
    "    monitor_schedule_name=data_quality_schedule_name,\n",
    "    endpoint_input=predictor.endpoint_name,\n",
    "    output_s3_uri=data_quality_report_path,\n",
    "    statistics=data_quality_monitor.latest_baselining_job.baseline_statistics(),\n",
    "    constraints=data_quality_monitor.latest_baselining_job.suggested_constraints(),\n",
    "    schedule_cron_expression=CronExpressionGenerator.hourly(),\n",
    "    enable_cloudwatch_metrics=True,\n",
    ")\n",
    "print(\"Data Quality monitoring schedule created.\")"
   ]
  },
  {
   "cell_type": "markdown",
   "id": "eb091d13-a75d-462a-ba94-1fd5ffe2b34e",
   "metadata": {},
   "source": [
    "## Generate Baseline for Model Quality Performance"
   ]
  },
  {
   "cell_type": "code",
   "execution_count": 15,
   "id": "6a2a8e3d-56db-4ca7-9e11-8d96808ba245",
   "metadata": {
    "execution": {
     "iopub.execute_input": "2025-10-14T23:45:12.489236Z",
     "iopub.status.busy": "2025-10-14T23:45:12.488974Z",
     "iopub.status.idle": "2025-10-14T23:45:14.767869Z",
     "shell.execute_reply": "2025-10-14T23:45:14.767014Z",
     "shell.execute_reply.started": "2025-10-14T23:45:12.489216Z"
    }
   },
   "outputs": [
    {
     "name": "stdout",
     "output_type": "stream",
     "text": [
      "download: s3://sagemaker-us-east-1-654654380268/nutriscore-prediction-xgboost/validation/val_scaled.csv to ./val_scaled.csv\n"
     ]
    }
   ],
   "source": [
    "# Get validation dataset\n",
    "# get from previous notebook\n",
    "val_s3_path = f's3://{bucket}/nutriscore-prediction-xgboost/validation/val_scaled.csv' \n",
    "!aws s3 cp {val_s3_path} ./\n",
    "val_local_path = './val_scaled.csv'"
   ]
  },
  {
   "cell_type": "code",
   "execution_count": 16,
   "id": "61590459-9dee-4340-8f81-22bdfb76d1c6",
   "metadata": {
    "execution": {
     "iopub.execute_input": "2025-10-14T23:45:25.374158Z",
     "iopub.status.busy": "2025-10-14T23:45:25.373842Z",
     "iopub.status.idle": "2025-10-14T23:49:41.260172Z",
     "shell.execute_reply": "2025-10-14T23:49:41.259412Z",
     "shell.execute_reply.started": "2025-10-14T23:45:25.374131Z"
    }
   },
   "outputs": [
    {
     "name": "stdout",
     "output_type": "stream",
     "text": [
      "...................................................................................................................................................................................................................................................................................................................................................................................................................................................................................................................\n",
      "Done!\n"
     ]
    }
   ],
   "source": [
    "# Your validation dataset should h first column\n",
    "limit = 500 # number of samples for baseline\n",
    "baseline_file_name = 'val_pred_baseline.csv'\n",
    "i = 0\n",
    "\n",
    "# Create a new file for your baseline data\n",
    "with open(f\"{baseline_file_name}\", \"w\") as baseline_file:\n",
    "    # Header for a regression baseline\n",
    "    baseline_file.write(\"prediction,label\\n\")\n",
    "    \n",
    "    # Open validation data file\n",
    "    with open(val_local_path, \"r\") as f:\n",
    "        for row in f:\n",
    "            # With true score in first column\n",
    "            (label, input_cols) = row.split(\",\", 1)\n",
    "            \n",
    "            # Get the predicted score from the endpoint\n",
    "            predicted_score = float(predictor.predict(input_cols))\n",
    "            \n",
    "            # Write the predicted score and the true label to the baseline file\n",
    "            baseline_file.write(f\"{predicted_score},{label.strip()}\\n\")\n",
    "            \n",
    "            i += 1\n",
    "            if i >= limit:\n",
    "                break\n",
    "            print(\".\", end=\"\", flush=True)\n",
    "            sleep(0.5)\n",
    "print()\n",
    "print(\"Done!\")"
   ]
  },
  {
   "cell_type": "code",
   "execution_count": 17,
   "id": "e41a2dc9-b709-43c4-95fb-9de38a027707",
   "metadata": {
    "execution": {
     "iopub.execute_input": "2025-10-14T23:51:09.588014Z",
     "iopub.status.busy": "2025-10-14T23:51:09.587733Z",
     "iopub.status.idle": "2025-10-14T23:51:09.753435Z",
     "shell.execute_reply": "2025-10-14T23:51:09.752590Z",
     "shell.execute_reply.started": "2025-10-14T23:51:09.587995Z"
    }
   },
   "outputs": [
    {
     "name": "stdout",
     "output_type": "stream",
     "text": [
      "prediction,label\n",
      "1.3050779104232788,4\n",
      "-6.6029558181762695,-7\n",
      "17.21617317199707,17\n",
      "20.121444702148438,21\n",
      "11.199066162109375,13\n",
      "8.83629035949707,11\n",
      "0.2918614447116852,0\n",
      "11.292061805725098,16\n",
      "1.38621187210083,0\n"
     ]
    }
   ],
   "source": [
    "# Examine predictions from model\n",
    "!head {baseline_file_name}"
   ]
  },
  {
   "cell_type": "code",
   "execution_count": 18,
   "id": "d8b2ac21-01e0-443a-bbc3-dd35b9667fb4",
   "metadata": {
    "execution": {
     "iopub.execute_input": "2025-10-14T23:51:14.611740Z",
     "iopub.status.busy": "2025-10-14T23:51:14.611387Z",
     "iopub.status.idle": "2025-10-14T23:51:14.616604Z",
     "shell.execute_reply": "2025-10-14T23:51:14.615768Z",
     "shell.execute_reply.started": "2025-10-14T23:51:14.611705Z"
    }
   },
   "outputs": [
    {
     "name": "stdout",
     "output_type": "stream",
     "text": [
      "Baseline data uri: s3://sagemaker-us-east-1-654654380268/sagemaker/FoodLens-ModelQualityMonitor-2025-10-14-23-41-04/baselining/data\n",
      "Baseline results uri: s3://sagemaker-us-east-1-654654380268/sagemaker/FoodLens-ModelQualityMonitor-2025-10-14-23-41-04/baselining/results\n"
     ]
    }
   ],
   "source": [
    "# Upload predictions as baseline dataset\n",
    "baseline_prefix = prefix + \"/baselining\"\n",
    "baseline_data_prefix = baseline_prefix + \"/data\"\n",
    "baseline_results_prefix = baseline_prefix + \"/results\"\n",
    "\n",
    "baseline_data_uri = f\"s3://{bucket}/{baseline_data_prefix}\"\n",
    "baseline_results_uri = f\"s3://{bucket}/{baseline_results_prefix}\"\n",
    "print(f\"Baseline data uri: {baseline_data_uri}\")\n",
    "print(f\"Baseline results uri: {baseline_results_uri}\")"
   ]
  },
  {
   "cell_type": "code",
   "execution_count": 19,
   "id": "52022c01-d2e3-427c-8e31-955a7b676252",
   "metadata": {
    "execution": {
     "iopub.execute_input": "2025-10-14T23:51:16.874175Z",
     "iopub.status.busy": "2025-10-14T23:51:16.873914Z",
     "iopub.status.idle": "2025-10-14T23:51:17.330675Z",
     "shell.execute_reply": "2025-10-14T23:51:17.330004Z",
     "shell.execute_reply.started": "2025-10-14T23:51:16.874156Z"
    }
   },
   "outputs": [
    {
     "data": {
      "text/plain": [
       "'s3://sagemaker-us-east-1-654654380268/sagemaker/FoodLens-ModelQualityMonitor-2025-10-14-23-41-04/baselining/data/val_pred_baseline.csv'"
      ]
     },
     "execution_count": 19,
     "metadata": {},
     "output_type": "execute_result"
    }
   ],
   "source": [
    "# Upload baseline dataset\n",
    "baseline_dataset_uri = S3Uploader.upload(f\"{baseline_file_name}\", baseline_data_uri)\n",
    "baseline_dataset_uri"
   ]
  },
  {
   "cell_type": "code",
   "execution_count": 20,
   "id": "555c1d46-fdd3-4f8b-a338-7d31c795d4a9",
   "metadata": {
    "execution": {
     "iopub.execute_input": "2025-10-14T23:51:22.779217Z",
     "iopub.status.busy": "2025-10-14T23:51:22.778943Z",
     "iopub.status.idle": "2025-10-14T23:51:22.805679Z",
     "shell.execute_reply": "2025-10-14T23:51:22.804895Z",
     "shell.execute_reply.started": "2025-10-14T23:51:22.779188Z"
    }
   },
   "outputs": [],
   "source": [
    "# Create the model quality monitoring object\n",
    "nutriscore_model_quality_monitor = ModelQualityMonitor(\n",
    "    role=role,\n",
    "    instance_count=1,\n",
    "    instance_type=instance_type,\n",
    "    volume_size_in_gb=20,\n",
    "    max_runtime_in_seconds=1800,\n",
    "    sagemaker_session=sagemaker_session,\n",
    ")"
   ]
  },
  {
   "cell_type": "code",
   "execution_count": 21,
   "id": "26394e30-5b24-4af8-8e05-501729294b1b",
   "metadata": {
    "execution": {
     "iopub.execute_input": "2025-10-14T23:51:24.691615Z",
     "iopub.status.busy": "2025-10-14T23:51:24.691349Z",
     "iopub.status.idle": "2025-10-14T23:51:24.694676Z",
     "shell.execute_reply": "2025-10-14T23:51:24.694082Z",
     "shell.execute_reply.started": "2025-10-14T23:51:24.691597Z"
    }
   },
   "outputs": [],
   "source": [
    "# Name of the model quality baseline job\n",
    "baseline_job_name = f\"xgb-nutriscore-model-baseline-job-{datetime.now():%Y-%m-%d-%H%M}\""
   ]
  },
  {
   "cell_type": "code",
   "execution_count": 22,
   "id": "ba02d748-8efa-4355-a366-cca8a6a2638a",
   "metadata": {
    "execution": {
     "iopub.execute_input": "2025-10-14T23:51:31.659054Z",
     "iopub.status.busy": "2025-10-14T23:51:31.658778Z",
     "iopub.status.idle": "2025-10-14T23:56:34.511344Z",
     "shell.execute_reply": "2025-10-14T23:56:34.510744Z",
     "shell.execute_reply.started": "2025-10-14T23:51:31.659033Z"
    }
   },
   "outputs": [
    {
     "name": "stderr",
     "output_type": "stream",
     "text": [
      "INFO:sagemaker:Creating processing-job with name xgb-nutriscore-model-baseline-job-2025-10-14-2351\n"
     ]
    },
    {
     "name": "stdout",
     "output_type": "stream",
     "text": [
      "...........................................................!"
     ]
    }
   ],
   "source": [
    "# Execute the baseline suggestion job\n",
    "job = nutriscore_model_quality_monitor.suggest_baseline(\n",
    "    job_name=baseline_job_name,\n",
    "    baseline_dataset=baseline_dataset_uri,\n",
    "    dataset_format=DatasetFormat.csv(header=False),\n",
    "    output_s3_uri=baseline_results_uri,\n",
    "    problem_type=\"Regression\",\n",
    "    inference_attribute=\"prediction\", # model output\n",
    "    ground_truth_attribute=\"label\", # true score\n",
    ")\n",
    "job.wait(logs=False)"
   ]
  },
  {
   "cell_type": "markdown",
   "id": "201254ab-fe46-469d-9a92-0202d9c55b1a",
   "metadata": {},
   "source": [
    "## Explore Results of Baseline Job"
   ]
  },
  {
   "cell_type": "code",
   "execution_count": 23,
   "id": "ffe61539-f02f-4a28-91a0-e13c4d7b70b0",
   "metadata": {
    "execution": {
     "iopub.execute_input": "2025-10-14T23:57:04.479161Z",
     "iopub.status.busy": "2025-10-14T23:57:04.478893Z",
     "iopub.status.idle": "2025-10-14T23:57:04.482466Z",
     "shell.execute_reply": "2025-10-14T23:57:04.481791Z",
     "shell.execute_reply.started": "2025-10-14T23:57:04.479140Z"
    }
   },
   "outputs": [],
   "source": [
    "baseline_job = nutriscore_model_quality_monitor.latest_baselining_job"
   ]
  },
  {
   "cell_type": "code",
   "execution_count": 24,
   "id": "c6698f6a-498f-4d90-807a-ba2ac4c44280",
   "metadata": {
    "execution": {
     "iopub.execute_input": "2025-10-14T23:57:06.214266Z",
     "iopub.status.busy": "2025-10-14T23:57:06.213963Z",
     "iopub.status.idle": "2025-10-14T23:57:06.315977Z",
     "shell.execute_reply": "2025-10-14T23:57:06.315242Z",
     "shell.execute_reply.started": "2025-10-14T23:57:06.214241Z"
    }
   },
   "outputs": [
    {
     "data": {
      "text/html": [
       "<div>\n",
       "<style scoped>\n",
       "    .dataframe tbody tr th:only-of-type {\n",
       "        vertical-align: middle;\n",
       "    }\n",
       "\n",
       "    .dataframe tbody tr th {\n",
       "        vertical-align: top;\n",
       "    }\n",
       "\n",
       "    .dataframe thead th {\n",
       "        text-align: right;\n",
       "    }\n",
       "</style>\n",
       "<table border=\"1\" class=\"dataframe\">\n",
       "  <thead>\n",
       "    <tr style=\"text-align: right;\">\n",
       "      <th></th>\n",
       "      <th>0</th>\n",
       "    </tr>\n",
       "  </thead>\n",
       "  <tbody>\n",
       "    <tr>\n",
       "      <th>mae.value</th>\n",
       "      <td>1.040421</td>\n",
       "    </tr>\n",
       "    <tr>\n",
       "      <th>mae.standard_deviation</th>\n",
       "      <td>0.043879</td>\n",
       "    </tr>\n",
       "    <tr>\n",
       "      <th>mse.value</th>\n",
       "      <td>3.109507</td>\n",
       "    </tr>\n",
       "    <tr>\n",
       "      <th>mse.standard_deviation</th>\n",
       "      <td>0.299934</td>\n",
       "    </tr>\n",
       "    <tr>\n",
       "      <th>rmse.value</th>\n",
       "      <td>1.763380</td>\n",
       "    </tr>\n",
       "    <tr>\n",
       "      <th>rmse.standard_deviation</th>\n",
       "      <td>0.085247</td>\n",
       "    </tr>\n",
       "    <tr>\n",
       "      <th>r2.value</th>\n",
       "      <td>0.972284</td>\n",
       "    </tr>\n",
       "    <tr>\n",
       "      <th>r2.standard_deviation</th>\n",
       "      <td>0.002905</td>\n",
       "    </tr>\n",
       "  </tbody>\n",
       "</table>\n",
       "</div>"
      ],
      "text/plain": [
       "                                0\n",
       "mae.value                1.040421\n",
       "mae.standard_deviation   0.043879\n",
       "mse.value                3.109507\n",
       "mse.standard_deviation   0.299934\n",
       "rmse.value               1.763380\n",
       "rmse.standard_deviation  0.085247\n",
       "r2.value                 0.972284\n",
       "r2.standard_deviation    0.002905"
      ]
     },
     "execution_count": 24,
     "metadata": {},
     "output_type": "execute_result"
    }
   ],
   "source": [
    "# View metrics\n",
    "binary_metrics = baseline_job.baseline_statistics().body_dict[\"regression_metrics\"]\n",
    "pd.json_normalize(binary_metrics).T"
   ]
  },
  {
   "cell_type": "code",
   "execution_count": 46,
   "id": "0d1158ee-28f8-46e8-919d-a6f75b98c625",
   "metadata": {
    "execution": {
     "iopub.execute_input": "2025-10-15T00:34:39.349668Z",
     "iopub.status.busy": "2025-10-15T00:34:39.349383Z",
     "iopub.status.idle": "2025-10-15T00:34:39.494378Z",
     "shell.execute_reply": "2025-10-15T00:34:39.493617Z",
     "shell.execute_reply.started": "2025-10-15T00:34:39.349646Z"
    }
   },
   "outputs": [
    {
     "data": {
      "text/html": [
       "<div>\n",
       "<style scoped>\n",
       "    .dataframe tbody tr th:only-of-type {\n",
       "        vertical-align: middle;\n",
       "    }\n",
       "\n",
       "    .dataframe tbody tr th {\n",
       "        vertical-align: top;\n",
       "    }\n",
       "\n",
       "    .dataframe thead th {\n",
       "        text-align: right;\n",
       "    }\n",
       "</style>\n",
       "<table border=\"1\" class=\"dataframe\">\n",
       "  <thead>\n",
       "    <tr style=\"text-align: right;\">\n",
       "      <th></th>\n",
       "      <th>threshold</th>\n",
       "      <th>comparison_operator</th>\n",
       "    </tr>\n",
       "  </thead>\n",
       "  <tbody>\n",
       "    <tr>\n",
       "      <th>mae</th>\n",
       "      <td>1.040421</td>\n",
       "      <td>GreaterThanThreshold</td>\n",
       "    </tr>\n",
       "    <tr>\n",
       "      <th>mse</th>\n",
       "      <td>3.109507</td>\n",
       "      <td>GreaterThanThreshold</td>\n",
       "    </tr>\n",
       "    <tr>\n",
       "      <th>rmse</th>\n",
       "      <td>1.76338</td>\n",
       "      <td>GreaterThanThreshold</td>\n",
       "    </tr>\n",
       "    <tr>\n",
       "      <th>r2</th>\n",
       "      <td>0.972284</td>\n",
       "      <td>LessThanThreshold</td>\n",
       "    </tr>\n",
       "  </tbody>\n",
       "</table>\n",
       "</div>"
      ],
      "text/plain": [
       "     threshold   comparison_operator\n",
       "mae   1.040421  GreaterThanThreshold\n",
       "mse   3.109507  GreaterThanThreshold\n",
       "rmse   1.76338  GreaterThanThreshold\n",
       "r2    0.972284     LessThanThreshold"
      ]
     },
     "execution_count": 46,
     "metadata": {},
     "output_type": "execute_result"
    }
   ],
   "source": [
    "# View constraints\n",
    "regression_constraints = pd.DataFrame(baseline_job.suggested_constraints().body_dict[\"regression_constraints\"]).T\n",
    "regression_constraints"
   ]
  },
  {
   "cell_type": "markdown",
   "id": "735fe903-7e57-4a9d-b869-174ef5257f17",
   "metadata": {},
   "source": [
    "## Setup Continuous Model Monitoring"
   ]
  },
  {
   "cell_type": "code",
   "execution_count": 63,
   "id": "c9ca1646-2bc2-4962-88c2-fadc5d077613",
   "metadata": {
    "execution": {
     "iopub.execute_input": "2025-10-15T01:52:01.449256Z",
     "iopub.status.busy": "2025-10-15T01:52:01.448879Z",
     "iopub.status.idle": "2025-10-15T01:52:03.115874Z",
     "shell.execute_reply": "2025-10-15T01:52:03.114791Z",
     "shell.execute_reply.started": "2025-10-15T01:52:01.449232Z"
    }
   },
   "outputs": [],
   "source": [
    "# Get some samples from scaled production data split\n",
    "# From notebook 04\n",
    "prod_scaled_path = f's3://{bucket}/nutriscore-prediction-xgboost/prod/prod_scaled.csv'\n",
    "prod_scaled_df = pd.read_csv(prod_scaled_path)"
   ]
  },
  {
   "cell_type": "code",
   "execution_count": 86,
   "id": "450e1ad1-da9b-4e76-ae15-8c4b6bcc9b11",
   "metadata": {
    "execution": {
     "iopub.execute_input": "2025-10-15T02:54:49.594641Z",
     "iopub.status.busy": "2025-10-15T02:54:49.594375Z",
     "iopub.status.idle": "2025-10-15T02:54:49.599874Z",
     "shell.execute_reply": "2025-10-15T02:54:49.599285Z",
     "shell.execute_reply.started": "2025-10-15T02:54:49.594620Z"
    }
   },
   "outputs": [
    {
     "name": "stdout",
     "output_type": "stream",
     "text": [
      "Using a sample of 500 rows from the production dataset.\n"
     ]
    }
   ],
   "source": [
    "# Take a sample for the test run (500 random rows)\n",
    "sample_traffic_df = prod_scaled_df.sample(n=500)\n",
    "print(f\"Using a sample of {len(sample_traffic_df)} rows from the production dataset.\")"
   ]
  },
  {
   "cell_type": "code",
   "execution_count": 87,
   "id": "3a5f1078-f8a7-49ab-8d8c-f208fcaa06b7",
   "metadata": {
    "execution": {
     "iopub.execute_input": "2025-10-15T02:54:59.979300Z",
     "iopub.status.busy": "2025-10-15T02:54:59.979026Z",
     "iopub.status.idle": "2025-10-15T02:57:07.201679Z",
     "shell.execute_reply": "2025-10-15T02:57:07.200892Z",
     "shell.execute_reply.started": "2025-10-15T02:54:59.979279Z"
    }
   },
   "outputs": [
    {
     "name": "stdout",
     "output_type": "stream",
     "text": [
      "Sending pre-scaled production samples for inference...\n"
     ]
    },
    {
     "data": {
      "application/vnd.jupyter.widget-view+json": {
       "model_id": "0ead8f3f9e1d40c59fec6c5c8b2f8959",
       "version_major": 2,
       "version_minor": 0
      },
      "text/plain": [
       "  0%|          | 0/500 [00:00<?, ?it/s]"
      ]
     },
     "metadata": {},
     "output_type": "display_data"
    }
   ],
   "source": [
    "# Generate prediction data on sample data\n",
    "\n",
    "# Store ground truth with inference ids\n",
    "ground_truth_labels_with_ids = []\n",
    "\n",
    "# First column is the label (true score) and the rest are features\n",
    "label_column = sample_traffic_df.columns[0]\n",
    "feature_columns = sample_traffic_df.columns[1:]\n",
    "\n",
    "print(\"Sending pre-scaled production samples for inference...\")\n",
    "\n",
    "# Send samples for inference\n",
    "for index, row in tqdm(sample_traffic_df.iterrows(), total=sample_traffic_df.shape[0]):\n",
    "    features_payload = \",\".join(map(str, row[feature_columns].values))\n",
    "    \n",
    "    # Invoke the endpoint\n",
    "    sagemaker_session.sagemaker_runtime_client.invoke_endpoint(\n",
    "        EndpointName=endpoint_name,\n",
    "        ContentType=\"text/csv\",\n",
    "        Body=features_payload,\n",
    "        InferenceId=str(index), # use index as unique id\n",
    "    )\n",
    "    \n",
    "    # Store the true label and its corresponding ID for the ground truth upload\n",
    "    ground_truth_labels_with_ids.append({\n",
    "        \"inference_id\": index,\n",
    "        \"label\": row[label_column]\n",
    "    })\n",
    "    sleep(0.2)"
   ]
  },
  {
   "cell_type": "code",
   "execution_count": 88,
   "id": "f3ee5e45-f474-40b0-b84d-d436cb5259eb",
   "metadata": {
    "execution": {
     "iopub.execute_input": "2025-10-15T02:57:10.739118Z",
     "iopub.status.busy": "2025-10-15T02:57:10.738846Z",
     "iopub.status.idle": "2025-10-15T02:57:10.985462Z",
     "shell.execute_reply": "2025-10-15T02:57:10.984789Z",
     "shell.execute_reply.started": "2025-10-15T02:57:10.739096Z"
    }
   },
   "outputs": [
    {
     "name": "stdout",
     "output_type": "stream",
     "text": [
      "Waiting for captures to show up\n",
      "Found Capture Files:\n",
      "s3://sagemaker-us-east-1-654654380268/sagemaker/FoodLens-ModelQualityMonitor-2025-10-14-23-41-04/datacapture/xgb-nutriscore-model-quality-monitor-2025-10-14-23-41-12/AllTraffic/2025/10/15/01/57-34-194-6af6c720-b704-47ca-9c72-2cbd3a9eed1c.jsonl\n",
      " s3://sagemaker-us-east-1-654654380268/sagemaker/FoodLens-ModelQualityMonitor-2025-10-14-23-41-04/datacapture/xgb-nutriscore-model-quality-monitor-2025-10-14-23-41-12/AllTraffic/2025/10/15/02/55-00-163-e49b9fb7-97e1-460c-ad1d-0c4d2efb3abb.jsonl\n",
      " s3://sagemaker-us-east-1-654654380268/sagemaker/FoodLens-ModelQualityMonitor-2025-10-14-23-41-04/datacapture/xgb-nutriscore-model-quality-monitor-2025-10-14-23-41-12/AllTraffic/2025/10/15/02/56-00-270-ea4578d6-cde7-4d2a-aa96-9177637d8948.jsonl\n"
     ]
    }
   ],
   "source": [
    "# View captured data\n",
    "print(\"Waiting for captures to show up\", end=\"\")\n",
    "for _ in range(120):\n",
    "    capture_files = sorted(S3Downloader.list(f\"{s3_capture_upload_path}/{endpoint_name}\"))\n",
    "    if capture_files:\n",
    "        capture_file = S3Downloader.read_file(capture_files[-1]).split(\"\\n\")\n",
    "        capture_record = json.loads(capture_file[0])\n",
    "        if \"inferenceId\" in capture_record[\"eventMetadata\"]:\n",
    "            break\n",
    "    print(\".\", end=\"\", flush=True)\n",
    "    sleep(1)\n",
    "print()\n",
    "print(\"Found Capture Files:\")\n",
    "print(\"\\n \".join(capture_files[-3:]))"
   ]
  },
  {
   "cell_type": "code",
   "execution_count": 32,
   "id": "c53a48b4-4154-4d6c-ae72-7d21f4a85861",
   "metadata": {
    "execution": {
     "iopub.execute_input": "2025-10-15T00:03:17.049752Z",
     "iopub.status.busy": "2025-10-15T00:03:17.049488Z",
     "iopub.status.idle": "2025-10-15T00:03:17.052807Z",
     "shell.execute_reply": "2025-10-15T00:03:17.052238Z",
     "shell.execute_reply.started": "2025-10-15T00:03:17.049732Z"
    }
   },
   "outputs": [
    {
     "name": "stdout",
     "output_type": "stream",
     "text": [
      "{\n",
      "  \"captureData\": {\n",
      "    \"endpointInput\": {\n",
      "      \"observedContentType\": \"text/csv\",\n",
      "      \"mode\": \"INPUT\",\n",
      "      \"data\": \"0.580941853233744,0.4207843872072756,-0.3922347530307877,0.0193026562008916,-0.042146023062945,0.6378029344725,-0.0327685279590934,-0.0421369278836778,-0.1696497331717474,-0.5521170054710245,0.9250592690077158,-0.3974839476083481,-0.0376331319199143,-0.4221333468067548,-0.2956419687371429,-0.6585641731100123,0.0192272853368198,0.580941853233744,-0.0059382188048578,-0.0205829843921859,-0.1255183315312085,-0.0785495194589269\",\n",
      "      \"encoding\": \"CSV\"\n",
      "    },\n",
      "    \"endpointOutput\": {\n",
      "      \"observedContentType\": \"text/csv; charset=utf-8\",\n",
      "      \"mode\": \"OUTPUT\",\n",
      "      \"data\": \"19.34724998474121\\n\",\n",
      "      \"encoding\": \"CSV\"\n",
      "    }\n",
      "  },\n",
      "  \"eventMetadata\": {\n",
      "    \"eventId\": \"a3f6cf03-8cb7-490b-a726-ab25f06ec92b\",\n",
      "    \"inferenceId\": \"20940\",\n",
      "    \"inferenceTime\": \"2025-10-15T00:00:20Z\"\n",
      "  },\n",
      "  \"eventVersion\": \"0\"\n",
      "}\n"
     ]
    }
   ],
   "source": [
    "# View single capture\n",
    "print(json.dumps(capture_record, indent=2))"
   ]
  },
  {
   "cell_type": "code",
   "execution_count": 89,
   "id": "c03d707a-f912-4e24-8515-78655d83b3f0",
   "metadata": {
    "execution": {
     "iopub.execute_input": "2025-10-15T02:57:17.524477Z",
     "iopub.status.busy": "2025-10-15T02:57:17.524144Z",
     "iopub.status.idle": "2025-10-15T02:57:17.652545Z",
     "shell.execute_reply": "2025-10-15T02:57:17.651808Z",
     "shell.execute_reply.started": "2025-10-15T02:57:17.524385Z"
    }
   },
   "outputs": [
    {
     "name": "stdout",
     "output_type": "stream",
     "text": [
      "\n",
      "Uploading 500 ground truth records to s3://sagemaker-us-east-1-654654380268/sagemaker/FoodLens-ModelQualityMonitor-2025-10-14-23-41-04/ground_truth_data/2025-10-14-23-41-04/2025/10/15/02/ground_truth.jsonl\n"
     ]
    },
    {
     "name": "stderr",
     "output_type": "stream",
     "text": [
      "/tmp/ipykernel_302/2223412058.py:20: DeprecationWarning: datetime.datetime.utcnow() is deprecated and scheduled for removal in a future version. Use timezone-aware objects to represent datetimes in UTC: datetime.datetime.now(datetime.UTC).\n",
      "  target_s3_uri = f\"{ground_truth_upload_path}/{datetime.utcnow():%Y/%m/%d/%H}/ground_truth.jsonl\"\n"
     ]
    },
    {
     "data": {
      "text/plain": [
       "'s3://sagemaker-us-east-1-654654380268/sagemaker/FoodLens-ModelQualityMonitor-2025-10-14-23-41-04/ground_truth_data/2025-10-14-23-41-04/2025/10/15/02/ground_truth.jsonl'"
      ]
     },
     "execution_count": 89,
     "metadata": {},
     "output_type": "execute_result"
    }
   ],
   "source": [
    "# Format and upload the true labels\n",
    "ground_truth_records = []\n",
    "for item in ground_truth_labels_with_ids:\n",
    "    record = {\n",
    "        \"groundTruthData\": {\n",
    "            \"data\": str(item['label']), # The true nutrition score\n",
    "            \"encoding\": \"CSV\",\n",
    "        },\n",
    "        \"eventMetadata\": {\n",
    "            \"eventId\": item['inference_id'],\n",
    "        },\n",
    "        \"eventVersion\": \"0\",\n",
    "    }\n",
    "    ground_truth_records.append(json.dumps(record))\n",
    "\n",
    "# Convert the list of JSON strings into a single string with newlines\n",
    "ground_truth_data_to_upload = \"\\n\".join(ground_truth_records)\n",
    "\n",
    "# Upload to the S3 path the monitor is watching\n",
    "target_s3_uri = f\"{ground_truth_upload_path}/{datetime.utcnow():%Y/%m/%d/%H}/ground_truth.jsonl\"\n",
    "\n",
    "print(f\"\\nUploading {len(ground_truth_records)} ground truth records to {target_s3_uri}\")\n",
    "S3Uploader.upload_string_as_file_body(ground_truth_data_to_upload, target_s3_uri)"
   ]
  },
  {
   "cell_type": "markdown",
   "id": "86bd5cd0-9aec-482b-b5f8-67ca0cfa5886",
   "metadata": {},
   "source": [
    "## Create Monitoring Schedule"
   ]
  },
  {
   "cell_type": "code",
   "execution_count": 71,
   "id": "468d5e6a-9ea5-4371-b6a7-bd3c275e7bea",
   "metadata": {
    "execution": {
     "iopub.execute_input": "2025-10-15T01:59:01.385039Z",
     "iopub.status.busy": "2025-10-15T01:59:01.384590Z",
     "iopub.status.idle": "2025-10-15T01:59:01.388918Z",
     "shell.execute_reply": "2025-10-15T01:59:01.387675Z",
     "shell.execute_reply.started": "2025-10-15T01:59:01.385005Z"
    }
   },
   "outputs": [],
   "source": [
    "# Set monitor schedule name\n",
    "nutriscore_monitor_schedule_name = f\"nutriscore-monitoring-schedule-{datetime.now():%Y-%m-%d-%H-%M-%S}\""
   ]
  },
  {
   "cell_type": "code",
   "execution_count": 72,
   "id": "5fb5a663-d3d7-45ef-aad3-850b97e8ad81",
   "metadata": {
    "execution": {
     "iopub.execute_input": "2025-10-15T01:59:02.798953Z",
     "iopub.status.busy": "2025-10-15T01:59:02.798677Z",
     "iopub.status.idle": "2025-10-15T01:59:02.802097Z",
     "shell.execute_reply": "2025-10-15T01:59:02.801300Z",
     "shell.execute_reply.started": "2025-10-15T01:59:02.798931Z"
    }
   },
   "outputs": [],
   "source": [
    "# EndpointInput for regression\n",
    "endpointInput = EndpointInput(\n",
    "    endpoint_name=predictor.endpoint_name,\n",
    "    inference_attribute=\"0\", # first column contains inference\n",
    "    destination=\"/opt/ml/processing/input_data\",\n",
    ")"
   ]
  },
  {
   "cell_type": "code",
   "execution_count": 75,
   "id": "15d113b9-f341-4629-acc9-6275555ca8ef",
   "metadata": {
    "execution": {
     "iopub.execute_input": "2025-10-15T02:02:25.479660Z",
     "iopub.status.busy": "2025-10-15T02:02:25.479394Z",
     "iopub.status.idle": "2025-10-15T02:02:26.641369Z",
     "shell.execute_reply": "2025-10-15T02:02:26.640737Z",
     "shell.execute_reply.started": "2025-10-15T02:02:25.479640Z"
    }
   },
   "outputs": [
    {
     "name": "stderr",
     "output_type": "stream",
     "text": [
      "INFO:sagemaker.model_monitor.model_monitoring:Creating Monitoring Schedule with name: nutriscore-monitoring-schedule-2025-10-15-01-59-01\n"
     ]
    }
   ],
   "source": [
    "# Create the monitoring schedule to execute every hour\n",
    "response = nutriscore_model_quality_monitor.create_monitoring_schedule(\n",
    "    monitor_schedule_name=nutriscore_monitor_schedule_name,\n",
    "    endpoint_input=endpointInput,\n",
    "    output_s3_uri=baseline_results_uri,\n",
    "    problem_type=\"Regression\",\n",
    "    ground_truth_input=ground_truth_upload_path,\n",
    "    constraints=baseline_job.suggested_constraints(),\n",
    "    schedule_cron_expression=CronExpressionGenerator.hourly(),\n",
    "    enable_cloudwatch_metrics=True,\n",
    ")"
   ]
  },
  {
   "cell_type": "code",
   "execution_count": 76,
   "id": "fd702de8-579f-49f1-9f25-16559b905cf9",
   "metadata": {
    "execution": {
     "iopub.execute_input": "2025-10-15T02:02:29.384122Z",
     "iopub.status.busy": "2025-10-15T02:02:29.383863Z",
     "iopub.status.idle": "2025-10-15T02:02:29.454855Z",
     "shell.execute_reply": "2025-10-15T02:02:29.454215Z",
     "shell.execute_reply.started": "2025-10-15T02:02:29.384102Z"
    }
   },
   "outputs": [
    {
     "data": {
      "text/plain": [
       "{'MonitoringScheduleArn': 'arn:aws:sagemaker:us-east-1:654654380268:monitoring-schedule/nutriscore-monitoring-schedule-2025-10-15-01-59-01',\n",
       " 'MonitoringScheduleName': 'nutriscore-monitoring-schedule-2025-10-15-01-59-01',\n",
       " 'MonitoringScheduleStatus': 'Pending',\n",
       " 'MonitoringType': 'ModelQuality',\n",
       " 'CreationTime': datetime.datetime(2025, 10, 15, 2, 2, 26, 447000, tzinfo=tzlocal()),\n",
       " 'LastModifiedTime': datetime.datetime(2025, 10, 15, 2, 2, 26, 508000, tzinfo=tzlocal()),\n",
       " 'MonitoringScheduleConfig': {'ScheduleConfig': {'ScheduleExpression': 'cron(0 * ? * * *)'},\n",
       "  'MonitoringJobDefinitionName': 'model-quality-job-definition-2025-10-15-02-02-25-657',\n",
       "  'MonitoringType': 'ModelQuality'},\n",
       " 'EndpointName': 'xgb-nutriscore-model-quality-monitor-2025-10-14-23-41-12',\n",
       " 'ResponseMetadata': {'RequestId': 'f3196e5c-97f9-4dd6-b244-49cf88ecb064',\n",
       "  'HTTPStatusCode': 200,\n",
       "  'HTTPHeaders': {'x-amzn-requestid': 'f3196e5c-97f9-4dd6-b244-49cf88ecb064',\n",
       "   'strict-transport-security': 'max-age=47304000; includeSubDomains',\n",
       "   'x-frame-options': 'DENY',\n",
       "   'content-security-policy': \"frame-ancestors 'none'\",\n",
       "   'cache-control': 'no-cache, no-store, must-revalidate',\n",
       "   'x-content-type-options': 'nosniff',\n",
       "   'content-type': 'application/x-amz-json-1.1',\n",
       "   'content-length': '634',\n",
       "   'date': 'Wed, 15 Oct 2025 02:02:29 GMT'},\n",
       "  'RetryAttempts': 0}}"
      ]
     },
     "execution_count": 76,
     "metadata": {},
     "output_type": "execute_result"
    }
   ],
   "source": [
    "# Examine schedule on monitor\n",
    "nutriscore_model_quality_monitor.describe_schedule()"
   ]
  },
  {
   "cell_type": "code",
   "execution_count": 77,
   "id": "695f160a-6195-453b-a8ba-e4efbb46e8d7",
   "metadata": {
    "execution": {
     "iopub.execute_input": "2025-10-15T02:02:33.406154Z",
     "iopub.status.busy": "2025-10-15T02:02:33.405881Z",
     "iopub.status.idle": "2025-10-15T02:02:33.451079Z",
     "shell.execute_reply": "2025-10-15T02:02:33.450460Z",
     "shell.execute_reply.started": "2025-10-15T02:02:33.406133Z"
    }
   },
   "outputs": [
    {
     "name": "stderr",
     "output_type": "stream",
     "text": [
      "WARNING:sagemaker.model_monitor.model_monitoring:No executions found for schedule. monitoring_schedule_name: nutriscore-monitoring-schedule-2025-10-15-01-59-01\n"
     ]
    },
    {
     "data": {
      "text/plain": [
       "[]"
      ]
     },
     "execution_count": 77,
     "metadata": {},
     "output_type": "execute_result"
    }
   ],
   "source": [
    "# Initially there will be no executions since the first execution happens at the top of the hour\n",
    "executions = nutriscore_model_quality_monitor.list_executions()\n",
    "executions"
   ]
  },
  {
   "cell_type": "code",
   "execution_count": 90,
   "id": "52f5b616-622c-40b1-a7d2-02c81a78dbc5",
   "metadata": {
    "execution": {
     "iopub.execute_input": "2025-10-15T02:57:32.374828Z",
     "iopub.status.busy": "2025-10-15T02:57:32.374556Z",
     "iopub.status.idle": "2025-10-15T03:05:46.249436Z",
     "shell.execute_reply": "2025-10-15T03:05:46.248678Z",
     "shell.execute_reply.started": "2025-10-15T02:57:32.374807Z"
    }
   },
   "outputs": [
    {
     "name": "stdout",
     "output_type": "stream",
     "text": [
      "Waiting for first execution.................................................\n",
      "Execution found!\n"
     ]
    }
   ],
   "source": [
    "# Wait for the first execution of the monitoring_schedule\n",
    "print(\"Waiting for first execution\", end=\"\")\n",
    "while True:\n",
    "    execution = nutriscore_model_quality_monitor.describe_schedule().get(\n",
    "        \"LastMonitoringExecutionSummary\"\n",
    "    )\n",
    "    if execution:\n",
    "        break\n",
    "    print(\".\", end=\"\", flush=True)\n",
    "    sleep(10)\n",
    "print()\n",
    "print(\"Execution found!\")"
   ]
  },
  {
   "cell_type": "code",
   "execution_count": 91,
   "id": "5c44c2ee-5780-47bb-b2a5-31535aef3349",
   "metadata": {
    "execution": {
     "iopub.execute_input": "2025-10-15T03:06:53.819573Z",
     "iopub.status.busy": "2025-10-15T03:06:53.819249Z",
     "iopub.status.idle": "2025-10-15T03:09:44.793919Z",
     "shell.execute_reply": "2025-10-15T03:09:44.793235Z",
     "shell.execute_reply.started": "2025-10-15T03:06:53.819548Z"
    }
   },
   "outputs": [
    {
     "name": "stdout",
     "output_type": "stream",
     "text": [
      "................."
     ]
    },
    {
     "data": {
      "text/plain": [
       "{'ProcessingInputs': [{'InputName': 'groundtruth_input_1',\n",
       "   'AppManaged': False,\n",
       "   'S3Input': {'S3Uri': 's3://sagemaker-us-east-1-654654380268/sagemaker/FoodLens-ModelQualityMonitor-2025-10-14-23-41-04/ground_truth_data/2025-10-14-23-41-04/2025/10/15/02',\n",
       "    'LocalPath': '/opt/ml/processing/groundtruth/2025/10/15/02',\n",
       "    'S3DataType': 'S3Prefix',\n",
       "    'S3InputMode': 'File',\n",
       "    'S3DataDistributionType': 'FullyReplicated',\n",
       "    'S3CompressionType': 'None'}},\n",
       "  {'InputName': 'endpoint_input_1',\n",
       "   'AppManaged': False,\n",
       "   'S3Input': {'S3Uri': 's3://sagemaker-us-east-1-654654380268/sagemaker/FoodLens-ModelQualityMonitor-2025-10-14-23-41-04/datacapture/xgb-nutriscore-model-quality-monitor-2025-10-14-23-41-12/AllTraffic/2025/10/15/02',\n",
       "    'LocalPath': '/opt/ml/processing/input_data/xgb-nutriscore-model-quality-monitor-2025-10-14-23-41-12/AllTraffic/2025/10/15/02',\n",
       "    'S3DataType': 'S3Prefix',\n",
       "    'S3InputMode': 'File',\n",
       "    'S3DataDistributionType': 'FullyReplicated',\n",
       "    'S3CompressionType': 'None'}}],\n",
       " 'ProcessingOutputConfig': {'Outputs': [{'OutputName': 'result',\n",
       "    'S3Output': {'S3Uri': 's3://sagemaker-us-east-1-654654380268/sagemaker/FoodLens-ModelQualityMonitor-2025-10-14-23-41-04/baselining/results/merge',\n",
       "     'LocalPath': '/opt/ml/processing/output',\n",
       "     'S3UploadMode': 'EndOfJob'},\n",
       "    'AppManaged': False}]},\n",
       " 'ProcessingJobName': 'groundtruth-merge-202510150300-6c3c6906f323caa235d647e6',\n",
       " 'ProcessingResources': {'ClusterConfig': {'InstanceCount': 1,\n",
       "   'InstanceType': 'ml.m5.xlarge',\n",
       "   'VolumeSizeInGB': 20}},\n",
       " 'StoppingCondition': {'MaxRuntimeInSeconds': 1800},\n",
       " 'AppSpecification': {'ImageUri': '156813124566.dkr.ecr.us-east-1.amazonaws.com/sagemaker-model-monitor-groundtruth-merger'},\n",
       " 'Environment': {'dataset_format': '{\"sagemakerCaptureJson\":{\"captureIndexNames\":null}}',\n",
       "  'dataset_source': '/opt/ml/processing/input_data',\n",
       "  'end_time': '2025-10-15T03:00:00Z',\n",
       "  'ground_truth_source': '/opt/ml/processing/groundtruth',\n",
       "  'monitoring_input_type': 'ENDPOINT_INPUT',\n",
       "  'output_path': '/opt/ml/processing/output',\n",
       "  'start_time': '2025-10-15T02:00:00Z'},\n",
       " 'RoleArn': 'arn:aws:iam::654654380268:role/LabRole',\n",
       " 'ProcessingJobArn': 'arn:aws:sagemaker:us-east-1:654654380268:processing-job/groundtruth-merge-202510150300-6c3c6906f323caa235d647e6',\n",
       " 'ProcessingJobStatus': 'InProgress',\n",
       " 'LastModifiedTime': datetime.datetime(2025, 10, 15, 3, 9, 27, 240000, tzinfo=tzlocal()),\n",
       " 'CreationTime': datetime.datetime(2025, 10, 15, 3, 9, 26, 654000, tzinfo=tzlocal()),\n",
       " 'MonitoringScheduleArn': 'arn:aws:sagemaker:us-east-1:654654380268:monitoring-schedule/nutriscore-monitoring-schedule-2025-10-15-01-59-01',\n",
       " 'ResponseMetadata': {'RequestId': 'd1ccff61-044f-4490-b8d7-07e0d57ba706',\n",
       "  'HTTPStatusCode': 200,\n",
       "  'HTTPHeaders': {'x-amzn-requestid': 'd1ccff61-044f-4490-b8d7-07e0d57ba706',\n",
       "   'content-type': 'application/x-amz-json-1.1',\n",
       "   'content-length': '2352',\n",
       "   'date': 'Wed, 15 Oct 2025 03:09:44 GMT'},\n",
       "  'RetryAttempts': 0}}"
      ]
     },
     "execution_count": 91,
     "metadata": {},
     "output_type": "execute_result"
    }
   ],
   "source": [
    "# View execution details\n",
    "while not executions:\n",
    "    executions = nutriscore_model_quality_monitor.list_executions()\n",
    "    print(\".\", end=\"\", flush=True)\n",
    "    sleep(10)\n",
    "latest_execution = executions[-1]\n",
    "latest_execution.describe()"
   ]
  },
  {
   "cell_type": "code",
   "execution_count": null,
   "id": "ef051c3a-f114-407b-ac04-46846fe97568",
   "metadata": {
    "execution": {
     "iopub.execute_input": "2025-10-15T03:09:44.795682Z",
     "iopub.status.busy": "2025-10-15T03:09:44.795130Z",
     "iopub.status.idle": "2025-10-15T03:20:04.565197Z"
    }
   },
   "outputs": [
    {
     "name": "stdout",
     "output_type": "stream",
     "text": [
      "Waiting for execution to finish........................................................!\n",
      "groundtruth-merge-202510150300-6c3c6906f323caa235d647e6 job status: Completed\n",
      "groundtruth-merge-202510150300-6c3c6906f323caa235d647e6 job exit message, if any: None\n",
      "groundtruth-merge-202510150300-6c3c6906f323caa235d647e6 job failure reason, if any: None\n",
      "Waiting for execution to finish....................................................!\n",
      "model-quality-monitoring-202510150300-6c3c6906f323caa235d647e6 job status: Completed\n",
      "model-quality-monitoring-202510150300-6c3c6906f323caa235d647e6 job exit message, if any: Completed: Job completed successfully with no violations.\n",
      "model-quality-monitoring-202510150300-6c3c6906f323caa235d647e6 job failure reason, if any: None\n",
      "Execution status is: Completed\n"
     ]
    }
   ],
   "source": [
    "# View execution status\n",
    "status = execution[\"MonitoringExecutionStatus\"]\n",
    "\n",
    "while status in [\"Pending\", \"InProgress\"]:\n",
    "    print(\"Waiting for execution to finish\", end=\"\")\n",
    "    latest_execution.wait(logs=False)\n",
    "    latest_job = latest_execution.describe()\n",
    "    print()\n",
    "    print(f\"{latest_job['ProcessingJobName']} job status:\", latest_job[\"ProcessingJobStatus\"])\n",
    "    print(\n",
    "        f\"{latest_job['ProcessingJobName']} job exit message, if any:\",\n",
    "        latest_job.get(\"ExitMessage\"),\n",
    "    )\n",
    "    print(\n",
    "        f\"{latest_job['ProcessingJobName']} job failure reason, if any:\",\n",
    "        latest_job.get(\"FailureReason\"),\n",
    "    )\n",
    "    sleep(\n",
    "        30\n",
    "    )  # model quality executions consist of two Processing jobs, wait for second job to start\n",
    "    latest_execution = nutriscore_model_quality_monitor.list_executions()[-1]\n",
    "    execution = nutriscore_model_quality_monitor.describe_schedule()[\"LastMonitoringExecutionSummary\"]\n",
    "    status = execution[\"MonitoringExecutionStatus\"]\n",
    "\n",
    "print(\"Execution status is:\", status)\n",
    "\n",
    "if status != \"Completed\":\n",
    "    print(execution)\n",
    "    print(\n",
    "        \"====STOP==== \\n No completed executions to inspect further. Please wait till an execution completes or investigate previously reported failures.\"\n",
    "    )"
   ]
  },
  {
   "cell_type": "code",
   "execution_count": 95,
   "id": "c9960ca8-cc7b-4f67-a579-e35807c5bf34",
   "metadata": {
    "execution": {
     "iopub.execute_input": "2025-10-15T03:34:52.629597Z",
     "iopub.status.busy": "2025-10-15T03:34:52.629301Z",
     "iopub.status.idle": "2025-10-15T03:34:52.795317Z",
     "shell.execute_reply": "2025-10-15T03:34:52.794511Z",
     "shell.execute_reply.started": "2025-10-15T03:34:52.629576Z"
    }
   },
   "outputs": [
    {
     "name": "stdout",
     "output_type": "stream",
     "text": [
      "Report Uri: s3://sagemaker-us-east-1-654654380268/sagemaker/FoodLens-ModelQualityMonitor-2025-10-14-23-41-04/baselining/results/xgb-nutriscore-model-quality-monitor-2025-10-14-23-41-12/nutriscore-monitoring-schedule-2025-10-15-01-59-01/2025/10/15/03\n"
     ]
    }
   ],
   "source": [
    "# View generated report uri\n",
    "latest_execution = nutriscore_model_quality_monitor.list_executions()[-1]\n",
    "report_uri = latest_execution.describe()[\"ProcessingOutputConfig\"][\"Outputs\"][0][\"S3Output\"][\n",
    "    \"S3Uri\"\n",
    "]\n",
    "print(\"Report Uri:\", report_uri)"
   ]
  },
  {
   "cell_type": "code",
   "execution_count": 96,
   "id": "2da9d5e3-a4ec-4b99-afaa-721e7c8d1ba0",
   "metadata": {
    "execution": {
     "iopub.execute_input": "2025-10-15T03:35:01.698212Z",
     "iopub.status.busy": "2025-10-15T03:35:01.697786Z",
     "iopub.status.idle": "2025-10-15T03:35:01.856942Z",
     "shell.execute_reply": "2025-10-15T03:35:01.851009Z",
     "shell.execute_reply.started": "2025-10-15T03:35:01.698186Z"
    }
   },
   "outputs": [
    {
     "data": {
      "text/html": [
       "<div>\n",
       "<style scoped>\n",
       "    .dataframe tbody tr th:only-of-type {\n",
       "        vertical-align: middle;\n",
       "    }\n",
       "\n",
       "    .dataframe tbody tr th {\n",
       "        vertical-align: top;\n",
       "    }\n",
       "\n",
       "    .dataframe thead th {\n",
       "        text-align: right;\n",
       "    }\n",
       "</style>\n",
       "<table border=\"1\" class=\"dataframe\">\n",
       "  <thead>\n",
       "    <tr style=\"text-align: right;\">\n",
       "      <th></th>\n",
       "    </tr>\n",
       "  </thead>\n",
       "  <tbody>\n",
       "  </tbody>\n",
       "</table>\n",
       "</div>"
      ],
      "text/plain": [
       "Empty DataFrame\n",
       "Columns: []\n",
       "Index: []"
      ]
     },
     "execution_count": 96,
     "metadata": {},
     "output_type": "execute_result"
    }
   ],
   "source": [
    "# View violations generated by monitoring schedule\n",
    "pd.options.display.max_colwidth = None\n",
    "violations = latest_execution.constraint_violations().body_dict[\"violations\"]\n",
    "violations_df = pd.json_normalize(violations)\n",
    "violations_df.head(10)"
   ]
  },
  {
   "cell_type": "markdown",
   "id": "49247b3f-a8e2-42e8-89fd-634f25afb410",
   "metadata": {},
   "source": [
    "## Create Quality CloudWatch Alarm"
   ]
  },
  {
   "cell_type": "code",
   "execution_count": 61,
   "id": "446f0ef2-0300-4a2e-b81f-b473eddf08bd",
   "metadata": {
    "execution": {
     "iopub.execute_input": "2025-10-15T01:26:49.094703Z",
     "iopub.status.busy": "2025-10-15T01:26:49.094427Z",
     "iopub.status.idle": "2025-10-15T01:26:49.098173Z",
     "shell.execute_reply": "2025-10-15T01:26:49.097720Z",
     "shell.execute_reply.started": "2025-10-15T01:26:49.094682Z"
    }
   },
   "outputs": [
    {
     "name": "stdout",
     "output_type": "stream",
     "text": [
      "RMSE Threshold from baseline constraints: 1.7633795545163906\n",
      "RMSE Comparison Operator from baseline constraints: GreaterThanThreshold\n"
     ]
    }
   ],
   "source": [
    "# Get thresholds from baseline constraints\n",
    "rmse_threshold = regression_constraints.loc['rmse', 'threshold']\n",
    "rmse_operator = regression_constraints.loc['rmse', 'comparison_operator']\n",
    "print(f\"RMSE Threshold from baseline constraints: {rmse_threshold}\")\n",
    "print(f\"RMSE Comparison Operator from baseline constraints: {rmse_operator}\")"
   ]
  },
  {
   "cell_type": "code",
   "execution_count": 62,
   "id": "45690066-ddda-4be2-a852-92245903862b",
   "metadata": {
    "execution": {
     "iopub.execute_input": "2025-10-15T01:26:55.414824Z",
     "iopub.status.busy": "2025-10-15T01:26:55.414560Z",
     "iopub.status.idle": "2025-10-15T01:26:55.578205Z",
     "shell.execute_reply": "2025-10-15T01:26:55.577553Z",
     "shell.execute_reply.started": "2025-10-15T01:26:55.414805Z"
    }
   },
   "outputs": [
    {
     "name": "stdout",
     "output_type": "stream",
     "text": [
      "Creating CloudWatch alarm for RMSE...\n"
     ]
    },
    {
     "data": {
      "text/plain": [
       "{'ResponseMetadata': {'RequestId': '47dc7741-39fe-426b-a9c1-45e989dd4df2',\n",
       "  'HTTPStatusCode': 200,\n",
       "  'HTTPHeaders': {'x-amzn-requestid': '47dc7741-39fe-426b-a9c1-45e989dd4df2',\n",
       "   'content-type': 'text/xml',\n",
       "   'content-length': '214',\n",
       "   'date': 'Wed, 15 Oct 2025 01:26:55 GMT'},\n",
       "  'RetryAttempts': 0}}"
      ]
     },
     "execution_count": 62,
     "metadata": {},
     "output_type": "execute_result"
    }
   ],
   "source": [
    "# Create a CloudWatch Alarm for a regression metrics\n",
    "print(\"Creating CloudWatch alarm for RMSE...\")\n",
    "alarm_name = \"NUTRISCORE_MODEL_RMSE_DRIFT\"\n",
    "alarm_desc = \"Trigger an alarm when the model's RMSE exceeds the baseline threshold.\"\n",
    "cw_quality_dimensions = [\n",
    "    {\"Name\": \"Endpoint\", \"Value\": endpoint_name},\n",
    "    {\"Name\": \"MonitoringSchedule\", \"Value\": nutriscore_monitor_schedule_name},\n",
    "]\n",
    "\n",
    "cw_client.put_metric_alarm(\n",
    "    AlarmName=alarm_name,\n",
    "    AlarmDescription=alarm_desc,\n",
    "    ActionsEnabled=True,\n",
    "    MetricName=\"rmse\",\n",
    "    Namespace=namespace,\n",
    "    Statistic=\"Average\",\n",
    "    Dimensions=cw_quality_dimensions,\n",
    "    Period=3600, # Checks every hour\n",
    "    EvaluationPeriods=1,\n",
    "    DatapointsToAlarm=1,\n",
    "    Threshold=rmse_threshold,\n",
    "    ComparisonOperator=rmse_operator,\n",
    "    TreatMissingData=\"breaching\",\n",
    ")"
   ]
  },
  {
   "cell_type": "markdown",
   "id": "22d049b2-c896-4ab9-9799-89e66fc64d8a",
   "metadata": {},
   "source": [
    "## Cleanup"
   ]
  },
  {
   "cell_type": "code",
   "execution_count": 14,
   "id": "6eb476b9-1bf2-43af-b7f1-435e711fe03d",
   "metadata": {
    "execution": {
     "iopub.execute_input": "2025-10-16T04:28:46.615609Z",
     "iopub.status.busy": "2025-10-16T04:28:46.615339Z",
     "iopub.status.idle": "2025-10-16T04:28:52.591620Z",
     "shell.execute_reply": "2025-10-16T04:28:52.590827Z",
     "shell.execute_reply.started": "2025-10-16T04:28:46.615588Z"
    }
   },
   "outputs": [
    {
     "name": "stderr",
     "output_type": "stream",
     "text": [
      "INFO:sagemaker:Deleting Monitoring Schedule with name: nutriscore-data-quality-schedule-2025-10-16-04-03-47\n",
      "INFO:sagemaker.model_monitor.model_monitoring:Deleting Data Quality Job Definition with name: data-quality-job-definition-2025-10-16-04-03-48-027\n",
      "INFO:sagemaker:Deleting endpoint configuration with name: xgb-nutriscore-model-quality-monitor-2025-10-16-03-30-33\n",
      "INFO:sagemaker:Deleting endpoint with name: xgb-nutriscore-model-quality-monitor-2025-10-16-03-30-33\n"
     ]
    }
   ],
   "source": [
    "# Delete monitoring schedules\n",
    "nutriscore_model_quality_monitor.delete_monitoring_schedule()\n",
    "data_quality_monitor.delete_monitoring_schedule()\n",
    "predictor.delete_endpoint()"
   ]
  }
 ],
 "metadata": {
  "kernelspec": {
   "display_name": "Python 3 (ipykernel)",
   "language": "python",
   "name": "python3"
  },
  "language_info": {
   "codemirror_mode": {
    "name": "ipython",
    "version": 3
   },
   "file_extension": ".py",
   "mimetype": "text/x-python",
   "name": "python",
   "nbconvert_exporter": "python",
   "pygments_lexer": "ipython3",
   "version": "3.12.9"
  }
 },
 "nbformat": 4,
 "nbformat_minor": 5
}
